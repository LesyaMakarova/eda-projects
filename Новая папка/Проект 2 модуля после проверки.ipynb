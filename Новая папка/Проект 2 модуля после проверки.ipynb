{
 "cells": [
  {
   "cell_type": "markdown",
   "metadata": {},
   "source": [
    "<div style=\"border:solid Chocolate 2px; padding: 40px\">\n",
    "\n",
    "<b>Привет!</b>\n",
    "\n",
    "Меня зовут Дмитрий Михаленко, я буду ревьюером твоего проекта. Если ты не против, то предлагаю построить наше общение на \"ты\" ;) Если удобнее на \"вы\", то нет проблем, только скажи об этом. \n",
    "\n",
    "Ниже в работе ты найдешь мои комментарии - **пожалуйста, не перемещай, не изменяй и не удаляй их**.\n",
    "    \n",
    "Для наглядности я буду использовать цветовую разметку:\n",
    "<font color='green'>зеленого</font>, <font color='gold'>желтого</font> и <font color='red'>красного</font> цветов. Сейчас объясню, что они значат:\n",
    "\n",
    "<br/>\n",
    "\n",
    "<div class=\"alert alert-success\">\n",
    "<h2> Комментарий ревьюера <a class=\"tocSkip\"> </h2>\n",
    "\n",
    "<b>Все супер!👍:</b> Решение на этом шаге является полностью правильным.\n",
    "</div>\n",
    "\n",
    "<br/>\n",
    "\n",
    "<div class=\"alert alert-warning\">\n",
    "    <h2> Комментарий ревьюера <a class=\"tocSkip\"> </h2>\n",
    "    \n",
    "<b>Небольшие замечания и рекомендации💡:</b> Решение на этом шаге может стать еще лучше, если внести небольшие коррективы.\n",
    "Но настаивать я не буду.\n",
    "</div>\n",
    "\n",
    "\n",
    "<br/>\n",
    "<div class=\"alert alert-block alert-danger\">\n",
    "<h2> Комментарий ревьюера <a class=\"tocSkip\"></h2>\n",
    "\n",
    "    \n",
    "<b>На доработку🤔:</b>\n",
    "Для правильного решения задачи на этом шаге необходимо внести правки. Напоминаю, что проект не может быть принят, без их отработки.\n",
    "</div>\n",
    "\n",
    "Для продуктивной работы прошу: **если ты что-то меняешь в проекте или отвечаешь на мои комментарии — пиши об этом**\n",
    "Мне будет легче отследить изменения, если ты тоже выделишь свои комментарии:\n",
    "    \n",
    "<div class=\"alert alert-info\"> <b>Комментарий студента:</b> Например, вот так.</div>\n",
    "\n",
    "Всё это поможет выполнить повторную проверку твоего проекта оперативнее. \n",
    "        \n",
    "Увидев у тебя ошибку, в первый раз я лишь укажу на ее наличие и дам тебе возможность самому найти и исправить ее. На реальной работе твой начальник будет поступать так же, а я пытаюсь подготовить тебя именно к работе аналитиком. Но если ты пока не справишься с такой задачей - при следующей проверке я дам более точную подсказку."
   ]
  },
  {
   "cell_type": "markdown",
   "metadata": {
    "id": "4mJbK1knrJgz"
   },
   "source": [
    "# Проект: Исследование стартапов\n",
    "\n",
    "Автор: Олеся Макарова  \n",
    "Дата: 10.03.2025"
   ]
  },
  {
   "cell_type": "markdown",
   "metadata": {
    "id": "P6j0r3worJg0"
   },
   "source": [
    "## Введение"
   ]
  },
  {
   "cell_type": "markdown",
   "metadata": {},
   "source": [
    "Финансовая компания, предоставляющая льготные займы стартапам, планирует выйти на инвестиционный рынок, сосредоточившись на покупке, развитии и перепродаже перспективных стартапов. Для построения бизнес-модели требуется исследование исторических данных. Поскольку данные неполны, будем фиксировать логику обработки и ключевые выводы.\n",
    "\n",
    "**Цель проекта:** подготовить датасет с корректными данными и ответить на ключевые вопросы заказчика о предобработке и значении данных для бизнеса.\n",
    "\n",
    "**Задачи:** \n",
    "\n",
    "1. Загрузить данные и познакомиться с их содержимым.\n",
    "2. Провести предобработку данных, в ходе которой определить:\n",
    "  - по каким столбцам можно объединять данные из разных таблиц;\n",
    "  - можно ли доверять данным о сотрудниках стартапов и их образовании;\n",
    "  - что значат покупки за 0 или за 1 доллар;\n",
    "  - какая цена в зависимости от категории стартапов и количества раундов финансирования перед его покупкой;\n",
    "  - как рассчитать и отобразить численные показатели и динамику.\n",
    "3. Провести исследовательский анализ данных.\n",
    "4. Сформулировать выводы по проведённому анализу.\n",
    "\n"
   ]
  },
  {
   "cell_type": "markdown",
   "metadata": {
    "id": "xqr6uttCrJg0"
   },
   "source": [
    "\n",
    "## Шаг 1. Знакомство с данными: загрузка и первичная предобработка\n",
    "\n",
    "\n",
    "В проекте будут использованы данные из семи датасетов: `acquisition.csv`, `company_and_rounds.csv`, `people.csv`, `education.csv`, `degrees.csv`, `fund.csv`, `investment.csv`.\n",
    "\n",
    "**Описание датасета `acquisition.csv`:**  \n",
    "Содержит информацию о покупках одними компаниями других компаний:\n",
    "- `id` — идентификатор покупки. \n",
    "- `acquiring_company_id` — идентификатор покупающей компании.\n",
    "- `acquired_company_id` — идентификатор покупаемой компании.\n",
    "- `term_code` — варианты расчёта.\n",
    "- `price_amount` — сумма сделки.\n",
    "- `acquired_at` — дата сделки.\n",
    "\n",
    "**Описание датасета `company_and_rounds.csv`:**  \n",
    "Содержит информацию о компаниях и раундах финансирования:\n",
    "- `company ID` — идентификатор компании.\n",
    "- `name` — название компании.\n",
    "- `category code` — категория области деятельности компании.\n",
    "- `status` — статус компании.\n",
    "- `founded at` — дата инвестирования.\n",
    "- `closed at` — дата закрытия компании.\n",
    "- `domain` — официальный сайт компании.\n",
    "- `network username` — ник компании в сети.\n",
    "- `country code` — код страны компании.\n",
    "- `investment rounds` — число инвестиционных раундов.\n",
    "- `funding rounds` — число раундов финансирования.\n",
    "- `funding total` — сумма финансирования.\n",
    "- `milestones` — вехи финансирования.\n",
    "- `funding round id` — идентификатор этапа финансирования.\n",
    "- `company id` — идентификатор компании.\n",
    "- `funded at` — дата финансирования.\n",
    "- `funding round type` — тип финансирования.\n",
    "- `raised amount` — сумма финансирования.\n",
    "- `pre money valuation` — предварительная денежная оценка.\n",
    "- `participants` — число участников.\n",
    "- `is first round` — является ли раунд первым.\n",
    "- `is last round` — является раунд последним.\n",
    "\n",
    "**Описание датасета `people.csv`:**  \n",
    "Содержит информацию о сотрудниках:\n",
    "- `id` — идентификатор сотрудника.\n",
    "- `first_name` — имя сотрудника.\n",
    "- `last_name` — фамилия сотрудника.\n",
    "- `company_id` — идентификатор компании.\n",
    "- `network_username` — ник в социальных сетях.\n",
    "\n",
    "**Описание датасета `education.csv`:**  \n",
    "Содержит информацию об образовании сотрудника:\n",
    "- `id` — идентификатор записи об образовании.\n",
    "- `person_id` — идентификатор работника.\n",
    "- `instituition` — название учебного заведения.\n",
    "- `graduated_at` — дата получения образования.\n",
    "\n",
    "**Описание датасета `degrees.csv`:**  \n",
    "Содержит информацию о типе образования сотрудника:\n",
    "- `id` — идентификатор записи.\n",
    "- `object_id` — идентификатор сотрудника.\n",
    "- `degree_type` — тип образования.\n",
    "- `subject` — специальность.\n",
    "\n",
    "**Описание датасета `fund.csv`:** \n",
    "- `id` — идентификатор фонда.\n",
    "- `name` — название фонда.\n",
    "- `category_code` — категория области деятельности компании.\n",
    "- `founded_at` — дата создания фонда.\n",
    "- `domain` — сайт фонда.\n",
    "- `network_username` — ник фонда в сети.\n",
    "- `country_code` — код страны фонда.\n",
    "- `investment_rounds` — число инвестиционных раундов.\n",
    "- `invested_companies` — число профинансированных компаний.\n",
    "- `milestones` — вехи финансирования.\n",
    "\n",
    "**Описание датасета `investment.csv`:** \n",
    "- `id` — идентификатор этапа инвестирования.\n",
    "- `funding_round_id` — идентификатор раунда инвестирования.\n",
    "- `company_id` — индентификатор компании.\n",
    "- `funding_round_type` — тип финансирования.\n",
    "- `fund_id` — идентификатор фонда."
   ]
  },
  {
   "cell_type": "markdown",
   "metadata": {},
   "source": [
    "<div class=\"alert alert-warning\">\n",
    "    <h2> Комментарий ревьюера v1 <a class=\"tocSkip\"> </h2>\n",
    "    \n",
    "<b>Небольшие замечания и рекомендации💡:</b> Хорошая база для введения. Можно добавить еще информацию об авторе, задачи и план работы, тогда оно будет идеальным. Важно начать так, чтобы твой будущий работодатель знал все ключевые моменты проекта и мог объективно оценить принимаемые тобой решения."
   ]
  },
  {
   "cell_type": "markdown",
   "metadata": {},
   "source": [
    "<div class=\"alert alert-info\">✔️ Комментарии студента:  \n",
    "    \n",
    "\n",
    "    \n",
    "    \n",
    "Дмитрий, привет! Готово.\n",
    "    "
   ]
  },
  {
   "cell_type": "markdown",
   "metadata": {},
   "source": [
    "<div class=\"alert alert-success\">\n",
    "<h2> Комментарий ревьюера v2 <a class=\"tocSkip\"> </h2>\n",
    "\n",
    "<b>Все супер!👍:</b>Привет еще раз, иы обязательно вместе со всем разберемся, поехали)"
   ]
  },
  {
   "cell_type": "markdown",
   "metadata": {
    "colab": {
     "base_uri": "https://localhost:8080/"
    },
    "id": "W_W4jRazrJg0",
    "outputId": "d2409aad-233f-4bb4-ec71-7da96594f9df",
    "vscode": {
     "languageId": "plaintext"
    }
   },
   "source": [
    "### 1.1. Вывод общей информации, исправление названия столбцов\n"
   ]
  },
  {
   "cell_type": "markdown",
   "metadata": {
    "id": "2Tm4Pk__Felf"
   },
   "source": [
    "**Загрузим необходимые библиотеки:**"
   ]
  },
  {
   "cell_type": "code",
   "execution_count": 1,
   "metadata": {
    "id": "oNqJ2qpRFebv"
   },
   "outputs": [
    {
     "name": "stdout",
     "output_type": "stream",
     "text": [
      "Requirement already satisfied: phik in /Users/olesyamakarova/opt/anaconda3/lib/python3.9/site-packages (0.12.4)\n",
      "Requirement already satisfied: scipy>=1.5.2 in /Users/olesyamakarova/opt/anaconda3/lib/python3.9/site-packages (from phik) (1.10.1)\n",
      "Requirement already satisfied: numpy>=1.18.0 in /Users/olesyamakarova/opt/anaconda3/lib/python3.9/site-packages (from phik) (1.22.4)\n",
      "Requirement already satisfied: pandas>=0.25.1 in /Users/olesyamakarova/opt/anaconda3/lib/python3.9/site-packages (from phik) (1.3.4)\n",
      "Requirement already satisfied: matplotlib>=2.2.3 in /Users/olesyamakarova/opt/anaconda3/lib/python3.9/site-packages (from phik) (3.4.3)\n",
      "Requirement already satisfied: joblib>=0.14.1 in /Users/olesyamakarova/opt/anaconda3/lib/python3.9/site-packages (from phik) (1.1.0)\n",
      "Requirement already satisfied: kiwisolver>=1.0.1 in /Users/olesyamakarova/opt/anaconda3/lib/python3.9/site-packages (from matplotlib>=2.2.3->phik) (1.3.1)\n",
      "Requirement already satisfied: pillow>=6.2.0 in /Users/olesyamakarova/opt/anaconda3/lib/python3.9/site-packages (from matplotlib>=2.2.3->phik) (8.4.0)\n",
      "Requirement already satisfied: python-dateutil>=2.7 in /Users/olesyamakarova/opt/anaconda3/lib/python3.9/site-packages (from matplotlib>=2.2.3->phik) (2.8.2)\n",
      "Requirement already satisfied: pyparsing>=2.2.1 in /Users/olesyamakarova/opt/anaconda3/lib/python3.9/site-packages (from matplotlib>=2.2.3->phik) (3.0.4)\n",
      "Requirement already satisfied: cycler>=0.10 in /Users/olesyamakarova/opt/anaconda3/lib/python3.9/site-packages (from matplotlib>=2.2.3->phik) (0.10.0)\n",
      "Requirement already satisfied: six in /Users/olesyamakarova/opt/anaconda3/lib/python3.9/site-packages (from cycler>=0.10->matplotlib>=2.2.3->phik) (1.16.0)\n",
      "Requirement already satisfied: pytz>=2017.3 in /Users/olesyamakarova/opt/anaconda3/lib/python3.9/site-packages (from pandas>=0.25.1->phik) (2021.3)\n"
     ]
    }
   ],
   "source": [
    "!pip install phik"
   ]
  },
  {
   "cell_type": "code",
   "execution_count": 2,
   "metadata": {},
   "outputs": [
    {
     "name": "stdout",
     "output_type": "stream",
     "text": [
      "phik is available\n"
     ]
    }
   ],
   "source": [
    "try:\n",
    "    import pandas as pd\n",
    "    import numpy as np\n",
    "    import seaborn as sns\n",
    "    import matplotlib.pyplot as plt\n",
    "    import warnings\n",
    "\n",
    "    from matplotlib.colors import (\n",
    "    LinearSegmentedColormap,\n",
    ")\n",
    "\n",
    "# Загружаем библиотеку для расчёта коэффициента корреляции phi_k\n",
    "    from phik import phik_matrix\n",
    "except ImportError as e:\n",
    "        print(f'Ошибка импорта:{e}')\n",
    "        pass\n",
    "    \n",
    "if 'phik_matrix' in globals ():\n",
    "    print(\"phik is available\")\n",
    "else:\n",
    "    print('phik is not available')\n",
    "\n",
    "warnings.filterwarnings(\"ignore\")"
   ]
  },
  {
   "cell_type": "markdown",
   "metadata": {},
   "source": [
    "<div class=\"alert alert-warning\">\n",
    "    <h2> Комментарий ревьюера v1 <a class=\"tocSkip\"> </h2>\n",
    "    \n",
    "<b>Небольшие замечания и рекомендации💡:</b> Рекомендую устанавливать библиотеки через `try-except`, чтобы лишний раз не прогружать окружение.\n",
    "  \n",
    "Если на 2ой итерации применения библиотеке `phik` не найдётся, то её импорт можно закомментировать        "
   ]
  },
  {
   "cell_type": "markdown",
   "metadata": {},
   "source": [
    "<div class=\"alert alert-info\">✔️ Комментарии студента:  \n",
    "    \n",
    "    \n",
    "    \n",
    "    \n",
    " Сделано."
   ]
  },
  {
   "cell_type": "markdown",
   "metadata": {},
   "source": [
    "<div class=\"alert alert-warning\">\n",
    "    <h2> Комментарий ревьюера v2 <a class=\"tocSkip\"> </h2>\n",
    "    \n",
    "<b>Небольшие замечания и рекомендации💡:</b> Хорошо, но можно пойти немного дальше и устанавливать  `phik` только если ее загрузка невозможна из-за ее отсутствия"
   ]
  },
  {
   "cell_type": "markdown",
   "metadata": {},
   "source": [
    "**Загрузим датасеты `acquisition.csv`, `company_and_rounds.csv`, `people.csv`, `education.csv`, `degrees.csv`, `fund.csv`, `investment.csv`:**"
   ]
  },
  {
   "cell_type": "code",
   "execution_count": 8,
   "metadata": {},
   "outputs": [
    {
     "name": "stdout",
     "output_type": "stream",
     "text": [
      "Файл acquisition.csv загружен локально\n",
      "Файл company_and_rounds.csv загружен локально\n",
      "Файл people.csv загружен локально\n",
      "Файл education.csv загружен локально\n",
      "Файл degrees.csv загружен локально\n",
      "Файл fund.csv загружен локально\n",
      "Файл investment.csv загружен локально\n"
     ]
    }
   ],
   "source": [
    "# Пишем условие, чтобы можно было загрузить локально и через URL\n",
    "\n",
    "# Локальные файлы и их имена\n",
    "files = {\n",
    "    \"df_acquisition\": \"acquisition.csv\",\n",
    "    \"df_company_and_rounds\": \"company_and_rounds.csv\",\n",
    "    \"df_people\": \"people.csv\",\n",
    "    \"df_education\": \"education.csv\",\n",
    "    \"df_degrees\": \"degrees.csv\",\n",
    "    \"df_fund\": \"fund.csv\",\n",
    "    \"df_investment\": \"investment.csv\"\n",
    "}\n",
    "\n",
    "# Базовый URL для загрузки\n",
    "base_url = \"https://code.s3.yandex.net/datasets/\"\n",
    "\n",
    "# Загрузка файлов\n",
    "for var_name, file_path in files.items():\n",
    "    try:\n",
    "        globals()[var_name] = pd.read_csv(file_path)  # Пробуем загрузить локальный файл\n",
    "        print(f\"Файл {file_path} загружен локально\")\n",
    "    except FileNotFoundError:\n",
    "        try:\n",
    "            globals()[var_name] = pd.read_csv(base_url + file_path)  # Если локального файла нет, грузим с URL\n",
    "            print(f\"Файл {file_path} загружен с URL\")\n",
    "        except Exception as e:\n",
    "            print(f\"Ошибка при загрузке {file_path}: {e}\")\n"
   ]
  },
  {
   "cell_type": "markdown",
   "metadata": {},
   "source": [
    "<div class=\"alert alert-warning\">\n",
    "    <h2> Комментарий ревьюера v1 <a class=\"tocSkip\"> </h2>\n",
    "    \n",
    "<b>Небольшие замечания и рекомендации💡:</b>Это не ошибка и в проекте нам действительно потребуются только 5 датасетов, но заказчик предоставил ним больше исходных данных и хорошо бы либо загрузить их все в проект либо объяснись свое решение не делать этого, чтобы у пользователей не вонитло ощущения, что ты что-то \"забыла\" "
   ]
  },
  {
   "cell_type": "markdown",
   "metadata": {},
   "source": [
    "<div class=\"alert alert-info\">✔️ Комментарии студента:  \n",
    "    \n",
    "    \n",
    "    \n",
    "    \n",
    " Загрузила недостающие."
   ]
  },
  {
   "cell_type": "markdown",
   "metadata": {},
   "source": [
    "<div class=\"alert alert-success\">\n",
    "<h2> Комментарий ревьюера v2 <a class=\"tocSkip\"> </h2>\n",
    "\n",
    "<b>Все супер!👍:</b>Прекрасное решение"
   ]
  },
  {
   "cell_type": "markdown",
   "metadata": {},
   "source": [
    "**Познакомимся с данными датасета `acquisition.csv` - выведем названия столбцов и информацию о датасете.**"
   ]
  },
  {
   "cell_type": "code",
   "execution_count": 9,
   "metadata": {},
   "outputs": [
    {
     "data": {
      "text/plain": [
       "['id',\n",
       " 'acquiring_company_id',\n",
       " 'acquired_company_id',\n",
       " 'term_code',\n",
       " 'price_amount',\n",
       " 'acquired_at']"
      ]
     },
     "execution_count": 9,
     "metadata": {},
     "output_type": "execute_result"
    }
   ],
   "source": [
    "# Выведем наименования столбцов\n",
    "list(df_acquisition.columns)"
   ]
  },
  {
   "cell_type": "code",
   "execution_count": 10,
   "metadata": {},
   "outputs": [
    {
     "data": {
      "text/html": [
       "<div>\n",
       "<style scoped>\n",
       "    .dataframe tbody tr th:only-of-type {\n",
       "        vertical-align: middle;\n",
       "    }\n",
       "\n",
       "    .dataframe tbody tr th {\n",
       "        vertical-align: top;\n",
       "    }\n",
       "\n",
       "    .dataframe thead th {\n",
       "        text-align: right;\n",
       "    }\n",
       "</style>\n",
       "<table border=\"1\" class=\"dataframe\">\n",
       "  <thead>\n",
       "    <tr style=\"text-align: right;\">\n",
       "      <th></th>\n",
       "      <th>id</th>\n",
       "      <th>acquiring_company_id</th>\n",
       "      <th>acquired_company_id</th>\n",
       "      <th>term_code</th>\n",
       "      <th>price_amount</th>\n",
       "      <th>acquired_at</th>\n",
       "    </tr>\n",
       "  </thead>\n",
       "  <tbody>\n",
       "    <tr>\n",
       "      <th>0</th>\n",
       "      <td>1</td>\n",
       "      <td>11</td>\n",
       "      <td>10</td>\n",
       "      <td>NaN</td>\n",
       "      <td>20000000</td>\n",
       "      <td>2007-05-30</td>\n",
       "    </tr>\n",
       "    <tr>\n",
       "      <th>1</th>\n",
       "      <td>7</td>\n",
       "      <td>59</td>\n",
       "      <td>72</td>\n",
       "      <td>cash</td>\n",
       "      <td>60000000</td>\n",
       "      <td>2007-07-01</td>\n",
       "    </tr>\n",
       "    <tr>\n",
       "      <th>2</th>\n",
       "      <td>8</td>\n",
       "      <td>24</td>\n",
       "      <td>132</td>\n",
       "      <td>cash</td>\n",
       "      <td>280000000</td>\n",
       "      <td>2007-05-01</td>\n",
       "    </tr>\n",
       "  </tbody>\n",
       "</table>\n",
       "</div>"
      ],
      "text/plain": [
       "   id  acquiring_company_id  acquired_company_id term_code  price_amount  \\\n",
       "0   1                    11                   10       NaN      20000000   \n",
       "1   7                    59                   72      cash      60000000   \n",
       "2   8                    24                  132      cash     280000000   \n",
       "\n",
       "  acquired_at  \n",
       "0  2007-05-30  \n",
       "1  2007-07-01  \n",
       "2  2007-05-01  "
      ]
     },
     "execution_count": 10,
     "metadata": {},
     "output_type": "execute_result"
    }
   ],
   "source": [
    "df_acquisition.head(3)"
   ]
  },
  {
   "cell_type": "code",
   "execution_count": 11,
   "metadata": {},
   "outputs": [
    {
     "name": "stdout",
     "output_type": "stream",
     "text": [
      "<class 'pandas.core.frame.DataFrame'>\n",
      "RangeIndex: 9407 entries, 0 to 9406\n",
      "Data columns (total 6 columns):\n",
      " #   Column                Non-Null Count  Dtype \n",
      "---  ------                --------------  ----- \n",
      " 0   id                    9407 non-null   int64 \n",
      " 1   acquiring_company_id  9407 non-null   int64 \n",
      " 2   acquired_company_id   9407 non-null   int64 \n",
      " 3   term_code             1831 non-null   object\n",
      " 4   price_amount          9407 non-null   int64 \n",
      " 5   acquired_at           9378 non-null   object\n",
      "dtypes: int64(4), object(2)\n",
      "memory usage: 441.1+ KB\n"
     ]
    }
   ],
   "source": [
    "df_acquisition.info()"
   ]
  },
  {
   "cell_type": "code",
   "execution_count": 12,
   "metadata": {},
   "outputs": [
    {
     "data": {
      "text/plain": [
       "2"
      ]
     },
     "execution_count": 12,
     "metadata": {},
     "output_type": "execute_result"
    }
   ],
   "source": [
    "# Посчитем сколько колонок имеют пропуски\n",
    "(df_acquisition.isnull().sum()>0).sum()\n"
   ]
  },
  {
   "cell_type": "markdown",
   "metadata": {},
   "source": [
    "Датасет `acquisition.csv` содержит 6 столбцов и 9407 строк, в которых представлена информация о покупках одними компаниями других компаний. После первичного анализа данных можно сделать следующие выводы:\n",
    "1. Наименования столбцов находятся в нижнем регистре в формате snake case и удобны для анализа.\n",
    "2. Пропуски значений обнаружены в двух столбцах `term_code` и `acquired_at`.\n",
    "3. Тип данных в столбце `acquired_at` требует корректировки (**object -> datetime64**) так как это дата.\n",
    "4. Рекомендуется провести дополнительную проверку на наличие дубликатов."
   ]
  },
  {
   "cell_type": "markdown",
   "metadata": {},
   "source": [
    "<div class=\"alert alert-success\">\n",
    "<h2> Комментарий ревьюера v1 <a class=\"tocSkip\"> </h2>\n",
    "\n",
    "<b>Все супер!👍:</b>  Хороший выбор методов для первичной оценки данных!"
   ]
  },
  {
   "cell_type": "markdown",
   "metadata": {},
   "source": [
    "**Познакомимся с данными датасета `company_and_rounds.csv` - выведем названия столбцов и информацию о датасете.**"
   ]
  },
  {
   "cell_type": "code",
   "execution_count": 13,
   "metadata": {},
   "outputs": [
    {
     "data": {
      "text/plain": [
       "['company  ID',\n",
       " 'name',\n",
       " 'category  code',\n",
       " 'status',\n",
       " 'founded  at',\n",
       " 'closed  at',\n",
       " 'domain',\n",
       " 'network  username',\n",
       " 'country  code',\n",
       " 'investment  rounds',\n",
       " 'funding  rounds',\n",
       " 'funding  total',\n",
       " 'milestones',\n",
       " 'funding  round  id',\n",
       " 'company  id',\n",
       " 'funded  at',\n",
       " 'funding  round  type',\n",
       " 'raised  amount',\n",
       " 'pre  money  valuation',\n",
       " 'participants',\n",
       " 'is  first  round',\n",
       " 'is  last  round']"
      ]
     },
     "execution_count": 13,
     "metadata": {},
     "output_type": "execute_result"
    }
   ],
   "source": [
    "# Выведем наименования столбцов\n",
    "list(df_company_and_rounds.columns)"
   ]
  },
  {
   "cell_type": "code",
   "execution_count": 14,
   "metadata": {},
   "outputs": [
    {
     "data": {
      "text/html": [
       "<div>\n",
       "<style scoped>\n",
       "    .dataframe tbody tr th:only-of-type {\n",
       "        vertical-align: middle;\n",
       "    }\n",
       "\n",
       "    .dataframe tbody tr th {\n",
       "        vertical-align: top;\n",
       "    }\n",
       "\n",
       "    .dataframe thead th {\n",
       "        text-align: right;\n",
       "    }\n",
       "</style>\n",
       "<table border=\"1\" class=\"dataframe\">\n",
       "  <thead>\n",
       "    <tr style=\"text-align: right;\">\n",
       "      <th></th>\n",
       "      <th>company  ID</th>\n",
       "      <th>name</th>\n",
       "      <th>category  code</th>\n",
       "      <th>status</th>\n",
       "      <th>founded  at</th>\n",
       "      <th>closed  at</th>\n",
       "      <th>domain</th>\n",
       "      <th>network  username</th>\n",
       "      <th>country  code</th>\n",
       "      <th>investment  rounds</th>\n",
       "      <th>...</th>\n",
       "      <th>milestones</th>\n",
       "      <th>funding  round  id</th>\n",
       "      <th>company  id</th>\n",
       "      <th>funded  at</th>\n",
       "      <th>funding  round  type</th>\n",
       "      <th>raised  amount</th>\n",
       "      <th>pre  money  valuation</th>\n",
       "      <th>participants</th>\n",
       "      <th>is  first  round</th>\n",
       "      <th>is  last  round</th>\n",
       "    </tr>\n",
       "  </thead>\n",
       "  <tbody>\n",
       "    <tr>\n",
       "      <th>0</th>\n",
       "      <td>1.00</td>\n",
       "      <td>Wetpaint</td>\n",
       "      <td>web</td>\n",
       "      <td>operating</td>\n",
       "      <td>2005-10-17</td>\n",
       "      <td>NaN</td>\n",
       "      <td>wetpaint-inc.com</td>\n",
       "      <td>BachelrWetpaint</td>\n",
       "      <td>USA</td>\n",
       "      <td>0.00</td>\n",
       "      <td>...</td>\n",
       "      <td>5.00</td>\n",
       "      <td>888.00</td>\n",
       "      <td>1.00</td>\n",
       "      <td>2005-10-01</td>\n",
       "      <td>series-a</td>\n",
       "      <td>5,250,000.00</td>\n",
       "      <td>0.00</td>\n",
       "      <td>2.00</td>\n",
       "      <td>0.00</td>\n",
       "      <td>1.00</td>\n",
       "    </tr>\n",
       "    <tr>\n",
       "      <th>1</th>\n",
       "      <td>1.00</td>\n",
       "      <td>Wetpaint</td>\n",
       "      <td>web</td>\n",
       "      <td>operating</td>\n",
       "      <td>2005-10-17</td>\n",
       "      <td>NaN</td>\n",
       "      <td>wetpaint-inc.com</td>\n",
       "      <td>BachelrWetpaint</td>\n",
       "      <td>USA</td>\n",
       "      <td>0.00</td>\n",
       "      <td>...</td>\n",
       "      <td>5.00</td>\n",
       "      <td>889.00</td>\n",
       "      <td>1.00</td>\n",
       "      <td>2007-01-01</td>\n",
       "      <td>series-b</td>\n",
       "      <td>9,500,000.00</td>\n",
       "      <td>0.00</td>\n",
       "      <td>3.00</td>\n",
       "      <td>0.00</td>\n",
       "      <td>0.00</td>\n",
       "    </tr>\n",
       "    <tr>\n",
       "      <th>2</th>\n",
       "      <td>1.00</td>\n",
       "      <td>Wetpaint</td>\n",
       "      <td>web</td>\n",
       "      <td>operating</td>\n",
       "      <td>2005-10-17</td>\n",
       "      <td>NaN</td>\n",
       "      <td>wetpaint-inc.com</td>\n",
       "      <td>BachelrWetpaint</td>\n",
       "      <td>USA</td>\n",
       "      <td>0.00</td>\n",
       "      <td>...</td>\n",
       "      <td>5.00</td>\n",
       "      <td>2,312.00</td>\n",
       "      <td>1.00</td>\n",
       "      <td>2008-05-19</td>\n",
       "      <td>series-c+</td>\n",
       "      <td>25,000,000.00</td>\n",
       "      <td>0.00</td>\n",
       "      <td>4.00</td>\n",
       "      <td>1.00</td>\n",
       "      <td>0.00</td>\n",
       "    </tr>\n",
       "  </tbody>\n",
       "</table>\n",
       "<p>3 rows × 22 columns</p>\n",
       "</div>"
      ],
      "text/plain": [
       "   company  ID      name category  code     status founded  at closed  at  \\\n",
       "0         1.00  Wetpaint            web  operating  2005-10-17        NaN   \n",
       "1         1.00  Wetpaint            web  operating  2005-10-17        NaN   \n",
       "2         1.00  Wetpaint            web  operating  2005-10-17        NaN   \n",
       "\n",
       "             domain network  username country  code  investment  rounds  ...  \\\n",
       "0  wetpaint-inc.com   BachelrWetpaint           USA                0.00  ...   \n",
       "1  wetpaint-inc.com   BachelrWetpaint           USA                0.00  ...   \n",
       "2  wetpaint-inc.com   BachelrWetpaint           USA                0.00  ...   \n",
       "\n",
       "   milestones  funding  round  id  company  id  funded  at  \\\n",
       "0        5.00              888.00         1.00  2005-10-01   \n",
       "1        5.00              889.00         1.00  2007-01-01   \n",
       "2        5.00            2,312.00         1.00  2008-05-19   \n",
       "\n",
       "   funding  round  type raised  amount pre  money  valuation  participants  \\\n",
       "0              series-a   5,250,000.00                  0.00          2.00   \n",
       "1              series-b   9,500,000.00                  0.00          3.00   \n",
       "2             series-c+  25,000,000.00                  0.00          4.00   \n",
       "\n",
       "   is  first  round  is  last  round  \n",
       "0              0.00             1.00  \n",
       "1              0.00             0.00  \n",
       "2              1.00             0.00  \n",
       "\n",
       "[3 rows x 22 columns]"
      ]
     },
     "execution_count": 14,
     "metadata": {},
     "output_type": "execute_result"
    }
   ],
   "source": [
    "df_company_and_rounds.head(3)"
   ]
  },
  {
   "cell_type": "code",
   "execution_count": 15,
   "metadata": {},
   "outputs": [
    {
     "name": "stdout",
     "output_type": "stream",
     "text": [
      "<class 'pandas.core.frame.DataFrame'>\n",
      "RangeIndex: 217774 entries, 0 to 217773\n",
      "Data columns (total 22 columns):\n",
      " #   Column                 Non-Null Count   Dtype  \n",
      "---  ------                 --------------   -----  \n",
      " 0   company  ID            217472 non-null  float64\n",
      " 1   name                   217472 non-null  object \n",
      " 2   category  code         143886 non-null  object \n",
      " 3   status                 217472 non-null  object \n",
      " 4   founded  at            109956 non-null  object \n",
      " 5   closed  at             3449 non-null    object \n",
      " 6   domain                 147159 non-null  object \n",
      " 7   network  username      95534 non-null   object \n",
      " 8   country  code          108607 non-null  object \n",
      " 9   investment  rounds     217472 non-null  float64\n",
      " 10  funding  rounds        217472 non-null  float64\n",
      " 11  funding  total         217472 non-null  float64\n",
      " 12  milestones             217472 non-null  float64\n",
      " 13  funding  round  id     52928 non-null   float64\n",
      " 14  company  id            52928 non-null   float64\n",
      " 15  funded  at             52680 non-null   object \n",
      " 16  funding  round  type   52928 non-null   object \n",
      " 17  raised  amount         52928 non-null   float64\n",
      " 18  pre  money  valuation  52928 non-null   float64\n",
      " 19  participants           52928 non-null   float64\n",
      " 20  is  first  round       52928 non-null   float64\n",
      " 21  is  last  round        52928 non-null   float64\n",
      "dtypes: float64(12), object(10)\n",
      "memory usage: 36.6+ MB\n"
     ]
    }
   ],
   "source": [
    "# Выведем информацию о датафрейме\n",
    "df_company_and_rounds.info()"
   ]
  },
  {
   "cell_type": "code",
   "execution_count": 16,
   "metadata": {},
   "outputs": [
    {
     "data": {
      "text/plain": [
       "22"
      ]
     },
     "execution_count": 16,
     "metadata": {},
     "output_type": "execute_result"
    }
   ],
   "source": [
    "# Ппосчитаем сколько колонок имеют пропуски\n",
    "(df_company_and_rounds.isnull().sum()>0).sum()"
   ]
  },
  {
   "cell_type": "code",
   "execution_count": 17,
   "metadata": {},
   "outputs": [
    {
     "data": {
      "text/plain": [
       "0"
      ]
     },
     "execution_count": 17,
     "metadata": {},
     "output_type": "execute_result"
    }
   ],
   "source": [
    "# Посчитаем количество столбцов без пропусков\n",
    "(df_company_and_rounds.isnull().sum() == 0).sum()"
   ]
  },
  {
   "cell_type": "markdown",
   "metadata": {},
   "source": [
    "Датасет `company_and_rounds.csv` содержит 22 столбца и 217 774 строки, в которых содержится информация о компаниях и раундах финансирования. После первичного анализа данных можно сделать следующие выводы:\n",
    "1. Наименование столбцов неудобны для анализа - рекомендуется преобразовать их в snake_case.\n",
    "2. В датасете есть дублирующиеся столбец - `company_id` встречается два раза. Нужно скорреектироваь название одного из них.\n",
    "3. Пропуски значений обнаружены во всех 22 столбцах - необходимо проанализировать их критичность и определить способы обработки. \n",
    "4. Типы данных в столбцах `funded  at`, `closed  at`, `founded  at`  требуют корректировки (**object -> datetime**) \n",
    "5. Рекомендуется провести дополнительную проверку на наличие дубликатов."
   ]
  },
  {
   "cell_type": "markdown",
   "metadata": {},
   "source": [
    "- Приведем к стилю snake case наименования столбцов датасета `company_and_rounds.csv`:"
   ]
  },
  {
   "cell_type": "code",
   "execution_count": 18,
   "metadata": {},
   "outputs": [
    {
     "data": {
      "text/plain": [
       "Index(['company_ID', 'name', 'category_code', 'status', 'founded_at',\n",
       "       'closed_at', 'domain', 'network_username', 'country_code',\n",
       "       'investment_rounds', 'funding_rounds', 'funding_total', 'milestones',\n",
       "       'funding_round_id', 'company_id', 'funded_at', 'funding_round_type',\n",
       "       'raised_amount', 'pre_money_valuation', 'participants',\n",
       "       'is_first_round', 'is_last_round'],\n",
       "      dtype='object')"
      ]
     },
     "execution_count": 18,
     "metadata": {},
     "output_type": "execute_result"
    }
   ],
   "source": [
    "df_company_and_rounds.columns = (\n",
    "    df_company_and_rounds.columns.str.replace(' ', '_')  # меняем пропуск на _ \n",
    "    .str.replace('__', '_')  # меняем 2 _  на одно (т.к. в названиях два пробела, они заменились на 2 _)\n",
    ")\n",
    "\n",
    "df_company_and_rounds.columns"
   ]
  },
  {
   "cell_type": "markdown",
   "metadata": {},
   "source": [
    "<div class=\"alert alert-warning\">\n",
    "    <h2> Комментарий ревьюера v1 <a class=\"tocSkip\"> </h2>\n",
    "    \n",
    "<b>Небольшие замечания и рекомендации💡:</b> Полезная привычка следовать \"змеиному стилю\" и очень хорошо, что ты заметила два  company  id. Предлагаю сразу порассуждать почему это могло возникнуть и можем ли мы использовать один из инх для дозаполнени пропусков"
   ]
  },
  {
   "cell_type": "markdown",
   "metadata": {},
   "source": [
    "<div class=\"alert alert-info\">✔️ Комментарии студента:  \n",
    "    \n",
    "    \n",
    "    \n",
    "    \n",
    "Теперь я уже знаю, что таблица была собрана из двух и что повторяющийся company_id трогать не нужно :) Вернула как было."
   ]
  },
  {
   "cell_type": "markdown",
   "metadata": {},
   "source": [
    "<div class=\"alert alert-success\">\n",
    "<h2> Комментарий ревьюера v2 <a class=\"tocSkip\"> </h2>\n",
    "\n",
    "<b>Все супер!👍:</b>Практично)"
   ]
  },
  {
   "cell_type": "markdown",
   "metadata": {},
   "source": [
    "**Познакомимся с данными датасета `people.csv` - выведем названия столбцов и информацию о датасете.**"
   ]
  },
  {
   "cell_type": "code",
   "execution_count": 19,
   "metadata": {},
   "outputs": [
    {
     "data": {
      "text/plain": [
       "Index(['id', 'first_name', 'last_name', 'company_id', 'network_username'], dtype='object')"
      ]
     },
     "execution_count": 19,
     "metadata": {},
     "output_type": "execute_result"
    }
   ],
   "source": [
    "# Выведем наименования столбцов\n",
    "df_people.columns"
   ]
  },
  {
   "cell_type": "code",
   "execution_count": 20,
   "metadata": {},
   "outputs": [
    {
     "data": {
      "text/html": [
       "<div>\n",
       "<style scoped>\n",
       "    .dataframe tbody tr th:only-of-type {\n",
       "        vertical-align: middle;\n",
       "    }\n",
       "\n",
       "    .dataframe tbody tr th {\n",
       "        vertical-align: top;\n",
       "    }\n",
       "\n",
       "    .dataframe thead th {\n",
       "        text-align: right;\n",
       "    }\n",
       "</style>\n",
       "<table border=\"1\" class=\"dataframe\">\n",
       "  <thead>\n",
       "    <tr style=\"text-align: right;\">\n",
       "      <th></th>\n",
       "      <th>id</th>\n",
       "      <th>first_name</th>\n",
       "      <th>last_name</th>\n",
       "      <th>company_id</th>\n",
       "      <th>network_username</th>\n",
       "    </tr>\n",
       "  </thead>\n",
       "  <tbody>\n",
       "    <tr>\n",
       "      <th>0</th>\n",
       "      <td>10</td>\n",
       "      <td>Mark</td>\n",
       "      <td>Zuckerberg</td>\n",
       "      <td>5.00</td>\n",
       "      <td>NaN</td>\n",
       "    </tr>\n",
       "    <tr>\n",
       "      <th>1</th>\n",
       "      <td>100</td>\n",
       "      <td>Peter</td>\n",
       "      <td>Lester</td>\n",
       "      <td>27.00</td>\n",
       "      <td>NaN</td>\n",
       "    </tr>\n",
       "    <tr>\n",
       "      <th>2</th>\n",
       "      <td>1000</td>\n",
       "      <td>Dr. Steven</td>\n",
       "      <td>E. Saunders</td>\n",
       "      <td>292.00</td>\n",
       "      <td>NaN</td>\n",
       "    </tr>\n",
       "  </tbody>\n",
       "</table>\n",
       "</div>"
      ],
      "text/plain": [
       "     id  first_name    last_name  company_id network_username\n",
       "0    10        Mark   Zuckerberg        5.00              NaN\n",
       "1   100       Peter       Lester       27.00              NaN\n",
       "2  1000  Dr. Steven  E. Saunders      292.00              NaN"
      ]
     },
     "execution_count": 20,
     "metadata": {},
     "output_type": "execute_result"
    }
   ],
   "source": [
    "df_people.head(3)"
   ]
  },
  {
   "cell_type": "code",
   "execution_count": 21,
   "metadata": {},
   "outputs": [
    {
     "name": "stdout",
     "output_type": "stream",
     "text": [
      "<class 'pandas.core.frame.DataFrame'>\n",
      "RangeIndex: 226709 entries, 0 to 226708\n",
      "Data columns (total 5 columns):\n",
      " #   Column            Non-Null Count   Dtype  \n",
      "---  ------            --------------   -----  \n",
      " 0   id                226709 non-null  int64  \n",
      " 1   first_name        226704 non-null  object \n",
      " 2   last_name         226708 non-null  object \n",
      " 3   company_id        34615 non-null   float64\n",
      " 4   network_username  38867 non-null   object \n",
      "dtypes: float64(1), int64(1), object(3)\n",
      "memory usage: 8.6+ MB\n"
     ]
    }
   ],
   "source": [
    "# Выведем информацию о датафрейме\n",
    "df_people.info()"
   ]
  },
  {
   "cell_type": "code",
   "execution_count": 22,
   "metadata": {},
   "outputs": [
    {
     "data": {
      "text/plain": [
       "4"
      ]
     },
     "execution_count": 22,
     "metadata": {},
     "output_type": "execute_result"
    }
   ],
   "source": [
    "# Посчитаем сколько колонок имеют пропуски\n",
    "(df_people.isnull().sum() > 0).sum()"
   ]
  },
  {
   "cell_type": "markdown",
   "metadata": {},
   "source": [
    "Датасет `company_and_rounds.csv` содержит 5 столбцов и 226 709 строк, в которых содержится информация о сотрудниках.\n",
    "\n",
    "После первичного анализа данных можно сделать следующие выводы:\n",
    "\n",
    "1. Наименования столбцов находятся в нижнем регистре в формате snake case и удобны для анализа.\n",
    "2. Пропуски значений обнаружены в 4 столбцах - необходимо проанализировать их критичность и определить способы обработки.\n",
    "3. Рекомендуется провести дополнительную проверку на наличие дубликатов.\n"
   ]
  },
  {
   "cell_type": "markdown",
   "metadata": {},
   "source": [
    "**Познакомимся с данными датасета `education.csv` - выведем названия столбцов и информацию о датасете.**"
   ]
  },
  {
   "cell_type": "code",
   "execution_count": 23,
   "metadata": {},
   "outputs": [
    {
     "data": {
      "text/plain": [
       "Index(['id', 'person_id', 'instituition', 'graduated_at'], dtype='object')"
      ]
     },
     "execution_count": 23,
     "metadata": {},
     "output_type": "execute_result"
    }
   ],
   "source": [
    "# Выведем наименования столбцов\n",
    "df_education.columns"
   ]
  },
  {
   "cell_type": "code",
   "execution_count": 24,
   "metadata": {},
   "outputs": [
    {
     "data": {
      "text/html": [
       "<div>\n",
       "<style scoped>\n",
       "    .dataframe tbody tr th:only-of-type {\n",
       "        vertical-align: middle;\n",
       "    }\n",
       "\n",
       "    .dataframe tbody tr th {\n",
       "        vertical-align: top;\n",
       "    }\n",
       "\n",
       "    .dataframe thead th {\n",
       "        text-align: right;\n",
       "    }\n",
       "</style>\n",
       "<table border=\"1\" class=\"dataframe\">\n",
       "  <thead>\n",
       "    <tr style=\"text-align: right;\">\n",
       "      <th></th>\n",
       "      <th>id</th>\n",
       "      <th>person_id</th>\n",
       "      <th>instituition</th>\n",
       "      <th>graduated_at</th>\n",
       "    </tr>\n",
       "  </thead>\n",
       "  <tbody>\n",
       "    <tr>\n",
       "      <th>0</th>\n",
       "      <td>1</td>\n",
       "      <td>6117</td>\n",
       "      <td>NaN</td>\n",
       "      <td>NaN</td>\n",
       "    </tr>\n",
       "    <tr>\n",
       "      <th>1</th>\n",
       "      <td>2</td>\n",
       "      <td>6136</td>\n",
       "      <td>Washington University, St. Louis</td>\n",
       "      <td>1990-01-01</td>\n",
       "    </tr>\n",
       "    <tr>\n",
       "      <th>2</th>\n",
       "      <td>3</td>\n",
       "      <td>6136</td>\n",
       "      <td>Boston University</td>\n",
       "      <td>1992-01-01</td>\n",
       "    </tr>\n",
       "  </tbody>\n",
       "</table>\n",
       "</div>"
      ],
      "text/plain": [
       "   id  person_id                      instituition graduated_at\n",
       "0   1       6117                               NaN          NaN\n",
       "1   2       6136  Washington University, St. Louis   1990-01-01\n",
       "2   3       6136                 Boston University   1992-01-01"
      ]
     },
     "execution_count": 24,
     "metadata": {},
     "output_type": "execute_result"
    }
   ],
   "source": [
    "df_education.head(3)"
   ]
  },
  {
   "cell_type": "code",
   "execution_count": 25,
   "metadata": {},
   "outputs": [
    {
     "name": "stdout",
     "output_type": "stream",
     "text": [
      "<class 'pandas.core.frame.DataFrame'>\n",
      "RangeIndex: 109610 entries, 0 to 109609\n",
      "Data columns (total 4 columns):\n",
      " #   Column        Non-Null Count   Dtype \n",
      "---  ------        --------------   ----- \n",
      " 0   id            109610 non-null  int64 \n",
      " 1   person_id     109610 non-null  int64 \n",
      " 2   instituition  109555 non-null  object\n",
      " 3   graduated_at  58054 non-null   object\n",
      "dtypes: int64(2), object(2)\n",
      "memory usage: 3.3+ MB\n"
     ]
    }
   ],
   "source": [
    "# Выведем информацию о датафрейме\n",
    "df_education.info()"
   ]
  },
  {
   "cell_type": "code",
   "execution_count": 26,
   "metadata": {},
   "outputs": [
    {
     "data": {
      "text/plain": [
       "2"
      ]
     },
     "execution_count": 26,
     "metadata": {},
     "output_type": "execute_result"
    }
   ],
   "source": [
    "# Посчитаем сколько колонок имеют пропуски\n",
    "(df_education.isnull().sum() > 0).sum()"
   ]
  },
  {
   "cell_type": "markdown",
   "metadata": {},
   "source": [
    "Датасет `education.info.csv` содержит 4 столбца и 109 610 строк, в которых содержится информация об образовании сотрудников.\n",
    "\n",
    "После первичного анализа данных можно сделать следующие выводы:\n",
    "\n",
    "1. Наименования столбцов находятся в нижнем регистре в формате snake case и удобны для анализа.\n",
    "2. Пропуски значений обнаружены в 2 столбцах - необходимо проанализировать их критичность и определить способы обработки.\n",
    "3. Тип данных в столбце `graduated_at` требует корректировки (**object --> datetime**) так как является датой.\n",
    "4. Типы данных в остальных столбцах корректны.\n",
    "5. Рекомендуется провести дополнительную проверку на наличие дубликатов."
   ]
  },
  {
   "cell_type": "markdown",
   "metadata": {},
   "source": [
    "**Познакомимся с данными датасета `degrees.csv` - выведем названия столбцов и информацию о датасете.**"
   ]
  },
  {
   "cell_type": "code",
   "execution_count": 27,
   "metadata": {},
   "outputs": [
    {
     "data": {
      "text/plain": [
       "Index(['id', 'object_id', 'degree_type', 'subject'], dtype='object')"
      ]
     },
     "execution_count": 27,
     "metadata": {},
     "output_type": "execute_result"
    }
   ],
   "source": [
    "# Выведем наименования столбцов\n",
    "df_degrees.columns"
   ]
  },
  {
   "cell_type": "code",
   "execution_count": 28,
   "metadata": {},
   "outputs": [
    {
     "data": {
      "text/html": [
       "<div>\n",
       "<style scoped>\n",
       "    .dataframe tbody tr th:only-of-type {\n",
       "        vertical-align: middle;\n",
       "    }\n",
       "\n",
       "    .dataframe tbody tr th {\n",
       "        vertical-align: top;\n",
       "    }\n",
       "\n",
       "    .dataframe thead th {\n",
       "        text-align: right;\n",
       "    }\n",
       "</style>\n",
       "<table border=\"1\" class=\"dataframe\">\n",
       "  <thead>\n",
       "    <tr style=\"text-align: right;\">\n",
       "      <th></th>\n",
       "      <th>id</th>\n",
       "      <th>object_id</th>\n",
       "      <th>degree_type</th>\n",
       "      <th>subject</th>\n",
       "    </tr>\n",
       "  </thead>\n",
       "  <tbody>\n",
       "    <tr>\n",
       "      <th>0</th>\n",
       "      <td>1</td>\n",
       "      <td>p:6117</td>\n",
       "      <td>MBA</td>\n",
       "      <td>NaN</td>\n",
       "    </tr>\n",
       "    <tr>\n",
       "      <th>1</th>\n",
       "      <td>2</td>\n",
       "      <td>p:6136</td>\n",
       "      <td>BA</td>\n",
       "      <td>English, French</td>\n",
       "    </tr>\n",
       "    <tr>\n",
       "      <th>2</th>\n",
       "      <td>3</td>\n",
       "      <td>p:6136</td>\n",
       "      <td>MS</td>\n",
       "      <td>Mass Communication</td>\n",
       "    </tr>\n",
       "  </tbody>\n",
       "</table>\n",
       "</div>"
      ],
      "text/plain": [
       "   id object_id degree_type             subject\n",
       "0   1    p:6117         MBA                 NaN\n",
       "1   2    p:6136          BA     English, French\n",
       "2   3    p:6136          MS  Mass Communication"
      ]
     },
     "execution_count": 28,
     "metadata": {},
     "output_type": "execute_result"
    }
   ],
   "source": [
    "df_degrees.head(3)"
   ]
  },
  {
   "cell_type": "code",
   "execution_count": 29,
   "metadata": {},
   "outputs": [
    {
     "name": "stdout",
     "output_type": "stream",
     "text": [
      "<class 'pandas.core.frame.DataFrame'>\n",
      "RangeIndex: 109610 entries, 0 to 109609\n",
      "Data columns (total 4 columns):\n",
      " #   Column       Non-Null Count   Dtype \n",
      "---  ------       --------------   ----- \n",
      " 0   id           109610 non-null  int64 \n",
      " 1   object_id    109610 non-null  object\n",
      " 2   degree_type  98392 non-null   object\n",
      " 3   subject      81298 non-null   object\n",
      "dtypes: int64(1), object(3)\n",
      "memory usage: 3.3+ MB\n"
     ]
    }
   ],
   "source": [
    "# Выведем информацию о датафрейме\n",
    "df_degrees.info()"
   ]
  },
  {
   "cell_type": "code",
   "execution_count": 30,
   "metadata": {},
   "outputs": [
    {
     "data": {
      "text/plain": [
       "2"
      ]
     },
     "execution_count": 30,
     "metadata": {},
     "output_type": "execute_result"
    }
   ],
   "source": [
    "# Посчитаем количество столбцов с пропусками\n",
    "(df_degrees.isnull().sum() > 0).sum()"
   ]
  },
  {
   "cell_type": "markdown",
   "metadata": {},
   "source": [
    "Датасет `degrees.csv` содержит 4 столбца и 109 610 строк, в которых содержится информация  о типе образования сотрудника.\n",
    "\n",
    "После первичного анализа данных можно сделать следующие выводы:\n",
    "\n",
    "1. Наименования столбцов находятся в нижнем регистре в формате snake case и удобны для анализа.\n",
    "2. Пропуски значений обнаружены в 2 столбцах - необходимо проанализировать их критичность и определить способы обработки.\n",
    "3. Типы данных в столбце `object_id` представлен в object, в отличие от идентификаторов в других таблицах, которые представлены в числовом типе.\n",
    "4. Рекомендуется провести дополнительную проверку на наличие дубликатов."
   ]
  },
  {
   "cell_type": "code",
   "execution_count": 31,
   "metadata": {},
   "outputs": [
    {
     "name": "stdout",
     "output_type": "stream",
     "text": [
      "<class 'pandas.core.frame.DataFrame'>\n",
      "RangeIndex: 109610 entries, 0 to 109609\n",
      "Data columns (total 4 columns):\n",
      " #   Column       Non-Null Count   Dtype  \n",
      "---  ------       --------------   -----  \n",
      " 0   id           109610 non-null  int64  \n",
      " 1   object_id    0 non-null       float64\n",
      " 2   degree_type  98392 non-null   object \n",
      " 3   subject      81298 non-null   object \n",
      "dtypes: float64(1), int64(1), object(2)\n",
      "memory usage: 3.3+ MB\n"
     ]
    }
   ],
   "source": [
    "# Скорректируем тип данных в столбце object_id \n",
    "df_degrees['object_id'] = pd.to_numeric(df_degrees['object_id'], errors='coerce')\n",
    "\n",
    "df_degrees.info()"
   ]
  },
  {
   "cell_type": "markdown",
   "metadata": {},
   "source": [
    "<div class=\"alert alert-warning\">\n",
    "    <h2> Комментарий ревьюера v1 <a class=\"tocSkip\"> </h2>\n",
    "    \n",
    "<b>Небольшие замечания и рекомендации💡:</b> Можно заметить, что все id численные значения кроме object_id, помешает ли нам это в дальнейшем и можно ли сделать корректировку при необходимости?"
   ]
  },
  {
   "cell_type": "markdown",
   "metadata": {},
   "source": [
    "<div class=\"alert alert-info\">✔️ Комментарии студента:  \n",
    "    \n",
    "    \n",
    "    \n",
    "Отлчие типов данных в идентификаторах не даст нам соеднить датафреймы. Если будем использовать данные из degrees.csv для анализа, то нужно изменить тип на int64, но чтобы такое преобразование получилось, предварительно нужно заменить пропуски индикаторами. Так как у заказчика нет задачи исследовать уровни и типы образования сотрудников, пока не будем этого делать, оставим как есть."
   ]
  },
  {
   "cell_type": "markdown",
   "metadata": {},
   "source": [
    "<div class=\"alert alert-success\">\n",
    "<h2> Комментарий ревьюера v2 <a class=\"tocSkip\"> </h2>\n",
    "\n",
    "<b>Все супер!👍:</b>Логично и обоснованно, хвалю!"
   ]
  },
  {
   "cell_type": "markdown",
   "metadata": {
    "id": "mg2gEwh0rJg0"
   },
   "source": [
    "### 1.2. Смена типов и анализ пропусков\n",
    "\n",
    "- Обработайте типы данных в столбцах, которые хранят значения даты и времени, если это необходимо.\n",
    "- Оцените полноту данных — сделайте предварительный вывод, достаточно ли данных для решения задач проекта."
   ]
  },
  {
   "cell_type": "markdown",
   "metadata": {},
   "source": [
    "### Корректировка типов данных в столбцах с датами"
   ]
  },
  {
   "cell_type": "markdown",
   "metadata": {
    "id": "FsL0A8RBrJg1",
    "vscode": {
     "languageId": "plaintext"
    }
   },
   "source": [
    " **Приведем даты к формату `datetime64` в датасете `acquisition.csv`:**"
   ]
  },
  {
   "cell_type": "code",
   "execution_count": 32,
   "metadata": {
    "id": "46VskrGyFeJ-"
   },
   "outputs": [],
   "source": [
    "# Заменим тип данных в столбце `acquired_at` с object на datetime64:\n",
    "df_acquisition['acquired_at'] = df_acquisition['acquired_at'].astype('datetime64')"
   ]
  },
  {
   "cell_type": "code",
   "execution_count": 33,
   "metadata": {},
   "outputs": [
    {
     "data": {
      "text/plain": [
       "id                               int64\n",
       "acquiring_company_id             int64\n",
       "acquired_company_id              int64\n",
       "term_code                       object\n",
       "price_amount                     int64\n",
       "acquired_at             datetime64[ns]\n",
       "dtype: object"
      ]
     },
     "execution_count": 33,
     "metadata": {},
     "output_type": "execute_result"
    }
   ],
   "source": [
    "# Проверим типы данных\n",
    "df_acquisition.dtypes"
   ]
  },
  {
   "cell_type": "markdown",
   "metadata": {},
   "source": [
    " **Приведем даты к формату `datetime64` в датасете  `company_and_rounds.csv`:**"
   ]
  },
  {
   "cell_type": "code",
   "execution_count": 34,
   "metadata": {},
   "outputs": [
    {
     "data": {
      "text/plain": [
       "company_ID                    float64\n",
       "name                           object\n",
       "category_code                  object\n",
       "status                         object\n",
       "founded_at             datetime64[ns]\n",
       "closed_at              datetime64[ns]\n",
       "domain                         object\n",
       "network_username               object\n",
       "country_code                   object\n",
       "investment_rounds             float64\n",
       "funding_rounds                float64\n",
       "funding_total                 float64\n",
       "milestones                    float64\n",
       "funding_round_id              float64\n",
       "company_id                    float64\n",
       "funded_at              datetime64[ns]\n",
       "funding_round_type             object\n",
       "raised_amount                 float64\n",
       "pre_money_valuation           float64\n",
       "participants                  float64\n",
       "is_first_round                float64\n",
       "is_last_round                 float64\n",
       "dtype: object"
      ]
     },
     "execution_count": 34,
     "metadata": {},
     "output_type": "execute_result"
    }
   ],
   "source": [
    "# Преобразовываем даты в формат datetime\n",
    "df_company_and_rounds['founded_at'] = df_company_and_rounds['founded_at'].astype('datetime64')\n",
    "df_company_and_rounds['closed_at'] = df_company_and_rounds['closed_at'].astype('datetime64')\n",
    "df_company_and_rounds['funded_at'] = df_company_and_rounds['funded_at'].astype('datetime64')\n",
    "\n",
    "df_company_and_rounds.dtypes"
   ]
  },
  {
   "cell_type": "markdown",
   "metadata": {},
   "source": [
    "**Приведем даты к формату `datetime64` в датасете `education.csv`:**"
   ]
  },
  {
   "cell_type": "code",
   "execution_count": 35,
   "metadata": {},
   "outputs": [],
   "source": [
    "df_education['graduated_at'] = df_education['graduated_at'].astype('datetime64')"
   ]
  },
  {
   "cell_type": "code",
   "execution_count": 36,
   "metadata": {
    "scrolled": true
   },
   "outputs": [
    {
     "data": {
      "text/plain": [
       "id                       int64\n",
       "person_id                int64\n",
       "instituition            object\n",
       "graduated_at    datetime64[ns]\n",
       "dtype: object"
      ]
     },
     "execution_count": 36,
     "metadata": {},
     "output_type": "execute_result"
    }
   ],
   "source": [
    "df_education.dtypes"
   ]
  },
  {
   "cell_type": "markdown",
   "metadata": {},
   "source": [
    "<div class=\"alert alert-success\">\n",
    "<h2> Комментарий ревьюера v1 <a class=\"tocSkip\"> </h2>\n",
    "\n",
    "<b>Все супер!👍:</b> Все даты строго приведены и  молодец, что следишь за результатами преобразований на каждом этапе"
   ]
  },
  {
   "cell_type": "markdown",
   "metadata": {},
   "source": [
    "### Проверка данных на пропуски"
   ]
  },
  {
   "cell_type": "markdown",
   "metadata": {},
   "source": [
    "**Проверим количество пропусков в датасете `acquisition.csv`:**"
   ]
  },
  {
   "cell_type": "code",
   "execution_count": 37,
   "metadata": {},
   "outputs": [
    {
     "data": {
      "text/plain": [
       "term_code               7576\n",
       "acquired_at               29\n",
       "id                         0\n",
       "acquiring_company_id       0\n",
       "acquired_company_id        0\n",
       "price_amount               0\n",
       "dtype: int64"
      ]
     },
     "execution_count": 37,
     "metadata": {},
     "output_type": "execute_result"
    }
   ],
   "source": [
    "df_acquisition.isna().sum().sort_values(ascending= False)"
   ]
  },
  {
   "cell_type": "code",
   "execution_count": 38,
   "metadata": {},
   "outputs": [
    {
     "data": {
      "text/plain": [
       "term_code              0.81\n",
       "acquired_at            0.00\n",
       "id                     0.00\n",
       "acquiring_company_id   0.00\n",
       "acquired_company_id    0.00\n",
       "price_amount           0.00\n",
       "dtype: float64"
      ]
     },
     "execution_count": 38,
     "metadata": {},
     "output_type": "execute_result"
    }
   ],
   "source": [
    "df_acquisition.isna().mean().sort_values(ascending= False).round(2)"
   ]
  },
  {
   "cell_type": "markdown",
   "metadata": {},
   "source": [
    "**Проверим количество пропусков в датасете `company_and_rounds.csv`:**"
   ]
  },
  {
   "cell_type": "code",
   "execution_count": 39,
   "metadata": {},
   "outputs": [
    {
     "data": {
      "text/plain": [
       "closed_at              214325\n",
       "funded_at              165094\n",
       "is_last_round          164846\n",
       "is_first_round         164846\n",
       "participants           164846\n",
       "pre_money_valuation    164846\n",
       "raised_amount          164846\n",
       "funding_round_type     164846\n",
       "funding_round_id       164846\n",
       "company_id             164846\n",
       "network_username       122240\n",
       "country_code           109167\n",
       "founded_at             107818\n",
       "category_code           73888\n",
       "domain                  70615\n",
       "company_ID                302\n",
       "milestones                302\n",
       "name                      302\n",
       "funding_rounds            302\n",
       "investment_rounds         302\n",
       "status                    302\n",
       "funding_total             302\n",
       "dtype: int64"
      ]
     },
     "execution_count": 39,
     "metadata": {},
     "output_type": "execute_result"
    }
   ],
   "source": [
    "# Посчитаем количество\n",
    "df_company_and_rounds.isna().sum().sort_values(ascending= False)"
   ]
  },
  {
   "cell_type": "code",
   "execution_count": 40,
   "metadata": {},
   "outputs": [
    {
     "data": {
      "text/plain": [
       "closed_at             0.98\n",
       "is_last_round         0.76\n",
       "funded_at             0.76\n",
       "is_first_round        0.76\n",
       "participants          0.76\n",
       "pre_money_valuation   0.76\n",
       "raised_amount         0.76\n",
       "funding_round_type    0.76\n",
       "funding_round_id      0.76\n",
       "company_id            0.76\n",
       "network_username      0.56\n",
       "founded_at            0.50\n",
       "country_code          0.50\n",
       "category_code         0.34\n",
       "domain                0.32\n",
       "company_ID            0.00\n",
       "milestones            0.00\n",
       "name                  0.00\n",
       "funding_rounds        0.00\n",
       "investment_rounds     0.00\n",
       "status                0.00\n",
       "funding_total         0.00\n",
       "dtype: float64"
      ]
     },
     "execution_count": 40,
     "metadata": {},
     "output_type": "execute_result"
    }
   ],
   "source": [
    "# Посчитаем доли\n",
    "df_company_and_rounds.isna().mean().round(2).sort_values(ascending=False)"
   ]
  },
  {
   "cell_type": "markdown",
   "metadata": {},
   "source": [
    "**Проверим количество пропусков в датасете `people.csv`:**"
   ]
  },
  {
   "cell_type": "code",
   "execution_count": 41,
   "metadata": {},
   "outputs": [
    {
     "data": {
      "text/plain": [
       "company_id          192094\n",
       "network_username    187842\n",
       "first_name               5\n",
       "last_name                1\n",
       "id                       0\n",
       "dtype: int64"
      ]
     },
     "execution_count": 41,
     "metadata": {},
     "output_type": "execute_result"
    }
   ],
   "source": [
    "df_people.isna().sum().sort_values(ascending= False)"
   ]
  },
  {
   "cell_type": "code",
   "execution_count": 42,
   "metadata": {},
   "outputs": [
    {
     "data": {
      "text/plain": [
       "company_id         0.85\n",
       "network_username   0.83\n",
       "first_name         0.00\n",
       "last_name          0.00\n",
       "id                 0.00\n",
       "dtype: float64"
      ]
     },
     "execution_count": 42,
     "metadata": {},
     "output_type": "execute_result"
    }
   ],
   "source": [
    "df_people.isna().mean().sort_values(ascending= False).round(2)"
   ]
  },
  {
   "cell_type": "markdown",
   "metadata": {},
   "source": [
    "**Проверим количество пропусков в датасете `education.csv`:**"
   ]
  },
  {
   "cell_type": "code",
   "execution_count": 43,
   "metadata": {},
   "outputs": [
    {
     "data": {
      "text/plain": [
       "graduated_at    51556\n",
       "instituition       55\n",
       "id                  0\n",
       "person_id           0\n",
       "dtype: int64"
      ]
     },
     "execution_count": 43,
     "metadata": {},
     "output_type": "execute_result"
    }
   ],
   "source": [
    "df_education.isna().sum().sort_values(ascending= False)"
   ]
  },
  {
   "cell_type": "code",
   "execution_count": 44,
   "metadata": {},
   "outputs": [
    {
     "data": {
      "text/plain": [
       "graduated_at   0.47\n",
       "instituition   0.00\n",
       "id             0.00\n",
       "person_id      0.00\n",
       "dtype: float64"
      ]
     },
     "execution_count": 44,
     "metadata": {},
     "output_type": "execute_result"
    }
   ],
   "source": [
    "df_education.isna().mean().sort_values(ascending= False).round(2)"
   ]
  },
  {
   "cell_type": "markdown",
   "metadata": {},
   "source": [
    "**Проверим количество пропусков в датасете `degrees`:**"
   ]
  },
  {
   "cell_type": "code",
   "execution_count": 45,
   "metadata": {},
   "outputs": [
    {
     "data": {
      "text/plain": [
       "object_id      109610\n",
       "subject         28312\n",
       "degree_type     11218\n",
       "id                  0\n",
       "dtype: int64"
      ]
     },
     "execution_count": 45,
     "metadata": {},
     "output_type": "execute_result"
    }
   ],
   "source": [
    "df_degrees.isna().sum().sort_values(ascending= False)"
   ]
  },
  {
   "cell_type": "code",
   "execution_count": 46,
   "metadata": {},
   "outputs": [
    {
     "data": {
      "text/plain": [
       "object_id     1.00\n",
       "subject       0.26\n",
       "degree_type   0.10\n",
       "id            0.00\n",
       "dtype: float64"
      ]
     },
     "execution_count": 46,
     "metadata": {},
     "output_type": "execute_result"
    }
   ],
   "source": [
    "df_degrees.isna().mean().sort_values(ascending= False).round(2)"
   ]
  },
  {
   "cell_type": "markdown",
   "metadata": {},
   "source": [
    "**Промежуточный вывод:** датасетах встречается значительное количество пропущенных значений. Оставим как есть, так как их заполнение может исказить результаты анализа."
   ]
  },
  {
   "cell_type": "markdown",
   "metadata": {},
   "source": [
    "<div class=\"alert alert-success\">\n",
    "<h2> Комментарий ревьюера v1 <a class=\"tocSkip\"> </h2>\n",
    "\n",
    "<b>Все супер!👍:</b> Олеся, прекрасное решение! В будущих реальных проектах советую поступать также, когда нет однозначного решения по аппроксимации. Не стоит без особой необходимости вносить в данные дополнительные неточности"
   ]
  },
  {
   "cell_type": "markdown",
   "metadata": {
    "id": "u60cHsn6rJg1"
   },
   "source": [
    "## Шаг 2. Предобработка данных, предварительное исследование"
   ]
  },
  {
   "cell_type": "markdown",
   "metadata": {
    "id": "g2bHIIjcrJg1"
   },
   "source": [
    "\n",
    "### 2.1. Раунды финансирования по годам\n",
    "\n",
    "Задание необходимо выполнить без объединения и дополнительной предобработки на основе датасета `company_and_rounds.csv`.\n",
    "\n",
    "- Составьте сводную таблицу по годам, в которой на основании столбца `raised_amount` для каждого года указан:\n",
    "    - типичный размер средств, выделяемый в рамках одного раунда;\n",
    "    - общее количество раундов финансирования за этот год.\n",
    "    \n",
    "- Оставьте в таблице информацию только для тех лет, для которых есть информация о более чем 50 раундах финансирования.\n",
    "- На основе получившейся таблицы постройте график, который будет отражать динамику типичного размера средств, которые стартапы получали в рамках одного раунда финансирования.\n",
    "\n",
    "На основе полученных данных ответьте на вопросы:\n",
    "\n",
    "- В каком году типичный размер собранных в рамках одного раунда средств был максимален?\n",
    "- Какая тенденция по количеству раундов и выделяемых в рамках каждого раунда средств наблюдалась в 2013 году?"
   ]
  },
  {
   "cell_type": "markdown",
   "metadata": {},
   "source": [
    "**Изучим динамику суммы финансирования одного раунда по годам:**"
   ]
  },
  {
   "cell_type": "code",
   "execution_count": 47,
   "metadata": {
    "id": "Cf5IjfOQrJg1",
    "vscode": {
     "languageId": "plaintext"
    }
   },
   "outputs": [
    {
     "name": "stdout",
     "output_type": "stream",
     "text": [
      "Год, в котором типичный размер раунда был максимален: 2002.0\n"
     ]
    },
    {
     "data": {
      "text/html": [
       "<div>\n",
       "<style scoped>\n",
       "    .dataframe tbody tr th:only-of-type {\n",
       "        vertical-align: middle;\n",
       "    }\n",
       "\n",
       "    .dataframe tbody tr th {\n",
       "        vertical-align: top;\n",
       "    }\n",
       "\n",
       "    .dataframe thead th {\n",
       "        text-align: right;\n",
       "    }\n",
       "</style>\n",
       "<table border=\"1\" class=\"dataframe\">\n",
       "  <thead>\n",
       "    <tr style=\"text-align: right;\">\n",
       "      <th></th>\n",
       "      <th>funded_at</th>\n",
       "      <th>funding_rounds</th>\n",
       "      <th>raised_amount</th>\n",
       "      <th>round_amount</th>\n",
       "    </tr>\n",
       "  </thead>\n",
       "  <tbody>\n",
       "    <tr>\n",
       "      <th>14</th>\n",
       "      <td>1,998.00</td>\n",
       "      <td>72.00</td>\n",
       "      <td>100,000.00</td>\n",
       "      <td>1,388.89</td>\n",
       "    </tr>\n",
       "    <tr>\n",
       "      <th>15</th>\n",
       "      <td>1,999.00</td>\n",
       "      <td>268.00</td>\n",
       "      <td>2,000,000.00</td>\n",
       "      <td>7,462.69</td>\n",
       "    </tr>\n",
       "    <tr>\n",
       "      <th>16</th>\n",
       "      <td>2,000.00</td>\n",
       "      <td>403.00</td>\n",
       "      <td>4,200,000.00</td>\n",
       "      <td>10,421.84</td>\n",
       "    </tr>\n",
       "    <tr>\n",
       "      <th>17</th>\n",
       "      <td>2,001.00</td>\n",
       "      <td>302.00</td>\n",
       "      <td>3,000,000.00</td>\n",
       "      <td>9,933.77</td>\n",
       "    </tr>\n",
       "    <tr>\n",
       "      <th>18</th>\n",
       "      <td>2,002.00</td>\n",
       "      <td>385.00</td>\n",
       "      <td>4,200,000.00</td>\n",
       "      <td>10,909.09</td>\n",
       "    </tr>\n",
       "    <tr>\n",
       "      <th>19</th>\n",
       "      <td>2,003.00</td>\n",
       "      <td>569.00</td>\n",
       "      <td>3,000,000.00</td>\n",
       "      <td>5,272.41</td>\n",
       "    </tr>\n",
       "    <tr>\n",
       "      <th>20</th>\n",
       "      <td>2,004.00</td>\n",
       "      <td>1,057.00</td>\n",
       "      <td>5,000,000.00</td>\n",
       "      <td>4,730.37</td>\n",
       "    </tr>\n",
       "    <tr>\n",
       "      <th>21</th>\n",
       "      <td>2,005.00</td>\n",
       "      <td>4,157.00</td>\n",
       "      <td>5,500,000.00</td>\n",
       "      <td>1,323.07</td>\n",
       "    </tr>\n",
       "    <tr>\n",
       "      <th>22</th>\n",
       "      <td>2,006.00</td>\n",
       "      <td>6,295.00</td>\n",
       "      <td>5,000,000.00</td>\n",
       "      <td>794.28</td>\n",
       "    </tr>\n",
       "    <tr>\n",
       "      <th>23</th>\n",
       "      <td>2,007.00</td>\n",
       "      <td>8,494.00</td>\n",
       "      <td>3,973,320.00</td>\n",
       "      <td>467.78</td>\n",
       "    </tr>\n",
       "    <tr>\n",
       "      <th>24</th>\n",
       "      <td>2,008.00</td>\n",
       "      <td>9,931.00</td>\n",
       "      <td>3,110,000.00</td>\n",
       "      <td>313.16</td>\n",
       "    </tr>\n",
       "    <tr>\n",
       "      <th>25</th>\n",
       "      <td>2,009.00</td>\n",
       "      <td>11,857.00</td>\n",
       "      <td>2,000,000.00</td>\n",
       "      <td>168.68</td>\n",
       "    </tr>\n",
       "    <tr>\n",
       "      <th>26</th>\n",
       "      <td>2,010.00</td>\n",
       "      <td>16,913.00</td>\n",
       "      <td>1,602,500.00</td>\n",
       "      <td>94.75</td>\n",
       "    </tr>\n",
       "    <tr>\n",
       "      <th>27</th>\n",
       "      <td>2,011.00</td>\n",
       "      <td>23,503.00</td>\n",
       "      <td>1,200,000.00</td>\n",
       "      <td>51.06</td>\n",
       "    </tr>\n",
       "    <tr>\n",
       "      <th>28</th>\n",
       "      <td>2,012.00</td>\n",
       "      <td>24,549.00</td>\n",
       "      <td>1,000,000.00</td>\n",
       "      <td>40.73</td>\n",
       "    </tr>\n",
       "    <tr>\n",
       "      <th>29</th>\n",
       "      <td>2,013.00</td>\n",
       "      <td>23,978.00</td>\n",
       "      <td>1,200,000.00</td>\n",
       "      <td>50.05</td>\n",
       "    </tr>\n",
       "  </tbody>\n",
       "</table>\n",
       "</div>"
      ],
      "text/plain": [
       "    funded_at  funding_rounds  raised_amount  round_amount\n",
       "14   1,998.00           72.00     100,000.00      1,388.89\n",
       "15   1,999.00          268.00   2,000,000.00      7,462.69\n",
       "16   2,000.00          403.00   4,200,000.00     10,421.84\n",
       "17   2,001.00          302.00   3,000,000.00      9,933.77\n",
       "18   2,002.00          385.00   4,200,000.00     10,909.09\n",
       "19   2,003.00          569.00   3,000,000.00      5,272.41\n",
       "20   2,004.00        1,057.00   5,000,000.00      4,730.37\n",
       "21   2,005.00        4,157.00   5,500,000.00      1,323.07\n",
       "22   2,006.00        6,295.00   5,000,000.00        794.28\n",
       "23   2,007.00        8,494.00   3,973,320.00        467.78\n",
       "24   2,008.00        9,931.00   3,110,000.00        313.16\n",
       "25   2,009.00       11,857.00   2,000,000.00        168.68\n",
       "26   2,010.00       16,913.00   1,602,500.00         94.75\n",
       "27   2,011.00       23,503.00   1,200,000.00         51.06\n",
       "28   2,012.00       24,549.00   1,000,000.00         40.73\n",
       "29   2,013.00       23,978.00   1,200,000.00         50.05"
      ]
     },
     "execution_count": 47,
     "metadata": {},
     "output_type": "execute_result"
    }
   ],
   "source": [
    "pd.set_option('display.float_format', '{:,.2f}'.format)  # Отключаем научную запись, чтобы отображались суммы\n",
    "\n",
    "# Создаем сводную таблицу\n",
    "pivot_table = pd.pivot_table(\n",
    "    df_company_and_rounds,\n",
    "     index=df_company_and_rounds['funded_at'].dt.year,  # Группируем по годам\n",
    "    values=['raised_amount', 'funding_rounds'], \n",
    "    aggfunc={'raised_amount': 'median', 'funding_rounds': 'sum'}  # Сумма и количество сделок\n",
    ").reset_index()\n",
    "\n",
    "\n",
    "\n",
    "# Фильтруем годы с более чем 50 сделками\n",
    "filtered_pivot = pivot_table[pivot_table['funding_rounds'] > 50]\n",
    "\n",
    "# Вычисляем средний размер раунда \n",
    "filtered_pivot['round_amount'] = filtered_pivot['raised_amount'] / filtered_pivot['funding_rounds']\n",
    "\n",
    "\n",
    "# Находим год с максимальным средним раундом\n",
    "max_round_year = filtered_pivot['funded_at'][filtered_pivot['round_amount'].idxmax()]\n",
    "\n",
    "\n",
    "print(f\"Год, в котором типичный размер раунда был максимален: {max_round_year}\")\n",
    "\n",
    "\n",
    "filtered_pivot\n"
   ]
  },
  {
   "cell_type": "code",
   "execution_count": 48,
   "metadata": {},
   "outputs": [
    {
     "data": {
      "image/png": "[encoded data removed]",
      "text/plain": [
       "<Figure size 1440x576 with 1 Axes>"
      ]
     },
     "metadata": {
      "needs_background": "light"
     },
     "output_type": "display_data"
    }
   ],
   "source": [
    "filtered_pivot.plot(\n",
    "    kind='line',\n",
    "    x='funded_at',\n",
    "    y = 'round_amount',\n",
    "    title = 'Динамика размера суммы одного раунда финансирования по годам',\n",
    "    figsize=(20,8),\n",
    "    marker='o',   # чтобы выделить точки по годам\n",
    "    grid = True,\n",
    "    label='Средний размер раунда'\n",
    ")\n",
    "\n",
    "plt.xlabel('Год')\n",
    "plt.ylabel('Средний размер раунда (млн)')\n",
    "plt.legend()\n",
    "plt.show()"
   ]
  },
  {
   "cell_type": "markdown",
   "metadata": {},
   "source": [
    "**Посмотрим какая тенденция по количеству раундов и выделяемых в рамках каждого раунда средств наблюдалась в 2013 году:**"
   ]
  },
  {
   "cell_type": "code",
   "execution_count": 49,
   "metadata": {},
   "outputs": [
    {
     "data": {
      "text/html": [
       "<div>\n",
       "<style scoped>\n",
       "    .dataframe tbody tr th:only-of-type {\n",
       "        vertical-align: middle;\n",
       "    }\n",
       "\n",
       "    .dataframe tbody tr th {\n",
       "        vertical-align: top;\n",
       "    }\n",
       "\n",
       "    .dataframe thead th {\n",
       "        text-align: right;\n",
       "    }\n",
       "</style>\n",
       "<table border=\"1\" class=\"dataframe\">\n",
       "  <thead>\n",
       "    <tr style=\"text-align: right;\">\n",
       "      <th></th>\n",
       "      <th>funded_at</th>\n",
       "      <th>funding_rounds</th>\n",
       "      <th>raised_amount</th>\n",
       "      <th>round_amount</th>\n",
       "    </tr>\n",
       "  </thead>\n",
       "  <tbody>\n",
       "    <tr>\n",
       "      <th>29</th>\n",
       "      <td>2,013.00</td>\n",
       "      <td>23,978.00</td>\n",
       "      <td>1,200,000.00</td>\n",
       "      <td>50.05</td>\n",
       "    </tr>\n",
       "  </tbody>\n",
       "</table>\n",
       "</div>"
      ],
      "text/plain": [
       "    funded_at  funding_rounds  raised_amount  round_amount\n",
       "29   2,013.00       23,978.00   1,200,000.00         50.05"
      ]
     },
     "execution_count": 49,
     "metadata": {},
     "output_type": "execute_result"
    }
   ],
   "source": [
    "# Отбираем только данные за 2013 год\n",
    "data_2013 = filtered_pivot[filtered_pivot['funded_at'] == 2013]\n",
    "\n",
    "data_2013\n",
    "\n"
   ]
  },
  {
   "cell_type": "markdown",
   "metadata": {},
   "source": [
    "**Промежуточные выводы:**\n",
    "- Типичный размер собранных в рамках одного раунда средств был максимален в 2002 году (10 909).\n",
    "- В 2013 году было проведено 23 978 раундов и выделялось в среднейм 1.2 млн. на один раунд."
   ]
  },
  {
   "cell_type": "markdown",
   "metadata": {},
   "source": [
    "<div class=\"alert alert-block alert-danger\">\n",
    "<h2> Комментарий ревьюера v1<a class=\"tocSkip\"></h2>\n",
    "\n",
    "<b>На доработку🤔:</b> Олеся, обрати внимание на выбросы в столбце `raised_amount`. Подходит ли тут такая агрегирующая функция для получения именно \"типичного\" значения?"
   ]
  },
  {
   "cell_type": "markdown",
   "metadata": {},
   "source": [
    "<div class=\"alert alert-info\">✔️ Комментарии студента:  \n",
    "    \n",
    "    \n",
    "    \n",
    "Не обратила внимания на выбросы :( Скорректировала на медиану, надеюсь, правильно. "
   ]
  },
  {
   "cell_type": "markdown",
   "metadata": {},
   "source": [
    "<div class=\"alert alert-success\">\n",
    "<h2> Комментарий ревьюера v2 <a class=\"tocSkip\"> </h2>\n",
    "\n",
    "<b>Все супер!👍:</b>Да, медиана тут вполне уместна, молодец!"
   ]
  },
  {
   "cell_type": "markdown",
   "metadata": {
    "id": "45if1en1rJg2"
   },
   "source": [
    "\n",
    "### 2.2. Люди и их образование\n",
    "\n",
    "Заказчик хочет понять, зависит ли полнота сведений о сотрудниках (например, об их образовании) от размера компаний.\n",
    "\n",
    "- Оцените, насколько информация об образовании сотрудников полна. Используя датасеты `people.csv` и `education.csv`, разделите все компании на несколько групп по количеству сотрудников и оцените среднюю долю сотрудников без информации об образовании в каждой из групп. Обоснуйте выбранные границы групп.\n",
    "- Оцените, возможно ли для выполнения задания присоединить к этим таблицам ещё и таблицу `degrees.csv`."
   ]
  },
  {
   "cell_type": "markdown",
   "metadata": {},
   "source": [
    "**Добавим в датафрейм столбец с количеством сотрудников в каждой компании:**"
   ]
  },
  {
   "cell_type": "code",
   "execution_count": 50,
   "metadata": {
    "id": "psPO7C4MrJg2",
    "vscode": {
     "languageId": "plaintext"
    }
   },
   "outputs": [
    {
     "data": {
      "text/html": [
       "<div>\n",
       "<style scoped>\n",
       "    .dataframe tbody tr th:only-of-type {\n",
       "        vertical-align: middle;\n",
       "    }\n",
       "\n",
       "    .dataframe tbody tr th {\n",
       "        vertical-align: top;\n",
       "    }\n",
       "\n",
       "    .dataframe thead th {\n",
       "        text-align: right;\n",
       "    }\n",
       "</style>\n",
       "<table border=\"1\" class=\"dataframe\">\n",
       "  <thead>\n",
       "    <tr style=\"text-align: right;\">\n",
       "      <th></th>\n",
       "      <th>id</th>\n",
       "      <th>first_name</th>\n",
       "      <th>last_name</th>\n",
       "      <th>company_id</th>\n",
       "      <th>network_username</th>\n",
       "      <th>person_id</th>\n",
       "      <th>instituition</th>\n",
       "      <th>graduated_at</th>\n",
       "      <th>company_sizes</th>\n",
       "    </tr>\n",
       "  </thead>\n",
       "  <tbody>\n",
       "    <tr>\n",
       "      <th>0</th>\n",
       "      <td>10</td>\n",
       "      <td>Mark</td>\n",
       "      <td>Zuckerberg</td>\n",
       "      <td>5.00</td>\n",
       "      <td>NaN</td>\n",
       "      <td>6,265.00</td>\n",
       "      <td>University of Pennsylvania</td>\n",
       "      <td>1989-01-01</td>\n",
       "      <td>61.00</td>\n",
       "    </tr>\n",
       "    <tr>\n",
       "      <th>1</th>\n",
       "      <td>100</td>\n",
       "      <td>Peter</td>\n",
       "      <td>Lester</td>\n",
       "      <td>27.00</td>\n",
       "      <td>NaN</td>\n",
       "      <td>938.00</td>\n",
       "      <td>Universidad Catolica del Uruguay</td>\n",
       "      <td>2006-01-01</td>\n",
       "      <td>10.00</td>\n",
       "    </tr>\n",
       "    <tr>\n",
       "      <th>2</th>\n",
       "      <td>1000</td>\n",
       "      <td>Dr. Steven</td>\n",
       "      <td>E. Saunders</td>\n",
       "      <td>292.00</td>\n",
       "      <td>NaN</td>\n",
       "      <td>13,098.00</td>\n",
       "      <td>Golden Gate University</td>\n",
       "      <td>1999-01-01</td>\n",
       "      <td>3.00</td>\n",
       "    </tr>\n",
       "    <tr>\n",
       "      <th>3</th>\n",
       "      <td>10000</td>\n",
       "      <td>Neil</td>\n",
       "      <td>Capel</td>\n",
       "      <td>2,526.00</td>\n",
       "      <td>NaN</td>\n",
       "      <td>74,038.00</td>\n",
       "      <td>Cairo University</td>\n",
       "      <td>NaT</td>\n",
       "      <td>2.00</td>\n",
       "    </tr>\n",
       "    <tr>\n",
       "      <th>4</th>\n",
       "      <td>100000</td>\n",
       "      <td>Sue</td>\n",
       "      <td>Pilsch</td>\n",
       "      <td>NaN</td>\n",
       "      <td>NaN</td>\n",
       "      <td>89,666.00</td>\n",
       "      <td>Ohio State University</td>\n",
       "      <td>NaT</td>\n",
       "      <td>NaN</td>\n",
       "    </tr>\n",
       "    <tr>\n",
       "      <th>...</th>\n",
       "      <td>...</td>\n",
       "      <td>...</td>\n",
       "      <td>...</td>\n",
       "      <td>...</td>\n",
       "      <td>...</td>\n",
       "      <td>...</td>\n",
       "      <td>...</td>\n",
       "      <td>...</td>\n",
       "      <td>...</td>\n",
       "    </tr>\n",
       "    <tr>\n",
       "      <th>226704</th>\n",
       "      <td>99999</td>\n",
       "      <td>Ramon</td>\n",
       "      <td>Peypoch</td>\n",
       "      <td>NaN</td>\n",
       "      <td>NaN</td>\n",
       "      <td>257,599.00</td>\n",
       "      <td>HTBLuVA Mödling</td>\n",
       "      <td>NaT</td>\n",
       "      <td>NaN</td>\n",
       "    </tr>\n",
       "    <tr>\n",
       "      <th>226705</th>\n",
       "      <td>174088</td>\n",
       "      <td>Dr. Ray</td>\n",
       "      <td>Woods</td>\n",
       "      <td>188,200.00</td>\n",
       "      <td>network</td>\n",
       "      <td>NaN</td>\n",
       "      <td>NaN</td>\n",
       "      <td>NaT</td>\n",
       "      <td>1.00</td>\n",
       "    </tr>\n",
       "    <tr>\n",
       "      <th>226706</th>\n",
       "      <td>118386</td>\n",
       "      <td>Ricardo</td>\n",
       "      <td>Durand</td>\n",
       "      <td>143,419.00</td>\n",
       "      <td>itechsocialnet</td>\n",
       "      <td>NaN</td>\n",
       "      <td>NaN</td>\n",
       "      <td>NaT</td>\n",
       "      <td>1.00</td>\n",
       "    </tr>\n",
       "    <tr>\n",
       "      <th>226707</th>\n",
       "      <td>175827</td>\n",
       "      <td>mahesh</td>\n",
       "      <td>kumar</td>\n",
       "      <td>NaN</td>\n",
       "      <td>socialnethubs</td>\n",
       "      <td>NaN</td>\n",
       "      <td>NaN</td>\n",
       "      <td>NaT</td>\n",
       "      <td>NaN</td>\n",
       "    </tr>\n",
       "    <tr>\n",
       "      <th>226708</th>\n",
       "      <td>178190</td>\n",
       "      <td>Alex</td>\n",
       "      <td>Smith</td>\n",
       "      <td>NaN</td>\n",
       "      <td>esocialnetlike</td>\n",
       "      <td>NaN</td>\n",
       "      <td>NaN</td>\n",
       "      <td>NaT</td>\n",
       "      <td>NaN</td>\n",
       "    </tr>\n",
       "  </tbody>\n",
       "</table>\n",
       "<p>226709 rows × 9 columns</p>\n",
       "</div>"
      ],
      "text/plain": [
       "            id  first_name    last_name  company_id network_username  \\\n",
       "0           10        Mark   Zuckerberg        5.00              NaN   \n",
       "1          100       Peter       Lester       27.00              NaN   \n",
       "2         1000  Dr. Steven  E. Saunders      292.00              NaN   \n",
       "3        10000        Neil        Capel    2,526.00              NaN   \n",
       "4       100000         Sue       Pilsch         NaN              NaN   \n",
       "...        ...         ...          ...         ...              ...   \n",
       "226704   99999       Ramon      Peypoch         NaN              NaN   \n",
       "226705  174088     Dr. Ray        Woods  188,200.00          network   \n",
       "226706  118386     Ricardo       Durand  143,419.00   itechsocialnet   \n",
       "226707  175827      mahesh        kumar         NaN    socialnethubs   \n",
       "226708  178190        Alex        Smith         NaN   esocialnetlike   \n",
       "\n",
       "        person_id                      instituition graduated_at  \\\n",
       "0        6,265.00        University of Pennsylvania   1989-01-01   \n",
       "1          938.00  Universidad Catolica del Uruguay   2006-01-01   \n",
       "2       13,098.00            Golden Gate University   1999-01-01   \n",
       "3       74,038.00                  Cairo University          NaT   \n",
       "4       89,666.00             Ohio State University          NaT   \n",
       "...           ...                               ...          ...   \n",
       "226704 257,599.00                   HTBLuVA Mödling          NaT   \n",
       "226705        NaN                               NaN          NaT   \n",
       "226706        NaN                               NaN          NaT   \n",
       "226707        NaN                               NaN          NaT   \n",
       "226708        NaN                               NaN          NaT   \n",
       "\n",
       "        company_sizes  \n",
       "0               61.00  \n",
       "1               10.00  \n",
       "2                3.00  \n",
       "3                2.00  \n",
       "4                 NaN  \n",
       "...               ...  \n",
       "226704            NaN  \n",
       "226705           1.00  \n",
       "226706           1.00  \n",
       "226707            NaN  \n",
       "226708            NaN  \n",
       "\n",
       "[226709 rows x 9 columns]"
      ]
     },
     "execution_count": 50,
     "metadata": {},
     "output_type": "execute_result"
    }
   ],
   "source": [
    "# Объединим датасеты people.csv и education.csv\n",
    "\n",
    "df_people_education = df_people.merge(df_education, on='id', how='left')\n",
    "\n",
    "# Подсчитываем количество сотрудников в каждой компании с использованием transform \n",
    "df_people_education['company_sizes'] = df_people_education.groupby('company_id')['id'].transform('count')\n",
    "\n",
    "\n",
    "df_people_education\n"
   ]
  },
  {
   "cell_type": "markdown",
   "metadata": {},
   "source": [
    "**Посмотрим как распределены данные в колонке с количеством сотрудников (company_sizes), определим границы категорий и разделим все компании на категории по численности сотрудников (small, medium, large):**"
   ]
  },
  {
   "cell_type": "code",
   "execution_count": 51,
   "metadata": {},
   "outputs": [
    {
     "data": {
      "text/plain": [
       "count   34,615.00\n",
       "mean         6.57\n",
       "std         24.91\n",
       "min          1.00\n",
       "25%          1.00\n",
       "50%          1.00\n",
       "75%          3.00\n",
       "max        244.00\n",
       "Name: company_sizes, dtype: float64"
      ]
     },
     "execution_count": 51,
     "metadata": {},
     "output_type": "execute_result"
    }
   ],
   "source": [
    "# Выведем статистические данные по количеству сотрудников в каждой компании (столбец company_sizes)\n",
    "\n",
    "df_people_education['company_sizes'].describe()"
   ]
  },
  {
   "cell_type": "code",
   "execution_count": 52,
   "metadata": {
    "id": "BThTjpLqFcsm"
   },
   "outputs": [
    {
     "data": {
      "text/html": [
       "<div>\n",
       "<style scoped>\n",
       "    .dataframe tbody tr th:only-of-type {\n",
       "        vertical-align: middle;\n",
       "    }\n",
       "\n",
       "    .dataframe tbody tr th {\n",
       "        vertical-align: top;\n",
       "    }\n",
       "\n",
       "    .dataframe thead th {\n",
       "        text-align: right;\n",
       "    }\n",
       "</style>\n",
       "<table border=\"1\" class=\"dataframe\">\n",
       "  <thead>\n",
       "    <tr style=\"text-align: right;\">\n",
       "      <th></th>\n",
       "      <th>id</th>\n",
       "      <th>first_name</th>\n",
       "      <th>last_name</th>\n",
       "      <th>company_id</th>\n",
       "      <th>network_username</th>\n",
       "      <th>person_id</th>\n",
       "      <th>instituition</th>\n",
       "      <th>graduated_at</th>\n",
       "      <th>company_sizes</th>\n",
       "      <th>company_type</th>\n",
       "    </tr>\n",
       "  </thead>\n",
       "  <tbody>\n",
       "    <tr>\n",
       "      <th>0</th>\n",
       "      <td>10</td>\n",
       "      <td>Mark</td>\n",
       "      <td>Zuckerberg</td>\n",
       "      <td>5.00</td>\n",
       "      <td>NaN</td>\n",
       "      <td>6,265.00</td>\n",
       "      <td>University of Pennsylvania</td>\n",
       "      <td>1989-01-01</td>\n",
       "      <td>61.00</td>\n",
       "      <td>large</td>\n",
       "    </tr>\n",
       "    <tr>\n",
       "      <th>1</th>\n",
       "      <td>100</td>\n",
       "      <td>Peter</td>\n",
       "      <td>Lester</td>\n",
       "      <td>27.00</td>\n",
       "      <td>NaN</td>\n",
       "      <td>938.00</td>\n",
       "      <td>Universidad Catolica del Uruguay</td>\n",
       "      <td>2006-01-01</td>\n",
       "      <td>10.00</td>\n",
       "      <td>medium</td>\n",
       "    </tr>\n",
       "    <tr>\n",
       "      <th>2</th>\n",
       "      <td>1000</td>\n",
       "      <td>Dr. Steven</td>\n",
       "      <td>E. Saunders</td>\n",
       "      <td>292.00</td>\n",
       "      <td>NaN</td>\n",
       "      <td>13,098.00</td>\n",
       "      <td>Golden Gate University</td>\n",
       "      <td>1999-01-01</td>\n",
       "      <td>3.00</td>\n",
       "      <td>small</td>\n",
       "    </tr>\n",
       "    <tr>\n",
       "      <th>3</th>\n",
       "      <td>10000</td>\n",
       "      <td>Neil</td>\n",
       "      <td>Capel</td>\n",
       "      <td>2,526.00</td>\n",
       "      <td>NaN</td>\n",
       "      <td>74,038.00</td>\n",
       "      <td>Cairo University</td>\n",
       "      <td>NaT</td>\n",
       "      <td>2.00</td>\n",
       "      <td>small</td>\n",
       "    </tr>\n",
       "    <tr>\n",
       "      <th>4</th>\n",
       "      <td>100000</td>\n",
       "      <td>Sue</td>\n",
       "      <td>Pilsch</td>\n",
       "      <td>NaN</td>\n",
       "      <td>NaN</td>\n",
       "      <td>89,666.00</td>\n",
       "      <td>Ohio State University</td>\n",
       "      <td>NaT</td>\n",
       "      <td>NaN</td>\n",
       "      <td>NaN</td>\n",
       "    </tr>\n",
       "    <tr>\n",
       "      <th>...</th>\n",
       "      <td>...</td>\n",
       "      <td>...</td>\n",
       "      <td>...</td>\n",
       "      <td>...</td>\n",
       "      <td>...</td>\n",
       "      <td>...</td>\n",
       "      <td>...</td>\n",
       "      <td>...</td>\n",
       "      <td>...</td>\n",
       "      <td>...</td>\n",
       "    </tr>\n",
       "    <tr>\n",
       "      <th>226704</th>\n",
       "      <td>99999</td>\n",
       "      <td>Ramon</td>\n",
       "      <td>Peypoch</td>\n",
       "      <td>NaN</td>\n",
       "      <td>NaN</td>\n",
       "      <td>257,599.00</td>\n",
       "      <td>HTBLuVA Mödling</td>\n",
       "      <td>NaT</td>\n",
       "      <td>NaN</td>\n",
       "      <td>NaN</td>\n",
       "    </tr>\n",
       "    <tr>\n",
       "      <th>226705</th>\n",
       "      <td>174088</td>\n",
       "      <td>Dr. Ray</td>\n",
       "      <td>Woods</td>\n",
       "      <td>188,200.00</td>\n",
       "      <td>network</td>\n",
       "      <td>NaN</td>\n",
       "      <td>NaN</td>\n",
       "      <td>NaT</td>\n",
       "      <td>1.00</td>\n",
       "      <td>NaN</td>\n",
       "    </tr>\n",
       "    <tr>\n",
       "      <th>226706</th>\n",
       "      <td>118386</td>\n",
       "      <td>Ricardo</td>\n",
       "      <td>Durand</td>\n",
       "      <td>143,419.00</td>\n",
       "      <td>itechsocialnet</td>\n",
       "      <td>NaN</td>\n",
       "      <td>NaN</td>\n",
       "      <td>NaT</td>\n",
       "      <td>1.00</td>\n",
       "      <td>NaN</td>\n",
       "    </tr>\n",
       "    <tr>\n",
       "      <th>226707</th>\n",
       "      <td>175827</td>\n",
       "      <td>mahesh</td>\n",
       "      <td>kumar</td>\n",
       "      <td>NaN</td>\n",
       "      <td>socialnethubs</td>\n",
       "      <td>NaN</td>\n",
       "      <td>NaN</td>\n",
       "      <td>NaT</td>\n",
       "      <td>NaN</td>\n",
       "      <td>NaN</td>\n",
       "    </tr>\n",
       "    <tr>\n",
       "      <th>226708</th>\n",
       "      <td>178190</td>\n",
       "      <td>Alex</td>\n",
       "      <td>Smith</td>\n",
       "      <td>NaN</td>\n",
       "      <td>esocialnetlike</td>\n",
       "      <td>NaN</td>\n",
       "      <td>NaN</td>\n",
       "      <td>NaT</td>\n",
       "      <td>NaN</td>\n",
       "      <td>NaN</td>\n",
       "    </tr>\n",
       "  </tbody>\n",
       "</table>\n",
       "<p>226709 rows × 10 columns</p>\n",
       "</div>"
      ],
      "text/plain": [
       "            id  first_name    last_name  company_id network_username  \\\n",
       "0           10        Mark   Zuckerberg        5.00              NaN   \n",
       "1          100       Peter       Lester       27.00              NaN   \n",
       "2         1000  Dr. Steven  E. Saunders      292.00              NaN   \n",
       "3        10000        Neil        Capel    2,526.00              NaN   \n",
       "4       100000         Sue       Pilsch         NaN              NaN   \n",
       "...        ...         ...          ...         ...              ...   \n",
       "226704   99999       Ramon      Peypoch         NaN              NaN   \n",
       "226705  174088     Dr. Ray        Woods  188,200.00          network   \n",
       "226706  118386     Ricardo       Durand  143,419.00   itechsocialnet   \n",
       "226707  175827      mahesh        kumar         NaN    socialnethubs   \n",
       "226708  178190        Alex        Smith         NaN   esocialnetlike   \n",
       "\n",
       "        person_id                      instituition graduated_at  \\\n",
       "0        6,265.00        University of Pennsylvania   1989-01-01   \n",
       "1          938.00  Universidad Catolica del Uruguay   2006-01-01   \n",
       "2       13,098.00            Golden Gate University   1999-01-01   \n",
       "3       74,038.00                  Cairo University          NaT   \n",
       "4       89,666.00             Ohio State University          NaT   \n",
       "...           ...                               ...          ...   \n",
       "226704 257,599.00                   HTBLuVA Mödling          NaT   \n",
       "226705        NaN                               NaN          NaT   \n",
       "226706        NaN                               NaN          NaT   \n",
       "226707        NaN                               NaN          NaT   \n",
       "226708        NaN                               NaN          NaT   \n",
       "\n",
       "        company_sizes company_type  \n",
       "0               61.00        large  \n",
       "1               10.00       medium  \n",
       "2                3.00        small  \n",
       "3                2.00        small  \n",
       "4                 NaN          NaN  \n",
       "...               ...          ...  \n",
       "226704            NaN          NaN  \n",
       "226705           1.00          NaN  \n",
       "226706           1.00          NaN  \n",
       "226707            NaN          NaN  \n",
       "226708            NaN          NaN  \n",
       "\n",
       "[226709 rows x 10 columns]"
      ]
     },
     "execution_count": 52,
     "metadata": {},
     "output_type": "execute_result"
    }
   ],
   "source": [
    "# Делим компании на категории по количеству сотрудников\n",
    "df_people_education['company_type'] = pd.cut(df_people_education['company_sizes'], \n",
    "                                                bins= [1, 3, 50, 244],\n",
    "                                                labels= ['small', 'medium', 'large']\n",
    "                                               )\n",
    "\n",
    "df_people_education"
   ]
  },
  {
   "cell_type": "markdown",
   "metadata": {},
   "source": [
    "<div class=\"alert alert-success\">\n",
    "<h2> Комментарий ревьюера v1 <a class=\"tocSkip\"> </h2>\n",
    "\n",
    "<b>Все супер!👍:</b>Прекрасное статистическое обоснование критериев категоризации. Очень важно для максимально объективного сравнения групп стараться делать их близкого размера"
   ]
  },
  {
   "cell_type": "markdown",
   "metadata": {},
   "source": [
    "**Посчитаем долю сотрудников без информации об образовании в разрезе типов компаний:**"
   ]
  },
  {
   "cell_type": "code",
   "execution_count": 53,
   "metadata": {},
   "outputs": [
    {
     "data": {
      "text/html": [
       "<div>\n",
       "<style scoped>\n",
       "    .dataframe tbody tr th:only-of-type {\n",
       "        vertical-align: middle;\n",
       "    }\n",
       "\n",
       "    .dataframe tbody tr th {\n",
       "        vertical-align: top;\n",
       "    }\n",
       "\n",
       "    .dataframe thead th {\n",
       "        text-align: right;\n",
       "    }\n",
       "</style>\n",
       "<table border=\"1\" class=\"dataframe\">\n",
       "  <thead>\n",
       "    <tr style=\"text-align: right;\">\n",
       "      <th></th>\n",
       "      <th>id</th>\n",
       "      <th>first_name</th>\n",
       "      <th>last_name</th>\n",
       "      <th>company_id</th>\n",
       "      <th>network_username</th>\n",
       "      <th>person_id</th>\n",
       "      <th>instituition</th>\n",
       "      <th>graduated_at</th>\n",
       "      <th>company_sizes</th>\n",
       "      <th>company_type</th>\n",
       "      <th>is_education_info</th>\n",
       "    </tr>\n",
       "  </thead>\n",
       "  <tbody>\n",
       "    <tr>\n",
       "      <th>0</th>\n",
       "      <td>10</td>\n",
       "      <td>Mark</td>\n",
       "      <td>Zuckerberg</td>\n",
       "      <td>5.00</td>\n",
       "      <td>NaN</td>\n",
       "      <td>6,265.00</td>\n",
       "      <td>University of Pennsylvania</td>\n",
       "      <td>1989-01-01</td>\n",
       "      <td>61.00</td>\n",
       "      <td>large</td>\n",
       "      <td>False</td>\n",
       "    </tr>\n",
       "    <tr>\n",
       "      <th>1</th>\n",
       "      <td>100</td>\n",
       "      <td>Peter</td>\n",
       "      <td>Lester</td>\n",
       "      <td>27.00</td>\n",
       "      <td>NaN</td>\n",
       "      <td>938.00</td>\n",
       "      <td>Universidad Catolica del Uruguay</td>\n",
       "      <td>2006-01-01</td>\n",
       "      <td>10.00</td>\n",
       "      <td>medium</td>\n",
       "      <td>False</td>\n",
       "    </tr>\n",
       "    <tr>\n",
       "      <th>2</th>\n",
       "      <td>1000</td>\n",
       "      <td>Dr. Steven</td>\n",
       "      <td>E. Saunders</td>\n",
       "      <td>292.00</td>\n",
       "      <td>NaN</td>\n",
       "      <td>13,098.00</td>\n",
       "      <td>Golden Gate University</td>\n",
       "      <td>1999-01-01</td>\n",
       "      <td>3.00</td>\n",
       "      <td>small</td>\n",
       "      <td>False</td>\n",
       "    </tr>\n",
       "    <tr>\n",
       "      <th>3</th>\n",
       "      <td>10000</td>\n",
       "      <td>Neil</td>\n",
       "      <td>Capel</td>\n",
       "      <td>2,526.00</td>\n",
       "      <td>NaN</td>\n",
       "      <td>74,038.00</td>\n",
       "      <td>Cairo University</td>\n",
       "      <td>NaT</td>\n",
       "      <td>2.00</td>\n",
       "      <td>small</td>\n",
       "      <td>False</td>\n",
       "    </tr>\n",
       "    <tr>\n",
       "      <th>4</th>\n",
       "      <td>100000</td>\n",
       "      <td>Sue</td>\n",
       "      <td>Pilsch</td>\n",
       "      <td>NaN</td>\n",
       "      <td>NaN</td>\n",
       "      <td>89,666.00</td>\n",
       "      <td>Ohio State University</td>\n",
       "      <td>NaT</td>\n",
       "      <td>NaN</td>\n",
       "      <td>NaN</td>\n",
       "      <td>False</td>\n",
       "    </tr>\n",
       "    <tr>\n",
       "      <th>...</th>\n",
       "      <td>...</td>\n",
       "      <td>...</td>\n",
       "      <td>...</td>\n",
       "      <td>...</td>\n",
       "      <td>...</td>\n",
       "      <td>...</td>\n",
       "      <td>...</td>\n",
       "      <td>...</td>\n",
       "      <td>...</td>\n",
       "      <td>...</td>\n",
       "      <td>...</td>\n",
       "    </tr>\n",
       "    <tr>\n",
       "      <th>226704</th>\n",
       "      <td>99999</td>\n",
       "      <td>Ramon</td>\n",
       "      <td>Peypoch</td>\n",
       "      <td>NaN</td>\n",
       "      <td>NaN</td>\n",
       "      <td>257,599.00</td>\n",
       "      <td>HTBLuVA Mödling</td>\n",
       "      <td>NaT</td>\n",
       "      <td>NaN</td>\n",
       "      <td>NaN</td>\n",
       "      <td>False</td>\n",
       "    </tr>\n",
       "    <tr>\n",
       "      <th>226705</th>\n",
       "      <td>174088</td>\n",
       "      <td>Dr. Ray</td>\n",
       "      <td>Woods</td>\n",
       "      <td>188,200.00</td>\n",
       "      <td>network</td>\n",
       "      <td>NaN</td>\n",
       "      <td>NaN</td>\n",
       "      <td>NaT</td>\n",
       "      <td>1.00</td>\n",
       "      <td>NaN</td>\n",
       "      <td>True</td>\n",
       "    </tr>\n",
       "    <tr>\n",
       "      <th>226706</th>\n",
       "      <td>118386</td>\n",
       "      <td>Ricardo</td>\n",
       "      <td>Durand</td>\n",
       "      <td>143,419.00</td>\n",
       "      <td>itechsocialnet</td>\n",
       "      <td>NaN</td>\n",
       "      <td>NaN</td>\n",
       "      <td>NaT</td>\n",
       "      <td>1.00</td>\n",
       "      <td>NaN</td>\n",
       "      <td>True</td>\n",
       "    </tr>\n",
       "    <tr>\n",
       "      <th>226707</th>\n",
       "      <td>175827</td>\n",
       "      <td>mahesh</td>\n",
       "      <td>kumar</td>\n",
       "      <td>NaN</td>\n",
       "      <td>socialnethubs</td>\n",
       "      <td>NaN</td>\n",
       "      <td>NaN</td>\n",
       "      <td>NaT</td>\n",
       "      <td>NaN</td>\n",
       "      <td>NaN</td>\n",
       "      <td>True</td>\n",
       "    </tr>\n",
       "    <tr>\n",
       "      <th>226708</th>\n",
       "      <td>178190</td>\n",
       "      <td>Alex</td>\n",
       "      <td>Smith</td>\n",
       "      <td>NaN</td>\n",
       "      <td>esocialnetlike</td>\n",
       "      <td>NaN</td>\n",
       "      <td>NaN</td>\n",
       "      <td>NaT</td>\n",
       "      <td>NaN</td>\n",
       "      <td>NaN</td>\n",
       "      <td>True</td>\n",
       "    </tr>\n",
       "  </tbody>\n",
       "</table>\n",
       "<p>226709 rows × 11 columns</p>\n",
       "</div>"
      ],
      "text/plain": [
       "            id  first_name    last_name  company_id network_username  \\\n",
       "0           10        Mark   Zuckerberg        5.00              NaN   \n",
       "1          100       Peter       Lester       27.00              NaN   \n",
       "2         1000  Dr. Steven  E. Saunders      292.00              NaN   \n",
       "3        10000        Neil        Capel    2,526.00              NaN   \n",
       "4       100000         Sue       Pilsch         NaN              NaN   \n",
       "...        ...         ...          ...         ...              ...   \n",
       "226704   99999       Ramon      Peypoch         NaN              NaN   \n",
       "226705  174088     Dr. Ray        Woods  188,200.00          network   \n",
       "226706  118386     Ricardo       Durand  143,419.00   itechsocialnet   \n",
       "226707  175827      mahesh        kumar         NaN    socialnethubs   \n",
       "226708  178190        Alex        Smith         NaN   esocialnetlike   \n",
       "\n",
       "        person_id                      instituition graduated_at  \\\n",
       "0        6,265.00        University of Pennsylvania   1989-01-01   \n",
       "1          938.00  Universidad Catolica del Uruguay   2006-01-01   \n",
       "2       13,098.00            Golden Gate University   1999-01-01   \n",
       "3       74,038.00                  Cairo University          NaT   \n",
       "4       89,666.00             Ohio State University          NaT   \n",
       "...           ...                               ...          ...   \n",
       "226704 257,599.00                   HTBLuVA Mödling          NaT   \n",
       "226705        NaN                               NaN          NaT   \n",
       "226706        NaN                               NaN          NaT   \n",
       "226707        NaN                               NaN          NaT   \n",
       "226708        NaN                               NaN          NaT   \n",
       "\n",
       "        company_sizes company_type  is_education_info  \n",
       "0               61.00        large              False  \n",
       "1               10.00       medium              False  \n",
       "2                3.00        small              False  \n",
       "3                2.00        small              False  \n",
       "4                 NaN          NaN              False  \n",
       "...               ...          ...                ...  \n",
       "226704            NaN          NaN              False  \n",
       "226705           1.00          NaN               True  \n",
       "226706           1.00          NaN               True  \n",
       "226707            NaN          NaN               True  \n",
       "226708            NaN          NaN               True  \n",
       "\n",
       "[226709 rows x 11 columns]"
      ]
     },
     "execution_count": 53,
     "metadata": {},
     "output_type": "execute_result"
    }
   ],
   "source": [
    "# Добавим новый столбец в таблицу, чтобы пометить есть инфо или нет.\n",
    "# будем считать, что если id из таблицы education.csv не подтянулся, значит информации нет \n",
    "# True = нет инфо, а False = есть инфо\n",
    "df_people_education['is_education_info'] = df_people_education['person_id'].isna()\n",
    "\n",
    "df_people_education\n"
   ]
  },
  {
   "cell_type": "code",
   "execution_count": 54,
   "metadata": {},
   "outputs": [
    {
     "data": {
      "text/html": [
       "<div>\n",
       "<style scoped>\n",
       "    .dataframe tbody tr th:only-of-type {\n",
       "        vertical-align: middle;\n",
       "    }\n",
       "\n",
       "    .dataframe tbody tr th {\n",
       "        vertical-align: top;\n",
       "    }\n",
       "\n",
       "    .dataframe thead th {\n",
       "        text-align: right;\n",
       "    }\n",
       "</style>\n",
       "<table border=\"1\" class=\"dataframe\">\n",
       "  <thead>\n",
       "    <tr style=\"text-align: right;\">\n",
       "      <th></th>\n",
       "      <th>company_type</th>\n",
       "      <th>is_education_info</th>\n",
       "    </tr>\n",
       "  </thead>\n",
       "  <tbody>\n",
       "    <tr>\n",
       "      <th>0</th>\n",
       "      <td>small</td>\n",
       "      <td>0.36</td>\n",
       "    </tr>\n",
       "    <tr>\n",
       "      <th>1</th>\n",
       "      <td>medium</td>\n",
       "      <td>0.31</td>\n",
       "    </tr>\n",
       "    <tr>\n",
       "      <th>2</th>\n",
       "      <td>large</td>\n",
       "      <td>0.36</td>\n",
       "    </tr>\n",
       "  </tbody>\n",
       "</table>\n",
       "</div>"
      ],
      "text/plain": [
       "  company_type  is_education_info\n",
       "0        small               0.36\n",
       "1       medium               0.31\n",
       "2        large               0.36"
      ]
     },
     "execution_count": 54,
     "metadata": {},
     "output_type": "execute_result"
    }
   ],
   "source": [
    "# Группируем по типу компании и считаем среднее значение по индикатору, это доля сотрудников без информации\n",
    "education_info_per_group = df_people_education.groupby('company_type')['is_education_info'].mean().reset_index()\n",
    "\n",
    "\n",
    "education_info_per_group\n",
    "\n",
    "# Здесь is_education_info это доля сотрудников без информации об образовании"
   ]
  },
  {
   "cell_type": "markdown",
   "metadata": {},
   "source": [
    "**Промежуточные итоги:**\n",
    "1. Компании были разделены на три категории на основании статистических данных по колонке `company_sizes`:\n",
    "- `small` (1-3 сотрудника) - выбраны на основе медианного значения (1) и 25-го перцентиля, так как 75% компаний имеют до 3 сотрудников.\n",
    "- `medium` (4-50 сотрудников) - количество сотрудников составляет 6.57, а стандартное отклонение — 24.91. Определила верхнюю границу 50, чтобы отделить компании с числом сотрудников, близким к среднему, от компаний, где сотрудников значительно больше.\n",
    "- `large` (51-244 сотрудников) - выбрала исходя из максимального значения (244).\n",
    "2. Доли сотрудников без информации об образовании в разрезе категорий:\n",
    "- `small` - у 36% сотрудников отсутствует информация об образовании \n",
    "- `medium`  - у 31% сотрудников отсутствует информация об образовании \n",
    "- `large` - у 36% сотрудников отсутствует информация об образовании \n",
    "3. Присоединить таблицу `degrees.csv` можно, но в контексте данной задачи это не имеет особого смысла. Если образования нет --> типа образования нет, соответственно. Если мы захотим изучить сотрудников в разрезе уровней образования, специальности и т.п. то присоединение этой таблицы будет полезным."
   ]
  },
  {
   "cell_type": "markdown",
   "metadata": {},
   "source": [
    "<div class=\"alert alert-success\">\n",
    "<h2> Комментарий ревьюера v1 <a class=\"tocSkip\"> </h2>\n",
    "\n",
    "<b>Все супер!👍:</b>Прекрасный подробный ответ на задачу заказчика, хвалю!"
   ]
  },
  {
   "cell_type": "markdown",
   "metadata": {
    "id": "Lz7qjM32xglW"
   },
   "source": [
    "### 2.3. Объединять или не объединять — вот в чём вопрос\n",
    "\n",
    "Некоторые названия столбцов встречаются в датасетах чаще других. В результате предварительной проверки датасетов было выяснено, что столбец `company_id` подходит для объединения данных.\n",
    "\n",
    "- Установите, подходит ли для объединения данных столбец `network_username`, который встречается в нескольких датасетах. Нам необходимо понимать, дублируется ли для разных датасетов информация в столбцах с таким названием, и если да — то насколько часто.\n",
    "- Оцените, можно ли использовать столбцы с именем `network_username` для объединения данных."
   ]
  },
  {
   "cell_type": "markdown",
   "metadata": {
    "id": "zyI3rt0rxg1O"
   },
   "source": [
    "**Проверим в каких таблицах встречается столбец `network_username`:**"
   ]
  },
  {
   "cell_type": "code",
   "execution_count": 55,
   "metadata": {
    "id": "RxOS5rwmFcNW"
   },
   "outputs": [
    {
     "data": {
      "text/plain": [
       "['id',\n",
       " 'acquiring_company_id',\n",
       " 'acquired_company_id',\n",
       " 'term_code',\n",
       " 'price_amount',\n",
       " 'acquired_at']"
      ]
     },
     "execution_count": 55,
     "metadata": {},
     "output_type": "execute_result"
    }
   ],
   "source": [
    "list(df_acquisition.columns)"
   ]
  },
  {
   "cell_type": "code",
   "execution_count": 56,
   "metadata": {
    "id": "_7gjdrGOFcB2"
   },
   "outputs": [
    {
     "data": {
      "text/plain": [
       "['company_ID',\n",
       " 'name',\n",
       " 'category_code',\n",
       " 'status',\n",
       " 'founded_at',\n",
       " 'closed_at',\n",
       " 'domain',\n",
       " 'network_username',\n",
       " 'country_code',\n",
       " 'investment_rounds',\n",
       " 'funding_rounds',\n",
       " 'funding_total',\n",
       " 'milestones',\n",
       " 'funding_round_id',\n",
       " 'company_id',\n",
       " 'funded_at',\n",
       " 'funding_round_type',\n",
       " 'raised_amount',\n",
       " 'pre_money_valuation',\n",
       " 'participants',\n",
       " 'is_first_round',\n",
       " 'is_last_round']"
      ]
     },
     "execution_count": 56,
     "metadata": {},
     "output_type": "execute_result"
    }
   ],
   "source": [
    "list(df_company_and_rounds.columns)"
   ]
  },
  {
   "cell_type": "code",
   "execution_count": 57,
   "metadata": {},
   "outputs": [
    {
     "data": {
      "text/plain": [
       "Index(['id', 'first_name', 'last_name', 'company_id', 'network_username'], dtype='object')"
      ]
     },
     "execution_count": 57,
     "metadata": {},
     "output_type": "execute_result"
    }
   ],
   "source": [
    "df_people.columns"
   ]
  },
  {
   "cell_type": "code",
   "execution_count": 58,
   "metadata": {},
   "outputs": [
    {
     "data": {
      "text/plain": [
       "Index(['id', 'person_id', 'instituition', 'graduated_at'], dtype='object')"
      ]
     },
     "execution_count": 58,
     "metadata": {},
     "output_type": "execute_result"
    }
   ],
   "source": [
    "df_education.columns"
   ]
  },
  {
   "cell_type": "code",
   "execution_count": 59,
   "metadata": {},
   "outputs": [
    {
     "data": {
      "text/plain": [
       "Index(['id', 'object_id', 'degree_type', 'subject'], dtype='object')"
      ]
     },
     "execution_count": 59,
     "metadata": {},
     "output_type": "execute_result"
    }
   ],
   "source": [
    "df_degrees.columns"
   ]
  },
  {
   "cell_type": "markdown",
   "metadata": {},
   "source": [
    "Столбец `network_username` встречается в двух датасетах: `df_company_and_rounds` и `df_people`"
   ]
  },
  {
   "cell_type": "markdown",
   "metadata": {},
   "source": [
    "**Проверим сколько раз в датасетах `df_company_and_rounds` и `df_people` встречается инфоромация в столбце `network_username` :**"
   ]
  },
  {
   "cell_type": "code",
   "execution_count": 60,
   "metadata": {},
   "outputs": [
    {
     "data": {
      "text/plain": [
       "79571"
      ]
     },
     "execution_count": 60,
     "metadata": {},
     "output_type": "execute_result"
    }
   ],
   "source": [
    "df_company_and_rounds['network_username'].nunique()"
   ]
  },
  {
   "cell_type": "code",
   "execution_count": 61,
   "metadata": {},
   "outputs": [
    {
     "data": {
      "text/plain": [
       "38421"
      ]
     },
     "execution_count": 61,
     "metadata": {},
     "output_type": "execute_result"
    }
   ],
   "source": [
    "df_people['network_username'].nunique()"
   ]
  },
  {
   "cell_type": "code",
   "execution_count": 62,
   "metadata": {},
   "outputs": [
    {
     "data": {
      "text/plain": [
       "48.28517927385605"
      ]
     },
     "execution_count": 62,
     "metadata": {},
     "output_type": "execute_result"
    }
   ],
   "source": [
    "share_of_unique = (df_people['network_username'].nunique()/df_company_and_rounds['network_username'].nunique())*100\n",
    "share_of_unique"
   ]
  },
  {
   "cell_type": "markdown",
   "metadata": {},
   "source": [
    "В `df_company_and_rounds` 79 571 строка с информацией в столбце `network_username`, а в `df_people` - 38 421 строк."
   ]
  },
  {
   "cell_type": "markdown",
   "metadata": {},
   "source": [
    "**Промежуточные итоги:**\n",
    "\n",
    "Столбец `network_username` встречается в двух таблицах: `df_company_and_rounds` и `df_people`.\n",
    "\n",
    "- В `df_company_and_rounds` содержится 79 571 значений.\n",
    "- В `df_people содержится` 38 421 значений.\n",
    "Так как количество значений в `df_people` составляет 48% от `df_company_and_rounds`, можно предположить, что в `df_company_and_rounds` есть дублирующиеся значения.\n",
    "\n",
    "**Вывод:**\n",
    "так как в данных присутсвует большое количество пропусков и есть дубликаты, объединять датасеты `df_company_and_rounds` и `df_people` не рекомендуется."
   ]
  },
  {
   "cell_type": "markdown",
   "metadata": {},
   "source": [
    "<div class=\"alert alert-warning\">\n",
    "    <h2> Комментарий ревьюера v1<a class=\"tocSkip\"> </h2>\n",
    "    \n",
    "<b>Небольшие замечания и рекомендации💡:</b> Добавлю, что в данных много пропусков и дубликатов, это негативно скажется на результате объединения, я бы **НЕ** рекомендовал такое объединение"
   ]
  },
  {
   "cell_type": "markdown",
   "metadata": {},
   "source": [
    "<div class=\"alert alert-info\">✔️ Комментарии студента:  \n",
    "    \n",
    "    \n",
    "    \n",
    "Дмитрий, спасибо. Учту, запомню (вывод скорректировала)."
   ]
  },
  {
   "cell_type": "markdown",
   "metadata": {},
   "source": [
    "<div class=\"alert alert-success\">\n",
    "<h2> Комментарий ревьюера v2 <a class=\"tocSkip\"> </h2>\n",
    "\n",
    "<b>Все супер!👍:</b> Рад был помочь"
   ]
  },
  {
   "cell_type": "markdown",
   "metadata": {
    "id": "EHcODomVrJg1"
   },
   "source": [
    "\n",
    "### 2.4. Проблемный датасет и причина возникновения пропусков\n",
    "\n",
    "Во время собственного анализа данных у заказчика больше всего вопросов возникло к датасету `company_and_rounds.csv`. В нём много пропусков как раз в информации о раундах, которая заказчику важна.\n",
    "\n",
    "- Любым удобным способом приведите данные в вид, который позволит в дальнейшем проводить анализ в разрезе отдельных компаний. Обратите внимание на структуру датасета, порядок и названия столбцов, проанализируйте значения.\n",
    "\n",
    "По гипотезе заказчика данные по компаниям из этой таблицы раньше хранились иначе, более удобным для исследования образом.\n",
    "\n",
    "- Максимальным образом сохраняя данные, сохранив их связность и исключив возможные возникающие при этом ошибки, подготовьте данные так, чтобы удобно было отобрать компании по параметрам и рассчитать показатели из расчёта на одну компанию без промежуточных агрегаций."
   ]
  },
  {
   "cell_type": "markdown",
   "metadata": {
    "id": "oSk7xqu_FbaN"
   },
   "source": [
    "**Разделим датасет `company_and_rounds.csv` на две таблицы: `company` и `rounds`:**"
   ]
  },
  {
   "cell_type": "markdown",
   "metadata": {},
   "source": [
    "По итогам внимательного изучения наименований столбцов таблицы `company_and_rounds` сформировалась гипотеза: таблица `company_and_rounds` была получена путем объединения двух таблиц:\n",
    "\n",
    "- `company` — содержит информацию о компаниях (идентификатор, название, категория, статус, страна и т. д.).\n",
    "- `rounds` — содержит информацию о раундах финансирования компаний (идентификатор этапа финансирования, тип финансирования, сумма, дата и т. д.). \n",
    "\n",
    "Для того, чтобы привести данные в вид, удобный для анализа, разделим `company_and_rounds` на две таблицы."
   ]
  },
  {
   "cell_type": "markdown",
   "metadata": {},
   "source": [
    "<div class=\"alert alert-success\">\n",
    "<h2> Комментарий ревьюера v1 <a class=\"tocSkip\"> </h2>\n",
    "\n",
    "<b>Все супер!👍:</b>Круто, что удалось сразу предположить как был получен `company_and_rounds` и как с ним удобнее всего работать"
   ]
  },
  {
   "cell_type": "code",
   "execution_count": 63,
   "metadata": {},
   "outputs": [
    {
     "data": {
      "text/plain": [
       "['company_ID',\n",
       " 'name',\n",
       " 'category_code',\n",
       " 'status',\n",
       " 'founded_at',\n",
       " 'closed_at',\n",
       " 'domain',\n",
       " 'network_username',\n",
       " 'country_code',\n",
       " 'investment_rounds',\n",
       " 'funding_rounds',\n",
       " 'funding_total',\n",
       " 'milestones',\n",
       " 'funding_round_id',\n",
       " 'company_id',\n",
       " 'funded_at',\n",
       " 'funding_round_type',\n",
       " 'raised_amount',\n",
       " 'pre_money_valuation',\n",
       " 'participants',\n",
       " 'is_first_round',\n",
       " 'is_last_round']"
      ]
     },
     "execution_count": 63,
     "metadata": {},
     "output_type": "execute_result"
    }
   ],
   "source": [
    "# выведем названия столбцов\n",
    "list(df_company_and_rounds.columns)\n"
   ]
  },
  {
   "cell_type": "code",
   "execution_count": 64,
   "metadata": {},
   "outputs": [
    {
     "data": {
      "text/html": [
       "<div>\n",
       "<style scoped>\n",
       "    .dataframe tbody tr th:only-of-type {\n",
       "        vertical-align: middle;\n",
       "    }\n",
       "\n",
       "    .dataframe tbody tr th {\n",
       "        vertical-align: top;\n",
       "    }\n",
       "\n",
       "    .dataframe thead th {\n",
       "        text-align: right;\n",
       "    }\n",
       "</style>\n",
       "<table border=\"1\" class=\"dataframe\">\n",
       "  <thead>\n",
       "    <tr style=\"text-align: right;\">\n",
       "      <th></th>\n",
       "      <th>company_ID</th>\n",
       "      <th>name</th>\n",
       "      <th>category_code</th>\n",
       "      <th>status</th>\n",
       "      <th>founded_at</th>\n",
       "      <th>closed_at</th>\n",
       "      <th>domain</th>\n",
       "      <th>network_username</th>\n",
       "      <th>country_code</th>\n",
       "      <th>investment_rounds</th>\n",
       "      <th>funding_rounds</th>\n",
       "      <th>funding_total</th>\n",
       "      <th>milestones</th>\n",
       "    </tr>\n",
       "  </thead>\n",
       "  <tbody>\n",
       "    <tr>\n",
       "      <th>0</th>\n",
       "      <td>1.00</td>\n",
       "      <td>Wetpaint</td>\n",
       "      <td>web</td>\n",
       "      <td>operating</td>\n",
       "      <td>2005-10-17</td>\n",
       "      <td>NaT</td>\n",
       "      <td>wetpaint-inc.com</td>\n",
       "      <td>BachelrWetpaint</td>\n",
       "      <td>USA</td>\n",
       "      <td>0.00</td>\n",
       "      <td>3.00</td>\n",
       "      <td>39,750,000.00</td>\n",
       "      <td>5.00</td>\n",
       "    </tr>\n",
       "    <tr>\n",
       "      <th>1</th>\n",
       "      <td>1.00</td>\n",
       "      <td>Wetpaint</td>\n",
       "      <td>web</td>\n",
       "      <td>operating</td>\n",
       "      <td>2005-10-17</td>\n",
       "      <td>NaT</td>\n",
       "      <td>wetpaint-inc.com</td>\n",
       "      <td>BachelrWetpaint</td>\n",
       "      <td>USA</td>\n",
       "      <td>0.00</td>\n",
       "      <td>3.00</td>\n",
       "      <td>39,750,000.00</td>\n",
       "      <td>5.00</td>\n",
       "    </tr>\n",
       "    <tr>\n",
       "      <th>2</th>\n",
       "      <td>1.00</td>\n",
       "      <td>Wetpaint</td>\n",
       "      <td>web</td>\n",
       "      <td>operating</td>\n",
       "      <td>2005-10-17</td>\n",
       "      <td>NaT</td>\n",
       "      <td>wetpaint-inc.com</td>\n",
       "      <td>BachelrWetpaint</td>\n",
       "      <td>USA</td>\n",
       "      <td>0.00</td>\n",
       "      <td>3.00</td>\n",
       "      <td>39,750,000.00</td>\n",
       "      <td>5.00</td>\n",
       "    </tr>\n",
       "  </tbody>\n",
       "</table>\n",
       "</div>"
      ],
      "text/plain": [
       "   company_ID      name category_code     status founded_at closed_at  \\\n",
       "0        1.00  Wetpaint           web  operating 2005-10-17       NaT   \n",
       "1        1.00  Wetpaint           web  operating 2005-10-17       NaT   \n",
       "2        1.00  Wetpaint           web  operating 2005-10-17       NaT   \n",
       "\n",
       "             domain network_username country_code  investment_rounds  \\\n",
       "0  wetpaint-inc.com  BachelrWetpaint          USA               0.00   \n",
       "1  wetpaint-inc.com  BachelrWetpaint          USA               0.00   \n",
       "2  wetpaint-inc.com  BachelrWetpaint          USA               0.00   \n",
       "\n",
       "   funding_rounds  funding_total  milestones  \n",
       "0            3.00  39,750,000.00        5.00  \n",
       "1            3.00  39,750,000.00        5.00  \n",
       "2            3.00  39,750,000.00        5.00  "
      ]
     },
     "execution_count": 64,
     "metadata": {},
     "output_type": "execute_result"
    }
   ],
   "source": [
    "# Создадим датафрейм df_company\n",
    "\n",
    "df_company = df_company_and_rounds[['company_ID','name','category_code', \n",
    "                          'status', 'founded_at', 'closed_at','domain', 'network_username',\n",
    "                          'country_code', 'investment_rounds', 'funding_rounds', 'funding_total', \n",
    "                          'milestones']]\n",
    "\n",
    "df_company.head(3)"
   ]
  },
  {
   "cell_type": "markdown",
   "metadata": {},
   "source": [
    "Приведем все названия к нижнему регистру:"
   ]
  },
  {
   "cell_type": "code",
   "execution_count": 65,
   "metadata": {},
   "outputs": [
    {
     "data": {
      "text/plain": [
       "Index(['company_id', 'name', 'category_code', 'status', 'founded_at',\n",
       "       'closed_at', 'domain', 'network_username', 'country_code',\n",
       "       'investment_rounds', 'funding_rounds', 'funding_total', 'milestones'],\n",
       "      dtype='object')"
      ]
     },
     "execution_count": 65,
     "metadata": {},
     "output_type": "execute_result"
    }
   ],
   "source": [
    "df_company.columns = df_company.columns.str.lower()\n",
    "\n",
    "df_company.columns"
   ]
  },
  {
   "cell_type": "code",
   "execution_count": 66,
   "metadata": {},
   "outputs": [
    {
     "data": {
      "text/html": [
       "<div>\n",
       "<style scoped>\n",
       "    .dataframe tbody tr th:only-of-type {\n",
       "        vertical-align: middle;\n",
       "    }\n",
       "\n",
       "    .dataframe tbody tr th {\n",
       "        vertical-align: top;\n",
       "    }\n",
       "\n",
       "    .dataframe thead th {\n",
       "        text-align: right;\n",
       "    }\n",
       "</style>\n",
       "<table border=\"1\" class=\"dataframe\">\n",
       "  <thead>\n",
       "    <tr style=\"text-align: right;\">\n",
       "      <th></th>\n",
       "      <th>funding_round_id</th>\n",
       "      <th>company_id</th>\n",
       "      <th>funded_at</th>\n",
       "      <th>funding_round_type</th>\n",
       "      <th>raised_amount</th>\n",
       "      <th>pre_money_valuation</th>\n",
       "      <th>participants</th>\n",
       "      <th>is_first_round</th>\n",
       "      <th>is_last_round</th>\n",
       "    </tr>\n",
       "  </thead>\n",
       "  <tbody>\n",
       "    <tr>\n",
       "      <th>0</th>\n",
       "      <td>888.00</td>\n",
       "      <td>1.00</td>\n",
       "      <td>2005-10-01</td>\n",
       "      <td>series-a</td>\n",
       "      <td>5,250,000.00</td>\n",
       "      <td>0.00</td>\n",
       "      <td>2.00</td>\n",
       "      <td>0.00</td>\n",
       "      <td>1.00</td>\n",
       "    </tr>\n",
       "    <tr>\n",
       "      <th>1</th>\n",
       "      <td>889.00</td>\n",
       "      <td>1.00</td>\n",
       "      <td>2007-01-01</td>\n",
       "      <td>series-b</td>\n",
       "      <td>9,500,000.00</td>\n",
       "      <td>0.00</td>\n",
       "      <td>3.00</td>\n",
       "      <td>0.00</td>\n",
       "      <td>0.00</td>\n",
       "    </tr>\n",
       "    <tr>\n",
       "      <th>2</th>\n",
       "      <td>2,312.00</td>\n",
       "      <td>1.00</td>\n",
       "      <td>2008-05-19</td>\n",
       "      <td>series-c+</td>\n",
       "      <td>25,000,000.00</td>\n",
       "      <td>0.00</td>\n",
       "      <td>4.00</td>\n",
       "      <td>1.00</td>\n",
       "      <td>0.00</td>\n",
       "    </tr>\n",
       "  </tbody>\n",
       "</table>\n",
       "</div>"
      ],
      "text/plain": [
       "   funding_round_id  company_id  funded_at funding_round_type  raised_amount  \\\n",
       "0            888.00        1.00 2005-10-01           series-a   5,250,000.00   \n",
       "1            889.00        1.00 2007-01-01           series-b   9,500,000.00   \n",
       "2          2,312.00        1.00 2008-05-19          series-c+  25,000,000.00   \n",
       "\n",
       "   pre_money_valuation  participants  is_first_round  is_last_round  \n",
       "0                 0.00          2.00            0.00           1.00  \n",
       "1                 0.00          3.00            0.00           0.00  \n",
       "2                 0.00          4.00            1.00           0.00  "
      ]
     },
     "execution_count": 66,
     "metadata": {},
     "output_type": "execute_result"
    }
   ],
   "source": [
    "# Создадим датафрейм df_rounds\n",
    "\n",
    "df_rounds = df_company_and_rounds[['funding_round_id', 'company_id', 'funded_at', 'funding_round_type', 'raised_amount', \n",
    "                                   'pre_money_valuation', 'participants', 'is_first_round', 'is_last_round']]\n",
    "\n",
    "df_rounds.head(3)"
   ]
  },
  {
   "cell_type": "markdown",
   "metadata": {
    "id": "9BY9lTUcFbJ-"
   },
   "source": [
    "**Результат:**\n",
    "\n",
    "После разделения `company_and_rounds` появилось две таблицы:\n",
    "- `company` (уникальные записи о компаниях).\n",
    "- `rounds` (отдельные записи о каждом раунде финансирования).\n",
    "\n",
    "Данные станут  проще для анализа, и можно будет агрегировать показатели по компаниям."
   ]
  },
  {
   "attachments": {
    "image-2.png": {
     "image/png": "[encoded data removed]"
    }
   },
   "cell_type": "markdown",
   "metadata": {},
   "source": [
    "<div class=\"alert alert-block alert-danger\">\n",
    "<h2> Комментарий ревьюера v1<a class=\"tocSkip\"></h2>\n",
    "\n",
    "<b>На доработку🤔:</b> Олеся, подход к решению задачи абсолютно верный, но есть несколько неточностей. \n",
    "    \n",
    "* Давай подробнее взглянем на структуру пропусков\n",
    "    \n",
    "![image-2.png](attachment:image-2.png)\n",
    "    \n",
    "кажется столбец `funding_round_id` юудет логичнее отнести к таблице с раундами финансирования\n",
    "    \n",
    "* Обрати внимание на дублирующиеся строки в таблице компаний, это исказит дальнейший анализ именно по уникальным компаниям\n",
    "    \n",
    "    "
   ]
  },
  {
   "cell_type": "markdown",
   "metadata": {},
   "source": [
    "<div class=\"alert alert-info\">✔️ Комментарии студента:  \n",
    "    \n",
    "    \n",
    "    \n",
    "Исправила."
   ]
  },
  {
   "cell_type": "markdown",
   "metadata": {},
   "source": [
    "<div class=\"alert alert-warning\">\n",
    "    <h2> Комментарий ревьюера v1<a class=\"tocSkip\"> </h2>\n",
    "    \n",
    "<b>Небольшие замечания и рекомендации💡:</b> Я уверен, ты легко поправишь неточности выше, это поможет не терять данные и качественно решить следуеющие задания. После этого\n",
    "    <div class=\"alert alert-info\"> Можешь приступать к разделам 4 и 5!"
   ]
  },
  {
   "cell_type": "markdown",
   "metadata": {},
   "source": [
    "<div class=\"alert alert-warning\">\n",
    "    <h2> Комментарий ревьюера v1<a class=\"tocSkip\"> </h2>\n",
    "    \n",
    "<b>Небольшие замечания и рекомендации💡:</b> Но если возникнут сложности или вопросы мы остановимся на этой части проекта подробнее и детально все разберем"
   ]
  },
  {
   "cell_type": "markdown",
   "metadata": {
    "id": "bmVYhphNrJg2"
   },
   "source": [
    "\n",
    "## Шаг 3. Исследовательский анализ объединённых таблиц\n",
    "\n"
   ]
  },
  {
   "cell_type": "markdown",
   "metadata": {
    "id": "3Di6tCT3rJg2"
   },
   "source": [
    "\n",
    "### 3.1. Объединение данных\n",
    "\n",
    "Объедините данные для ответа на вопросы заказчика, которые касаются интересующих его компаний. Заказчика прежде всего интересуют те компании, которые меняли или готовы менять владельцев. Получение инвестиций или финансирования, по мнению заказчика, означает интерес к покупке или продаже компании.\n",
    "\n",
    "В качестве основы для объединённой таблицы возьмите данные из обработанного датасета `company_and_rounds.csv` — выберите только те компании, у которых указаны значения `funding_rounds` или `investment_rounds` больше нуля, или те, у которых в колонке `status` указано `acquired`. В результирующей таблице должно получиться порядка 40 тысяч компаний.\n",
    "\n",
    "Проверьте полноту и корректность получившейся таблицы. Далее работайте только с этими данными."
   ]
  },
  {
   "cell_type": "code",
   "execution_count": 67,
   "metadata": {
    "scrolled": true
   },
   "outputs": [
    {
     "name": "stdout",
     "output_type": "stream",
     "text": [
      "<class 'pandas.core.frame.DataFrame'>\n",
      "Int64Index: 61666 entries, 0 to 217471\n",
      "Data columns (total 13 columns):\n",
      " #   Column             Non-Null Count  Dtype         \n",
      "---  ------             --------------  -----         \n",
      " 0   company_id         61666 non-null  float64       \n",
      " 1   name               61666 non-null  object        \n",
      " 2   category_code      56015 non-null  object        \n",
      " 3   status             61666 non-null  object        \n",
      " 4   founded_at         46536 non-null  datetime64[ns]\n",
      " 5   closed_at          2957 non-null   datetime64[ns]\n",
      " 6   domain             56368 non-null  object        \n",
      " 7   network_username   35793 non-null  object        \n",
      " 8   country_code       55359 non-null  object        \n",
      " 9   investment_rounds  61666 non-null  float64       \n",
      " 10  funding_rounds     61666 non-null  float64       \n",
      " 11  funding_total      61666 non-null  float64       \n",
      " 12  milestones         61666 non-null  float64       \n",
      "dtypes: datetime64[ns](2), float64(5), object(6)\n",
      "memory usage: 6.6+ MB\n"
     ]
    }
   ],
   "source": [
    "# Фильтруем данные - оставляем только те компании которые получили финансирование или были куплены\n",
    "df_company_filtered = df_company[\n",
    "    ((df_company['funding_rounds'] > 0))|\n",
    "    ((df_company['investment_rounds'] > 0))|\n",
    "    (df_company['status'] == 'acquired')\n",
    "]\n",
    "\n",
    "df_company_filtered.info()"
   ]
  },
  {
   "cell_type": "markdown",
   "metadata": {},
   "source": [
    "<div class=\"alert alert-block alert-danger\">\n",
    "<h2> Комментарий ревьюера v2<a class=\"tocSkip\"></h2>\n",
    "\n",
    "<b>На доработку🤔:</b> Условия фильтрации ты подобрала абсолютно верно, но не обратила внимание на мое замечание про дублирующиеся строки в таблице компаний. Если я его не очень заметно написал, то прошу прощение, что тебе пришлось затратить лишнее время("
   ]
  },
  {
   "cell_type": "markdown",
   "metadata": {},
   "source": [
    "<div class=\"alert alert-info\">✔️ Комментарии студента:  \n",
    "    \n",
    "    \n",
    "    \n",
    "Да, я не обратила внимание на твой комментарий, извини. Спасибо!"
   ]
  },
  {
   "cell_type": "markdown",
   "metadata": {},
   "source": [
    "<div class=\"alert alert-success\">\n",
    "<h2> Комментарий ревьюера v3 <a class=\"tocSkip\"> </h2>\n",
    "\n",
    "<b>Все супер!👍:</b> Ничего страшного, бывает, главное, что мы разобрались во всем)"
   ]
  },
  {
   "cell_type": "code",
   "execution_count": 68,
   "metadata": {},
   "outputs": [
    {
     "data": {
      "text/html": [
       "<div>\n",
       "<style scoped>\n",
       "    .dataframe tbody tr th:only-of-type {\n",
       "        vertical-align: middle;\n",
       "    }\n",
       "\n",
       "    .dataframe tbody tr th {\n",
       "        vertical-align: top;\n",
       "    }\n",
       "\n",
       "    .dataframe thead th {\n",
       "        text-align: right;\n",
       "    }\n",
       "</style>\n",
       "<table border=\"1\" class=\"dataframe\">\n",
       "  <thead>\n",
       "    <tr style=\"text-align: right;\">\n",
       "      <th></th>\n",
       "      <th>company_id</th>\n",
       "      <th>name</th>\n",
       "      <th>category_code</th>\n",
       "      <th>status</th>\n",
       "      <th>founded_at</th>\n",
       "      <th>closed_at</th>\n",
       "      <th>domain</th>\n",
       "      <th>network_username</th>\n",
       "      <th>country_code</th>\n",
       "      <th>investment_rounds</th>\n",
       "      <th>funding_rounds</th>\n",
       "      <th>funding_total</th>\n",
       "      <th>milestones</th>\n",
       "    </tr>\n",
       "  </thead>\n",
       "  <tbody>\n",
       "    <tr>\n",
       "      <th>0</th>\n",
       "      <td>1.00</td>\n",
       "      <td>Wetpaint</td>\n",
       "      <td>web</td>\n",
       "      <td>operating</td>\n",
       "      <td>2005-10-17</td>\n",
       "      <td>NaT</td>\n",
       "      <td>wetpaint-inc.com</td>\n",
       "      <td>BachelrWetpaint</td>\n",
       "      <td>USA</td>\n",
       "      <td>0.00</td>\n",
       "      <td>3.00</td>\n",
       "      <td>39,750,000.00</td>\n",
       "      <td>5.00</td>\n",
       "    </tr>\n",
       "    <tr>\n",
       "      <th>3</th>\n",
       "      <td>10.00</td>\n",
       "      <td>Flektor</td>\n",
       "      <td>games_video</td>\n",
       "      <td>acquired</td>\n",
       "      <td>NaT</td>\n",
       "      <td>NaT</td>\n",
       "      <td>flektor.com</td>\n",
       "      <td>NaN</td>\n",
       "      <td>USA</td>\n",
       "      <td>0.00</td>\n",
       "      <td>0.00</td>\n",
       "      <td>0.00</td>\n",
       "      <td>0.00</td>\n",
       "    </tr>\n",
       "    <tr>\n",
       "      <th>4</th>\n",
       "      <td>100.00</td>\n",
       "      <td>There</td>\n",
       "      <td>games_video</td>\n",
       "      <td>acquired</td>\n",
       "      <td>NaT</td>\n",
       "      <td>NaT</td>\n",
       "      <td>there.com</td>\n",
       "      <td>NaN</td>\n",
       "      <td>USA</td>\n",
       "      <td>0.00</td>\n",
       "      <td>0.00</td>\n",
       "      <td>0.00</td>\n",
       "      <td>4.00</td>\n",
       "    </tr>\n",
       "    <tr>\n",
       "      <th>15</th>\n",
       "      <td>1,001.00</td>\n",
       "      <td>FriendFeed</td>\n",
       "      <td>web</td>\n",
       "      <td>acquired</td>\n",
       "      <td>2007-10-01</td>\n",
       "      <td>NaT</td>\n",
       "      <td>friendfeed.com</td>\n",
       "      <td>friendfeed</td>\n",
       "      <td>USA</td>\n",
       "      <td>0.00</td>\n",
       "      <td>1.00</td>\n",
       "      <td>5,000,000.00</td>\n",
       "      <td>3.00</td>\n",
       "    </tr>\n",
       "    <tr>\n",
       "      <th>20</th>\n",
       "      <td>10,014.00</td>\n",
       "      <td>Mobclix</td>\n",
       "      <td>mobile</td>\n",
       "      <td>acquired</td>\n",
       "      <td>2008-03-01</td>\n",
       "      <td>NaT</td>\n",
       "      <td>mobclix.com</td>\n",
       "      <td>mobclix</td>\n",
       "      <td>USA</td>\n",
       "      <td>0.00</td>\n",
       "      <td>1.00</td>\n",
       "      <td>0.00</td>\n",
       "      <td>4.00</td>\n",
       "    </tr>\n",
       "    <tr>\n",
       "      <th>...</th>\n",
       "      <td>...</td>\n",
       "      <td>...</td>\n",
       "      <td>...</td>\n",
       "      <td>...</td>\n",
       "      <td>...</td>\n",
       "      <td>...</td>\n",
       "      <td>...</td>\n",
       "      <td>...</td>\n",
       "      <td>...</td>\n",
       "      <td>...</td>\n",
       "      <td>...</td>\n",
       "      <td>...</td>\n",
       "      <td>...</td>\n",
       "    </tr>\n",
       "    <tr>\n",
       "      <th>217458</th>\n",
       "      <td>1,344.00</td>\n",
       "      <td>Vobile</td>\n",
       "      <td>web</td>\n",
       "      <td>operating</td>\n",
       "      <td>2005-01-01</td>\n",
       "      <td>NaT</td>\n",
       "      <td>vobileinc.com</td>\n",
       "      <td>networkmobile</td>\n",
       "      <td>USA</td>\n",
       "      <td>0.00</td>\n",
       "      <td>1.00</td>\n",
       "      <td>10,000,000.00</td>\n",
       "      <td>0.00</td>\n",
       "    </tr>\n",
       "    <tr>\n",
       "      <th>217459</th>\n",
       "      <td>142,181.00</td>\n",
       "      <td>Stop Being Watched</td>\n",
       "      <td>software</td>\n",
       "      <td>operating</td>\n",
       "      <td>2010-06-10</td>\n",
       "      <td>NaT</td>\n",
       "      <td>stopbeingwatched.com</td>\n",
       "      <td>SBWinfonetwork</td>\n",
       "      <td>USA</td>\n",
       "      <td>0.00</td>\n",
       "      <td>1.00</td>\n",
       "      <td>500,000.00</td>\n",
       "      <td>1.00</td>\n",
       "    </tr>\n",
       "    <tr>\n",
       "      <th>217463</th>\n",
       "      <td>3,429.00</td>\n",
       "      <td>Zend Technologies</td>\n",
       "      <td>software</td>\n",
       "      <td>operating</td>\n",
       "      <td>1999-01-01</td>\n",
       "      <td>NaT</td>\n",
       "      <td>zend.com</td>\n",
       "      <td>networkzend</td>\n",
       "      <td>USA</td>\n",
       "      <td>0.00</td>\n",
       "      <td>4.00</td>\n",
       "      <td>44,000,000.00</td>\n",
       "      <td>6.00</td>\n",
       "    </tr>\n",
       "    <tr>\n",
       "      <th>217467</th>\n",
       "      <td>7,748.00</td>\n",
       "      <td>Flowgram</td>\n",
       "      <td>web</td>\n",
       "      <td>closed</td>\n",
       "      <td>2007-06-01</td>\n",
       "      <td>2008-06-11</td>\n",
       "      <td>flowgram.com</td>\n",
       "      <td>network</td>\n",
       "      <td>USA</td>\n",
       "      <td>0.00</td>\n",
       "      <td>1.00</td>\n",
       "      <td>1,300,000.00</td>\n",
       "      <td>3.00</td>\n",
       "    </tr>\n",
       "    <tr>\n",
       "      <th>217469</th>\n",
       "      <td>43,233.00</td>\n",
       "      <td>Photonet</td>\n",
       "      <td>photo_video</td>\n",
       "      <td>acquired</td>\n",
       "      <td>2010-03-01</td>\n",
       "      <td>NaT</td>\n",
       "      <td>Photonet.com</td>\n",
       "      <td>Photonet</td>\n",
       "      <td>USA</td>\n",
       "      <td>0.00</td>\n",
       "      <td>3.00</td>\n",
       "      <td>57,500,000.00</td>\n",
       "      <td>3.00</td>\n",
       "    </tr>\n",
       "  </tbody>\n",
       "</table>\n",
       "<p>40747 rows × 13 columns</p>\n",
       "</div>"
      ],
      "text/plain": [
       "        company_id                name category_code     status founded_at  \\\n",
       "0             1.00            Wetpaint           web  operating 2005-10-17   \n",
       "3            10.00             Flektor   games_video   acquired        NaT   \n",
       "4           100.00               There   games_video   acquired        NaT   \n",
       "15        1,001.00          FriendFeed           web   acquired 2007-10-01   \n",
       "20       10,014.00             Mobclix        mobile   acquired 2008-03-01   \n",
       "...            ...                 ...           ...        ...        ...   \n",
       "217458    1,344.00              Vobile           web  operating 2005-01-01   \n",
       "217459  142,181.00  Stop Being Watched      software  operating 2010-06-10   \n",
       "217463    3,429.00   Zend Technologies      software  operating 1999-01-01   \n",
       "217467    7,748.00            Flowgram           web     closed 2007-06-01   \n",
       "217469   43,233.00            Photonet   photo_video   acquired 2010-03-01   \n",
       "\n",
       "        closed_at                domain network_username country_code  \\\n",
       "0             NaT      wetpaint-inc.com  BachelrWetpaint          USA   \n",
       "3             NaT           flektor.com              NaN          USA   \n",
       "4             NaT             there.com              NaN          USA   \n",
       "15            NaT        friendfeed.com       friendfeed          USA   \n",
       "20            NaT           mobclix.com          mobclix          USA   \n",
       "...           ...                   ...              ...          ...   \n",
       "217458        NaT         vobileinc.com    networkmobile          USA   \n",
       "217459        NaT  stopbeingwatched.com   SBWinfonetwork          USA   \n",
       "217463        NaT              zend.com      networkzend          USA   \n",
       "217467 2008-06-11          flowgram.com          network          USA   \n",
       "217469        NaT          Photonet.com         Photonet          USA   \n",
       "\n",
       "        investment_rounds  funding_rounds  funding_total  milestones  \n",
       "0                    0.00            3.00  39,750,000.00        5.00  \n",
       "3                    0.00            0.00           0.00        0.00  \n",
       "4                    0.00            0.00           0.00        4.00  \n",
       "15                   0.00            1.00   5,000,000.00        3.00  \n",
       "20                   0.00            1.00           0.00        4.00  \n",
       "...                   ...             ...            ...         ...  \n",
       "217458               0.00            1.00  10,000,000.00        0.00  \n",
       "217459               0.00            1.00     500,000.00        1.00  \n",
       "217463               0.00            4.00  44,000,000.00        6.00  \n",
       "217467               0.00            1.00   1,300,000.00        3.00  \n",
       "217469               0.00            3.00  57,500,000.00        3.00  \n",
       "\n",
       "[40747 rows x 13 columns]"
      ]
     },
     "execution_count": 68,
     "metadata": {},
     "output_type": "execute_result"
    }
   ],
   "source": [
    "# Удаляем явные дубликаты \n",
    "df_company_filtered = df_company_filtered.drop_duplicates()\n",
    "df_company_filtered"
   ]
  },
  {
   "cell_type": "code",
   "execution_count": 69,
   "metadata": {
    "id": "kuV1b5MXFg3_"
   },
   "outputs": [
    {
     "name": "stdout",
     "output_type": "stream",
     "text": [
      "<class 'pandas.core.frame.DataFrame'>\n",
      "Int64Index: 40890 entries, 0 to 40889\n",
      "Data columns (total 19 columns):\n",
      " #   Column                Non-Null Count  Dtype         \n",
      "---  ------                --------------  -----         \n",
      " 0   company_id            40890 non-null  float64       \n",
      " 1   name                  40890 non-null  object        \n",
      " 2   category_code         35436 non-null  object        \n",
      " 3   status                40890 non-null  object        \n",
      " 4   founded_at            27911 non-null  datetime64[ns]\n",
      " 5   closed_at             2128 non-null   datetime64[ns]\n",
      " 6   domain                35883 non-null  object        \n",
      " 7   network_username      20938 non-null  object        \n",
      " 8   country_code          34858 non-null  object        \n",
      " 9   investment_rounds     40890 non-null  float64       \n",
      " 10  funding_rounds        40890 non-null  float64       \n",
      " 11  funding_total         40890 non-null  float64       \n",
      " 12  milestones            40890 non-null  float64       \n",
      " 13  id                    9390 non-null   float64       \n",
      " 14  acquiring_company_id  9390 non-null   float64       \n",
      " 15  acquired_company_id   9390 non-null   float64       \n",
      " 16  term_code             1830 non-null   object        \n",
      " 17  price_amount          9390 non-null   float64       \n",
      " 18  acquired_at           9361 non-null   datetime64[ns]\n",
      "dtypes: datetime64[ns](3), float64(9), object(7)\n",
      "memory usage: 6.2+ MB\n"
     ]
    }
   ],
   "source": [
    "# Присоединяем таблицу acquisition, чтобы получить данные о продающихся компаниях\n",
    "\n",
    "df_acquisitions = df_company_filtered.merge(df_acquisition, left_on='company_id', right_on='acquired_company_id', how='left')\n",
    "\n",
    "df_acquisitions.info()"
   ]
  },
  {
   "cell_type": "code",
   "execution_count": 70,
   "metadata": {},
   "outputs": [
    {
     "data": {
      "text/html": [
       "<div>\n",
       "<style scoped>\n",
       "    .dataframe tbody tr th:only-of-type {\n",
       "        vertical-align: middle;\n",
       "    }\n",
       "\n",
       "    .dataframe tbody tr th {\n",
       "        vertical-align: top;\n",
       "    }\n",
       "\n",
       "    .dataframe thead th {\n",
       "        text-align: right;\n",
       "    }\n",
       "</style>\n",
       "<table border=\"1\" class=\"dataframe\">\n",
       "  <thead>\n",
       "    <tr style=\"text-align: right;\">\n",
       "      <th></th>\n",
       "      <th>Пропущенные значения</th>\n",
       "      <th>Доля</th>\n",
       "    </tr>\n",
       "  </thead>\n",
       "  <tbody>\n",
       "    <tr>\n",
       "      <th>term_code</th>\n",
       "      <td>39060</td>\n",
       "      <td>95.52</td>\n",
       "    </tr>\n",
       "    <tr>\n",
       "      <th>closed_at</th>\n",
       "      <td>38762</td>\n",
       "      <td>94.80</td>\n",
       "    </tr>\n",
       "    <tr>\n",
       "      <th>acquired_at</th>\n",
       "      <td>31529</td>\n",
       "      <td>77.11</td>\n",
       "    </tr>\n",
       "    <tr>\n",
       "      <th>id</th>\n",
       "      <td>31500</td>\n",
       "      <td>77.04</td>\n",
       "    </tr>\n",
       "    <tr>\n",
       "      <th>price_amount</th>\n",
       "      <td>31500</td>\n",
       "      <td>77.04</td>\n",
       "    </tr>\n",
       "    <tr>\n",
       "      <th>acquired_company_id</th>\n",
       "      <td>31500</td>\n",
       "      <td>77.04</td>\n",
       "    </tr>\n",
       "    <tr>\n",
       "      <th>acquiring_company_id</th>\n",
       "      <td>31500</td>\n",
       "      <td>77.04</td>\n",
       "    </tr>\n",
       "    <tr>\n",
       "      <th>network_username</th>\n",
       "      <td>19952</td>\n",
       "      <td>48.79</td>\n",
       "    </tr>\n",
       "    <tr>\n",
       "      <th>founded_at</th>\n",
       "      <td>12979</td>\n",
       "      <td>31.74</td>\n",
       "    </tr>\n",
       "    <tr>\n",
       "      <th>country_code</th>\n",
       "      <td>6032</td>\n",
       "      <td>14.75</td>\n",
       "    </tr>\n",
       "    <tr>\n",
       "      <th>category_code</th>\n",
       "      <td>5454</td>\n",
       "      <td>13.34</td>\n",
       "    </tr>\n",
       "    <tr>\n",
       "      <th>domain</th>\n",
       "      <td>5007</td>\n",
       "      <td>12.25</td>\n",
       "    </tr>\n",
       "    <tr>\n",
       "      <th>company_id</th>\n",
       "      <td>0</td>\n",
       "      <td>0.00</td>\n",
       "    </tr>\n",
       "    <tr>\n",
       "      <th>milestones</th>\n",
       "      <td>0</td>\n",
       "      <td>0.00</td>\n",
       "    </tr>\n",
       "    <tr>\n",
       "      <th>funding_total</th>\n",
       "      <td>0</td>\n",
       "      <td>0.00</td>\n",
       "    </tr>\n",
       "    <tr>\n",
       "      <th>funding_rounds</th>\n",
       "      <td>0</td>\n",
       "      <td>0.00</td>\n",
       "    </tr>\n",
       "    <tr>\n",
       "      <th>name</th>\n",
       "      <td>0</td>\n",
       "      <td>0.00</td>\n",
       "    </tr>\n",
       "    <tr>\n",
       "      <th>status</th>\n",
       "      <td>0</td>\n",
       "      <td>0.00</td>\n",
       "    </tr>\n",
       "    <tr>\n",
       "      <th>investment_rounds</th>\n",
       "      <td>0</td>\n",
       "      <td>0.00</td>\n",
       "    </tr>\n",
       "  </tbody>\n",
       "</table>\n",
       "</div>"
      ],
      "text/plain": [
       "                      Пропущенные значения  Доля\n",
       "term_code                            39060 95.52\n",
       "closed_at                            38762 94.80\n",
       "acquired_at                          31529 77.11\n",
       "id                                   31500 77.04\n",
       "price_amount                         31500 77.04\n",
       "acquired_company_id                  31500 77.04\n",
       "acquiring_company_id                 31500 77.04\n",
       "network_username                     19952 48.79\n",
       "founded_at                           12979 31.74\n",
       "country_code                          6032 14.75\n",
       "category_code                         5454 13.34\n",
       "domain                                5007 12.25\n",
       "company_id                               0  0.00\n",
       "milestones                               0  0.00\n",
       "funding_total                            0  0.00\n",
       "funding_rounds                           0  0.00\n",
       "name                                     0  0.00\n",
       "status                                   0  0.00\n",
       "investment_rounds                        0  0.00"
      ]
     },
     "execution_count": 70,
     "metadata": {},
     "output_type": "execute_result"
    }
   ],
   "source": [
    "# Посчитаем пропуски\n",
    "missing_values = df_acquisitions.isna().sum()\n",
    "total_values = len(df_acquisitions)\n",
    "missing_share = (missing_values / total_values) *100\n",
    "\n",
    "missing_data = pd.DataFrame({'Пропущенные значения': missing_values, 'Доля':missing_share})\n",
    "missing_data.sort_values(by='Доля', ascending=False, inplace=True)\n",
    "\n",
    "missing_data"
   ]
  },
  {
   "cell_type": "markdown",
   "metadata": {},
   "source": [
    "Для получения данных, необходимых для дальнейшего анализа, в датасете `df_company` отсавили только те компании, которые получили финанасирование, инвестиции либо были куплены. Затем присоединили к датасету таблицу `df_acquisition`с данными о покупках одними компаниями других компаний.  \n",
    "\n",
    "Итоговый датасет `df_acquisitions` состоит из 19 столбцов и 40 890 строк. В 12 столбцах наблюдаются пропуски данных."
   ]
  },
  {
   "cell_type": "markdown",
   "metadata": {
    "id": "DFHINkV3rJg2"
   },
   "source": [
    "\n",
    "### 3.2. Анализ выбросов\n",
    "\n",
    "Заказчика интересует обычный для рассматриваемого периода размер средств, который предоставлялся компаниям.\n",
    "\n",
    "- По предобработанному столбцу `funding_total` графическим способом оцените, какой размер общего финансирования для одной компании будет типичным, а какой — выбивающимся.\n",
    "- В процессе расчёта значений обратите внимание, например, на показатели, возвращаемые методом `.describe()`, — объясните их. Применимы ли к таким данным обычные способы нахождения типичных значений?"
   ]
  },
  {
   "cell_type": "code",
   "execution_count": 71,
   "metadata": {
    "id": "8jm75fKXrJg2",
    "vscode": {
     "languageId": "plaintext"
    }
   },
   "outputs": [
    {
     "data": {
      "text/plain": [
       "count          40,890.00\n",
       "mean       10,135,585.95\n",
       "std        56,412,886.91\n",
       "min                 0.00\n",
       "25%                 0.00\n",
       "50%           600,000.00\n",
       "75%         5,631,320.00\n",
       "max     5,700,000,000.00\n",
       "Name: funding_total, dtype: float64"
      ]
     },
     "execution_count": 71,
     "metadata": {},
     "output_type": "execute_result"
    }
   ],
   "source": [
    "# Выведем статистические данные по размеру финансирования\n",
    "df_acquisitions['funding_total'].describe()"
   ]
  },
  {
   "cell_type": "markdown",
   "metadata": {},
   "source": [
    "По статистическим данным можно сделать следующие выводы:\n",
    "- `Среднее` = 10.1 млн: среднее значение сильно завышается из-за выбросов (очень крупных сумм финансирования), поэтому для анализа лучше использовать медиану.\n",
    "- `Стандартное отклонение` = 56.6 млн: очень большое стандартное отклонение указывает на большой разброс в данных и наличие экстремальных значений.\n",
    "- `Минимум и 25%` = 0.00: Это означает, что 25% компаний не получают финансирования или имеют его равным нулю.\n",
    "- `Медиана` = 600 тыс.: Это типичное значение размера финансирования, которое встречается у большинства компаний.\n",
    "- `75-й перцентиль` = 5.6 млн: Это означает, что 75% компаний получают финансирование менее чем 5.6 млн.\n",
    "- `Максимум` = 5.7 млрд - это огромный выброс, указывающий на аномальные (редкие) сделки.\n",
    "\n",
    "\n",
    "Среднее искажается крупными сделками, поэтому, для нахождения типичных значений лучше использовать медиану и межквартильный размах (IQR: от 25% до 75%). Значения выше третьего квартиля (75% данных) считаются выбросами. \n",
    "\n",
    "Отрежем экстремальные выбросы при построении диаграммы - будем показывать только до Q3 + 1.5 × IQR, а не до максимума."
   ]
  },
  {
   "cell_type": "markdown",
   "metadata": {},
   "source": [
    "**Строим диаграмму размаха для визуализации данных**"
   ]
  },
  {
   "cell_type": "code",
   "execution_count": 72,
   "metadata": {
    "id": "S1jrfr7rFhcw"
   },
   "outputs": [
    {
     "data": {
      "image/png": "[encoded data removed]",
      "text/plain": [
       "<Figure size 864x432 with 1 Axes>"
      ]
     },
     "metadata": {
      "needs_background": "light"
     },
     "output_type": "display_data"
    }
   ],
   "source": [
    "# Вычислим границы выбросов\n",
    "\n",
    "Q1 = df_acquisitions['funding_total'].quantile(0.25)\n",
    "Q3 = df_acquisitions['funding_total'].quantile(0.75)\n",
    "IQR = Q3 - Q1 # межквартильный размах\n",
    "upper_bound = Q3 + 1.5 * IQR  # Верхняя граница выброса \n",
    "\n",
    "# Отбрасываем выбросы\n",
    "df_cleaned = df_acquisitions[df_acquisitions['funding_total'] <= upper_bound]\n",
    "\n",
    "# Cтроим \"ящик с усами\"\n",
    "\n",
    "plt.figure(figsize= (12,6))\n",
    "plt.boxplot(df_cleaned['funding_total'], vert=False)\n",
    "plt.xlabel ('Общий объем финансирования')\n",
    "plt.title('Диаграмма распределения суммы финансирования (без экстремальных выбросов)')\n",
    "plt.show()\n"
   ]
  },
  {
   "cell_type": "markdown",
   "metadata": {},
   "source": [
    "**Промежуточные выводы:**\n",
    "- Типичное значение финансирования — 600 тыс. (медиана).\n",
    "- Сделки выше 5,66 млн считаются выбросами по IQR-методу.\n",
    "- Среднее (10 млн) сильно завышено крупными сделками , поэтому ориентируемся на медиану и IQR.\n",
    "- Для анализа лучше исключить выбросы, так как они могут помешать увидеть тренды среди большинства компаний.\n"
   ]
  },
  {
   "cell_type": "markdown",
   "metadata": {},
   "source": [
    "<div class=\"alert alert-success\">\n",
    "<h2> Комментарий ревьюера v3 <a class=\"tocSkip\"> </h2>\n",
    "\n",
    "<b>Все супер!👍:</b> Молодец, что обратила внимание на особенности основных статистик и правильно их интерпретировала, с графическим представлением тоже все ОК"
   ]
  },
  {
   "cell_type": "markdown",
   "metadata": {
    "id": "JqkRAQrIrJg2"
   },
   "source": [
    "\n",
    "### 3.3. Куплены забесплатно?\n",
    "\n",
    "- Исследуйте компании, которые были проданы за ноль или за один доллар, и при этом известно, что у них был ненулевой общий объём финансирования.\n",
    "\n",
    "- Рассчитайте аналитически верхнюю и нижнюю границу выбросов для столбца `funding_total` и укажите, каким процентилям границы соответствуют."
   ]
  },
  {
   "cell_type": "code",
   "execution_count": 73,
   "metadata": {
    "id": "wJHXCBwwrJg2",
    "vscode": {
     "languageId": "plaintext"
    }
   },
   "outputs": [],
   "source": [
    "# Найдем компании, которые были куплены за 1 доллар или бесплатно\n",
    "df_low_prices = df_acquisitions[\n",
    "    (df_acquisitions['price_amount'] <= 1) & (df_acquisitions['funding_total'] > 0)\n",
    "]"
   ]
  },
  {
   "cell_type": "code",
   "execution_count": 74,
   "metadata": {
    "id": "9IDTHfYQFhuX"
   },
   "outputs": [
    {
     "data": {
      "text/plain": [
       "count           1,618.00\n",
       "mean       18,152,961.94\n",
       "std       144,503,027.47\n",
       "min             3,750.00\n",
       "25%         2,000,000.00\n",
       "50%         6,000,000.00\n",
       "75%        15,500,000.00\n",
       "max     5,700,000,000.00\n",
       "Name: funding_total, dtype: float64"
      ]
     },
     "execution_count": 74,
     "metadata": {},
     "output_type": "execute_result"
    }
   ],
   "source": [
    "# Выведем статистические данные по сумме финансирования (funding_total)\n",
    "\n",
    "df_low_prices['funding_total'].describe()"
   ]
  },
  {
   "cell_type": "code",
   "execution_count": 75,
   "metadata": {},
   "outputs": [
    {
     "name": "stdout",
     "output_type": "stream",
     "text": [
      "Верхняя граница выброса: 35750000.0. Верхний перцентиль:9.09%\n",
      "Нижняя граница выброса: -18250000.0. Нижний перцентиль:0.0%\n"
     ]
    }
   ],
   "source": [
    "# Вычислим границы выбросов по сумме финансирования для компаний купленных за 0 или 1 доллар\n",
    "\n",
    "Q1 = df_low_prices['funding_total'].quantile(0.25)\n",
    "Q3 = df_low_prices['funding_total'].quantile(0.75)\n",
    "IQR = Q3 - Q1 # межквартильный размах\n",
    "upper_bound = Q3 + 1.5 * IQR  # Верхняя граница выброса \n",
    "lower_bound = Q1 - 1.5 * IQR  # Нижняя граница выброса\n",
    "\n",
    "# Вычислим к каким перцентилям относятся значения границ выбросов\n",
    "upper_percentile = ((df_low_prices['funding_total'] > upper_bound).mean()*100).round(2)  # Верхний перцентиль\n",
    "lower_percentile = (df_low_prices['funding_total'] < lower_bound).mean()*100 # Нижний перцентиль\n",
    "\n",
    "\n",
    "print(f'Верхняя граница выброса: {upper_bound}. Верхний перцентиль:{upper_percentile}%')\n",
    "print(f'Нижняя граница выброса: {lower_bound}. Нижний перцентиль:{lower_percentile}%')"
   ]
  },
  {
   "cell_type": "markdown",
   "metadata": {},
   "source": [
    "**Промежуточные выводы:**  \n",
    "\n",
    "- Верхняя граница выбросов: сумма финансирования = 35 750 000 (9.09% от всех значений). Это означает, что менее 9.09% компаний имеют финансирование, превышающее эту сумму.\n",
    "- Нижняя граница выбросов: сумма финансирования = -18 250 000 (0% от всех значений). Так как в данных нет значений ниже этой границы (min = 3 750), можно сказать, что все данные находятся выше этой границы.\n",
    "- Типичные значения финансирования: для большинства компаний сумма финансирования находится в интервале от 2 млн до 15,5 млн, что соответствует межквартильному размаху (Q1 и Q3). "
   ]
  },
  {
   "cell_type": "markdown",
   "metadata": {},
   "source": [
    "<div class=\"alert alert-warning\">\n",
    "    <h2> Комментарий ревьюера v3<a class=\"tocSkip\"> </h2>\n",
    "    \n",
    "<b>Небольшие замечания и рекомендации💡:</b>Тут считаю важным дополнить, что в финансовых метриках не может быть отрицательной нижней границы. Поэтому за нее стоит принимать 0"
   ]
  },
  {
   "cell_type": "markdown",
   "metadata": {},
   "source": [
    "\n"
   ]
  },
  {
   "cell_type": "markdown",
   "metadata": {
    "id": "mEiWpROjrJg2"
   },
   "source": [
    "\n",
    "### 3.4. Цены стартапов по категориям\n",
    "\n",
    "Категории стартапов с типично высокими ценами покупки стартапов и значительным разбросом цен могут быть привлекательными для крупных инвесторов, которые готовы к высоким рискам ради потенциально больших доходов. Среди категорий стартапов выделите категории стартапов, характеризующиеся:\n",
    "\n",
    "- типично высокими ценами;\n",
    "- и наибольшим разбросом цен за стартап.\n",
    "\n",
    "Объясните, почему решили составить топ именно из такого числа категорий и почему рассчитывали именно так."
   ]
  },
  {
   "cell_type": "code",
   "execution_count": 76,
   "metadata": {
    "id": "jQ09dYUWrJg2",
    "vscode": {
     "languageId": "plaintext"
    }
   },
   "outputs": [
    {
     "data": {
      "text/plain": [
       "count               9,390.00\n",
       "mean          393,988,145.31\n",
       "std        26,846,244,613.76\n",
       "min                     0.00\n",
       "25%                     0.00\n",
       "50%                     0.00\n",
       "75%                23,625.50\n",
       "max     2,600,000,000,000.00\n",
       "Name: price_amount, dtype: float64"
      ]
     },
     "execution_count": 76,
     "metadata": {},
     "output_type": "execute_result"
    }
   ],
   "source": [
    "# Выведем статистические данные по сумме покупки\n",
    "\n",
    "df_acquisitions['price_amount'].describe()"
   ]
  },
  {
   "cell_type": "markdown",
   "metadata": {},
   "source": [
    "Судя по статистическим данным, 50% компаний куплены за 0 долларов, поэтому исключим их из анализа компаний с высокими ценами покупки."
   ]
  },
  {
   "cell_type": "code",
   "execution_count": 77,
   "metadata": {
    "id": "eF1aULm5FjfY"
   },
   "outputs": [
    {
     "name": "stdout",
     "output_type": "stream",
     "text": [
      "Верхняя граница выброса: 643450000.0\n"
     ]
    }
   ],
   "source": [
    "# Фильтруем нулевые значения в столбце 'price_amount'\n",
    "df_acquisitions_filtered = df_acquisitions[df_acquisitions['price_amount'] > 0]\n",
    "\n",
    "# Выделим 25 квартиль (Q1)\n",
    "Q1 = df_acquisitions_filtered['price_amount'].quantile(0.25)\n",
    "# Выделим 75 квартиль (Q3)\n",
    "Q3 = df_acquisitions_filtered['price_amount'].quantile(0.75)\n",
    "# Посчитаем межквартильный размах\n",
    "IQR = Q3 - Q1\n",
    "# Определим верхнюю границу выброса (все, что выше нее будем считать типично выскими ценами покупки)\n",
    "upper_bound = Q3 + 1.5 * IQR\n",
    "\n",
    "print(f'Верхняя граница выброса: {upper_bound}')\n"
   ]
  },
  {
   "cell_type": "code",
   "execution_count": 78,
   "metadata": {},
   "outputs": [
    {
     "data": {
      "text/html": [
       "<div>\n",
       "<style scoped>\n",
       "    .dataframe tbody tr th:only-of-type {\n",
       "        vertical-align: middle;\n",
       "    }\n",
       "\n",
       "    .dataframe tbody tr th {\n",
       "        vertical-align: top;\n",
       "    }\n",
       "\n",
       "    .dataframe thead th {\n",
       "        text-align: right;\n",
       "    }\n",
       "</style>\n",
       "<table border=\"1\" class=\"dataframe\">\n",
       "  <thead>\n",
       "    <tr style=\"text-align: right;\">\n",
       "      <th></th>\n",
       "      <th>median</th>\n",
       "      <th>std</th>\n",
       "    </tr>\n",
       "    <tr>\n",
       "      <th>category_code</th>\n",
       "      <th></th>\n",
       "      <th></th>\n",
       "    </tr>\n",
       "  </thead>\n",
       "  <tbody>\n",
       "    <tr>\n",
       "      <th>health</th>\n",
       "      <td>4,650,000,000.00</td>\n",
       "      <td>1,060,660,171.78</td>\n",
       "    </tr>\n",
       "    <tr>\n",
       "      <th>automotive</th>\n",
       "      <td>3,800,000,000.00</td>\n",
       "      <td>1,979,898,987.32</td>\n",
       "    </tr>\n",
       "    <tr>\n",
       "      <th>semiconductor</th>\n",
       "      <td>3,700,000,000.00</td>\n",
       "      <td>1,989,169,484.51</td>\n",
       "    </tr>\n",
       "  </tbody>\n",
       "</table>\n",
       "</div>"
      ],
      "text/plain": [
       "                        median              std\n",
       "category_code                                  \n",
       "health        4,650,000,000.00 1,060,660,171.78\n",
       "automotive    3,800,000,000.00 1,979,898,987.32\n",
       "semiconductor 3,700,000,000.00 1,989,169,484.51"
      ]
     },
     "execution_count": 78,
     "metadata": {},
     "output_type": "execute_result"
    }
   ],
   "source": [
    "# Отфильтруем компании с суммой покупки выше верхней границы выброса = 643450000.0 (выше типичных значений)\n",
    "\n",
    "df_high_prices = df_acquisitions[df_acquisitions['price_amount'] > upper_bound]\n",
    "\n",
    "# Группируем данные по категориям деятельности стартапов \n",
    "category_group = df_high_prices.groupby('category_code')['price_amount']\n",
    "\n",
    "# Находим медиану и ст.отклонение в разрезе категорий\n",
    "category_stats = category_group.agg(['median', 'std']) # вырали медиану, а не среднее из-за наличия очень больших значений\n",
    "\n",
    "# Выводим топ-5 категорий деятельности по среднему значению и стандартному отклонению\n",
    "top_categories = category_stats.sort_values(by = ['median', 'std'], ascending=[False, False])\n",
    "\n",
    "top_categories.head(3)"
   ]
  },
  {
   "cell_type": "markdown",
   "metadata": {},
   "source": [
    "При определении топ-категорий отталкиваемся от статистических данных столбца `price_amount` и группируем по области деятельности компании `category_code`. \n",
    "Шаги анализа:\n",
    "- Определение компаний с типично высокими ценами: использовала метод IQR для вычисления верхней границы суммы покупки. Затем отфильтровала компании, у которых `price_amount` превышает эту границу (643 450 000.0), и сформировала датасет `df_high_prices` с компаниями, имеющими стандартно высокую сумму покупки.\n",
    "- Определение топ-категорий: cгруппировала данные по `category_code`, вычислила среднее значение суммы покупки и стандартное отклонение, отсортировала категории по убыванию среднего значения и по разбросу (стандартному отклонению).\n",
    "\n",
    "**Промежуточный вывод:**\n",
    "\n",
    "Для ТОП-3 категорий с самыми высокими средними значениями и стандартными отклонениями, можно выделить следующие категории: `Health` (4,6 млрд.), `Automotive`(3,8 млрд.) и `Semiconductor`(3,7 млрд.), так как они отличаются высокими суммами сделок и разбросом цен.\n"
   ]
  },
  {
   "cell_type": "markdown",
   "metadata": {},
   "source": [
    "<div class=\"alert alert-warning\">\n",
    "    <h2> Комментарий ревьюера v3<a class=\"tocSkip\"> </h2>\n",
    "    \n",
    "<b>Небольшие замечания и рекомендации💡:</b> Олеся, ход решения и выводы очень лаконичны. Но из-за начилия одного значения превышающего остальные на несколько порядков лучше взять медиану либо исключить его. Поскольку все остальное выполнено корректно и выдно глубокое понимание задачи я оставлю это замечание на самостоятельную доработку, чтобы не задерживать тебя на пути обучения в Практикуме. Но если возникнут вопросы или сложности можешь обратиться ко мне через куратора, буду рад помочь"
   ]
  },
  {
   "cell_type": "markdown",
   "metadata": {},
   "source": [
    "<div class=\"alert alert-info\">✔️ Комментарии студента:  \n",
    "    \n",
    "    \n",
    "Скорректировала на медиану."
   ]
  },
  {
   "cell_type": "markdown",
   "metadata": {
    "id": "ADOfyVY_rJg3"
   },
   "source": [
    "\n",
    "### 3.5. Сколько раундов продержится стартап перед покупкой\n",
    "\n",
    "- Необходимо проанализировать столбец `funding_rounds`. Исследуйте значения столбца. Заказчика интересует типичное значение количества раундов для каждого возможного статуса стартапа.\n",
    "- Постройте график, который отображает, сколько в среднем раундов финансирования проходило для стартапов из каждой группы. Сделайте выводы."
   ]
  },
  {
   "cell_type": "code",
   "execution_count": 79,
   "metadata": {
    "id": "pV3e7kw5Fj1Y"
   },
   "outputs": [
    {
     "data": {
      "text/html": [
       "<div>\n",
       "<style scoped>\n",
       "    .dataframe tbody tr th:only-of-type {\n",
       "        vertical-align: middle;\n",
       "    }\n",
       "\n",
       "    .dataframe tbody tr th {\n",
       "        vertical-align: top;\n",
       "    }\n",
       "\n",
       "    .dataframe thead th {\n",
       "        text-align: right;\n",
       "    }\n",
       "</style>\n",
       "<table border=\"1\" class=\"dataframe\">\n",
       "  <thead>\n",
       "    <tr style=\"text-align: right;\">\n",
       "      <th></th>\n",
       "      <th>status</th>\n",
       "      <th>funding_rounds</th>\n",
       "    </tr>\n",
       "  </thead>\n",
       "  <tbody>\n",
       "    <tr>\n",
       "      <th>0</th>\n",
       "      <td>acquired</td>\n",
       "      <td>1.00</td>\n",
       "    </tr>\n",
       "    <tr>\n",
       "      <th>1</th>\n",
       "      <td>closed</td>\n",
       "      <td>1.00</td>\n",
       "    </tr>\n",
       "    <tr>\n",
       "      <th>2</th>\n",
       "      <td>operating</td>\n",
       "      <td>2.00</td>\n",
       "    </tr>\n",
       "    <tr>\n",
       "      <th>3</th>\n",
       "      <td>ipo</td>\n",
       "      <td>2.00</td>\n",
       "    </tr>\n",
       "  </tbody>\n",
       "</table>\n",
       "</div>"
      ],
      "text/plain": [
       "      status  funding_rounds\n",
       "0   acquired            1.00\n",
       "1     closed            1.00\n",
       "2  operating            2.00\n",
       "3        ipo            2.00"
      ]
     },
     "execution_count": 79,
     "metadata": {},
     "output_type": "execute_result"
    }
   ],
   "source": [
    "# Сгруппируем данные по статусу стартапа и посчитаем среднее количество раундов\n",
    "grouped_data = df_acquisitions.groupby('status')['funding_rounds'].mean().sort_values(ascending = True).reset_index()\n",
    "\n",
    "# Округлим среднее количество раундов до целого числа\n",
    "grouped_data['funding_rounds'] = grouped_data['funding_rounds'].round()\n",
    "\n",
    "grouped_data"
   ]
  },
  {
   "cell_type": "code",
   "execution_count": 80,
   "metadata": {},
   "outputs": [
    {
     "data": {
      "image/png": "[encoded data removed]",
      "text/plain": [
       "<Figure size 720x432 with 1 Axes>"
      ]
     },
     "metadata": {
      "needs_background": "light"
     },
     "output_type": "display_data"
    }
   ],
   "source": [
    "# Построим график\n",
    "grouped_data.plot(\n",
    "    kind='barh', \n",
    "    x='status',  \n",
    "    y='funding_rounds', \n",
    "    figsize=(10, 6)\n",
    ")\n",
    "\n",
    "plt.title('Среднее количество раундов финансирования по статусу стартапов')\n",
    "plt.xlabel('Среднее количество раундов финансирования')\n",
    "plt.ylabel('Статус стартапа')\n",
    "\n",
    "plt.show()"
   ]
  },
  {
   "cell_type": "markdown",
   "metadata": {},
   "source": [
    " **Промежуточные выводы:**  \n",
    "В датасете представлено 4 категории стартапов: `ipo`, `operating`, `closed`, `acquired`. \n",
    "Среднее количество раундов финансирования для каждой из категорий (после округления до целого числа):\n",
    "  - `ipo` -  2 раунда\n",
    "  - `operating` - 2 раунда\n",
    "  - `closed` - 1 раунд\n",
    "  - `acquired` - 1 раунд."
   ]
  },
  {
   "cell_type": "markdown",
   "metadata": {},
   "source": [
    "<div class=\"alert alert-success\">\n",
    "<h2> Комментарий ревьюера v3 <a class=\"tocSkip\"> </h2>\n",
    "\n",
    "<b>Все супер!👍:</b> Ёмко и понятно для заказчика, хвалю!"
   ]
  },
  {
   "cell_type": "markdown",
   "metadata": {
    "id": "VAFEZ2HBrJg3"
   },
   "source": [
    "\n",
    "## Шаг 4. Итоговый вывод и рекомендации\n"
   ]
  },
  {
   "cell_type": "markdown",
   "metadata": {},
   "source": [
    "В ходе исследования была проведена предобработка данных и подготовлен датасет `df_acquisitions`, содержащий информацию о 40 890 компаниях, с данными о финансировании, инвестициях и сделках по их покупке.\n",
    "\n",
    " \n",
    "### Ключевые выводы:\n",
    "\n",
    "- **Анализ выбросов в финансировании:** \n",
    "   - типичный размер общего финансирования стартапов составляет 600 тыс. долларов.\n",
    "   - сделки выше 5,66 млн долларов являются нетипичными для большинства компаний.\n",
    "   - среднее значение (10 млн долларов) завышено из-за крупных сделок, поэтому целесообразно ориентироваться на медиану.\n",
    "\n",
    "- **Исследование покупок за 0 и 1 доллар:**\n",
    "\n",
    "   - верхняя граница выбросов по сумме финансирования равна 35,75 млн долларов (менее 9,09% стартапов имеют более высокое финансирование).\n",
    "   - нижняя граница выбросов неактуальна, так как минимальная сумма финансирования в датасете — 3 750 долларов.\n",
    "   - большинство стартапов имеют сумму финансирования в диапазоне от 2 до 15,5 млн долларов.\n",
    "   \n",
    "- **Категории стартапов с самыми высокими ценами покупки:** компании с суммой покупки выше 643,45 млн долларов считаются имеющими типично высокие цены.\n",
    "   \n",
    "- **ТОП-3 категории с наибольшими суммами сделок и высоким разбросом цен:**\n",
    "  - Health (4,6 млрд долларов)\n",
    "  - Automotive (3,8 млрд долларов)\n",
    "  - Semiconductor (3,7 млрд долларов)\n",
    "  - Количество раундов финансирования перед покупкой:\n",
    "\n",
    "- **В среднем, стартапы с разными статусами проходят разное количество раундов финансирования:**\n",
    "  - IPO — 2 раунда\n",
    "  - Operating — 2 раунда\n",
    "  - Closed — 1 раунд\n",
    "  - Acquired — 1 раунд\n",
    "\n",
    "\n",
    "\n",
    "### Рекомендации:\n",
    "\n",
    "\n",
    "- **Фокус на проверенные суммы инвестиций:** для большинства стартапов оптимальный объём финансирования – до 600 тыс. долларов. Инвесторам стоит ориентироваться на этот диапазон, чтобы избежать вложений в переоценённые компании.\n",
    "\n",
    "- **Оценка рисков при крупных сделках:** сделки выше 5,66 млн долларов редки, а медиана (600 тыс.) является более показательным значением. Стоит анализировать причины высокой оценки стартапа перед инвестированием.\n",
    "\n",
    "- **Анализ необычных продаж:** продажи за 0 или 1 доллар могут сигнализировать о финансовых проблемах или внутренних расчётах. Инвесторам и покупателям стоит тщательно проверять такие компании.\n",
    "\n",
    "- **Выбор перспективных сфер:** самые дорогие стартапы – в сферах Health, Automotive и Semiconductor. Фондам и инвесторам стоит уделять этим секторам особое внимание.\n",
    "\n",
    "- **Подготовка к сделке:** в среднем, стартапы перед покупкой проходят 1–2 раунда финансирования. Компании, имеющие больше раундов, могут быть переоценёнными, а без раундов - менее надежными.\n",
    "\n",
    "- **Инвестиционная стратегия:** стартапы с финансированием от 2 до 15,5 млн долларов более предсказуемы. Инвесторам стоит учитывать этот диапазон при выборе проектов.\n",
    "\n",
    "\n",
    "**Заключение:** анализ показал, что для успешных сделок по покупке стартапов важно учитывать отрасль, уровень финансирования и количество раундов. Стартапы с высокими суммами сделок привлекательны, но они также более рискованные. Небольшие стартапы могут быть куплены за символические суммы, но в этом случае нужно тщательно анализировать их состояние. Инвесторам стоит учитывать не только размеры вложений, но и рыночные условия, чтобы избежать покупки переоценённых компаний."
   ]
  },
  {
   "cell_type": "markdown",
   "metadata": {},
   "source": [
    "<div class=\"alert alert-warning\">\n",
    "    <h2> Комментарий ревьюера v3 <a class=\"tocSkip\"> </h2>\n",
    "    \n",
    "<b>Небольшие замечания и рекомендации💡:</b> Олеся, итоговый вывод, как и весь проект в целом, выполнен классно! Он структурирован и содержит  наиболее значиные результаты  работы, есть и полезные итоговые рекомендации для бизнеса.  Очень интересный и разумный подход дать рекомендации по интерпретации всех результатов в понятном стиле понятном каждому, даже \"не самому подготовленному\" менеджеру.\n",
    "        \n",
    "Итоговые выводы - важная часть работы и в твоих будующих реальных проектах советую уделять ей особое внимание. Бывают ситуации, когда у руководства нет времени вникать в весь проект и оценка твоих действий будет проводиться именно по ним.    \n",
    "        \n",
    "Я могу порекомендовать добавить в них и результаты двух задач из первой части, не стоит умалчивать о своих успехах и результатах)     "
   ]
  },
  {
   "cell_type": "markdown",
   "metadata": {},
   "source": [
    "<div style=\"border:solid Chocolate 2px; padding: 40px\">\n",
    "    \n",
    "**Общий вывод по проекту ревьювера**:\n",
    "     Спасибо за  проект! Ты приложила много усилий, чтобы довести его до конца, проделана огромная работа, и это видно невооруженным глазом, ты молодец! У тебя отлично развиты аналитические способности и владение инструментарием.\n",
    "    \n",
    "**Отмечу положительные моменты**:\n",
    "    \n",
    "    1. Все разложено по полочкам, всегда понятен ход твоих мыслей, приятно смотреть.\n",
    "    \n",
    "    2. Понятные и логичные выводы на всех этапах работы.\n",
    "    \n",
    "    3. Уместные визуализации.      \n",
    "    \n",
    "    4. Внимание к деталям и глубокая проработка анализа\n",
    "    \n",
    "    5. Оптимальное написание кода\n",
    "    \n",
    "    \n",
    "**Желаю успешного и интересного продолжения учебы. Поздравляю тебя, увидимся в Практикуме!**\n",
    "    \n",
    "    "
   ]
  },
  {
   "cell_type": "code",
   "execution_count": null,
   "metadata": {},
   "outputs": [],
   "source": []
  }
 ],
 "metadata": {
  "ExecuteTimeLog": [
   {
    "duration": 69,
    "start_time": "2025-03-06T20:20:37.348Z"
   },
   {
    "duration": 1329,
    "start_time": "2025-03-06T20:22:16.808Z"
   },
   {
    "duration": 3387,
    "start_time": "2025-03-06T20:23:04.922Z"
   },
   {
    "duration": 76,
    "start_time": "2025-03-06T20:23:34.226Z"
   },
   {
    "duration": 17,
    "start_time": "2025-03-06T20:28:35.283Z"
   },
   {
    "duration": 59,
    "start_time": "2025-03-06T20:29:00.212Z"
   },
   {
    "duration": 9,
    "start_time": "2025-03-06T20:29:04.123Z"
   },
   {
    "duration": 26,
    "start_time": "2025-03-06T20:30:09.713Z"
   },
   {
    "duration": 939,
    "start_time": "2025-03-06T20:33:02.274Z"
   },
   {
    "duration": 869,
    "start_time": "2025-03-06T20:33:21.177Z"
   },
   {
    "duration": 1047,
    "start_time": "2025-03-06T20:33:44.329Z"
   },
   {
    "duration": 1038,
    "start_time": "2025-03-06T20:33:46.389Z"
   },
   {
    "duration": 5,
    "start_time": "2025-03-06T20:37:40.306Z"
   },
   {
    "duration": 10,
    "start_time": "2025-03-06T20:37:53.622Z"
   },
   {
    "duration": 10,
    "start_time": "2025-03-06T20:38:03.968Z"
   },
   {
    "duration": 13,
    "start_time": "2025-03-06T20:38:20.527Z"
   },
   {
    "duration": 10,
    "start_time": "2025-03-06T20:55:47.484Z"
   },
   {
    "duration": 4,
    "start_time": "2025-03-06T20:56:03.952Z"
   },
   {
    "duration": 5,
    "start_time": "2025-03-06T20:56:44.780Z"
   },
   {
    "duration": 4,
    "start_time": "2025-03-06T20:56:59.605Z"
   },
   {
    "duration": 4,
    "start_time": "2025-03-06T20:57:02.217Z"
   },
   {
    "duration": 4,
    "start_time": "2025-03-06T20:57:24.979Z"
   },
   {
    "duration": 9,
    "start_time": "2025-03-06T21:04:11.010Z"
   },
   {
    "duration": 4,
    "start_time": "2025-03-06T21:04:13.655Z"
   },
   {
    "duration": 69,
    "start_time": "2025-03-06T21:04:42.975Z"
   },
   {
    "duration": 93,
    "start_time": "2025-03-06T21:05:07.225Z"
   },
   {
    "duration": 22,
    "start_time": "2025-03-06T21:05:16.533Z"
   },
   {
    "duration": 93,
    "start_time": "2025-03-06T21:06:03.560Z"
   },
   {
    "duration": 167,
    "start_time": "2025-03-06T21:06:30.746Z"
   },
   {
    "duration": 96,
    "start_time": "2025-03-06T21:07:45.154Z"
   },
   {
    "duration": 84,
    "start_time": "2025-03-06T21:08:11.062Z"
   },
   {
    "duration": 94,
    "start_time": "2025-03-06T21:08:46.640Z"
   },
   {
    "duration": 86,
    "start_time": "2025-03-06T21:09:07.880Z"
   },
   {
    "duration": 94,
    "start_time": "2025-03-06T21:09:51.730Z"
   },
   {
    "duration": 6,
    "start_time": "2025-03-06T21:11:24.971Z"
   },
   {
    "duration": 87,
    "start_time": "2025-03-06T21:11:49.219Z"
   },
   {
    "duration": 4026,
    "start_time": "2025-03-07T09:30:16.705Z"
   },
   {
    "duration": 1559,
    "start_time": "2025-03-07T09:30:20.734Z"
   },
   {
    "duration": 7885,
    "start_time": "2025-03-07T09:30:22.295Z"
   },
   {
    "duration": 6,
    "start_time": "2025-03-07T09:30:30.183Z"
   },
   {
    "duration": 46,
    "start_time": "2025-03-07T09:30:30.191Z"
   },
   {
    "duration": 55,
    "start_time": "2025-03-07T09:30:30.239Z"
   },
   {
    "duration": 34,
    "start_time": "2025-03-07T09:30:30.295Z"
   },
   {
    "duration": 30,
    "start_time": "2025-03-07T09:30:30.330Z"
   },
   {
    "duration": 46,
    "start_time": "2025-03-07T09:30:30.362Z"
   },
   {
    "duration": 145,
    "start_time": "2025-03-07T09:30:30.411Z"
   },
   {
    "duration": 105,
    "start_time": "2025-03-07T09:30:30.558Z"
   },
   {
    "duration": 4,
    "start_time": "2025-03-07T09:56:45.041Z"
   },
   {
    "duration": 107,
    "start_time": "2025-03-07T09:56:49.099Z"
   },
   {
    "duration": 111,
    "start_time": "2025-03-07T10:02:25.632Z"
   },
   {
    "duration": 110,
    "start_time": "2025-03-07T10:03:40.918Z"
   },
   {
    "duration": 68,
    "start_time": "2025-03-07T10:27:27.289Z"
   },
   {
    "duration": 4,
    "start_time": "2025-03-07T10:28:24.767Z"
   },
   {
    "duration": 4,
    "start_time": "2025-03-07T10:28:51.734Z"
   },
   {
    "duration": 4,
    "start_time": "2025-03-07T10:29:21.127Z"
   },
   {
    "duration": 4,
    "start_time": "2025-03-07T10:29:24.642Z"
   },
   {
    "duration": 115,
    "start_time": "2025-03-07T10:29:55.828Z"
   },
   {
    "duration": 10,
    "start_time": "2025-03-07T10:30:00.046Z"
   },
   {
    "duration": 9,
    "start_time": "2025-03-07T10:30:10.424Z"
   },
   {
    "duration": 44,
    "start_time": "2025-03-07T10:30:14.161Z"
   },
   {
    "duration": 81,
    "start_time": "2025-03-07T10:31:05.964Z"
   },
   {
    "duration": 40,
    "start_time": "2025-03-07T10:31:20.701Z"
   },
   {
    "duration": 39,
    "start_time": "2025-03-07T10:31:52.685Z"
   },
   {
    "duration": 5,
    "start_time": "2025-03-07T10:55:06.755Z"
   },
   {
    "duration": 8,
    "start_time": "2025-03-07T10:55:23.470Z"
   },
   {
    "duration": 22,
    "start_time": "2025-03-07T10:56:05.518Z"
   },
   {
    "duration": 17,
    "start_time": "2025-03-07T11:06:57.449Z"
   },
   {
    "duration": 9,
    "start_time": "2025-03-07T11:07:21.984Z"
   },
   {
    "duration": 17,
    "start_time": "2025-03-07T11:07:28.439Z"
   },
   {
    "duration": 74,
    "start_time": "2025-03-07T11:10:28.231Z"
   },
   {
    "duration": 4,
    "start_time": "2025-03-07T11:11:09.973Z"
   },
   {
    "duration": 11,
    "start_time": "2025-03-07T11:11:29.095Z"
   },
   {
    "duration": 27,
    "start_time": "2025-03-07T11:11:59.164Z"
   },
   {
    "duration": 21,
    "start_time": "2025-03-07T11:14:09.737Z"
   },
   {
    "duration": 10,
    "start_time": "2025-03-07T11:51:40.041Z"
   },
   {
    "duration": 12,
    "start_time": "2025-03-07T11:51:49.891Z"
   },
   {
    "duration": 3,
    "start_time": "2025-03-07T11:52:06.621Z"
   },
   {
    "duration": 6,
    "start_time": "2025-03-07T11:52:16.058Z"
   },
   {
    "duration": 71,
    "start_time": "2025-03-07T11:56:46.461Z"
   },
   {
    "duration": 76,
    "start_time": "2025-03-07T11:57:03.607Z"
   },
   {
    "duration": 6,
    "start_time": "2025-03-07T11:57:09.261Z"
   },
   {
    "duration": 69,
    "start_time": "2025-03-07T11:57:46.417Z"
   },
   {
    "duration": 70,
    "start_time": "2025-03-07T11:57:53.367Z"
   },
   {
    "duration": 6,
    "start_time": "2025-03-07T11:58:30.594Z"
   },
   {
    "duration": 8,
    "start_time": "2025-03-07T12:01:02.666Z"
   },
   {
    "duration": 26,
    "start_time": "2025-03-07T12:01:26.953Z"
   },
   {
    "duration": 4,
    "start_time": "2025-03-07T12:03:47.427Z"
   },
   {
    "duration": 2804,
    "start_time": "2025-03-07T12:04:46.878Z"
   },
   {
    "duration": 1457,
    "start_time": "2025-03-07T12:04:49.685Z"
   },
   {
    "duration": 1332,
    "start_time": "2025-03-07T12:04:51.144Z"
   },
   {
    "duration": 5,
    "start_time": "2025-03-07T12:04:52.479Z"
   },
   {
    "duration": 58,
    "start_time": "2025-03-07T12:04:52.486Z"
   },
   {
    "duration": 13,
    "start_time": "2025-03-07T12:04:52.546Z"
   },
   {
    "duration": 47,
    "start_time": "2025-03-07T12:04:52.561Z"
   },
   {
    "duration": 71,
    "start_time": "2025-03-07T12:04:52.609Z"
   },
   {
    "duration": 48,
    "start_time": "2025-03-07T12:04:52.682Z"
   },
   {
    "duration": 108,
    "start_time": "2025-03-07T12:04:52.733Z"
   },
   {
    "duration": 104,
    "start_time": "2025-03-07T12:04:52.843Z"
   },
   {
    "duration": 114,
    "start_time": "2025-03-07T12:04:52.948Z"
   },
   {
    "duration": 12,
    "start_time": "2025-03-07T12:04:53.064Z"
   },
   {
    "duration": 15,
    "start_time": "2025-03-07T12:04:53.078Z"
   },
   {
    "duration": 20,
    "start_time": "2025-03-07T12:04:53.095Z"
   },
   {
    "duration": 43,
    "start_time": "2025-03-07T12:04:53.117Z"
   },
   {
    "duration": 45,
    "start_time": "2025-03-07T12:04:53.172Z"
   },
   {
    "duration": 32,
    "start_time": "2025-03-07T12:04:53.219Z"
   },
   {
    "duration": 31,
    "start_time": "2025-03-07T12:04:53.252Z"
   },
   {
    "duration": 24,
    "start_time": "2025-03-07T12:04:53.285Z"
   },
   {
    "duration": 20,
    "start_time": "2025-03-07T12:04:53.311Z"
   },
   {
    "duration": 6,
    "start_time": "2025-03-07T12:04:53.333Z"
   },
   {
    "duration": 32,
    "start_time": "2025-03-07T12:04:53.341Z"
   },
   {
    "duration": 30,
    "start_time": "2025-03-07T12:04:53.375Z"
   },
   {
    "duration": 31,
    "start_time": "2025-03-07T12:04:53.408Z"
   },
   {
    "duration": 69,
    "start_time": "2025-03-07T12:18:41.295Z"
   },
   {
    "duration": 125,
    "start_time": "2025-03-07T12:23:07.074Z"
   },
   {
    "duration": 10,
    "start_time": "2025-03-07T12:23:11.641Z"
   },
   {
    "duration": 12,
    "start_time": "2025-03-07T12:23:17.917Z"
   },
   {
    "duration": 19,
    "start_time": "2025-03-07T12:23:23.438Z"
   },
   {
    "duration": 13,
    "start_time": "2025-03-07T12:23:32.557Z"
   },
   {
    "duration": 12,
    "start_time": "2025-03-07T12:24:41.492Z"
   },
   {
    "duration": 11,
    "start_time": "2025-03-07T12:24:52.603Z"
   },
   {
    "duration": 7,
    "start_time": "2025-03-07T12:24:56.365Z"
   },
   {
    "duration": 60,
    "start_time": "2025-03-07T12:34:00.904Z"
   },
   {
    "duration": 3454,
    "start_time": "2025-03-07T12:34:11.642Z"
   },
   {
    "duration": 1373,
    "start_time": "2025-03-07T12:34:15.099Z"
   },
   {
    "duration": 1219,
    "start_time": "2025-03-07T12:34:16.474Z"
   },
   {
    "duration": 6,
    "start_time": "2025-03-07T12:34:17.695Z"
   },
   {
    "duration": 15,
    "start_time": "2025-03-07T12:34:17.702Z"
   },
   {
    "duration": 15,
    "start_time": "2025-03-07T12:34:17.718Z"
   },
   {
    "duration": 6,
    "start_time": "2025-03-07T12:34:17.735Z"
   },
   {
    "duration": 23,
    "start_time": "2025-03-07T12:34:17.742Z"
   },
   {
    "duration": 28,
    "start_time": "2025-03-07T12:34:17.767Z"
   },
   {
    "duration": 120,
    "start_time": "2025-03-07T12:34:17.798Z"
   },
   {
    "duration": 105,
    "start_time": "2025-03-07T12:34:17.920Z"
   },
   {
    "duration": 114,
    "start_time": "2025-03-07T12:34:18.027Z"
   },
   {
    "duration": 6,
    "start_time": "2025-03-07T12:34:18.144Z"
   },
   {
    "duration": 107,
    "start_time": "2025-03-07T12:34:18.152Z"
   },
   {
    "duration": 24,
    "start_time": "2025-03-07T12:34:18.260Z"
   },
   {
    "duration": 41,
    "start_time": "2025-03-07T12:34:18.285Z"
   },
   {
    "duration": 48,
    "start_time": "2025-03-07T12:34:18.327Z"
   },
   {
    "duration": 13,
    "start_time": "2025-03-07T12:34:18.376Z"
   },
   {
    "duration": 16,
    "start_time": "2025-03-07T12:34:18.391Z"
   },
   {
    "duration": 22,
    "start_time": "2025-03-07T12:34:18.408Z"
   },
   {
    "duration": 32,
    "start_time": "2025-03-07T12:34:18.432Z"
   },
   {
    "duration": 5,
    "start_time": "2025-03-07T12:34:18.465Z"
   },
   {
    "duration": 17,
    "start_time": "2025-03-07T12:34:18.471Z"
   },
   {
    "duration": 56,
    "start_time": "2025-03-07T12:34:18.489Z"
   },
   {
    "duration": 20,
    "start_time": "2025-03-07T12:34:18.546Z"
   },
   {
    "duration": 9,
    "start_time": "2025-03-07T12:34:18.568Z"
   },
   {
    "duration": 9,
    "start_time": "2025-03-07T12:34:18.579Z"
   },
   {
    "duration": 11,
    "start_time": "2025-03-07T12:34:44.351Z"
   },
   {
    "duration": 8,
    "start_time": "2025-03-07T12:34:54.042Z"
   },
   {
    "duration": 71,
    "start_time": "2025-03-07T12:35:45.213Z"
   },
   {
    "duration": 104,
    "start_time": "2025-03-07T12:38:14.697Z"
   },
   {
    "duration": 10,
    "start_time": "2025-03-07T12:39:04.153Z"
   },
   {
    "duration": 14,
    "start_time": "2025-03-07T12:40:16.089Z"
   },
   {
    "duration": 43,
    "start_time": "2025-03-07T12:40:22.765Z"
   },
   {
    "duration": 210,
    "start_time": "2025-03-07T12:40:38.871Z"
   },
   {
    "duration": 114,
    "start_time": "2025-03-07T12:40:51.515Z"
   },
   {
    "duration": 12,
    "start_time": "2025-03-07T12:41:32.400Z"
   },
   {
    "duration": 7,
    "start_time": "2025-03-07T12:41:56.718Z"
   },
   {
    "duration": 11,
    "start_time": "2025-03-07T12:41:59.783Z"
   },
   {
    "duration": 4,
    "start_time": "2025-03-07T12:42:10.342Z"
   },
   {
    "duration": 11,
    "start_time": "2025-03-07T12:42:13.919Z"
   },
   {
    "duration": 7,
    "start_time": "2025-03-07T12:42:22.051Z"
   },
   {
    "duration": 5,
    "start_time": "2025-03-07T12:42:23.822Z"
   },
   {
    "duration": 11,
    "start_time": "2025-03-07T12:42:26.129Z"
   },
   {
    "duration": 198,
    "start_time": "2025-03-07T12:43:03.002Z"
   },
   {
    "duration": 203,
    "start_time": "2025-03-07T12:43:13.137Z"
   },
   {
    "duration": 24,
    "start_time": "2025-03-07T12:49:18.886Z"
   },
   {
    "duration": 22,
    "start_time": "2025-03-07T12:49:20.849Z"
   },
   {
    "duration": 22,
    "start_time": "2025-03-07T12:49:31.292Z"
   },
   {
    "duration": 2447,
    "start_time": "2025-03-07T12:50:39.509Z"
   },
   {
    "duration": 1450,
    "start_time": "2025-03-07T12:50:41.958Z"
   },
   {
    "duration": 1125,
    "start_time": "2025-03-07T12:50:43.410Z"
   },
   {
    "duration": 5,
    "start_time": "2025-03-07T12:50:44.537Z"
   },
   {
    "duration": 22,
    "start_time": "2025-03-07T12:50:44.545Z"
   },
   {
    "duration": 30,
    "start_time": "2025-03-07T12:50:44.568Z"
   },
   {
    "duration": 7,
    "start_time": "2025-03-07T12:50:44.599Z"
   },
   {
    "duration": 4,
    "start_time": "2025-03-07T12:50:44.608Z"
   },
   {
    "duration": 36,
    "start_time": "2025-03-07T12:50:44.614Z"
   },
   {
    "duration": 114,
    "start_time": "2025-03-07T12:50:44.652Z"
   },
   {
    "duration": 207,
    "start_time": "2025-03-07T12:50:44.768Z"
   },
   {
    "duration": 101,
    "start_time": "2025-03-07T12:50:44.977Z"
   },
   {
    "duration": 6,
    "start_time": "2025-03-07T12:50:45.080Z"
   },
   {
    "duration": 84,
    "start_time": "2025-03-07T12:50:45.089Z"
   },
   {
    "duration": 86,
    "start_time": "2025-03-07T12:50:45.175Z"
   },
   {
    "duration": 50,
    "start_time": "2025-03-07T12:50:45.263Z"
   },
   {
    "duration": 141,
    "start_time": "2025-03-07T12:50:45.315Z"
   },
   {
    "duration": 71,
    "start_time": "2025-03-07T12:50:45.458Z"
   },
   {
    "duration": 176,
    "start_time": "2025-03-07T12:50:45.531Z"
   },
   {
    "duration": 96,
    "start_time": "2025-03-07T12:50:45.709Z"
   },
   {
    "duration": 17,
    "start_time": "2025-03-07T12:50:45.807Z"
   },
   {
    "duration": 28,
    "start_time": "2025-03-07T12:50:45.826Z"
   },
   {
    "duration": 19,
    "start_time": "2025-03-07T12:50:45.855Z"
   },
   {
    "duration": 36,
    "start_time": "2025-03-07T12:50:45.875Z"
   },
   {
    "duration": 59,
    "start_time": "2025-03-07T12:50:45.912Z"
   },
   {
    "duration": 19,
    "start_time": "2025-03-07T12:50:45.973Z"
   },
   {
    "duration": 142,
    "start_time": "2025-03-07T12:50:45.994Z"
   },
   {
    "duration": 20,
    "start_time": "2025-03-07T12:50:46.138Z"
   },
   {
    "duration": 99,
    "start_time": "2025-03-07T12:51:05.511Z"
   },
   {
    "duration": 43,
    "start_time": "2025-03-07T12:51:50.712Z"
   },
   {
    "duration": 184,
    "start_time": "2025-03-07T12:51:56.571Z"
   },
   {
    "duration": 111,
    "start_time": "2025-03-07T12:52:08.603Z"
   },
   {
    "duration": 128,
    "start_time": "2025-03-07T12:52:27.506Z"
   },
   {
    "duration": 12,
    "start_time": "2025-03-07T12:52:58.503Z"
   },
   {
    "duration": 2399,
    "start_time": "2025-03-07T12:54:18.005Z"
   },
   {
    "duration": 1151,
    "start_time": "2025-03-07T12:54:20.407Z"
   },
   {
    "duration": 1093,
    "start_time": "2025-03-07T12:54:21.560Z"
   },
   {
    "duration": 6,
    "start_time": "2025-03-07T12:54:22.655Z"
   },
   {
    "duration": 20,
    "start_time": "2025-03-07T12:54:22.662Z"
   },
   {
    "duration": 39,
    "start_time": "2025-03-07T12:54:22.684Z"
   },
   {
    "duration": 22,
    "start_time": "2025-03-07T12:54:22.725Z"
   },
   {
    "duration": 30,
    "start_time": "2025-03-07T12:54:22.749Z"
   },
   {
    "duration": 24,
    "start_time": "2025-03-07T12:54:22.781Z"
   },
   {
    "duration": 188,
    "start_time": "2025-03-07T12:54:22.808Z"
   },
   {
    "duration": 98,
    "start_time": "2025-03-07T12:54:22.998Z"
   },
   {
    "duration": 94,
    "start_time": "2025-03-07T12:54:23.098Z"
   },
   {
    "duration": 6,
    "start_time": "2025-03-07T12:54:23.194Z"
   },
   {
    "duration": 44,
    "start_time": "2025-03-07T12:54:23.202Z"
   },
   {
    "duration": 24,
    "start_time": "2025-03-07T12:54:23.248Z"
   },
   {
    "duration": 59,
    "start_time": "2025-03-07T12:54:23.274Z"
   },
   {
    "duration": 36,
    "start_time": "2025-03-07T12:54:23.335Z"
   },
   {
    "duration": 6,
    "start_time": "2025-03-07T12:54:23.373Z"
   },
   {
    "duration": 25,
    "start_time": "2025-03-07T12:54:23.380Z"
   },
   {
    "duration": 27,
    "start_time": "2025-03-07T12:54:23.406Z"
   },
   {
    "duration": 16,
    "start_time": "2025-03-07T12:54:23.435Z"
   },
   {
    "duration": 29,
    "start_time": "2025-03-07T12:54:23.453Z"
   },
   {
    "duration": 16,
    "start_time": "2025-03-07T12:54:23.483Z"
   },
   {
    "duration": 53,
    "start_time": "2025-03-07T12:54:23.500Z"
   },
   {
    "duration": 42,
    "start_time": "2025-03-07T12:54:23.555Z"
   },
   {
    "duration": 55,
    "start_time": "2025-03-07T12:54:23.599Z"
   },
   {
    "duration": 14,
    "start_time": "2025-03-07T12:54:23.655Z"
   },
   {
    "duration": 25,
    "start_time": "2025-03-07T12:54:23.673Z"
   },
   {
    "duration": 119,
    "start_time": "2025-03-07T12:54:23.700Z"
   },
   {
    "duration": 102,
    "start_time": "2025-03-07T12:55:12.109Z"
   },
   {
    "duration": 12,
    "start_time": "2025-03-07T12:55:35.844Z"
   },
   {
    "duration": 12,
    "start_time": "2025-03-07T12:55:49.595Z"
   },
   {
    "duration": 4,
    "start_time": "2025-03-07T12:56:45.765Z"
   },
   {
    "duration": 4,
    "start_time": "2025-03-07T12:57:02.935Z"
   },
   {
    "duration": 12,
    "start_time": "2025-03-07T12:57:51.628Z"
   },
   {
    "duration": 4,
    "start_time": "2025-03-07T12:59:10.452Z"
   },
   {
    "duration": 4,
    "start_time": "2025-03-07T12:59:47.661Z"
   },
   {
    "duration": 5,
    "start_time": "2025-03-07T12:59:57.319Z"
   },
   {
    "duration": 8,
    "start_time": "2025-03-07T13:00:49.366Z"
   },
   {
    "duration": 5,
    "start_time": "2025-03-07T13:00:58.008Z"
   },
   {
    "duration": 4,
    "start_time": "2025-03-07T13:01:06.145Z"
   },
   {
    "duration": 3,
    "start_time": "2025-03-07T13:01:24.155Z"
   },
   {
    "duration": 4,
    "start_time": "2025-03-07T13:01:35.161Z"
   },
   {
    "duration": 4,
    "start_time": "2025-03-07T13:01:40.342Z"
   },
   {
    "duration": 4,
    "start_time": "2025-03-07T13:02:40.518Z"
   },
   {
    "duration": 11,
    "start_time": "2025-03-07T13:03:12.373Z"
   },
   {
    "duration": 2443,
    "start_time": "2025-03-07T13:04:36.474Z"
   },
   {
    "duration": 1188,
    "start_time": "2025-03-07T13:04:38.919Z"
   },
   {
    "duration": 1099,
    "start_time": "2025-03-07T13:04:40.109Z"
   },
   {
    "duration": 6,
    "start_time": "2025-03-07T13:04:41.210Z"
   },
   {
    "duration": 52,
    "start_time": "2025-03-07T13:04:41.218Z"
   },
   {
    "duration": 59,
    "start_time": "2025-03-07T13:04:41.272Z"
   },
   {
    "duration": 43,
    "start_time": "2025-03-07T13:04:41.333Z"
   },
   {
    "duration": 36,
    "start_time": "2025-03-07T13:04:41.378Z"
   },
   {
    "duration": 63,
    "start_time": "2025-03-07T13:04:41.416Z"
   },
   {
    "duration": 159,
    "start_time": "2025-03-07T13:04:41.481Z"
   },
   {
    "duration": 101,
    "start_time": "2025-03-07T13:04:41.642Z"
   },
   {
    "duration": 103,
    "start_time": "2025-03-07T13:04:41.745Z"
   },
   {
    "duration": 13,
    "start_time": "2025-03-07T13:04:41.850Z"
   },
   {
    "duration": 26,
    "start_time": "2025-03-07T13:04:41.868Z"
   },
   {
    "duration": 44,
    "start_time": "2025-03-07T13:04:41.897Z"
   },
   {
    "duration": 91,
    "start_time": "2025-03-07T13:04:41.943Z"
   },
   {
    "duration": 37,
    "start_time": "2025-03-07T13:04:42.036Z"
   },
   {
    "duration": 60,
    "start_time": "2025-03-07T13:04:42.074Z"
   },
   {
    "duration": 120,
    "start_time": "2025-03-07T13:04:42.135Z"
   },
   {
    "duration": 177,
    "start_time": "2025-03-07T13:04:42.257Z"
   },
   {
    "duration": 65,
    "start_time": "2025-03-07T13:04:42.437Z"
   },
   {
    "duration": 119,
    "start_time": "2025-03-07T13:04:42.503Z"
   },
   {
    "duration": 78,
    "start_time": "2025-03-07T13:04:42.624Z"
   },
   {
    "duration": 187,
    "start_time": "2025-03-07T13:04:42.703Z"
   },
   {
    "duration": 160,
    "start_time": "2025-03-07T13:04:42.892Z"
   },
   {
    "duration": 51,
    "start_time": "2025-03-07T13:04:43.054Z"
   },
   {
    "duration": 40,
    "start_time": "2025-03-07T13:04:43.106Z"
   },
   {
    "duration": 58,
    "start_time": "2025-03-07T13:04:43.147Z"
   },
   {
    "duration": 148,
    "start_time": "2025-03-07T13:04:43.207Z"
   },
   {
    "duration": 4,
    "start_time": "2025-03-07T13:05:43.306Z"
   },
   {
    "duration": 5,
    "start_time": "2025-03-07T13:06:11.170Z"
   },
   {
    "duration": 4,
    "start_time": "2025-03-07T13:08:32.787Z"
   },
   {
    "duration": 6,
    "start_time": "2025-03-07T13:10:34.113Z"
   },
   {
    "duration": 6,
    "start_time": "2025-03-07T13:14:06.901Z"
   },
   {
    "duration": 6,
    "start_time": "2025-03-07T13:14:30.699Z"
   },
   {
    "duration": 102,
    "start_time": "2025-03-07T13:17:09.369Z"
   },
   {
    "duration": 3,
    "start_time": "2025-03-07T13:18:00.610Z"
   },
   {
    "duration": 4,
    "start_time": "2025-03-07T13:19:25.625Z"
   },
   {
    "duration": 5,
    "start_time": "2025-03-07T13:20:30.117Z"
   },
   {
    "duration": 6,
    "start_time": "2025-03-07T13:38:01.080Z"
   },
   {
    "duration": 6,
    "start_time": "2025-03-07T13:39:11.275Z"
   },
   {
    "duration": 3,
    "start_time": "2025-03-07T14:19:08.298Z"
   },
   {
    "duration": 2839,
    "start_time": "2025-03-07T14:19:14.756Z"
   },
   {
    "duration": 1235,
    "start_time": "2025-03-07T14:19:17.597Z"
   },
   {
    "duration": 1135,
    "start_time": "2025-03-07T14:19:18.834Z"
   },
   {
    "duration": 6,
    "start_time": "2025-03-07T14:19:19.970Z"
   },
   {
    "duration": 14,
    "start_time": "2025-03-07T14:19:19.978Z"
   },
   {
    "duration": 16,
    "start_time": "2025-03-07T14:19:19.994Z"
   },
   {
    "duration": 13,
    "start_time": "2025-03-07T14:19:20.011Z"
   },
   {
    "duration": 24,
    "start_time": "2025-03-07T14:19:20.026Z"
   },
   {
    "duration": 38,
    "start_time": "2025-03-07T14:19:20.051Z"
   },
   {
    "duration": 132,
    "start_time": "2025-03-07T14:19:20.091Z"
   },
   {
    "duration": 101,
    "start_time": "2025-03-07T14:19:20.225Z"
   },
   {
    "duration": 107,
    "start_time": "2025-03-07T14:19:20.328Z"
   },
   {
    "duration": 6,
    "start_time": "2025-03-07T14:19:20.436Z"
   },
   {
    "duration": 30,
    "start_time": "2025-03-07T14:19:20.445Z"
   },
   {
    "duration": 29,
    "start_time": "2025-03-07T14:19:20.476Z"
   },
   {
    "duration": 49,
    "start_time": "2025-03-07T14:19:20.507Z"
   },
   {
    "duration": 37,
    "start_time": "2025-03-07T14:19:20.558Z"
   },
   {
    "duration": 147,
    "start_time": "2025-03-07T14:19:20.597Z"
   },
   {
    "duration": 101,
    "start_time": "2025-03-07T14:19:20.745Z"
   },
   {
    "duration": 33,
    "start_time": "2025-03-07T14:19:20.848Z"
   },
   {
    "duration": 35,
    "start_time": "2025-03-07T14:19:20.882Z"
   },
   {
    "duration": 13,
    "start_time": "2025-03-07T14:19:20.919Z"
   },
   {
    "duration": 53,
    "start_time": "2025-03-07T14:19:20.934Z"
   },
   {
    "duration": 61,
    "start_time": "2025-03-07T14:19:20.988Z"
   },
   {
    "duration": 21,
    "start_time": "2025-03-07T14:19:21.051Z"
   },
   {
    "duration": 35,
    "start_time": "2025-03-07T14:19:21.073Z"
   },
   {
    "duration": 99,
    "start_time": "2025-03-07T14:19:21.110Z"
   },
   {
    "duration": 114,
    "start_time": "2025-03-07T14:19:21.210Z"
   },
   {
    "duration": 15,
    "start_time": "2025-03-07T14:19:21.326Z"
   },
   {
    "duration": 1709,
    "start_time": "2025-03-07T14:23:38.305Z"
   },
   {
    "duration": 1637,
    "start_time": "2025-03-07T14:23:40.795Z"
   },
   {
    "duration": 16,
    "start_time": "2025-03-07T14:24:53.708Z"
   },
   {
    "duration": 2538,
    "start_time": "2025-03-07T14:25:05.802Z"
   },
   {
    "duration": 1289,
    "start_time": "2025-03-07T14:25:08.342Z"
   },
   {
    "duration": 1144,
    "start_time": "2025-03-07T14:25:09.633Z"
   },
   {
    "duration": 5,
    "start_time": "2025-03-07T14:25:10.779Z"
   },
   {
    "duration": 161,
    "start_time": "2025-03-07T14:25:10.788Z"
   },
   {
    "duration": 43,
    "start_time": "2025-03-07T14:25:10.951Z"
   },
   {
    "duration": 46,
    "start_time": "2025-03-07T14:25:10.995Z"
   },
   {
    "duration": 20,
    "start_time": "2025-03-07T14:25:11.043Z"
   },
   {
    "duration": 59,
    "start_time": "2025-03-07T14:25:11.064Z"
   },
   {
    "duration": 338,
    "start_time": "2025-03-07T14:25:11.125Z"
   },
   {
    "duration": 103,
    "start_time": "2025-03-07T14:25:11.465Z"
   },
   {
    "duration": 98,
    "start_time": "2025-03-07T14:25:11.570Z"
   },
   {
    "duration": 1450,
    "start_time": "2025-03-07T14:25:11.670Z"
   },
   {
    "duration": 0,
    "start_time": "2025-03-07T14:25:13.122Z"
   },
   {
    "duration": 0,
    "start_time": "2025-03-07T14:25:13.124Z"
   },
   {
    "duration": 0,
    "start_time": "2025-03-07T14:25:13.125Z"
   },
   {
    "duration": 0,
    "start_time": "2025-03-07T14:25:13.126Z"
   },
   {
    "duration": 0,
    "start_time": "2025-03-07T14:25:13.127Z"
   },
   {
    "duration": 0,
    "start_time": "2025-03-07T14:25:13.127Z"
   },
   {
    "duration": 0,
    "start_time": "2025-03-07T14:25:13.129Z"
   },
   {
    "duration": 0,
    "start_time": "2025-03-07T14:25:13.130Z"
   },
   {
    "duration": 0,
    "start_time": "2025-03-07T14:25:13.131Z"
   },
   {
    "duration": 0,
    "start_time": "2025-03-07T14:25:13.132Z"
   },
   {
    "duration": 0,
    "start_time": "2025-03-07T14:25:13.133Z"
   },
   {
    "duration": 0,
    "start_time": "2025-03-07T14:25:13.134Z"
   },
   {
    "duration": 0,
    "start_time": "2025-03-07T14:25:13.135Z"
   },
   {
    "duration": 0,
    "start_time": "2025-03-07T14:25:13.136Z"
   },
   {
    "duration": 0,
    "start_time": "2025-03-07T14:25:13.137Z"
   },
   {
    "duration": 0,
    "start_time": "2025-03-07T14:25:13.139Z"
   },
   {
    "duration": 0,
    "start_time": "2025-03-07T14:25:13.140Z"
   },
   {
    "duration": 2527,
    "start_time": "2025-03-07T14:32:13.246Z"
   },
   {
    "duration": 1264,
    "start_time": "2025-03-07T14:32:15.778Z"
   },
   {
    "duration": 1235,
    "start_time": "2025-03-07T14:32:17.044Z"
   },
   {
    "duration": 6,
    "start_time": "2025-03-07T14:32:18.282Z"
   },
   {
    "duration": 52,
    "start_time": "2025-03-07T14:32:18.290Z"
   },
   {
    "duration": 20,
    "start_time": "2025-03-07T14:32:18.344Z"
   },
   {
    "duration": 14,
    "start_time": "2025-03-07T14:32:18.366Z"
   },
   {
    "duration": 20,
    "start_time": "2025-03-07T14:32:18.383Z"
   },
   {
    "duration": 47,
    "start_time": "2025-03-07T14:32:18.404Z"
   },
   {
    "duration": 120,
    "start_time": "2025-03-07T14:32:18.454Z"
   },
   {
    "duration": 99,
    "start_time": "2025-03-07T14:32:18.577Z"
   },
   {
    "duration": 102,
    "start_time": "2025-03-07T14:32:18.678Z"
   },
   {
    "duration": 1487,
    "start_time": "2025-03-07T14:32:18.783Z"
   },
   {
    "duration": 0,
    "start_time": "2025-03-07T14:32:20.271Z"
   },
   {
    "duration": 0,
    "start_time": "2025-03-07T14:32:20.273Z"
   },
   {
    "duration": 0,
    "start_time": "2025-03-07T14:32:20.274Z"
   },
   {
    "duration": 0,
    "start_time": "2025-03-07T14:32:20.275Z"
   },
   {
    "duration": 0,
    "start_time": "2025-03-07T14:32:20.276Z"
   },
   {
    "duration": 0,
    "start_time": "2025-03-07T14:32:20.278Z"
   },
   {
    "duration": 0,
    "start_time": "2025-03-07T14:32:20.279Z"
   },
   {
    "duration": 0,
    "start_time": "2025-03-07T14:32:20.280Z"
   },
   {
    "duration": 0,
    "start_time": "2025-03-07T14:32:20.281Z"
   },
   {
    "duration": 0,
    "start_time": "2025-03-07T14:32:20.282Z"
   },
   {
    "duration": 0,
    "start_time": "2025-03-07T14:32:20.283Z"
   },
   {
    "duration": 0,
    "start_time": "2025-03-07T14:32:20.284Z"
   },
   {
    "duration": 0,
    "start_time": "2025-03-07T14:32:20.286Z"
   },
   {
    "duration": 0,
    "start_time": "2025-03-07T14:32:20.287Z"
   },
   {
    "duration": 0,
    "start_time": "2025-03-07T14:32:20.288Z"
   },
   {
    "duration": 0,
    "start_time": "2025-03-07T14:32:20.289Z"
   },
   {
    "duration": 0,
    "start_time": "2025-03-07T14:32:20.290Z"
   },
   {
    "duration": 1264,
    "start_time": "2025-03-07T14:32:33.347Z"
   },
   {
    "duration": 16,
    "start_time": "2025-03-07T14:33:02.342Z"
   },
   {
    "duration": 46,
    "start_time": "2025-03-07T14:36:50.168Z"
   },
   {
    "duration": 7,
    "start_time": "2025-03-07T14:36:57.921Z"
   },
   {
    "duration": 5,
    "start_time": "2025-03-07T14:51:10.314Z"
   },
   {
    "duration": 15,
    "start_time": "2025-03-07T14:53:13.624Z"
   },
   {
    "duration": 142,
    "start_time": "2025-03-07T14:57:37.047Z"
   },
   {
    "duration": 21,
    "start_time": "2025-03-07T15:00:18.198Z"
   },
   {
    "duration": 40,
    "start_time": "2025-03-07T15:02:19.437Z"
   },
   {
    "duration": 6,
    "start_time": "2025-03-07T15:02:40.904Z"
   },
   {
    "duration": 31,
    "start_time": "2025-03-07T15:03:08.022Z"
   },
   {
    "duration": 15,
    "start_time": "2025-03-07T15:03:10.229Z"
   },
   {
    "duration": 6,
    "start_time": "2025-03-07T15:03:11.433Z"
   },
   {
    "duration": 16,
    "start_time": "2025-03-07T15:04:07.979Z"
   },
   {
    "duration": 6,
    "start_time": "2025-03-07T15:04:09.513Z"
   },
   {
    "duration": 21,
    "start_time": "2025-03-07T15:05:11.031Z"
   },
   {
    "duration": 9,
    "start_time": "2025-03-07T15:05:13.773Z"
   },
   {
    "duration": 19,
    "start_time": "2025-03-07T15:06:31.672Z"
   },
   {
    "duration": 5,
    "start_time": "2025-03-07T15:06:34.833Z"
   },
   {
    "duration": 16,
    "start_time": "2025-03-07T15:07:26.278Z"
   },
   {
    "duration": 6,
    "start_time": "2025-03-07T15:07:28.192Z"
   },
   {
    "duration": 8,
    "start_time": "2025-03-07T15:18:23.496Z"
   },
   {
    "duration": 25,
    "start_time": "2025-03-07T15:18:25.997Z"
   },
   {
    "duration": 5,
    "start_time": "2025-03-07T15:18:57.125Z"
   },
   {
    "duration": 7,
    "start_time": "2025-03-07T15:18:59.090Z"
   },
   {
    "duration": 8,
    "start_time": "2025-03-07T15:19:00.371Z"
   },
   {
    "duration": 16,
    "start_time": "2025-03-07T15:19:31.270Z"
   },
   {
    "duration": 6,
    "start_time": "2025-03-07T15:19:33.820Z"
   },
   {
    "duration": 6,
    "start_time": "2025-03-07T15:21:48.668Z"
   },
   {
    "duration": 9,
    "start_time": "2025-03-07T15:22:05.085Z"
   },
   {
    "duration": 2722,
    "start_time": "2025-03-07T15:22:26.006Z"
   },
   {
    "duration": 1281,
    "start_time": "2025-03-07T15:22:28.731Z"
   },
   {
    "duration": 1298,
    "start_time": "2025-03-07T15:22:30.014Z"
   },
   {
    "duration": 6,
    "start_time": "2025-03-07T15:22:31.313Z"
   },
   {
    "duration": 290,
    "start_time": "2025-03-07T15:22:31.321Z"
   },
   {
    "duration": 49,
    "start_time": "2025-03-07T15:22:31.612Z"
   },
   {
    "duration": 38,
    "start_time": "2025-03-07T15:22:31.664Z"
   },
   {
    "duration": 40,
    "start_time": "2025-03-07T15:22:31.704Z"
   },
   {
    "duration": 67,
    "start_time": "2025-03-07T15:22:31.746Z"
   },
   {
    "duration": 160,
    "start_time": "2025-03-07T15:22:31.815Z"
   },
   {
    "duration": 143,
    "start_time": "2025-03-07T15:22:31.977Z"
   },
   {
    "duration": 109,
    "start_time": "2025-03-07T15:22:32.122Z"
   },
   {
    "duration": 63,
    "start_time": "2025-03-07T15:22:32.232Z"
   },
   {
    "duration": 5,
    "start_time": "2025-03-07T15:22:32.298Z"
   },
   {
    "duration": 54,
    "start_time": "2025-03-07T15:22:32.305Z"
   },
   {
    "duration": 32,
    "start_time": "2025-03-07T15:22:32.360Z"
   },
   {
    "duration": 105,
    "start_time": "2025-03-07T15:22:32.394Z"
   },
   {
    "duration": 36,
    "start_time": "2025-03-07T15:22:32.501Z"
   },
   {
    "duration": 15,
    "start_time": "2025-03-07T15:22:32.539Z"
   },
   {
    "duration": 16,
    "start_time": "2025-03-07T15:22:32.555Z"
   },
   {
    "duration": 41,
    "start_time": "2025-03-07T15:22:32.573Z"
   },
   {
    "duration": 64,
    "start_time": "2025-03-07T15:22:32.615Z"
   },
   {
    "duration": 19,
    "start_time": "2025-03-07T15:22:32.681Z"
   },
   {
    "duration": 46,
    "start_time": "2025-03-07T15:22:32.701Z"
   },
   {
    "duration": 53,
    "start_time": "2025-03-07T15:22:32.749Z"
   },
   {
    "duration": 52,
    "start_time": "2025-03-07T15:22:32.804Z"
   },
   {
    "duration": 45,
    "start_time": "2025-03-07T15:22:32.857Z"
   },
   {
    "duration": 178,
    "start_time": "2025-03-07T15:22:32.904Z"
   },
   {
    "duration": 217,
    "start_time": "2025-03-07T15:22:33.085Z"
   },
   {
    "duration": 11,
    "start_time": "2025-03-07T15:22:44.716Z"
   },
   {
    "duration": 77,
    "start_time": "2025-03-07T15:25:49.161Z"
   },
   {
    "duration": 102,
    "start_time": "2025-03-07T15:26:26.516Z"
   },
   {
    "duration": 5,
    "start_time": "2025-03-07T15:26:34.882Z"
   },
   {
    "duration": 21,
    "start_time": "2025-03-07T15:27:14.750Z"
   },
   {
    "duration": 6,
    "start_time": "2025-03-07T15:27:21.611Z"
   },
   {
    "duration": 13,
    "start_time": "2025-03-07T15:28:53.957Z"
   },
   {
    "duration": 4,
    "start_time": "2025-03-07T15:29:01.818Z"
   },
   {
    "duration": 71,
    "start_time": "2025-03-07T15:33:24.389Z"
   },
   {
    "duration": 73,
    "start_time": "2025-03-07T15:33:41.820Z"
   },
   {
    "duration": 81,
    "start_time": "2025-03-07T15:33:58.591Z"
   },
   {
    "duration": 73,
    "start_time": "2025-03-07T15:34:31.286Z"
   },
   {
    "duration": 76,
    "start_time": "2025-03-07T15:34:37.914Z"
   },
   {
    "duration": 77,
    "start_time": "2025-03-07T15:34:57.943Z"
   },
   {
    "duration": 91,
    "start_time": "2025-03-07T15:36:50.065Z"
   },
   {
    "duration": 8,
    "start_time": "2025-03-07T15:37:36.923Z"
   },
   {
    "duration": 8,
    "start_time": "2025-03-07T15:38:05.820Z"
   },
   {
    "duration": 8,
    "start_time": "2025-03-07T15:38:12.406Z"
   },
   {
    "duration": 37,
    "start_time": "2025-03-07T15:39:32.449Z"
   },
   {
    "duration": 36,
    "start_time": "2025-03-07T15:39:49.842Z"
   },
   {
    "duration": 37,
    "start_time": "2025-03-07T15:40:12.894Z"
   },
   {
    "duration": 17,
    "start_time": "2025-03-07T15:41:20.042Z"
   },
   {
    "duration": 14,
    "start_time": "2025-03-07T15:41:43.452Z"
   },
   {
    "duration": 14,
    "start_time": "2025-03-07T15:41:49.847Z"
   },
   {
    "duration": 20,
    "start_time": "2025-03-07T15:42:45.363Z"
   },
   {
    "duration": 22,
    "start_time": "2025-03-07T15:43:05.120Z"
   },
   {
    "duration": 2462,
    "start_time": "2025-03-07T20:58:25.217Z"
   },
   {
    "duration": 1178,
    "start_time": "2025-03-07T20:58:27.681Z"
   },
   {
    "duration": 1182,
    "start_time": "2025-03-07T20:58:28.861Z"
   },
   {
    "duration": 5,
    "start_time": "2025-03-07T20:58:30.046Z"
   },
   {
    "duration": 35,
    "start_time": "2025-03-07T20:58:30.052Z"
   },
   {
    "duration": 47,
    "start_time": "2025-03-07T20:58:30.089Z"
   },
   {
    "duration": 36,
    "start_time": "2025-03-07T20:58:30.138Z"
   },
   {
    "duration": 56,
    "start_time": "2025-03-07T20:58:30.175Z"
   },
   {
    "duration": 112,
    "start_time": "2025-03-07T20:58:30.233Z"
   },
   {
    "duration": 107,
    "start_time": "2025-03-07T20:58:30.348Z"
   },
   {
    "duration": 91,
    "start_time": "2025-03-07T20:58:30.457Z"
   },
   {
    "duration": 98,
    "start_time": "2025-03-07T20:58:30.563Z"
   },
   {
    "duration": 45,
    "start_time": "2025-03-07T20:58:30.662Z"
   },
   {
    "duration": 30,
    "start_time": "2025-03-07T20:58:30.709Z"
   },
   {
    "duration": 7,
    "start_time": "2025-03-07T20:58:30.740Z"
   },
   {
    "duration": 24,
    "start_time": "2025-03-07T20:58:30.749Z"
   },
   {
    "duration": 140,
    "start_time": "2025-03-07T20:58:30.775Z"
   },
   {
    "duration": 37,
    "start_time": "2025-03-07T20:58:30.916Z"
   },
   {
    "duration": 85,
    "start_time": "2025-03-07T20:58:30.955Z"
   },
   {
    "duration": 7,
    "start_time": "2025-03-07T20:58:31.042Z"
   },
   {
    "duration": 39,
    "start_time": "2025-03-07T20:58:31.051Z"
   },
   {
    "duration": 90,
    "start_time": "2025-03-07T20:58:31.092Z"
   },
   {
    "duration": 75,
    "start_time": "2025-03-07T20:58:31.184Z"
   },
   {
    "duration": 10,
    "start_time": "2025-03-07T20:58:31.261Z"
   },
   {
    "duration": 37,
    "start_time": "2025-03-07T20:58:31.273Z"
   },
   {
    "duration": 29,
    "start_time": "2025-03-07T20:58:31.312Z"
   },
   {
    "duration": 62,
    "start_time": "2025-03-07T20:58:31.342Z"
   },
   {
    "duration": 10,
    "start_time": "2025-03-07T20:58:31.407Z"
   },
   {
    "duration": 202,
    "start_time": "2025-03-07T20:58:31.419Z"
   },
   {
    "duration": 39,
    "start_time": "2025-03-07T20:58:31.623Z"
   },
   {
    "duration": 8,
    "start_time": "2025-03-07T20:58:31.664Z"
   },
   {
    "duration": 12,
    "start_time": "2025-03-07T20:58:31.674Z"
   },
   {
    "duration": 36,
    "start_time": "2025-03-07T20:58:31.688Z"
   },
   {
    "duration": 73,
    "start_time": "2025-03-07T20:58:31.726Z"
   },
   {
    "duration": 86,
    "start_time": "2025-03-07T20:58:31.801Z"
   },
   {
    "duration": 38,
    "start_time": "2025-03-07T20:58:31.888Z"
   },
   {
    "duration": 50,
    "start_time": "2025-03-07T20:58:31.928Z"
   },
   {
    "duration": 13,
    "start_time": "2025-03-07T20:58:31.979Z"
   },
   {
    "duration": 26,
    "start_time": "2025-03-07T20:58:31.994Z"
   },
   {
    "duration": 22,
    "start_time": "2025-03-07T20:58:32.022Z"
   },
   {
    "duration": 22,
    "start_time": "2025-03-07T20:58:32.062Z"
   },
   {
    "duration": 27,
    "start_time": "2025-03-07T21:06:25.070Z"
   },
   {
    "duration": 73,
    "start_time": "2025-03-07T21:14:23.850Z"
   },
   {
    "duration": 60,
    "start_time": "2025-03-07T21:14:38.010Z"
   },
   {
    "duration": 105,
    "start_time": "2025-03-07T21:16:09.114Z"
   },
   {
    "duration": 66,
    "start_time": "2025-03-07T21:16:18.986Z"
   },
   {
    "duration": 11,
    "start_time": "2025-03-07T21:16:34.996Z"
   },
   {
    "duration": 59,
    "start_time": "2025-03-07T21:16:50.421Z"
   },
   {
    "duration": 9,
    "start_time": "2025-03-07T21:17:55.856Z"
   },
   {
    "duration": 34,
    "start_time": "2025-03-07T21:18:13.701Z"
   },
   {
    "duration": 35,
    "start_time": "2025-03-07T21:18:33.299Z"
   },
   {
    "duration": 55,
    "start_time": "2025-03-07T21:22:44.615Z"
   },
   {
    "duration": 45,
    "start_time": "2025-03-07T21:22:51.776Z"
   },
   {
    "duration": 28,
    "start_time": "2025-03-07T21:26:06.293Z"
   },
   {
    "duration": 31,
    "start_time": "2025-03-07T21:26:20.596Z"
   },
   {
    "duration": 28,
    "start_time": "2025-03-07T21:31:32.480Z"
   },
   {
    "duration": 37,
    "start_time": "2025-03-07T21:32:03.366Z"
   },
   {
    "duration": 40,
    "start_time": "2025-03-07T21:34:47.784Z"
   },
   {
    "duration": 36,
    "start_time": "2025-03-07T21:34:53.585Z"
   },
   {
    "duration": 32,
    "start_time": "2025-03-07T21:35:19.321Z"
   },
   {
    "duration": 36,
    "start_time": "2025-03-07T21:35:22.923Z"
   },
   {
    "duration": 34,
    "start_time": "2025-03-07T21:36:37.924Z"
   },
   {
    "duration": 69,
    "start_time": "2025-03-07T21:39:34.912Z"
   },
   {
    "duration": 1196,
    "start_time": "2025-03-07T21:40:35.216Z"
   },
   {
    "duration": 49,
    "start_time": "2025-03-07T21:40:56.616Z"
   },
   {
    "duration": 77,
    "start_time": "2025-03-07T21:41:34.163Z"
   },
   {
    "duration": 356,
    "start_time": "2025-03-07T21:44:50.318Z"
   },
   {
    "duration": 343,
    "start_time": "2025-03-07T21:45:08.130Z"
   },
   {
    "duration": 46,
    "start_time": "2025-03-07T21:45:51.957Z"
   },
   {
    "duration": 41,
    "start_time": "2025-03-07T21:46:15.301Z"
   },
   {
    "duration": 353,
    "start_time": "2025-03-07T21:46:38.713Z"
   },
   {
    "duration": 46,
    "start_time": "2025-03-07T21:46:44.168Z"
   },
   {
    "duration": 45,
    "start_time": "2025-03-07T21:47:21.553Z"
   },
   {
    "duration": 11,
    "start_time": "2025-03-07T21:54:25.966Z"
   },
   {
    "duration": 43,
    "start_time": "2025-03-07T21:54:33.449Z"
   },
   {
    "duration": 16,
    "start_time": "2025-03-07T21:57:54.450Z"
   },
   {
    "duration": 14,
    "start_time": "2025-03-07T21:58:03.717Z"
   },
   {
    "duration": 17,
    "start_time": "2025-03-07T21:59:20.995Z"
   },
   {
    "duration": 16,
    "start_time": "2025-03-07T21:59:22.627Z"
   },
   {
    "duration": 2384,
    "start_time": "2025-03-07T21:59:31.818Z"
   },
   {
    "duration": 1155,
    "start_time": "2025-03-07T21:59:34.204Z"
   },
   {
    "duration": 1069,
    "start_time": "2025-03-07T21:59:35.360Z"
   },
   {
    "duration": 5,
    "start_time": "2025-03-07T21:59:36.431Z"
   },
   {
    "duration": 31,
    "start_time": "2025-03-07T21:59:36.438Z"
   },
   {
    "duration": 27,
    "start_time": "2025-03-07T21:59:36.470Z"
   },
   {
    "duration": 38,
    "start_time": "2025-03-07T21:59:36.499Z"
   },
   {
    "duration": 16,
    "start_time": "2025-03-07T21:59:36.539Z"
   },
   {
    "duration": 77,
    "start_time": "2025-03-07T21:59:36.556Z"
   },
   {
    "duration": 96,
    "start_time": "2025-03-07T21:59:36.636Z"
   },
   {
    "duration": 93,
    "start_time": "2025-03-07T21:59:36.733Z"
   },
   {
    "duration": 122,
    "start_time": "2025-03-07T21:59:36.828Z"
   },
   {
    "duration": 78,
    "start_time": "2025-03-07T21:59:36.952Z"
   },
   {
    "duration": 102,
    "start_time": "2025-03-07T21:59:37.032Z"
   },
   {
    "duration": 23,
    "start_time": "2025-03-07T21:59:37.135Z"
   },
   {
    "duration": 44,
    "start_time": "2025-03-07T21:59:37.159Z"
   },
   {
    "duration": 162,
    "start_time": "2025-03-07T21:59:37.204Z"
   },
   {
    "duration": 33,
    "start_time": "2025-03-07T21:59:37.368Z"
   },
   {
    "duration": 27,
    "start_time": "2025-03-07T21:59:37.402Z"
   },
   {
    "duration": 54,
    "start_time": "2025-03-07T21:59:37.430Z"
   },
   {
    "duration": 251,
    "start_time": "2025-03-07T21:59:37.486Z"
   },
   {
    "duration": 16,
    "start_time": "2025-03-07T21:59:37.739Z"
   },
   {
    "duration": 5,
    "start_time": "2025-03-07T21:59:37.757Z"
   },
   {
    "duration": 22,
    "start_time": "2025-03-07T21:59:37.764Z"
   },
   {
    "duration": 42,
    "start_time": "2025-03-07T21:59:37.788Z"
   },
   {
    "duration": 21,
    "start_time": "2025-03-07T21:59:37.832Z"
   },
   {
    "duration": 13,
    "start_time": "2025-03-07T21:59:37.855Z"
   },
   {
    "duration": 8,
    "start_time": "2025-03-07T21:59:37.872Z"
   },
   {
    "duration": 210,
    "start_time": "2025-03-07T21:59:37.881Z"
   },
   {
    "duration": 21,
    "start_time": "2025-03-07T21:59:38.093Z"
   },
   {
    "duration": 26,
    "start_time": "2025-03-07T21:59:38.115Z"
   },
   {
    "duration": 61,
    "start_time": "2025-03-07T21:59:38.143Z"
   },
   {
    "duration": 55,
    "start_time": "2025-03-07T21:59:38.206Z"
   },
   {
    "duration": 80,
    "start_time": "2025-03-07T21:59:38.263Z"
   },
   {
    "duration": 74,
    "start_time": "2025-03-07T21:59:38.345Z"
   },
   {
    "duration": 43,
    "start_time": "2025-03-07T21:59:38.421Z"
   },
   {
    "duration": 38,
    "start_time": "2025-03-07T21:59:38.466Z"
   },
   {
    "duration": 12,
    "start_time": "2025-03-07T21:59:38.506Z"
   },
   {
    "duration": 13,
    "start_time": "2025-03-07T21:59:38.520Z"
   },
   {
    "duration": 44,
    "start_time": "2025-03-07T21:59:38.535Z"
   },
   {
    "duration": 30,
    "start_time": "2025-03-07T21:59:38.580Z"
   },
   {
    "duration": 52,
    "start_time": "2025-03-07T21:59:38.612Z"
   },
   {
    "duration": 24,
    "start_time": "2025-03-07T21:59:38.666Z"
   },
   {
    "duration": 94,
    "start_time": "2025-03-07T21:59:38.692Z"
   },
   {
    "duration": 69,
    "start_time": "2025-03-07T22:00:16.676Z"
   },
   {
    "duration": 105,
    "start_time": "2025-03-07T22:00:21.888Z"
   },
   {
    "duration": 35,
    "start_time": "2025-03-07T22:01:23.710Z"
   },
   {
    "duration": 40,
    "start_time": "2025-03-07T22:01:44.125Z"
   },
   {
    "duration": 39,
    "start_time": "2025-03-07T22:02:07.590Z"
   },
   {
    "duration": 44,
    "start_time": "2025-03-07T22:02:22.954Z"
   },
   {
    "duration": 34,
    "start_time": "2025-03-07T22:03:25.002Z"
   },
   {
    "duration": 35,
    "start_time": "2025-03-07T22:04:14.829Z"
   },
   {
    "duration": 39,
    "start_time": "2025-03-07T22:04:28.252Z"
   },
   {
    "duration": 38,
    "start_time": "2025-03-07T22:04:33.211Z"
   },
   {
    "duration": 40,
    "start_time": "2025-03-07T22:05:07.067Z"
   },
   {
    "duration": 38,
    "start_time": "2025-03-07T22:05:18.874Z"
   },
   {
    "duration": 64,
    "start_time": "2025-03-07T22:07:37.067Z"
   },
   {
    "duration": 41,
    "start_time": "2025-03-07T22:08:18.826Z"
   },
   {
    "duration": 41,
    "start_time": "2025-03-07T22:08:38.087Z"
   },
   {
    "duration": 2339,
    "start_time": "2025-03-07T22:08:50.649Z"
   },
   {
    "duration": 1162,
    "start_time": "2025-03-07T22:08:52.991Z"
   },
   {
    "duration": 986,
    "start_time": "2025-03-07T22:08:54.155Z"
   },
   {
    "duration": 5,
    "start_time": "2025-03-07T22:08:55.142Z"
   },
   {
    "duration": 20,
    "start_time": "2025-03-07T22:08:55.149Z"
   },
   {
    "duration": 11,
    "start_time": "2025-03-07T22:08:55.171Z"
   },
   {
    "duration": 7,
    "start_time": "2025-03-07T22:08:55.183Z"
   },
   {
    "duration": 4,
    "start_time": "2025-03-07T22:08:55.191Z"
   },
   {
    "duration": 21,
    "start_time": "2025-03-07T22:08:55.196Z"
   },
   {
    "duration": 118,
    "start_time": "2025-03-07T22:08:55.218Z"
   },
   {
    "duration": 98,
    "start_time": "2025-03-07T22:08:55.337Z"
   },
   {
    "duration": 98,
    "start_time": "2025-03-07T22:08:55.437Z"
   },
   {
    "duration": 52,
    "start_time": "2025-03-07T22:08:55.537Z"
   },
   {
    "duration": 99,
    "start_time": "2025-03-07T22:08:55.592Z"
   },
   {
    "duration": 62,
    "start_time": "2025-03-07T22:08:55.692Z"
   },
   {
    "duration": 20,
    "start_time": "2025-03-07T22:08:55.756Z"
   },
   {
    "duration": 50,
    "start_time": "2025-03-07T22:08:55.778Z"
   },
   {
    "duration": 33,
    "start_time": "2025-03-07T22:08:55.830Z"
   },
   {
    "duration": 11,
    "start_time": "2025-03-07T22:08:55.865Z"
   },
   {
    "duration": 9,
    "start_time": "2025-03-07T22:08:55.877Z"
   },
   {
    "duration": 22,
    "start_time": "2025-03-07T22:08:55.887Z"
   },
   {
    "duration": 14,
    "start_time": "2025-03-07T22:08:55.910Z"
   },
   {
    "duration": 21,
    "start_time": "2025-03-07T22:08:55.926Z"
   },
   {
    "duration": 16,
    "start_time": "2025-03-07T22:08:55.949Z"
   },
   {
    "duration": 24,
    "start_time": "2025-03-07T22:08:55.967Z"
   },
   {
    "duration": 19,
    "start_time": "2025-03-07T22:08:55.993Z"
   },
   {
    "duration": 20,
    "start_time": "2025-03-07T22:08:56.013Z"
   },
   {
    "duration": 20,
    "start_time": "2025-03-07T22:08:56.035Z"
   },
   {
    "duration": 206,
    "start_time": "2025-03-07T22:08:56.056Z"
   },
   {
    "duration": 19,
    "start_time": "2025-03-07T22:08:56.264Z"
   },
   {
    "duration": 4,
    "start_time": "2025-03-07T22:08:56.284Z"
   },
   {
    "duration": 25,
    "start_time": "2025-03-07T22:08:56.290Z"
   },
   {
    "duration": 7,
    "start_time": "2025-03-07T22:08:56.316Z"
   },
   {
    "duration": 83,
    "start_time": "2025-03-07T22:08:56.324Z"
   },
   {
    "duration": 79,
    "start_time": "2025-03-07T22:08:56.409Z"
   },
   {
    "duration": 35,
    "start_time": "2025-03-07T22:08:56.489Z"
   },
   {
    "duration": 103,
    "start_time": "2025-03-07T22:08:56.525Z"
   },
   {
    "duration": 10,
    "start_time": "2025-03-07T22:08:56.630Z"
   },
   {
    "duration": 26,
    "start_time": "2025-03-07T22:08:56.642Z"
   },
   {
    "duration": 21,
    "start_time": "2025-03-07T22:08:56.669Z"
   },
   {
    "duration": 20,
    "start_time": "2025-03-07T22:08:56.693Z"
   },
   {
    "duration": 23,
    "start_time": "2025-03-07T22:08:56.777Z"
   },
   {
    "duration": 121,
    "start_time": "2025-03-07T22:08:56.801Z"
   },
   {
    "duration": 45,
    "start_time": "2025-03-07T22:08:56.924Z"
   },
   {
    "duration": 42,
    "start_time": "2025-03-07T22:09:01.239Z"
   },
   {
    "duration": 1305,
    "start_time": "2025-03-07T22:09:51.853Z"
   },
   {
    "duration": 1274,
    "start_time": "2025-03-07T22:09:54.611Z"
   },
   {
    "duration": 42,
    "start_time": "2025-03-07T22:10:27.097Z"
   },
   {
    "duration": 43,
    "start_time": "2025-03-07T22:10:37.230Z"
   },
   {
    "duration": 45,
    "start_time": "2025-03-07T22:11:21.174Z"
   },
   {
    "duration": 43,
    "start_time": "2025-03-07T22:11:39.621Z"
   },
   {
    "duration": 46,
    "start_time": "2025-03-07T22:12:23.733Z"
   },
   {
    "duration": 53,
    "start_time": "2025-03-08T15:40:57.000Z"
   },
   {
    "duration": 3445,
    "start_time": "2025-03-08T15:41:04.193Z"
   },
   {
    "duration": 1426,
    "start_time": "2025-03-08T15:41:07.641Z"
   },
   {
    "duration": 1113,
    "start_time": "2025-03-08T15:41:09.069Z"
   },
   {
    "duration": 5,
    "start_time": "2025-03-08T15:41:10.185Z"
   },
   {
    "duration": 13,
    "start_time": "2025-03-08T15:41:10.191Z"
   },
   {
    "duration": 12,
    "start_time": "2025-03-08T15:41:10.205Z"
   },
   {
    "duration": 7,
    "start_time": "2025-03-08T15:41:10.219Z"
   },
   {
    "duration": 4,
    "start_time": "2025-03-08T15:41:10.227Z"
   },
   {
    "duration": 53,
    "start_time": "2025-03-08T15:41:10.233Z"
   },
   {
    "duration": 109,
    "start_time": "2025-03-08T15:41:10.288Z"
   },
   {
    "duration": 104,
    "start_time": "2025-03-08T15:41:10.398Z"
   },
   {
    "duration": 111,
    "start_time": "2025-03-08T15:41:10.504Z"
   },
   {
    "duration": 53,
    "start_time": "2025-03-08T15:41:10.616Z"
   },
   {
    "duration": 6,
    "start_time": "2025-03-08T15:41:10.671Z"
   },
   {
    "duration": 6,
    "start_time": "2025-03-08T15:41:10.679Z"
   },
   {
    "duration": 9,
    "start_time": "2025-03-08T15:41:10.687Z"
   },
   {
    "duration": 69,
    "start_time": "2025-03-08T15:41:10.698Z"
   },
   {
    "duration": 37,
    "start_time": "2025-03-08T15:41:10.768Z"
   },
   {
    "duration": 4,
    "start_time": "2025-03-08T15:41:10.807Z"
   },
   {
    "duration": 8,
    "start_time": "2025-03-08T15:41:10.813Z"
   },
   {
    "duration": 51,
    "start_time": "2025-03-08T15:41:10.823Z"
   },
   {
    "duration": 16,
    "start_time": "2025-03-08T15:41:10.876Z"
   },
   {
    "duration": 4,
    "start_time": "2025-03-08T15:41:10.894Z"
   },
   {
    "duration": 8,
    "start_time": "2025-03-08T15:41:10.900Z"
   },
   {
    "duration": 24,
    "start_time": "2025-03-08T15:41:10.910Z"
   },
   {
    "duration": 20,
    "start_time": "2025-03-08T15:41:10.966Z"
   },
   {
    "duration": 8,
    "start_time": "2025-03-08T15:41:10.987Z"
   },
   {
    "duration": 4,
    "start_time": "2025-03-08T15:41:10.998Z"
   },
   {
    "duration": 223,
    "start_time": "2025-03-08T15:41:11.004Z"
   },
   {
    "duration": 21,
    "start_time": "2025-03-08T15:41:11.229Z"
   },
   {
    "duration": 18,
    "start_time": "2025-03-08T15:41:11.252Z"
   },
   {
    "duration": 6,
    "start_time": "2025-03-08T15:41:11.272Z"
   },
   {
    "duration": 8,
    "start_time": "2025-03-08T15:41:11.280Z"
   },
   {
    "duration": 95,
    "start_time": "2025-03-08T15:41:11.290Z"
   },
   {
    "duration": 81,
    "start_time": "2025-03-08T15:41:11.386Z"
   },
   {
    "duration": 37,
    "start_time": "2025-03-08T15:41:11.469Z"
   },
   {
    "duration": 72,
    "start_time": "2025-03-08T15:41:11.508Z"
   },
   {
    "duration": 12,
    "start_time": "2025-03-08T15:41:11.581Z"
   },
   {
    "duration": 12,
    "start_time": "2025-03-08T15:41:11.594Z"
   },
   {
    "duration": 19,
    "start_time": "2025-03-08T15:41:11.607Z"
   },
   {
    "duration": 45,
    "start_time": "2025-03-08T15:41:11.628Z"
   },
   {
    "duration": 59,
    "start_time": "2025-03-08T15:41:11.674Z"
   },
   {
    "duration": 33,
    "start_time": "2025-03-08T15:41:11.734Z"
   },
   {
    "duration": 82,
    "start_time": "2025-03-08T15:41:11.768Z"
   },
   {
    "duration": 47,
    "start_time": "2025-03-08T15:46:43.799Z"
   },
   {
    "duration": 46,
    "start_time": "2025-03-08T15:46:52.184Z"
   },
   {
    "duration": 49,
    "start_time": "2025-03-08T15:47:03.376Z"
   },
   {
    "duration": 47,
    "start_time": "2025-03-08T15:47:15.824Z"
   },
   {
    "duration": 50,
    "start_time": "2025-03-08T15:47:23.964Z"
   },
   {
    "duration": 51,
    "start_time": "2025-03-08T15:51:22.452Z"
   },
   {
    "duration": 47,
    "start_time": "2025-03-08T15:51:31.891Z"
   },
   {
    "duration": 50,
    "start_time": "2025-03-08T15:51:53.990Z"
   },
   {
    "duration": 49,
    "start_time": "2025-03-08T15:52:02.127Z"
   },
   {
    "duration": 54,
    "start_time": "2025-03-08T15:52:50.012Z"
   },
   {
    "duration": 51,
    "start_time": "2025-03-08T15:53:05.109Z"
   },
   {
    "duration": 146,
    "start_time": "2025-03-08T15:56:20.525Z"
   },
   {
    "duration": 51,
    "start_time": "2025-03-08T15:56:31.124Z"
   },
   {
    "duration": 53,
    "start_time": "2025-03-09T11:53:08.090Z"
   },
   {
    "duration": 9,
    "start_time": "2025-03-09T11:53:10.485Z"
   },
   {
    "duration": 3334,
    "start_time": "2025-03-09T11:53:20.617Z"
   },
   {
    "duration": 1427,
    "start_time": "2025-03-09T11:53:23.954Z"
   },
   {
    "duration": 1090,
    "start_time": "2025-03-09T11:53:25.383Z"
   },
   {
    "duration": 6,
    "start_time": "2025-03-09T11:53:26.475Z"
   },
   {
    "duration": 20,
    "start_time": "2025-03-09T11:53:26.483Z"
   },
   {
    "duration": 16,
    "start_time": "2025-03-09T11:53:26.505Z"
   },
   {
    "duration": 7,
    "start_time": "2025-03-09T11:53:26.523Z"
   },
   {
    "duration": 9,
    "start_time": "2025-03-09T11:53:26.531Z"
   },
   {
    "duration": 23,
    "start_time": "2025-03-09T11:53:26.542Z"
   },
   {
    "duration": 125,
    "start_time": "2025-03-09T11:53:26.566Z"
   },
   {
    "duration": 100,
    "start_time": "2025-03-09T11:53:26.693Z"
   },
   {
    "duration": 96,
    "start_time": "2025-03-09T11:53:26.795Z"
   },
   {
    "duration": 51,
    "start_time": "2025-03-09T11:53:26.892Z"
   },
   {
    "duration": 7,
    "start_time": "2025-03-09T11:53:26.946Z"
   },
   {
    "duration": 12,
    "start_time": "2025-03-09T11:53:26.954Z"
   },
   {
    "duration": 11,
    "start_time": "2025-03-09T11:53:26.968Z"
   },
   {
    "duration": 59,
    "start_time": "2025-03-09T11:53:26.980Z"
   },
   {
    "duration": 38,
    "start_time": "2025-03-09T11:53:27.041Z"
   },
   {
    "duration": 25,
    "start_time": "2025-03-09T11:53:27.080Z"
   },
   {
    "duration": 8,
    "start_time": "2025-03-09T11:53:27.107Z"
   },
   {
    "duration": 31,
    "start_time": "2025-03-09T11:53:27.117Z"
   },
   {
    "duration": 24,
    "start_time": "2025-03-09T11:53:27.150Z"
   },
   {
    "duration": 28,
    "start_time": "2025-03-09T11:53:27.177Z"
   },
   {
    "duration": 10,
    "start_time": "2025-03-09T11:53:27.207Z"
   },
   {
    "duration": 26,
    "start_time": "2025-03-09T11:53:27.219Z"
   },
   {
    "duration": 20,
    "start_time": "2025-03-09T11:53:27.247Z"
   },
   {
    "duration": 41,
    "start_time": "2025-03-09T11:53:27.269Z"
   },
   {
    "duration": 19,
    "start_time": "2025-03-09T11:53:27.312Z"
   },
   {
    "duration": 200,
    "start_time": "2025-03-09T11:53:27.333Z"
   },
   {
    "duration": 19,
    "start_time": "2025-03-09T11:53:27.534Z"
   },
   {
    "duration": 6,
    "start_time": "2025-03-09T11:53:27.555Z"
   },
   {
    "duration": 9,
    "start_time": "2025-03-09T11:53:27.562Z"
   },
   {
    "duration": 36,
    "start_time": "2025-03-09T11:53:27.572Z"
   },
   {
    "duration": 103,
    "start_time": "2025-03-09T11:53:27.611Z"
   },
   {
    "duration": 74,
    "start_time": "2025-03-09T11:53:27.715Z"
   },
   {
    "duration": 44,
    "start_time": "2025-03-09T11:53:27.791Z"
   },
   {
    "duration": 38,
    "start_time": "2025-03-09T11:53:27.836Z"
   },
   {
    "duration": 29,
    "start_time": "2025-03-09T11:53:27.875Z"
   },
   {
    "duration": 12,
    "start_time": "2025-03-09T11:53:27.906Z"
   },
   {
    "duration": 24,
    "start_time": "2025-03-09T11:53:27.920Z"
   },
   {
    "duration": 23,
    "start_time": "2025-03-09T11:53:27.948Z"
   },
   {
    "duration": 26,
    "start_time": "2025-03-09T11:53:28.052Z"
   },
   {
    "duration": 66,
    "start_time": "2025-03-09T11:53:28.080Z"
   },
   {
    "duration": 50,
    "start_time": "2025-03-09T11:54:56.450Z"
   },
   {
    "duration": 1410,
    "start_time": "2025-03-09T11:58:19.460Z"
   },
   {
    "duration": 1246,
    "start_time": "2025-03-09T11:58:36.868Z"
   },
   {
    "duration": 1151,
    "start_time": "2025-03-09T11:59:54.185Z"
   },
   {
    "duration": 1294,
    "start_time": "2025-03-09T12:00:06.753Z"
   },
   {
    "duration": 1531,
    "start_time": "2025-03-09T12:00:11.760Z"
   },
   {
    "duration": 56,
    "start_time": "2025-03-09T12:00:53.278Z"
   },
   {
    "duration": 74,
    "start_time": "2025-03-09T12:03:34.294Z"
   },
   {
    "duration": 56,
    "start_time": "2025-03-09T12:06:31.219Z"
   },
   {
    "duration": 208,
    "start_time": "2025-03-09T12:11:41.074Z"
   },
   {
    "duration": 19,
    "start_time": "2025-03-09T12:13:55.723Z"
   },
   {
    "duration": 16,
    "start_time": "2025-03-09T12:14:24.078Z"
   },
   {
    "duration": 161,
    "start_time": "2025-03-09T12:15:28.283Z"
   },
   {
    "duration": 55,
    "start_time": "2025-03-09T12:15:52.210Z"
   },
   {
    "duration": 164,
    "start_time": "2025-03-09T12:15:54.917Z"
   },
   {
    "duration": 53,
    "start_time": "2025-03-09T12:16:09.435Z"
   },
   {
    "duration": 185,
    "start_time": "2025-03-09T12:16:52.398Z"
   },
   {
    "duration": 256,
    "start_time": "2025-03-09T12:17:06.309Z"
   },
   {
    "duration": 173,
    "start_time": "2025-03-09T12:17:10.671Z"
   },
   {
    "duration": 185,
    "start_time": "2025-03-09T12:17:12.715Z"
   },
   {
    "duration": 188,
    "start_time": "2025-03-09T12:17:23.487Z"
   },
   {
    "duration": 219,
    "start_time": "2025-03-09T12:19:39.331Z"
   },
   {
    "duration": 188,
    "start_time": "2025-03-09T12:19:43.096Z"
   },
   {
    "duration": 189,
    "start_time": "2025-03-09T12:20:30.547Z"
   },
   {
    "duration": 132,
    "start_time": "2025-03-09T12:22:22.161Z"
   },
   {
    "duration": 135,
    "start_time": "2025-03-09T12:22:27.302Z"
   },
   {
    "duration": 196,
    "start_time": "2025-03-09T12:27:52.157Z"
   },
   {
    "duration": 205,
    "start_time": "2025-03-09T12:28:11.050Z"
   },
   {
    "duration": 17,
    "start_time": "2025-03-09T12:30:39.243Z"
   },
   {
    "duration": 58,
    "start_time": "2025-03-09T12:32:43.776Z"
   },
   {
    "duration": 318,
    "start_time": "2025-03-09T12:32:52.664Z"
   },
   {
    "duration": 9,
    "start_time": "2025-03-09T12:33:44.045Z"
   },
   {
    "duration": 422,
    "start_time": "2025-03-09T12:35:22.485Z"
   },
   {
    "duration": 467,
    "start_time": "2025-03-09T12:36:52.103Z"
   },
   {
    "duration": 315,
    "start_time": "2025-03-09T12:39:57.852Z"
   },
   {
    "duration": 1228,
    "start_time": "2025-03-09T12:40:53.958Z"
   },
   {
    "duration": 1476,
    "start_time": "2025-03-09T12:40:56.902Z"
   },
   {
    "duration": 316,
    "start_time": "2025-03-09T12:41:22.408Z"
   },
   {
    "duration": 199,
    "start_time": "2025-03-09T12:41:51.126Z"
   },
   {
    "duration": 59,
    "start_time": "2025-03-09T12:45:21.045Z"
   },
   {
    "duration": 1267,
    "start_time": "2025-03-09T12:46:27.132Z"
   },
   {
    "duration": 83,
    "start_time": "2025-03-09T12:47:11.049Z"
   },
   {
    "duration": 26,
    "start_time": "2025-03-09T12:48:16.822Z"
   },
   {
    "duration": 57,
    "start_time": "2025-03-09T12:48:32.571Z"
   },
   {
    "duration": 58,
    "start_time": "2025-03-09T12:49:39.106Z"
   },
   {
    "duration": 54,
    "start_time": "2025-03-09T12:50:15.373Z"
   },
   {
    "duration": 50,
    "start_time": "2025-03-09T12:51:06.277Z"
   },
   {
    "duration": 58,
    "start_time": "2025-03-09T12:51:24.773Z"
   },
   {
    "duration": 56,
    "start_time": "2025-03-09T12:52:20.883Z"
   },
   {
    "duration": 81,
    "start_time": "2025-03-09T12:56:36.265Z"
   },
   {
    "duration": 1220,
    "start_time": "2025-03-09T12:57:06.899Z"
   },
   {
    "duration": 53,
    "start_time": "2025-03-09T12:57:28.382Z"
   },
   {
    "duration": 51,
    "start_time": "2025-03-09T12:58:12.687Z"
   },
   {
    "duration": 72,
    "start_time": "2025-03-09T12:58:57.487Z"
   },
   {
    "duration": 1264,
    "start_time": "2025-03-09T12:59:03.815Z"
   },
   {
    "duration": 56,
    "start_time": "2025-03-09T12:59:20.001Z"
   },
   {
    "duration": 52,
    "start_time": "2025-03-09T12:59:40.987Z"
   },
   {
    "duration": 200,
    "start_time": "2025-03-09T12:59:59.840Z"
   },
   {
    "duration": 53,
    "start_time": "2025-03-09T13:00:34.915Z"
   },
   {
    "duration": 57,
    "start_time": "2025-03-09T13:00:49.469Z"
   },
   {
    "duration": 53,
    "start_time": "2025-03-09T13:00:52.739Z"
   },
   {
    "duration": 159,
    "start_time": "2025-03-09T13:00:55.996Z"
   },
   {
    "duration": 53,
    "start_time": "2025-03-09T13:01:04.972Z"
   },
   {
    "duration": 196,
    "start_time": "2025-03-09T13:01:47.838Z"
   },
   {
    "duration": 196,
    "start_time": "2025-03-09T13:02:25.024Z"
   },
   {
    "duration": 196,
    "start_time": "2025-03-09T13:02:42.014Z"
   },
   {
    "duration": 4,
    "start_time": "2025-03-09T13:04:57.024Z"
   },
   {
    "duration": 11,
    "start_time": "2025-03-09T13:05:04.190Z"
   },
   {
    "duration": 60,
    "start_time": "2025-03-09T13:07:12.119Z"
   },
   {
    "duration": 54,
    "start_time": "2025-03-09T13:07:20.831Z"
   },
   {
    "duration": 10,
    "start_time": "2025-03-09T13:07:26.035Z"
   },
   {
    "duration": 4,
    "start_time": "2025-03-09T13:07:49.246Z"
   },
   {
    "duration": 55,
    "start_time": "2025-03-09T13:08:36.423Z"
   },
   {
    "duration": 53,
    "start_time": "2025-03-09T13:14:59.628Z"
   },
   {
    "duration": 47,
    "start_time": "2025-03-09T13:16:13.613Z"
   },
   {
    "duration": 7,
    "start_time": "2025-03-09T13:17:41.123Z"
   },
   {
    "duration": 6,
    "start_time": "2025-03-09T13:18:39.873Z"
   },
   {
    "duration": 4,
    "start_time": "2025-03-09T13:20:15.518Z"
   },
   {
    "duration": 8,
    "start_time": "2025-03-09T13:20:36.447Z"
   },
   {
    "duration": 17,
    "start_time": "2025-03-09T13:20:59.528Z"
   },
   {
    "duration": 7,
    "start_time": "2025-03-09T13:21:22.707Z"
   },
   {
    "duration": 56,
    "start_time": "2025-03-09T13:22:01.561Z"
   },
   {
    "duration": 16,
    "start_time": "2025-03-09T13:23:45.715Z"
   },
   {
    "duration": 50,
    "start_time": "2025-03-09T16:18:55.943Z"
   },
   {
    "duration": 8,
    "start_time": "2025-03-09T16:18:59.140Z"
   },
   {
    "duration": 3612,
    "start_time": "2025-03-09T16:19:06.488Z"
   },
   {
    "duration": 1377,
    "start_time": "2025-03-09T16:19:10.102Z"
   },
   {
    "duration": 1204,
    "start_time": "2025-03-09T16:19:11.481Z"
   },
   {
    "duration": 6,
    "start_time": "2025-03-09T16:19:12.687Z"
   },
   {
    "duration": 15,
    "start_time": "2025-03-09T16:19:12.695Z"
   },
   {
    "duration": 13,
    "start_time": "2025-03-09T16:19:12.711Z"
   },
   {
    "duration": 33,
    "start_time": "2025-03-09T16:19:12.725Z"
   },
   {
    "duration": 4,
    "start_time": "2025-03-09T16:19:12.760Z"
   },
   {
    "duration": 21,
    "start_time": "2025-03-09T16:19:12.766Z"
   },
   {
    "duration": 110,
    "start_time": "2025-03-09T16:19:12.788Z"
   },
   {
    "duration": 97,
    "start_time": "2025-03-09T16:19:12.900Z"
   },
   {
    "duration": 98,
    "start_time": "2025-03-09T16:19:12.998Z"
   },
   {
    "duration": 42,
    "start_time": "2025-03-09T16:19:13.098Z"
   },
   {
    "duration": 16,
    "start_time": "2025-03-09T16:19:13.143Z"
   },
   {
    "duration": 3,
    "start_time": "2025-03-09T16:19:13.161Z"
   },
   {
    "duration": 11,
    "start_time": "2025-03-09T16:19:13.166Z"
   },
   {
    "duration": 40,
    "start_time": "2025-03-09T16:19:13.178Z"
   },
   {
    "duration": 51,
    "start_time": "2025-03-09T16:19:13.219Z"
   },
   {
    "duration": 3,
    "start_time": "2025-03-09T16:19:13.272Z"
   },
   {
    "duration": 8,
    "start_time": "2025-03-09T16:19:13.277Z"
   },
   {
    "duration": 20,
    "start_time": "2025-03-09T16:19:13.286Z"
   },
   {
    "duration": 15,
    "start_time": "2025-03-09T16:19:13.307Z"
   },
   {
    "duration": 36,
    "start_time": "2025-03-09T16:19:13.323Z"
   },
   {
    "duration": 8,
    "start_time": "2025-03-09T16:19:13.360Z"
   },
   {
    "duration": 23,
    "start_time": "2025-03-09T16:19:13.369Z"
   },
   {
    "duration": 20,
    "start_time": "2025-03-09T16:19:13.394Z"
   },
   {
    "duration": 8,
    "start_time": "2025-03-09T16:19:13.415Z"
   },
   {
    "duration": 5,
    "start_time": "2025-03-09T16:19:13.424Z"
   },
   {
    "duration": 201,
    "start_time": "2025-03-09T16:19:13.458Z"
   },
   {
    "duration": 19,
    "start_time": "2025-03-09T16:19:13.660Z"
   },
   {
    "duration": 26,
    "start_time": "2025-03-09T16:19:13.681Z"
   },
   {
    "duration": 11,
    "start_time": "2025-03-09T16:19:13.708Z"
   },
   {
    "duration": 7,
    "start_time": "2025-03-09T16:19:13.721Z"
   },
   {
    "duration": 79,
    "start_time": "2025-03-09T16:19:13.729Z"
   },
   {
    "duration": 84,
    "start_time": "2025-03-09T16:19:13.810Z"
   },
   {
    "duration": 35,
    "start_time": "2025-03-09T16:19:13.895Z"
   },
   {
    "duration": 49,
    "start_time": "2025-03-09T16:19:13.932Z"
   },
   {
    "duration": 11,
    "start_time": "2025-03-09T16:19:13.982Z"
   },
   {
    "duration": 12,
    "start_time": "2025-03-09T16:19:13.994Z"
   },
   {
    "duration": 20,
    "start_time": "2025-03-09T16:19:14.008Z"
   },
   {
    "duration": 46,
    "start_time": "2025-03-09T16:19:14.031Z"
   },
   {
    "duration": 55,
    "start_time": "2025-03-09T16:19:14.078Z"
   },
   {
    "duration": 2,
    "start_time": "2025-03-09T16:19:14.135Z"
   },
   {
    "duration": 220,
    "start_time": "2025-03-09T16:19:14.138Z"
   },
   {
    "duration": 51,
    "start_time": "2025-03-09T16:19:16.470Z"
   },
   {
    "duration": 49,
    "start_time": "2025-03-09T16:19:24.609Z"
   },
   {
    "duration": 176,
    "start_time": "2025-03-09T16:25:44.339Z"
   },
   {
    "duration": 171,
    "start_time": "2025-03-09T16:26:05.239Z"
   },
   {
    "duration": 164,
    "start_time": "2025-03-09T16:27:47.374Z"
   },
   {
    "duration": 175,
    "start_time": "2025-03-09T16:27:58.750Z"
   },
   {
    "duration": 170,
    "start_time": "2025-03-09T16:28:11.331Z"
   },
   {
    "duration": 57,
    "start_time": "2025-03-09T16:28:30.572Z"
   },
   {
    "duration": 245,
    "start_time": "2025-03-09T16:28:35.261Z"
   },
   {
    "duration": 2410,
    "start_time": "2025-03-09T16:29:43.904Z"
   },
   {
    "duration": 1175,
    "start_time": "2025-03-09T16:29:46.316Z"
   },
   {
    "duration": 1038,
    "start_time": "2025-03-09T16:29:47.492Z"
   },
   {
    "duration": 6,
    "start_time": "2025-03-09T16:29:48.532Z"
   },
   {
    "duration": 20,
    "start_time": "2025-03-09T16:29:48.539Z"
   },
   {
    "duration": 12,
    "start_time": "2025-03-09T16:29:48.561Z"
   },
   {
    "duration": 80,
    "start_time": "2025-03-09T16:29:48.575Z"
   },
   {
    "duration": 4,
    "start_time": "2025-03-09T16:29:48.656Z"
   },
   {
    "duration": 25,
    "start_time": "2025-03-09T16:29:48.662Z"
   },
   {
    "duration": 150,
    "start_time": "2025-03-09T16:29:48.689Z"
   },
   {
    "duration": 95,
    "start_time": "2025-03-09T16:29:48.841Z"
   },
   {
    "duration": 99,
    "start_time": "2025-03-09T16:29:48.938Z"
   },
   {
    "duration": 51,
    "start_time": "2025-03-09T16:29:49.038Z"
   },
   {
    "duration": 6,
    "start_time": "2025-03-09T16:29:49.091Z"
   },
   {
    "duration": 6,
    "start_time": "2025-03-09T16:29:49.098Z"
   },
   {
    "duration": 15,
    "start_time": "2025-03-09T16:29:49.105Z"
   },
   {
    "duration": 52,
    "start_time": "2025-03-09T16:29:49.121Z"
   },
   {
    "duration": 36,
    "start_time": "2025-03-09T16:29:49.175Z"
   },
   {
    "duration": 5,
    "start_time": "2025-03-09T16:29:49.212Z"
   },
   {
    "duration": 7,
    "start_time": "2025-03-09T16:29:49.218Z"
   },
   {
    "duration": 43,
    "start_time": "2025-03-09T16:29:49.227Z"
   },
   {
    "duration": 14,
    "start_time": "2025-03-09T16:29:49.272Z"
   },
   {
    "duration": 4,
    "start_time": "2025-03-09T16:29:49.288Z"
   },
   {
    "duration": 8,
    "start_time": "2025-03-09T16:29:49.293Z"
   },
   {
    "duration": 24,
    "start_time": "2025-03-09T16:29:49.302Z"
   },
   {
    "duration": 48,
    "start_time": "2025-03-09T16:29:49.327Z"
   },
   {
    "duration": 7,
    "start_time": "2025-03-09T16:29:49.377Z"
   },
   {
    "duration": 4,
    "start_time": "2025-03-09T16:29:49.388Z"
   },
   {
    "duration": 218,
    "start_time": "2025-03-09T16:29:49.394Z"
   },
   {
    "duration": 18,
    "start_time": "2025-03-09T16:29:49.614Z"
   },
   {
    "duration": 5,
    "start_time": "2025-03-09T16:29:49.634Z"
   },
   {
    "duration": 23,
    "start_time": "2025-03-09T16:29:49.640Z"
   },
   {
    "duration": 83,
    "start_time": "2025-03-09T16:29:49.665Z"
   },
   {
    "duration": 70,
    "start_time": "2025-03-09T16:29:49.750Z"
   },
   {
    "duration": 78,
    "start_time": "2025-03-09T16:29:49.822Z"
   },
   {
    "duration": 35,
    "start_time": "2025-03-09T16:29:49.901Z"
   },
   {
    "duration": 49,
    "start_time": "2025-03-09T16:29:49.938Z"
   },
   {
    "duration": 13,
    "start_time": "2025-03-09T16:29:49.988Z"
   },
   {
    "duration": 14,
    "start_time": "2025-03-09T16:29:50.002Z"
   },
   {
    "duration": 22,
    "start_time": "2025-03-09T16:29:50.017Z"
   },
   {
    "duration": 23,
    "start_time": "2025-03-09T16:29:50.058Z"
   },
   {
    "duration": 75,
    "start_time": "2025-03-09T16:29:50.082Z"
   },
   {
    "duration": 3,
    "start_time": "2025-03-09T16:29:50.160Z"
   },
   {
    "duration": 211,
    "start_time": "2025-03-09T16:29:50.165Z"
   },
   {
    "duration": 63,
    "start_time": "2025-03-09T16:30:54.868Z"
   },
   {
    "duration": 568,
    "start_time": "2025-03-09T16:30:58.060Z"
   },
   {
    "duration": 489,
    "start_time": "2025-03-09T16:31:04.305Z"
   },
   {
    "duration": 266,
    "start_time": "2025-03-09T16:32:02.536Z"
   },
   {
    "duration": 316,
    "start_time": "2025-03-09T16:32:26.256Z"
   },
   {
    "duration": 304,
    "start_time": "2025-03-09T16:32:49.823Z"
   },
   {
    "duration": 56,
    "start_time": "2025-03-09T16:33:53.823Z"
   },
   {
    "duration": 49,
    "start_time": "2025-03-09T16:36:18.014Z"
   },
   {
    "duration": 388,
    "start_time": "2025-03-09T16:36:26.908Z"
   },
   {
    "duration": 51,
    "start_time": "2025-03-09T16:36:42.883Z"
   },
   {
    "duration": 305,
    "start_time": "2025-03-09T16:37:02.555Z"
   },
   {
    "duration": 300,
    "start_time": "2025-03-09T16:37:16.169Z"
   },
   {
    "duration": 299,
    "start_time": "2025-03-09T16:37:43.838Z"
   },
   {
    "duration": 323,
    "start_time": "2025-03-09T16:37:53.485Z"
   },
   {
    "duration": 318,
    "start_time": "2025-03-09T16:39:01.481Z"
   },
   {
    "duration": 9,
    "start_time": "2025-03-09T16:39:30.622Z"
   },
   {
    "duration": 54,
    "start_time": "2025-03-09T16:40:04.408Z"
   },
   {
    "duration": 50,
    "start_time": "2025-03-09T16:40:12.378Z"
   },
   {
    "duration": 301,
    "start_time": "2025-03-09T16:40:24.863Z"
   },
   {
    "duration": 294,
    "start_time": "2025-03-09T16:40:36.912Z"
   },
   {
    "duration": 204,
    "start_time": "2025-03-09T16:40:47.666Z"
   },
   {
    "duration": 2410,
    "start_time": "2025-03-09T16:40:56.863Z"
   },
   {
    "duration": 1190,
    "start_time": "2025-03-09T16:40:59.276Z"
   },
   {
    "duration": 1099,
    "start_time": "2025-03-09T16:41:00.468Z"
   },
   {
    "duration": 7,
    "start_time": "2025-03-09T16:41:01.569Z"
   },
   {
    "duration": 13,
    "start_time": "2025-03-09T16:41:01.579Z"
   },
   {
    "duration": 19,
    "start_time": "2025-03-09T16:41:01.594Z"
   },
   {
    "duration": 8,
    "start_time": "2025-03-09T16:41:01.614Z"
   },
   {
    "duration": 4,
    "start_time": "2025-03-09T16:41:01.623Z"
   },
   {
    "duration": 44,
    "start_time": "2025-03-09T16:41:01.628Z"
   },
   {
    "duration": 112,
    "start_time": "2025-03-09T16:41:01.674Z"
   },
   {
    "duration": 101,
    "start_time": "2025-03-09T16:41:01.788Z"
   },
   {
    "duration": 99,
    "start_time": "2025-03-09T16:41:01.890Z"
   },
   {
    "duration": 45,
    "start_time": "2025-03-09T16:41:01.991Z"
   },
   {
    "duration": 19,
    "start_time": "2025-03-09T16:41:02.039Z"
   },
   {
    "duration": 8,
    "start_time": "2025-03-09T16:41:02.059Z"
   },
   {
    "duration": 9,
    "start_time": "2025-03-09T16:41:02.069Z"
   },
   {
    "duration": 57,
    "start_time": "2025-03-09T16:41:02.080Z"
   },
   {
    "duration": 88,
    "start_time": "2025-03-09T16:41:02.138Z"
   },
   {
    "duration": 4,
    "start_time": "2025-03-09T16:41:02.227Z"
   },
   {
    "duration": 114,
    "start_time": "2025-03-09T16:41:02.233Z"
   },
   {
    "duration": 51,
    "start_time": "2025-03-09T16:41:02.349Z"
   },
   {
    "duration": 123,
    "start_time": "2025-03-09T16:41:02.402Z"
   },
   {
    "duration": 3,
    "start_time": "2025-03-09T16:41:02.527Z"
   },
   {
    "duration": 15,
    "start_time": "2025-03-09T16:41:02.532Z"
   },
   {
    "duration": 38,
    "start_time": "2025-03-09T16:41:02.549Z"
   },
   {
    "duration": 137,
    "start_time": "2025-03-09T16:41:02.588Z"
   },
   {
    "duration": 73,
    "start_time": "2025-03-09T16:41:02.727Z"
   },
   {
    "duration": 8,
    "start_time": "2025-03-09T16:41:02.801Z"
   },
   {
    "duration": 195,
    "start_time": "2025-03-09T16:41:02.811Z"
   },
   {
    "duration": 20,
    "start_time": "2025-03-09T16:41:03.007Z"
   },
   {
    "duration": 10,
    "start_time": "2025-03-09T16:41:03.028Z"
   },
   {
    "duration": 20,
    "start_time": "2025-03-09T16:41:03.039Z"
   },
   {
    "duration": 8,
    "start_time": "2025-03-09T16:41:03.061Z"
   },
   {
    "duration": 75,
    "start_time": "2025-03-09T16:41:03.070Z"
   },
   {
    "duration": 72,
    "start_time": "2025-03-09T16:41:03.158Z"
   },
   {
    "duration": 51,
    "start_time": "2025-03-09T16:41:03.231Z"
   },
   {
    "duration": 35,
    "start_time": "2025-03-09T16:41:03.284Z"
   },
   {
    "duration": 11,
    "start_time": "2025-03-09T16:41:03.321Z"
   },
   {
    "duration": 30,
    "start_time": "2025-03-09T16:41:03.333Z"
   },
   {
    "duration": 20,
    "start_time": "2025-03-09T16:41:03.365Z"
   },
   {
    "duration": 20,
    "start_time": "2025-03-09T16:41:03.389Z"
   },
   {
    "duration": 76,
    "start_time": "2025-03-09T16:41:03.411Z"
   },
   {
    "duration": 8,
    "start_time": "2025-03-09T16:41:03.489Z"
   },
   {
    "duration": 245,
    "start_time": "2025-03-09T16:41:03.498Z"
   },
   {
    "duration": 151,
    "start_time": "2025-03-09T16:42:24.014Z"
   },
   {
    "duration": 49,
    "start_time": "2025-03-09T16:42:33.455Z"
   },
   {
    "duration": 51,
    "start_time": "2025-03-09T16:43:04.551Z"
   },
   {
    "duration": 50,
    "start_time": "2025-03-09T16:45:22.972Z"
   },
   {
    "duration": 210,
    "start_time": "2025-03-09T16:45:34.371Z"
   },
   {
    "duration": 1245,
    "start_time": "2025-03-09T16:46:41.966Z"
   },
   {
    "duration": 49,
    "start_time": "2025-03-09T16:47:03.219Z"
   },
   {
    "duration": 49,
    "start_time": "2025-03-09T16:47:11.688Z"
   },
   {
    "duration": 49,
    "start_time": "2025-03-09T16:47:36.099Z"
   },
   {
    "duration": 213,
    "start_time": "2025-03-09T16:47:57.580Z"
   },
   {
    "duration": 44,
    "start_time": "2025-03-09T16:51:02.442Z"
   },
   {
    "duration": 1183,
    "start_time": "2025-03-09T16:52:38.509Z"
   },
   {
    "duration": 1270,
    "start_time": "2025-03-09T16:52:45.783Z"
   },
   {
    "duration": 39,
    "start_time": "2025-03-09T16:53:59.718Z"
   },
   {
    "duration": 41,
    "start_time": "2025-03-09T16:54:39.772Z"
   },
   {
    "duration": 299,
    "start_time": "2025-03-09T16:54:46.083Z"
   },
   {
    "duration": 886,
    "start_time": "2025-03-09T16:55:13.733Z"
   },
   {
    "duration": 39,
    "start_time": "2025-03-09T16:55:22.644Z"
   },
   {
    "duration": 40,
    "start_time": "2025-03-09T16:55:32.645Z"
   },
   {
    "duration": 39,
    "start_time": "2025-03-09T16:55:37.049Z"
   },
   {
    "duration": 2394,
    "start_time": "2025-03-09T16:55:44.029Z"
   },
   {
    "duration": 1141,
    "start_time": "2025-03-09T16:55:46.425Z"
   },
   {
    "duration": 1048,
    "start_time": "2025-03-09T16:55:47.568Z"
   },
   {
    "duration": 5,
    "start_time": "2025-03-09T16:55:48.618Z"
   },
   {
    "duration": 10,
    "start_time": "2025-03-09T16:55:48.626Z"
   },
   {
    "duration": 20,
    "start_time": "2025-03-09T16:55:48.638Z"
   },
   {
    "duration": 43,
    "start_time": "2025-03-09T16:55:48.660Z"
   },
   {
    "duration": 5,
    "start_time": "2025-03-09T16:55:48.705Z"
   },
   {
    "duration": 24,
    "start_time": "2025-03-09T16:55:48.711Z"
   },
   {
    "duration": 97,
    "start_time": "2025-03-09T16:55:48.737Z"
   },
   {
    "duration": 102,
    "start_time": "2025-03-09T16:55:48.836Z"
   },
   {
    "duration": 93,
    "start_time": "2025-03-09T16:55:48.940Z"
   },
   {
    "duration": 54,
    "start_time": "2025-03-09T16:55:49.034Z"
   },
   {
    "duration": 6,
    "start_time": "2025-03-09T16:55:49.091Z"
   },
   {
    "duration": 5,
    "start_time": "2025-03-09T16:55:49.098Z"
   },
   {
    "duration": 8,
    "start_time": "2025-03-09T16:55:49.104Z"
   },
   {
    "duration": 59,
    "start_time": "2025-03-09T16:55:49.114Z"
   },
   {
    "duration": 33,
    "start_time": "2025-03-09T16:55:49.175Z"
   },
   {
    "duration": 13,
    "start_time": "2025-03-09T16:55:49.209Z"
   },
   {
    "duration": 14,
    "start_time": "2025-03-09T16:55:49.224Z"
   },
   {
    "duration": 33,
    "start_time": "2025-03-09T16:55:49.239Z"
   },
   {
    "duration": 26,
    "start_time": "2025-03-09T16:55:49.273Z"
   },
   {
    "duration": 4,
    "start_time": "2025-03-09T16:55:49.300Z"
   },
   {
    "duration": 8,
    "start_time": "2025-03-09T16:55:49.305Z"
   },
   {
    "duration": 23,
    "start_time": "2025-03-09T16:55:49.314Z"
   },
   {
    "duration": 36,
    "start_time": "2025-03-09T16:55:49.339Z"
   },
   {
    "duration": 7,
    "start_time": "2025-03-09T16:55:49.376Z"
   },
   {
    "duration": 7,
    "start_time": "2025-03-09T16:55:49.384Z"
   },
   {
    "duration": 212,
    "start_time": "2025-03-09T16:55:49.392Z"
   },
   {
    "duration": 19,
    "start_time": "2025-03-09T16:55:49.605Z"
   },
   {
    "duration": 4,
    "start_time": "2025-03-09T16:55:49.626Z"
   },
   {
    "duration": 28,
    "start_time": "2025-03-09T16:55:49.632Z"
   },
   {
    "duration": 8,
    "start_time": "2025-03-09T16:55:49.662Z"
   },
   {
    "duration": 87,
    "start_time": "2025-03-09T16:55:49.672Z"
   },
   {
    "duration": 72,
    "start_time": "2025-03-09T16:55:49.761Z"
   },
   {
    "duration": 52,
    "start_time": "2025-03-09T16:55:49.835Z"
   },
   {
    "duration": 38,
    "start_time": "2025-03-09T16:55:49.889Z"
   },
   {
    "duration": 11,
    "start_time": "2025-03-09T16:55:49.928Z"
   },
   {
    "duration": 12,
    "start_time": "2025-03-09T16:55:49.958Z"
   },
   {
    "duration": 19,
    "start_time": "2025-03-09T16:55:49.972Z"
   },
   {
    "duration": 20,
    "start_time": "2025-03-09T16:55:49.995Z"
   },
   {
    "duration": 70,
    "start_time": "2025-03-09T16:55:50.017Z"
   },
   {
    "duration": 253,
    "start_time": "2025-03-09T16:55:50.089Z"
   },
   {
    "duration": 39,
    "start_time": "2025-03-09T16:56:02.852Z"
   },
   {
    "duration": 38,
    "start_time": "2025-03-09T16:56:22.294Z"
   },
   {
    "duration": 41,
    "start_time": "2025-03-09T16:58:27.610Z"
   },
   {
    "duration": 238,
    "start_time": "2025-03-09T16:58:44.183Z"
   },
   {
    "duration": 261,
    "start_time": "2025-03-09T17:02:27.102Z"
   },
   {
    "duration": 2393,
    "start_time": "2025-03-09T17:02:52.213Z"
   },
   {
    "duration": 1134,
    "start_time": "2025-03-09T17:02:54.608Z"
   },
   {
    "duration": 1025,
    "start_time": "2025-03-09T17:02:55.743Z"
   },
   {
    "duration": 6,
    "start_time": "2025-03-09T17:02:56.770Z"
   },
   {
    "duration": 59,
    "start_time": "2025-03-09T17:02:56.777Z"
   },
   {
    "duration": 12,
    "start_time": "2025-03-09T17:02:56.837Z"
   },
   {
    "duration": 8,
    "start_time": "2025-03-09T17:02:56.850Z"
   },
   {
    "duration": 4,
    "start_time": "2025-03-09T17:02:56.860Z"
   },
   {
    "duration": 22,
    "start_time": "2025-03-09T17:02:56.865Z"
   },
   {
    "duration": 112,
    "start_time": "2025-03-09T17:02:56.889Z"
   },
   {
    "duration": 100,
    "start_time": "2025-03-09T17:02:57.003Z"
   },
   {
    "duration": 100,
    "start_time": "2025-03-09T17:02:57.105Z"
   },
   {
    "duration": 57,
    "start_time": "2025-03-09T17:02:57.207Z"
   },
   {
    "duration": 6,
    "start_time": "2025-03-09T17:02:57.267Z"
   },
   {
    "duration": 5,
    "start_time": "2025-03-09T17:02:57.275Z"
   },
   {
    "duration": 9,
    "start_time": "2025-03-09T17:02:57.281Z"
   },
   {
    "duration": 40,
    "start_time": "2025-03-09T17:02:57.292Z"
   },
   {
    "duration": 57,
    "start_time": "2025-03-09T17:02:57.333Z"
   },
   {
    "duration": 3,
    "start_time": "2025-03-09T17:02:57.392Z"
   },
   {
    "duration": 7,
    "start_time": "2025-03-09T17:02:57.397Z"
   },
   {
    "duration": 28,
    "start_time": "2025-03-09T17:02:57.406Z"
   },
   {
    "duration": 36,
    "start_time": "2025-03-09T17:02:57.436Z"
   },
   {
    "duration": 4,
    "start_time": "2025-03-09T17:02:57.474Z"
   },
   {
    "duration": 9,
    "start_time": "2025-03-09T17:02:57.480Z"
   },
   {
    "duration": 26,
    "start_time": "2025-03-09T17:02:57.491Z"
   },
   {
    "duration": 40,
    "start_time": "2025-03-09T17:02:57.519Z"
   },
   {
    "duration": 8,
    "start_time": "2025-03-09T17:02:57.560Z"
   },
   {
    "duration": 23,
    "start_time": "2025-03-09T17:02:57.571Z"
   },
   {
    "duration": 200,
    "start_time": "2025-03-09T17:02:57.595Z"
   },
   {
    "duration": 19,
    "start_time": "2025-03-09T17:02:57.797Z"
   },
   {
    "duration": 35,
    "start_time": "2025-03-09T17:02:57.818Z"
   },
   {
    "duration": 6,
    "start_time": "2025-03-09T17:02:57.855Z"
   },
   {
    "duration": 7,
    "start_time": "2025-03-09T17:02:57.862Z"
   },
   {
    "duration": 70,
    "start_time": "2025-03-09T17:02:57.870Z"
   },
   {
    "duration": 85,
    "start_time": "2025-03-09T17:02:57.942Z"
   },
   {
    "duration": 45,
    "start_time": "2025-03-09T17:02:58.028Z"
   },
   {
    "duration": 37,
    "start_time": "2025-03-09T17:02:58.074Z"
   },
   {
    "duration": 12,
    "start_time": "2025-03-09T17:02:58.112Z"
   },
   {
    "duration": 33,
    "start_time": "2025-03-09T17:02:58.126Z"
   },
   {
    "duration": 20,
    "start_time": "2025-03-09T17:02:58.160Z"
   },
   {
    "duration": 22,
    "start_time": "2025-03-09T17:02:58.182Z"
   },
   {
    "duration": 66,
    "start_time": "2025-03-09T17:02:58.205Z"
   },
   {
    "duration": 252,
    "start_time": "2025-03-09T17:02:58.273Z"
   },
   {
    "duration": 216,
    "start_time": "2025-03-09T17:03:25.548Z"
   },
   {
    "duration": 2385,
    "start_time": "2025-03-09T17:03:37.045Z"
   },
   {
    "duration": 1214,
    "start_time": "2025-03-09T17:03:39.432Z"
   },
   {
    "duration": 1079,
    "start_time": "2025-03-09T17:03:40.647Z"
   },
   {
    "duration": 6,
    "start_time": "2025-03-09T17:03:41.728Z"
   },
   {
    "duration": 23,
    "start_time": "2025-03-09T17:03:41.736Z"
   },
   {
    "duration": 12,
    "start_time": "2025-03-09T17:03:41.760Z"
   },
   {
    "duration": 87,
    "start_time": "2025-03-09T17:03:41.774Z"
   },
   {
    "duration": 3,
    "start_time": "2025-03-09T17:03:41.863Z"
   },
   {
    "duration": 22,
    "start_time": "2025-03-09T17:03:41.868Z"
   },
   {
    "duration": 124,
    "start_time": "2025-03-09T17:03:41.892Z"
   },
   {
    "duration": 102,
    "start_time": "2025-03-09T17:03:42.018Z"
   },
   {
    "duration": 107,
    "start_time": "2025-03-09T17:03:42.122Z"
   },
   {
    "duration": 52,
    "start_time": "2025-03-09T17:03:42.230Z"
   },
   {
    "duration": 6,
    "start_time": "2025-03-09T17:03:42.285Z"
   },
   {
    "duration": 106,
    "start_time": "2025-03-09T17:03:42.293Z"
   },
   {
    "duration": 8,
    "start_time": "2025-03-09T17:03:42.401Z"
   },
   {
    "duration": 39,
    "start_time": "2025-03-09T17:03:42.410Z"
   },
   {
    "duration": 34,
    "start_time": "2025-03-09T17:03:42.451Z"
   },
   {
    "duration": 87,
    "start_time": "2025-03-09T17:03:42.487Z"
   },
   {
    "duration": 8,
    "start_time": "2025-03-09T17:03:42.576Z"
   },
   {
    "duration": 19,
    "start_time": "2025-03-09T17:03:42.585Z"
   },
   {
    "duration": 15,
    "start_time": "2025-03-09T17:03:42.605Z"
   },
   {
    "duration": 3,
    "start_time": "2025-03-09T17:03:42.622Z"
   },
   {
    "duration": 9,
    "start_time": "2025-03-09T17:03:42.627Z"
   },
   {
    "duration": 36,
    "start_time": "2025-03-09T17:03:42.638Z"
   },
   {
    "duration": 85,
    "start_time": "2025-03-09T17:03:42.676Z"
   },
   {
    "duration": 8,
    "start_time": "2025-03-09T17:03:42.762Z"
   },
   {
    "duration": 64,
    "start_time": "2025-03-09T17:03:42.771Z"
   },
   {
    "duration": 207,
    "start_time": "2025-03-09T17:03:42.837Z"
   },
   {
    "duration": 20,
    "start_time": "2025-03-09T17:03:43.045Z"
   },
   {
    "duration": 23,
    "start_time": "2025-03-09T17:03:43.066Z"
   },
   {
    "duration": 7,
    "start_time": "2025-03-09T17:03:43.091Z"
   },
   {
    "duration": 7,
    "start_time": "2025-03-09T17:03:43.100Z"
   },
   {
    "duration": 86,
    "start_time": "2025-03-09T17:03:43.109Z"
   },
   {
    "duration": 76,
    "start_time": "2025-03-09T17:03:43.196Z"
   },
   {
    "duration": 35,
    "start_time": "2025-03-09T17:03:43.274Z"
   },
   {
    "duration": 55,
    "start_time": "2025-03-09T17:03:43.310Z"
   },
   {
    "duration": 12,
    "start_time": "2025-03-09T17:03:43.366Z"
   },
   {
    "duration": 12,
    "start_time": "2025-03-09T17:03:43.379Z"
   },
   {
    "duration": 20,
    "start_time": "2025-03-09T17:03:43.392Z"
   },
   {
    "duration": 45,
    "start_time": "2025-03-09T17:03:43.415Z"
   },
   {
    "duration": 44,
    "start_time": "2025-03-09T17:03:43.461Z"
   },
   {
    "duration": 251,
    "start_time": "2025-03-09T17:03:43.507Z"
   },
   {
    "duration": 39,
    "start_time": "2025-03-09T17:04:21.458Z"
   },
   {
    "duration": 222,
    "start_time": "2025-03-09T17:04:26.039Z"
   },
   {
    "duration": 222,
    "start_time": "2025-03-09T17:05:30.442Z"
   },
   {
    "duration": 42,
    "start_time": "2025-03-09T17:07:09.368Z"
   },
   {
    "duration": 41,
    "start_time": "2025-03-09T17:13:41.709Z"
   },
   {
    "duration": 211,
    "start_time": "2025-03-09T17:13:47.183Z"
   },
   {
    "duration": 42,
    "start_time": "2025-03-09T17:14:27.992Z"
   },
   {
    "duration": 109,
    "start_time": "2025-03-09T17:16:30.850Z"
   },
   {
    "duration": 8,
    "start_time": "2025-03-09T17:17:40.439Z"
   },
   {
    "duration": 5,
    "start_time": "2025-03-09T17:19:03.767Z"
   },
   {
    "duration": 0,
    "start_time": "2025-03-09T17:19:32.638Z"
   },
   {
    "duration": 2466,
    "start_time": "2025-03-09T17:19:37.579Z"
   },
   {
    "duration": 1280,
    "start_time": "2025-03-09T17:19:40.047Z"
   },
   {
    "duration": 1058,
    "start_time": "2025-03-09T17:19:41.329Z"
   },
   {
    "duration": 5,
    "start_time": "2025-03-09T17:19:42.389Z"
   },
   {
    "duration": 30,
    "start_time": "2025-03-09T17:19:42.396Z"
   },
   {
    "duration": 12,
    "start_time": "2025-03-09T17:19:42.427Z"
   },
   {
    "duration": 7,
    "start_time": "2025-03-09T17:19:42.440Z"
   },
   {
    "duration": 9,
    "start_time": "2025-03-09T17:19:42.449Z"
   },
   {
    "duration": 23,
    "start_time": "2025-03-09T17:19:42.460Z"
   },
   {
    "duration": 126,
    "start_time": "2025-03-09T17:19:42.485Z"
   },
   {
    "duration": 139,
    "start_time": "2025-03-09T17:19:42.613Z"
   },
   {
    "duration": 141,
    "start_time": "2025-03-09T17:19:42.758Z"
   },
   {
    "duration": 44,
    "start_time": "2025-03-09T17:19:42.900Z"
   },
   {
    "duration": 13,
    "start_time": "2025-03-09T17:19:42.946Z"
   },
   {
    "duration": 12,
    "start_time": "2025-03-09T17:19:42.960Z"
   },
   {
    "duration": 9,
    "start_time": "2025-03-09T17:19:42.974Z"
   },
   {
    "duration": 43,
    "start_time": "2025-03-09T17:19:42.984Z"
   },
   {
    "duration": 66,
    "start_time": "2025-03-09T17:19:43.029Z"
   },
   {
    "duration": 29,
    "start_time": "2025-03-09T17:19:43.097Z"
   },
   {
    "duration": 8,
    "start_time": "2025-03-09T17:19:43.127Z"
   },
   {
    "duration": 22,
    "start_time": "2025-03-09T17:19:43.136Z"
   },
   {
    "duration": 21,
    "start_time": "2025-03-09T17:19:43.160Z"
   },
   {
    "duration": 4,
    "start_time": "2025-03-09T17:19:43.183Z"
   },
   {
    "duration": 16,
    "start_time": "2025-03-09T17:19:43.188Z"
   },
   {
    "duration": 32,
    "start_time": "2025-03-09T17:19:43.206Z"
   },
   {
    "duration": 41,
    "start_time": "2025-03-09T17:19:43.240Z"
   },
   {
    "duration": 7,
    "start_time": "2025-03-09T17:19:43.283Z"
   },
   {
    "duration": 5,
    "start_time": "2025-03-09T17:19:43.293Z"
   },
   {
    "duration": 219,
    "start_time": "2025-03-09T17:19:43.299Z"
   },
   {
    "duration": 19,
    "start_time": "2025-03-09T17:19:43.520Z"
   },
   {
    "duration": 18,
    "start_time": "2025-03-09T17:19:43.541Z"
   },
   {
    "duration": 7,
    "start_time": "2025-03-09T17:19:43.560Z"
   },
   {
    "duration": 11,
    "start_time": "2025-03-09T17:19:43.569Z"
   },
   {
    "duration": 102,
    "start_time": "2025-03-09T17:19:43.581Z"
   },
   {
    "duration": 91,
    "start_time": "2025-03-09T17:19:43.685Z"
   },
   {
    "duration": 41,
    "start_time": "2025-03-09T17:19:43.777Z"
   },
   {
    "duration": 105,
    "start_time": "2025-03-09T17:19:43.820Z"
   },
   {
    "duration": 13,
    "start_time": "2025-03-09T17:19:43.926Z"
   },
   {
    "duration": 13,
    "start_time": "2025-03-09T17:19:43.941Z"
   },
   {
    "duration": 22,
    "start_time": "2025-03-09T17:19:43.956Z"
   },
   {
    "duration": 23,
    "start_time": "2025-03-09T17:19:43.980Z"
   },
   {
    "duration": 0,
    "start_time": "2025-03-09T17:19:57.787Z"
   },
   {
    "duration": 0,
    "start_time": "2025-03-09T17:19:57.788Z"
   },
   {
    "duration": 0,
    "start_time": "2025-03-09T17:19:57.789Z"
   },
   {
    "duration": 0,
    "start_time": "2025-03-09T17:19:57.791Z"
   },
   {
    "duration": 29,
    "start_time": "2025-03-09T17:20:22.342Z"
   },
   {
    "duration": 330,
    "start_time": "2025-03-09T17:20:30.734Z"
   },
   {
    "duration": 316,
    "start_time": "2025-03-09T17:21:22.303Z"
   },
   {
    "duration": 12,
    "start_time": "2025-03-09T17:23:36.293Z"
   },
   {
    "duration": 32,
    "start_time": "2025-03-09T17:24:52.122Z"
   },
   {
    "duration": 302,
    "start_time": "2025-03-09T17:25:00.400Z"
   },
   {
    "duration": 210,
    "start_time": "2025-03-09T17:25:11.862Z"
   },
   {
    "duration": 209,
    "start_time": "2025-03-09T17:25:18.416Z"
   },
   {
    "duration": 32,
    "start_time": "2025-03-09T17:25:23.939Z"
   },
   {
    "duration": 8,
    "start_time": "2025-03-09T17:26:05.815Z"
   },
   {
    "duration": 22,
    "start_time": "2025-03-09T17:26:58.293Z"
   },
   {
    "duration": 17,
    "start_time": "2025-03-09T17:28:33.788Z"
   },
   {
    "duration": 929,
    "start_time": "2025-03-09T17:29:41.228Z"
   },
   {
    "duration": 14,
    "start_time": "2025-03-09T17:30:04.334Z"
   },
   {
    "duration": 14,
    "start_time": "2025-03-09T17:30:14.157Z"
   },
   {
    "duration": 25,
    "start_time": "2025-03-09T17:30:35.471Z"
   },
   {
    "duration": 21,
    "start_time": "2025-03-09T17:30:41.426Z"
   },
   {
    "duration": 9,
    "start_time": "2025-03-09T17:30:58.454Z"
   },
   {
    "duration": 8,
    "start_time": "2025-03-09T17:31:03.888Z"
   },
   {
    "duration": 83,
    "start_time": "2025-03-09T17:34:43.724Z"
   },
   {
    "duration": 14,
    "start_time": "2025-03-09T17:34:48.906Z"
   },
   {
    "duration": 12,
    "start_time": "2025-03-09T17:34:54.564Z"
   },
   {
    "duration": 126,
    "start_time": "2025-03-09T17:36:19.906Z"
   },
   {
    "duration": 83,
    "start_time": "2025-03-09T17:36:25.496Z"
   },
   {
    "duration": 13,
    "start_time": "2025-03-09T17:36:31.891Z"
   },
   {
    "duration": 153,
    "start_time": "2025-03-09T17:37:19.321Z"
   },
   {
    "duration": 7,
    "start_time": "2025-03-09T17:38:39.071Z"
   },
   {
    "duration": 5,
    "start_time": "2025-03-09T17:39:17.943Z"
   },
   {
    "duration": 62,
    "start_time": "2025-03-09T17:42:01.069Z"
   },
   {
    "duration": 5,
    "start_time": "2025-03-09T17:42:13.668Z"
   },
   {
    "duration": 8,
    "start_time": "2025-03-09T17:42:21.129Z"
   },
   {
    "duration": 5,
    "start_time": "2025-03-09T17:43:58.006Z"
   },
   {
    "duration": 67,
    "start_time": "2025-03-09T17:46:37.987Z"
   },
   {
    "duration": 61,
    "start_time": "2025-03-09T17:46:50.027Z"
   },
   {
    "duration": 56,
    "start_time": "2025-03-09T17:48:23.224Z"
   },
   {
    "duration": 10,
    "start_time": "2025-03-09T17:48:56.740Z"
   },
   {
    "duration": 12,
    "start_time": "2025-03-09T17:49:22.807Z"
   },
   {
    "duration": 12,
    "start_time": "2025-03-09T17:49:31.007Z"
   },
   {
    "duration": 12,
    "start_time": "2025-03-09T17:51:09.340Z"
   },
   {
    "duration": 8,
    "start_time": "2025-03-09T17:51:29.062Z"
   },
   {
    "duration": 8,
    "start_time": "2025-03-09T18:01:34.363Z"
   },
   {
    "duration": 10,
    "start_time": "2025-03-09T18:04:56.570Z"
   },
   {
    "duration": 9,
    "start_time": "2025-03-09T18:05:07.216Z"
   },
   {
    "duration": 8,
    "start_time": "2025-03-09T18:05:11.218Z"
   },
   {
    "duration": 103,
    "start_time": "2025-03-09T18:08:47.540Z"
   },
   {
    "duration": 101,
    "start_time": "2025-03-09T18:10:06.585Z"
   },
   {
    "duration": 113,
    "start_time": "2025-03-09T18:17:54.111Z"
   },
   {
    "duration": 140,
    "start_time": "2025-03-09T18:27:22.970Z"
   },
   {
    "duration": 148,
    "start_time": "2025-03-09T18:27:47.188Z"
   },
   {
    "duration": 1360,
    "start_time": "2025-03-09T18:27:58.493Z"
   },
   {
    "duration": 1350,
    "start_time": "2025-03-09T18:30:36.711Z"
   },
   {
    "duration": 96,
    "start_time": "2025-03-09T18:30:57.773Z"
   },
   {
    "duration": 119,
    "start_time": "2025-03-09T18:32:05.876Z"
   },
   {
    "duration": 75,
    "start_time": "2025-03-09T18:57:09.395Z"
   },
   {
    "duration": 9,
    "start_time": "2025-03-09T19:02:56.095Z"
   },
   {
    "duration": 26,
    "start_time": "2025-03-09T19:03:15.594Z"
   },
   {
    "duration": 25,
    "start_time": "2025-03-09T19:03:22.018Z"
   },
   {
    "duration": 27,
    "start_time": "2025-03-09T19:04:28.529Z"
   },
   {
    "duration": 2464,
    "start_time": "2025-03-09T19:04:58.778Z"
   },
   {
    "duration": 1215,
    "start_time": "2025-03-09T19:05:01.244Z"
   },
   {
    "duration": 1069,
    "start_time": "2025-03-09T19:05:02.461Z"
   },
   {
    "duration": 5,
    "start_time": "2025-03-09T19:05:03.532Z"
   },
   {
    "duration": 17,
    "start_time": "2025-03-09T19:05:03.539Z"
   },
   {
    "duration": 15,
    "start_time": "2025-03-09T19:05:03.558Z"
   },
   {
    "duration": 7,
    "start_time": "2025-03-09T19:05:03.575Z"
   },
   {
    "duration": 3,
    "start_time": "2025-03-09T19:05:03.584Z"
   },
   {
    "duration": 38,
    "start_time": "2025-03-09T19:05:03.589Z"
   },
   {
    "duration": 113,
    "start_time": "2025-03-09T19:05:03.629Z"
   },
   {
    "duration": 96,
    "start_time": "2025-03-09T19:05:03.744Z"
   },
   {
    "duration": 99,
    "start_time": "2025-03-09T19:05:03.842Z"
   },
   {
    "duration": 53,
    "start_time": "2025-03-09T19:05:03.942Z"
   },
   {
    "duration": 6,
    "start_time": "2025-03-09T19:05:03.998Z"
   },
   {
    "duration": 17,
    "start_time": "2025-03-09T19:05:04.005Z"
   },
   {
    "duration": 10,
    "start_time": "2025-03-09T19:05:04.023Z"
   },
   {
    "duration": 54,
    "start_time": "2025-03-09T19:05:04.034Z"
   },
   {
    "duration": 34,
    "start_time": "2025-03-09T19:05:04.089Z"
   },
   {
    "duration": 44,
    "start_time": "2025-03-09T19:05:04.125Z"
   },
   {
    "duration": 11,
    "start_time": "2025-03-09T19:05:04.171Z"
   },
   {
    "duration": 41,
    "start_time": "2025-03-09T19:05:04.183Z"
   },
   {
    "duration": 15,
    "start_time": "2025-03-09T19:05:04.225Z"
   },
   {
    "duration": 9,
    "start_time": "2025-03-09T19:05:04.242Z"
   },
   {
    "duration": 17,
    "start_time": "2025-03-09T19:05:04.252Z"
   },
   {
    "duration": 23,
    "start_time": "2025-03-09T19:05:04.271Z"
   },
   {
    "duration": 29,
    "start_time": "2025-03-09T19:05:04.296Z"
   },
   {
    "duration": 7,
    "start_time": "2025-03-09T19:05:04.327Z"
   },
   {
    "duration": 13,
    "start_time": "2025-03-09T19:05:04.336Z"
   },
   {
    "duration": 218,
    "start_time": "2025-03-09T19:05:04.351Z"
   },
   {
    "duration": 19,
    "start_time": "2025-03-09T19:05:04.571Z"
   },
   {
    "duration": 39,
    "start_time": "2025-03-09T19:05:04.592Z"
   },
   {
    "duration": 91,
    "start_time": "2025-03-09T19:05:04.633Z"
   },
   {
    "duration": 7,
    "start_time": "2025-03-09T19:05:04.726Z"
   },
   {
    "duration": 80,
    "start_time": "2025-03-09T19:05:04.735Z"
   },
   {
    "duration": 72,
    "start_time": "2025-03-09T19:05:04.817Z"
   },
   {
    "duration": 36,
    "start_time": "2025-03-09T19:05:04.890Z"
   },
   {
    "duration": 50,
    "start_time": "2025-03-09T19:05:04.927Z"
   },
   {
    "duration": 116,
    "start_time": "2025-03-09T19:05:04.979Z"
   },
   {
    "duration": 16,
    "start_time": "2025-03-09T19:05:05.097Z"
   },
   {
    "duration": 20,
    "start_time": "2025-03-09T19:05:05.115Z"
   },
   {
    "duration": 98,
    "start_time": "2025-03-09T19:05:05.140Z"
   },
   {
    "duration": 46,
    "start_time": "2025-03-09T19:05:05.240Z"
   },
   {
    "duration": 234,
    "start_time": "2025-03-09T19:05:05.288Z"
   },
   {
    "duration": 10,
    "start_time": "2025-03-09T19:05:05.524Z"
   },
   {
    "duration": 128,
    "start_time": "2025-03-09T19:05:05.536Z"
   },
   {
    "duration": 107,
    "start_time": "2025-03-09T19:05:05.666Z"
   },
   {
    "duration": 26,
    "start_time": "2025-03-09T19:05:05.776Z"
   },
   {
    "duration": 16,
    "start_time": "2025-03-09T19:12:22.727Z"
   },
   {
    "duration": 26,
    "start_time": "2025-03-09T19:12:47.712Z"
   },
   {
    "duration": 26,
    "start_time": "2025-03-09T19:28:24.134Z"
   },
   {
    "duration": 25,
    "start_time": "2025-03-09T19:30:42.750Z"
   },
   {
    "duration": 6,
    "start_time": "2025-03-09T19:44:34.826Z"
   },
   {
    "duration": 5,
    "start_time": "2025-03-09T19:44:43.355Z"
   },
   {
    "duration": 5,
    "start_time": "2025-03-09T19:46:18.151Z"
   },
   {
    "duration": 6,
    "start_time": "2025-03-09T19:46:23.558Z"
   },
   {
    "duration": 6,
    "start_time": "2025-03-09T19:46:30.141Z"
   },
   {
    "duration": 5,
    "start_time": "2025-03-09T19:46:37.204Z"
   },
   {
    "duration": 6,
    "start_time": "2025-03-09T19:48:53.031Z"
   },
   {
    "duration": 55,
    "start_time": "2025-03-09T19:58:22.586Z"
   },
   {
    "duration": 104,
    "start_time": "2025-03-09T19:58:29.425Z"
   },
   {
    "duration": 10,
    "start_time": "2025-03-09T19:58:55.439Z"
   },
   {
    "duration": 11,
    "start_time": "2025-03-09T20:00:15.013Z"
   },
   {
    "duration": 10,
    "start_time": "2025-03-09T20:00:54.176Z"
   },
   {
    "duration": 12,
    "start_time": "2025-03-09T20:03:46.862Z"
   },
   {
    "duration": 41,
    "start_time": "2025-03-09T20:06:29.420Z"
   },
   {
    "duration": 11,
    "start_time": "2025-03-09T20:08:01.371Z"
   },
   {
    "duration": 21,
    "start_time": "2025-03-09T20:08:14.585Z"
   },
   {
    "duration": 12,
    "start_time": "2025-03-09T20:08:23.535Z"
   },
   {
    "duration": 6,
    "start_time": "2025-03-09T20:09:44.659Z"
   },
   {
    "duration": 10,
    "start_time": "2025-03-09T20:12:47.813Z"
   },
   {
    "duration": 19,
    "start_time": "2025-03-09T20:15:10.178Z"
   },
   {
    "duration": 18,
    "start_time": "2025-03-09T20:15:16.575Z"
   },
   {
    "duration": 11,
    "start_time": "2025-03-09T20:15:24.804Z"
   },
   {
    "duration": 22,
    "start_time": "2025-03-09T20:17:15.327Z"
   },
   {
    "duration": 20,
    "start_time": "2025-03-09T20:20:52.551Z"
   },
   {
    "duration": 11,
    "start_time": "2025-03-09T20:23:18.756Z"
   },
   {
    "duration": 9,
    "start_time": "2025-03-09T20:23:30.740Z"
   },
   {
    "duration": 17,
    "start_time": "2025-03-09T20:24:00.517Z"
   },
   {
    "duration": 11,
    "start_time": "2025-03-09T20:24:19.980Z"
   },
   {
    "duration": 11,
    "start_time": "2025-03-09T20:24:47.080Z"
   },
   {
    "duration": 9,
    "start_time": "2025-03-09T20:25:30.213Z"
   },
   {
    "duration": 11,
    "start_time": "2025-03-09T20:27:50.223Z"
   },
   {
    "duration": 11,
    "start_time": "2025-03-09T20:28:52.433Z"
   },
   {
    "duration": 48,
    "start_time": "2025-03-10T10:16:40.334Z"
   },
   {
    "duration": 3377,
    "start_time": "2025-03-10T10:16:46.546Z"
   },
   {
    "duration": 1574,
    "start_time": "2025-03-10T10:16:49.926Z"
   },
   {
    "duration": 983,
    "start_time": "2025-03-10T10:16:51.502Z"
   },
   {
    "duration": 5,
    "start_time": "2025-03-10T10:16:52.486Z"
   },
   {
    "duration": 85,
    "start_time": "2025-03-10T10:16:52.493Z"
   },
   {
    "duration": 16,
    "start_time": "2025-03-10T10:16:52.579Z"
   },
   {
    "duration": 19,
    "start_time": "2025-03-10T10:16:52.597Z"
   },
   {
    "duration": 11,
    "start_time": "2025-03-10T10:16:52.617Z"
   },
   {
    "duration": 25,
    "start_time": "2025-03-10T10:16:52.630Z"
   },
   {
    "duration": 108,
    "start_time": "2025-03-10T10:16:52.656Z"
   },
   {
    "duration": 92,
    "start_time": "2025-03-10T10:16:52.765Z"
   },
   {
    "duration": 86,
    "start_time": "2025-03-10T10:16:52.859Z"
   },
   {
    "duration": 50,
    "start_time": "2025-03-10T10:16:52.946Z"
   },
   {
    "duration": 6,
    "start_time": "2025-03-10T10:16:52.999Z"
   },
   {
    "duration": 22,
    "start_time": "2025-03-10T10:16:53.007Z"
   },
   {
    "duration": 12,
    "start_time": "2025-03-10T10:16:53.031Z"
   },
   {
    "duration": 59,
    "start_time": "2025-03-10T10:16:53.045Z"
   },
   {
    "duration": 32,
    "start_time": "2025-03-10T10:16:53.106Z"
   },
   {
    "duration": 30,
    "start_time": "2025-03-10T10:16:53.140Z"
   },
   {
    "duration": 13,
    "start_time": "2025-03-10T10:16:53.172Z"
   },
   {
    "duration": 33,
    "start_time": "2025-03-10T10:16:53.187Z"
   },
   {
    "duration": 51,
    "start_time": "2025-03-10T10:16:53.222Z"
   },
   {
    "duration": 15,
    "start_time": "2025-03-10T10:16:53.275Z"
   },
   {
    "duration": 25,
    "start_time": "2025-03-10T10:16:53.292Z"
   },
   {
    "duration": 88,
    "start_time": "2025-03-10T10:16:53.318Z"
   },
   {
    "duration": 23,
    "start_time": "2025-03-10T10:16:53.407Z"
   },
   {
    "duration": 16,
    "start_time": "2025-03-10T10:16:53.432Z"
   },
   {
    "duration": 8,
    "start_time": "2025-03-10T10:16:53.450Z"
   },
   {
    "duration": 197,
    "start_time": "2025-03-10T10:16:53.459Z"
   },
   {
    "duration": 19,
    "start_time": "2025-03-10T10:16:53.657Z"
   },
   {
    "duration": 88,
    "start_time": "2025-03-10T10:16:53.677Z"
   },
   {
    "duration": 16,
    "start_time": "2025-03-10T10:16:53.767Z"
   },
   {
    "duration": 27,
    "start_time": "2025-03-10T10:16:53.785Z"
   },
   {
    "duration": 72,
    "start_time": "2025-03-10T10:16:53.814Z"
   },
   {
    "duration": 71,
    "start_time": "2025-03-10T10:16:53.888Z"
   },
   {
    "duration": 34,
    "start_time": "2025-03-10T10:16:53.961Z"
   },
   {
    "duration": 120,
    "start_time": "2025-03-10T10:16:53.996Z"
   },
   {
    "duration": 11,
    "start_time": "2025-03-10T10:16:54.118Z"
   },
   {
    "duration": 20,
    "start_time": "2025-03-10T10:16:54.130Z"
   },
   {
    "duration": 31,
    "start_time": "2025-03-10T10:16:54.151Z"
   },
   {
    "duration": 29,
    "start_time": "2025-03-10T10:16:54.185Z"
   },
   {
    "duration": 37,
    "start_time": "2025-03-10T10:16:54.215Z"
   },
   {
    "duration": 221,
    "start_time": "2025-03-10T10:16:54.253Z"
   },
   {
    "duration": 8,
    "start_time": "2025-03-10T10:16:54.475Z"
   },
   {
    "duration": 167,
    "start_time": "2025-03-10T10:16:54.484Z"
   },
   {
    "duration": 16,
    "start_time": "2025-03-10T10:16:54.652Z"
   },
   {
    "duration": 24,
    "start_time": "2025-03-10T10:16:54.670Z"
   },
   {
    "duration": 20,
    "start_time": "2025-03-10T10:16:54.696Z"
   },
   {
    "duration": 21,
    "start_time": "2025-03-10T10:16:54.718Z"
   },
   {
    "duration": 13,
    "start_time": "2025-03-10T10:16:54.771Z"
   },
   {
    "duration": 18,
    "start_time": "2025-03-10T10:17:16.168Z"
   },
   {
    "duration": 8,
    "start_time": "2025-03-10T10:17:34.622Z"
   },
   {
    "duration": 8,
    "start_time": "2025-03-10T10:17:46.103Z"
   },
   {
    "duration": 7,
    "start_time": "2025-03-10T10:18:00.160Z"
   },
   {
    "duration": 4,
    "start_time": "2025-03-10T10:22:40.915Z"
   },
   {
    "duration": 4,
    "start_time": "2025-03-10T10:23:12.583Z"
   },
   {
    "duration": 4,
    "start_time": "2025-03-10T10:23:27.832Z"
   },
   {
    "duration": 4,
    "start_time": "2025-03-10T10:23:35.332Z"
   },
   {
    "duration": 4,
    "start_time": "2025-03-10T10:23:40.888Z"
   },
   {
    "duration": 4,
    "start_time": "2025-03-10T10:23:44.907Z"
   },
   {
    "duration": 4,
    "start_time": "2025-03-10T10:23:52.843Z"
   },
   {
    "duration": 5,
    "start_time": "2025-03-10T10:23:58.669Z"
   },
   {
    "duration": 4,
    "start_time": "2025-03-10T10:24:05.771Z"
   },
   {
    "duration": 3,
    "start_time": "2025-03-10T10:24:13.846Z"
   },
   {
    "duration": 35,
    "start_time": "2025-03-10T10:27:41.352Z"
   },
   {
    "duration": 19,
    "start_time": "2025-03-10T10:28:03.428Z"
   },
   {
    "duration": 64,
    "start_time": "2025-03-10T10:31:38.354Z"
   },
   {
    "duration": 62,
    "start_time": "2025-03-10T10:31:50.740Z"
   },
   {
    "duration": 165,
    "start_time": "2025-03-10T10:32:03.575Z"
   },
   {
    "duration": 57,
    "start_time": "2025-03-10T10:32:12.695Z"
   },
   {
    "duration": 54,
    "start_time": "2025-03-10T10:32:18.972Z"
   },
   {
    "duration": 69,
    "start_time": "2025-03-10T10:32:31.826Z"
   },
   {
    "duration": 54,
    "start_time": "2025-03-10T10:32:39.475Z"
   },
   {
    "duration": 55,
    "start_time": "2025-03-10T10:32:48.343Z"
   },
   {
    "duration": 58,
    "start_time": "2025-03-10T10:33:07.249Z"
   },
   {
    "duration": 56,
    "start_time": "2025-03-10T10:33:15.761Z"
   },
   {
    "duration": 18,
    "start_time": "2025-03-10T10:34:02.800Z"
   },
   {
    "duration": 41,
    "start_time": "2025-03-10T10:34:07.788Z"
   },
   {
    "duration": 81,
    "start_time": "2025-03-10T10:40:51.335Z"
   },
   {
    "duration": 74,
    "start_time": "2025-03-10T10:50:58.196Z"
   },
   {
    "duration": 21,
    "start_time": "2025-03-10T10:51:02.712Z"
   },
   {
    "duration": 4,
    "start_time": "2025-03-10T10:56:59.831Z"
   },
   {
    "duration": 3,
    "start_time": "2025-03-10T10:57:08.142Z"
   },
   {
    "duration": 88,
    "start_time": "2025-03-10T11:03:52.494Z"
   },
   {
    "duration": 84,
    "start_time": "2025-03-10T11:05:13.268Z"
   },
   {
    "duration": 85,
    "start_time": "2025-03-10T11:05:43.316Z"
   },
   {
    "duration": 9,
    "start_time": "2025-03-10T11:05:48.008Z"
   },
   {
    "duration": 2715,
    "start_time": "2025-03-10T11:06:02.910Z"
   },
   {
    "duration": 42,
    "start_time": "2025-03-10T11:07:28.969Z"
   },
   {
    "duration": 36,
    "start_time": "2025-03-10T11:08:54.996Z"
   },
   {
    "duration": 22,
    "start_time": "2025-03-10T11:10:42.282Z"
   },
   {
    "duration": 19,
    "start_time": "2025-03-10T11:10:49.317Z"
   },
   {
    "duration": 2305,
    "start_time": "2025-03-10T11:18:44.640Z"
   },
   {
    "duration": 1260,
    "start_time": "2025-03-10T11:18:46.947Z"
   },
   {
    "duration": 1001,
    "start_time": "2025-03-10T11:18:48.208Z"
   },
   {
    "duration": 5,
    "start_time": "2025-03-10T11:18:49.211Z"
   },
   {
    "duration": 13,
    "start_time": "2025-03-10T11:18:49.217Z"
   },
   {
    "duration": 11,
    "start_time": "2025-03-10T11:18:49.231Z"
   },
   {
    "duration": 17,
    "start_time": "2025-03-10T11:18:49.243Z"
   },
   {
    "duration": 4,
    "start_time": "2025-03-10T11:18:49.261Z"
   },
   {
    "duration": 25,
    "start_time": "2025-03-10T11:18:49.266Z"
   },
   {
    "duration": 108,
    "start_time": "2025-03-10T11:18:49.294Z"
   },
   {
    "duration": 94,
    "start_time": "2025-03-10T11:18:49.404Z"
   },
   {
    "duration": 93,
    "start_time": "2025-03-10T11:18:49.500Z"
   },
   {
    "duration": 41,
    "start_time": "2025-03-10T11:18:49.594Z"
   },
   {
    "duration": 5,
    "start_time": "2025-03-10T11:18:49.637Z"
   },
   {
    "duration": 16,
    "start_time": "2025-03-10T11:18:49.643Z"
   },
   {
    "duration": 16,
    "start_time": "2025-03-10T11:18:49.660Z"
   },
   {
    "duration": 42,
    "start_time": "2025-03-10T11:18:49.677Z"
   },
   {
    "duration": 37,
    "start_time": "2025-03-10T11:18:49.721Z"
   },
   {
    "duration": 12,
    "start_time": "2025-03-10T11:18:49.760Z"
   },
   {
    "duration": 10,
    "start_time": "2025-03-10T11:18:49.774Z"
   },
   {
    "duration": 35,
    "start_time": "2025-03-10T11:18:49.785Z"
   },
   {
    "duration": 15,
    "start_time": "2025-03-10T11:18:49.821Z"
   },
   {
    "duration": 21,
    "start_time": "2025-03-10T11:18:49.837Z"
   },
   {
    "duration": 26,
    "start_time": "2025-03-10T11:18:49.859Z"
   },
   {
    "duration": 28,
    "start_time": "2025-03-10T11:18:49.887Z"
   },
   {
    "duration": 19,
    "start_time": "2025-03-10T11:18:49.917Z"
   },
   {
    "duration": 7,
    "start_time": "2025-03-10T11:18:49.938Z"
   },
   {
    "duration": 4,
    "start_time": "2025-03-10T11:18:49.958Z"
   },
   {
    "duration": 226,
    "start_time": "2025-03-10T11:18:49.964Z"
   },
   {
    "duration": 18,
    "start_time": "2025-03-10T11:18:50.192Z"
   },
   {
    "duration": 16,
    "start_time": "2025-03-10T11:18:50.211Z"
   },
   {
    "duration": 20,
    "start_time": "2025-03-10T11:18:50.228Z"
   },
   {
    "duration": 12,
    "start_time": "2025-03-10T11:18:50.249Z"
   },
   {
    "duration": 69,
    "start_time": "2025-03-10T11:18:50.262Z"
   },
   {
    "duration": 77,
    "start_time": "2025-03-10T11:18:50.332Z"
   },
   {
    "duration": 47,
    "start_time": "2025-03-10T11:18:50.410Z"
   },
   {
    "duration": 33,
    "start_time": "2025-03-10T11:18:50.458Z"
   },
   {
    "duration": 19,
    "start_time": "2025-03-10T11:18:50.492Z"
   },
   {
    "duration": 29,
    "start_time": "2025-03-10T11:18:50.512Z"
   },
   {
    "duration": 24,
    "start_time": "2025-03-10T11:18:50.543Z"
   },
   {
    "duration": 20,
    "start_time": "2025-03-10T11:18:50.569Z"
   },
   {
    "duration": 35,
    "start_time": "2025-03-10T11:18:50.590Z"
   },
   {
    "duration": 244,
    "start_time": "2025-03-10T11:18:50.627Z"
   },
   {
    "duration": 9,
    "start_time": "2025-03-10T11:18:50.873Z"
   },
   {
    "duration": 119,
    "start_time": "2025-03-10T11:18:50.884Z"
   },
   {
    "duration": 18,
    "start_time": "2025-03-10T11:18:51.005Z"
   },
   {
    "duration": 61,
    "start_time": "2025-03-10T11:18:51.025Z"
   },
   {
    "duration": 22,
    "start_time": "2025-03-10T11:18:51.088Z"
   },
   {
    "duration": 14,
    "start_time": "2025-03-10T11:18:51.112Z"
   },
   {
    "duration": 6,
    "start_time": "2025-03-10T11:18:51.128Z"
   },
   {
    "duration": 22,
    "start_time": "2025-03-10T11:18:51.135Z"
   },
   {
    "duration": 20,
    "start_time": "2025-03-10T11:18:51.158Z"
   },
   {
    "duration": 22,
    "start_time": "2025-03-10T11:18:51.180Z"
   },
   {
    "duration": 14,
    "start_time": "2025-03-10T11:18:51.204Z"
   },
   {
    "duration": 34,
    "start_time": "2025-03-10T11:18:51.219Z"
   },
   {
    "duration": 18,
    "start_time": "2025-03-10T11:18:51.255Z"
   },
   {
    "duration": 48,
    "start_time": "2025-03-10T11:18:51.274Z"
   },
   {
    "duration": 4,
    "start_time": "2025-03-10T11:18:51.324Z"
   },
   {
    "duration": 53,
    "start_time": "2025-03-10T11:18:51.329Z"
   },
   {
    "duration": 26,
    "start_time": "2025-03-10T11:18:51.383Z"
   },
   {
    "duration": 3381,
    "start_time": "2025-03-10T20:10:26.354Z"
   },
   {
    "duration": 1436,
    "start_time": "2025-03-10T20:10:29.738Z"
   },
   {
    "duration": 1051,
    "start_time": "2025-03-10T20:10:31.175Z"
   },
   {
    "duration": 6,
    "start_time": "2025-03-10T20:10:32.227Z"
   },
   {
    "duration": 10,
    "start_time": "2025-03-10T20:10:32.235Z"
   },
   {
    "duration": 10,
    "start_time": "2025-03-10T20:10:32.257Z"
   },
   {
    "duration": 45,
    "start_time": "2025-03-10T20:10:32.269Z"
   },
   {
    "duration": 5,
    "start_time": "2025-03-10T20:10:32.315Z"
   },
   {
    "duration": 46,
    "start_time": "2025-03-10T20:10:32.321Z"
   },
   {
    "duration": 105,
    "start_time": "2025-03-10T20:10:32.368Z"
   },
   {
    "duration": 91,
    "start_time": "2025-03-10T20:10:32.475Z"
   },
   {
    "duration": 97,
    "start_time": "2025-03-10T20:10:32.568Z"
   },
   {
    "duration": 42,
    "start_time": "2025-03-10T20:10:32.667Z"
   },
   {
    "duration": 5,
    "start_time": "2025-03-10T20:10:32.712Z"
   },
   {
    "duration": 7,
    "start_time": "2025-03-10T20:10:32.719Z"
   },
   {
    "duration": 13,
    "start_time": "2025-03-10T20:10:32.727Z"
   },
   {
    "duration": 37,
    "start_time": "2025-03-10T20:10:32.756Z"
   },
   {
    "duration": 36,
    "start_time": "2025-03-10T20:10:32.795Z"
   },
   {
    "duration": 5,
    "start_time": "2025-03-10T20:10:32.832Z"
   },
   {
    "duration": 8,
    "start_time": "2025-03-10T20:10:32.857Z"
   },
   {
    "duration": 19,
    "start_time": "2025-03-10T20:10:32.866Z"
   },
   {
    "duration": 40,
    "start_time": "2025-03-10T20:10:32.886Z"
   },
   {
    "duration": 32,
    "start_time": "2025-03-10T20:10:32.927Z"
   },
   {
    "duration": 21,
    "start_time": "2025-03-10T20:10:32.960Z"
   },
   {
    "duration": 39,
    "start_time": "2025-03-10T20:10:32.983Z"
   },
   {
    "duration": 106,
    "start_time": "2025-03-10T20:10:33.024Z"
   },
   {
    "duration": 76,
    "start_time": "2025-03-10T20:10:33.131Z"
   },
   {
    "duration": 11,
    "start_time": "2025-03-10T20:10:33.209Z"
   },
   {
    "duration": 220,
    "start_time": "2025-03-10T20:10:33.222Z"
   },
   {
    "duration": 26,
    "start_time": "2025-03-10T20:10:33.444Z"
   },
   {
    "duration": 78,
    "start_time": "2025-03-10T20:10:33.471Z"
   },
   {
    "duration": 16,
    "start_time": "2025-03-10T20:10:33.551Z"
   },
   {
    "duration": 30,
    "start_time": "2025-03-10T20:10:33.569Z"
   },
   {
    "duration": 96,
    "start_time": "2025-03-10T20:10:33.601Z"
   },
   {
    "duration": 82,
    "start_time": "2025-03-10T20:10:33.699Z"
   },
   {
    "duration": 36,
    "start_time": "2025-03-10T20:10:33.783Z"
   },
   {
    "duration": 65,
    "start_time": "2025-03-10T20:10:33.821Z"
   },
   {
    "duration": 12,
    "start_time": "2025-03-10T20:10:33.887Z"
   },
   {
    "duration": 25,
    "start_time": "2025-03-10T20:10:33.901Z"
   },
   {
    "duration": 28,
    "start_time": "2025-03-10T20:10:33.927Z"
   },
   {
    "duration": 29,
    "start_time": "2025-03-10T20:10:33.959Z"
   },
   {
    "duration": 54,
    "start_time": "2025-03-10T20:10:33.990Z"
   },
   {
    "duration": 219,
    "start_time": "2025-03-10T20:10:34.046Z"
   },
   {
    "duration": 8,
    "start_time": "2025-03-10T20:10:34.267Z"
   },
   {
    "duration": 130,
    "start_time": "2025-03-10T20:10:34.277Z"
   },
   {
    "duration": 17,
    "start_time": "2025-03-10T20:10:34.408Z"
   },
   {
    "duration": 38,
    "start_time": "2025-03-10T20:10:34.426Z"
   },
   {
    "duration": 22,
    "start_time": "2025-03-10T20:10:34.466Z"
   },
   {
    "duration": 145,
    "start_time": "2025-03-10T20:10:34.490Z"
   },
   {
    "duration": 18,
    "start_time": "2025-03-10T20:10:34.636Z"
   },
   {
    "duration": 16,
    "start_time": "2025-03-10T20:10:34.655Z"
   },
   {
    "duration": 19,
    "start_time": "2025-03-10T20:10:34.672Z"
   },
   {
    "duration": 18,
    "start_time": "2025-03-10T20:10:34.693Z"
   },
   {
    "duration": 33,
    "start_time": "2025-03-10T20:10:34.713Z"
   },
   {
    "duration": 50,
    "start_time": "2025-03-10T20:10:34.747Z"
   },
   {
    "duration": 20,
    "start_time": "2025-03-10T20:10:34.799Z"
   },
   {
    "duration": 48,
    "start_time": "2025-03-10T20:10:34.820Z"
   },
   {
    "duration": 4,
    "start_time": "2025-03-10T20:10:34.870Z"
   },
   {
    "duration": 56,
    "start_time": "2025-03-10T20:10:34.875Z"
   },
   {
    "duration": 43,
    "start_time": "2025-03-10T20:10:34.933Z"
   },
   {
    "duration": 4,
    "start_time": "2025-03-10T20:10:41.655Z"
   },
   {
    "duration": 71,
    "start_time": "2025-03-10T20:11:58.075Z"
   },
   {
    "duration": 65,
    "start_time": "2025-03-10T20:12:52.079Z"
   },
   {
    "duration": 68,
    "start_time": "2025-03-10T20:20:42.402Z"
   },
   {
    "duration": 1098,
    "start_time": "2025-03-10T20:22:43.788Z"
   },
   {
    "duration": 1052,
    "start_time": "2025-03-10T20:23:28.454Z"
   },
   {
    "duration": 1004,
    "start_time": "2025-03-10T20:23:30.906Z"
   },
   {
    "duration": 2446,
    "start_time": "2025-03-10T20:32:21.796Z"
   },
   {
    "duration": 1195,
    "start_time": "2025-03-10T20:32:24.244Z"
   },
   {
    "duration": 1069,
    "start_time": "2025-03-10T20:32:25.441Z"
   },
   {
    "duration": 5,
    "start_time": "2025-03-10T20:32:26.512Z"
   },
   {
    "duration": 17,
    "start_time": "2025-03-10T20:32:26.519Z"
   },
   {
    "duration": 11,
    "start_time": "2025-03-10T20:32:26.538Z"
   },
   {
    "duration": 92,
    "start_time": "2025-03-10T20:32:26.551Z"
   },
   {
    "duration": 4,
    "start_time": "2025-03-10T20:32:26.645Z"
   },
   {
    "duration": 22,
    "start_time": "2025-03-10T20:32:26.650Z"
   },
   {
    "duration": 100,
    "start_time": "2025-03-10T20:32:26.675Z"
   },
   {
    "duration": 97,
    "start_time": "2025-03-10T20:32:26.777Z"
   },
   {
    "duration": 97,
    "start_time": "2025-03-10T20:32:26.875Z"
   },
   {
    "duration": 6,
    "start_time": "2025-03-10T20:32:26.973Z"
   },
   {
    "duration": 16,
    "start_time": "2025-03-10T20:32:26.981Z"
   },
   {
    "duration": 16,
    "start_time": "2025-03-10T20:32:26.999Z"
   },
   {
    "duration": 56,
    "start_time": "2025-03-10T20:32:27.017Z"
   },
   {
    "duration": 34,
    "start_time": "2025-03-10T20:32:27.074Z"
   },
   {
    "duration": 30,
    "start_time": "2025-03-10T20:32:27.109Z"
   },
   {
    "duration": 130,
    "start_time": "2025-03-10T20:32:27.141Z"
   },
   {
    "duration": 50,
    "start_time": "2025-03-10T20:32:27.273Z"
   },
   {
    "duration": 28,
    "start_time": "2025-03-10T20:32:27.325Z"
   },
   {
    "duration": 9,
    "start_time": "2025-03-10T20:32:27.355Z"
   },
   {
    "duration": 34,
    "start_time": "2025-03-10T20:32:27.366Z"
   },
   {
    "duration": 33,
    "start_time": "2025-03-10T20:32:27.401Z"
   },
   {
    "duration": 34,
    "start_time": "2025-03-10T20:32:27.436Z"
   },
   {
    "duration": 9,
    "start_time": "2025-03-10T20:32:27.471Z"
   },
   {
    "duration": 5,
    "start_time": "2025-03-10T20:32:27.481Z"
   },
   {
    "duration": 212,
    "start_time": "2025-03-10T20:32:27.490Z"
   },
   {
    "duration": 21,
    "start_time": "2025-03-10T20:32:27.704Z"
   },
   {
    "duration": 13,
    "start_time": "2025-03-10T20:32:27.726Z"
   },
   {
    "duration": 18,
    "start_time": "2025-03-10T20:32:27.740Z"
   },
   {
    "duration": 10,
    "start_time": "2025-03-10T20:32:27.760Z"
   },
   {
    "duration": 75,
    "start_time": "2025-03-10T20:32:27.772Z"
   },
   {
    "duration": 78,
    "start_time": "2025-03-10T20:32:27.848Z"
   },
   {
    "duration": 42,
    "start_time": "2025-03-10T20:32:27.928Z"
   },
   {
    "duration": 50,
    "start_time": "2025-03-10T20:32:27.972Z"
   },
   {
    "duration": 11,
    "start_time": "2025-03-10T20:32:28.024Z"
   },
   {
    "duration": 18,
    "start_time": "2025-03-10T20:32:28.036Z"
   },
   {
    "duration": 22,
    "start_time": "2025-03-10T20:32:28.055Z"
   },
   {
    "duration": 23,
    "start_time": "2025-03-10T20:32:28.078Z"
   },
   {
    "duration": 43,
    "start_time": "2025-03-10T20:32:28.103Z"
   },
   {
    "duration": 223,
    "start_time": "2025-03-10T20:32:28.157Z"
   },
   {
    "duration": 8,
    "start_time": "2025-03-10T20:32:28.382Z"
   },
   {
    "duration": 123,
    "start_time": "2025-03-10T20:32:28.391Z"
   },
   {
    "duration": 16,
    "start_time": "2025-03-10T20:32:28.516Z"
   },
   {
    "duration": 40,
    "start_time": "2025-03-10T20:32:28.534Z"
   },
   {
    "duration": 20,
    "start_time": "2025-03-10T20:32:28.576Z"
   },
   {
    "duration": 54,
    "start_time": "2025-03-10T20:32:28.598Z"
   },
   {
    "duration": 4,
    "start_time": "2025-03-10T20:32:28.653Z"
   },
   {
    "duration": 10,
    "start_time": "2025-03-10T20:32:28.659Z"
   },
   {
    "duration": 12,
    "start_time": "2025-03-10T20:32:28.671Z"
   },
   {
    "duration": 11,
    "start_time": "2025-03-10T20:32:28.684Z"
   },
   {
    "duration": 4,
    "start_time": "2025-03-10T20:32:28.696Z"
   },
   {
    "duration": 52,
    "start_time": "2025-03-10T20:32:28.702Z"
   },
   {
    "duration": 27,
    "start_time": "2025-03-10T20:32:28.756Z"
   },
   {
    "duration": 80,
    "start_time": "2025-03-10T20:32:28.786Z"
   },
   {
    "duration": 3,
    "start_time": "2025-03-10T20:32:28.868Z"
   },
   {
    "duration": 38,
    "start_time": "2025-03-10T20:32:28.873Z"
   },
   {
    "duration": 126,
    "start_time": "2025-03-10T20:32:28.912Z"
   },
   {
    "duration": 2,
    "start_time": "2025-03-10T20:39:08.165Z"
   },
   {
    "duration": 9,
    "start_time": "2025-03-10T20:39:50.921Z"
   },
   {
    "duration": 404,
    "start_time": "2025-03-10T20:39:59.839Z"
   },
   {
    "duration": 663,
    "start_time": "2025-03-10T20:41:08.483Z"
   },
   {
    "duration": 69,
    "start_time": "2025-03-10T20:42:56.269Z"
   },
   {
    "duration": 61,
    "start_time": "2025-03-10T20:43:27.405Z"
   },
   {
    "duration": 3,
    "start_time": "2025-03-10T20:43:29.251Z"
   },
   {
    "duration": 11,
    "start_time": "2025-03-10T20:43:43.347Z"
   },
   {
    "duration": 10,
    "start_time": "2025-03-10T20:43:52.644Z"
   },
   {
    "duration": 22,
    "start_time": "2025-03-10T20:44:25.891Z"
   },
   {
    "duration": 14,
    "start_time": "2025-03-10T20:45:58.633Z"
   },
   {
    "duration": 15,
    "start_time": "2025-03-10T20:46:43.835Z"
   },
   {
    "duration": 19,
    "start_time": "2025-03-10T20:47:34.796Z"
   },
   {
    "duration": 2300,
    "start_time": "2025-03-10T20:49:35.374Z"
   },
   {
    "duration": 1165,
    "start_time": "2025-03-10T20:49:37.676Z"
   },
   {
    "duration": 1035,
    "start_time": "2025-03-10T20:49:38.843Z"
   },
   {
    "duration": 5,
    "start_time": "2025-03-10T20:49:39.879Z"
   },
   {
    "duration": 94,
    "start_time": "2025-03-10T20:49:39.886Z"
   },
   {
    "duration": 11,
    "start_time": "2025-03-10T20:49:39.981Z"
   },
   {
    "duration": 38,
    "start_time": "2025-03-10T20:49:39.993Z"
   },
   {
    "duration": 35,
    "start_time": "2025-03-10T20:49:40.032Z"
   },
   {
    "duration": 34,
    "start_time": "2025-03-10T20:49:40.068Z"
   },
   {
    "duration": 101,
    "start_time": "2025-03-10T20:49:40.103Z"
   },
   {
    "duration": 92,
    "start_time": "2025-03-10T20:49:40.206Z"
   },
   {
    "duration": 94,
    "start_time": "2025-03-10T20:49:40.300Z"
   },
   {
    "duration": 5,
    "start_time": "2025-03-10T20:49:40.396Z"
   },
   {
    "duration": 4,
    "start_time": "2025-03-10T20:49:40.404Z"
   },
   {
    "duration": 11,
    "start_time": "2025-03-10T20:49:40.409Z"
   },
   {
    "duration": 56,
    "start_time": "2025-03-10T20:49:40.421Z"
   },
   {
    "duration": 35,
    "start_time": "2025-03-10T20:49:40.478Z"
   },
   {
    "duration": 11,
    "start_time": "2025-03-10T20:49:40.515Z"
   },
   {
    "duration": 14,
    "start_time": "2025-03-10T20:49:40.528Z"
   },
   {
    "duration": 46,
    "start_time": "2025-03-10T20:49:40.544Z"
   },
   {
    "duration": 16,
    "start_time": "2025-03-10T20:49:40.592Z"
   },
   {
    "duration": 11,
    "start_time": "2025-03-10T20:49:40.610Z"
   },
   {
    "duration": 92,
    "start_time": "2025-03-10T20:49:40.623Z"
   },
   {
    "duration": 60,
    "start_time": "2025-03-10T20:49:40.716Z"
   },
   {
    "duration": 53,
    "start_time": "2025-03-10T20:49:40.777Z"
   },
   {
    "duration": 22,
    "start_time": "2025-03-10T20:49:40.832Z"
   },
   {
    "duration": 16,
    "start_time": "2025-03-10T20:49:40.856Z"
   },
   {
    "duration": 207,
    "start_time": "2025-03-10T20:49:40.873Z"
   },
   {
    "duration": 19,
    "start_time": "2025-03-10T20:49:41.082Z"
   },
   {
    "duration": 18,
    "start_time": "2025-03-10T20:49:41.103Z"
   },
   {
    "duration": 7,
    "start_time": "2025-03-10T20:49:41.123Z"
   },
   {
    "duration": 17,
    "start_time": "2025-03-10T20:49:41.132Z"
   },
   {
    "duration": 85,
    "start_time": "2025-03-10T20:49:41.150Z"
   },
   {
    "duration": 76,
    "start_time": "2025-03-10T20:49:41.237Z"
   },
   {
    "duration": 52,
    "start_time": "2025-03-10T20:49:41.315Z"
   },
   {
    "duration": 35,
    "start_time": "2025-03-10T20:49:41.369Z"
   },
   {
    "duration": 12,
    "start_time": "2025-03-10T20:49:41.405Z"
   },
   {
    "duration": 12,
    "start_time": "2025-03-10T20:49:41.418Z"
   },
   {
    "duration": 37,
    "start_time": "2025-03-10T20:49:41.431Z"
   },
   {
    "duration": 20,
    "start_time": "2025-03-10T20:49:41.469Z"
   },
   {
    "duration": 40,
    "start_time": "2025-03-10T20:49:41.493Z"
   },
   {
    "duration": 253,
    "start_time": "2025-03-10T20:49:41.534Z"
   },
   {
    "duration": 9,
    "start_time": "2025-03-10T20:49:41.788Z"
   },
   {
    "duration": 124,
    "start_time": "2025-03-10T20:49:41.799Z"
   },
   {
    "duration": 15,
    "start_time": "2025-03-10T20:49:41.924Z"
   },
   {
    "duration": 74,
    "start_time": "2025-03-10T20:49:41.941Z"
   },
   {
    "duration": 19,
    "start_time": "2025-03-10T20:49:42.017Z"
   },
   {
    "duration": 9,
    "start_time": "2025-03-10T20:49:42.037Z"
   },
   {
    "duration": 8,
    "start_time": "2025-03-10T20:49:42.047Z"
   },
   {
    "duration": 8,
    "start_time": "2025-03-10T20:49:42.057Z"
   },
   {
    "duration": 7,
    "start_time": "2025-03-10T20:49:42.066Z"
   },
   {
    "duration": 6,
    "start_time": "2025-03-10T20:49:42.074Z"
   },
   {
    "duration": 21,
    "start_time": "2025-03-10T20:49:42.081Z"
   },
   {
    "duration": 47,
    "start_time": "2025-03-10T20:49:42.104Z"
   },
   {
    "duration": 18,
    "start_time": "2025-03-10T20:49:42.153Z"
   },
   {
    "duration": 41,
    "start_time": "2025-03-10T20:49:42.172Z"
   },
   {
    "duration": 4,
    "start_time": "2025-03-10T20:49:42.215Z"
   },
   {
    "duration": 51,
    "start_time": "2025-03-10T20:49:42.220Z"
   },
   {
    "duration": 129,
    "start_time": "2025-03-10T20:49:42.273Z"
   },
   {
    "duration": 19,
    "start_time": "2025-03-10T20:52:30.968Z"
   },
   {
    "duration": 40,
    "start_time": "2025-03-10T21:07:44.613Z"
   },
   {
    "duration": 41,
    "start_time": "2025-03-10T21:08:17.053Z"
   },
   {
    "duration": 213,
    "start_time": "2025-03-10T21:08:58.304Z"
   },
   {
    "duration": 12,
    "start_time": "2025-03-10T21:09:06.959Z"
   },
   {
    "duration": 78,
    "start_time": "2025-03-10T21:17:29.067Z"
   },
   {
    "duration": 19,
    "start_time": "2025-03-10T21:27:02.005Z"
   },
   {
    "duration": 35,
    "start_time": "2025-03-10T21:27:21.106Z"
   },
   {
    "duration": 2546,
    "start_time": "2025-03-10T21:27:28.743Z"
   },
   {
    "duration": 1265,
    "start_time": "2025-03-10T21:27:31.291Z"
   },
   {
    "duration": 1182,
    "start_time": "2025-03-10T21:27:32.560Z"
   },
   {
    "duration": 5,
    "start_time": "2025-03-10T21:27:33.745Z"
   },
   {
    "duration": 27,
    "start_time": "2025-03-10T21:27:33.751Z"
   },
   {
    "duration": 27,
    "start_time": "2025-03-10T21:27:33.779Z"
   },
   {
    "duration": 23,
    "start_time": "2025-03-10T21:27:33.807Z"
   },
   {
    "duration": 14,
    "start_time": "2025-03-10T21:27:33.833Z"
   },
   {
    "duration": 32,
    "start_time": "2025-03-10T21:27:33.850Z"
   },
   {
    "duration": 116,
    "start_time": "2025-03-10T21:27:33.885Z"
   },
   {
    "duration": 108,
    "start_time": "2025-03-10T21:27:34.003Z"
   },
   {
    "duration": 112,
    "start_time": "2025-03-10T21:27:34.113Z"
   },
   {
    "duration": 5,
    "start_time": "2025-03-10T21:27:34.226Z"
   },
   {
    "duration": 4,
    "start_time": "2025-03-10T21:27:34.233Z"
   },
   {
    "duration": 27,
    "start_time": "2025-03-10T21:27:34.239Z"
   },
   {
    "duration": 57,
    "start_time": "2025-03-10T21:27:34.268Z"
   },
   {
    "duration": 57,
    "start_time": "2025-03-10T21:27:34.327Z"
   },
   {
    "duration": 11,
    "start_time": "2025-03-10T21:27:34.386Z"
   },
   {
    "duration": 22,
    "start_time": "2025-03-10T21:27:34.399Z"
   },
   {
    "duration": 21,
    "start_time": "2025-03-10T21:27:34.422Z"
   },
   {
    "duration": 31,
    "start_time": "2025-03-10T21:27:34.445Z"
   },
   {
    "duration": 18,
    "start_time": "2025-03-10T21:27:34.478Z"
   },
   {
    "duration": 24,
    "start_time": "2025-03-10T21:27:34.498Z"
   },
   {
    "duration": 25,
    "start_time": "2025-03-10T21:27:34.523Z"
   },
   {
    "duration": 26,
    "start_time": "2025-03-10T21:27:34.550Z"
   },
   {
    "duration": 102,
    "start_time": "2025-03-10T21:27:34.578Z"
   },
   {
    "duration": 7,
    "start_time": "2025-03-10T21:27:34.683Z"
   },
   {
    "duration": 23,
    "start_time": "2025-03-10T21:27:34.694Z"
   },
   {
    "duration": 228,
    "start_time": "2025-03-10T21:27:34.718Z"
   },
   {
    "duration": 32,
    "start_time": "2025-03-10T21:27:34.948Z"
   },
   {
    "duration": 16,
    "start_time": "2025-03-10T21:27:34.982Z"
   },
   {
    "duration": 20,
    "start_time": "2025-03-10T21:27:34.999Z"
   },
   {
    "duration": 7,
    "start_time": "2025-03-10T21:27:35.021Z"
   },
   {
    "duration": 82,
    "start_time": "2025-03-10T21:27:35.029Z"
   },
   {
    "duration": 92,
    "start_time": "2025-03-10T21:27:35.112Z"
   },
   {
    "duration": 34,
    "start_time": "2025-03-10T21:27:35.205Z"
   },
   {
    "duration": 54,
    "start_time": "2025-03-10T21:27:35.241Z"
   },
   {
    "duration": 12,
    "start_time": "2025-03-10T21:27:35.297Z"
   },
   {
    "duration": 24,
    "start_time": "2025-03-10T21:27:35.310Z"
   },
   {
    "duration": 46,
    "start_time": "2025-03-10T21:27:35.335Z"
   },
   {
    "duration": 17,
    "start_time": "2025-03-10T21:27:35.383Z"
   },
   {
    "duration": 45,
    "start_time": "2025-03-10T21:27:35.401Z"
   },
   {
    "duration": 236,
    "start_time": "2025-03-10T21:27:35.448Z"
   },
   {
    "duration": 8,
    "start_time": "2025-03-10T21:27:35.685Z"
   },
   {
    "duration": 147,
    "start_time": "2025-03-10T21:27:35.695Z"
   },
   {
    "duration": 28,
    "start_time": "2025-03-10T21:27:35.843Z"
   },
   {
    "duration": 25,
    "start_time": "2025-03-10T21:27:35.872Z"
   },
   {
    "duration": 43,
    "start_time": "2025-03-10T21:27:35.899Z"
   },
   {
    "duration": 10,
    "start_time": "2025-03-10T21:27:35.943Z"
   },
   {
    "duration": 68,
    "start_time": "2025-03-10T21:27:35.955Z"
   },
   {
    "duration": 26,
    "start_time": "2025-03-10T21:27:36.025Z"
   },
   {
    "duration": 12,
    "start_time": "2025-03-10T21:27:36.053Z"
   },
   {
    "duration": 61,
    "start_time": "2025-03-10T21:27:36.068Z"
   },
   {
    "duration": 18,
    "start_time": "2025-03-10T21:27:36.130Z"
   },
   {
    "duration": 47,
    "start_time": "2025-03-10T21:27:36.149Z"
   },
   {
    "duration": 19,
    "start_time": "2025-03-10T21:27:36.198Z"
   },
   {
    "duration": 59,
    "start_time": "2025-03-10T21:27:36.218Z"
   },
   {
    "duration": 4,
    "start_time": "2025-03-10T21:27:36.278Z"
   },
   {
    "duration": 58,
    "start_time": "2025-03-10T21:27:36.284Z"
   },
   {
    "duration": 72,
    "start_time": "2025-03-10T21:27:36.344Z"
   },
   {
    "duration": 11,
    "start_time": "2025-03-10T21:37:14.405Z"
   },
   {
    "duration": 9,
    "start_time": "2025-03-10T21:37:20.285Z"
   },
   {
    "duration": 24,
    "start_time": "2025-03-10T21:38:44.642Z"
   },
   {
    "duration": 5,
    "start_time": "2025-03-10T21:39:48.022Z"
   },
   {
    "duration": 2463,
    "start_time": "2025-03-10T21:39:58.628Z"
   },
   {
    "duration": 1287,
    "start_time": "2025-03-10T21:40:01.093Z"
   },
   {
    "duration": 1168,
    "start_time": "2025-03-10T21:40:02.381Z"
   },
   {
    "duration": 5,
    "start_time": "2025-03-10T21:40:03.551Z"
   },
   {
    "duration": 19,
    "start_time": "2025-03-10T21:40:03.559Z"
   },
   {
    "duration": 35,
    "start_time": "2025-03-10T21:40:03.579Z"
   },
   {
    "duration": 32,
    "start_time": "2025-03-10T21:40:03.616Z"
   },
   {
    "duration": 27,
    "start_time": "2025-03-10T21:40:03.650Z"
   },
   {
    "duration": 33,
    "start_time": "2025-03-10T21:40:03.679Z"
   },
   {
    "duration": 124,
    "start_time": "2025-03-10T21:40:03.715Z"
   },
   {
    "duration": 103,
    "start_time": "2025-03-10T21:40:03.841Z"
   },
   {
    "duration": 108,
    "start_time": "2025-03-10T21:40:03.945Z"
   },
   {
    "duration": 8,
    "start_time": "2025-03-10T21:40:04.055Z"
   },
   {
    "duration": 17,
    "start_time": "2025-03-10T21:40:04.067Z"
   },
   {
    "duration": 40,
    "start_time": "2025-03-10T21:40:04.086Z"
   },
   {
    "duration": 46,
    "start_time": "2025-03-10T21:40:04.127Z"
   },
   {
    "duration": 33,
    "start_time": "2025-03-10T21:40:04.175Z"
   },
   {
    "duration": 26,
    "start_time": "2025-03-10T21:40:04.209Z"
   },
   {
    "duration": 12,
    "start_time": "2025-03-10T21:40:04.236Z"
   },
   {
    "duration": 35,
    "start_time": "2025-03-10T21:40:04.250Z"
   },
   {
    "duration": 14,
    "start_time": "2025-03-10T21:40:04.286Z"
   },
   {
    "duration": 26,
    "start_time": "2025-03-10T21:40:04.301Z"
   },
   {
    "duration": 16,
    "start_time": "2025-03-10T21:40:04.328Z"
   },
   {
    "duration": 41,
    "start_time": "2025-03-10T21:40:04.345Z"
   },
   {
    "duration": 49,
    "start_time": "2025-03-10T21:40:04.387Z"
   },
   {
    "duration": 95,
    "start_time": "2025-03-10T21:40:04.438Z"
   },
   {
    "duration": 7,
    "start_time": "2025-03-10T21:40:04.535Z"
   },
   {
    "duration": 15,
    "start_time": "2025-03-10T21:40:04.543Z"
   },
   {
    "duration": 229,
    "start_time": "2025-03-10T21:40:04.560Z"
   },
   {
    "duration": 19,
    "start_time": "2025-03-10T21:40:04.791Z"
   },
   {
    "duration": 29,
    "start_time": "2025-03-10T21:40:04.812Z"
   },
   {
    "duration": 25,
    "start_time": "2025-03-10T21:40:04.843Z"
   },
   {
    "duration": 6,
    "start_time": "2025-03-10T21:40:04.871Z"
   },
   {
    "duration": 106,
    "start_time": "2025-03-10T21:40:04.879Z"
   },
   {
    "duration": 75,
    "start_time": "2025-03-10T21:40:04.986Z"
   },
   {
    "duration": 40,
    "start_time": "2025-03-10T21:40:05.063Z"
   },
   {
    "duration": 48,
    "start_time": "2025-03-10T21:40:05.104Z"
   },
   {
    "duration": 18,
    "start_time": "2025-03-10T21:40:05.157Z"
   },
   {
    "duration": 12,
    "start_time": "2025-03-10T21:40:05.177Z"
   },
   {
    "duration": 28,
    "start_time": "2025-03-10T21:40:05.190Z"
   },
   {
    "duration": 32,
    "start_time": "2025-03-10T21:40:05.222Z"
   },
   {
    "duration": 45,
    "start_time": "2025-03-10T21:40:05.255Z"
   },
   {
    "duration": 242,
    "start_time": "2025-03-10T21:40:05.302Z"
   },
   {
    "duration": 20,
    "start_time": "2025-03-10T21:40:05.546Z"
   },
   {
    "duration": 135,
    "start_time": "2025-03-10T21:40:05.569Z"
   },
   {
    "duration": 18,
    "start_time": "2025-03-10T21:40:05.705Z"
   },
   {
    "duration": 60,
    "start_time": "2025-03-10T21:40:05.724Z"
   },
   {
    "duration": 26,
    "start_time": "2025-03-10T21:40:05.785Z"
   },
   {
    "duration": 38,
    "start_time": "2025-03-10T21:40:05.813Z"
   },
   {
    "duration": 14,
    "start_time": "2025-03-10T21:40:05.853Z"
   },
   {
    "duration": 6,
    "start_time": "2025-03-10T21:40:05.869Z"
   },
   {
    "duration": 45,
    "start_time": "2025-03-10T21:40:05.876Z"
   },
   {
    "duration": 16,
    "start_time": "2025-03-10T21:40:05.922Z"
   },
   {
    "duration": 15,
    "start_time": "2025-03-10T21:40:05.940Z"
   },
   {
    "duration": 42,
    "start_time": "2025-03-10T21:40:05.957Z"
   },
   {
    "duration": 82,
    "start_time": "2025-03-10T21:40:06.000Z"
   },
   {
    "duration": 66,
    "start_time": "2025-03-10T21:40:06.084Z"
   },
   {
    "duration": 3,
    "start_time": "2025-03-10T21:40:06.152Z"
   },
   {
    "duration": 52,
    "start_time": "2025-03-10T21:40:06.158Z"
   },
   {
    "duration": 28,
    "start_time": "2025-03-10T21:40:06.212Z"
   },
   {
    "duration": 25,
    "start_time": "2025-03-10T21:40:06.241Z"
   },
   {
    "duration": 36,
    "start_time": "2025-03-10T21:40:42.389Z"
   },
   {
    "duration": 5,
    "start_time": "2025-03-10T21:40:44.887Z"
   },
   {
    "duration": 37,
    "start_time": "2025-03-10T21:41:00.460Z"
   },
   {
    "duration": 21,
    "start_time": "2025-03-10T21:41:03.019Z"
   },
   {
    "duration": 76,
    "start_time": "2025-03-10T21:41:53.871Z"
   },
   {
    "duration": 122,
    "start_time": "2025-03-10T21:42:40.125Z"
   },
   {
    "duration": 3,
    "start_time": "2025-03-10T21:43:22.649Z"
   },
   {
    "duration": 10,
    "start_time": "2025-03-10T21:43:43.193Z"
   },
   {
    "duration": 11,
    "start_time": "2025-03-10T21:43:45.959Z"
   },
   {
    "duration": 12,
    "start_time": "2025-03-10T21:44:07.204Z"
   },
   {
    "duration": 11,
    "start_time": "2025-03-10T21:44:09.906Z"
   },
   {
    "duration": 2447,
    "start_time": "2025-03-10T21:44:35.579Z"
   },
   {
    "duration": 1194,
    "start_time": "2025-03-10T21:44:38.029Z"
   },
   {
    "duration": 1124,
    "start_time": "2025-03-10T21:44:39.224Z"
   },
   {
    "duration": 5,
    "start_time": "2025-03-10T21:44:40.349Z"
   },
   {
    "duration": 23,
    "start_time": "2025-03-10T21:44:40.356Z"
   },
   {
    "duration": 23,
    "start_time": "2025-03-10T21:44:40.380Z"
   },
   {
    "duration": 26,
    "start_time": "2025-03-10T21:44:40.405Z"
   },
   {
    "duration": 34,
    "start_time": "2025-03-10T21:44:40.432Z"
   },
   {
    "duration": 31,
    "start_time": "2025-03-10T21:44:40.468Z"
   },
   {
    "duration": 108,
    "start_time": "2025-03-10T21:44:40.501Z"
   },
   {
    "duration": 95,
    "start_time": "2025-03-10T21:44:40.611Z"
   },
   {
    "duration": 101,
    "start_time": "2025-03-10T21:44:40.707Z"
   },
   {
    "duration": 5,
    "start_time": "2025-03-10T21:44:40.809Z"
   },
   {
    "duration": 3,
    "start_time": "2025-03-10T21:44:40.817Z"
   },
   {
    "duration": 76,
    "start_time": "2025-03-10T21:44:40.822Z"
   },
   {
    "duration": 38,
    "start_time": "2025-03-10T21:44:40.899Z"
   },
   {
    "duration": 42,
    "start_time": "2025-03-10T21:44:40.939Z"
   },
   {
    "duration": 4,
    "start_time": "2025-03-10T21:44:40.982Z"
   },
   {
    "duration": 13,
    "start_time": "2025-03-10T21:44:40.987Z"
   },
   {
    "duration": 21,
    "start_time": "2025-03-10T21:44:41.001Z"
   },
   {
    "duration": 14,
    "start_time": "2025-03-10T21:44:41.023Z"
   },
   {
    "duration": 11,
    "start_time": "2025-03-10T21:44:41.038Z"
   },
   {
    "duration": 11,
    "start_time": "2025-03-10T21:44:41.057Z"
   },
   {
    "duration": 24,
    "start_time": "2025-03-10T21:44:41.070Z"
   },
   {
    "duration": 19,
    "start_time": "2025-03-10T21:44:41.096Z"
   },
   {
    "duration": 107,
    "start_time": "2025-03-10T21:44:41.116Z"
   },
   {
    "duration": 6,
    "start_time": "2025-03-10T21:44:41.225Z"
   },
   {
    "duration": 7,
    "start_time": "2025-03-10T21:44:41.233Z"
   },
   {
    "duration": 209,
    "start_time": "2025-03-10T21:44:41.242Z"
   },
   {
    "duration": 25,
    "start_time": "2025-03-10T21:44:41.453Z"
   },
   {
    "duration": 53,
    "start_time": "2025-03-10T21:44:41.480Z"
   },
   {
    "duration": 11,
    "start_time": "2025-03-10T21:44:41.535Z"
   },
   {
    "duration": 6,
    "start_time": "2025-03-10T21:44:41.548Z"
   },
   {
    "duration": 78,
    "start_time": "2025-03-10T21:44:41.555Z"
   },
   {
    "duration": 84,
    "start_time": "2025-03-10T21:44:41.634Z"
   },
   {
    "duration": 47,
    "start_time": "2025-03-10T21:44:41.720Z"
   },
   {
    "duration": 37,
    "start_time": "2025-03-10T21:44:41.769Z"
   },
   {
    "duration": 12,
    "start_time": "2025-03-10T21:44:41.808Z"
   },
   {
    "duration": 32,
    "start_time": "2025-03-10T21:44:41.822Z"
   },
   {
    "duration": 22,
    "start_time": "2025-03-10T21:44:41.860Z"
   },
   {
    "duration": 16,
    "start_time": "2025-03-10T21:44:41.886Z"
   },
   {
    "duration": 57,
    "start_time": "2025-03-10T21:44:41.904Z"
   },
   {
    "duration": 233,
    "start_time": "2025-03-10T21:44:41.963Z"
   },
   {
    "duration": 8,
    "start_time": "2025-03-10T21:44:42.198Z"
   },
   {
    "duration": 135,
    "start_time": "2025-03-10T21:44:42.208Z"
   },
   {
    "duration": 26,
    "start_time": "2025-03-10T21:44:42.345Z"
   },
   {
    "duration": 25,
    "start_time": "2025-03-10T21:44:42.373Z"
   },
   {
    "duration": 20,
    "start_time": "2025-03-10T21:44:42.400Z"
   },
   {
    "duration": 41,
    "start_time": "2025-03-10T21:44:42.422Z"
   },
   {
    "duration": 6,
    "start_time": "2025-03-10T21:44:42.465Z"
   },
   {
    "duration": 10,
    "start_time": "2025-03-10T21:44:42.473Z"
   },
   {
    "duration": 6,
    "start_time": "2025-03-10T21:44:42.484Z"
   },
   {
    "duration": 14,
    "start_time": "2025-03-10T21:44:42.491Z"
   },
   {
    "duration": 7,
    "start_time": "2025-03-10T21:44:42.506Z"
   },
   {
    "duration": 31,
    "start_time": "2025-03-10T21:44:42.514Z"
   },
   {
    "duration": 34,
    "start_time": "2025-03-10T21:44:42.546Z"
   },
   {
    "duration": 41,
    "start_time": "2025-03-10T21:44:42.581Z"
   },
   {
    "duration": 4,
    "start_time": "2025-03-10T21:44:42.624Z"
   },
   {
    "duration": 61,
    "start_time": "2025-03-10T21:44:42.629Z"
   },
   {
    "duration": 2,
    "start_time": "2025-03-10T21:44:42.692Z"
   },
   {
    "duration": 19,
    "start_time": "2025-03-10T21:44:42.696Z"
   },
   {
    "duration": 108,
    "start_time": "2025-03-10T21:45:29.786Z"
   },
   {
    "duration": 7,
    "start_time": "2025-03-10T21:45:48.842Z"
   },
   {
    "duration": 8,
    "start_time": "2025-03-10T21:46:07.261Z"
   },
   {
    "duration": 2463,
    "start_time": "2025-03-10T21:46:30.755Z"
   },
   {
    "duration": 1181,
    "start_time": "2025-03-10T21:46:33.220Z"
   },
   {
    "duration": 1176,
    "start_time": "2025-03-10T21:46:34.402Z"
   },
   {
    "duration": 5,
    "start_time": "2025-03-10T21:46:35.580Z"
   },
   {
    "duration": 57,
    "start_time": "2025-03-10T21:46:35.587Z"
   },
   {
    "duration": 11,
    "start_time": "2025-03-10T21:46:35.646Z"
   },
   {
    "duration": 17,
    "start_time": "2025-03-10T21:46:35.659Z"
   },
   {
    "duration": 41,
    "start_time": "2025-03-10T21:46:35.677Z"
   },
   {
    "duration": 67,
    "start_time": "2025-03-10T21:46:35.719Z"
   },
   {
    "duration": 153,
    "start_time": "2025-03-10T21:46:35.788Z"
   },
   {
    "duration": 115,
    "start_time": "2025-03-10T21:46:35.943Z"
   },
   {
    "duration": 133,
    "start_time": "2025-03-10T21:46:36.060Z"
   },
   {
    "duration": 5,
    "start_time": "2025-03-10T21:46:36.194Z"
   },
   {
    "duration": 54,
    "start_time": "2025-03-10T21:46:36.200Z"
   },
   {
    "duration": 24,
    "start_time": "2025-03-10T21:46:36.255Z"
   },
   {
    "duration": 49,
    "start_time": "2025-03-10T21:46:36.280Z"
   },
   {
    "duration": 46,
    "start_time": "2025-03-10T21:46:36.331Z"
   },
   {
    "duration": 15,
    "start_time": "2025-03-10T21:46:36.379Z"
   },
   {
    "duration": 38,
    "start_time": "2025-03-10T21:46:36.395Z"
   },
   {
    "duration": 49,
    "start_time": "2025-03-10T21:46:36.434Z"
   },
   {
    "duration": 27,
    "start_time": "2025-03-10T21:46:36.485Z"
   },
   {
    "duration": 9,
    "start_time": "2025-03-10T21:46:36.514Z"
   },
   {
    "duration": 12,
    "start_time": "2025-03-10T21:46:36.524Z"
   },
   {
    "duration": 37,
    "start_time": "2025-03-10T21:46:36.537Z"
   },
   {
    "duration": 20,
    "start_time": "2025-03-10T21:46:36.576Z"
   },
   {
    "duration": 97,
    "start_time": "2025-03-10T21:46:36.598Z"
   },
   {
    "duration": 7,
    "start_time": "2025-03-10T21:46:36.697Z"
   },
   {
    "duration": 30,
    "start_time": "2025-03-10T21:46:36.708Z"
   },
   {
    "duration": 204,
    "start_time": "2025-03-10T21:46:36.740Z"
   },
   {
    "duration": 30,
    "start_time": "2025-03-10T21:46:36.945Z"
   },
   {
    "duration": 12,
    "start_time": "2025-03-10T21:46:36.976Z"
   },
   {
    "duration": 29,
    "start_time": "2025-03-10T21:46:36.990Z"
   },
   {
    "duration": 14,
    "start_time": "2025-03-10T21:46:37.021Z"
   },
   {
    "duration": 90,
    "start_time": "2025-03-10T21:46:37.037Z"
   },
   {
    "duration": 99,
    "start_time": "2025-03-10T21:46:37.129Z"
   },
   {
    "duration": 47,
    "start_time": "2025-03-10T21:46:37.230Z"
   },
   {
    "duration": 42,
    "start_time": "2025-03-10T21:46:37.278Z"
   },
   {
    "duration": 16,
    "start_time": "2025-03-10T21:46:37.322Z"
   },
   {
    "duration": 34,
    "start_time": "2025-03-10T21:46:37.340Z"
   },
   {
    "duration": 16,
    "start_time": "2025-03-10T21:46:37.375Z"
   },
   {
    "duration": 21,
    "start_time": "2025-03-10T21:46:37.392Z"
   },
   {
    "duration": 57,
    "start_time": "2025-03-10T21:46:37.415Z"
   },
   {
    "duration": 245,
    "start_time": "2025-03-10T21:46:37.474Z"
   },
   {
    "duration": 8,
    "start_time": "2025-03-10T21:46:37.721Z"
   },
   {
    "duration": 127,
    "start_time": "2025-03-10T21:46:37.731Z"
   },
   {
    "duration": 24,
    "start_time": "2025-03-10T21:46:37.860Z"
   },
   {
    "duration": 28,
    "start_time": "2025-03-10T21:46:37.885Z"
   },
   {
    "duration": 20,
    "start_time": "2025-03-10T21:46:37.915Z"
   },
   {
    "duration": 33,
    "start_time": "2025-03-10T21:46:37.936Z"
   },
   {
    "duration": 4,
    "start_time": "2025-03-10T21:46:37.971Z"
   },
   {
    "duration": 15,
    "start_time": "2025-03-10T21:46:37.977Z"
   },
   {
    "duration": 96,
    "start_time": "2025-03-10T21:46:37.993Z"
   },
   {
    "duration": 14,
    "start_time": "2025-03-10T21:46:38.091Z"
   },
   {
    "duration": 8,
    "start_time": "2025-03-10T21:46:38.107Z"
   },
   {
    "duration": 52,
    "start_time": "2025-03-10T21:46:38.117Z"
   },
   {
    "duration": 20,
    "start_time": "2025-03-10T21:46:38.171Z"
   },
   {
    "duration": 66,
    "start_time": "2025-03-10T21:46:38.192Z"
   },
   {
    "duration": 7,
    "start_time": "2025-03-10T21:46:38.260Z"
   },
   {
    "duration": 46,
    "start_time": "2025-03-10T21:46:38.269Z"
   },
   {
    "duration": 8,
    "start_time": "2025-03-10T21:46:38.316Z"
   },
   {
    "duration": 21,
    "start_time": "2025-03-10T21:46:38.325Z"
   },
   {
    "duration": 75,
    "start_time": "2025-03-10T21:46:55.211Z"
   },
   {
    "duration": 20,
    "start_time": "2025-03-10T21:47:23.608Z"
   },
   {
    "duration": 2582,
    "start_time": "2025-03-10T21:48:51.392Z"
   },
   {
    "duration": 1177,
    "start_time": "2025-03-10T21:48:53.977Z"
   },
   {
    "duration": 1163,
    "start_time": "2025-03-10T21:48:55.156Z"
   },
   {
    "duration": 5,
    "start_time": "2025-03-10T21:48:56.321Z"
   },
   {
    "duration": 10,
    "start_time": "2025-03-10T21:48:56.328Z"
   },
   {
    "duration": 10,
    "start_time": "2025-03-10T21:48:56.340Z"
   },
   {
    "duration": 8,
    "start_time": "2025-03-10T21:48:56.351Z"
   },
   {
    "duration": 5,
    "start_time": "2025-03-10T21:48:56.361Z"
   },
   {
    "duration": 24,
    "start_time": "2025-03-10T21:48:56.368Z"
   },
   {
    "duration": 125,
    "start_time": "2025-03-10T21:48:56.393Z"
   },
   {
    "duration": 98,
    "start_time": "2025-03-10T21:48:56.519Z"
   },
   {
    "duration": 99,
    "start_time": "2025-03-10T21:48:56.618Z"
   },
   {
    "duration": 5,
    "start_time": "2025-03-10T21:48:56.719Z"
   },
   {
    "duration": 19,
    "start_time": "2025-03-10T21:48:56.726Z"
   },
   {
    "duration": 11,
    "start_time": "2025-03-10T21:48:56.746Z"
   },
   {
    "duration": 44,
    "start_time": "2025-03-10T21:48:56.759Z"
   },
   {
    "duration": 33,
    "start_time": "2025-03-10T21:48:56.805Z"
   },
   {
    "duration": 55,
    "start_time": "2025-03-10T21:48:56.840Z"
   },
   {
    "duration": 8,
    "start_time": "2025-03-10T21:48:56.897Z"
   },
   {
    "duration": 24,
    "start_time": "2025-03-10T21:48:56.906Z"
   },
   {
    "duration": 41,
    "start_time": "2025-03-10T21:48:56.932Z"
   },
   {
    "duration": 15,
    "start_time": "2025-03-10T21:48:56.975Z"
   },
   {
    "duration": 20,
    "start_time": "2025-03-10T21:48:56.992Z"
   },
   {
    "duration": 34,
    "start_time": "2025-03-10T21:48:57.013Z"
   },
   {
    "duration": 29,
    "start_time": "2025-03-10T21:48:57.048Z"
   },
   {
    "duration": 92,
    "start_time": "2025-03-10T21:48:57.078Z"
   },
   {
    "duration": 7,
    "start_time": "2025-03-10T21:48:57.172Z"
   },
   {
    "duration": 14,
    "start_time": "2025-03-10T21:48:57.180Z"
   },
   {
    "duration": 213,
    "start_time": "2025-03-10T21:48:57.195Z"
   },
   {
    "duration": 20,
    "start_time": "2025-03-10T21:48:57.409Z"
   },
   {
    "duration": 14,
    "start_time": "2025-03-10T21:48:57.430Z"
   },
   {
    "duration": 15,
    "start_time": "2025-03-10T21:48:57.446Z"
   },
   {
    "duration": 9,
    "start_time": "2025-03-10T21:48:57.464Z"
   },
   {
    "duration": 154,
    "start_time": "2025-03-10T21:48:57.475Z"
   },
   {
    "duration": 84,
    "start_time": "2025-03-10T21:48:57.630Z"
   },
   {
    "duration": 45,
    "start_time": "2025-03-10T21:48:57.715Z"
   },
   {
    "duration": 39,
    "start_time": "2025-03-10T21:48:57.762Z"
   },
   {
    "duration": 11,
    "start_time": "2025-03-10T21:48:57.803Z"
   },
   {
    "duration": 12,
    "start_time": "2025-03-10T21:48:57.815Z"
   },
   {
    "duration": 41,
    "start_time": "2025-03-10T21:48:57.828Z"
   },
   {
    "duration": 16,
    "start_time": "2025-03-10T21:48:57.874Z"
   },
   {
    "duration": 43,
    "start_time": "2025-03-10T21:48:57.891Z"
   },
   {
    "duration": 265,
    "start_time": "2025-03-10T21:48:57.936Z"
   },
   {
    "duration": 9,
    "start_time": "2025-03-10T21:48:58.202Z"
   },
   {
    "duration": 136,
    "start_time": "2025-03-10T21:48:58.212Z"
   },
   {
    "duration": 28,
    "start_time": "2025-03-10T21:48:58.349Z"
   },
   {
    "duration": 27,
    "start_time": "2025-03-10T21:48:58.379Z"
   },
   {
    "duration": 23,
    "start_time": "2025-03-10T21:48:58.407Z"
   },
   {
    "duration": 39,
    "start_time": "2025-03-10T21:48:58.432Z"
   },
   {
    "duration": 3,
    "start_time": "2025-03-10T21:48:58.474Z"
   },
   {
    "duration": 8,
    "start_time": "2025-03-10T21:48:58.479Z"
   },
   {
    "duration": 9,
    "start_time": "2025-03-10T21:48:58.489Z"
   },
   {
    "duration": 17,
    "start_time": "2025-03-10T21:48:58.499Z"
   },
   {
    "duration": 5,
    "start_time": "2025-03-10T21:48:58.517Z"
   },
   {
    "duration": 52,
    "start_time": "2025-03-10T21:48:58.523Z"
   },
   {
    "duration": 19,
    "start_time": "2025-03-10T21:48:58.576Z"
   },
   {
    "duration": 40,
    "start_time": "2025-03-10T21:48:58.597Z"
   },
   {
    "duration": 22,
    "start_time": "2025-03-10T21:48:58.639Z"
   },
   {
    "duration": 38,
    "start_time": "2025-03-10T21:48:58.663Z"
   },
   {
    "duration": 31,
    "start_time": "2025-03-10T21:48:58.703Z"
   },
   {
    "duration": 29,
    "start_time": "2025-03-10T21:48:58.736Z"
   },
   {
    "duration": 48,
    "start_time": "2025-03-11T10:35:08.230Z"
   },
   {
    "duration": 3287,
    "start_time": "2025-03-11T10:35:15.496Z"
   },
   {
    "duration": 1414,
    "start_time": "2025-03-11T10:35:18.785Z"
   },
   {
    "duration": 1151,
    "start_time": "2025-03-11T10:35:20.200Z"
   },
   {
    "duration": 5,
    "start_time": "2025-03-11T10:35:21.354Z"
   },
   {
    "duration": 19,
    "start_time": "2025-03-11T10:35:21.360Z"
   },
   {
    "duration": 31,
    "start_time": "2025-03-11T10:35:21.380Z"
   },
   {
    "duration": 15,
    "start_time": "2025-03-11T10:35:21.413Z"
   },
   {
    "duration": 5,
    "start_time": "2025-03-11T10:35:21.429Z"
   },
   {
    "duration": 22,
    "start_time": "2025-03-11T10:35:21.436Z"
   },
   {
    "duration": 113,
    "start_time": "2025-03-11T10:35:21.461Z"
   },
   {
    "duration": 96,
    "start_time": "2025-03-11T10:35:21.576Z"
   },
   {
    "duration": 100,
    "start_time": "2025-03-11T10:35:21.674Z"
   },
   {
    "duration": 6,
    "start_time": "2025-03-11T10:35:21.776Z"
   },
   {
    "duration": 49,
    "start_time": "2025-03-11T10:35:21.783Z"
   },
   {
    "duration": 11,
    "start_time": "2025-03-11T10:35:21.833Z"
   },
   {
    "duration": 42,
    "start_time": "2025-03-11T10:35:21.845Z"
   },
   {
    "duration": 33,
    "start_time": "2025-03-11T10:35:21.888Z"
   },
   {
    "duration": 5,
    "start_time": "2025-03-11T10:35:21.923Z"
   },
   {
    "duration": 8,
    "start_time": "2025-03-11T10:35:21.930Z"
   },
   {
    "duration": 21,
    "start_time": "2025-03-11T10:35:21.940Z"
   },
   {
    "duration": 13,
    "start_time": "2025-03-11T10:35:21.962Z"
   },
   {
    "duration": 15,
    "start_time": "2025-03-11T10:35:21.977Z"
   },
   {
    "duration": 6,
    "start_time": "2025-03-11T10:35:22.007Z"
   },
   {
    "duration": 25,
    "start_time": "2025-03-11T10:35:22.014Z"
   },
   {
    "duration": 17,
    "start_time": "2025-03-11T10:35:22.041Z"
   },
   {
    "duration": 86,
    "start_time": "2025-03-11T10:35:22.060Z"
   },
   {
    "duration": 7,
    "start_time": "2025-03-11T10:35:22.148Z"
   },
   {
    "duration": 5,
    "start_time": "2025-03-11T10:35:22.158Z"
   },
   {
    "duration": 198,
    "start_time": "2025-03-11T10:35:22.164Z"
   },
   {
    "duration": 19,
    "start_time": "2025-03-11T10:35:22.363Z"
   },
   {
    "duration": 6,
    "start_time": "2025-03-11T10:35:22.383Z"
   },
   {
    "duration": 19,
    "start_time": "2025-03-11T10:35:22.391Z"
   },
   {
    "duration": 7,
    "start_time": "2025-03-11T10:35:22.412Z"
   },
   {
    "duration": 86,
    "start_time": "2025-03-11T10:35:22.421Z"
   },
   {
    "duration": 68,
    "start_time": "2025-03-11T10:35:22.509Z"
   },
   {
    "duration": 46,
    "start_time": "2025-03-11T10:35:22.578Z"
   },
   {
    "duration": 33,
    "start_time": "2025-03-11T10:35:22.625Z"
   },
   {
    "duration": 10,
    "start_time": "2025-03-11T10:35:22.660Z"
   },
   {
    "duration": 14,
    "start_time": "2025-03-11T10:35:22.671Z"
   },
   {
    "duration": 15,
    "start_time": "2025-03-11T10:35:22.707Z"
   },
   {
    "duration": 16,
    "start_time": "2025-03-11T10:35:22.723Z"
   },
   {
    "duration": 34,
    "start_time": "2025-03-11T10:35:22.740Z"
   },
   {
    "duration": 240,
    "start_time": "2025-03-11T10:35:22.776Z"
   },
   {
    "duration": 7,
    "start_time": "2025-03-11T10:35:23.018Z"
   },
   {
    "duration": 123,
    "start_time": "2025-03-11T10:35:23.027Z"
   },
   {
    "duration": 17,
    "start_time": "2025-03-11T10:35:23.151Z"
   },
   {
    "duration": 42,
    "start_time": "2025-03-11T10:35:23.170Z"
   },
   {
    "duration": 21,
    "start_time": "2025-03-11T10:35:23.214Z"
   },
   {
    "duration": 10,
    "start_time": "2025-03-11T10:35:23.236Z"
   },
   {
    "duration": 4,
    "start_time": "2025-03-11T10:35:23.247Z"
   },
   {
    "duration": 6,
    "start_time": "2025-03-11T10:35:23.252Z"
   },
   {
    "duration": 7,
    "start_time": "2025-03-11T10:35:23.259Z"
   },
   {
    "duration": 4,
    "start_time": "2025-03-11T10:35:23.268Z"
   },
   {
    "duration": 35,
    "start_time": "2025-03-11T10:35:23.273Z"
   },
   {
    "duration": 27,
    "start_time": "2025-03-11T10:35:23.309Z"
   },
   {
    "duration": 18,
    "start_time": "2025-03-11T10:35:23.337Z"
   },
   {
    "duration": 61,
    "start_time": "2025-03-11T10:35:23.357Z"
   },
   {
    "duration": 4,
    "start_time": "2025-03-11T10:35:23.420Z"
   },
   {
    "duration": 36,
    "start_time": "2025-03-11T10:35:23.425Z"
   },
   {
    "duration": 10,
    "start_time": "2025-03-11T10:35:23.462Z"
   },
   {
    "duration": 35,
    "start_time": "2025-03-11T10:35:23.473Z"
   },
   {
    "duration": 0,
    "start_time": "2025-03-11T10:35:23.618Z"
   },
   {
    "duration": 12,
    "start_time": "2025-03-11T10:35:37.812Z"
   },
   {
    "duration": 14,
    "start_time": "2025-03-11T10:36:50.611Z"
   },
   {
    "duration": 153,
    "start_time": "2025-03-11T10:40:05.819Z"
   },
   {
    "duration": 144,
    "start_time": "2025-03-11T10:41:10.962Z"
   },
   {
    "duration": 12,
    "start_time": "2025-03-11T10:42:52.696Z"
   },
   {
    "duration": 139,
    "start_time": "2025-03-11T10:43:49.260Z"
   },
   {
    "duration": 156,
    "start_time": "2025-03-11T10:46:39.470Z"
   },
   {
    "duration": 2347,
    "start_time": "2025-03-11T10:46:50.960Z"
   },
   {
    "duration": 1147,
    "start_time": "2025-03-11T10:46:53.309Z"
   },
   {
    "duration": 1041,
    "start_time": "2025-03-11T10:46:54.458Z"
   },
   {
    "duration": 5,
    "start_time": "2025-03-11T10:46:55.501Z"
   },
   {
    "duration": 11,
    "start_time": "2025-03-11T10:46:55.508Z"
   },
   {
    "duration": 12,
    "start_time": "2025-03-11T10:46:55.520Z"
   },
   {
    "duration": 7,
    "start_time": "2025-03-11T10:46:55.533Z"
   },
   {
    "duration": 5,
    "start_time": "2025-03-11T10:46:55.541Z"
   },
   {
    "duration": 35,
    "start_time": "2025-03-11T10:46:55.547Z"
   },
   {
    "duration": 107,
    "start_time": "2025-03-11T10:46:55.583Z"
   },
   {
    "duration": 96,
    "start_time": "2025-03-11T10:46:55.692Z"
   },
   {
    "duration": 87,
    "start_time": "2025-03-11T10:46:55.790Z"
   },
   {
    "duration": 5,
    "start_time": "2025-03-11T10:46:55.879Z"
   },
   {
    "duration": 20,
    "start_time": "2025-03-11T10:46:55.887Z"
   },
   {
    "duration": 8,
    "start_time": "2025-03-11T10:46:55.908Z"
   },
   {
    "duration": 39,
    "start_time": "2025-03-11T10:46:55.918Z"
   },
   {
    "duration": 32,
    "start_time": "2025-03-11T10:46:55.958Z"
   },
   {
    "duration": 4,
    "start_time": "2025-03-11T10:46:56.007Z"
   },
   {
    "duration": 7,
    "start_time": "2025-03-11T10:46:56.013Z"
   },
   {
    "duration": 18,
    "start_time": "2025-03-11T10:46:56.021Z"
   },
   {
    "duration": 13,
    "start_time": "2025-03-11T10:46:56.041Z"
   },
   {
    "duration": 6,
    "start_time": "2025-03-11T10:46:56.055Z"
   },
   {
    "duration": 7,
    "start_time": "2025-03-11T10:46:56.062Z"
   },
   {
    "duration": 57,
    "start_time": "2025-03-11T10:46:56.070Z"
   },
   {
    "duration": 25,
    "start_time": "2025-03-11T10:46:56.129Z"
   },
   {
    "duration": 88,
    "start_time": "2025-03-11T10:46:56.155Z"
   },
   {
    "duration": 7,
    "start_time": "2025-03-11T10:46:56.245Z"
   },
   {
    "duration": 26,
    "start_time": "2025-03-11T10:46:56.254Z"
   },
   {
    "duration": 177,
    "start_time": "2025-03-11T10:46:56.282Z"
   },
   {
    "duration": 21,
    "start_time": "2025-03-11T10:46:56.461Z"
   },
   {
    "duration": 5,
    "start_time": "2025-03-11T10:46:56.484Z"
   },
   {
    "duration": 8,
    "start_time": "2025-03-11T10:46:56.506Z"
   },
   {
    "duration": 7,
    "start_time": "2025-03-11T10:46:56.516Z"
   },
   {
    "duration": 87,
    "start_time": "2025-03-11T10:46:56.525Z"
   },
   {
    "duration": 70,
    "start_time": "2025-03-11T10:46:56.614Z"
   },
   {
    "duration": 47,
    "start_time": "2025-03-11T10:46:56.686Z"
   },
   {
    "duration": 37,
    "start_time": "2025-03-11T10:46:56.735Z"
   },
   {
    "duration": 34,
    "start_time": "2025-03-11T10:46:56.774Z"
   },
   {
    "duration": 14,
    "start_time": "2025-03-11T10:46:56.810Z"
   },
   {
    "duration": 16,
    "start_time": "2025-03-11T10:46:56.826Z"
   },
   {
    "duration": 72,
    "start_time": "2025-03-11T10:46:56.847Z"
   },
   {
    "duration": 38,
    "start_time": "2025-03-11T10:46:56.920Z"
   },
   {
    "duration": 220,
    "start_time": "2025-03-11T10:46:56.959Z"
   },
   {
    "duration": 9,
    "start_time": "2025-03-11T10:46:57.181Z"
   },
   {
    "duration": 124,
    "start_time": "2025-03-11T10:46:57.207Z"
   },
   {
    "duration": 18,
    "start_time": "2025-03-11T10:46:57.333Z"
   },
   {
    "duration": 26,
    "start_time": "2025-03-11T10:46:57.353Z"
   },
   {
    "duration": 44,
    "start_time": "2025-03-11T10:46:57.381Z"
   },
   {
    "duration": 11,
    "start_time": "2025-03-11T10:46:57.427Z"
   },
   {
    "duration": 6,
    "start_time": "2025-03-11T10:46:57.440Z"
   },
   {
    "duration": 19,
    "start_time": "2025-03-11T10:46:57.448Z"
   },
   {
    "duration": 28,
    "start_time": "2025-03-11T10:46:57.469Z"
   },
   {
    "duration": 9,
    "start_time": "2025-03-11T10:46:57.498Z"
   },
   {
    "duration": 6,
    "start_time": "2025-03-11T10:46:57.508Z"
   },
   {
    "duration": 29,
    "start_time": "2025-03-11T10:46:57.515Z"
   },
   {
    "duration": 20,
    "start_time": "2025-03-11T10:46:57.545Z"
   },
   {
    "duration": 59,
    "start_time": "2025-03-11T10:46:57.566Z"
   },
   {
    "duration": 5,
    "start_time": "2025-03-11T10:46:57.626Z"
   },
   {
    "duration": 35,
    "start_time": "2025-03-11T10:46:57.632Z"
   },
   {
    "duration": 6,
    "start_time": "2025-03-11T10:46:57.668Z"
   },
   {
    "duration": 47,
    "start_time": "2025-03-11T10:46:57.675Z"
   },
   {
    "duration": 139,
    "start_time": "2025-03-11T10:46:58.279Z"
   },
   {
    "duration": 126,
    "start_time": "2025-03-11T10:47:01.031Z"
   },
   {
    "duration": 148,
    "start_time": "2025-03-11T10:47:09.594Z"
   },
   {
    "duration": 4,
    "start_time": "2025-03-11T10:51:03.238Z"
   },
   {
    "duration": 2338,
    "start_time": "2025-03-11T10:52:03.070Z"
   },
   {
    "duration": 1430,
    "start_time": "2025-03-11T10:52:05.410Z"
   },
   {
    "duration": 1127,
    "start_time": "2025-03-11T10:52:06.842Z"
   },
   {
    "duration": 5,
    "start_time": "2025-03-11T10:52:07.971Z"
   },
   {
    "duration": 25,
    "start_time": "2025-03-11T10:52:07.977Z"
   },
   {
    "duration": 11,
    "start_time": "2025-03-11T10:52:08.003Z"
   },
   {
    "duration": 23,
    "start_time": "2025-03-11T10:52:08.015Z"
   },
   {
    "duration": 4,
    "start_time": "2025-03-11T10:52:08.039Z"
   },
   {
    "duration": 22,
    "start_time": "2025-03-11T10:52:08.044Z"
   },
   {
    "duration": 101,
    "start_time": "2025-03-11T10:52:08.068Z"
   },
   {
    "duration": 103,
    "start_time": "2025-03-11T10:52:08.171Z"
   },
   {
    "duration": 102,
    "start_time": "2025-03-11T10:52:08.276Z"
   },
   {
    "duration": 5,
    "start_time": "2025-03-11T10:52:08.380Z"
   },
   {
    "duration": 20,
    "start_time": "2025-03-11T10:52:08.387Z"
   },
   {
    "duration": 12,
    "start_time": "2025-03-11T10:52:08.409Z"
   },
   {
    "duration": 43,
    "start_time": "2025-03-11T10:52:08.423Z"
   },
   {
    "duration": 44,
    "start_time": "2025-03-11T10:52:08.467Z"
   },
   {
    "duration": 3,
    "start_time": "2025-03-11T10:52:08.513Z"
   },
   {
    "duration": 10,
    "start_time": "2025-03-11T10:52:08.517Z"
   },
   {
    "duration": 20,
    "start_time": "2025-03-11T10:52:08.529Z"
   },
   {
    "duration": 14,
    "start_time": "2025-03-11T10:52:08.550Z"
   },
   {
    "duration": 3,
    "start_time": "2025-03-11T10:52:08.566Z"
   },
   {
    "duration": 8,
    "start_time": "2025-03-11T10:52:08.570Z"
   },
   {
    "duration": 24,
    "start_time": "2025-03-11T10:52:08.607Z"
   },
   {
    "duration": 58,
    "start_time": "2025-03-11T10:52:08.633Z"
   },
   {
    "duration": 77,
    "start_time": "2025-03-11T10:52:08.693Z"
   },
   {
    "duration": 7,
    "start_time": "2025-03-11T10:52:08.772Z"
   },
   {
    "duration": 18,
    "start_time": "2025-03-11T10:52:08.782Z"
   },
   {
    "duration": 183,
    "start_time": "2025-03-11T10:52:08.802Z"
   },
   {
    "duration": 23,
    "start_time": "2025-03-11T10:52:08.987Z"
   },
   {
    "duration": 8,
    "start_time": "2025-03-11T10:52:09.012Z"
   },
   {
    "duration": 7,
    "start_time": "2025-03-11T10:52:09.021Z"
   },
   {
    "duration": 8,
    "start_time": "2025-03-11T10:52:09.030Z"
   },
   {
    "duration": 98,
    "start_time": "2025-03-11T10:52:09.040Z"
   },
   {
    "duration": 82,
    "start_time": "2025-03-11T10:52:09.140Z"
   },
   {
    "duration": 36,
    "start_time": "2025-03-11T10:52:09.223Z"
   },
   {
    "duration": 62,
    "start_time": "2025-03-11T10:52:09.262Z"
   },
   {
    "duration": 14,
    "start_time": "2025-03-11T10:52:09.325Z"
   },
   {
    "duration": 16,
    "start_time": "2025-03-11T10:52:09.341Z"
   },
   {
    "duration": 17,
    "start_time": "2025-03-11T10:52:09.359Z"
   },
   {
    "duration": 39,
    "start_time": "2025-03-11T10:52:09.377Z"
   },
   {
    "duration": 40,
    "start_time": "2025-03-11T10:52:09.418Z"
   },
   {
    "duration": 266,
    "start_time": "2025-03-11T10:52:09.459Z"
   },
   {
    "duration": 8,
    "start_time": "2025-03-11T10:52:09.727Z"
   },
   {
    "duration": 123,
    "start_time": "2025-03-11T10:52:09.737Z"
   },
   {
    "duration": 16,
    "start_time": "2025-03-11T10:52:09.862Z"
   },
   {
    "duration": 42,
    "start_time": "2025-03-11T10:52:09.880Z"
   },
   {
    "duration": 22,
    "start_time": "2025-03-11T10:52:09.924Z"
   },
   {
    "duration": 9,
    "start_time": "2025-03-11T10:52:09.947Z"
   },
   {
    "duration": 4,
    "start_time": "2025-03-11T10:52:09.958Z"
   },
   {
    "duration": 6,
    "start_time": "2025-03-11T10:52:09.963Z"
   },
   {
    "duration": 12,
    "start_time": "2025-03-11T10:52:09.970Z"
   },
   {
    "duration": 4,
    "start_time": "2025-03-11T10:52:10.007Z"
   },
   {
    "duration": 10,
    "start_time": "2025-03-11T10:52:10.012Z"
   },
   {
    "duration": 32,
    "start_time": "2025-03-11T10:52:10.023Z"
   },
   {
    "duration": 20,
    "start_time": "2025-03-11T10:52:10.056Z"
   },
   {
    "duration": 58,
    "start_time": "2025-03-11T10:52:10.077Z"
   },
   {
    "duration": 5,
    "start_time": "2025-03-11T10:52:10.137Z"
   },
   {
    "duration": 35,
    "start_time": "2025-03-11T10:52:10.143Z"
   },
   {
    "duration": 5,
    "start_time": "2025-03-11T10:52:10.179Z"
   },
   {
    "duration": 40,
    "start_time": "2025-03-11T10:52:10.186Z"
   },
   {
    "duration": 4,
    "start_time": "2025-03-11T10:52:10.384Z"
   },
   {
    "duration": 150,
    "start_time": "2025-03-11T10:52:10.389Z"
   },
   {
    "duration": 25,
    "start_time": "2025-03-11T10:57:14.466Z"
   },
   {
    "duration": 45,
    "start_time": "2025-03-11T10:57:19.511Z"
   },
   {
    "duration": 50,
    "start_time": "2025-03-11T10:57:43.389Z"
   },
   {
    "duration": 147,
    "start_time": "2025-03-11T10:58:28.109Z"
   },
   {
    "duration": 211,
    "start_time": "2025-03-11T10:58:35.137Z"
   },
   {
    "duration": 80,
    "start_time": "2025-03-11T11:02:01.463Z"
   },
   {
    "duration": 56,
    "start_time": "2025-03-11T11:02:13.310Z"
   },
   {
    "duration": 2360,
    "start_time": "2025-03-11T11:03:02.159Z"
   },
   {
    "duration": 1198,
    "start_time": "2025-03-11T11:03:04.522Z"
   },
   {
    "duration": 1316,
    "start_time": "2025-03-11T11:03:05.722Z"
   },
   {
    "duration": 5,
    "start_time": "2025-03-11T11:03:07.040Z"
   },
   {
    "duration": 25,
    "start_time": "2025-03-11T11:03:07.046Z"
   },
   {
    "duration": 17,
    "start_time": "2025-03-11T11:03:07.072Z"
   },
   {
    "duration": 15,
    "start_time": "2025-03-11T11:03:07.091Z"
   },
   {
    "duration": 25,
    "start_time": "2025-03-11T11:03:07.107Z"
   },
   {
    "duration": 44,
    "start_time": "2025-03-11T11:03:07.134Z"
   },
   {
    "duration": 162,
    "start_time": "2025-03-11T11:03:07.181Z"
   },
   {
    "duration": 97,
    "start_time": "2025-03-11T11:03:07.344Z"
   },
   {
    "duration": 99,
    "start_time": "2025-03-11T11:03:07.443Z"
   },
   {
    "duration": 7,
    "start_time": "2025-03-11T11:03:07.543Z"
   },
   {
    "duration": 16,
    "start_time": "2025-03-11T11:03:07.552Z"
   },
   {
    "duration": 24,
    "start_time": "2025-03-11T11:03:07.570Z"
   },
   {
    "duration": 53,
    "start_time": "2025-03-11T11:03:07.596Z"
   },
   {
    "duration": 36,
    "start_time": "2025-03-11T11:03:07.651Z"
   },
   {
    "duration": 28,
    "start_time": "2025-03-11T11:03:07.688Z"
   },
   {
    "duration": 27,
    "start_time": "2025-03-11T11:03:07.717Z"
   },
   {
    "duration": 46,
    "start_time": "2025-03-11T11:03:07.746Z"
   },
   {
    "duration": 15,
    "start_time": "2025-03-11T11:03:07.795Z"
   },
   {
    "duration": 39,
    "start_time": "2025-03-11T11:03:07.812Z"
   },
   {
    "duration": 25,
    "start_time": "2025-03-11T11:03:07.852Z"
   },
   {
    "duration": 45,
    "start_time": "2025-03-11T11:03:07.879Z"
   },
   {
    "duration": 19,
    "start_time": "2025-03-11T11:03:07.926Z"
   },
   {
    "duration": 129,
    "start_time": "2025-03-11T11:03:07.947Z"
   },
   {
    "duration": 12,
    "start_time": "2025-03-11T11:03:08.077Z"
   },
   {
    "duration": 33,
    "start_time": "2025-03-11T11:03:08.093Z"
   },
   {
    "duration": 241,
    "start_time": "2025-03-11T11:03:08.128Z"
   },
   {
    "duration": 20,
    "start_time": "2025-03-11T11:03:08.371Z"
   },
   {
    "duration": 21,
    "start_time": "2025-03-11T11:03:08.393Z"
   },
   {
    "duration": 14,
    "start_time": "2025-03-11T11:03:08.415Z"
   },
   {
    "duration": 33,
    "start_time": "2025-03-11T11:03:08.431Z"
   },
   {
    "duration": 106,
    "start_time": "2025-03-11T11:03:08.465Z"
   },
   {
    "duration": 96,
    "start_time": "2025-03-11T11:03:08.573Z"
   },
   {
    "duration": 46,
    "start_time": "2025-03-11T11:03:08.670Z"
   },
   {
    "duration": 65,
    "start_time": "2025-03-11T11:03:08.718Z"
   },
   {
    "duration": 17,
    "start_time": "2025-03-11T11:03:08.785Z"
   },
   {
    "duration": 20,
    "start_time": "2025-03-11T11:03:08.804Z"
   },
   {
    "duration": 19,
    "start_time": "2025-03-11T11:03:08.826Z"
   },
   {
    "duration": 25,
    "start_time": "2025-03-11T11:03:08.847Z"
   },
   {
    "duration": 82,
    "start_time": "2025-03-11T11:03:08.874Z"
   },
   {
    "duration": 223,
    "start_time": "2025-03-11T11:03:08.958Z"
   },
   {
    "duration": 8,
    "start_time": "2025-03-11T11:03:09.183Z"
   },
   {
    "duration": 214,
    "start_time": "2025-03-11T11:03:09.193Z"
   },
   {
    "duration": 17,
    "start_time": "2025-03-11T11:03:09.408Z"
   },
   {
    "duration": 26,
    "start_time": "2025-03-11T11:03:09.426Z"
   },
   {
    "duration": 18,
    "start_time": "2025-03-11T11:03:09.453Z"
   },
   {
    "duration": 34,
    "start_time": "2025-03-11T11:03:09.473Z"
   },
   {
    "duration": 3,
    "start_time": "2025-03-11T11:03:09.509Z"
   },
   {
    "duration": 8,
    "start_time": "2025-03-11T11:03:09.514Z"
   },
   {
    "duration": 7,
    "start_time": "2025-03-11T11:03:09.523Z"
   },
   {
    "duration": 16,
    "start_time": "2025-03-11T11:03:09.531Z"
   },
   {
    "duration": 12,
    "start_time": "2025-03-11T11:03:09.548Z"
   },
   {
    "duration": 46,
    "start_time": "2025-03-11T11:03:09.561Z"
   },
   {
    "duration": 28,
    "start_time": "2025-03-11T11:03:09.609Z"
   },
   {
    "duration": 68,
    "start_time": "2025-03-11T11:03:09.640Z"
   },
   {
    "duration": 4,
    "start_time": "2025-03-11T11:03:09.710Z"
   },
   {
    "duration": 44,
    "start_time": "2025-03-11T11:03:09.716Z"
   },
   {
    "duration": 19,
    "start_time": "2025-03-11T11:03:09.762Z"
   },
   {
    "duration": 32,
    "start_time": "2025-03-11T11:03:09.783Z"
   },
   {
    "duration": 65,
    "start_time": "2025-03-11T11:03:09.817Z"
   },
   {
    "duration": 105,
    "start_time": "2025-03-11T11:03:09.883Z"
   },
   {
    "duration": 4,
    "start_time": "2025-03-11T11:03:09.990Z"
   },
   {
    "duration": 56,
    "start_time": "2025-03-11T11:03:32.265Z"
   },
   {
    "duration": 86,
    "start_time": "2025-03-11T11:03:35.154Z"
   },
   {
    "duration": 69,
    "start_time": "2025-03-11T11:07:58.832Z"
   },
   {
    "duration": 71,
    "start_time": "2025-03-11T11:08:02.288Z"
   },
   {
    "duration": 57,
    "start_time": "2025-03-11T11:09:23.650Z"
   },
   {
    "duration": 54,
    "start_time": "2025-03-11T11:09:43.259Z"
   },
   {
    "duration": 118,
    "start_time": "2025-03-11T11:10:55.805Z"
   },
   {
    "duration": 55,
    "start_time": "2025-03-11T11:11:04.248Z"
   },
   {
    "duration": 55,
    "start_time": "2025-03-11T11:12:26.552Z"
   },
   {
    "duration": 72,
    "start_time": "2025-03-11T11:12:53.580Z"
   },
   {
    "duration": 53,
    "start_time": "2025-03-11T11:13:21.327Z"
   },
   {
    "duration": 39,
    "start_time": "2025-03-11T11:13:42.840Z"
   },
   {
    "duration": 39,
    "start_time": "2025-03-11T11:13:50.586Z"
   },
   {
    "duration": 66,
    "start_time": "2025-03-11T11:13:53.593Z"
   },
   {
    "duration": 55,
    "start_time": "2025-03-11T11:14:11.711Z"
   },
   {
    "duration": 72,
    "start_time": "2025-03-11T11:14:14.211Z"
   },
   {
    "duration": 45,
    "start_time": "2025-03-11T11:16:06.979Z"
   },
   {
    "duration": 53,
    "start_time": "2025-03-11T11:16:13.783Z"
   },
   {
    "duration": 41,
    "start_time": "2025-03-11T11:16:16.096Z"
   },
   {
    "duration": 77,
    "start_time": "2025-03-11T11:16:26.764Z"
   },
   {
    "duration": 58,
    "start_time": "2025-03-11T11:16:57.937Z"
   },
   {
    "duration": 2360,
    "start_time": "2025-03-11T11:17:10.951Z"
   },
   {
    "duration": 1167,
    "start_time": "2025-03-11T11:17:13.313Z"
   },
   {
    "duration": 1087,
    "start_time": "2025-03-11T11:17:14.482Z"
   },
   {
    "duration": 5,
    "start_time": "2025-03-11T11:17:15.571Z"
   },
   {
    "duration": 16,
    "start_time": "2025-03-11T11:17:15.577Z"
   },
   {
    "duration": 11,
    "start_time": "2025-03-11T11:17:15.594Z"
   },
   {
    "duration": 7,
    "start_time": "2025-03-11T11:17:15.607Z"
   },
   {
    "duration": 4,
    "start_time": "2025-03-11T11:17:15.615Z"
   },
   {
    "duration": 26,
    "start_time": "2025-03-11T11:17:15.620Z"
   },
   {
    "duration": 104,
    "start_time": "2025-03-11T11:17:15.649Z"
   },
   {
    "duration": 94,
    "start_time": "2025-03-11T11:17:15.755Z"
   },
   {
    "duration": 93,
    "start_time": "2025-03-11T11:17:15.850Z"
   },
   {
    "duration": 5,
    "start_time": "2025-03-11T11:17:15.945Z"
   },
   {
    "duration": 20,
    "start_time": "2025-03-11T11:17:15.951Z"
   },
   {
    "duration": 42,
    "start_time": "2025-03-11T11:17:15.972Z"
   },
   {
    "duration": 51,
    "start_time": "2025-03-11T11:17:16.016Z"
   },
   {
    "duration": 32,
    "start_time": "2025-03-11T11:17:16.068Z"
   },
   {
    "duration": 4,
    "start_time": "2025-03-11T11:17:16.102Z"
   },
   {
    "duration": 8,
    "start_time": "2025-03-11T11:17:16.108Z"
   },
   {
    "duration": 21,
    "start_time": "2025-03-11T11:17:16.117Z"
   },
   {
    "duration": 15,
    "start_time": "2025-03-11T11:17:16.139Z"
   },
   {
    "duration": 21,
    "start_time": "2025-03-11T11:17:16.155Z"
   },
   {
    "duration": 15,
    "start_time": "2025-03-11T11:17:16.177Z"
   },
   {
    "duration": 29,
    "start_time": "2025-03-11T11:17:16.193Z"
   },
   {
    "duration": 18,
    "start_time": "2025-03-11T11:17:16.223Z"
   },
   {
    "duration": 90,
    "start_time": "2025-03-11T11:17:16.243Z"
   },
   {
    "duration": 7,
    "start_time": "2025-03-11T11:17:16.335Z"
   },
   {
    "duration": 5,
    "start_time": "2025-03-11T11:17:16.345Z"
   },
   {
    "duration": 202,
    "start_time": "2025-03-11T11:17:16.351Z"
   },
   {
    "duration": 19,
    "start_time": "2025-03-11T11:17:16.555Z"
   },
   {
    "duration": 8,
    "start_time": "2025-03-11T11:17:16.576Z"
   },
   {
    "duration": 29,
    "start_time": "2025-03-11T11:17:16.585Z"
   },
   {
    "duration": 94,
    "start_time": "2025-03-11T11:17:16.616Z"
   },
   {
    "duration": 136,
    "start_time": "2025-03-11T11:17:16.711Z"
   },
   {
    "duration": 74,
    "start_time": "2025-03-11T11:17:16.848Z"
   },
   {
    "duration": 33,
    "start_time": "2025-03-11T11:17:16.924Z"
   },
   {
    "duration": 85,
    "start_time": "2025-03-11T11:17:16.959Z"
   },
   {
    "duration": 11,
    "start_time": "2025-03-11T11:17:17.045Z"
   },
   {
    "duration": 11,
    "start_time": "2025-03-11T11:17:17.057Z"
   },
   {
    "duration": 18,
    "start_time": "2025-03-11T11:17:17.069Z"
   },
   {
    "duration": 29,
    "start_time": "2025-03-11T11:17:17.088Z"
   },
   {
    "duration": 42,
    "start_time": "2025-03-11T11:17:17.119Z"
   },
   {
    "duration": 234,
    "start_time": "2025-03-11T11:17:17.163Z"
   },
   {
    "duration": 8,
    "start_time": "2025-03-11T11:17:17.406Z"
   },
   {
    "duration": 125,
    "start_time": "2025-03-11T11:17:17.416Z"
   },
   {
    "duration": 16,
    "start_time": "2025-03-11T11:17:17.543Z"
   },
   {
    "duration": 24,
    "start_time": "2025-03-11T11:17:17.560Z"
   },
   {
    "duration": 40,
    "start_time": "2025-03-11T11:17:17.585Z"
   },
   {
    "duration": 9,
    "start_time": "2025-03-11T11:17:17.626Z"
   },
   {
    "duration": 3,
    "start_time": "2025-03-11T11:17:17.636Z"
   },
   {
    "duration": 3,
    "start_time": "2025-03-11T11:17:17.641Z"
   },
   {
    "duration": 9,
    "start_time": "2025-03-11T11:17:17.646Z"
   },
   {
    "duration": 11,
    "start_time": "2025-03-11T11:17:17.656Z"
   },
   {
    "duration": 13,
    "start_time": "2025-03-11T11:17:17.669Z"
   },
   {
    "duration": 43,
    "start_time": "2025-03-11T11:17:17.683Z"
   },
   {
    "duration": 18,
    "start_time": "2025-03-11T11:17:17.727Z"
   },
   {
    "duration": 39,
    "start_time": "2025-03-11T11:17:17.746Z"
   },
   {
    "duration": 22,
    "start_time": "2025-03-11T11:17:17.786Z"
   },
   {
    "duration": 34,
    "start_time": "2025-03-11T11:17:17.809Z"
   },
   {
    "duration": 3,
    "start_time": "2025-03-11T11:17:17.845Z"
   },
   {
    "duration": 18,
    "start_time": "2025-03-11T11:17:17.850Z"
   },
   {
    "duration": 87,
    "start_time": "2025-03-11T11:17:17.945Z"
   },
   {
    "duration": 3,
    "start_time": "2025-03-11T11:17:18.034Z"
   },
   {
    "duration": 55,
    "start_time": "2025-03-11T11:17:18.040Z"
   },
   {
    "duration": 75,
    "start_time": "2025-03-11T11:17:21.475Z"
   },
   {
    "duration": 4,
    "start_time": "2025-03-11T11:19:48.556Z"
   },
   {
    "duration": 54,
    "start_time": "2025-03-11T11:20:34.768Z"
   },
   {
    "duration": 90,
    "start_time": "2025-03-11T11:20:40.801Z"
   },
   {
    "duration": 6,
    "start_time": "2025-03-11T11:22:20.200Z"
   },
   {
    "duration": 39,
    "start_time": "2025-03-11T11:23:10.683Z"
   },
   {
    "duration": 78,
    "start_time": "2025-03-11T11:23:12.947Z"
   },
   {
    "duration": 93,
    "start_time": "2025-03-11T11:23:15.857Z"
   },
   {
    "duration": 2334,
    "start_time": "2025-03-11T11:23:22.822Z"
   },
   {
    "duration": 1132,
    "start_time": "2025-03-11T11:23:25.158Z"
   },
   {
    "duration": 1103,
    "start_time": "2025-03-11T11:23:26.292Z"
   },
   {
    "duration": 6,
    "start_time": "2025-03-11T11:23:27.397Z"
   },
   {
    "duration": 11,
    "start_time": "2025-03-11T11:23:27.405Z"
   },
   {
    "duration": 11,
    "start_time": "2025-03-11T11:23:27.417Z"
   },
   {
    "duration": 8,
    "start_time": "2025-03-11T11:23:27.429Z"
   },
   {
    "duration": 11,
    "start_time": "2025-03-11T11:23:27.439Z"
   },
   {
    "duration": 21,
    "start_time": "2025-03-11T11:23:27.451Z"
   },
   {
    "duration": 133,
    "start_time": "2025-03-11T11:23:27.474Z"
   },
   {
    "duration": 98,
    "start_time": "2025-03-11T11:23:27.609Z"
   },
   {
    "duration": 98,
    "start_time": "2025-03-11T11:23:27.709Z"
   },
   {
    "duration": 6,
    "start_time": "2025-03-11T11:23:27.809Z"
   },
   {
    "duration": 11,
    "start_time": "2025-03-11T11:23:27.819Z"
   },
   {
    "duration": 30,
    "start_time": "2025-03-11T11:23:27.831Z"
   },
   {
    "duration": 40,
    "start_time": "2025-03-11T11:23:27.863Z"
   },
   {
    "duration": 36,
    "start_time": "2025-03-11T11:23:27.905Z"
   },
   {
    "duration": 61,
    "start_time": "2025-03-11T11:23:27.943Z"
   },
   {
    "duration": 7,
    "start_time": "2025-03-11T11:23:28.006Z"
   },
   {
    "duration": 20,
    "start_time": "2025-03-11T11:23:28.014Z"
   },
   {
    "duration": 15,
    "start_time": "2025-03-11T11:23:28.035Z"
   },
   {
    "duration": 4,
    "start_time": "2025-03-11T11:23:28.052Z"
   },
   {
    "duration": 9,
    "start_time": "2025-03-11T11:23:28.057Z"
   },
   {
    "duration": 50,
    "start_time": "2025-03-11T11:23:28.067Z"
   },
   {
    "duration": 20,
    "start_time": "2025-03-11T11:23:28.118Z"
   },
   {
    "duration": 97,
    "start_time": "2025-03-11T11:23:28.140Z"
   },
   {
    "duration": 8,
    "start_time": "2025-03-11T11:23:28.239Z"
   },
   {
    "duration": 7,
    "start_time": "2025-03-11T11:23:28.248Z"
   },
   {
    "duration": 210,
    "start_time": "2025-03-11T11:23:28.256Z"
   },
   {
    "duration": 39,
    "start_time": "2025-03-11T11:23:28.468Z"
   },
   {
    "duration": 5,
    "start_time": "2025-03-11T11:23:28.509Z"
   },
   {
    "duration": 7,
    "start_time": "2025-03-11T11:23:28.516Z"
   },
   {
    "duration": 9,
    "start_time": "2025-03-11T11:23:28.525Z"
   },
   {
    "duration": 112,
    "start_time": "2025-03-11T11:23:28.535Z"
   },
   {
    "duration": 81,
    "start_time": "2025-03-11T11:23:28.649Z"
   },
   {
    "duration": 38,
    "start_time": "2025-03-11T11:23:28.731Z"
   },
   {
    "duration": 69,
    "start_time": "2025-03-11T11:23:28.770Z"
   },
   {
    "duration": 18,
    "start_time": "2025-03-11T11:23:28.840Z"
   },
   {
    "duration": 13,
    "start_time": "2025-03-11T11:23:28.859Z"
   },
   {
    "duration": 22,
    "start_time": "2025-03-11T11:23:28.874Z"
   },
   {
    "duration": 17,
    "start_time": "2025-03-11T11:23:28.908Z"
   },
   {
    "duration": 40,
    "start_time": "2025-03-11T11:23:28.926Z"
   },
   {
    "duration": 251,
    "start_time": "2025-03-11T11:23:28.968Z"
   },
   {
    "duration": 9,
    "start_time": "2025-03-11T11:23:29.220Z"
   },
   {
    "duration": 138,
    "start_time": "2025-03-11T11:23:29.230Z"
   },
   {
    "duration": 17,
    "start_time": "2025-03-11T11:23:29.370Z"
   },
   {
    "duration": 40,
    "start_time": "2025-03-11T11:23:29.389Z"
   },
   {
    "duration": 23,
    "start_time": "2025-03-11T11:23:29.430Z"
   },
   {
    "duration": 11,
    "start_time": "2025-03-11T11:23:29.455Z"
   },
   {
    "duration": 3,
    "start_time": "2025-03-11T11:23:29.468Z"
   },
   {
    "duration": 46,
    "start_time": "2025-03-11T11:23:29.473Z"
   },
   {
    "duration": 5,
    "start_time": "2025-03-11T11:23:29.521Z"
   },
   {
    "duration": 4,
    "start_time": "2025-03-11T11:23:29.528Z"
   },
   {
    "duration": 14,
    "start_time": "2025-03-11T11:23:29.533Z"
   },
   {
    "duration": 34,
    "start_time": "2025-03-11T11:23:29.549Z"
   },
   {
    "duration": 41,
    "start_time": "2025-03-11T11:23:29.588Z"
   },
   {
    "duration": 49,
    "start_time": "2025-03-11T11:23:29.631Z"
   },
   {
    "duration": 4,
    "start_time": "2025-03-11T11:23:29.682Z"
   },
   {
    "duration": 41,
    "start_time": "2025-03-11T11:23:29.706Z"
   },
   {
    "duration": 8,
    "start_time": "2025-03-11T11:23:29.749Z"
   },
   {
    "duration": 25,
    "start_time": "2025-03-11T11:23:29.759Z"
   },
   {
    "duration": 88,
    "start_time": "2025-03-11T11:23:29.785Z"
   },
   {
    "duration": 45,
    "start_time": "2025-03-11T11:23:29.875Z"
   },
   {
    "duration": 162,
    "start_time": "2025-03-11T11:23:29.922Z"
   },
   {
    "duration": 38,
    "start_time": "2025-03-11T11:23:30.086Z"
   },
   {
    "duration": 85,
    "start_time": "2025-03-11T11:23:39.387Z"
   },
   {
    "duration": 2423,
    "start_time": "2025-03-11T11:23:57.815Z"
   },
   {
    "duration": 1149,
    "start_time": "2025-03-11T11:24:00.241Z"
   },
   {
    "duration": 1067,
    "start_time": "2025-03-11T11:24:01.392Z"
   },
   {
    "duration": 7,
    "start_time": "2025-03-11T11:24:02.461Z"
   },
   {
    "duration": 49,
    "start_time": "2025-03-11T11:24:02.470Z"
   },
   {
    "duration": 12,
    "start_time": "2025-03-11T11:24:02.520Z"
   },
   {
    "duration": 21,
    "start_time": "2025-03-11T11:24:02.534Z"
   },
   {
    "duration": 4,
    "start_time": "2025-03-11T11:24:02.556Z"
   },
   {
    "duration": 32,
    "start_time": "2025-03-11T11:24:02.562Z"
   },
   {
    "duration": 112,
    "start_time": "2025-03-11T11:24:02.596Z"
   },
   {
    "duration": 101,
    "start_time": "2025-03-11T11:24:02.709Z"
   },
   {
    "duration": 95,
    "start_time": "2025-03-11T11:24:02.812Z"
   },
   {
    "duration": 7,
    "start_time": "2025-03-11T11:24:02.909Z"
   },
   {
    "duration": 38,
    "start_time": "2025-03-11T11:24:02.917Z"
   },
   {
    "duration": 73,
    "start_time": "2025-03-11T11:24:02.957Z"
   },
   {
    "duration": 55,
    "start_time": "2025-03-11T11:24:03.032Z"
   },
   {
    "duration": 35,
    "start_time": "2025-03-11T11:24:03.089Z"
   },
   {
    "duration": 5,
    "start_time": "2025-03-11T11:24:03.126Z"
   },
   {
    "duration": 28,
    "start_time": "2025-03-11T11:24:03.132Z"
   },
   {
    "duration": 54,
    "start_time": "2025-03-11T11:24:03.162Z"
   },
   {
    "duration": 16,
    "start_time": "2025-03-11T11:24:03.217Z"
   },
   {
    "duration": 20,
    "start_time": "2025-03-11T11:24:03.235Z"
   },
   {
    "duration": 13,
    "start_time": "2025-03-11T11:24:03.257Z"
   },
   {
    "duration": 101,
    "start_time": "2025-03-11T11:24:03.272Z"
   },
   {
    "duration": 49,
    "start_time": "2025-03-11T11:24:03.375Z"
   },
   {
    "duration": 96,
    "start_time": "2025-03-11T11:24:03.426Z"
   },
   {
    "duration": 7,
    "start_time": "2025-03-11T11:24:03.524Z"
   },
   {
    "duration": 18,
    "start_time": "2025-03-11T11:24:03.535Z"
   },
   {
    "duration": 194,
    "start_time": "2025-03-11T11:24:03.554Z"
   },
   {
    "duration": 21,
    "start_time": "2025-03-11T11:24:03.750Z"
   },
   {
    "duration": 8,
    "start_time": "2025-03-11T11:24:03.772Z"
   },
   {
    "duration": 24,
    "start_time": "2025-03-11T11:24:03.782Z"
   },
   {
    "duration": 61,
    "start_time": "2025-03-11T11:24:03.808Z"
   },
   {
    "duration": 70,
    "start_time": "2025-03-11T11:24:03.871Z"
   },
   {
    "duration": 76,
    "start_time": "2025-03-11T11:24:03.943Z"
   },
   {
    "duration": 35,
    "start_time": "2025-03-11T11:24:04.021Z"
   },
   {
    "duration": 52,
    "start_time": "2025-03-11T11:24:04.057Z"
   },
   {
    "duration": 13,
    "start_time": "2025-03-11T11:24:04.111Z"
   },
   {
    "duration": 30,
    "start_time": "2025-03-11T11:24:04.126Z"
   },
   {
    "duration": 36,
    "start_time": "2025-03-11T11:24:04.158Z"
   },
   {
    "duration": 30,
    "start_time": "2025-03-11T11:24:04.195Z"
   },
   {
    "duration": 39,
    "start_time": "2025-03-11T11:24:04.226Z"
   },
   {
    "duration": 216,
    "start_time": "2025-03-11T11:24:04.266Z"
   },
   {
    "duration": 8,
    "start_time": "2025-03-11T11:24:04.483Z"
   },
   {
    "duration": 146,
    "start_time": "2025-03-11T11:24:04.492Z"
   },
   {
    "duration": 16,
    "start_time": "2025-03-11T11:24:04.639Z"
   },
   {
    "duration": 23,
    "start_time": "2025-03-11T11:24:04.656Z"
   },
   {
    "duration": 41,
    "start_time": "2025-03-11T11:24:04.681Z"
   },
   {
    "duration": 44,
    "start_time": "2025-03-11T11:24:04.723Z"
   },
   {
    "duration": 15,
    "start_time": "2025-03-11T11:24:04.769Z"
   },
   {
    "duration": 10,
    "start_time": "2025-03-11T11:24:04.785Z"
   },
   {
    "duration": 24,
    "start_time": "2025-03-11T11:24:04.796Z"
   },
   {
    "duration": 5,
    "start_time": "2025-03-11T11:24:04.821Z"
   },
   {
    "duration": 20,
    "start_time": "2025-03-11T11:24:04.827Z"
   },
   {
    "duration": 39,
    "start_time": "2025-03-11T11:24:04.848Z"
   },
   {
    "duration": 18,
    "start_time": "2025-03-11T11:24:04.888Z"
   },
   {
    "duration": 48,
    "start_time": "2025-03-11T11:24:04.907Z"
   },
   {
    "duration": 3,
    "start_time": "2025-03-11T11:24:04.957Z"
   },
   {
    "duration": 96,
    "start_time": "2025-03-11T11:24:04.962Z"
   },
   {
    "duration": 21,
    "start_time": "2025-03-11T11:24:05.060Z"
   },
   {
    "duration": 36,
    "start_time": "2025-03-11T11:24:05.082Z"
   },
   {
    "duration": 62,
    "start_time": "2025-03-11T11:24:05.119Z"
   },
   {
    "duration": 82,
    "start_time": "2025-03-11T11:24:05.182Z"
   },
   {
    "duration": 3,
    "start_time": "2025-03-11T11:24:05.266Z"
   },
   {
    "duration": 78,
    "start_time": "2025-03-11T11:28:42.832Z"
   },
   {
    "duration": 2226,
    "start_time": "2025-03-11T11:30:16.222Z"
   },
   {
    "duration": 1131,
    "start_time": "2025-03-11T11:30:18.450Z"
   },
   {
    "duration": 1062,
    "start_time": "2025-03-11T11:30:19.585Z"
   },
   {
    "duration": 5,
    "start_time": "2025-03-11T11:30:20.649Z"
   },
   {
    "duration": 10,
    "start_time": "2025-03-11T11:30:20.656Z"
   },
   {
    "duration": 11,
    "start_time": "2025-03-11T11:30:20.667Z"
   },
   {
    "duration": 17,
    "start_time": "2025-03-11T11:30:20.679Z"
   },
   {
    "duration": 11,
    "start_time": "2025-03-11T11:30:20.697Z"
   },
   {
    "duration": 93,
    "start_time": "2025-03-11T11:30:20.709Z"
   },
   {
    "duration": 119,
    "start_time": "2025-03-11T11:30:20.804Z"
   },
   {
    "duration": 101,
    "start_time": "2025-03-11T11:30:20.925Z"
   },
   {
    "duration": 89,
    "start_time": "2025-03-11T11:30:21.028Z"
   },
   {
    "duration": 5,
    "start_time": "2025-03-11T11:30:21.119Z"
   },
   {
    "duration": 4,
    "start_time": "2025-03-11T11:30:21.127Z"
   },
   {
    "duration": 14,
    "start_time": "2025-03-11T11:30:21.132Z"
   },
   {
    "duration": 40,
    "start_time": "2025-03-11T11:30:21.147Z"
   },
   {
    "duration": 49,
    "start_time": "2025-03-11T11:30:21.189Z"
   },
   {
    "duration": 34,
    "start_time": "2025-03-11T11:30:21.240Z"
   },
   {
    "duration": 34,
    "start_time": "2025-03-11T11:30:21.275Z"
   },
   {
    "duration": 36,
    "start_time": "2025-03-11T11:30:21.311Z"
   },
   {
    "duration": 30,
    "start_time": "2025-03-11T11:30:21.348Z"
   },
   {
    "duration": 12,
    "start_time": "2025-03-11T11:30:21.381Z"
   },
   {
    "duration": 24,
    "start_time": "2025-03-11T11:30:21.394Z"
   },
   {
    "duration": 31,
    "start_time": "2025-03-11T11:30:21.419Z"
   },
   {
    "duration": 27,
    "start_time": "2025-03-11T11:30:21.452Z"
   },
   {
    "duration": 75,
    "start_time": "2025-03-11T11:30:21.480Z"
   },
   {
    "duration": 7,
    "start_time": "2025-03-11T11:30:21.557Z"
   },
   {
    "duration": 8,
    "start_time": "2025-03-11T11:30:21.565Z"
   },
   {
    "duration": 203,
    "start_time": "2025-03-11T11:30:21.574Z"
   },
   {
    "duration": 29,
    "start_time": "2025-03-11T11:30:21.778Z"
   },
   {
    "duration": 5,
    "start_time": "2025-03-11T11:30:21.808Z"
   },
   {
    "duration": 19,
    "start_time": "2025-03-11T11:30:21.814Z"
   },
   {
    "duration": 11,
    "start_time": "2025-03-11T11:30:21.834Z"
   },
   {
    "duration": 73,
    "start_time": "2025-03-11T11:30:21.847Z"
   },
   {
    "duration": 69,
    "start_time": "2025-03-11T11:30:21.921Z"
   },
   {
    "duration": 45,
    "start_time": "2025-03-11T11:30:21.992Z"
   },
   {
    "duration": 54,
    "start_time": "2025-03-11T11:30:22.039Z"
   },
   {
    "duration": 10,
    "start_time": "2025-03-11T11:30:22.095Z"
   },
   {
    "duration": 11,
    "start_time": "2025-03-11T11:30:22.106Z"
   },
   {
    "duration": 15,
    "start_time": "2025-03-11T11:30:22.118Z"
   },
   {
    "duration": 15,
    "start_time": "2025-03-11T11:30:22.137Z"
   },
   {
    "duration": 53,
    "start_time": "2025-03-11T11:30:22.154Z"
   },
   {
    "duration": 223,
    "start_time": "2025-03-11T11:30:22.209Z"
   },
   {
    "duration": 9,
    "start_time": "2025-03-11T11:30:22.433Z"
   },
   {
    "duration": 141,
    "start_time": "2025-03-11T11:30:22.443Z"
   },
   {
    "duration": 27,
    "start_time": "2025-03-11T11:30:22.586Z"
   },
   {
    "duration": 25,
    "start_time": "2025-03-11T11:30:22.615Z"
   },
   {
    "duration": 25,
    "start_time": "2025-03-11T11:30:22.642Z"
   },
   {
    "duration": 11,
    "start_time": "2025-03-11T11:30:22.669Z"
   },
   {
    "duration": 26,
    "start_time": "2025-03-11T11:30:22.682Z"
   },
   {
    "duration": 5,
    "start_time": "2025-03-11T11:30:22.709Z"
   },
   {
    "duration": 29,
    "start_time": "2025-03-11T11:30:22.715Z"
   },
   {
    "duration": 5,
    "start_time": "2025-03-11T11:30:22.746Z"
   },
   {
    "duration": 6,
    "start_time": "2025-03-11T11:30:22.752Z"
   },
   {
    "duration": 27,
    "start_time": "2025-03-11T11:30:22.760Z"
   },
   {
    "duration": 30,
    "start_time": "2025-03-11T11:30:22.789Z"
   },
   {
    "duration": 52,
    "start_time": "2025-03-11T11:30:22.821Z"
   },
   {
    "duration": 5,
    "start_time": "2025-03-11T11:30:22.874Z"
   },
   {
    "duration": 62,
    "start_time": "2025-03-11T11:30:22.880Z"
   },
   {
    "duration": 40,
    "start_time": "2025-03-11T11:30:22.944Z"
   },
   {
    "duration": 93,
    "start_time": "2025-03-11T11:30:22.986Z"
   },
   {
    "duration": 53,
    "start_time": "2025-03-11T11:30:23.080Z"
   },
   {
    "duration": 91,
    "start_time": "2025-03-11T11:30:23.135Z"
   },
   {
    "duration": 2471,
    "start_time": "2025-03-11T11:36:05.114Z"
   },
   {
    "duration": 1197,
    "start_time": "2025-03-11T11:36:07.587Z"
   },
   {
    "duration": 1077,
    "start_time": "2025-03-11T11:36:08.785Z"
   },
   {
    "duration": 5,
    "start_time": "2025-03-11T11:36:09.864Z"
   },
   {
    "duration": 25,
    "start_time": "2025-03-11T11:36:09.871Z"
   },
   {
    "duration": 28,
    "start_time": "2025-03-11T11:36:09.898Z"
   },
   {
    "duration": 8,
    "start_time": "2025-03-11T11:36:09.927Z"
   },
   {
    "duration": 4,
    "start_time": "2025-03-11T11:36:09.937Z"
   },
   {
    "duration": 23,
    "start_time": "2025-03-11T11:36:09.943Z"
   },
   {
    "duration": 173,
    "start_time": "2025-03-11T11:36:09.969Z"
   },
   {
    "duration": 91,
    "start_time": "2025-03-11T11:36:10.144Z"
   },
   {
    "duration": 96,
    "start_time": "2025-03-11T11:36:10.236Z"
   },
   {
    "duration": 5,
    "start_time": "2025-03-11T11:36:10.334Z"
   },
   {
    "duration": 7,
    "start_time": "2025-03-11T11:36:10.341Z"
   },
   {
    "duration": 9,
    "start_time": "2025-03-11T11:36:10.349Z"
   },
   {
    "duration": 54,
    "start_time": "2025-03-11T11:36:10.360Z"
   },
   {
    "duration": 34,
    "start_time": "2025-03-11T11:36:10.416Z"
   },
   {
    "duration": 4,
    "start_time": "2025-03-11T11:36:10.451Z"
   },
   {
    "duration": 9,
    "start_time": "2025-03-11T11:36:10.456Z"
   },
   {
    "duration": 41,
    "start_time": "2025-03-11T11:36:10.466Z"
   },
   {
    "duration": 13,
    "start_time": "2025-03-11T11:36:10.508Z"
   },
   {
    "duration": 16,
    "start_time": "2025-03-11T11:36:10.523Z"
   },
   {
    "duration": 8,
    "start_time": "2025-03-11T11:36:10.540Z"
   },
   {
    "duration": 24,
    "start_time": "2025-03-11T11:36:10.549Z"
   },
   {
    "duration": 18,
    "start_time": "2025-03-11T11:36:10.575Z"
   },
   {
    "duration": 74,
    "start_time": "2025-03-11T11:36:10.607Z"
   },
   {
    "duration": 18,
    "start_time": "2025-03-11T11:36:10.682Z"
   },
   {
    "duration": 15,
    "start_time": "2025-03-11T11:36:10.703Z"
   },
   {
    "duration": 262,
    "start_time": "2025-03-11T11:36:10.719Z"
   },
   {
    "duration": 27,
    "start_time": "2025-03-11T11:36:10.982Z"
   },
   {
    "duration": 63,
    "start_time": "2025-03-11T11:36:11.011Z"
   },
   {
    "duration": 14,
    "start_time": "2025-03-11T11:36:11.075Z"
   },
   {
    "duration": 14,
    "start_time": "2025-03-11T11:36:11.091Z"
   },
   {
    "duration": 78,
    "start_time": "2025-03-11T11:36:11.107Z"
   },
   {
    "duration": 80,
    "start_time": "2025-03-11T11:36:11.187Z"
   },
   {
    "duration": 44,
    "start_time": "2025-03-11T11:36:11.269Z"
   },
   {
    "duration": 35,
    "start_time": "2025-03-11T11:36:11.315Z"
   },
   {
    "duration": 53,
    "start_time": "2025-03-11T11:36:11.352Z"
   },
   {
    "duration": 16,
    "start_time": "2025-03-11T11:36:11.407Z"
   },
   {
    "duration": 15,
    "start_time": "2025-03-11T11:36:11.424Z"
   },
   {
    "duration": 16,
    "start_time": "2025-03-11T11:36:11.441Z"
   },
   {
    "duration": 51,
    "start_time": "2025-03-11T11:36:11.459Z"
   },
   {
    "duration": 222,
    "start_time": "2025-03-11T11:36:11.512Z"
   },
   {
    "duration": 8,
    "start_time": "2025-03-11T11:36:11.736Z"
   },
   {
    "duration": 126,
    "start_time": "2025-03-11T11:36:11.745Z"
   },
   {
    "duration": 16,
    "start_time": "2025-03-11T11:36:11.872Z"
   },
   {
    "duration": 34,
    "start_time": "2025-03-11T11:36:11.889Z"
   },
   {
    "duration": 20,
    "start_time": "2025-03-11T11:36:11.924Z"
   },
   {
    "duration": 12,
    "start_time": "2025-03-11T11:36:11.945Z"
   },
   {
    "duration": 3,
    "start_time": "2025-03-11T11:36:11.959Z"
   },
   {
    "duration": 12,
    "start_time": "2025-03-11T11:36:11.964Z"
   },
   {
    "duration": 79,
    "start_time": "2025-03-11T11:36:11.978Z"
   },
   {
    "duration": 9,
    "start_time": "2025-03-11T11:36:12.059Z"
   },
   {
    "duration": 5,
    "start_time": "2025-03-11T11:36:12.070Z"
   },
   {
    "duration": 29,
    "start_time": "2025-03-11T11:36:12.076Z"
   },
   {
    "duration": 19,
    "start_time": "2025-03-11T11:36:12.106Z"
   },
   {
    "duration": 40,
    "start_time": "2025-03-11T11:36:12.126Z"
   },
   {
    "duration": 3,
    "start_time": "2025-03-11T11:36:12.168Z"
   },
   {
    "duration": 46,
    "start_time": "2025-03-11T11:36:12.173Z"
   },
   {
    "duration": 5,
    "start_time": "2025-03-11T11:36:12.220Z"
   },
   {
    "duration": 28,
    "start_time": "2025-03-11T11:36:12.227Z"
   },
   {
    "duration": 63,
    "start_time": "2025-03-11T11:36:12.257Z"
   },
   {
    "duration": 99,
    "start_time": "2025-03-11T11:36:12.322Z"
   },
   {
    "duration": 3349,
    "start_time": "2025-03-11T19:21:54.333Z"
   },
   {
    "duration": 5345,
    "start_time": "2025-03-11T19:21:57.685Z"
   },
   {
    "duration": 1363,
    "start_time": "2025-03-11T19:22:03.032Z"
   },
   {
    "duration": 5,
    "start_time": "2025-03-11T19:22:04.398Z"
   },
   {
    "duration": 15,
    "start_time": "2025-03-11T19:22:04.405Z"
   },
   {
    "duration": 13,
    "start_time": "2025-03-11T19:22:04.422Z"
   },
   {
    "duration": 9,
    "start_time": "2025-03-11T19:22:04.437Z"
   },
   {
    "duration": 4,
    "start_time": "2025-03-11T19:22:04.448Z"
   },
   {
    "duration": 37,
    "start_time": "2025-03-11T19:22:04.454Z"
   },
   {
    "duration": 125,
    "start_time": "2025-03-11T19:22:04.494Z"
   },
   {
    "duration": 105,
    "start_time": "2025-03-11T19:22:04.620Z"
   },
   {
    "duration": 105,
    "start_time": "2025-03-11T19:22:04.727Z"
   },
   {
    "duration": 6,
    "start_time": "2025-03-11T19:22:04.834Z"
   },
   {
    "duration": 52,
    "start_time": "2025-03-11T19:22:04.841Z"
   },
   {
    "duration": 11,
    "start_time": "2025-03-11T19:22:04.894Z"
   },
   {
    "duration": 43,
    "start_time": "2025-03-11T19:22:04.906Z"
   },
   {
    "duration": 38,
    "start_time": "2025-03-11T19:22:04.951Z"
   },
   {
    "duration": 4,
    "start_time": "2025-03-11T19:22:04.990Z"
   },
   {
    "duration": 25,
    "start_time": "2025-03-11T19:22:04.996Z"
   },
   {
    "duration": 21,
    "start_time": "2025-03-11T19:22:05.023Z"
   },
   {
    "duration": 17,
    "start_time": "2025-03-11T19:22:05.046Z"
   },
   {
    "duration": 4,
    "start_time": "2025-03-11T19:22:05.064Z"
   },
   {
    "duration": 65,
    "start_time": "2025-03-11T19:22:05.069Z"
   },
   {
    "duration": 25,
    "start_time": "2025-03-11T19:22:05.136Z"
   },
   {
    "duration": 19,
    "start_time": "2025-03-11T19:22:05.163Z"
   },
   {
    "duration": 105,
    "start_time": "2025-03-11T19:22:05.184Z"
   },
   {
    "duration": 7,
    "start_time": "2025-03-11T19:22:05.291Z"
   },
   {
    "duration": 16,
    "start_time": "2025-03-11T19:22:05.302Z"
   },
   {
    "duration": 210,
    "start_time": "2025-03-11T19:22:05.319Z"
   },
   {
    "duration": 22,
    "start_time": "2025-03-11T19:22:05.531Z"
   },
   {
    "duration": 5,
    "start_time": "2025-03-11T19:22:05.555Z"
   },
   {
    "duration": 28,
    "start_time": "2025-03-11T19:22:05.562Z"
   },
   {
    "duration": 75,
    "start_time": "2025-03-11T19:22:05.592Z"
   },
   {
    "duration": 86,
    "start_time": "2025-03-11T19:22:05.669Z"
   },
   {
    "duration": 88,
    "start_time": "2025-03-11T19:22:05.757Z"
   },
   {
    "duration": 39,
    "start_time": "2025-03-11T19:22:05.847Z"
   },
   {
    "duration": 55,
    "start_time": "2025-03-11T19:22:05.888Z"
   },
   {
    "duration": 14,
    "start_time": "2025-03-11T19:22:05.945Z"
   },
   {
    "duration": 13,
    "start_time": "2025-03-11T19:22:05.961Z"
   },
   {
    "duration": 42,
    "start_time": "2025-03-11T19:22:05.975Z"
   },
   {
    "duration": 73,
    "start_time": "2025-03-11T19:22:06.019Z"
   },
   {
    "duration": 52,
    "start_time": "2025-03-11T19:22:06.094Z"
   },
   {
    "duration": 346,
    "start_time": "2025-03-11T19:22:06.149Z"
   },
   {
    "duration": 9,
    "start_time": "2025-03-11T19:22:06.497Z"
   },
   {
    "duration": 181,
    "start_time": "2025-03-11T19:22:06.508Z"
   },
   {
    "duration": 25,
    "start_time": "2025-03-11T19:22:06.691Z"
   },
   {
    "duration": 61,
    "start_time": "2025-03-11T19:22:06.718Z"
   },
   {
    "duration": 24,
    "start_time": "2025-03-11T19:22:06.781Z"
   },
   {
    "duration": 14,
    "start_time": "2025-03-11T19:22:06.806Z"
   },
   {
    "duration": 61,
    "start_time": "2025-03-11T19:22:06.822Z"
   },
   {
    "duration": 5,
    "start_time": "2025-03-11T19:22:06.884Z"
   },
   {
    "duration": 8,
    "start_time": "2025-03-11T19:22:06.890Z"
   },
   {
    "duration": 11,
    "start_time": "2025-03-11T19:22:06.900Z"
   },
   {
    "duration": 15,
    "start_time": "2025-03-11T19:22:06.913Z"
   },
   {
    "duration": 35,
    "start_time": "2025-03-11T19:22:06.930Z"
   },
   {
    "duration": 21,
    "start_time": "2025-03-11T19:22:06.967Z"
   },
   {
    "duration": 68,
    "start_time": "2025-03-11T19:22:06.989Z"
   },
   {
    "duration": 4,
    "start_time": "2025-03-11T19:22:07.059Z"
   },
   {
    "duration": 100,
    "start_time": "2025-03-11T19:22:07.065Z"
   },
   {
    "duration": 5,
    "start_time": "2025-03-11T19:22:07.166Z"
   },
   {
    "duration": 20,
    "start_time": "2025-03-11T19:22:07.173Z"
   },
   {
    "duration": 71,
    "start_time": "2025-03-11T19:22:07.195Z"
   },
   {
    "duration": 100,
    "start_time": "2025-03-11T19:22:07.267Z"
   },
   {
    "duration": 84,
    "start_time": "2025-03-11T19:23:54.358Z"
   },
   {
    "duration": 74,
    "start_time": "2025-03-11T19:25:07.124Z"
   },
   {
    "duration": 73,
    "start_time": "2025-03-11T20:28:59.412Z"
   },
   {
    "duration": 46,
    "start_time": "2025-03-11T20:31:46.141Z"
   },
   {
    "duration": 3490,
    "start_time": "2025-03-11T20:31:55.596Z"
   },
   {
    "duration": 1419,
    "start_time": "2025-03-11T20:31:59.088Z"
   },
   {
    "duration": 1170,
    "start_time": "2025-03-11T20:32:00.509Z"
   },
   {
    "duration": 5,
    "start_time": "2025-03-11T20:32:01.681Z"
   },
   {
    "duration": 14,
    "start_time": "2025-03-11T20:32:01.688Z"
   },
   {
    "duration": 20,
    "start_time": "2025-03-11T20:32:01.703Z"
   },
   {
    "duration": 43,
    "start_time": "2025-03-11T20:32:01.725Z"
   },
   {
    "duration": 23,
    "start_time": "2025-03-11T20:32:01.769Z"
   },
   {
    "duration": 54,
    "start_time": "2025-03-11T20:32:01.794Z"
   },
   {
    "duration": 137,
    "start_time": "2025-03-11T20:32:01.849Z"
   },
   {
    "duration": 103,
    "start_time": "2025-03-11T20:32:01.988Z"
   },
   {
    "duration": 99,
    "start_time": "2025-03-11T20:32:02.092Z"
   },
   {
    "duration": 5,
    "start_time": "2025-03-11T20:32:02.193Z"
   },
   {
    "duration": 34,
    "start_time": "2025-03-11T20:32:02.201Z"
   },
   {
    "duration": 31,
    "start_time": "2025-03-11T20:32:02.237Z"
   },
   {
    "duration": 70,
    "start_time": "2025-03-11T20:32:02.270Z"
   },
   {
    "duration": 39,
    "start_time": "2025-03-11T20:32:02.342Z"
   },
   {
    "duration": 5,
    "start_time": "2025-03-11T20:32:02.383Z"
   },
   {
    "duration": 8,
    "start_time": "2025-03-11T20:32:02.390Z"
   },
   {
    "duration": 68,
    "start_time": "2025-03-11T20:32:02.400Z"
   },
   {
    "duration": 34,
    "start_time": "2025-03-11T20:32:02.469Z"
   },
   {
    "duration": 22,
    "start_time": "2025-03-11T20:32:02.504Z"
   },
   {
    "duration": 59,
    "start_time": "2025-03-11T20:32:02.527Z"
   },
   {
    "duration": 47,
    "start_time": "2025-03-11T20:32:02.587Z"
   },
   {
    "duration": 35,
    "start_time": "2025-03-11T20:32:02.636Z"
   },
   {
    "duration": 168,
    "start_time": "2025-03-11T20:32:02.673Z"
   },
   {
    "duration": 72,
    "start_time": "2025-03-11T20:32:02.842Z"
   },
   {
    "duration": 29,
    "start_time": "2025-03-11T20:32:02.916Z"
   },
   {
    "duration": 217,
    "start_time": "2025-03-11T20:32:02.946Z"
   },
   {
    "duration": 26,
    "start_time": "2025-03-11T20:32:03.165Z"
   },
   {
    "duration": 5,
    "start_time": "2025-03-11T20:32:03.192Z"
   },
   {
    "duration": 31,
    "start_time": "2025-03-11T20:32:03.199Z"
   },
   {
    "duration": 16,
    "start_time": "2025-03-11T20:32:03.232Z"
   },
   {
    "duration": 77,
    "start_time": "2025-03-11T20:32:03.250Z"
   },
   {
    "duration": 81,
    "start_time": "2025-03-11T20:32:03.329Z"
   },
   {
    "duration": 38,
    "start_time": "2025-03-11T20:32:03.411Z"
   },
   {
    "duration": 57,
    "start_time": "2025-03-11T20:32:03.451Z"
   },
   {
    "duration": 13,
    "start_time": "2025-03-11T20:32:03.510Z"
   },
   {
    "duration": 25,
    "start_time": "2025-03-11T20:32:03.525Z"
   },
   {
    "duration": 27,
    "start_time": "2025-03-11T20:32:03.552Z"
   },
   {
    "duration": 25,
    "start_time": "2025-03-11T20:32:03.584Z"
   },
   {
    "duration": 47,
    "start_time": "2025-03-11T20:32:03.611Z"
   },
   {
    "duration": 249,
    "start_time": "2025-03-11T20:32:03.661Z"
   },
   {
    "duration": 16,
    "start_time": "2025-03-11T20:32:03.913Z"
   },
   {
    "duration": 142,
    "start_time": "2025-03-11T20:32:03.932Z"
   },
   {
    "duration": 19,
    "start_time": "2025-03-11T20:32:04.076Z"
   },
   {
    "duration": 31,
    "start_time": "2025-03-11T20:32:04.097Z"
   },
   {
    "duration": 44,
    "start_time": "2025-03-11T20:32:04.130Z"
   },
   {
    "duration": 11,
    "start_time": "2025-03-11T20:32:04.176Z"
   },
   {
    "duration": 4,
    "start_time": "2025-03-11T20:32:04.189Z"
   },
   {
    "duration": 23,
    "start_time": "2025-03-11T20:32:04.195Z"
   },
   {
    "duration": 24,
    "start_time": "2025-03-11T20:32:04.220Z"
   },
   {
    "duration": 8,
    "start_time": "2025-03-11T20:32:04.246Z"
   },
   {
    "duration": 12,
    "start_time": "2025-03-11T20:32:04.255Z"
   },
   {
    "duration": 52,
    "start_time": "2025-03-11T20:32:04.269Z"
   },
   {
    "duration": 20,
    "start_time": "2025-03-11T20:32:04.323Z"
   },
   {
    "duration": 45,
    "start_time": "2025-03-11T20:32:04.345Z"
   },
   {
    "duration": 5,
    "start_time": "2025-03-11T20:32:04.392Z"
   },
   {
    "duration": 45,
    "start_time": "2025-03-11T20:32:04.399Z"
   },
   {
    "duration": 13,
    "start_time": "2025-03-11T20:32:04.446Z"
   },
   {
    "duration": 27,
    "start_time": "2025-03-11T20:32:04.461Z"
   },
   {
    "duration": 58,
    "start_time": "2025-03-11T20:32:04.490Z"
   },
   {
    "duration": 109,
    "start_time": "2025-03-11T20:32:04.550Z"
   },
   {
    "duration": 64,
    "start_time": "2025-03-11T20:32:05.411Z"
   },
   {
    "duration": 71,
    "start_time": "2025-03-11T20:32:08.306Z"
   },
   {
    "duration": 57,
    "start_time": "2025-03-11T20:33:30.216Z"
   },
   {
    "duration": 98,
    "start_time": "2025-03-11T20:52:37.908Z"
   },
   {
    "duration": 129,
    "start_time": "2025-03-11T20:59:02.299Z"
   },
   {
    "duration": 37,
    "start_time": "2025-03-11T20:59:16.030Z"
   },
   {
    "duration": 33,
    "start_time": "2025-03-11T21:00:00.666Z"
   },
   {
    "duration": 44,
    "start_time": "2025-03-11T21:01:11.707Z"
   },
   {
    "duration": 37,
    "start_time": "2025-03-11T21:05:17.119Z"
   },
   {
    "duration": 37,
    "start_time": "2025-03-11T21:07:20.412Z"
   },
   {
    "duration": 38,
    "start_time": "2025-03-11T21:07:43.482Z"
   },
   {
    "duration": 98,
    "start_time": "2025-03-11T21:09:22.743Z"
   },
   {
    "duration": 63,
    "start_time": "2025-03-11T21:09:25.306Z"
   },
   {
    "duration": 31,
    "start_time": "2025-03-11T21:09:33.205Z"
   },
   {
    "duration": 25,
    "start_time": "2025-03-11T21:12:10.644Z"
   },
   {
    "duration": 24,
    "start_time": "2025-03-11T21:12:20.829Z"
   },
   {
    "duration": 27,
    "start_time": "2025-03-11T21:12:57.428Z"
   },
   {
    "duration": 9,
    "start_time": "2025-03-11T21:18:14.952Z"
   },
   {
    "duration": 9,
    "start_time": "2025-03-11T21:18:58.797Z"
   },
   {
    "duration": 162,
    "start_time": "2025-03-11T21:26:00.452Z"
   },
   {
    "duration": 186,
    "start_time": "2025-03-11T21:26:10.870Z"
   },
   {
    "duration": 186,
    "start_time": "2025-03-11T21:30:51.003Z"
   },
   {
    "duration": 3449,
    "start_time": "2025-03-12T10:17:26.461Z"
   },
   {
    "duration": 1380,
    "start_time": "2025-03-12T10:17:29.913Z"
   },
   {
    "duration": 1083,
    "start_time": "2025-03-12T10:17:31.294Z"
   },
   {
    "duration": 5,
    "start_time": "2025-03-12T10:17:32.379Z"
   },
   {
    "duration": 13,
    "start_time": "2025-03-12T10:17:32.386Z"
   },
   {
    "duration": 13,
    "start_time": "2025-03-12T10:17:32.401Z"
   },
   {
    "duration": 9,
    "start_time": "2025-03-12T10:17:32.415Z"
   },
   {
    "duration": 5,
    "start_time": "2025-03-12T10:17:32.425Z"
   },
   {
    "duration": 57,
    "start_time": "2025-03-12T10:17:32.431Z"
   },
   {
    "duration": 106,
    "start_time": "2025-03-12T10:17:32.491Z"
   },
   {
    "duration": 99,
    "start_time": "2025-03-12T10:17:32.598Z"
   },
   {
    "duration": 99,
    "start_time": "2025-03-12T10:17:32.699Z"
   },
   {
    "duration": 5,
    "start_time": "2025-03-12T10:17:32.799Z"
   },
   {
    "duration": 15,
    "start_time": "2025-03-12T10:17:32.805Z"
   },
   {
    "duration": 26,
    "start_time": "2025-03-12T10:17:32.822Z"
   },
   {
    "duration": 62,
    "start_time": "2025-03-12T10:17:32.850Z"
   },
   {
    "duration": 34,
    "start_time": "2025-03-12T10:17:32.914Z"
   },
   {
    "duration": 28,
    "start_time": "2025-03-12T10:17:32.949Z"
   },
   {
    "duration": 8,
    "start_time": "2025-03-12T10:17:32.979Z"
   },
   {
    "duration": 26,
    "start_time": "2025-03-12T10:17:32.988Z"
   },
   {
    "duration": 21,
    "start_time": "2025-03-12T10:17:33.016Z"
   },
   {
    "duration": 25,
    "start_time": "2025-03-12T10:17:33.039Z"
   },
   {
    "duration": 36,
    "start_time": "2025-03-12T10:17:33.066Z"
   },
   {
    "duration": 30,
    "start_time": "2025-03-12T10:17:33.103Z"
   },
   {
    "duration": 21,
    "start_time": "2025-03-12T10:17:33.134Z"
   },
   {
    "duration": 98,
    "start_time": "2025-03-12T10:17:33.156Z"
   },
   {
    "duration": 7,
    "start_time": "2025-03-12T10:17:33.255Z"
   },
   {
    "duration": 19,
    "start_time": "2025-03-12T10:17:33.265Z"
   },
   {
    "duration": 191,
    "start_time": "2025-03-12T10:17:33.285Z"
   },
   {
    "duration": 19,
    "start_time": "2025-03-12T10:17:33.478Z"
   },
   {
    "duration": 7,
    "start_time": "2025-03-12T10:17:33.498Z"
   },
   {
    "duration": 24,
    "start_time": "2025-03-12T10:17:33.507Z"
   },
   {
    "duration": 8,
    "start_time": "2025-03-12T10:17:33.533Z"
   },
   {
    "duration": 86,
    "start_time": "2025-03-12T10:17:33.543Z"
   },
   {
    "duration": 85,
    "start_time": "2025-03-12T10:17:33.631Z"
   },
   {
    "duration": 36,
    "start_time": "2025-03-12T10:17:33.718Z"
   },
   {
    "duration": 42,
    "start_time": "2025-03-12T10:17:33.767Z"
   },
   {
    "duration": 12,
    "start_time": "2025-03-12T10:17:33.811Z"
   },
   {
    "duration": 11,
    "start_time": "2025-03-12T10:17:33.825Z"
   },
   {
    "duration": 34,
    "start_time": "2025-03-12T10:17:33.837Z"
   },
   {
    "duration": 25,
    "start_time": "2025-03-12T10:17:33.873Z"
   },
   {
    "duration": 41,
    "start_time": "2025-03-12T10:17:33.899Z"
   },
   {
    "duration": 234,
    "start_time": "2025-03-12T10:17:33.942Z"
   },
   {
    "duration": 9,
    "start_time": "2025-03-12T10:17:34.177Z"
   },
   {
    "duration": 150,
    "start_time": "2025-03-12T10:17:34.188Z"
   },
   {
    "duration": 18,
    "start_time": "2025-03-12T10:17:34.339Z"
   },
   {
    "duration": 50,
    "start_time": "2025-03-12T10:17:34.359Z"
   },
   {
    "duration": 20,
    "start_time": "2025-03-12T10:17:34.411Z"
   },
   {
    "duration": 10,
    "start_time": "2025-03-12T10:17:34.432Z"
   },
   {
    "duration": 10,
    "start_time": "2025-03-12T10:17:34.443Z"
   },
   {
    "duration": 14,
    "start_time": "2025-03-12T10:17:34.455Z"
   },
   {
    "duration": 9,
    "start_time": "2025-03-12T10:17:34.471Z"
   },
   {
    "duration": 11,
    "start_time": "2025-03-12T10:17:34.482Z"
   },
   {
    "duration": 4,
    "start_time": "2025-03-12T10:17:34.494Z"
   },
   {
    "duration": 26,
    "start_time": "2025-03-12T10:17:34.500Z"
   },
   {
    "duration": 19,
    "start_time": "2025-03-12T10:17:34.528Z"
   },
   {
    "duration": 66,
    "start_time": "2025-03-12T10:17:34.549Z"
   },
   {
    "duration": 4,
    "start_time": "2025-03-12T10:17:34.617Z"
   },
   {
    "duration": 45,
    "start_time": "2025-03-12T10:17:34.623Z"
   },
   {
    "duration": 10,
    "start_time": "2025-03-12T10:17:34.670Z"
   },
   {
    "duration": 24,
    "start_time": "2025-03-12T10:17:34.682Z"
   },
   {
    "duration": 73,
    "start_time": "2025-03-12T10:17:34.708Z"
   },
   {
    "duration": 99,
    "start_time": "2025-03-12T10:17:34.783Z"
   },
   {
    "duration": 63,
    "start_time": "2025-03-12T10:17:34.885Z"
   },
   {
    "duration": 38,
    "start_time": "2025-03-12T10:17:34.950Z"
   },
   {
    "duration": 10,
    "start_time": "2025-03-12T10:17:34.990Z"
   },
   {
    "duration": 222,
    "start_time": "2025-03-12T10:17:35.003Z"
   },
   {
    "duration": 9,
    "start_time": "2025-03-12T10:19:30.749Z"
   },
   {
    "duration": 11,
    "start_time": "2025-03-12T10:19:40.149Z"
   },
   {
    "duration": 9,
    "start_time": "2025-03-12T10:19:59.376Z"
   },
   {
    "duration": 194,
    "start_time": "2025-03-12T10:20:03.760Z"
   },
   {
    "duration": 171,
    "start_time": "2025-03-12T10:26:39.433Z"
   },
   {
    "duration": 102,
    "start_time": "2025-03-12T10:58:02.959Z"
   },
   {
    "duration": 12,
    "start_time": "2025-03-12T10:58:12.789Z"
   },
   {
    "duration": 138,
    "start_time": "2025-03-12T10:58:30.711Z"
   },
   {
    "duration": 123,
    "start_time": "2025-03-12T10:58:46.939Z"
   },
   {
    "duration": 126,
    "start_time": "2025-03-12T10:59:01.030Z"
   },
   {
    "duration": 1111,
    "start_time": "2025-03-12T10:59:44.023Z"
   },
   {
    "duration": 233,
    "start_time": "2025-03-12T11:01:10.533Z"
   },
   {
    "duration": 144,
    "start_time": "2025-03-12T11:02:07.155Z"
   },
   {
    "duration": 136,
    "start_time": "2025-03-12T11:02:25.507Z"
   },
   {
    "duration": 22,
    "start_time": "2025-03-12T11:03:25.275Z"
   },
   {
    "duration": 146,
    "start_time": "2025-03-12T11:03:29.863Z"
   },
   {
    "duration": 64,
    "start_time": "2025-03-12T11:15:34.713Z"
   },
   {
    "duration": 10,
    "start_time": "2025-03-12T11:16:12.459Z"
   },
   {
    "duration": 27,
    "start_time": "2025-03-12T11:16:55.446Z"
   },
   {
    "duration": 26,
    "start_time": "2025-03-12T11:18:15.095Z"
   },
   {
    "duration": 158,
    "start_time": "2025-03-12T11:18:36.821Z"
   },
   {
    "duration": 73,
    "start_time": "2025-03-12T11:18:50.207Z"
   },
   {
    "duration": 4,
    "start_time": "2025-03-12T11:19:32.672Z"
   },
   {
    "duration": 25,
    "start_time": "2025-03-12T11:20:05.180Z"
   },
   {
    "duration": 16,
    "start_time": "2025-03-12T12:55:26.916Z"
   },
   {
    "duration": 14,
    "start_time": "2025-03-12T12:55:51.758Z"
   },
   {
    "duration": 8,
    "start_time": "2025-03-12T12:58:48.128Z"
   },
   {
    "duration": 7,
    "start_time": "2025-03-12T12:59:04.381Z"
   },
   {
    "duration": 6,
    "start_time": "2025-03-12T13:04:24.458Z"
   },
   {
    "duration": 70,
    "start_time": "2025-03-12T13:04:37.396Z"
   },
   {
    "duration": 7,
    "start_time": "2025-03-12T13:05:45.934Z"
   },
   {
    "duration": 7,
    "start_time": "2025-03-12T13:17:58.131Z"
   },
   {
    "duration": 8,
    "start_time": "2025-03-12T13:18:36.545Z"
   },
   {
    "duration": 10,
    "start_time": "2025-03-12T13:22:14.114Z"
   },
   {
    "duration": 8,
    "start_time": "2025-03-12T13:22:36.133Z"
   },
   {
    "duration": 9,
    "start_time": "2025-03-12T13:22:50.577Z"
   },
   {
    "duration": 8,
    "start_time": "2025-03-12T13:23:29.300Z"
   },
   {
    "duration": 9,
    "start_time": "2025-03-12T13:31:12.761Z"
   },
   {
    "duration": 6,
    "start_time": "2025-03-12T13:50:41.794Z"
   },
   {
    "duration": 9,
    "start_time": "2025-03-12T13:55:40.987Z"
   },
   {
    "duration": 11,
    "start_time": "2025-03-12T14:15:29.766Z"
   },
   {
    "duration": 72,
    "start_time": "2025-03-12T14:17:27.705Z"
   },
   {
    "duration": 9,
    "start_time": "2025-03-12T14:17:38.349Z"
   },
   {
    "duration": 10,
    "start_time": "2025-03-12T14:17:58.736Z"
   },
   {
    "duration": 4,
    "start_time": "2025-03-12T14:18:27.481Z"
   },
   {
    "duration": 827,
    "start_time": "2025-03-12T14:18:32.433Z"
   },
   {
    "duration": 6,
    "start_time": "2025-03-12T14:18:46.357Z"
   },
   {
    "duration": 25,
    "start_time": "2025-03-12T14:18:53.281Z"
   },
   {
    "duration": 13,
    "start_time": "2025-03-12T14:20:30.784Z"
   },
   {
    "duration": 10,
    "start_time": "2025-03-12T14:20:53.698Z"
   },
   {
    "duration": 11,
    "start_time": "2025-03-12T14:28:40.198Z"
   },
   {
    "duration": 6,
    "start_time": "2025-03-12T14:28:45.623Z"
   },
   {
    "duration": 7,
    "start_time": "2025-03-12T14:34:27.025Z"
   },
   {
    "duration": 9,
    "start_time": "2025-03-12T14:35:52.812Z"
   },
   {
    "duration": 29,
    "start_time": "2025-03-12T14:38:09.890Z"
   },
   {
    "duration": 12,
    "start_time": "2025-03-12T14:38:16.849Z"
   },
   {
    "duration": 14,
    "start_time": "2025-03-12T14:38:19.294Z"
   },
   {
    "duration": 15,
    "start_time": "2025-03-12T14:39:22.021Z"
   },
   {
    "duration": 5,
    "start_time": "2025-03-12T14:40:11.889Z"
   },
   {
    "duration": 5,
    "start_time": "2025-03-12T14:42:04.562Z"
   },
   {
    "duration": 16,
    "start_time": "2025-03-12T14:48:32.105Z"
   },
   {
    "duration": 14,
    "start_time": "2025-03-12T14:49:01.138Z"
   },
   {
    "duration": 14,
    "start_time": "2025-03-12T14:51:49.647Z"
   },
   {
    "duration": 16,
    "start_time": "2025-03-12T14:52:05.645Z"
   },
   {
    "duration": 19,
    "start_time": "2025-03-12T14:52:36.672Z"
   },
   {
    "duration": 11,
    "start_time": "2025-03-12T14:54:45.960Z"
   },
   {
    "duration": 16,
    "start_time": "2025-03-12T14:59:11.681Z"
   },
   {
    "duration": 23,
    "start_time": "2025-03-12T14:59:19.956Z"
   },
   {
    "duration": 15,
    "start_time": "2025-03-12T14:59:28.245Z"
   },
   {
    "duration": 16,
    "start_time": "2025-03-12T14:59:34.550Z"
   },
   {
    "duration": 15,
    "start_time": "2025-03-12T14:59:43.603Z"
   },
   {
    "duration": 14,
    "start_time": "2025-03-12T14:59:53.850Z"
   },
   {
    "duration": 15,
    "start_time": "2025-03-12T15:00:41.088Z"
   },
   {
    "duration": 14,
    "start_time": "2025-03-12T15:20:38.501Z"
   },
   {
    "duration": 14,
    "start_time": "2025-03-12T15:21:10.850Z"
   },
   {
    "duration": 25,
    "start_time": "2025-03-12T15:21:41.455Z"
   },
   {
    "duration": 10,
    "start_time": "2025-03-12T15:31:39.539Z"
   },
   {
    "duration": 9,
    "start_time": "2025-03-12T15:31:44.541Z"
   },
   {
    "duration": 2702,
    "start_time": "2025-03-12T15:31:53.940Z"
   },
   {
    "duration": 1318,
    "start_time": "2025-03-12T15:31:56.645Z"
   },
   {
    "duration": 1275,
    "start_time": "2025-03-12T15:31:57.964Z"
   },
   {
    "duration": 5,
    "start_time": "2025-03-12T15:31:59.241Z"
   },
   {
    "duration": 10,
    "start_time": "2025-03-12T15:31:59.247Z"
   },
   {
    "duration": 18,
    "start_time": "2025-03-12T15:31:59.258Z"
   },
   {
    "duration": 13,
    "start_time": "2025-03-12T15:31:59.278Z"
   },
   {
    "duration": 4,
    "start_time": "2025-03-12T15:31:59.294Z"
   },
   {
    "duration": 26,
    "start_time": "2025-03-12T15:31:59.300Z"
   },
   {
    "duration": 134,
    "start_time": "2025-03-12T15:31:59.329Z"
   },
   {
    "duration": 127,
    "start_time": "2025-03-12T15:31:59.464Z"
   },
   {
    "duration": 115,
    "start_time": "2025-03-12T15:31:59.593Z"
   },
   {
    "duration": 5,
    "start_time": "2025-03-12T15:31:59.710Z"
   },
   {
    "duration": 5,
    "start_time": "2025-03-12T15:31:59.717Z"
   },
   {
    "duration": 9,
    "start_time": "2025-03-12T15:31:59.723Z"
   },
   {
    "duration": 77,
    "start_time": "2025-03-12T15:31:59.733Z"
   },
   {
    "duration": 38,
    "start_time": "2025-03-12T15:31:59.812Z"
   },
   {
    "duration": 20,
    "start_time": "2025-03-12T15:31:59.852Z"
   },
   {
    "duration": 12,
    "start_time": "2025-03-12T15:31:59.875Z"
   },
   {
    "duration": 21,
    "start_time": "2025-03-12T15:31:59.889Z"
   },
   {
    "duration": 20,
    "start_time": "2025-03-12T15:31:59.912Z"
   },
   {
    "duration": 4,
    "start_time": "2025-03-12T15:31:59.933Z"
   },
   {
    "duration": 33,
    "start_time": "2025-03-12T15:31:59.938Z"
   },
   {
    "duration": 34,
    "start_time": "2025-03-12T15:31:59.973Z"
   },
   {
    "duration": 93,
    "start_time": "2025-03-12T15:32:00.012Z"
   },
   {
    "duration": 108,
    "start_time": "2025-03-12T15:32:00.106Z"
   },
   {
    "duration": 8,
    "start_time": "2025-03-12T15:32:00.215Z"
   },
   {
    "duration": 66,
    "start_time": "2025-03-12T15:32:00.227Z"
   },
   {
    "duration": 221,
    "start_time": "2025-03-12T15:32:00.295Z"
   },
   {
    "duration": 19,
    "start_time": "2025-03-12T15:32:00.518Z"
   },
   {
    "duration": 33,
    "start_time": "2025-03-12T15:32:00.538Z"
   },
   {
    "duration": 24,
    "start_time": "2025-03-12T15:32:00.572Z"
   },
   {
    "duration": 7,
    "start_time": "2025-03-12T15:32:00.598Z"
   },
   {
    "duration": 95,
    "start_time": "2025-03-12T15:32:00.606Z"
   },
   {
    "duration": 105,
    "start_time": "2025-03-12T15:32:00.703Z"
   },
   {
    "duration": 35,
    "start_time": "2025-03-12T15:32:00.810Z"
   },
   {
    "duration": 70,
    "start_time": "2025-03-12T15:32:00.847Z"
   },
   {
    "duration": 27,
    "start_time": "2025-03-12T15:32:00.918Z"
   },
   {
    "duration": 50,
    "start_time": "2025-03-12T15:32:00.946Z"
   },
   {
    "duration": 15,
    "start_time": "2025-03-12T15:32:00.997Z"
   },
   {
    "duration": 17,
    "start_time": "2025-03-12T15:32:01.014Z"
   },
   {
    "duration": 66,
    "start_time": "2025-03-12T15:32:01.032Z"
   },
   {
    "duration": 260,
    "start_time": "2025-03-12T15:32:01.099Z"
   },
   {
    "duration": 31,
    "start_time": "2025-03-12T15:32:01.360Z"
   },
   {
    "duration": 140,
    "start_time": "2025-03-12T15:32:01.393Z"
   },
   {
    "duration": 18,
    "start_time": "2025-03-12T15:32:01.535Z"
   },
   {
    "duration": 57,
    "start_time": "2025-03-12T15:32:01.555Z"
   },
   {
    "duration": 22,
    "start_time": "2025-03-12T15:32:01.613Z"
   },
   {
    "duration": 11,
    "start_time": "2025-03-12T15:32:01.636Z"
   },
   {
    "duration": 22,
    "start_time": "2025-03-12T15:32:01.649Z"
   },
   {
    "duration": 9,
    "start_time": "2025-03-12T15:32:01.673Z"
   },
   {
    "duration": 12,
    "start_time": "2025-03-12T15:32:01.685Z"
   },
   {
    "duration": 4,
    "start_time": "2025-03-12T15:32:01.699Z"
   },
   {
    "duration": 4,
    "start_time": "2025-03-12T15:32:01.705Z"
   },
   {
    "duration": 31,
    "start_time": "2025-03-12T15:32:01.710Z"
   },
   {
    "duration": 32,
    "start_time": "2025-03-12T15:32:01.772Z"
   },
   {
    "duration": 49,
    "start_time": "2025-03-12T15:32:01.805Z"
   },
   {
    "duration": 14,
    "start_time": "2025-03-12T15:32:01.856Z"
   },
   {
    "duration": 40,
    "start_time": "2025-03-12T15:32:01.873Z"
   },
   {
    "duration": 9,
    "start_time": "2025-03-12T15:32:01.915Z"
   },
   {
    "duration": 62,
    "start_time": "2025-03-12T15:32:01.926Z"
   },
   {
    "duration": 57,
    "start_time": "2025-03-12T15:32:01.990Z"
   },
   {
    "duration": 112,
    "start_time": "2025-03-12T15:32:02.049Z"
   },
   {
    "duration": 78,
    "start_time": "2025-03-12T15:32:02.167Z"
   },
   {
    "duration": 45,
    "start_time": "2025-03-12T15:32:02.249Z"
   },
   {
    "duration": 10,
    "start_time": "2025-03-12T15:32:02.296Z"
   },
   {
    "duration": 189,
    "start_time": "2025-03-12T15:32:02.308Z"
   },
   {
    "duration": 6,
    "start_time": "2025-03-12T15:32:02.498Z"
   },
   {
    "duration": 16,
    "start_time": "2025-03-12T15:32:02.506Z"
   },
   {
    "duration": 13,
    "start_time": "2025-03-12T15:32:02.524Z"
   },
   {
    "duration": 41,
    "start_time": "2025-03-12T15:32:02.539Z"
   },
   {
    "duration": 29,
    "start_time": "2025-03-12T15:32:02.583Z"
   },
   {
    "duration": 82,
    "start_time": "2025-03-12T15:32:02.614Z"
   },
   {
    "duration": 16,
    "start_time": "2025-03-12T15:32:27.982Z"
   },
   {
    "duration": 14,
    "start_time": "2025-03-12T15:32:33.091Z"
   },
   {
    "duration": 15,
    "start_time": "2025-03-12T15:33:13.918Z"
   },
   {
    "duration": 14,
    "start_time": "2025-03-12T15:33:19.724Z"
   },
   {
    "duration": 21,
    "start_time": "2025-03-12T15:38:59.060Z"
   },
   {
    "duration": 18,
    "start_time": "2025-03-12T15:40:43.956Z"
   },
   {
    "duration": 15,
    "start_time": "2025-03-12T15:40:50.483Z"
   },
   {
    "duration": 13,
    "start_time": "2025-03-12T15:41:47.490Z"
   },
   {
    "duration": 10,
    "start_time": "2025-03-12T16:01:30.017Z"
   },
   {
    "duration": 7,
    "start_time": "2025-03-12T16:07:05.725Z"
   },
   {
    "duration": 9,
    "start_time": "2025-03-12T16:07:10.023Z"
   },
   {
    "duration": 118,
    "start_time": "2025-03-12T16:11:06.728Z"
   },
   {
    "duration": 246,
    "start_time": "2025-03-12T16:12:27.882Z"
   },
   {
    "duration": 242,
    "start_time": "2025-03-12T16:13:35.209Z"
   },
   {
    "duration": 245,
    "start_time": "2025-03-12T16:14:09.081Z"
   },
   {
    "duration": 240,
    "start_time": "2025-03-12T16:16:03.363Z"
   },
   {
    "duration": 179,
    "start_time": "2025-03-12T16:17:29.937Z"
   },
   {
    "duration": 258,
    "start_time": "2025-03-12T16:17:44.224Z"
   },
   {
    "duration": 157,
    "start_time": "2025-03-12T16:18:00.879Z"
   },
   {
    "duration": 170,
    "start_time": "2025-03-12T16:18:51.471Z"
   },
   {
    "duration": 179,
    "start_time": "2025-03-12T16:20:12.995Z"
   },
   {
    "duration": 165,
    "start_time": "2025-03-12T16:21:06.143Z"
   },
   {
    "duration": 182,
    "start_time": "2025-03-12T16:21:14.534Z"
   },
   {
    "duration": 185,
    "start_time": "2025-03-12T16:22:31.645Z"
   },
   {
    "duration": 203,
    "start_time": "2025-03-12T16:23:24.300Z"
   },
   {
    "duration": 178,
    "start_time": "2025-03-12T16:23:45.929Z"
   },
   {
    "duration": 208,
    "start_time": "2025-03-12T16:24:58.906Z"
   },
   {
    "duration": 11,
    "start_time": "2025-03-12T16:25:29.742Z"
   },
   {
    "duration": 196,
    "start_time": "2025-03-12T16:25:41.839Z"
   },
   {
    "duration": 255,
    "start_time": "2025-03-12T16:25:46.197Z"
   },
   {
    "duration": 15,
    "start_time": "2025-03-12T16:30:52.776Z"
   },
   {
    "duration": 13,
    "start_time": "2025-03-12T16:30:58.734Z"
   },
   {
    "duration": 14,
    "start_time": "2025-03-12T16:34:13.782Z"
   },
   {
    "duration": 12,
    "start_time": "2025-03-12T16:34:22.101Z"
   },
   {
    "duration": 183,
    "start_time": "2025-03-12T16:34:24.662Z"
   },
   {
    "duration": 3454,
    "start_time": "2025-03-12T20:09:11.381Z"
   },
   {
    "duration": 1396,
    "start_time": "2025-03-12T20:09:14.838Z"
   },
   {
    "duration": 1065,
    "start_time": "2025-03-12T20:09:16.236Z"
   },
   {
    "duration": 6,
    "start_time": "2025-03-12T20:09:17.303Z"
   },
   {
    "duration": 13,
    "start_time": "2025-03-12T20:09:17.310Z"
   },
   {
    "duration": 17,
    "start_time": "2025-03-12T20:09:17.324Z"
   },
   {
    "duration": 24,
    "start_time": "2025-03-12T20:09:17.342Z"
   },
   {
    "duration": 28,
    "start_time": "2025-03-12T20:09:17.368Z"
   },
   {
    "duration": 28,
    "start_time": "2025-03-12T20:09:17.398Z"
   },
   {
    "duration": 103,
    "start_time": "2025-03-12T20:09:17.429Z"
   },
   {
    "duration": 101,
    "start_time": "2025-03-12T20:09:17.534Z"
   },
   {
    "duration": 97,
    "start_time": "2025-03-12T20:09:17.637Z"
   },
   {
    "duration": 5,
    "start_time": "2025-03-12T20:09:17.735Z"
   },
   {
    "duration": 3,
    "start_time": "2025-03-12T20:09:17.757Z"
   },
   {
    "duration": 14,
    "start_time": "2025-03-12T20:09:17.761Z"
   },
   {
    "duration": 44,
    "start_time": "2025-03-12T20:09:17.776Z"
   },
   {
    "duration": 54,
    "start_time": "2025-03-12T20:09:17.822Z"
   },
   {
    "duration": 4,
    "start_time": "2025-03-12T20:09:17.878Z"
   },
   {
    "duration": 8,
    "start_time": "2025-03-12T20:09:17.883Z"
   },
   {
    "duration": 42,
    "start_time": "2025-03-12T20:09:17.893Z"
   },
   {
    "duration": 23,
    "start_time": "2025-03-12T20:09:17.937Z"
   },
   {
    "duration": 3,
    "start_time": "2025-03-12T20:09:17.962Z"
   },
   {
    "duration": 8,
    "start_time": "2025-03-12T20:09:17.966Z"
   },
   {
    "duration": 31,
    "start_time": "2025-03-12T20:09:17.975Z"
   },
   {
    "duration": 18,
    "start_time": "2025-03-12T20:09:18.007Z"
   },
   {
    "duration": 140,
    "start_time": "2025-03-12T20:09:18.026Z"
   },
   {
    "duration": 7,
    "start_time": "2025-03-12T20:09:18.168Z"
   },
   {
    "duration": 5,
    "start_time": "2025-03-12T20:09:18.179Z"
   },
   {
    "duration": 199,
    "start_time": "2025-03-12T20:09:18.185Z"
   },
   {
    "duration": 20,
    "start_time": "2025-03-12T20:09:18.386Z"
   },
   {
    "duration": 5,
    "start_time": "2025-03-12T20:09:18.407Z"
   },
   {
    "duration": 17,
    "start_time": "2025-03-12T20:09:18.414Z"
   },
   {
    "duration": 24,
    "start_time": "2025-03-12T20:09:18.433Z"
   },
   {
    "duration": 74,
    "start_time": "2025-03-12T20:09:18.459Z"
   },
   {
    "duration": 81,
    "start_time": "2025-03-12T20:09:18.535Z"
   },
   {
    "duration": 77,
    "start_time": "2025-03-12T20:09:18.619Z"
   },
   {
    "duration": 36,
    "start_time": "2025-03-12T20:09:18.697Z"
   },
   {
    "duration": 23,
    "start_time": "2025-03-12T20:09:18.734Z"
   },
   {
    "duration": 11,
    "start_time": "2025-03-12T20:09:18.759Z"
   },
   {
    "duration": 16,
    "start_time": "2025-03-12T20:09:18.771Z"
   },
   {
    "duration": 16,
    "start_time": "2025-03-12T20:09:18.789Z"
   },
   {
    "duration": 75,
    "start_time": "2025-03-12T20:09:18.808Z"
   },
   {
    "duration": 221,
    "start_time": "2025-03-12T20:09:18.885Z"
   },
   {
    "duration": 9,
    "start_time": "2025-03-12T20:09:19.107Z"
   },
   {
    "duration": 125,
    "start_time": "2025-03-12T20:09:19.118Z"
   },
   {
    "duration": 20,
    "start_time": "2025-03-12T20:09:19.245Z"
   },
   {
    "duration": 26,
    "start_time": "2025-03-12T20:09:19.267Z"
   },
   {
    "duration": 20,
    "start_time": "2025-03-12T20:09:19.295Z"
   },
   {
    "duration": 42,
    "start_time": "2025-03-12T20:09:19.317Z"
   },
   {
    "duration": 4,
    "start_time": "2025-03-12T20:09:19.360Z"
   },
   {
    "duration": 8,
    "start_time": "2025-03-12T20:09:19.366Z"
   },
   {
    "duration": 20,
    "start_time": "2025-03-12T20:09:19.376Z"
   },
   {
    "duration": 7,
    "start_time": "2025-03-12T20:09:19.397Z"
   },
   {
    "duration": 5,
    "start_time": "2025-03-12T20:09:19.405Z"
   },
   {
    "duration": 25,
    "start_time": "2025-03-12T20:09:19.411Z"
   },
   {
    "duration": 27,
    "start_time": "2025-03-12T20:09:19.438Z"
   },
   {
    "duration": 39,
    "start_time": "2025-03-12T20:09:19.467Z"
   },
   {
    "duration": 4,
    "start_time": "2025-03-12T20:09:19.507Z"
   },
   {
    "duration": 51,
    "start_time": "2025-03-12T20:09:19.513Z"
   },
   {
    "duration": 5,
    "start_time": "2025-03-12T20:09:19.565Z"
   },
   {
    "duration": 19,
    "start_time": "2025-03-12T20:09:19.571Z"
   },
   {
    "duration": 67,
    "start_time": "2025-03-12T20:09:19.592Z"
   },
   {
    "duration": 79,
    "start_time": "2025-03-12T20:09:19.661Z"
   },
   {
    "duration": 65,
    "start_time": "2025-03-12T20:09:19.741Z"
   },
   {
    "duration": 26,
    "start_time": "2025-03-12T20:09:19.808Z"
   },
   {
    "duration": 25,
    "start_time": "2025-03-12T20:09:19.836Z"
   },
   {
    "duration": 144,
    "start_time": "2025-03-12T20:09:19.863Z"
   },
   {
    "duration": 5,
    "start_time": "2025-03-12T20:09:20.009Z"
   },
   {
    "duration": 29,
    "start_time": "2025-03-12T20:09:20.016Z"
   },
   {
    "duration": 19,
    "start_time": "2025-03-12T20:09:20.047Z"
   },
   {
    "duration": 40,
    "start_time": "2025-03-12T20:09:20.067Z"
   },
   {
    "duration": 10,
    "start_time": "2025-03-12T20:09:20.109Z"
   },
   {
    "duration": 15,
    "start_time": "2025-03-12T20:09:20.121Z"
   },
   {
    "duration": 11,
    "start_time": "2025-03-12T20:09:20.137Z"
   },
   {
    "duration": 159,
    "start_time": "2025-03-12T20:09:20.149Z"
   },
   {
    "duration": 2272,
    "start_time": "2025-03-12T21:18:39.890Z"
   },
   {
    "duration": 1190,
    "start_time": "2025-03-12T21:18:42.165Z"
   },
   {
    "duration": 1084,
    "start_time": "2025-03-12T21:18:43.357Z"
   },
   {
    "duration": 5,
    "start_time": "2025-03-12T21:18:44.444Z"
   },
   {
    "duration": 23,
    "start_time": "2025-03-12T21:18:44.450Z"
   },
   {
    "duration": 10,
    "start_time": "2025-03-12T21:18:44.474Z"
   },
   {
    "duration": 7,
    "start_time": "2025-03-12T21:18:44.486Z"
   },
   {
    "duration": 4,
    "start_time": "2025-03-12T21:18:44.494Z"
   },
   {
    "duration": 48,
    "start_time": "2025-03-12T21:18:44.499Z"
   },
   {
    "duration": 106,
    "start_time": "2025-03-12T21:18:44.549Z"
   },
   {
    "duration": 90,
    "start_time": "2025-03-12T21:18:44.657Z"
   },
   {
    "duration": 90,
    "start_time": "2025-03-12T21:18:44.756Z"
   },
   {
    "duration": 6,
    "start_time": "2025-03-12T21:18:44.856Z"
   },
   {
    "duration": 21,
    "start_time": "2025-03-12T21:18:44.863Z"
   },
   {
    "duration": 27,
    "start_time": "2025-03-12T21:18:44.886Z"
   },
   {
    "duration": 46,
    "start_time": "2025-03-12T21:18:44.915Z"
   },
   {
    "duration": 35,
    "start_time": "2025-03-12T21:18:44.963Z"
   },
   {
    "duration": 110,
    "start_time": "2025-03-12T21:18:45.000Z"
   },
   {
    "duration": 50,
    "start_time": "2025-03-12T21:18:45.112Z"
   },
   {
    "duration": 38,
    "start_time": "2025-03-12T21:18:45.165Z"
   },
   {
    "duration": 22,
    "start_time": "2025-03-12T21:18:45.205Z"
   },
   {
    "duration": 15,
    "start_time": "2025-03-12T21:18:45.229Z"
   },
   {
    "duration": 21,
    "start_time": "2025-03-12T21:18:45.245Z"
   },
   {
    "duration": 46,
    "start_time": "2025-03-12T21:18:45.268Z"
   },
   {
    "duration": 18,
    "start_time": "2025-03-12T21:18:45.315Z"
   },
   {
    "duration": 79,
    "start_time": "2025-03-12T21:18:45.335Z"
   },
   {
    "duration": 7,
    "start_time": "2025-03-12T21:18:45.415Z"
   },
   {
    "duration": 18,
    "start_time": "2025-03-12T21:18:45.426Z"
   },
   {
    "duration": 216,
    "start_time": "2025-03-12T21:18:45.445Z"
   },
   {
    "duration": 19,
    "start_time": "2025-03-12T21:18:45.662Z"
   },
   {
    "duration": 17,
    "start_time": "2025-03-12T21:18:45.682Z"
   },
   {
    "duration": 9,
    "start_time": "2025-03-12T21:18:45.700Z"
   },
   {
    "duration": 13,
    "start_time": "2025-03-12T21:18:45.710Z"
   },
   {
    "duration": 76,
    "start_time": "2025-03-12T21:18:45.724Z"
   },
   {
    "duration": 77,
    "start_time": "2025-03-12T21:18:45.802Z"
   },
   {
    "duration": 33,
    "start_time": "2025-03-12T21:18:45.881Z"
   },
   {
    "duration": 46,
    "start_time": "2025-03-12T21:18:45.916Z"
   },
   {
    "duration": 11,
    "start_time": "2025-03-12T21:18:45.963Z"
   },
   {
    "duration": 11,
    "start_time": "2025-03-12T21:18:45.975Z"
   },
   {
    "duration": 15,
    "start_time": "2025-03-12T21:18:45.987Z"
   },
   {
    "duration": 20,
    "start_time": "2025-03-12T21:18:46.004Z"
   },
   {
    "duration": 63,
    "start_time": "2025-03-12T21:18:46.025Z"
   },
   {
    "duration": 218,
    "start_time": "2025-03-12T21:18:46.089Z"
   },
   {
    "duration": 7,
    "start_time": "2025-03-12T21:18:46.308Z"
   },
   {
    "duration": 125,
    "start_time": "2025-03-12T21:18:46.317Z"
   },
   {
    "duration": 20,
    "start_time": "2025-03-12T21:18:46.443Z"
   },
   {
    "duration": 24,
    "start_time": "2025-03-12T21:18:46.464Z"
   },
   {
    "duration": 21,
    "start_time": "2025-03-12T21:18:46.490Z"
   },
   {
    "duration": 38,
    "start_time": "2025-03-12T21:18:46.513Z"
   },
   {
    "duration": 19,
    "start_time": "2025-03-12T21:18:46.553Z"
   },
   {
    "duration": 23,
    "start_time": "2025-03-12T21:18:46.573Z"
   },
   {
    "duration": 24,
    "start_time": "2025-03-12T21:18:46.598Z"
   },
   {
    "duration": 4,
    "start_time": "2025-03-12T21:18:46.623Z"
   },
   {
    "duration": 10,
    "start_time": "2025-03-12T21:18:46.628Z"
   },
   {
    "duration": 30,
    "start_time": "2025-03-12T21:18:46.640Z"
   },
   {
    "duration": 18,
    "start_time": "2025-03-12T21:18:46.672Z"
   },
   {
    "duration": 40,
    "start_time": "2025-03-12T21:18:46.691Z"
   },
   {
    "duration": 3,
    "start_time": "2025-03-12T21:18:46.732Z"
   },
   {
    "duration": 49,
    "start_time": "2025-03-12T21:18:46.737Z"
   },
   {
    "duration": 5,
    "start_time": "2025-03-12T21:18:46.788Z"
   },
   {
    "duration": 22,
    "start_time": "2025-03-12T21:18:46.794Z"
   },
   {
    "duration": 68,
    "start_time": "2025-03-12T21:18:46.817Z"
   },
   {
    "duration": 90,
    "start_time": "2025-03-12T21:18:46.886Z"
   },
   {
    "duration": 56,
    "start_time": "2025-03-12T21:18:46.978Z"
   },
   {
    "duration": 45,
    "start_time": "2025-03-12T21:18:47.036Z"
   },
   {
    "duration": 9,
    "start_time": "2025-03-12T21:18:47.083Z"
   },
   {
    "duration": 161,
    "start_time": "2025-03-12T21:18:47.093Z"
   },
   {
    "duration": 6,
    "start_time": "2025-03-12T21:18:47.257Z"
   },
   {
    "duration": 9,
    "start_time": "2025-03-12T21:18:47.265Z"
   },
   {
    "duration": 9,
    "start_time": "2025-03-12T21:18:47.276Z"
   },
   {
    "duration": 14,
    "start_time": "2025-03-12T21:18:47.286Z"
   },
   {
    "duration": 8,
    "start_time": "2025-03-12T21:18:47.301Z"
   },
   {
    "duration": 13,
    "start_time": "2025-03-12T21:18:47.310Z"
   },
   {
    "duration": 11,
    "start_time": "2025-03-12T21:18:47.357Z"
   },
   {
    "duration": 165,
    "start_time": "2025-03-12T21:18:47.369Z"
   },
   {
    "duration": 66,
    "start_time": "2025-03-13T09:18:05.967Z"
   },
   {
    "duration": 48,
    "start_time": "2025-03-13T09:18:53.853Z"
   },
   {
    "duration": 3531,
    "start_time": "2025-03-13T09:19:00.393Z"
   },
   {
    "duration": 1500,
    "start_time": "2025-03-13T09:19:03.927Z"
   },
   {
    "duration": 1295,
    "start_time": "2025-03-13T09:19:05.428Z"
   },
   {
    "duration": 5,
    "start_time": "2025-03-13T09:19:06.726Z"
   },
   {
    "duration": 24,
    "start_time": "2025-03-13T09:19:06.733Z"
   },
   {
    "duration": 14,
    "start_time": "2025-03-13T09:19:06.759Z"
   },
   {
    "duration": 43,
    "start_time": "2025-03-13T09:19:06.776Z"
   },
   {
    "duration": 21,
    "start_time": "2025-03-13T09:19:06.820Z"
   },
   {
    "duration": 27,
    "start_time": "2025-03-13T09:19:06.843Z"
   },
   {
    "duration": 155,
    "start_time": "2025-03-13T09:19:06.873Z"
   },
   {
    "duration": 100,
    "start_time": "2025-03-13T09:19:07.030Z"
   },
   {
    "duration": 117,
    "start_time": "2025-03-13T09:19:07.132Z"
   },
   {
    "duration": 8,
    "start_time": "2025-03-13T09:19:07.252Z"
   },
   {
    "duration": 38,
    "start_time": "2025-03-13T09:19:07.262Z"
   },
   {
    "duration": 70,
    "start_time": "2025-03-13T09:19:07.303Z"
   },
   {
    "duration": 76,
    "start_time": "2025-03-13T09:19:07.376Z"
   },
   {
    "duration": 37,
    "start_time": "2025-03-13T09:19:07.453Z"
   },
   {
    "duration": 33,
    "start_time": "2025-03-13T09:19:07.504Z"
   },
   {
    "duration": 28,
    "start_time": "2025-03-13T09:19:07.539Z"
   },
   {
    "duration": 34,
    "start_time": "2025-03-13T09:19:07.569Z"
   },
   {
    "duration": 26,
    "start_time": "2025-03-13T09:19:07.604Z"
   },
   {
    "duration": 34,
    "start_time": "2025-03-13T09:19:07.632Z"
   },
   {
    "duration": 35,
    "start_time": "2025-03-13T09:19:07.668Z"
   },
   {
    "duration": 59,
    "start_time": "2025-03-13T09:19:07.705Z"
   },
   {
    "duration": 24,
    "start_time": "2025-03-13T09:19:07.766Z"
   },
   {
    "duration": 90,
    "start_time": "2025-03-13T09:19:07.792Z"
   },
   {
    "duration": 12,
    "start_time": "2025-03-13T09:19:07.884Z"
   },
   {
    "duration": 15,
    "start_time": "2025-03-13T09:19:07.901Z"
   },
   {
    "duration": 203,
    "start_time": "2025-03-13T09:19:07.917Z"
   },
   {
    "duration": 19,
    "start_time": "2025-03-13T09:19:08.122Z"
   },
   {
    "duration": 26,
    "start_time": "2025-03-13T09:19:08.143Z"
   },
   {
    "duration": 15,
    "start_time": "2025-03-13T09:19:08.171Z"
   },
   {
    "duration": 30,
    "start_time": "2025-03-13T09:19:08.187Z"
   },
   {
    "duration": 84,
    "start_time": "2025-03-13T09:19:08.218Z"
   },
   {
    "duration": 74,
    "start_time": "2025-03-13T09:19:08.303Z"
   },
   {
    "duration": 41,
    "start_time": "2025-03-13T09:19:08.379Z"
   },
   {
    "duration": 49,
    "start_time": "2025-03-13T09:19:08.422Z"
   },
   {
    "duration": 12,
    "start_time": "2025-03-13T09:19:08.472Z"
   },
   {
    "duration": 26,
    "start_time": "2025-03-13T09:19:08.486Z"
   },
   {
    "duration": 25,
    "start_time": "2025-03-13T09:19:08.513Z"
   },
   {
    "duration": 55,
    "start_time": "2025-03-13T09:19:08.540Z"
   },
   {
    "duration": 46,
    "start_time": "2025-03-13T09:19:08.597Z"
   },
   {
    "duration": 244,
    "start_time": "2025-03-13T09:19:08.645Z"
   },
   {
    "duration": 19,
    "start_time": "2025-03-13T09:19:08.891Z"
   },
   {
    "duration": 132,
    "start_time": "2025-03-13T09:19:08.912Z"
   },
   {
    "duration": 17,
    "start_time": "2025-03-13T09:19:09.045Z"
   },
   {
    "duration": 42,
    "start_time": "2025-03-13T09:19:09.064Z"
   },
   {
    "duration": 23,
    "start_time": "2025-03-13T09:19:09.108Z"
   },
   {
    "duration": 10,
    "start_time": "2025-03-13T09:19:09.132Z"
   },
   {
    "duration": 16,
    "start_time": "2025-03-13T09:19:09.144Z"
   },
   {
    "duration": 20,
    "start_time": "2025-03-13T09:19:09.162Z"
   },
   {
    "duration": 32,
    "start_time": "2025-03-13T09:19:09.184Z"
   },
   {
    "duration": 17,
    "start_time": "2025-03-13T09:19:09.218Z"
   },
   {
    "duration": 34,
    "start_time": "2025-03-13T09:19:09.236Z"
   },
   {
    "duration": 67,
    "start_time": "2025-03-13T09:19:09.272Z"
   },
   {
    "duration": 32,
    "start_time": "2025-03-13T09:19:09.341Z"
   },
   {
    "duration": 68,
    "start_time": "2025-03-13T09:19:09.375Z"
   },
   {
    "duration": 5,
    "start_time": "2025-03-13T09:19:09.445Z"
   },
   {
    "duration": 53,
    "start_time": "2025-03-13T09:19:09.452Z"
   },
   {
    "duration": 16,
    "start_time": "2025-03-13T09:19:09.507Z"
   },
   {
    "duration": 36,
    "start_time": "2025-03-13T09:19:09.525Z"
   },
   {
    "duration": 71,
    "start_time": "2025-03-13T09:19:09.563Z"
   },
   {
    "duration": 96,
    "start_time": "2025-03-13T09:19:09.636Z"
   },
   {
    "duration": 80,
    "start_time": "2025-03-13T09:19:09.734Z"
   },
   {
    "duration": 40,
    "start_time": "2025-03-13T09:19:09.816Z"
   },
   {
    "duration": 17,
    "start_time": "2025-03-13T09:19:09.859Z"
   },
   {
    "duration": 183,
    "start_time": "2025-03-13T09:19:09.878Z"
   },
   {
    "duration": 6,
    "start_time": "2025-03-13T09:19:10.063Z"
   },
   {
    "duration": 21,
    "start_time": "2025-03-13T09:19:10.071Z"
   },
   {
    "duration": 11,
    "start_time": "2025-03-13T09:19:10.104Z"
   },
   {
    "duration": 19,
    "start_time": "2025-03-13T09:19:10.117Z"
   },
   {
    "duration": 9,
    "start_time": "2025-03-13T09:19:10.138Z"
   },
   {
    "duration": 160,
    "start_time": "2025-03-13T09:19:10.148Z"
   },
   {
    "duration": 0,
    "start_time": "2025-03-13T09:19:10.310Z"
   },
   {
    "duration": 0,
    "start_time": "2025-03-13T09:19:10.311Z"
   },
   {
    "duration": 2566,
    "start_time": "2025-03-13T09:43:39.261Z"
   },
   {
    "duration": 1237,
    "start_time": "2025-03-13T09:43:41.829Z"
   },
   {
    "duration": 1137,
    "start_time": "2025-03-13T09:43:43.068Z"
   },
   {
    "duration": 5,
    "start_time": "2025-03-13T09:43:44.208Z"
   },
   {
    "duration": 26,
    "start_time": "2025-03-13T09:43:44.214Z"
   },
   {
    "duration": 20,
    "start_time": "2025-03-13T09:43:44.242Z"
   },
   {
    "duration": 20,
    "start_time": "2025-03-13T09:43:44.264Z"
   },
   {
    "duration": 22,
    "start_time": "2025-03-13T09:43:44.285Z"
   },
   {
    "duration": 39,
    "start_time": "2025-03-13T09:43:44.308Z"
   },
   {
    "duration": 123,
    "start_time": "2025-03-13T09:43:44.349Z"
   },
   {
    "duration": 99,
    "start_time": "2025-03-13T09:43:44.473Z"
   },
   {
    "duration": 96,
    "start_time": "2025-03-13T09:43:44.574Z"
   },
   {
    "duration": 5,
    "start_time": "2025-03-13T09:43:44.672Z"
   },
   {
    "duration": 13,
    "start_time": "2025-03-13T09:43:44.679Z"
   },
   {
    "duration": 15,
    "start_time": "2025-03-13T09:43:44.703Z"
   },
   {
    "duration": 54,
    "start_time": "2025-03-13T09:43:44.720Z"
   },
   {
    "duration": 37,
    "start_time": "2025-03-13T09:43:44.776Z"
   },
   {
    "duration": 14,
    "start_time": "2025-03-13T09:43:44.815Z"
   },
   {
    "duration": 21,
    "start_time": "2025-03-13T09:43:44.831Z"
   },
   {
    "duration": 19,
    "start_time": "2025-03-13T09:43:44.854Z"
   },
   {
    "duration": 15,
    "start_time": "2025-03-13T09:43:44.875Z"
   },
   {
    "duration": 13,
    "start_time": "2025-03-13T09:43:44.892Z"
   },
   {
    "duration": 11,
    "start_time": "2025-03-13T09:43:44.906Z"
   },
   {
    "duration": 25,
    "start_time": "2025-03-13T09:43:44.919Z"
   },
   {
    "duration": 35,
    "start_time": "2025-03-13T09:43:44.945Z"
   },
   {
    "duration": 91,
    "start_time": "2025-03-13T09:43:44.981Z"
   },
   {
    "duration": 7,
    "start_time": "2025-03-13T09:43:45.073Z"
   },
   {
    "duration": 26,
    "start_time": "2025-03-13T09:43:45.084Z"
   },
   {
    "duration": 225,
    "start_time": "2025-03-13T09:43:45.112Z"
   },
   {
    "duration": 21,
    "start_time": "2025-03-13T09:43:45.338Z"
   },
   {
    "duration": 16,
    "start_time": "2025-03-13T09:43:45.361Z"
   },
   {
    "duration": 15,
    "start_time": "2025-03-13T09:43:45.378Z"
   },
   {
    "duration": 18,
    "start_time": "2025-03-13T09:43:45.394Z"
   },
   {
    "duration": 110,
    "start_time": "2025-03-13T09:43:45.413Z"
   },
   {
    "duration": 82,
    "start_time": "2025-03-13T09:43:45.525Z"
   },
   {
    "duration": 38,
    "start_time": "2025-03-13T09:43:45.608Z"
   },
   {
    "duration": 61,
    "start_time": "2025-03-13T09:43:45.647Z"
   },
   {
    "duration": 11,
    "start_time": "2025-03-13T09:43:45.710Z"
   },
   {
    "duration": 24,
    "start_time": "2025-03-13T09:43:45.722Z"
   },
   {
    "duration": 22,
    "start_time": "2025-03-13T09:43:45.748Z"
   },
   {
    "duration": 17,
    "start_time": "2025-03-13T09:43:45.771Z"
   },
   {
    "duration": 53,
    "start_time": "2025-03-13T09:43:45.790Z"
   },
   {
    "duration": 255,
    "start_time": "2025-03-13T09:43:45.845Z"
   },
   {
    "duration": 8,
    "start_time": "2025-03-13T09:43:46.104Z"
   },
   {
    "duration": 130,
    "start_time": "2025-03-13T09:43:46.114Z"
   },
   {
    "duration": 16,
    "start_time": "2025-03-13T09:43:46.246Z"
   },
   {
    "duration": 40,
    "start_time": "2025-03-13T09:43:46.264Z"
   },
   {
    "duration": 22,
    "start_time": "2025-03-13T09:43:46.305Z"
   },
   {
    "duration": 10,
    "start_time": "2025-03-13T09:43:46.328Z"
   },
   {
    "duration": 4,
    "start_time": "2025-03-13T09:43:46.339Z"
   },
   {
    "duration": 5,
    "start_time": "2025-03-13T09:43:46.345Z"
   },
   {
    "duration": 8,
    "start_time": "2025-03-13T09:43:46.352Z"
   },
   {
    "duration": 4,
    "start_time": "2025-03-13T09:43:46.361Z"
   },
   {
    "duration": 39,
    "start_time": "2025-03-13T09:43:46.367Z"
   },
   {
    "duration": 34,
    "start_time": "2025-03-13T09:43:46.408Z"
   },
   {
    "duration": 19,
    "start_time": "2025-03-13T09:43:46.443Z"
   },
   {
    "duration": 60,
    "start_time": "2025-03-13T09:43:46.464Z"
   },
   {
    "duration": 5,
    "start_time": "2025-03-13T09:43:46.525Z"
   },
   {
    "duration": 31,
    "start_time": "2025-03-13T09:43:46.531Z"
   },
   {
    "duration": 5,
    "start_time": "2025-03-13T09:43:46.564Z"
   },
   {
    "duration": 46,
    "start_time": "2025-03-13T09:43:46.570Z"
   },
   {
    "duration": 58,
    "start_time": "2025-03-13T09:43:46.617Z"
   },
   {
    "duration": 107,
    "start_time": "2025-03-13T09:43:46.677Z"
   },
   {
    "duration": 68,
    "start_time": "2025-03-13T09:43:46.785Z"
   },
   {
    "duration": 31,
    "start_time": "2025-03-13T09:43:46.856Z"
   },
   {
    "duration": 10,
    "start_time": "2025-03-13T09:43:46.903Z"
   },
   {
    "duration": 169,
    "start_time": "2025-03-13T09:43:46.914Z"
   },
   {
    "duration": 6,
    "start_time": "2025-03-13T09:43:47.085Z"
   },
   {
    "duration": 13,
    "start_time": "2025-03-13T09:43:47.092Z"
   },
   {
    "duration": 8,
    "start_time": "2025-03-13T09:43:47.107Z"
   },
   {
    "duration": 14,
    "start_time": "2025-03-13T09:43:47.117Z"
   },
   {
    "duration": 8,
    "start_time": "2025-03-13T09:43:47.132Z"
   },
   {
    "duration": 138,
    "start_time": "2025-03-13T09:43:47.141Z"
   },
   {
    "duration": 0,
    "start_time": "2025-03-13T09:43:47.281Z"
   },
   {
    "duration": 0,
    "start_time": "2025-03-13T09:43:47.282Z"
   },
   {
    "duration": 13,
    "start_time": "2025-03-13T09:44:28.857Z"
   },
   {
    "duration": 13,
    "start_time": "2025-03-13T09:52:08.548Z"
   },
   {
    "duration": 9,
    "start_time": "2025-03-13T09:52:24.957Z"
   },
   {
    "duration": 13,
    "start_time": "2025-03-13T09:54:28.751Z"
   },
   {
    "duration": 15,
    "start_time": "2025-03-13T09:58:18.159Z"
   }
  ],
  "colab": {
   "provenance": []
  },
  "kernelspec": {
   "display_name": "Python 3 (ipykernel)",
   "language": "python",
   "name": "python3"
  },
  "language_info": {
   "codemirror_mode": {
    "name": "ipython",
    "version": 3
   },
   "file_extension": ".py",
   "mimetype": "text/x-python",
   "name": "python",
   "nbconvert_exporter": "python",
   "pygments_lexer": "ipython3",
   "version": "3.9.7"
  },
  "toc": {
   "base_numbering": 1,
   "nav_menu": {},
   "number_sections": false,
   "sideBar": true,
   "skip_h1_title": false,
   "title_cell": "Table of Contents",
   "title_sidebar": "Contents",
   "toc_cell": false,
   "toc_position": {},
   "toc_section_display": true,
   "toc_window_display": false
  }
 },
 "nbformat": 4,
 "nbformat_minor": 1
}
