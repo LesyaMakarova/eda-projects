{
 "cells": [
  {
   "cell_type": "markdown",
   "id": "e06910dd",
   "metadata": {
    "id": "e06910dd"
   },
   "source": [
    "# Анализ рынка заведений общественного питания в Москве.\n",
    "\n",
    "- Автор: Олеся Макарова\n",
    "\n",
    "## Цели и задачи проекта\n",
    "\n",
    "**Цель:** провести анализ рынка заведений общественного питания Москвы для выявления ключевых тенденций. \n",
    "\n",
    "**Задачи:**\n",
    "1. Загрузить данные и познакомиться с их содержимым.\n",
    "2. Провести предобработку данных.\n",
    "3. Провести исследовательский анализ данных:\n",
    "    - выявить категории заведений и посчитать количество заведений в разрезе этих категорий;\n",
    "    - изучить распределение количества заведений по административным районам Москвы, и отдельно распределение заведений каждой категории в Центральном административном округе Москвы;\n",
    "    - изучить соотношение сетевых и несетевых заведений в целом по всем данным и в разрезе категорий заведения;\n",
    "    - исследовать количество посадочных мест в заведениях;\n",
    "    - исследовать рейтинг заведений;\n",
    "    - изучить, с какими данными показывают самую сильную корреляцию рейтинги заведений;\n",
    "    - выявить топ-15 популярных сетей в Москве;\n",
    "    - изучить вариацию среднего чека заведения (столбец middle_avg_bill) в зависимости от района Москвы.\n",
    "4. Сформулировать выводы по проведённому анализу.\n",
    "\n",
    "\n",
    "\n",
    "## Описание данных\n",
    "\n",
    "Для анализа поступили данные о заведениях общественного питания Москвы, собранные на основе данных сервисов Яндекс Карты и Яндекс Бизнес на лето 2022 года. Информация в данных могла быть добавлена пользователями или найдена в общедоступных источниках, и носит исключительно справочный характер.\n",
    "\n",
    "Данные состоят из двух датасетов:\n",
    "\n",
    "- `/datasets/rest_info.csv` - содержит информацию о заведениях общественного питания\n",
    "- `/datasets/rest_price.csv`-  cодержит информацию о среднем чеке в заведениях общественного питания:\n",
    "\n",
    "**Описание датасета `/datasets/rest_info.csv`:**\n",
    "- `name` — название заведения;  \n",
    "- `address` — адрес заведения;  \n",
    "- `district` — административный район, в котором находится заведение, например Центральный административный округ;  \n",
    "- `category` — категория заведения, например «кафе», «пиццерия» или «кофейня»;  \n",
    "- `hours` — информация о днях и часах работы;  \n",
    "- `rating` — рейтинг заведения по оценкам пользователей в Яндекс Картах (высшая оценка — 5.0);  \n",
    "- `chain` — число, выраженное 0 или 1, которое показывает, является ли заведение сетевым (для маленьких сетей могут встречаться ошибки):  \n",
    "  - `0` — заведение не является сетевым;  \n",
    "  - `1` — заведение является сетевым.  \n",
    "- `seats` — количество посадочных мест.  \n",
    "\n",
    "**Описание датасета `/datasets/rest_price.csv`:**\n",
    "\n",
    "- `price` — категория цен в заведении, например «средние», «ниже среднего», «выше среднего» и так далее;  \n",
    "- `avg_bill` — строка, которая хранит среднюю стоимость заказа в виде диапазона, например:  \n",
    "  - «Средний счёт: 1000–1500 ₽»;  \n",
    "  - «Цена чашки капучино: 130–220 ₽»;  \n",
    "  - «Цена бокала пива: 400–600 ₽»;  \n",
    "  - и так далее.  \n",
    "- `middle_avg_bill` — число с оценкой среднего чека, которое указано только для значений из столбца `avg_bill`, начинающихся с подстроки «Средний счёт»:  \n",
    "  - Если в строке указан ценовой диапазон из двух значений, в столбец войдёт медиана этих двух значений.  \n",
    "  - Если в строке указано одно число — цена без диапазона, то в столбец войдёт это число.  \n",
    "  - Если значения нет или оно не начинается с подстроки «Средний счёт», то в столбец ничего не войдёт.  \n",
    "- `middle_coffee_cup` — число с оценкой одной чашки капучино, которое указано только для значений из столбца `avg_bill`, начинающихся с подстроки «Цена одной чашки капучино»:  \n",
    "  - Если в строке указан ценовой диапазон из двух значений, в столбец войдёт медиана этих двух значений.  \n",
    "  - Если в строке указано одно число — цена без диапазона, то в столбец войдёт это число.  \n",
    "  - Если значения нет или оно не начинается с подстроки «Цена одной чашки капучино», то в столбец ничего не войдёт.  \n",
    "  \n",
    "  \n",
    "  ## Структура проекта\n",
    "\n",
    "1. Загрузка данных и знакомство с ними.\n",
    "2. Предобработка данных.\n",
    "3. Исследовательский анализ данных.\n",
    "4. Итоговые выводы."
   ]
  },
  {
   "cell_type": "markdown",
   "id": "6f7d21d6",
   "metadata": {
    "id": "6f7d21d6"
   },
   "source": [
    "## 1. Загрузка данных и знакомство с ними\n",
    "\n",
    "- **Загрузим необходимые библиотеки: pandas, numpy, matplotlib и seaborn, а также phik для построения матрицы корреляции.**"
   ]
  },
  {
   "cell_type": "code",
   "execution_count": 1,
   "id": "4d0079ba",
   "metadata": {
    "scrolled": true
   },
   "outputs": [
    {
     "name": "stdout",
     "output_type": "stream",
     "text": [
      "Requirement already satisfied: phik in /Users/olesyamakarova/opt/anaconda3/lib/python3.9/site-packages (0.12.4)\n",
      "Requirement already satisfied: scipy>=1.5.2 in /Users/olesyamakarova/opt/anaconda3/lib/python3.9/site-packages (from phik) (1.10.1)\n",
      "Requirement already satisfied: pandas>=0.25.1 in /Users/olesyamakarova/opt/anaconda3/lib/python3.9/site-packages (from phik) (1.3.4)\n",
      "Requirement already satisfied: numpy>=1.18.0 in /Users/olesyamakarova/opt/anaconda3/lib/python3.9/site-packages (from phik) (1.22.4)\n",
      "Requirement already satisfied: joblib>=0.14.1 in /Users/olesyamakarova/opt/anaconda3/lib/python3.9/site-packages (from phik) (1.1.0)\n",
      "Requirement already satisfied: matplotlib>=2.2.3 in /Users/olesyamakarova/opt/anaconda3/lib/python3.9/site-packages (from phik) (3.4.3)\n",
      "Requirement already satisfied: pillow>=6.2.0 in /Users/olesyamakarova/opt/anaconda3/lib/python3.9/site-packages (from matplotlib>=2.2.3->phik) (8.4.0)\n",
      "Requirement already satisfied: python-dateutil>=2.7 in /Users/olesyamakarova/opt/anaconda3/lib/python3.9/site-packages (from matplotlib>=2.2.3->phik) (2.8.2)\n",
      "Requirement already satisfied: cycler>=0.10 in /Users/olesyamakarova/opt/anaconda3/lib/python3.9/site-packages (from matplotlib>=2.2.3->phik) (0.10.0)\n",
      "Requirement already satisfied: kiwisolver>=1.0.1 in /Users/olesyamakarova/opt/anaconda3/lib/python3.9/site-packages (from matplotlib>=2.2.3->phik) (1.3.1)\n",
      "Requirement already satisfied: pyparsing>=2.2.1 in /Users/olesyamakarova/opt/anaconda3/lib/python3.9/site-packages (from matplotlib>=2.2.3->phik) (3.0.4)\n",
      "Requirement already satisfied: six in /Users/olesyamakarova/opt/anaconda3/lib/python3.9/site-packages (from cycler>=0.10->matplotlib>=2.2.3->phik) (1.16.0)\n",
      "Requirement already satisfied: pytz>=2017.3 in /Users/olesyamakarova/opt/anaconda3/lib/python3.9/site-packages (from pandas>=0.25.1->phik) (2021.3)\n"
     ]
    }
   ],
   "source": [
    "!pip install phik"
   ]
  },
  {
   "cell_type": "code",
   "execution_count": 2,
   "id": "16ca70c1",
   "metadata": {
    "scrolled": true
   },
   "outputs": [
    {
     "name": "stdout",
     "output_type": "stream",
     "text": [
      "Requirement already satisfied: jupyter-black in /Users/olesyamakarova/opt/anaconda3/lib/python3.9/site-packages (0.4.0)\n",
      "Requirement already satisfied: black[jupyter]>=21 in /Users/olesyamakarova/opt/anaconda3/lib/python3.9/site-packages (from jupyter-black) (25.1.0)\n",
      "Requirement already satisfied: mypy-extensions>=0.4.3 in /Users/olesyamakarova/opt/anaconda3/lib/python3.9/site-packages (from black[jupyter]>=21->jupyter-black) (0.4.3)\n",
      "Requirement already satisfied: tomli>=1.1.0 in /Users/olesyamakarova/opt/anaconda3/lib/python3.9/site-packages (from black[jupyter]>=21->jupyter-black) (2.2.1)\n",
      "Requirement already satisfied: typing-extensions>=4.0.1 in /Users/olesyamakarova/opt/anaconda3/lib/python3.9/site-packages (from black[jupyter]>=21->jupyter-black) (4.12.2)\n",
      "Requirement already satisfied: click>=8.0.0 in /Users/olesyamakarova/opt/anaconda3/lib/python3.9/site-packages (from black[jupyter]>=21->jupyter-black) (8.0.3)\n",
      "Requirement already satisfied: pathspec>=0.9.0 in /Users/olesyamakarova/opt/anaconda3/lib/python3.9/site-packages (from black[jupyter]>=21->jupyter-black) (0.12.1)\n",
      "Requirement already satisfied: platformdirs>=2 in /Users/olesyamakarova/opt/anaconda3/lib/python3.9/site-packages (from black[jupyter]>=21->jupyter-black) (4.3.6)\n",
      "Requirement already satisfied: packaging>=22.0 in /Users/olesyamakarova/opt/anaconda3/lib/python3.9/site-packages (from black[jupyter]>=21->jupyter-black) (24.2)\n",
      "Requirement already satisfied: ipython>=7.8.0 in /Users/olesyamakarova/opt/anaconda3/lib/python3.9/site-packages (from black[jupyter]>=21->jupyter-black) (7.29.0)\n",
      "Requirement already satisfied: tokenize-rt>=3.2.0 in /Users/olesyamakarova/opt/anaconda3/lib/python3.9/site-packages (from black[jupyter]>=21->jupyter-black) (6.1.0)\n",
      "Requirement already satisfied: backcall in /Users/olesyamakarova/opt/anaconda3/lib/python3.9/site-packages (from ipython>=7.8.0->black[jupyter]>=21->jupyter-black) (0.2.0)\n",
      "Requirement already satisfied: appnope in /Users/olesyamakarova/opt/anaconda3/lib/python3.9/site-packages (from ipython>=7.8.0->black[jupyter]>=21->jupyter-black) (0.1.2)\n",
      "Requirement already satisfied: traitlets>=4.2 in /Users/olesyamakarova/opt/anaconda3/lib/python3.9/site-packages (from ipython>=7.8.0->black[jupyter]>=21->jupyter-black) (5.1.0)\n",
      "Requirement already satisfied: jedi>=0.16 in /Users/olesyamakarova/opt/anaconda3/lib/python3.9/site-packages (from ipython>=7.8.0->black[jupyter]>=21->jupyter-black) (0.18.0)\n",
      "Requirement already satisfied: prompt-toolkit!=3.0.0,!=3.0.1,<3.1.0,>=2.0.0 in /Users/olesyamakarova/opt/anaconda3/lib/python3.9/site-packages (from ipython>=7.8.0->black[jupyter]>=21->jupyter-black) (3.0.20)\n",
      "Requirement already satisfied: matplotlib-inline in /Users/olesyamakarova/opt/anaconda3/lib/python3.9/site-packages (from ipython>=7.8.0->black[jupyter]>=21->jupyter-black) (0.1.2)\n",
      "Requirement already satisfied: decorator in /Users/olesyamakarova/opt/anaconda3/lib/python3.9/site-packages (from ipython>=7.8.0->black[jupyter]>=21->jupyter-black) (5.1.0)\n",
      "Requirement already satisfied: pickleshare in /Users/olesyamakarova/opt/anaconda3/lib/python3.9/site-packages (from ipython>=7.8.0->black[jupyter]>=21->jupyter-black) (0.7.5)\n",
      "Requirement already satisfied: pygments in /Users/olesyamakarova/opt/anaconda3/lib/python3.9/site-packages (from ipython>=7.8.0->black[jupyter]>=21->jupyter-black) (2.10.0)\n",
      "Requirement already satisfied: pexpect>4.3 in /Users/olesyamakarova/opt/anaconda3/lib/python3.9/site-packages (from ipython>=7.8.0->black[jupyter]>=21->jupyter-black) (4.8.0)\n",
      "Requirement already satisfied: setuptools>=18.5 in /Users/olesyamakarova/opt/anaconda3/lib/python3.9/site-packages (from ipython>=7.8.0->black[jupyter]>=21->jupyter-black) (58.0.4)\n",
      "Requirement already satisfied: parso<0.9.0,>=0.8.0 in /Users/olesyamakarova/opt/anaconda3/lib/python3.9/site-packages (from jedi>=0.16->ipython>=7.8.0->black[jupyter]>=21->jupyter-black) (0.8.2)\n",
      "Requirement already satisfied: ptyprocess>=0.5 in /Users/olesyamakarova/opt/anaconda3/lib/python3.9/site-packages (from pexpect>4.3->ipython>=7.8.0->black[jupyter]>=21->jupyter-black) (0.7.0)\n",
      "Requirement already satisfied: wcwidth in /Users/olesyamakarova/opt/anaconda3/lib/python3.9/site-packages (from prompt-toolkit!=3.0.0,!=3.0.1,<3.1.0,>=2.0.0->ipython>=7.8.0->black[jupyter]>=21->jupyter-black) (0.2.5)\n"
     ]
    }
   ],
   "source": [
    "!pip install jupyter-black"
   ]
  },
  {
   "cell_type": "code",
   "execution_count": 3,
   "id": "3a4398aa",
   "metadata": {},
   "outputs": [],
   "source": [
    "import jupyter_black\n",
    "\n",
    "jupyter_black.load()"
   ]
  },
  {
   "cell_type": "code",
   "execution_count": 4,
   "id": "05faf34b",
   "metadata": {
    "id": "05faf34b"
   },
   "outputs": [],
   "source": [
    "import pandas as pd\n",
    "import numpy as np\n",
    "import seaborn as sns\n",
    "import matplotlib.pyplot as plt\n",
    "import warnings\n",
    "\n",
    "from matplotlib.colors import (\n",
    "    LinearSegmentedColormap,\n",
    ")\n",
    "\n",
    "# Загружаем библиотеку для расчёта коэффициента корреляции phi_k\n",
    "from phik import phik_matrix\n",
    "\n",
    "warnings.filterwarnings(\"ignore\")"
   ]
  },
  {
   "cell_type": "markdown",
   "id": "93b79858",
   "metadata": {
    "id": "ce87c1db"
   },
   "source": [
    "**Загрузим датасеты:`/datasets/rest_info.csv` и `/datasets/rest_price.csv`. Данные датасетов сохраним в двух переменных: `info_df` и `price_df`.**"
   ]
  },
  {
   "cell_type": "code",
   "execution_count": 5,
   "id": "90fee493",
   "metadata": {
    "id": "90fee493"
   },
   "outputs": [],
   "source": [
    "df_info = pd.read_csv(\"https://code.s3.yandex.net/datasets/rest_info.csv\")\n",
    "df_price = pd.read_csv(\"https://code.s3.yandex.net/datasets/rest_price.csv\")"
   ]
  },
  {
   "cell_type": "markdown",
   "id": "18b5dfff",
   "metadata": {
    "id": "18b5dfff"
   },
   "source": [
    "- **Познакомимся с данными датасета rest_info.csv  — выведем первые пять строк и общую информацию о датафрейме:**"
   ]
  },
  {
   "cell_type": "code",
   "execution_count": 6,
   "id": "f68a7419",
   "metadata": {
    "id": "f68a7419"
   },
   "outputs": [
    {
     "data": {
      "text/html": [
       "<div>\n",
       "<style scoped>\n",
       "    .dataframe tbody tr th:only-of-type {\n",
       "        vertical-align: middle;\n",
       "    }\n",
       "\n",
       "    .dataframe tbody tr th {\n",
       "        vertical-align: top;\n",
       "    }\n",
       "\n",
       "    .dataframe thead th {\n",
       "        text-align: right;\n",
       "    }\n",
       "</style>\n",
       "<table border=\"1\" class=\"dataframe\">\n",
       "  <thead>\n",
       "    <tr style=\"text-align: right;\">\n",
       "      <th></th>\n",
       "      <th>id</th>\n",
       "      <th>name</th>\n",
       "      <th>category</th>\n",
       "      <th>address</th>\n",
       "      <th>district</th>\n",
       "      <th>hours</th>\n",
       "      <th>rating</th>\n",
       "      <th>chain</th>\n",
       "      <th>seats</th>\n",
       "    </tr>\n",
       "  </thead>\n",
       "  <tbody>\n",
       "    <tr>\n",
       "      <th>0</th>\n",
       "      <td>0c3e3439a8c64ea5bf6ecd6ca6ae19f0</td>\n",
       "      <td>WoWфли</td>\n",
       "      <td>кафе</td>\n",
       "      <td>Москва, улица Дыбенко, 7/1</td>\n",
       "      <td>Северный административный округ</td>\n",
       "      <td>ежедневно, 10:00–22:00</td>\n",
       "      <td>5.0</td>\n",
       "      <td>0</td>\n",
       "      <td>NaN</td>\n",
       "    </tr>\n",
       "    <tr>\n",
       "      <th>1</th>\n",
       "      <td>045780ada3474c57a2112e505d74b633</td>\n",
       "      <td>Четыре комнаты</td>\n",
       "      <td>ресторан</td>\n",
       "      <td>Москва, улица Дыбенко, 36, корп. 1</td>\n",
       "      <td>Северный административный округ</td>\n",
       "      <td>ежедневно, 10:00–22:00</td>\n",
       "      <td>4.5</td>\n",
       "      <td>0</td>\n",
       "      <td>4.0</td>\n",
       "    </tr>\n",
       "    <tr>\n",
       "      <th>2</th>\n",
       "      <td>1070b6b59144425896c65889347fcff6</td>\n",
       "      <td>Хазри</td>\n",
       "      <td>кафе</td>\n",
       "      <td>Москва, Клязьминская улица, 15</td>\n",
       "      <td>Северный административный округ</td>\n",
       "      <td>пн-чт 11:00–02:00; пт,сб 11:00–05:00; вс 11:00...</td>\n",
       "      <td>4.6</td>\n",
       "      <td>0</td>\n",
       "      <td>45.0</td>\n",
       "    </tr>\n",
       "    <tr>\n",
       "      <th>3</th>\n",
       "      <td>03ac7cd772104f65b58b349dc59f03ee</td>\n",
       "      <td>Dormouse Coffee Shop</td>\n",
       "      <td>кофейня</td>\n",
       "      <td>Москва, улица Маршала Федоренко, 12</td>\n",
       "      <td>Северный административный округ</td>\n",
       "      <td>ежедневно, 09:00–22:00</td>\n",
       "      <td>5.0</td>\n",
       "      <td>0</td>\n",
       "      <td>NaN</td>\n",
       "    </tr>\n",
       "    <tr>\n",
       "      <th>4</th>\n",
       "      <td>a163aada139c4c7f87b0b1c0b466a50f</td>\n",
       "      <td>Иль Марко</td>\n",
       "      <td>пиццерия</td>\n",
       "      <td>Москва, Правобережная улица, 1Б</td>\n",
       "      <td>Северный административный округ</td>\n",
       "      <td>ежедневно, 10:00–22:00</td>\n",
       "      <td>5.0</td>\n",
       "      <td>1</td>\n",
       "      <td>148.0</td>\n",
       "    </tr>\n",
       "  </tbody>\n",
       "</table>\n",
       "</div>"
      ],
      "text/plain": [
       "                                 id                  name  category  \\\n",
       "0  0c3e3439a8c64ea5bf6ecd6ca6ae19f0                WoWфли      кафе   \n",
       "1  045780ada3474c57a2112e505d74b633        Четыре комнаты  ресторан   \n",
       "2  1070b6b59144425896c65889347fcff6                 Хазри      кафе   \n",
       "3  03ac7cd772104f65b58b349dc59f03ee  Dormouse Coffee Shop   кофейня   \n",
       "4  a163aada139c4c7f87b0b1c0b466a50f             Иль Марко  пиццерия   \n",
       "\n",
       "                               address                         district  \\\n",
       "0           Москва, улица Дыбенко, 7/1  Северный административный округ   \n",
       "1   Москва, улица Дыбенко, 36, корп. 1  Северный административный округ   \n",
       "2       Москва, Клязьминская улица, 15  Северный административный округ   \n",
       "3  Москва, улица Маршала Федоренко, 12  Северный административный округ   \n",
       "4      Москва, Правобережная улица, 1Б  Северный административный округ   \n",
       "\n",
       "                                               hours  rating  chain  seats  \n",
       "0                             ежедневно, 10:00–22:00     5.0      0    NaN  \n",
       "1                             ежедневно, 10:00–22:00     4.5      0    4.0  \n",
       "2  пн-чт 11:00–02:00; пт,сб 11:00–05:00; вс 11:00...     4.6      0   45.0  \n",
       "3                             ежедневно, 09:00–22:00     5.0      0    NaN  \n",
       "4                             ежедневно, 10:00–22:00     5.0      1  148.0  "
      ]
     },
     "execution_count": 6,
     "metadata": {},
     "output_type": "execute_result"
    }
   ],
   "source": [
    "df_info.head()"
   ]
  },
  {
   "cell_type": "code",
   "execution_count": 7,
   "id": "dd415c80",
   "metadata": {
    "id": "dd415c80"
   },
   "outputs": [
    {
     "name": "stdout",
     "output_type": "stream",
     "text": [
      "<class 'pandas.core.frame.DataFrame'>\n",
      "RangeIndex: 8406 entries, 0 to 8405\n",
      "Data columns (total 9 columns):\n",
      " #   Column    Non-Null Count  Dtype  \n",
      "---  ------    --------------  -----  \n",
      " 0   id        8406 non-null   object \n",
      " 1   name      8406 non-null   object \n",
      " 2   category  8406 non-null   object \n",
      " 3   address   8406 non-null   object \n",
      " 4   district  8406 non-null   object \n",
      " 5   hours     7870 non-null   object \n",
      " 6   rating    8406 non-null   float64\n",
      " 7   chain     8406 non-null   int64  \n",
      " 8   seats     4795 non-null   float64\n",
      "dtypes: float64(2), int64(1), object(6)\n",
      "memory usage: 591.2+ KB\n"
     ]
    }
   ],
   "source": [
    "df_info.info()"
   ]
  },
  {
   "cell_type": "markdown",
   "id": "34749f4d",
   "metadata": {},
   "source": [
    "Датасет `rest_info.csv` содержит `9 столбцов и 8406 строк`, в которых представлена информация о заведениях общественного питания расположенных в различных районах города Москвы.\n",
    "\n",
    "После первичного анализа данных можно сделать следующие выводы:\n",
    "- Наименования столбцов находятся в нижнем регистре и удобны для анализа, поэтому менять их не требуется.\n",
    "- Пропуски значений обнаружены в двух столбцах:`hours`, `seats`. Необходимо детально изучить эти пропуски и определить способы обработки.\n",
    "\n",
    "- Типы данных в двух столбцах требуют корректировки. \n",
    "  - Столбец: `chain` (`int64` --> `bool`) указывает, является ли заведение сетевым (0 — нет, 1 — да). \n",
    "  - Столбец: `seats` (`float64` --> `int64 `) содержит данные о количестве мест, а это целые числа.\n",
    "\n",
    "- Остальные столбцы имеют корректный тип данных:\n",
    "  - Столбец: `id` содержит текстовые данные с уникальными идентификаторы заведений, представлен в `object`.\n",
    "  - Столбец: `hours` содержит текстовую информацию и часы работы, представлен в `object`.\n",
    "  - Столбцы: `name`, `category`, `address`, `district` содержат текстовый тип данных, представлены в представлен в `object`. \n",
    "  - Столбец `rating` содержит данные об оценках в виде дробных чисел, представлен в `float64`.\n",
    "\n",
    "- Рекомендуется провести проверку на дубликаты, особенно в столбце id, так как он служит уникальным идентификатором заведений.\n"
   ]
  },
  {
   "cell_type": "markdown",
   "id": "127752b3",
   "metadata": {
    "id": "3158ad37"
   },
   "source": [
    "- **Познакомимся с данными датасета rest_price.csv  — выведем первые пять строк и общую информацию о датафрейме:**"
   ]
  },
  {
   "cell_type": "code",
   "execution_count": 8,
   "id": "9f3dc410",
   "metadata": {},
   "outputs": [
    {
     "data": {
      "text/html": [
       "<div>\n",
       "<style scoped>\n",
       "    .dataframe tbody tr th:only-of-type {\n",
       "        vertical-align: middle;\n",
       "    }\n",
       "\n",
       "    .dataframe tbody tr th {\n",
       "        vertical-align: top;\n",
       "    }\n",
       "\n",
       "    .dataframe thead th {\n",
       "        text-align: right;\n",
       "    }\n",
       "</style>\n",
       "<table border=\"1\" class=\"dataframe\">\n",
       "  <thead>\n",
       "    <tr style=\"text-align: right;\">\n",
       "      <th></th>\n",
       "      <th>id</th>\n",
       "      <th>price</th>\n",
       "      <th>avg_bill</th>\n",
       "      <th>middle_avg_bill</th>\n",
       "      <th>middle_coffee_cup</th>\n",
       "    </tr>\n",
       "  </thead>\n",
       "  <tbody>\n",
       "    <tr>\n",
       "      <th>0</th>\n",
       "      <td>045780ada3474c57a2112e505d74b633</td>\n",
       "      <td>выше среднего</td>\n",
       "      <td>Средний счёт:1500–1600 ₽</td>\n",
       "      <td>1550.0</td>\n",
       "      <td>NaN</td>\n",
       "    </tr>\n",
       "    <tr>\n",
       "      <th>1</th>\n",
       "      <td>1070b6b59144425896c65889347fcff6</td>\n",
       "      <td>средние</td>\n",
       "      <td>Средний счёт:от 1000 ₽</td>\n",
       "      <td>1000.0</td>\n",
       "      <td>NaN</td>\n",
       "    </tr>\n",
       "    <tr>\n",
       "      <th>2</th>\n",
       "      <td>03ac7cd772104f65b58b349dc59f03ee</td>\n",
       "      <td>NaN</td>\n",
       "      <td>Цена чашки капучино:155–185 ₽</td>\n",
       "      <td>NaN</td>\n",
       "      <td>170.0</td>\n",
       "    </tr>\n",
       "    <tr>\n",
       "      <th>3</th>\n",
       "      <td>a163aada139c4c7f87b0b1c0b466a50f</td>\n",
       "      <td>средние</td>\n",
       "      <td>Средний счёт:400–600 ₽</td>\n",
       "      <td>500.0</td>\n",
       "      <td>NaN</td>\n",
       "    </tr>\n",
       "    <tr>\n",
       "      <th>4</th>\n",
       "      <td>8a343546b24e4a499ad96eb7d0797a8a</td>\n",
       "      <td>средние</td>\n",
       "      <td>NaN</td>\n",
       "      <td>NaN</td>\n",
       "      <td>NaN</td>\n",
       "    </tr>\n",
       "  </tbody>\n",
       "</table>\n",
       "</div>"
      ],
      "text/plain": [
       "                                 id          price  \\\n",
       "0  045780ada3474c57a2112e505d74b633  выше среднего   \n",
       "1  1070b6b59144425896c65889347fcff6        средние   \n",
       "2  03ac7cd772104f65b58b349dc59f03ee            NaN   \n",
       "3  a163aada139c4c7f87b0b1c0b466a50f        средние   \n",
       "4  8a343546b24e4a499ad96eb7d0797a8a        средние   \n",
       "\n",
       "                        avg_bill  middle_avg_bill  middle_coffee_cup  \n",
       "0       Средний счёт:1500–1600 ₽           1550.0                NaN  \n",
       "1         Средний счёт:от 1000 ₽           1000.0                NaN  \n",
       "2  Цена чашки капучино:155–185 ₽              NaN              170.0  \n",
       "3         Средний счёт:400–600 ₽            500.0                NaN  \n",
       "4                            NaN              NaN                NaN  "
      ]
     },
     "execution_count": 8,
     "metadata": {},
     "output_type": "execute_result"
    }
   ],
   "source": [
    "df_price.head()"
   ]
  },
  {
   "cell_type": "code",
   "execution_count": 9,
   "id": "a879890b",
   "metadata": {},
   "outputs": [
    {
     "name": "stdout",
     "output_type": "stream",
     "text": [
      "<class 'pandas.core.frame.DataFrame'>\n",
      "RangeIndex: 4058 entries, 0 to 4057\n",
      "Data columns (total 5 columns):\n",
      " #   Column             Non-Null Count  Dtype  \n",
      "---  ------             --------------  -----  \n",
      " 0   id                 4058 non-null   object \n",
      " 1   price              3315 non-null   object \n",
      " 2   avg_bill           3816 non-null   object \n",
      " 3   middle_avg_bill    3149 non-null   float64\n",
      " 4   middle_coffee_cup  535 non-null    float64\n",
      "dtypes: float64(2), object(3)\n",
      "memory usage: 158.6+ KB\n"
     ]
    }
   ],
   "source": [
    "df_price.info()"
   ]
  },
  {
   "cell_type": "markdown",
   "id": "915f08c7",
   "metadata": {},
   "source": [
    "Датасет `rest_price.csv` содержит `5 столбцов и 4058 строк`, в которых представлена информация о категориях цен, среднем чеке и средней цене за чашку кофе в заведениях общественного питания города Москвы. \n",
    "\n",
    "После первичного анализа данных можно сделать следующие выводы:\n",
    "- Наименования столбцов находятся в нижнем регистре в стиле snake case, и удобны для анализа, поэтому менять их не требуется.\n",
    "- Обнаружены пропуски значений в четырех столбцах: `price`, `avg_bill`, `middle_avg_bill`, `middle_coffee_cup`. Необходимо детально изучить эти пропуски и определить способы обработки.  \n",
    "\n",
    "- Типы данных во всех столбцах соответствуют содержимому но есть нюансы:\n",
    "  - `id` содержит текстовые данные с уникальными идентификаторами заведений, представлен в `object`, что корректно.\n",
    "  - `price` содержит категориальные данные, представлен в `object`, что корректно.\n",
    "  - `avg_bill`  представлен как `object`, но содержит текстовые описания (например, \"Средний счёт: 1500–1600 ₽\") и ценовые диапазоны.\n",
    "  - `middle_avg_bill` уже представляет средний чек в числовом формате (float64). Рекомендуется проверить, содержатся ли в `avg_bill` уникальные данные, которых нет в `middle_avg_bill`.\n",
    "  - `middle_coffee_cup` — представлен в `float64`, но имеет много пропусков. Если эти пропуски нельзя заполнить корректными значениями, рекомендуется удалить столбец.\n",
    "\n",
    "- Рекомендуется провести проверку на дубликаты, особенно в столбце id, так как он служит уникальным идентификатором заведений."
   ]
  },
  {
   "cell_type": "markdown",
   "id": "2c614a62",
   "metadata": {
    "id": "2c614a62"
   },
   "source": [
    "---\n",
    "\n",
    "### Промежуточный вывод\n"
   ]
  },
  {
   "cell_type": "markdown",
   "id": "a567e0be",
   "metadata": {
    "id": "84e2bdab"
   },
   "source": [
    "Первичное знакомство с данными показывает наличие значительного количества пропусков, особенно в столбцах, связанных с ценами. Некоторые столбцы отнесены к некорректным типам данных - рекомендуется скорректироваь их в ходе предобработки. Чтобы принять решения о заполнении или удалении пропущенных значений, а также исключении дублирующих столбцов, рекомендуется объединить датасеты и провести предобработку данных."
   ]
  },
  {
   "cell_type": "markdown",
   "id": "8a8d1491",
   "metadata": {
    "id": "8a8d1491"
   },
   "source": [
    "### Объединение датасетов\n"
   ]
  },
  {
   "cell_type": "markdown",
   "id": "d9c4c151",
   "metadata": {},
   "source": [
    "- **Объединим датасеты `rest_info.csv` и `rest_price.csv` в один датафрейм:**"
   ]
  },
  {
   "cell_type": "code",
   "execution_count": 10,
   "id": "3408e303",
   "metadata": {
    "id": "3408e303"
   },
   "outputs": [
    {
     "name": "stdout",
     "output_type": "stream",
     "text": [
      "<class 'pandas.core.frame.DataFrame'>\n",
      "Int64Index: 8406 entries, 0 to 8405\n",
      "Data columns (total 13 columns):\n",
      " #   Column             Non-Null Count  Dtype  \n",
      "---  ------             --------------  -----  \n",
      " 0   id                 8406 non-null   object \n",
      " 1   name               8406 non-null   object \n",
      " 2   category           8406 non-null   object \n",
      " 3   address            8406 non-null   object \n",
      " 4   district           8406 non-null   object \n",
      " 5   hours              7870 non-null   object \n",
      " 6   rating             8406 non-null   float64\n",
      " 7   chain              8406 non-null   int64  \n",
      " 8   seats              4795 non-null   float64\n",
      " 9   price              3315 non-null   object \n",
      " 10  avg_bill           3816 non-null   object \n",
      " 11  middle_avg_bill    3149 non-null   float64\n",
      " 12  middle_coffee_cup  535 non-null    float64\n",
      "dtypes: float64(4), int64(1), object(8)\n",
      "memory usage: 919.4+ KB\n"
     ]
    }
   ],
   "source": [
    "df = df_info.merge(df_price, on=\"id\", how=\"left\")\n",
    "\n",
    "df.info()"
   ]
  },
  {
   "cell_type": "markdown",
   "id": "956e82e2",
   "metadata": {
    "id": "956e82e2"
   },
   "source": [
    "## 2. Предобработка данных\n",
    "\n"
   ]
  },
  {
   "cell_type": "markdown",
   "id": "35dbc708",
   "metadata": {},
   "source": [
    "### 2.1. Типы данных"
   ]
  },
  {
   "cell_type": "markdown",
   "id": "e9305799",
   "metadata": {},
   "source": [
    "- **Изучим типы данных и их корректность:**"
   ]
  },
  {
   "cell_type": "code",
   "execution_count": 11,
   "id": "67956690",
   "metadata": {
    "id": "67956690"
   },
   "outputs": [
    {
     "name": "stdout",
     "output_type": "stream",
     "text": [
      "<class 'pandas.core.frame.DataFrame'>\n",
      "Int64Index: 8406 entries, 0 to 8405\n",
      "Data columns (total 13 columns):\n",
      " #   Column             Non-Null Count  Dtype  \n",
      "---  ------             --------------  -----  \n",
      " 0   id                 8406 non-null   object \n",
      " 1   name               8406 non-null   object \n",
      " 2   category           8406 non-null   object \n",
      " 3   address            8406 non-null   object \n",
      " 4   district           8406 non-null   object \n",
      " 5   hours              7870 non-null   object \n",
      " 6   rating             8406 non-null   float64\n",
      " 7   chain              8406 non-null   int64  \n",
      " 8   seats              4795 non-null   float64\n",
      " 9   price              3315 non-null   object \n",
      " 10  avg_bill           3816 non-null   object \n",
      " 11  middle_avg_bill    3149 non-null   float64\n",
      " 12  middle_coffee_cup  535 non-null    float64\n",
      "dtypes: float64(4), int64(1), object(8)\n",
      "memory usage: 919.4+ KB\n"
     ]
    }
   ],
   "source": [
    "df.info()"
   ]
  },
  {
   "cell_type": "markdown",
   "id": "4cbfa3ba",
   "metadata": {},
   "source": [
    "В датасете представлено четыре столбца с типом данных `float64`,  восемь столбцов с типом данных `object` и один столбец с типом данных `int64`, однако не для всех столбцов данные определены корректно. \n",
    "\n",
    "Рассмотрим более подробно:\n",
    "\n",
    "- `id` - содержит текстовые данные с уникальными идентификаторы заведений, представлен в `object`, что корректно.\n",
    "- `name`,`category`,`address`,`district` - содержат текстовый тип данных, представлены в `object`, что корректно.\n",
    "- `hours` - в столбце содержится текст в виде дней недели и часы работы, представлен в `object`, оставим без изменений\n",
    "- `rating` - содержит данные об оценках, представлен в`float64`, что корректно.\n",
    "- `chain ` - имеет тип данных `int64`. Этот столбец указывает, является ли заведение сетевым (0 — нет, 1 — да). <mark>Рекомендуется изменить тип данных на `bool`</mark>.\n",
    "- `seats` - имеет тип данных `float64`. Столбец содержит данные о количестве мест, а это целые числа. <mark>Рекомендуется изменить тип данных на  `int64 `</mark>.\n",
    "- `price` - содержит категориальные данные, представлен в `object`, что корректно.\n",
    "- `avg_bill` - представлен как `object`, но содержит текстовые описания и ценовые диапазоны. Оставим без изменений.\n",
    "- `middle_avg_bill` - содержит числовые данные о среднем чеке, представлен в `float64`, что корректно.\n",
    "- `middle_coffee_cup` - содержит числовые данные о средне цене чашки кофе, представлен в `float64`, что корректно.\n"
   ]
  },
  {
   "cell_type": "markdown",
   "id": "384977cd",
   "metadata": {},
   "source": [
    "- **Заменим тип данны в столбце `chain` с `int64` на `bool`:**"
   ]
  },
  {
   "cell_type": "code",
   "execution_count": 12,
   "id": "d6652a0d",
   "metadata": {},
   "outputs": [],
   "source": [
    "df[\"chain\"] = df[\"chain\"].astype(\"bool\")"
   ]
  },
  {
   "cell_type": "markdown",
   "id": "199602fb",
   "metadata": {},
   "source": [
    "- **Заменим тип данных в столбце `seats` c `float64` на `int64`:**"
   ]
  },
  {
   "cell_type": "code",
   "execution_count": 13,
   "id": "f2e433c8",
   "metadata": {},
   "outputs": [],
   "source": [
    "df[\"seats\"] = pd.to_numeric(df[\"seats\"], errors=\"coerce\")\n",
    "\n",
    "df[\"seats\"] = df[\"seats\"].astype(\"Int64\")"
   ]
  },
  {
   "cell_type": "markdown",
   "id": "2534158b",
   "metadata": {},
   "source": [
    "### 2.2. Обработка пропусков в данных"
   ]
  },
  {
   "cell_type": "markdown",
   "id": "a1537b96",
   "metadata": {},
   "source": [
    "- **Найдем пропущенные значения и посчитаем долю пропусков в каждой колонке от общего количества:**"
   ]
  },
  {
   "cell_type": "code",
   "execution_count": 14,
   "id": "3d8840ca",
   "metadata": {
    "id": "3d8840ca"
   },
   "outputs": [
    {
     "data": {
      "text/plain": [
       "middle_coffee_cup    7871\n",
       "middle_avg_bill      5257\n",
       "price                5091\n",
       "avg_bill             4590\n",
       "seats                3611\n",
       "hours                 536\n",
       "id                      0\n",
       "name                    0\n",
       "category                0\n",
       "address                 0\n",
       "district                0\n",
       "rating                  0\n",
       "chain                   0\n",
       "dtype: int64"
      ]
     },
     "execution_count": 14,
     "metadata": {},
     "output_type": "execute_result"
    }
   ],
   "source": [
    "df.isna().sum().sort_values(ascending=False)"
   ]
  },
  {
   "cell_type": "code",
   "execution_count": 15,
   "id": "620d2f08",
   "metadata": {
    "id": "620d2f08"
   },
   "outputs": [
    {
     "data": {
      "text/plain": [
       "middle_coffee_cup    93.64\n",
       "middle_avg_bill      62.54\n",
       "price                60.56\n",
       "avg_bill             54.60\n",
       "seats                42.96\n",
       "hours                 6.38\n",
       "id                    0.00\n",
       "name                  0.00\n",
       "category              0.00\n",
       "address               0.00\n",
       "district              0.00\n",
       "rating                0.00\n",
       "chain                 0.00\n",
       "dtype: float64"
      ]
     },
     "execution_count": 15,
     "metadata": {},
     "output_type": "execute_result"
    }
   ],
   "source": [
    "round(df.isna().mean() * 100, 2).sort_values(ascending=False)"
   ]
  },
  {
   "cell_type": "markdown",
   "id": "e5b3f177",
   "metadata": {},
   "source": [
    "- **Проверим уникальные значения во всех столбцах датафрейма**"
   ]
  },
  {
   "cell_type": "code",
   "execution_count": 16,
   "id": "05cdc884",
   "metadata": {},
   "outputs": [
    {
     "name": "stdout",
     "output_type": "stream",
     "text": [
      "Уникальные значения в столбце id:\n",
      "['0009f005d6fb47c6b067db5084f4e05a' '000c4f8e2c6b4a8e81127ed094688658'\n",
      " '0028eb1543284e18a0acdb0343a66107' ... 'ffda7a385ab34248ba4fddfcb653dbac'\n",
      " 'ffe1ca40df284b4094b6cf051b45e4ac' 'fffda460734f4981bd2e50c5d766e469']\n",
      "\n",
      "Уникальные значения в столбце name:\n",
      "['#КешбэкКафе' '+39 Pizzeria Mozzarella bar' '1 Этаж' ... 'Ясно' 'Яуза'\n",
      " 'ночной Баку']\n",
      "\n",
      "Уникальные значения в столбце category:\n",
      "['бар,паб' 'булочная' 'быстрое питание' 'кафе' 'кофейня' 'пиццерия'\n",
      " 'ресторан' 'столовая']\n",
      "\n",
      "Уникальные значения в столбце address:\n",
      "['Москва, 1-й Автозаводский проезд, 5'\n",
      " 'Москва, 1-й Балтийский переулок, 3/25'\n",
      " 'Москва, 1-й Варшавский проезд, 1Ас9' ...\n",
      " 'Москва, шоссе Энтузиастов, 86А, корп. 3' 'Москва, шоссе Энтузиастов, с2'\n",
      " 'Москва, № 7']\n",
      "\n",
      "Уникальные значения в столбце district:\n",
      "['Восточный административный округ' 'Западный административный округ'\n",
      " 'Северный административный округ'\n",
      " 'Северо-Восточный административный округ'\n",
      " 'Северо-Западный административный округ'\n",
      " 'Центральный административный округ'\n",
      " 'Юго-Восточный административный округ'\n",
      " 'Юго-Западный административный округ' 'Южный административный округ']\n",
      "\n",
      "Уникальные значения в столбце hours:\n",
      "['Нет информации'\n",
      " 'вт 08:30–17:00; ср,чт 12:00–20:30; пт 08:30–17:00; сб 09:00–16:30'\n",
      " 'вт 13:00–21:00; ср 11:00–20:00; чт 13:00–21:00; пт-вс 11:00–20:00' ...\n",
      " 'чт круглосуточно, перерыв 10:00–20:00; сб круглосуточно'\n",
      " 'чт-вс 20:00–06:00' nan]\n",
      "\n",
      "Уникальные значения в столбце rating:\n",
      "[1.  1.1 1.2 1.3 1.4 1.5 1.6 1.7 1.8 1.9 2.  2.1 2.2 2.3 2.4 2.5 2.6 2.7\n",
      " 2.8 2.9 3.  3.1 3.2 3.3 3.4 3.5 3.6 3.7 3.8 3.9 4.  4.1 4.2 4.3 4.4 4.5\n",
      " 4.6 4.7 4.8 4.9 5. ]\n",
      "\n",
      "Уникальные значения в столбце chain:\n",
      "[False  True]\n",
      "\n",
      "Уникальные значения в столбце seats:\n",
      "<IntegerArray>\n",
      "[   0,    1,    2,    3,    4,    5,    6,    7,    8,    9,\n",
      " ...\n",
      "  644,  650,  660,  675,  760,  920, 1040, 1200, 1288, <NA>]\n",
      "Length: 230, dtype: Int64\n",
      "\n",
      "Уникальные значения в столбце price:\n",
      "['высокие' 'выше среднего' 'низкие' 'средние' nan]\n",
      "\n",
      "Уникальные значения в столбце avg_bill:\n",
      "['Средний счёт:100 ₽' 'Средний счёт:1000 ₽' 'Средний счёт:1000–10000 ₽'\n",
      " 'Средний счёт:1000–1100 ₽' 'Средний счёт:1000–1200 ₽'\n",
      " 'Средний счёт:1000–1300 ₽' 'Средний счёт:1000–1350 ₽'\n",
      " 'Средний счёт:1000–1400 ₽' 'Средний счёт:1000–1500 ₽'\n",
      " 'Средний счёт:1000–1600 ₽' 'Средний счёт:1000–1700 ₽'\n",
      " 'Средний счёт:1000–2000 ₽' 'Средний счёт:1000–2500 ₽'\n",
      " 'Средний счёт:1000–3000 ₽' 'Средний счёт:1000–5000 ₽'\n",
      " 'Средний счёт:100–1000 ₽' 'Средний счёт:100–160 ₽'\n",
      " 'Средний счёт:100–180 ₽' 'Средний счёт:100–200 ₽'\n",
      " 'Средний счёт:100–2000 ₽' 'Средний счёт:100–270 ₽'\n",
      " 'Средний счёт:100–300 ₽' 'Средний счёт:100–330 ₽'\n",
      " 'Средний счёт:100–350 ₽' 'Средний счёт:100–400 ₽'\n",
      " 'Средний счёт:100–423 ₽' 'Средний счёт:100–500 ₽'\n",
      " 'Средний счёт:100–599 ₽' 'Средний счёт:100–700 ₽'\n",
      " 'Средний счёт:1100–1500 ₽' 'Средний счёт:110–200 ₽' 'Средний счёт:120 ₽'\n",
      " 'Средний счёт:1200 ₽' 'Средний счёт:1200–1300 ₽'\n",
      " 'Средний счёт:1200–1500 ₽' 'Средний счёт:1200–1600 ₽'\n",
      " 'Средний счёт:1200–1700 ₽' 'Средний счёт:1200–1800 ₽'\n",
      " 'Средний счёт:1200–1900 ₽' 'Средний счёт:1200–2000 ₽'\n",
      " 'Средний счёт:1200–2500 ₽' 'Средний счёт:1200–3000 ₽'\n",
      " 'Средний счёт:120–130 ₽' 'Средний счёт:120–150 ₽'\n",
      " 'Средний счёт:120–160 ₽' 'Средний счёт:120–370 ₽'\n",
      " 'Средний счёт:120–470 ₽' 'Средний счёт:1300 ₽' 'Средний счёт:1300–1500 ₽'\n",
      " 'Средний счёт:1300–1600 ₽' 'Средний счёт:1300–1700 ₽'\n",
      " 'Средний счёт:1300–1800 ₽' 'Средний счёт:1300–2000 ₽'\n",
      " 'Средний счёт:1300–2100 ₽' 'Средний счёт:1300–2500 ₽'\n",
      " 'Средний счёт:130–140 ₽' 'Средний счёт:130–200 ₽'\n",
      " 'Средний счёт:130–350 ₽' 'Средний счёт:130–700 ₽' 'Средний счёт:1330 ₽'\n",
      " 'Средний счёт:1400 ₽' 'Средний счёт:1400–1500 ₽'\n",
      " 'Средний счёт:1400–1600 ₽' 'Средний счёт:1400–1700 ₽'\n",
      " 'Средний счёт:1400–1800 ₽' 'Средний счёт:140–142 ₽'\n",
      " 'Средний счёт:140–160 ₽' 'Средний счёт:140–250 ₽'\n",
      " 'Средний счёт:140–350 ₽' 'Средний счёт:149–249 ₽' 'Средний счёт:150 ₽'\n",
      " 'Средний счёт:1500 ₽' 'Средний счёт:1500–1600 ₽'\n",
      " 'Средний счёт:1500–1700 ₽' 'Средний счёт:1500–1800 ₽'\n",
      " 'Средний счёт:1500–1880 ₽' 'Средний счёт:1500–1900 ₽'\n",
      " 'Средний счёт:1500–2000 ₽' 'Средний счёт:1500–2500 ₽'\n",
      " 'Средний счёт:1500–3000 ₽' 'Средний счёт:1500–3500 ₽'\n",
      " 'Средний счёт:1500–4000 ₽' 'Средний счёт:1500–5000 ₽'\n",
      " 'Средний счёт:150–1000 ₽' 'Средний счёт:150–180 ₽'\n",
      " 'Средний счёт:150–200 ₽' 'Средний счёт:150–220 ₽'\n",
      " 'Средний счёт:150–250 ₽' 'Средний счёт:150–260 ₽'\n",
      " 'Средний счёт:150–300 ₽' 'Средний счёт:150–350 ₽'\n",
      " 'Средний счёт:150–400 ₽' 'Средний счёт:150–450 ₽'\n",
      " 'Средний счёт:150–500 ₽' 'Средний счёт:150–599 ₽'\n",
      " 'Средний счёт:150–600 ₽' 'Средний счёт:150–650 ₽'\n",
      " 'Средний счёт:150–700 ₽' 'Средний счёт:1600 ₽' 'Средний счёт:160–200 ₽'\n",
      " 'Средний счёт:160–240 ₽' 'Средний счёт:160–250 ₽'\n",
      " 'Средний счёт:160–500 ₽' 'Средний счёт:170 ₽' 'Средний счёт:1700 ₽'\n",
      " 'Средний счёт:1700–1900 ₽' 'Средний счёт:1700–2500 ₽'\n",
      " 'Средний счёт:170–220 ₽' 'Средний счёт:170–230 ₽'\n",
      " 'Средний счёт:170–280 ₽' 'Средний счёт:170–300 ₽'\n",
      " 'Средний счёт:170–350 ₽' 'Средний счёт:170–490 ₽'\n",
      " 'Средний счёт:170–700 ₽' 'Средний счёт:180 ₽' 'Средний счёт:1800 ₽'\n",
      " 'Средний счёт:1800–2000 ₽' 'Средний счёт:1800–2500 ₽'\n",
      " 'Средний счёт:180–1170 ₽' 'Средний счёт:180–220 ₽'\n",
      " 'Средний счёт:180–280 ₽' 'Средний счёт:180–350 ₽' 'Средний счёт:190 ₽'\n",
      " 'Средний счёт:1900 ₽' 'Средний счёт:1900–2500 ₽' 'Средний счёт:190–260 ₽'\n",
      " 'Средний счёт:190–280 ₽' 'Средний счёт:190–290 ₽'\n",
      " 'Средний счёт:190–350 ₽' 'Средний счёт:195–235 ₽' 'Средний счёт:199 ₽'\n",
      " 'Средний счёт:199–450 ₽' 'Средний счёт:1–2000 ₽' 'Средний счёт:200 ₽'\n",
      " 'Средний счёт:2000 ₽' 'Средний счёт:20000–50000 ₽'\n",
      " 'Средний счёт:2000–2500 ₽' 'Средний счёт:2000–3000 ₽'\n",
      " 'Средний счёт:2000–3500 ₽' 'Средний счёт:2000–4000 ₽'\n",
      " 'Средний счёт:2000–5000 ₽' 'Средний счёт:200–1000 ₽'\n",
      " 'Средний счёт:200–220 ₽' 'Средний счёт:200–250 ₽'\n",
      " 'Средний счёт:200–270 ₽' 'Средний счёт:200–280 ₽'\n",
      " 'Средний счёт:200–300 ₽' 'Средний счёт:200–350 ₽'\n",
      " 'Средний счёт:200–360 ₽' 'Средний счёт:200–400 ₽'\n",
      " 'Средний счёт:200–450 ₽' 'Средний счёт:200–500 ₽'\n",
      " 'Средний счёт:200–600 ₽' 'Средний счёт:200–700 ₽'\n",
      " 'Средний счёт:205–500 ₽' 'Средний счёт:2100 ₽' 'Средний счёт:220 ₽'\n",
      " 'Средний счёт:2200 ₽' 'Средний счёт:220–270 ₽' 'Средний счёт:220–300 ₽'\n",
      " 'Средний счёт:220–350 ₽' 'Средний счёт:220–500 ₽' 'Средний счёт:229 ₽'\n",
      " 'Средний счёт:2300 ₽' 'Средний счёт:230–250 ₽' 'Средний счёт:230–280 ₽'\n",
      " 'Средний счёт:230–300 ₽' 'Средний счёт:230–350 ₽'\n",
      " 'Средний счёт:230–500 ₽' 'Средний счёт:230–650 ₽'\n",
      " 'Средний счёт:232–387 ₽' 'Средний счёт:240 ₽' 'Средний счёт:2400 ₽'\n",
      " 'Средний счёт:240–350 ₽' 'Средний счёт:240–360 ₽'\n",
      " 'Средний счёт:240–500 ₽' 'Средний счёт:250 ₽' 'Средний счёт:2500 ₽'\n",
      " 'Средний счёт:2500–3000 ₽' 'Средний счёт:2500–3500 ₽'\n",
      " 'Средний счёт:2500–4000 ₽' 'Средний счёт:2500–4500 ₽'\n",
      " 'Средний счёт:2500–5000 ₽' 'Средний счёт:250–1000 ₽'\n",
      " 'Средний счёт:250–270 ₽' 'Средний счёт:250–280 ₽'\n",
      " 'Средний счёт:250–300 ₽' 'Средний счёт:250–320 ₽'\n",
      " 'Средний счёт:250–350 ₽' 'Средний счёт:250–380 ₽'\n",
      " 'Средний счёт:250–400 ₽' 'Средний счёт:250–430 ₽'\n",
      " 'Средний счёт:250–450 ₽' 'Средний счёт:250–480 ₽'\n",
      " 'Средний счёт:250–500 ₽' 'Средний счёт:250–550 ₽'\n",
      " 'Средний счёт:250–600 ₽' 'Средний счёт:250–700 ₽'\n",
      " 'Средний счёт:250–800 ₽' 'Средний счёт:260 ₽' 'Средний счёт:2600 ₽'\n",
      " 'Средний счёт:260–1000 ₽' 'Средний счёт:260–280 ₽'\n",
      " 'Средний счёт:260–290 ₽' 'Средний счёт:260–300 ₽'\n",
      " 'Средний счёт:260–400 ₽' 'Средний счёт:266 ₽' 'Средний счёт:269 ₽'\n",
      " 'Средний счёт:270 ₽' 'Средний счёт:270–300 ₽' 'Средний счёт:270–350 ₽'\n",
      " 'Средний счёт:270–400 ₽' 'Средний счёт:270–450 ₽' 'Средний счёт:275 ₽'\n",
      " 'Средний счёт:275–500 ₽' 'Средний счёт:280 ₽' 'Средний счёт:280–290 ₽'\n",
      " 'Средний счёт:280–320 ₽' 'Средний счёт:280–330 ₽'\n",
      " 'Средний счёт:280–350 ₽' 'Средний счёт:280–360 ₽'\n",
      " 'Средний счёт:280–400 ₽' 'Средний счёт:280–420 ₽'\n",
      " 'Средний счёт:280–450 ₽' 'Средний счёт:285 ₽' 'Средний счёт:290 ₽'\n",
      " 'Средний счёт:2900 ₽' 'Средний счёт:290–490 ₽' 'Средний счёт:290–500 ₽'\n",
      " 'Средний счёт:291 ₽' 'Средний счёт:298 ₽' 'Средний счёт:299 ₽'\n",
      " 'Средний счёт:299–400 ₽' 'Средний счёт:299–450 ₽' 'Средний счёт:300 ₽'\n",
      " 'Средний счёт:3000 ₽' 'Средний счёт:3000–3500 ₽'\n",
      " 'Средний счёт:3000–4000 ₽' 'Средний счёт:3000–5000 ₽'\n",
      " 'Средний счёт:300–1000 ₽' 'Средний счёт:300–1500 ₽'\n",
      " 'Средний счёт:300–1600 ₽' 'Средний счёт:300–2000 ₽'\n",
      " 'Средний счёт:300–350 ₽' 'Средний счёт:300–400 ₽'\n",
      " 'Средний счёт:300–420 ₽' 'Средний счёт:300–430 ₽'\n",
      " 'Средний счёт:300–450 ₽' 'Средний счёт:300–500 ₽'\n",
      " 'Средний счёт:300–550 ₽' 'Средний счёт:300–600 ₽'\n",
      " 'Средний счёт:300–650 ₽' 'Средний счёт:300–700 ₽'\n",
      " 'Средний счёт:300–800 ₽' 'Средний счёт:301 ₽' 'Средний счёт:304 ₽'\n",
      " 'Средний счёт:30–300 ₽' 'Средний счёт:310–370 ₽' 'Средний счёт:313 ₽'\n",
      " 'Средний счёт:317 ₽' 'Средний счёт:320 ₽' 'Средний счёт:320–1500 ₽'\n",
      " 'Средний счёт:320–350 ₽' 'Средний счёт:320–480 ₽' 'Средний счёт:321 ₽'\n",
      " 'Средний счёт:324 ₽' 'Средний счёт:328 ₽' 'Средний счёт:330 ₽'\n",
      " 'Средний счёт:330–400 ₽' 'Средний счёт:330–990 ₽' 'Средний счёт:339 ₽'\n",
      " 'Средний счёт:340 ₽' 'Средний счёт:340–550 ₽' 'Средний счёт:343 ₽'\n",
      " 'Средний счёт:344 ₽' 'Средний счёт:349 ₽' 'Средний счёт:350 ₽'\n",
      " 'Средний счёт:3500 ₽' 'Средний счёт:3500–4000 ₽'\n",
      " 'Средний счёт:3500–5000 ₽' 'Средний счёт:350–1000 ₽'\n",
      " 'Средний счёт:350–1500 ₽' 'Средний счёт:350–2000 ₽'\n",
      " 'Средний счёт:350–2400 ₽' 'Средний счёт:350–400 ₽'\n",
      " 'Средний счёт:350–420 ₽' 'Средний счёт:350–450 ₽'\n",
      " 'Средний счёт:350–500 ₽' 'Средний счёт:350–550 ₽'\n",
      " 'Средний счёт:350–600 ₽' 'Средний счёт:350–650 ₽'\n",
      " 'Средний счёт:350–700 ₽' 'Средний счёт:350–800 ₽' 'Средний счёт:355 ₽'\n",
      " 'Средний счёт:35–100 ₽' 'Средний счёт:35–180 ₽' 'Средний счёт:35–300 ₽'\n",
      " 'Средний счёт:360 ₽' 'Средний счёт:360–500 ₽' 'Средний счёт:360–540 ₽'\n",
      " 'Средний счёт:362 ₽' 'Средний счёт:363 ₽' 'Средний счёт:366 ₽'\n",
      " 'Средний счёт:370 ₽' 'Средний счёт:372 ₽' 'Средний счёт:373 ₽'\n",
      " 'Средний счёт:375 ₽' 'Средний счёт:380–1010 ₽' 'Средний счёт:380–400 ₽'\n",
      " 'Средний счёт:380–500 ₽' 'Средний счёт:380–600 ₽' 'Средний счёт:382 ₽'\n",
      " 'Средний счёт:383 ₽' 'Средний счёт:385 ₽' 'Средний счёт:385–580 ₽'\n",
      " 'Средний счёт:390–1000 ₽' 'Средний счёт:390–460 ₽'\n",
      " 'Средний счёт:390–500 ₽' 'Средний счёт:390–660 ₽'\n",
      " 'Средний счёт:390–700 ₽' 'Средний счёт:391 ₽' 'Средний счёт:392 ₽'\n",
      " 'Средний счёт:400 ₽' 'Средний счёт:4000 ₽' 'Средний счёт:4000–5000 ₽'\n",
      " 'Средний счёт:400–1000 ₽' 'Средний счёт:400–1200 ₽'\n",
      " 'Средний счёт:400–1500 ₽' 'Средний счёт:400–2500 ₽'\n",
      " 'Средний счёт:400–450 ₽' 'Средний счёт:400–500 ₽'\n",
      " 'Средний счёт:400–550 ₽' 'Средний счёт:400–600 ₽'\n",
      " 'Средний счёт:400–6000 ₽' 'Средний счёт:400–650 ₽'\n",
      " 'Средний счёт:400–700 ₽' 'Средний счёт:400–800 ₽'\n",
      " 'Средний счёт:400–900 ₽' 'Средний счёт:402 ₽' 'Средний счёт:404 ₽'\n",
      " 'Средний счёт:407 ₽' 'Средний счёт:410 ₽' 'Средний счёт:411 ₽'\n",
      " 'Средний счёт:412 ₽' 'Средний счёт:413 ₽' 'Средний счёт:415 ₽'\n",
      " 'Средний счёт:416 ₽' 'Средний счёт:420–680 ₽' 'Средний счёт:422 ₽'\n",
      " 'Средний счёт:426 ₽' 'Средний счёт:430 ₽' 'Средний счёт:432 ₽'\n",
      " 'Средний счёт:433 ₽' 'Средний счёт:434 ₽' 'Средний счёт:435 ₽'\n",
      " 'Средний счёт:438 ₽' 'Средний счёт:439 ₽' 'Средний счёт:441 ₽'\n",
      " 'Средний счёт:443 ₽' 'Средний счёт:450 ₽' 'Средний счёт:4500–5000 ₽'\n",
      " 'Средний счёт:4500–5500 ₽' 'Средний счёт:450–500 ₽'\n",
      " 'Средний счёт:450–550 ₽' 'Средний счёт:450–600 ₽'\n",
      " 'Средний счёт:450–650 ₽' 'Средний счёт:450–700 ₽'\n",
      " 'Средний счёт:450–750 ₽' 'Средний счёт:450–800 ₽'\n",
      " 'Средний счёт:450–900 ₽' 'Средний счёт:453 ₽' 'Средний счёт:465 ₽'\n",
      " 'Средний счёт:470 ₽' 'Средний счёт:472 ₽' 'Средний счёт:475 ₽'\n",
      " 'Средний счёт:480 ₽' 'Средний счёт:495 ₽' 'Средний счёт:499–700 ₽'\n",
      " 'Средний счёт:49–369 ₽' 'Средний счёт:50 ₽' 'Средний счёт:500 ₽'\n",
      " 'Средний счёт:5000 ₽' 'Средний счёт:5000–15000 ₽'\n",
      " 'Средний счёт:5000–17000 ₽' 'Средний счёт:5000–5500 ₽'\n",
      " 'Средний счёт:5000–8000 ₽' 'Средний счёт:500–1000 ₽'\n",
      " 'Средний счёт:500–1050 ₽' 'Средний счёт:500–1100 ₽'\n",
      " 'Средний счёт:500–1200 ₽' 'Средний счёт:500–1300 ₽'\n",
      " 'Средний счёт:500–1500 ₽' 'Средний счёт:500–2000 ₽'\n",
      " 'Средний счёт:500–2500 ₽' 'Средний счёт:500–3000 ₽'\n",
      " 'Средний счёт:500–5000 ₽' 'Средний счёт:500–520 ₽'\n",
      " 'Средний счёт:500–550 ₽' 'Средний счёт:500–600 ₽'\n",
      " 'Средний счёт:500–650 ₽' 'Средний счёт:500–700 ₽'\n",
      " 'Средний счёт:500–750 ₽' 'Средний счёт:500–800 ₽'\n",
      " 'Средний счёт:500–900 ₽' 'Средний счёт:503 ₽' 'Средний счёт:508 ₽'\n",
      " 'Средний счёт:50–200 ₽' 'Средний счёт:50–250 ₽' 'Средний счёт:50–300 ₽'\n",
      " 'Средний счёт:520–1200 ₽' 'Средний счёт:520–600 ₽' 'Средний счёт:550 ₽'\n",
      " 'Средний счёт:5500 ₽' 'Средний счёт:550–1300 ₽' 'Средний счёт:550–1500 ₽'\n",
      " 'Средний счёт:550–1550 ₽' 'Средний счёт:550–700 ₽'\n",
      " 'Средний счёт:550–750 ₽' 'Средний счёт:590–1490 ₽' 'Средний счёт:600 ₽'\n",
      " 'Средний счёт:6000 ₽' 'Средний счёт:6000–8000 ₽'\n",
      " 'Средний счёт:600–1000 ₽' 'Средний счёт:600–1200 ₽'\n",
      " 'Средний счёт:600–1300 ₽' 'Средний счёт:600–1500 ₽'\n",
      " 'Средний счёт:600–2000 ₽' 'Средний счёт:600–700 ₽'\n",
      " 'Средний счёт:600–750 ₽' 'Средний счёт:600–800 ₽'\n",
      " 'Средний счёт:600–900 ₽' 'Средний счёт:600–950 ₽' 'Средний счёт:60–140 ₽'\n",
      " 'Средний счёт:60–180 ₽' 'Средний счёт:60–400 ₽' 'Средний счёт:620 ₽'\n",
      " 'Средний счёт:650 ₽' 'Средний счёт:650–1000 ₽' 'Средний счёт:650–2000 ₽'\n",
      " 'Средний счёт:650–800 ₽' 'Средний счёт:650–850 ₽' 'Средний счёт:670 ₽'\n",
      " 'Средний счёт:69–499 ₽' 'Средний счёт:700 ₽' 'Средний счёт:7000 ₽'\n",
      " 'Средний счёт:7000–7500 ₽' 'Средний счёт:700–1000 ₽'\n",
      " 'Средний счёт:700–1100 ₽' 'Средний счёт:700–1200 ₽'\n",
      " 'Средний счёт:700–1300 ₽' 'Средний счёт:700–1400 ₽'\n",
      " 'Средний счёт:700–1500 ₽' 'Средний счёт:700–1800 ₽'\n",
      " 'Средний счёт:700–3000 ₽' 'Средний счёт:700–3500 ₽'\n",
      " 'Средний счёт:700–800 ₽' 'Средний счёт:700–850 ₽'\n",
      " 'Средний счёт:700–900 ₽' 'Средний счёт:70–150 ₽' 'Средний счёт:70–200 ₽'\n",
      " 'Средний счёт:750 ₽' 'Средний счёт:750–1000 ₽' 'Средний счёт:750–1200 ₽'\n",
      " 'Средний счёт:750–1500 ₽' 'Средний счёт:750–850 ₽'\n",
      " 'Средний счёт:750–900 ₽' 'Средний счёт:795–1325 ₽' 'Средний счёт:800 ₽'\n",
      " 'Средний счёт:800–1000 ₽' 'Средний счёт:800–1100 ₽'\n",
      " 'Средний счёт:800–1200 ₽' 'Средний счёт:800–1300 ₽'\n",
      " 'Средний счёт:800–1500 ₽' 'Средний счёт:800–1800 ₽'\n",
      " 'Средний счёт:800–2000 ₽' 'Средний счёт:800–3000 ₽'\n",
      " 'Средний счёт:80–220 ₽' 'Средний счёт:80–300 ₽' 'Средний счёт:80–340 ₽'\n",
      " 'Средний счёт:80–350 ₽' 'Средний счёт:850 ₽' 'Средний счёт:850–1000 ₽'\n",
      " 'Средний счёт:850–1100 ₽' 'Средний счёт:850–1200 ₽'\n",
      " 'Средний счёт:850–1500 ₽' 'Средний счёт:90 ₽' 'Средний счёт:900 ₽'\n",
      " 'Средний счёт:900–1000 ₽' 'Средний счёт:900–1100 ₽'\n",
      " 'Средний счёт:900–1150 ₽' 'Средний счёт:900–1200 ₽'\n",
      " 'Средний счёт:900–1400 ₽' 'Средний счёт:900–1500 ₽'\n",
      " 'Средний счёт:90–190 ₽' 'Средний счёт:90–230 ₽' 'Средний счёт:90–450 ₽'\n",
      " 'Средний счёт:950–1200 ₽' 'Средний счёт:950–1500 ₽'\n",
      " 'Средний счёт:99–500 ₽' 'Средний счёт:до 1000 ₽' 'Средний счёт:до 1500 ₽'\n",
      " 'Средний счёт:до 300 ₽' 'Средний счёт:до 350 ₽' 'Средний счёт:до 470 ₽'\n",
      " 'Средний счёт:до 500 ₽' 'Средний счёт:до 650 ₽' 'Средний счёт:от 0 ₽'\n",
      " 'Средний счёт:от 100 ₽' 'Средний счёт:от 1000 ₽' 'Средний счёт:от 1090 ₽'\n",
      " 'Средний счёт:от 120 ₽' 'Средний счёт:от 1200 ₽' 'Средний счёт:от 140 ₽'\n",
      " 'Средний счёт:от 1400 ₽' 'Средний счёт:от 150 ₽' 'Средний счёт:от 1500 ₽'\n",
      " 'Средний счёт:от 165 ₽' 'Средний счёт:от 175 ₽' 'Средний счёт:от 180 ₽'\n",
      " 'Средний счёт:от 1800 ₽' 'Средний счёт:от 199 ₽' 'Средний счёт:от 200 ₽'\n",
      " 'Средний счёт:от 2000 ₽' 'Средний счёт:от 230 ₽' 'Средний счёт:от 240 ₽'\n",
      " 'Средний счёт:от 250 ₽' 'Средний счёт:от 2500 ₽' 'Средний счёт:от 270 ₽'\n",
      " 'Средний счёт:от 30 ₽' 'Средний счёт:от 300 ₽' 'Средний счёт:от 3000 ₽'\n",
      " 'Средний счёт:от 320 ₽' 'Средний счёт:от 330 ₽' 'Средний счёт:от 340 ₽'\n",
      " 'Средний счёт:от 345 ₽' 'Средний счёт:от 350 ₽' 'Средний счёт:от 3500 ₽'\n",
      " 'Средний счёт:от 390 ₽' 'Средний счёт:от 399 ₽' 'Средний счёт:от 400 ₽'\n",
      " 'Средний счёт:от 4000 ₽' 'Средний счёт:от 420 ₽' 'Средний счёт:от 450 ₽'\n",
      " 'Средний счёт:от 470 ₽' 'Средний счёт:от 475 ₽' 'Средний счёт:от 499 ₽'\n",
      " 'Средний счёт:от 50 ₽' 'Средний счёт:от 500 ₽' 'Средний счёт:от 5000 ₽'\n",
      " 'Средний счёт:от 549 ₽' 'Средний счёт:от 600 ₽' 'Средний счёт:от 650 ₽'\n",
      " 'Средний счёт:от 700 ₽' 'Средний счёт:от 800 ₽' 'Средний счёт:от 850 ₽'\n",
      " 'Цена бокала пива:100–250 ₽' 'Цена бокала пива:120–350 ₽'\n",
      " 'Цена бокала пива:129–319 ₽' 'Цена бокала пива:130–150 ₽'\n",
      " 'Цена бокала пива:140–190 ₽' 'Цена бокала пива:140–330 ₽'\n",
      " 'Цена бокала пива:140–420 ₽' 'Цена бокала пива:150 ₽'\n",
      " 'Цена бокала пива:150–180 ₽' 'Цена бокала пива:150–230 ₽'\n",
      " 'Цена бокала пива:150–250 ₽' 'Цена бокала пива:150–290 ₽'\n",
      " 'Цена бокала пива:150–350 ₽' 'Цена бокала пива:150–450 ₽'\n",
      " 'Цена бокала пива:155–465 ₽' 'Цена бокала пива:160–350 ₽'\n",
      " 'Цена бокала пива:160–390 ₽' 'Цена бокала пива:160–499 ₽'\n",
      " 'Цена бокала пива:170–200 ₽' 'Цена бокала пива:170–240 ₽'\n",
      " 'Цена бокала пива:170–320 ₽' 'Цена бокала пива:170–380 ₽'\n",
      " 'Цена бокала пива:180–260 ₽' 'Цена бокала пива:180–330 ₽'\n",
      " 'Цена бокала пива:180–380 ₽' 'Цена бокала пива:180–400 ₽'\n",
      " 'Цена бокала пива:180–420 ₽' 'Цена бокала пива:180–480 ₽'\n",
      " 'Цена бокала пива:190–350 ₽' 'Цена бокала пива:190–390 ₽'\n",
      " 'Цена бокала пива:190–430 ₽' 'Цена бокала пива:190–450 ₽'\n",
      " 'Цена бокала пива:190–500 ₽' 'Цена бокала пива:199–300 ₽'\n",
      " 'Цена бокала пива:199–459 ₽' 'Цена бокала пива:200 ₽'\n",
      " 'Цена бокала пива:200–1100 ₽' 'Цена бокала пива:200–240 ₽'\n",
      " 'Цена бокала пива:200–300 ₽' 'Цена бокала пива:200–320 ₽'\n",
      " 'Цена бокала пива:200–350 ₽' 'Цена бокала пива:200–380 ₽'\n",
      " 'Цена бокала пива:200–390 ₽' 'Цена бокала пива:200–440 ₽'\n",
      " 'Цена бокала пива:220–250 ₽' 'Цена бокала пива:220–350 ₽'\n",
      " 'Цена бокала пива:220–390 ₽' 'Цена бокала пива:220–440 ₽'\n",
      " 'Цена бокала пива:220–450 ₽' 'Цена бокала пива:220–500 ₽'\n",
      " 'Цена бокала пива:220–550 ₽' 'Цена бокала пива:230 ₽'\n",
      " 'Цена бокала пива:230–350 ₽' 'Цена бокала пива:240–350 ₽'\n",
      " 'Цена бокала пива:240–380 ₽' 'Цена бокала пива:250–350 ₽'\n",
      " 'Цена бокала пива:250–390 ₽' 'Цена бокала пива:250–395 ₽'\n",
      " 'Цена бокала пива:250–400 ₽' 'Цена бокала пива:250–450 ₽'\n",
      " 'Цена бокала пива:250–490 ₽' 'Цена бокала пива:250–550 ₽'\n",
      " 'Цена бокала пива:260–360 ₽' 'Цена бокала пива:260–380 ₽'\n",
      " 'Цена бокала пива:260–400 ₽' 'Цена бокала пива:270–1100 ₽'\n",
      " 'Цена бокала пива:270–390 ₽' 'Цена бокала пива:270–490 ₽'\n",
      " 'Цена бокала пива:280 ₽' 'Цена бокала пива:280–360 ₽'\n",
      " 'Цена бокала пива:280–400 ₽' 'Цена бокала пива:280–410 ₽'\n",
      " 'Цена бокала пива:290–390 ₽' 'Цена бокала пива:290–440 ₽'\n",
      " 'Цена бокала пива:300 ₽' 'Цена бокала пива:300–400 ₽'\n",
      " 'Цена бокала пива:300–420 ₽' 'Цена бокала пива:300–475 ₽'\n",
      " 'Цена бокала пива:300–500 ₽' 'Цена бокала пива:300–600 ₽'\n",
      " 'Цена бокала пива:320–375 ₽' 'Цена бокала пива:320–380 ₽'\n",
      " 'Цена бокала пива:320–440 ₽' 'Цена бокала пива:320–460 ₽'\n",
      " 'Цена бокала пива:320–470 ₽' 'Цена бокала пива:330–490 ₽'\n",
      " 'Цена бокала пива:340 ₽' 'Цена бокала пива:340–420 ₽'\n",
      " 'Цена бокала пива:350 ₽' 'Цена бокала пива:350–370 ₽'\n",
      " 'Цена бокала пива:350–400 ₽' 'Цена бокала пива:350–500 ₽'\n",
      " 'Цена бокала пива:360 ₽' 'Цена бокала пива:370–410 ₽'\n",
      " 'Цена бокала пива:370–420 ₽' 'Цена бокала пива:380–400 ₽'\n",
      " 'Цена бокала пива:390 ₽' 'Цена бокала пива:390–530 ₽'\n",
      " 'Цена бокала пива:390–590 ₽' 'Цена бокала пива:39–190 ₽'\n",
      " 'Цена бокала пива:420–640 ₽' 'Цена бокала пива:88–460 ₽'\n",
      " 'Цена бокала пива:90–230 ₽' 'Цена бокала пива:90–250 ₽'\n",
      " 'Цена бокала пива:до 350 ₽' 'Цена бокала пива:от 100 ₽'\n",
      " 'Цена бокала пива:от 140 ₽' 'Цена бокала пива:от 149 ₽'\n",
      " 'Цена бокала пива:от 195 ₽' 'Цена бокала пива:от 200 ₽'\n",
      " 'Цена бокала пива:от 350 ₽' 'Цена чашки капучино:100 ₽'\n",
      " 'Цена чашки капучино:100–120 ₽' 'Цена чашки капучино:100–140 ₽'\n",
      " 'Цена чашки капучино:100–150 ₽' 'Цена чашки капучино:100–160 ₽'\n",
      " 'Цена чашки капучино:100–170 ₽' 'Цена чашки капучино:100–179 ₽'\n",
      " 'Цена чашки капучино:100–180 ₽' 'Цена чашки капучино:100–200 ₽'\n",
      " 'Цена чашки капучино:100–210 ₽' 'Цена чашки капучино:100–220 ₽'\n",
      " 'Цена чашки капучино:105–145 ₽' 'Цена чашки капучино:109–169 ₽'\n",
      " 'Цена чашки капучино:110 ₽' 'Цена чашки капучино:110–150 ₽'\n",
      " 'Цена чашки капучино:110–160 ₽' 'Цена чашки капучино:110–165 ₽'\n",
      " 'Цена чашки капучино:110–170 ₽' 'Цена чашки капучино:110–190 ₽'\n",
      " 'Цена чашки капучино:110–200 ₽' 'Цена чашки капучино:115–140 ₽'\n",
      " 'Цена чашки капучино:119–149 ₽' 'Цена чашки капучино:119–169 ₽'\n",
      " 'Цена чашки капучино:119–179 ₽' 'Цена чашки капучино:120 ₽'\n",
      " 'Цена чашки капучино:120–140 ₽' 'Цена чашки капучино:120–150 ₽'\n",
      " 'Цена чашки капучино:120–160 ₽' 'Цена чашки капучино:120–170 ₽'\n",
      " 'Цена чашки капучино:120–180 ₽' 'Цена чашки капучино:120–190 ₽'\n",
      " 'Цена чашки капучино:120–200 ₽' 'Цена чашки капучино:120–210 ₽'\n",
      " 'Цена чашки капучино:120–215 ₽' 'Цена чашки капучино:120–220 ₽'\n",
      " 'Цена чашки капучино:120–250 ₽' 'Цена чашки капучино:128–148 ₽'\n",
      " 'Цена чашки капучино:129–169 ₽' 'Цена чашки капучино:129–179 ₽'\n",
      " 'Цена чашки капучино:130 ₽' 'Цена чашки капучино:130–150 ₽'\n",
      " 'Цена чашки капучино:130–160 ₽' 'Цена чашки капучино:130–170 ₽'\n",
      " 'Цена чашки капучино:130–180 ₽' 'Цена чашки капучино:130–190 ₽'\n",
      " 'Цена чашки капучино:130–210 ₽' 'Цена чашки капучино:130–230 ₽'\n",
      " 'Цена чашки капучино:130–250 ₽' 'Цена чашки капучино:139–189 ₽'\n",
      " 'Цена чашки капучино:140–160 ₽' 'Цена чашки капучино:140–170 ₽'\n",
      " 'Цена чашки капучино:140–180 ₽' 'Цена чашки капучино:140–190 ₽'\n",
      " 'Цена чашки капучино:140–200 ₽' 'Цена чашки капучино:140–220 ₽'\n",
      " 'Цена чашки капучино:145–185 ₽' 'Цена чашки капучино:145–200 ₽'\n",
      " 'Цена чашки капучино:145–225 ₽' 'Цена чашки капучино:149–199 ₽'\n",
      " 'Цена чашки капучино:149–219 ₽' 'Цена чашки капучино:149–259 ₽'\n",
      " 'Цена чашки капучино:150 ₽' 'Цена чашки капучино:150–180 ₽'\n",
      " 'Цена чашки капучино:150–190 ₽' 'Цена чашки капучино:150–200 ₽'\n",
      " 'Цена чашки капучино:150–210 ₽' 'Цена чашки капучино:150–219 ₽'\n",
      " 'Цена чашки капучино:150–220 ₽' 'Цена чашки капучино:150–240 ₽'\n",
      " 'Цена чашки капучино:150–245 ₽' 'Цена чашки капучино:150–250 ₽'\n",
      " 'Цена чашки капучино:150–290 ₽' 'Цена чашки капучино:150–320 ₽'\n",
      " 'Цена чашки капучино:155–170 ₽' 'Цена чашки капучино:155–185 ₽'\n",
      " 'Цена чашки капучино:159 ₽' 'Цена чашки капучино:159–200 ₽'\n",
      " 'Цена чашки капучино:160–180 ₽' 'Цена чашки капучино:160–200 ₽'\n",
      " 'Цена чашки капучино:160–210 ₽' 'Цена чашки капучино:160–220 ₽'\n",
      " 'Цена чашки капучино:160–230 ₽' 'Цена чашки капучино:160–250 ₽'\n",
      " 'Цена чашки капучино:160–270 ₽' 'Цена чашки капучино:160–350 ₽'\n",
      " 'Цена чашки капучино:170–190 ₽' 'Цена чашки капучино:170–200 ₽'\n",
      " 'Цена чашки капучино:170–210 ₽' 'Цена чашки капучино:170–220 ₽'\n",
      " 'Цена чашки капучино:170–230 ₽' 'Цена чашки капучино:170–239 ₽'\n",
      " 'Цена чашки капучино:170–250 ₽' 'Цена чашки капучино:179–219 ₽'\n",
      " 'Цена чашки капучино:179–249 ₽' 'Цена чашки капучино:179–275 ₽'\n",
      " 'Цена чашки капучино:179–314 ₽' 'Цена чашки капучино:180–200 ₽'\n",
      " 'Цена чашки капучино:180–210 ₽' 'Цена чашки капучино:180–230 ₽'\n",
      " 'Цена чашки капучино:180–250 ₽' 'Цена чашки капучино:180–300 ₽'\n",
      " 'Цена чашки капучино:184–194 ₽' 'Цена чашки капучино:185–285 ₽'\n",
      " 'Цена чашки капучино:189–269 ₽' 'Цена чашки капучино:190–220 ₽'\n",
      " 'Цена чашки капучино:190–230 ₽' 'Цена чашки капучино:190–240 ₽'\n",
      " 'Цена чашки капучино:190–245 ₽' 'Цена чашки капучино:190–250 ₽'\n",
      " 'Цена чашки капучино:195 ₽' 'Цена чашки капучино:195–245 ₽'\n",
      " 'Цена чашки капучино:195–295 ₽' 'Цена чашки капучино:199–229 ₽'\n",
      " 'Цена чашки капучино:199–285 ₽' 'Цена чашки капучино:200 ₽'\n",
      " 'Цена чашки капучино:200–220 ₽' 'Цена чашки капучино:200–240 ₽'\n",
      " 'Цена чашки капучино:200–250 ₽' 'Цена чашки капучино:200–260 ₽'\n",
      " 'Цена чашки капучино:200–275 ₽' 'Цена чашки капучино:200–300 ₽'\n",
      " 'Цена чашки капучино:200–350 ₽' 'Цена чашки капучино:205–245 ₽'\n",
      " 'Цена чашки капучино:205–280 ₽' 'Цена чашки капучино:210–250 ₽'\n",
      " 'Цена чашки капучино:210–290 ₽' 'Цена чашки капучино:220 ₽'\n",
      " 'Цена чашки капучино:220–240 ₽' 'Цена чашки капучино:220–250 ₽'\n",
      " 'Цена чашки капучино:220–270 ₽' 'Цена чашки капучино:220–280 ₽'\n",
      " 'Цена чашки капучино:220–320 ₽' 'Цена чашки капучино:220–330 ₽'\n",
      " 'Цена чашки капучино:220–350 ₽' 'Цена чашки капучино:230–250 ₽'\n",
      " 'Цена чашки капучино:230–280 ₽' 'Цена чашки капучино:230–290 ₽'\n",
      " 'Цена чашки капучино:230–2907 ₽' 'Цена чашки капучино:230–320 ₽'\n",
      " 'Цена чашки капучино:230–350 ₽' 'Цена чашки капучино:235–335 ₽'\n",
      " 'Цена чашки капучино:239–269 ₽' 'Цена чашки капучино:239–274 ₽'\n",
      " 'Цена чашки капучино:239–279 ₽' 'Цена чашки капучино:240 ₽'\n",
      " 'Цена чашки капучино:249–284 ₽' 'Цена чашки капучино:249–309 ₽'\n",
      " 'Цена чашки капучино:250 ₽' 'Цена чашки капучино:250–270 ₽'\n",
      " 'Цена чашки капучино:250–280 ₽' 'Цена чашки капучино:250–290 ₽'\n",
      " 'Цена чашки капучино:250–300 ₽' 'Цена чашки капучино:250–330 ₽'\n",
      " 'Цена чашки капучино:250–340 ₽' 'Цена чашки капучино:250–350 ₽'\n",
      " 'Цена чашки капучино:250–390 ₽' 'Цена чашки капучино:250–500 ₽'\n",
      " 'Цена чашки капучино:270 ₽' 'Цена чашки капучино:270–280 ₽'\n",
      " 'Цена чашки капучино:275 ₽' 'Цена чашки капучино:279–378 ₽'\n",
      " 'Цена чашки капучино:280–350 ₽' 'Цена чашки капучино:284–299 ₽'\n",
      " 'Цена чашки капучино:285–289 ₽' 'Цена чашки капучино:285–310 ₽'\n",
      " 'Цена чашки капучино:300 ₽' 'Цена чашки капучино:300–350 ₽'\n",
      " 'Цена чашки капучино:50–150 ₽' 'Цена чашки капучино:59–99 ₽'\n",
      " 'Цена чашки капучино:60–100 ₽' 'Цена чашки капучино:60–120 ₽'\n",
      " 'Цена чашки капучино:60–150 ₽' 'Цена чашки капучино:60–180 ₽'\n",
      " 'Цена чашки капучино:60–300 ₽' 'Цена чашки капучино:60–90 ₽'\n",
      " 'Цена чашки капучино:65–140 ₽' 'Цена чашки капучино:69–99 ₽'\n",
      " 'Цена чашки капучино:70–150 ₽' 'Цена чашки капучино:75 ₽'\n",
      " 'Цена чашки капучино:75–150 ₽' 'Цена чашки капучино:80–120 ₽'\n",
      " 'Цена чашки капучино:80–150 ₽' 'Цена чашки капучино:80–160 ₽'\n",
      " 'Цена чашки капучино:80–175 ₽' 'Цена чашки капучино:80–240 ₽'\n",
      " 'Цена чашки капучино:85–350 ₽' 'Цена чашки капучино:89–149 ₽'\n",
      " 'Цена чашки капучино:89–209 ₽' 'Цена чашки капучино:89–229 ₽'\n",
      " 'Цена чашки капучино:90–100 ₽' 'Цена чашки капучино:90–110 ₽'\n",
      " 'Цена чашки капучино:90–130 ₽' 'Цена чашки капучино:90–140 ₽'\n",
      " 'Цена чашки капучино:90–150 ₽' 'Цена чашки капучино:90–158 ₽'\n",
      " 'Цена чашки капучино:90–160 ₽' 'Цена чашки капучино:90–170 ₽'\n",
      " 'Цена чашки капучино:90–180 ₽' 'Цена чашки капучино:90–240 ₽'\n",
      " 'Цена чашки капучино:90–250 ₽' 'Цена чашки капучино:90–98 ₽'\n",
      " 'Цена чашки капучино:90–99 ₽' 'Цена чашки капучино:95 ₽'\n",
      " 'Цена чашки капучино:95–159 ₽' 'Цена чашки капучино:98–150 ₽'\n",
      " 'Цена чашки капучино:99–169 ₽' 'Цена чашки капучино:99–179 ₽'\n",
      " 'Цена чашки капучино:99–180 ₽' 'Цена чашки капучино:99–200 ₽'\n",
      " 'Цена чашки капучино:до 150 ₽' 'Цена чашки капучино:до 179 ₽'\n",
      " 'Цена чашки капучино:от 100 ₽' 'Цена чашки капучино:от 110 ₽'\n",
      " 'Цена чашки капучино:от 120 ₽' 'Цена чашки капучино:от 129 ₽'\n",
      " 'Цена чашки капучино:от 130 ₽' 'Цена чашки капучино:от 139 ₽'\n",
      " 'Цена чашки капучино:от 150 ₽' 'Цена чашки капучино:от 160 ₽'\n",
      " 'Цена чашки капучино:от 169 ₽' 'Цена чашки капучино:от 170 ₽'\n",
      " 'Цена чашки капучино:от 180 ₽' 'Цена чашки капучино:от 200 ₽'\n",
      " 'Цена чашки капучино:от 205 ₽' 'Цена чашки капучино:от 230 ₽'\n",
      " 'Цена чашки капучино:от 250 ₽' 'Цена чашки капучино:от 270 ₽'\n",
      " 'Цена чашки капучино:от 300 ₽' 'Цена чашки капучино:от 60 ₽'\n",
      " 'Цена чашки капучино:от 89 ₽' 'Цена чашки капучино:от 90 ₽' nan]\n",
      "\n",
      "Уникальные значения в столбце middle_avg_bill:\n",
      "[0.000e+00 3.000e+01 5.000e+01 6.700e+01 9.000e+01 1.000e+02 1.070e+02\n",
      " 1.100e+02 1.200e+02 1.250e+02 1.300e+02 1.350e+02 1.400e+02 1.410e+02\n",
      " 1.500e+02 1.550e+02 1.600e+02 1.650e+02 1.670e+02 1.700e+02 1.750e+02\n",
      " 1.800e+02 1.850e+02 1.900e+02 1.950e+02 1.990e+02 2.000e+02 2.050e+02\n",
      " 2.090e+02 2.100e+02 2.150e+02 2.200e+02 2.250e+02 2.290e+02 2.300e+02\n",
      " 2.350e+02 2.400e+02 2.450e+02 2.500e+02 2.550e+02 2.600e+02 2.610e+02\n",
      " 2.650e+02 2.660e+02 2.690e+02 2.700e+02 2.750e+02 2.800e+02 2.840e+02\n",
      " 2.850e+02 2.900e+02 2.910e+02 2.950e+02 2.980e+02 2.990e+02 3.000e+02\n",
      " 3.010e+02 3.040e+02 3.050e+02 3.090e+02 3.100e+02 3.130e+02 3.150e+02\n",
      " 3.170e+02 3.200e+02 3.210e+02 3.240e+02 3.250e+02 3.280e+02 3.300e+02\n",
      " 3.350e+02 3.390e+02 3.400e+02 3.430e+02 3.440e+02 3.450e+02 3.490e+02\n",
      " 3.500e+02 3.520e+02 3.550e+02 3.600e+02 3.620e+02 3.630e+02 3.650e+02\n",
      " 3.660e+02 3.700e+02 3.720e+02 3.730e+02 3.740e+02 3.750e+02 3.820e+02\n",
      " 3.830e+02 3.850e+02 3.870e+02 3.900e+02 3.910e+02 3.920e+02 3.950e+02\n",
      " 3.990e+02 4.000e+02 4.020e+02 4.040e+02 4.070e+02 4.100e+02 4.110e+02\n",
      " 4.120e+02 4.130e+02 4.150e+02 4.160e+02 4.200e+02 4.220e+02 4.250e+02\n",
      " 4.260e+02 4.300e+02 4.320e+02 4.330e+02 4.340e+02 4.350e+02 4.380e+02\n",
      " 4.390e+02 4.400e+02 4.410e+02 4.430e+02 4.450e+02 4.500e+02 4.530e+02\n",
      " 4.650e+02 4.700e+02 4.720e+02 4.750e+02 4.800e+02 4.820e+02 4.900e+02\n",
      " 4.950e+02 4.990e+02 5.000e+02 5.030e+02 5.080e+02 5.100e+02 5.250e+02\n",
      " 5.450e+02 5.490e+02 5.500e+02 5.600e+02 5.750e+02 5.990e+02 6.000e+02\n",
      " 6.200e+02 6.250e+02 6.300e+02 6.500e+02 6.600e+02 6.700e+02 6.750e+02\n",
      " 6.950e+02 7.000e+02 7.250e+02 7.500e+02 7.750e+02 8.000e+02 8.250e+02\n",
      " 8.500e+02 8.600e+02 8.750e+02 9.000e+02 9.100e+02 9.250e+02 9.500e+02\n",
      " 9.750e+02 1.000e+03 1.025e+03 1.040e+03 1.050e+03 1.060e+03 1.075e+03\n",
      " 1.090e+03 1.100e+03 1.125e+03 1.150e+03 1.175e+03 1.200e+03 1.225e+03\n",
      " 1.250e+03 1.300e+03 1.325e+03 1.330e+03 1.350e+03 1.375e+03 1.400e+03\n",
      " 1.450e+03 1.500e+03 1.550e+03 1.600e+03 1.650e+03 1.690e+03 1.700e+03\n",
      " 1.750e+03 1.800e+03 1.850e+03 1.900e+03 2.000e+03 2.100e+03 2.150e+03\n",
      " 2.200e+03 2.250e+03 2.300e+03 2.400e+03 2.500e+03 2.600e+03 2.750e+03\n",
      " 2.900e+03 3.000e+03 3.200e+03 3.250e+03 3.500e+03 3.750e+03 4.000e+03\n",
      " 4.250e+03 4.500e+03 4.750e+03 5.000e+03 5.250e+03 5.500e+03 6.000e+03\n",
      " 6.500e+03 7.000e+03 7.250e+03 1.000e+04 1.100e+04 3.500e+04       nan]\n",
      "\n",
      "Уникальные значения в столбце middle_coffee_cup:\n",
      "[  60.   75.   79.   80.   84.   89.   90.   94.   95.  100.  102.  105.\n",
      "  110.  112.  115.  119.  120.  124.  125.  127.  129.  130.  134.  135.\n",
      "  137.  138.  139.  140.  144.  145.  149.  150.  154.  155.  159.  160.\n",
      "  162.  164.  165.  167.  169.  170.  172.  174.  175.  179.  180.  184.\n",
      "  185.  189.  190.  195.  197.  199.  200.  204.  205.  210.  214.  215.\n",
      "  217.  220.  225.  227.  229.  230.  235.  237.  240.  242.  245.  246.\n",
      "  250.  254.  255.  256.  259.  260.  265.  266.  270.  275.  279.  285.\n",
      "  287.  290.  291.  295.  297.  300.  315.  320.  325.  328.  375. 1568.\n",
      "   nan]\n",
      "\n"
     ]
    }
   ],
   "source": [
    "for column in [\n",
    "    \"id\",\n",
    "    \"name\",\n",
    "    \"category\",\n",
    "    \"address\",\n",
    "    \"district\",\n",
    "    \"hours\",\n",
    "    \"rating\",\n",
    "    \"chain\",\n",
    "    \"seats\",\n",
    "    \"price\",\n",
    "    \"avg_bill\",\n",
    "    \"middle_avg_bill\",\n",
    "    \"middle_coffee_cup\",\n",
    "]:\n",
    "    print(f\"Уникальные значения в столбце {column}:\")\n",
    "    print(df[column].sort_values().unique())\n",
    "    print()"
   ]
  },
  {
   "cell_type": "markdown",
   "id": "748fd4b0",
   "metadata": {
    "id": "b5f2a94d"
   },
   "source": [
    "**В данных обнаружены пропуски в шести столбцах:**\n",
    "  - `middle_coffee_cup`:  в 7841 строках (93.64%) отсутствует информация о средней цене чашки кофе. Предположительно цена чашки кофе указана только для кофеен. \n",
    "  \n",
    "  - `seats`: в 3611 строках (42.96%) отсутствует информация о количестве посадочных мест.  Так как замена на среднее или другие значения будет некорректной (кол-во мест варьируется).  \n",
    "  \n",
    "  - `middle_avg_bill`: в 5257 строках (62.54%) отсутствует информация о среднем чеке. Вероятно это связано с тем, что для этой категории вместо среднего чека указывается средняя цена чашки кофе в столбце middle_coffee_cup.    \n",
    "  \n",
    "  - `price`: в 5091 строках (60.56%) отсутствует информация. \n",
    "  \n",
    "  - `avg_bill`: в 4590 строках (54.60%) отсутствует информация о среднем чеке. \n",
    "  \n",
    "  - `hours`: в 536 строках (6.38%) отсутствует информация о часах работы.\n",
    "  \n",
    "В нескольких столбцах датасета имеется большое количество пропусков, оставим их, чтобы не искажать данные."
   ]
  },
  {
   "cell_type": "markdown",
   "id": "e38e32fa",
   "metadata": {},
   "source": [
    "### 2.3. Явные и неявные дубликаты в данных"
   ]
  },
  {
   "cell_type": "markdown",
   "id": "41c51447",
   "metadata": {},
   "source": [
    "- **Приведем наименования заведений `name` к единому регистру:**"
   ]
  },
  {
   "cell_type": "code",
   "execution_count": 17,
   "id": "68556b2c",
   "metadata": {},
   "outputs": [
    {
     "name": "stdout",
     "output_type": "stream",
     "text": [
      "5512\n"
     ]
    }
   ],
   "source": [
    "df[\"name\"] = df[\"name\"].str.upper().str.strip()\n",
    "\n",
    "print(df[\"name\"].nunique())"
   ]
  },
  {
   "cell_type": "markdown",
   "id": "3886282d",
   "metadata": {},
   "source": [
    "- **Проверим данные на наличие явных дубликатов.**"
   ]
  },
  {
   "cell_type": "code",
   "execution_count": 18,
   "id": "d81c59d5",
   "metadata": {},
   "outputs": [
    {
     "data": {
      "text/plain": [
       "0"
      ]
     },
     "execution_count": 18,
     "metadata": {},
     "output_type": "execute_result"
    }
   ],
   "source": [
    "df.duplicated().sum()"
   ]
  },
  {
   "cell_type": "markdown",
   "id": "cb66d319",
   "metadata": {},
   "source": [
    "В датафрейме нет полных дубликатов строк. "
   ]
  },
  {
   "cell_type": "markdown",
   "id": "e9c12c5e",
   "metadata": {},
   "source": [
    "- **Проверим данные на наличие неявных дубликатов:**"
   ]
  },
  {
   "cell_type": "code",
   "execution_count": 19,
   "id": "bad633c6",
   "metadata": {},
   "outputs": [
    {
     "data": {
      "text/plain": [
       "0"
      ]
     },
     "execution_count": 19,
     "metadata": {},
     "output_type": "execute_result"
    }
   ],
   "source": [
    "df.duplicated(subset=\"id\").sum()"
   ]
  },
  {
   "cell_type": "markdown",
   "id": "747d6b62",
   "metadata": {},
   "source": [
    "Каждая строка соответствует уникальному идентификатору заведения"
   ]
  },
  {
   "cell_type": "code",
   "execution_count": 20,
   "id": "72a5f823",
   "metadata": {},
   "outputs": [
    {
     "data": {
      "text/plain": [
       "0"
      ]
     },
     "execution_count": 20,
     "metadata": {},
     "output_type": "execute_result"
    }
   ],
   "source": [
    "df.duplicated(\n",
    "    subset=[\"name\", \"category\", \"address\", \"district\", \"hours\", \"price\", \"avg_bill\"]\n",
    ").sum()"
   ]
  },
  {
   "cell_type": "markdown",
   "id": "d00b9670",
   "metadata": {},
   "source": [
    "В датафрейме нет повторяющихся заведений с одинаковыми характеристиками."
   ]
  },
  {
   "cell_type": "markdown",
   "id": "0883ccfa",
   "metadata": {},
   "source": [
    "- **Создадим столбец `is_24_7`  с обозначением того, что заведение работает ежедневно и круглосуточно (24/7):**"
   ]
  },
  {
   "cell_type": "code",
   "execution_count": 21,
   "id": "6446b6b2",
   "metadata": {},
   "outputs": [
    {
     "data": {
      "text/plain": [
       "False    7140\n",
       "True      730\n",
       "Name: is_24_7, dtype: int64"
      ]
     },
     "execution_count": 21,
     "metadata": {},
     "output_type": "execute_result"
    }
   ],
   "source": [
    "df[\"is_24_7\"] = df[\"hours\"].str.contains(\"ежедневно, круглосуточно\", case=False)\n",
    "\n",
    "df[\"is_24_7\"].value_counts()"
   ]
  },
  {
   "cell_type": "code",
   "execution_count": 22,
   "id": "c8ca93df",
   "metadata": {},
   "outputs": [
    {
     "data": {
      "text/plain": [
       "Index(['id', 'name', 'category', 'address', 'district', 'hours', 'rating',\n",
       "       'chain', 'seats', 'price', 'avg_bill', 'middle_avg_bill',\n",
       "       'middle_coffee_cup', 'is_24_7'],\n",
       "      dtype='object')"
      ]
     },
     "execution_count": 22,
     "metadata": {},
     "output_type": "execute_result"
    }
   ],
   "source": [
    "df.columns"
   ]
  },
  {
   "cell_type": "code",
   "execution_count": 23,
   "id": "496c5242",
   "metadata": {},
   "outputs": [
    {
     "name": "stdout",
     "output_type": "stream",
     "text": [
      "<class 'pandas.core.frame.DataFrame'>\n",
      "Int64Index: 8406 entries, 0 to 8405\n",
      "Data columns (total 14 columns):\n",
      " #   Column             Non-Null Count  Dtype  \n",
      "---  ------             --------------  -----  \n",
      " 0   id                 8406 non-null   object \n",
      " 1   name               8406 non-null   object \n",
      " 2   category           8406 non-null   object \n",
      " 3   address            8406 non-null   object \n",
      " 4   district           8406 non-null   object \n",
      " 5   hours              7870 non-null   object \n",
      " 6   rating             8406 non-null   float64\n",
      " 7   chain              8406 non-null   bool   \n",
      " 8   seats              4795 non-null   Int64  \n",
      " 9   price              3315 non-null   object \n",
      " 10  avg_bill           3816 non-null   object \n",
      " 11  middle_avg_bill    3149 non-null   float64\n",
      " 12  middle_coffee_cup  535 non-null    float64\n",
      " 13  is_24_7            7870 non-null   object \n",
      "dtypes: Int64(1), bool(1), float64(3), object(9)\n",
      "memory usage: 935.8+ KB\n"
     ]
    }
   ],
   "source": [
    "df.info()"
   ]
  },
  {
   "cell_type": "markdown",
   "id": "562f30ab",
   "metadata": {
    "id": "562f30ab"
   },
   "source": [
    "---\n",
    "\n",
    "### Промежуточный вывод\n"
   ]
  },
  {
   "cell_type": "markdown",
   "id": "ba2d6f25",
   "metadata": {
    "id": "4e587ce1"
   },
   "source": [
    "**В результате предобработки данных были выполнены следующие действия**:\n",
    "\n",
    "- Датасеты `rest_info.csv` и `rest_price.csv` объединены в один датафрейм;\n",
    "- В столбце `chain` заменен тип данных с `int64` на `bool`;\n",
    "- В столбце `seats` заменен тип данных с `float64` на `int64`;\n",
    "- В столбце `name` наименования заведений превелены к верхнему регистру;\n",
    "- Данные в датасете проверены на дубликаты - дубликаты не обнаружены;\n",
    "- Создан столбец `is_24_7` с обозначением того, работает ли заведение ежедневно и круглосуточно, то есть 24/7.\n",
    "\n",
    "По итогам предобработки датафрейм содержит `15 столбцов` и `8406 строк`. "
   ]
  },
  {
   "cell_type": "markdown",
   "id": "6953e84c",
   "metadata": {
    "id": "6953e84c"
   },
   "source": [
    "## 3. Исследовательский анализ данных\n"
   ]
  },
  {
   "cell_type": "markdown",
   "id": "8555d840",
   "metadata": {
    "id": "8555d840"
   },
   "source": [
    "**3.1. Исследуем как объекты общественного питания распределены по категориям:**"
   ]
  },
  {
   "cell_type": "code",
   "execution_count": 24,
   "id": "71ab5e91",
   "metadata": {
    "id": "71ab5e91"
   },
   "outputs": [
    {
     "data": {
      "text/plain": [
       "кафе               2378\n",
       "ресторан           2043\n",
       "кофейня            1413\n",
       "бар,паб             765\n",
       "пиццерия            633\n",
       "быстрое питание     603\n",
       "столовая            315\n",
       "булочная            256\n",
       "Name: category, dtype: int64"
      ]
     },
     "execution_count": 24,
     "metadata": {},
     "output_type": "execute_result"
    }
   ],
   "source": [
    "df[\"category\"].value_counts()"
   ]
  },
  {
   "cell_type": "code",
   "execution_count": 25,
   "id": "b70cced6",
   "metadata": {},
   "outputs": [
    {
     "data": {
      "text/plain": [
       "count     8406\n",
       "unique       8\n",
       "top       кафе\n",
       "freq      2378\n",
       "Name: category, dtype: object"
      ]
     },
     "execution_count": 25,
     "metadata": {},
     "output_type": "execute_result"
    }
   ],
   "source": [
    "df[\"category\"].describe()"
   ]
  },
  {
   "cell_type": "code",
   "execution_count": 26,
   "id": "63360b97",
   "metadata": {
    "id": "63360b97"
   },
   "outputs": [
    {
     "data": {
      "image/png": "[encoded data removed]",
      "text/plain": [
       "<Figure size 720x432 with 1 Axes>"
      ]
     },
     "metadata": {
      "needs_background": "light"
     },
     "output_type": "display_data"
    }
   ],
   "source": [
    "# Для наглядности построим диаграмму распределения\n",
    "\n",
    "plt.figure(figsize=(10, 6))\n",
    "\n",
    "df[\"category\"].value_counts().plot(\n",
    "    kind=\"bar\",\n",
    "    rot=30,\n",
    "    color=\"skyblue\",\n",
    "    legend=False,\n",
    "    edgecolor=\"black\",\n",
    "    title=f\"Распределение объектов общественного питания в разрезе категорий\",\n",
    ")\n",
    "\n",
    "plt.ylabel(\"Количество объектов\")\n",
    "plt.xlabel(\"Категория\")\n",
    "\n",
    "plt.show()"
   ]
  },
  {
   "cell_type": "markdown",
   "id": "e5e9ff8c",
   "metadata": {},
   "source": [
    "В данных представлено `8 категорий заведений`: кафе, ресторан, кофейня, бар/паб, пиццерия, быстрое питание, столовая и булочная. `Наибольшее количество заведений относится к категориям \"кафе\" (2378) и \"ресторан\" (2043)`.\n"
   ]
  },
  {
   "cell_type": "markdown",
   "id": "6821e1d0",
   "metadata": {
    "id": "6821e1d0"
   },
   "source": [
    "**3.2. Исследуем как заведения распределены по районам Москвы, а также распределение заведений в каждой категории в Центральном административном округе Москвы:**"
   ]
  },
  {
   "cell_type": "markdown",
   "id": "9569aada",
   "metadata": {},
   "source": [
    "- **Посчитаем какое количество заведений находится в каждом районе Москвы:**"
   ]
  },
  {
   "cell_type": "code",
   "execution_count": 27,
   "id": "fe278580",
   "metadata": {},
   "outputs": [
    {
     "data": {
      "text/plain": [
       "Центральный административный округ         2242\n",
       "Северный административный округ             900\n",
       "Южный административный округ                892\n",
       "Северо-Восточный административный округ     891\n",
       "Западный административный округ             851\n",
       "Восточный административный округ            798\n",
       "Юго-Восточный административный округ        714\n",
       "Юго-Западный административный округ         709\n",
       "Северо-Западный административный округ      409\n",
       "Name: district, dtype: int64"
      ]
     },
     "execution_count": 27,
     "metadata": {},
     "output_type": "execute_result"
    }
   ],
   "source": [
    "df[\"district\"].value_counts()"
   ]
  },
  {
   "cell_type": "code",
   "execution_count": 28,
   "id": "6e80e319",
   "metadata": {},
   "outputs": [
    {
     "data": {
      "text/plain": [
       "count                                   8406\n",
       "unique                                     9\n",
       "top       Центральный административный округ\n",
       "freq                                    2242\n",
       "Name: district, dtype: object"
      ]
     },
     "execution_count": 28,
     "metadata": {},
     "output_type": "execute_result"
    }
   ],
   "source": [
    "df[\"district\"].describe()"
   ]
  },
  {
   "cell_type": "code",
   "execution_count": 29,
   "id": "e62f31be",
   "metadata": {
    "id": "e62f31be"
   },
   "outputs": [
    {
     "data": {
      "image/png": "[encoded data removed]",
      "text/plain": [
       "<Figure size 720x432 with 1 Axes>"
      ]
     },
     "metadata": {
      "needs_background": "light"
     },
     "output_type": "display_data"
    }
   ],
   "source": [
    "# Для наглядности построим диаграмму распределения\n",
    "\n",
    "plt.figure(figsize=(10, 6))\n",
    "\n",
    "df[\"district\"].value_counts(ascending=True).plot(\n",
    "    kind=\"barh\",\n",
    "    rot=0,\n",
    "    color=\"skyblue\",\n",
    "    legend=False,\n",
    "    edgecolor=\"black\",\n",
    "    title=f\"Распределение заведений общественного питания по административным районам Москвы\",\n",
    ")\n",
    "\n",
    "plt.xlabel(\"Количество заведений\")\n",
    "\n",
    "plt.show()"
   ]
  },
  {
   "cell_type": "markdown",
   "id": "5281a201",
   "metadata": {},
   "source": [
    "- **Исследуем распределение заведений каждой категории в Центральном административном округе Москвы:**"
   ]
  },
  {
   "cell_type": "code",
   "execution_count": 30,
   "id": "0a290cd1",
   "metadata": {
    "id": "0a290cd1"
   },
   "outputs": [
    {
     "data": {
      "image/png": "[encoded data removed]",
      "text/plain": [
       "<Figure size 720x432 with 1 Axes>"
      ]
     },
     "metadata": {
      "needs_background": "light"
     },
     "output_type": "display_data"
    },
    {
     "name": "stdout",
     "output_type": "stream",
     "text": [
      "Распределение заведений по категориям в ЦАО:\n",
      "\n",
      "ресторан           670\n",
      "кафе               464\n",
      "кофейня            428\n",
      "бар,паб            364\n",
      "пиццерия           113\n",
      "быстрое питание     87\n",
      "столовая            66\n",
      "булочная            50\n",
      "Name: category, dtype: int64\n"
     ]
    }
   ],
   "source": [
    "# Посчитаем количество заведений с группировкой по категориям в ЦАО\n",
    "\n",
    "cao_df = df[df[\"district\"] == \"Центральный административный округ\"]\n",
    "\n",
    "category_counts = cao_df[\"category\"].value_counts()\n",
    "\n",
    "# Построим гистограмму\n",
    "plt.figure(figsize=(10, 6))\n",
    "category_counts.plot(kind=\"bar\", color=\"skyblue\", edgecolor=\"black\", rot=30)\n",
    "\n",
    "\n",
    "plt.title(\"Распределение заведений в ЦАО по категориям\")\n",
    "plt.ylabel(\"Количество заведений\")\n",
    "\n",
    "plt.show()\n",
    "\n",
    "print(\"Распределение заведений по категориям в ЦАО:\\n\")\n",
    "print(category_counts)"
   ]
  },
  {
   "cell_type": "markdown",
   "id": "fbc96e15",
   "metadata": {},
   "source": [
    "В Москве больше всего заведений в Центральном административном округе (2242), а меньше всего — в Северо-Западном (409). В ЦАО наиболее распространены рестораны (670), кафе (464) и кофейни (428), тогда как столовые (66) и булочные (50) встречаются реже."
   ]
  },
  {
   "cell_type": "markdown",
   "id": "7c824f58",
   "metadata": {
    "id": "7c824f58"
   },
   "source": [
    "**3.3. Изучим соотношение сетевых и несетевых заведений.**"
   ]
  },
  {
   "cell_type": "markdown",
   "id": "048ed656",
   "metadata": {},
   "source": [
    "- **Изучим соотношение в целом по всем данным:**"
   ]
  },
  {
   "cell_type": "code",
   "execution_count": 31,
   "id": "7017e624",
   "metadata": {},
   "outputs": [
    {
     "data": {
      "text/plain": [
       "count      8406\n",
       "unique        2\n",
       "top       False\n",
       "freq       5201\n",
       "Name: chain, dtype: object"
      ]
     },
     "execution_count": 31,
     "metadata": {},
     "output_type": "execute_result"
    }
   ],
   "source": [
    "df[\"chain\"].describe()"
   ]
  },
  {
   "cell_type": "markdown",
   "id": "c3222f1b",
   "metadata": {},
   "source": [
    "Видим, что `преобладает количество несетевых заведений` (False). Посмотрим на соотношение сетевых инесетевых заведений:"
   ]
  },
  {
   "cell_type": "code",
   "execution_count": 32,
   "id": "80f0666b",
   "metadata": {},
   "outputs": [
    {
     "data": {
      "image/png": "[encoded data removed]",
      "text/plain": [
       "<Figure size 720x576 with 1 Axes>"
      ]
     },
     "metadata": {},
     "output_type": "display_data"
    }
   ],
   "source": [
    "plt.figure(figsize=(10, 8))\n",
    "\n",
    "df[\"chain\"].value_counts(normalize=True).plot(\n",
    "    kind=\"pie\",\n",
    "    colors=[\"salmon\", \"skyblue\"],\n",
    "    autopct=\"%1.1f%%\",\n",
    "    startangle=90,\n",
    "    wedgeprops={\"edgecolor\": \"black\"},\n",
    "    title=\"Соотношение сетевых и несетевых заведений\",\n",
    ")\n",
    "\n",
    "plt.ylabel(\"\")\n",
    "plt.show()"
   ]
  },
  {
   "cell_type": "markdown",
   "id": "561d5eec",
   "metadata": {},
   "source": [
    "Диаграмма показывает `преобладание 61.9 % несетевых заведений`."
   ]
  },
  {
   "cell_type": "markdown",
   "id": "0ba2502e",
   "metadata": {},
   "source": [
    "\n",
    "- **Изучим соотношение сетевых и несетевых заведений в разрезе категорий:**"
   ]
  },
  {
   "cell_type": "code",
   "execution_count": 33,
   "id": "f4c5965d",
   "metadata": {},
   "outputs": [
    {
     "name": "stdout",
     "output_type": "stream",
     "text": [
      "chain            False  True\n",
      "category                    \n",
      "бар,паб           0.78  0.22\n",
      "булочная          0.39  0.61\n",
      "быстрое питание   0.62  0.38\n",
      "кафе              0.67  0.33\n",
      "кофейня           0.49  0.51\n",
      "пиццерия          0.48  0.52\n",
      "ресторан          0.64  0.36\n",
      "столовая          0.72  0.28\n"
     ]
    },
    {
     "data": {
      "image/png": "[encoded data removed]",
      "text/plain": [
       "<Figure size 864x576 with 1 Axes>"
      ]
     },
     "metadata": {
      "needs_background": "light"
     },
     "output_type": "display_data"
    }
   ],
   "source": [
    "# Подсчитаем количество по категориям и типу заведения (сетевое/несетевое)\n",
    "df_chain = (\n",
    "    df.groupby(\"category\")[\"chain\"]\n",
    "    .value_counts(normalize=True)\n",
    "    .unstack(fill_value=0)\n",
    "    .round(2)\n",
    ")\n",
    "\n",
    "print(df_chain)\n",
    "\n",
    "# Строим график\n",
    "df_chain.plot(\n",
    "    kind=\"bar\", rot=30, color=[\"salmon\", \"skyblue\"], edgecolor=\"black\", figsize=(12, 8)\n",
    ")\n",
    "\n",
    "plt.title(\"Соотношение сетевых и несетевых заведений по категориям\")\n",
    "plt.xlabel(\"Категория\")\n",
    "plt.ylabel(\"Количество заведений\")\n",
    "plt.grid()\n",
    "\n",
    "\n",
    "plt.show()"
   ]
  },
  {
   "cell_type": "markdown",
   "id": "cc5e7a6e",
   "metadata": {},
   "source": [
    "Наибольшая доля сетевых заведений наблюдается среди `пиццерий (56%)` и `кофеен (49%)`.\n"
   ]
  },
  {
   "cell_type": "markdown",
   "id": "5913c3e3",
   "metadata": {
    "id": "5913c3e3"
   },
   "source": [
    "**3.4. Исследуем заведения по количеству посадочных мест:**\n"
   ]
  },
  {
   "cell_type": "markdown",
   "id": "b3a00c73",
   "metadata": {},
   "source": [
    "- **Построим гистограмму распределения:**"
   ]
  },
  {
   "cell_type": "code",
   "execution_count": 34,
   "id": "062b55d8",
   "metadata": {
    "id": "062b55d8",
    "scrolled": false
   },
   "outputs": [
    {
     "data": {
      "image/png": "[encoded data removed]",
      "text/plain": [
       "<Figure size 864x432 with 1 Axes>"
      ]
     },
     "metadata": {
      "needs_background": "light"
     },
     "output_type": "display_data"
    }
   ],
   "source": [
    "plt.figure(figsize=(12, 6))\n",
    "\n",
    "df[\"seats\"].plot(kind=\"hist\", bins=20, edgecolor=\"black\", color=\"skyblue\", rot=0)\n",
    "\n",
    "plt.title(\"Распределение заведений по наличию посадочных мест\")\n",
    "plt.xlabel(\"Количество мест\")\n",
    "plt.ylabel(\"Количество заведений\")\n",
    "\n",
    "plt.grid()\n",
    "\n",
    "plt.show()"
   ]
  },
  {
   "cell_type": "markdown",
   "id": "34dac79c",
   "metadata": {},
   "source": [
    "На диаграмме распределения видно, что `большинство заведений имеют количество мест в пределах 100`. Это является нормой для большинства заведений. Также, можно заметить некоторое количество заведений с 400 и 600 местами. Это может свидетельствовать о наличии крупных заведений или сетевых ресторанов с большими залами.  \n",
    "\n",
    "Однако встречаются аномальные значения, такие как заведения с 1200 местами, что скорее всего является выбросами.  \n",
    "\n",
    "**Чтобы проверить это выведем статистические данные по столбцу и построим диаграмму размаха:**\n"
   ]
  },
  {
   "cell_type": "code",
   "execution_count": 35,
   "id": "eb2866b9",
   "metadata": {},
   "outputs": [
    {
     "data": {
      "text/plain": [
       "count    4795.000000\n",
       "mean      108.421689\n",
       "std       122.833396\n",
       "min         0.000000\n",
       "25%        40.000000\n",
       "50%        75.000000\n",
       "75%       140.000000\n",
       "max      1288.000000\n",
       "Name: seats, dtype: float64"
      ]
     },
     "execution_count": 35,
     "metadata": {},
     "output_type": "execute_result"
    }
   ],
   "source": [
    "df[\"seats\"].describe()"
   ]
  },
  {
   "cell_type": "code",
   "execution_count": 36,
   "id": "74a4857c",
   "metadata": {},
   "outputs": [
    {
     "data": {
      "image/png": "[encoded data removed]",
      "text/plain": [
       "<Figure size 864x432 with 1 Axes>"
      ]
     },
     "metadata": {
      "needs_background": "light"
     },
     "output_type": "display_data"
    }
   ],
   "source": [
    "plt.figure(figsize=(12, 6))\n",
    "\n",
    "df.boxplot(column=\"seats\", vert=False)\n",
    "\n",
    "\n",
    "plt.title(\"Распределение заведений по наличию посадочных мест\")\n",
    "plt.xlabel(\"Количество мест\")\n",
    "\n",
    "\n",
    "plt.show()"
   ]
  },
  {
   "cell_type": "markdown",
   "id": "b23c7049",
   "metadata": {},
   "source": [
    "Статистически данные показывают, что `половина заведений имеют 80 и менее мест`.\n",
    "`Стандартное отклонение: 116.36` – довольно большой разброс значений.  \n",
    "\n",
    "На диаграмме размаха данные распределены неравномерно и имеют асимметрию вправо (правый хвост длиннее). `Основная масса заведений имеет менее 100 мест`, однако есть аномально крупные заведения, значительно превышающие медианные (300+) - вероятно это могут быть крупные рестораны, столовые и банкетные залы. Заведения с 1000+ мест можно считать выбросами так как они значительное отличаются от основной массы."
   ]
  },
  {
   "cell_type": "code",
   "execution_count": 37,
   "id": "fdb9f7ad",
   "metadata": {},
   "outputs": [
    {
     "name": "stdout",
     "output_type": "stream",
     "text": [
      "category\n",
      "ресторан           86.0\n",
      "бар,паб            82.5\n",
      "кофейня            80.0\n",
      "столовая           75.5\n",
      "быстрое питание    65.0\n",
      "кафе               60.0\n",
      "пиццерия           55.0\n",
      "булочная           50.0\n",
      "Name: seats, dtype: Float64\n"
     ]
    },
    {
     "data": {
      "image/png": "[encoded data removed]",
      "text/plain": [
       "<Figure size 864x432 with 1 Axes>"
      ]
     },
     "metadata": {
      "needs_background": "light"
     },
     "output_type": "display_data"
    }
   ],
   "source": [
    "# Сгруппируем количество мест в разрезе категорий\n",
    "grouped_data = df.groupby(\"category\")[\"seats\"].median().sort_values(ascending=False)\n",
    "\n",
    "print(grouped_data)\n",
    "\n",
    "\n",
    "plt.figure(figsize=(12, 6))\n",
    "\n",
    "grouped_data.plot(kind=\"bar\", color=\"skyblue\", edgecolor=\"black\", rot=30)\n",
    "\n",
    "plt.xlabel(\"Категория\")\n",
    "plt.ylabel(\"Количество мест\")\n",
    "plt.title(\"Распределение количества мест в разрезе категорий\")\n",
    "plt.grid()\n",
    "\n",
    "plt.show()"
   ]
  },
  {
   "cell_type": "markdown",
   "id": "b99a7cac",
   "metadata": {},
   "source": [
    "- Категории `Ресторан, Булочная, Бар/Паб` имеют наибольшее среднее количество посадочных мест = `80+`.\n",
    "- Категории `Кофейня, Столовая, Быстрое питание` - в диапазоне `75-80` посадочных мест.\n",
    "- Категории `Кафе, Пиццерия` - в среднем имеют `60` посадочных мест.\n",
    "    "
   ]
  },
  {
   "cell_type": "markdown",
   "id": "8ed065ea",
   "metadata": {
    "id": "8ed065ea"
   },
   "source": [
    "\n",
    "**3.5. Исследуем рейтинг заведений в разрезе категорий:**\n"
   ]
  },
  {
   "cell_type": "code",
   "execution_count": 38,
   "id": "7a608486",
   "metadata": {},
   "outputs": [
    {
     "data": {
      "text/html": [
       "<div>\n",
       "<style scoped>\n",
       "    .dataframe tbody tr th:only-of-type {\n",
       "        vertical-align: middle;\n",
       "    }\n",
       "\n",
       "    .dataframe tbody tr th {\n",
       "        vertical-align: top;\n",
       "    }\n",
       "\n",
       "    .dataframe thead th {\n",
       "        text-align: right;\n",
       "    }\n",
       "</style>\n",
       "<table border=\"1\" class=\"dataframe\">\n",
       "  <thead>\n",
       "    <tr style=\"text-align: right;\">\n",
       "      <th></th>\n",
       "      <th>count</th>\n",
       "      <th>mean</th>\n",
       "      <th>std</th>\n",
       "      <th>min</th>\n",
       "      <th>25%</th>\n",
       "      <th>50%</th>\n",
       "      <th>75%</th>\n",
       "      <th>max</th>\n",
       "    </tr>\n",
       "    <tr>\n",
       "      <th>category</th>\n",
       "      <th></th>\n",
       "      <th></th>\n",
       "      <th></th>\n",
       "      <th></th>\n",
       "      <th></th>\n",
       "      <th></th>\n",
       "      <th></th>\n",
       "      <th></th>\n",
       "    </tr>\n",
       "  </thead>\n",
       "  <tbody>\n",
       "    <tr>\n",
       "      <th>бар,паб</th>\n",
       "      <td>765.0</td>\n",
       "      <td>4.387712</td>\n",
       "      <td>0.380143</td>\n",
       "      <td>1.1</td>\n",
       "      <td>4.3</td>\n",
       "      <td>4.4</td>\n",
       "      <td>4.6</td>\n",
       "      <td>5.0</td>\n",
       "    </tr>\n",
       "    <tr>\n",
       "      <th>булочная</th>\n",
       "      <td>256.0</td>\n",
       "      <td>4.268359</td>\n",
       "      <td>0.386303</td>\n",
       "      <td>1.3</td>\n",
       "      <td>4.2</td>\n",
       "      <td>4.3</td>\n",
       "      <td>4.4</td>\n",
       "      <td>5.0</td>\n",
       "    </tr>\n",
       "    <tr>\n",
       "      <th>быстрое питание</th>\n",
       "      <td>603.0</td>\n",
       "      <td>4.050249</td>\n",
       "      <td>0.560949</td>\n",
       "      <td>1.1</td>\n",
       "      <td>3.9</td>\n",
       "      <td>4.2</td>\n",
       "      <td>4.3</td>\n",
       "      <td>5.0</td>\n",
       "    </tr>\n",
       "    <tr>\n",
       "      <th>кафе</th>\n",
       "      <td>2378.0</td>\n",
       "      <td>4.123886</td>\n",
       "      <td>0.566081</td>\n",
       "      <td>1.0</td>\n",
       "      <td>4.0</td>\n",
       "      <td>4.2</td>\n",
       "      <td>4.4</td>\n",
       "      <td>5.0</td>\n",
       "    </tr>\n",
       "    <tr>\n",
       "      <th>кофейня</th>\n",
       "      <td>1413.0</td>\n",
       "      <td>4.277282</td>\n",
       "      <td>0.372250</td>\n",
       "      <td>1.4</td>\n",
       "      <td>4.1</td>\n",
       "      <td>4.3</td>\n",
       "      <td>4.4</td>\n",
       "      <td>5.0</td>\n",
       "    </tr>\n",
       "    <tr>\n",
       "      <th>пиццерия</th>\n",
       "      <td>633.0</td>\n",
       "      <td>4.301264</td>\n",
       "      <td>0.336162</td>\n",
       "      <td>1.0</td>\n",
       "      <td>4.2</td>\n",
       "      <td>4.3</td>\n",
       "      <td>4.4</td>\n",
       "      <td>5.0</td>\n",
       "    </tr>\n",
       "    <tr>\n",
       "      <th>ресторан</th>\n",
       "      <td>2043.0</td>\n",
       "      <td>4.290357</td>\n",
       "      <td>0.413046</td>\n",
       "      <td>1.0</td>\n",
       "      <td>4.2</td>\n",
       "      <td>4.3</td>\n",
       "      <td>4.5</td>\n",
       "      <td>5.0</td>\n",
       "    </tr>\n",
       "    <tr>\n",
       "      <th>столовая</th>\n",
       "      <td>315.0</td>\n",
       "      <td>4.211429</td>\n",
       "      <td>0.454205</td>\n",
       "      <td>1.0</td>\n",
       "      <td>4.1</td>\n",
       "      <td>4.3</td>\n",
       "      <td>4.4</td>\n",
       "      <td>5.0</td>\n",
       "    </tr>\n",
       "  </tbody>\n",
       "</table>\n",
       "</div>"
      ],
      "text/plain": [
       "                  count      mean       std  min  25%  50%  75%  max\n",
       "category                                                            \n",
       "бар,паб           765.0  4.387712  0.380143  1.1  4.3  4.4  4.6  5.0\n",
       "булочная          256.0  4.268359  0.386303  1.3  4.2  4.3  4.4  5.0\n",
       "быстрое питание   603.0  4.050249  0.560949  1.1  3.9  4.2  4.3  5.0\n",
       "кафе             2378.0  4.123886  0.566081  1.0  4.0  4.2  4.4  5.0\n",
       "кофейня          1413.0  4.277282  0.372250  1.4  4.1  4.3  4.4  5.0\n",
       "пиццерия          633.0  4.301264  0.336162  1.0  4.2  4.3  4.4  5.0\n",
       "ресторан         2043.0  4.290357  0.413046  1.0  4.2  4.3  4.5  5.0\n",
       "столовая          315.0  4.211429  0.454205  1.0  4.1  4.3  4.4  5.0"
      ]
     },
     "execution_count": 38,
     "metadata": {},
     "output_type": "execute_result"
    }
   ],
   "source": [
    "# Выведем статистические данные в разрезе категорий\n",
    "\n",
    "df.groupby(\"category\")[\"rating\"].describe()"
   ]
  },
  {
   "cell_type": "code",
   "execution_count": 39,
   "id": "3e0ec5d7",
   "metadata": {
    "id": "3e0ec5d7",
    "scrolled": false
   },
   "outputs": [
    {
     "name": "stdout",
     "output_type": "stream",
     "text": [
      "category\n",
      "бар,паб            4.387712\n",
      "пиццерия           4.301264\n",
      "ресторан           4.290357\n",
      "кофейня            4.277282\n",
      "булочная           4.268359\n",
      "столовая           4.211429\n",
      "кафе               4.123886\n",
      "быстрое питание    4.050249\n",
      "Name: rating, dtype: float64\n"
     ]
    },
    {
     "data": {
      "image/png": "[encoded data removed]",
      "text/plain": [
       "<Figure size 864x432 with 1 Axes>"
      ]
     },
     "metadata": {
      "needs_background": "light"
     },
     "output_type": "display_data"
    }
   ],
   "source": [
    "mean_rating = df.groupby(\"category\")[\"rating\"].mean().sort_values(ascending=False)\n",
    "\n",
    "print(mean_rating)\n",
    "\n",
    "# Строим график\n",
    "plt.figure(figsize=(12, 6))\n",
    "mean_rating.plot(kind=\"bar\", color=\"skyblue\", edgecolor=\"black\", rot=30)\n",
    "\n",
    "\n",
    "plt.title(\"Распределение средних рейтингов по категориям заведений\")\n",
    "plt.ylabel(\"Оценки\")\n",
    "\n",
    "plt.grid()\n",
    "\n",
    "plt.show()"
   ]
  },
  {
   "cell_type": "markdown",
   "id": "4c845640",
   "metadata": {},
   "source": [
    "`Большинство заведений имеют высокие оценки (в районе 4.2–4.5)`, низкие рейтинги встречаются редко. Разница рейтингов в разрезе категорий выражена слабо. Это может говорить либо о хорошем общем уровне заведений, либо о том, что пользователи чаще ставят положительные оценки.  \n"
   ]
  },
  {
   "cell_type": "markdown",
   "id": "dd9702d9",
   "metadata": {
    "id": "dd9702d9"
   },
   "source": [
    "**3.6. Исследуем как рейтинги заведения коррелируют с различными данными (категория, локация, количемтво мест и т.п.):**"
   ]
  },
  {
   "cell_type": "code",
   "execution_count": 40,
   "id": "15400eb9",
   "metadata": {
    "id": "15400eb9"
   },
   "outputs": [
    {
     "name": "stdout",
     "output_type": "stream",
     "text": [
      "interval columns not set, guessing: ['seats', 'rating']\n",
      "Корреляционная матрица для rating\n"
     ]
    },
    {
     "data": {
      "text/html": [
       "<div>\n",
       "<style scoped>\n",
       "    .dataframe tbody tr th:only-of-type {\n",
       "        vertical-align: middle;\n",
       "    }\n",
       "\n",
       "    .dataframe tbody tr th {\n",
       "        vertical-align: top;\n",
       "    }\n",
       "\n",
       "    .dataframe thead th {\n",
       "        text-align: right;\n",
       "    }\n",
       "</style>\n",
       "<table border=\"1\" class=\"dataframe\">\n",
       "  <thead>\n",
       "    <tr style=\"text-align: right;\">\n",
       "      <th></th>\n",
       "      <th>rating</th>\n",
       "    </tr>\n",
       "  </thead>\n",
       "  <tbody>\n",
       "    <tr>\n",
       "      <th>price</th>\n",
       "      <td>0.22</td>\n",
       "    </tr>\n",
       "    <tr>\n",
       "      <th>district</th>\n",
       "      <td>0.20</td>\n",
       "    </tr>\n",
       "    <tr>\n",
       "      <th>category</th>\n",
       "      <td>0.19</td>\n",
       "    </tr>\n",
       "    <tr>\n",
       "      <th>is_24_7</th>\n",
       "      <td>0.17</td>\n",
       "    </tr>\n",
       "    <tr>\n",
       "      <th>chain</th>\n",
       "      <td>0.11</td>\n",
       "    </tr>\n",
       "    <tr>\n",
       "      <th>seats</th>\n",
       "      <td>0.00</td>\n",
       "    </tr>\n",
       "  </tbody>\n",
       "</table>\n",
       "</div>"
      ],
      "text/plain": [
       "          rating\n",
       "price       0.22\n",
       "district    0.20\n",
       "category    0.19\n",
       "is_24_7     0.17\n",
       "chain       0.11\n",
       "seats       0.00"
      ]
     },
     "execution_count": 40,
     "metadata": {},
     "output_type": "execute_result"
    }
   ],
   "source": [
    "correlation_matrix = df[\n",
    "    [\"category\", \"district\", \"chain\", \"seats\", \"price\", \"is_24_7\", \"rating\"]\n",
    "].phik_matrix()\n",
    "\n",
    "\n",
    "print(\"Корреляционная матрица для rating\")\n",
    "correlation_matrix.loc[correlation_matrix.index != \"rating\"][[\"rating\"]].sort_values(\n",
    "    by=\"rating\", ascending=False\n",
    ").round(2)"
   ]
  },
  {
   "cell_type": "code",
   "execution_count": 41,
   "id": "b73cc8e2",
   "metadata": {},
   "outputs": [
    {
     "data": {
      "image/png": "[encoded data removed]",
      "text/plain": [
       "<Figure size 144x432 with 1 Axes>"
      ]
     },
     "metadata": {
      "needs_background": "light"
     },
     "output_type": "display_data"
    }
   ],
   "source": [
    "# Построим тепловую карту\n",
    "plt.figure(figsize=(2, 6))\n",
    "\n",
    "data_heatmap = correlation_matrix.loc[correlation_matrix.index != \"rating\"][\n",
    "    [\"rating\"]\n",
    "].sort_values(by=\"rating\", ascending=False)\n",
    "sns.heatmap(\n",
    "    data_heatmap,\n",
    "    annot=True,\n",
    "    fmt=\".2f\",  # отразим данные с двумя знаками после запятой\n",
    "    cmap=\"coolwarm\",\n",
    "    linewidths=0.5,\n",
    "    cbar=False,\n",
    ")\n",
    "\n",
    "plt.title(\"Тепловая карта для rating\")\n",
    "plt.xlabel(\"Рейтинг заведения\")\n",
    "\n",
    "\n",
    "plt.show()"
   ]
  },
  {
   "cell_type": "markdown",
   "id": "6f905ee3",
   "metadata": {
    "id": "1a65a84d"
   },
   "source": [
    "Наибольшая корреляция наблюдается с ценовой категорией `price` (0.22). Так же наблюдается высокая корреляция рейтинга с районом `district` (0.20) и категорией заведедения `category` (0.19). Для остальных признаков коэффициент корреляции снижается с 0.17 до 0.  \n",
    "\n",
    "- **Изучим зависимость рейтинга от ценовой категории:**"
   ]
  },
  {
   "cell_type": "code",
   "execution_count": 42,
   "id": "588d1978",
   "metadata": {},
   "outputs": [
    {
     "name": "stdout",
     "output_type": "stream",
     "text": [
      "Корреляция между ценовой категорией и рейтингом: -0.23\n"
     ]
    }
   ],
   "source": [
    "# Посчитаем коэффициент корреляции по Спирмену\n",
    "corr = df[\"price\"].corr(df[\"rating\"], method=\"spearman\")\n",
    "print(f\"Корреляция между ценовой категорией и рейтингом: {corr:.2f}\")"
   ]
  },
  {
   "cell_type": "markdown",
   "id": "eeec905b",
   "metadata": {},
   "source": [
    "`Корреляция -0.23` говорит о слабой отрицательной связи. Это означает, что с повышением ценовой категории рейтинг немного снижается, но эта связь назначтильна."
   ]
  },
  {
   "cell_type": "markdown",
   "id": "370de703",
   "metadata": {
    "id": "370de703"
   },
   "source": [
    "**3.7. Исследуем топ-15 самых популярных заведений Москвы:**\n"
   ]
  },
  {
   "cell_type": "markdown",
   "id": "09830acb",
   "metadata": {},
   "source": [
    "- **Составим топ-15 по количеству заведений:**"
   ]
  },
  {
   "cell_type": "code",
   "execution_count": 43,
   "id": "8246d328",
   "metadata": {
    "id": "5d828a9a"
   },
   "outputs": [
    {
     "data": {
      "text/html": [
       "<div>\n",
       "<style scoped>\n",
       "    .dataframe tbody tr th:only-of-type {\n",
       "        vertical-align: middle;\n",
       "    }\n",
       "\n",
       "    .dataframe tbody tr th {\n",
       "        vertical-align: top;\n",
       "    }\n",
       "\n",
       "    .dataframe thead th {\n",
       "        text-align: right;\n",
       "    }\n",
       "</style>\n",
       "<table border=\"1\" class=\"dataframe\">\n",
       "  <thead>\n",
       "    <tr style=\"text-align: right;\">\n",
       "      <th></th>\n",
       "      <th></th>\n",
       "      <th>count</th>\n",
       "      <th>avg_rating</th>\n",
       "    </tr>\n",
       "    <tr>\n",
       "      <th>name</th>\n",
       "      <th>category</th>\n",
       "      <th></th>\n",
       "      <th></th>\n",
       "    </tr>\n",
       "  </thead>\n",
       "  <tbody>\n",
       "    <tr>\n",
       "      <th>КАФЕ</th>\n",
       "      <th>кафе</th>\n",
       "      <td>159</td>\n",
       "      <td>3.85</td>\n",
       "    </tr>\n",
       "    <tr>\n",
       "      <th>ШОКОЛАДНИЦА</th>\n",
       "      <th>кофейня</th>\n",
       "      <td>119</td>\n",
       "      <td>4.18</td>\n",
       "    </tr>\n",
       "    <tr>\n",
       "      <th>ДОМИНО'С ПИЦЦА</th>\n",
       "      <th>пиццерия</th>\n",
       "      <td>77</td>\n",
       "      <td>4.17</td>\n",
       "    </tr>\n",
       "    <tr>\n",
       "      <th>ДОДО ПИЦЦА</th>\n",
       "      <th>пиццерия</th>\n",
       "      <td>74</td>\n",
       "      <td>4.29</td>\n",
       "    </tr>\n",
       "    <tr>\n",
       "      <th>ONE PRICE COFFEE</th>\n",
       "      <th>кофейня</th>\n",
       "      <td>72</td>\n",
       "      <td>4.07</td>\n",
       "    </tr>\n",
       "    <tr>\n",
       "      <th>ЯНДЕКС ЛАВКА</th>\n",
       "      <th>ресторан</th>\n",
       "      <td>69</td>\n",
       "      <td>3.87</td>\n",
       "    </tr>\n",
       "    <tr>\n",
       "      <th>COFIX</th>\n",
       "      <th>кофейня</th>\n",
       "      <td>65</td>\n",
       "      <td>4.08</td>\n",
       "    </tr>\n",
       "    <tr>\n",
       "      <th>PRIME</th>\n",
       "      <th>ресторан</th>\n",
       "      <td>49</td>\n",
       "      <td>4.11</td>\n",
       "    </tr>\n",
       "    <tr>\n",
       "      <th>КОФЕПОРТ</th>\n",
       "      <th>кофейня</th>\n",
       "      <td>42</td>\n",
       "      <td>4.15</td>\n",
       "    </tr>\n",
       "    <tr>\n",
       "      <th>КУЛИНАРНАЯ ЛАВКА БРАТЬЕВ КАРАВАЕВЫХ</th>\n",
       "      <th>кафе</th>\n",
       "      <td>39</td>\n",
       "      <td>4.39</td>\n",
       "    </tr>\n",
       "    <tr>\n",
       "      <th>ТЕРЕМОК</th>\n",
       "      <th>ресторан</th>\n",
       "      <td>36</td>\n",
       "      <td>4.11</td>\n",
       "    </tr>\n",
       "    <tr>\n",
       "      <th>РЕСТОРАН</th>\n",
       "      <th>ресторан</th>\n",
       "      <td>33</td>\n",
       "      <td>4.32</td>\n",
       "    </tr>\n",
       "    <tr>\n",
       "      <th>ШАУРМА</th>\n",
       "      <th>быстрое питание</th>\n",
       "      <td>32</td>\n",
       "      <td>3.85</td>\n",
       "    </tr>\n",
       "    <tr>\n",
       "      <th>COFEFEST</th>\n",
       "      <th>кофейня</th>\n",
       "      <td>31</td>\n",
       "      <td>3.98</td>\n",
       "    </tr>\n",
       "    <tr>\n",
       "      <th>ЧАЙХАНА</th>\n",
       "      <th>кафе</th>\n",
       "      <td>26</td>\n",
       "      <td>3.95</td>\n",
       "    </tr>\n",
       "  </tbody>\n",
       "</table>\n",
       "</div>"
      ],
      "text/plain": [
       "                                                     count  avg_rating\n",
       "name                                category                          \n",
       "КАФЕ                                кафе               159        3.85\n",
       "ШОКОЛАДНИЦА                         кофейня            119        4.18\n",
       "ДОМИНО'С ПИЦЦА                      пиццерия            77        4.17\n",
       "ДОДО ПИЦЦА                          пиццерия            74        4.29\n",
       "ONE PRICE COFFEE                    кофейня             72        4.07\n",
       "ЯНДЕКС ЛАВКА                        ресторан            69        3.87\n",
       "COFIX                               кофейня             65        4.08\n",
       "PRIME                               ресторан            49        4.11\n",
       "КОФЕПОРТ                            кофейня             42        4.15\n",
       "КУЛИНАРНАЯ ЛАВКА БРАТЬЕВ КАРАВАЕВЫХ кафе                39        4.39\n",
       "ТЕРЕМОК                             ресторан            36        4.11\n",
       "РЕСТОРАН                            ресторан            33        4.32\n",
       "ШАУРМА                              быстрое питание     32        3.85\n",
       "COFEFEST                            кофейня             31        3.98\n",
       "ЧАЙХАНА                             кафе                26        3.95"
      ]
     },
     "execution_count": 43,
     "metadata": {},
     "output_type": "execute_result"
    }
   ],
   "source": [
    "pivot = (\n",
    "    pd.pivot_table(\n",
    "        df,\n",
    "        index=[\"name\", \"category\"],\n",
    "        values=[\"id\", \"rating\"],\n",
    "        aggfunc={\n",
    "            \"id\": \"count\",\n",
    "            \"rating\": \"mean\",\n",
    "        },  # считаем количество заведений и средний рейтинг\n",
    "    )\n",
    "    .round(2)\n",
    "    .rename(columns={\"id\": \"count\", \"rating\": \"avg_rating\"})  # Переименовываем столбцы\n",
    "    .sort_values(by=\"count\", ascending=False)\n",
    "    .head(15)  # Выводим топ-15\n",
    ")\n",
    "\n",
    "pivot"
   ]
  },
  {
   "cell_type": "code",
   "execution_count": 44,
   "id": "774348d5",
   "metadata": {
    "id": "774348d5"
   },
   "outputs": [
    {
     "data": {
      "image/png": "[encoded data removed]",
      "text/plain": [
       "<Figure size 864x432 with 1 Axes>"
      ]
     },
     "metadata": {
      "needs_background": "light"
     },
     "output_type": "display_data"
    }
   ],
   "source": [
    "pivot = pivot.sort_values(by=\"count\", ascending=True)\n",
    "\n",
    "\n",
    "plt.figure(figsize=(12, 6))\n",
    "\n",
    "pivot[\"count\"].plot(kind=\"barh\", color=\"skyblue\", edgecolor=\"black\", rot=0)\n",
    "\n",
    "\n",
    "plt.xlabel(\"Количество заведений\")\n",
    "plt.ylabel(\"Название сети\")\n",
    "plt.title(\"Топ-15 популярных сетей в Москве\")\n",
    "plt.show()"
   ]
  },
  {
   "cell_type": "markdown",
   "id": "8ff9be71",
   "metadata": {},
   "source": [
    "Наиболее популярной сетью по количеству заведений является сеть `\"КАФЕ\" (159 заведений)` в категории \"кафе\". Возможно, это связано с ошибками в данных, так как название сети слишком общее.\n",
    "Второй по популярности является сеть кофеен `\"ШОКОЛАДНИЦА\" (119 заведений)`, относящаяся к категории \"кофейни\".\n",
    "На третьем месте находится сеть `\"ДОМИНО'С ПИЦЦА\" (77 заведений)` в категории \"пиццерии\"."
   ]
  },
  {
   "cell_type": "markdown",
   "id": "75fb24a0",
   "metadata": {},
   "source": [
    "- **Изучим рейтинг для топ-15 самых популярных заведений Москвы:**"
   ]
  },
  {
   "cell_type": "code",
   "execution_count": 45,
   "id": "79b1b9a0",
   "metadata": {},
   "outputs": [
    {
     "data": {
      "image/png": "[encoded data removed]",
      "text/plain": [
       "<Figure size 864x432 with 1 Axes>"
      ]
     },
     "metadata": {
      "needs_background": "light"
     },
     "output_type": "display_data"
    }
   ],
   "source": [
    "plt.figure(figsize=(12, 6))\n",
    "\n",
    "pivot[\"avg_rating\"].sort_values(ascending=True).plot(\n",
    "    kind=\"barh\", color=\"skyblue\", edgecolor=\"black\", rot=0\n",
    ")\n",
    "\n",
    "plt.xlabel(\"Рейтинг\")\n",
    "plt.ylabel(\"Название сети\")\n",
    "plt.title(\"Рейтинг для топ-15 популярных сетей в Москве\")\n",
    "plt.show()"
   ]
  },
  {
   "cell_type": "markdown",
   "id": "95a7ecd0",
   "metadata": {},
   "source": [
    "Наивысший рейтинг имеет сеть кафе КУЛИНАРНАЯ ЛАВКА БРАТЬЕВ КАРАВАЕВЫХ (`4.39`). Рейтинг остальных сетей находится в диапазоне от `3.85` до `4.32`, что говорит о том, что большинство популярных сетей в Москве имеют относительно высокий средний рейтинг.\n",
    "\n",
    "Основная часть сетей с высоким рейтингом относится к категории кофейни (например, \"ШОКОЛАДНИЦА\", \"КОФЕПОРТ\"), а также кафе и рестораны."
   ]
  },
  {
   "cell_type": "markdown",
   "id": "85a90a94",
   "metadata": {
    "id": "85a90a94"
   },
   "source": [
    "**3.8. Анализируем, как размер среднего чека варьируется в зависимости от района Москвы:**"
   ]
  },
  {
   "cell_type": "code",
   "execution_count": 46,
   "id": "44470e90",
   "metadata": {},
   "outputs": [
    {
     "data": {
      "image/png": "[encoded data removed]",
      "text/plain": [
       "<Figure size 864x432 with 1 Axes>"
      ]
     },
     "metadata": {
      "needs_background": "light"
     },
     "output_type": "display_data"
    }
   ],
   "source": [
    "import matplotlib.pyplot as plt\n",
    "\n",
    "# Группируем по району и вычисляем средние и медианные цены по районам\n",
    "grouped_mean = df.groupby(\"district\")[\"middle_avg_bill\"].mean().round(2)\n",
    "grouped_median = df.groupby(\"district\")[\"middle_avg_bill\"].median().round(2)\n",
    "\n",
    "# Создаем DataFrame, чтобы отобразить их на одном графике\n",
    "grouped_dataframe = pd.DataFrame({\"Среднее\": grouped_mean, \"Медиана\": grouped_median})\n",
    "\n",
    "# Сортируем по среднему чеку\n",
    "grouped_dataframe = grouped_dataframe.sort_values(by=\"Среднее\", ascending=True)\n",
    "\n",
    "# Строим график\n",
    "grouped_dataframe.plot(\n",
    "    kind=\"barh\",\n",
    "    figsize=(12, 6),\n",
    "    color=[\"skyblue\", \"salmon\"],\n",
    "    edgecolor=\"black\",\n",
    "    legend=True,\n",
    ")\n",
    "\n",
    "plt.xlabel(\"Район\")\n",
    "plt.ylabel(\"Средний чек\")\n",
    "plt.title(\"Сравнение средней и медианной цен по районам\")\n",
    "plt.grid(True)\n",
    "plt.show()"
   ]
  },
  {
   "cell_type": "code",
   "execution_count": 47,
   "id": "7ff9077b",
   "metadata": {
    "scrolled": false
   },
   "outputs": [
    {
     "data": {
      "image/png": "[encoded data removed]",
      "text/plain": [
       "<Figure size 576x360 with 1 Axes>"
      ]
     },
     "metadata": {
      "needs_background": "light"
     },
     "output_type": "display_data"
    },
    {
     "name": "stdout",
     "output_type": "stream",
     "text": [
      "Средний чек в ЦАО: 1191.06 руб.\n",
      "Средний чек в других районах: 839.82 руб.\n",
      "Разница: 351.23 руб.\n"
     ]
    }
   ],
   "source": [
    "# Выделяем данные для ЦАО и других районов\n",
    "df[\"is_CAO\"] = df[\"district\"] == \"Центральный административный округ\"\n",
    "\n",
    "# Считаем средний чек по ЦАО и остальным районам\n",
    "avg_bill_cao = df[df[\"is_CAO\"] == 1][\"middle_avg_bill\"].mean()\n",
    "avg_bill_other = df[df[\"is_CAO\"] == 0][\"middle_avg_bill\"].mean()\n",
    "\n",
    "# Вычисляем разницу\n",
    "difference = avg_bill_cao - avg_bill_other\n",
    "\n",
    "# Строим график сравнения цен в ЦАО с ценами в других районах\n",
    "plt.figure(figsize=(8, 5))\n",
    "sns.barplot(data=df, x=\"is_CAO\", y=\"middle_avg_bill\", palette=[\"skyblue\", \"lightcoral\"])\n",
    "plt.xticks([0, 1], [\"Другие районы\", \"ЦАО\"])\n",
    "plt.title(\"Средний чек в ЦАО и других районах\")\n",
    "plt.xlabel(\"Районы Москвы\")\n",
    "plt.ylabel(\"Средний чек (руб.)\")\n",
    "plt.grid()\n",
    "plt.show()\n",
    "\n",
    "\n",
    "print(f\"Средний чек в ЦАО: {avg_bill_cao:.2f} руб.\")\n",
    "print(f\"Средний чек в других районах: {avg_bill_other:.2f} руб.\")\n",
    "print(f\"Разница: {difference:.2f} руб.\")"
   ]
  },
  {
   "cell_type": "markdown",
   "id": "ebd01801",
   "metadata": {},
   "source": [
    "Средний чек в заведениях ЦАО выше, чем в остальных районах Москвы, в среднем на 350 рублей. Более высокие цены в центре можно объяснить высоким спросом, хорошей транспортной доступностью и высокими затратами на аренду.\n",
    "Цены в других районах могут быть ниже из-за меньшей концентрации посетителей, разных уровней доходов, более дешевой арендой."
   ]
  },
  {
   "cell_type": "markdown",
   "id": "480f3422",
   "metadata": {
    "id": "480f3422"
   },
   "source": [
    "## 4. Итоговый вывод и рекомендации\n"
   ]
  },
  {
   "cell_type": "markdown",
   "id": "5e87927a",
   "metadata": {},
   "source": [
    "В рамках исследования проанализированы данные о `8406` заведениях общественного питания Москвы. Анализ охватывает категории заведений, их расположение, рейтинги, ценовую политику и сетевое/несетевое распределение. \n",
    "\n",
    "### Ключевые выводы:\n",
    "\n",
    "- **Категории заведений:** в данных представлено 8 категорий заведений: кафе, ресторан, кофейня, бар/паб, пиццерия, быстрое питание, столовая и булочная. Наибольшее количество заведений относится к категориям кафе (2378) и рестораны (2043). Это означает высокую конкуренцию в этих категориях, особенно в центральных районах. При выборе концепции нового заведения стоит это учитывать.\n",
    "\n",
    "- **Сетевое и несетевое распределение:** 61.9% заведений — несетевые, однако среди пиццерий (56%) и кофеен (49%) сетевые заведения встречаются чаще. Это говорит о том, что для этих категорий сетевой формат может быть более эффективным.\n",
    "\n",
    "- **Рейтинг и качество:** средний рейтинг заведений варьируется от 4.2 до 4.5. Бары/пабы (4.38), рестораны (4.30) и пиццерии (4.29) имеют самые высокие оценки, в то время как заведения быстрого питания (4.05) — самые низкие.  \n",
    "Среди сетевых заведений наивысший рейтинг имеет сеть кафе \"КУЛИНАРНАЯ ЛАВКА БРАТЬЕВ КАРАВАЕВЫХ\" (4.39). Большинство популярных сетей в Москве имеют относительно высокий рейтинг (от 3.85 до 4.32), особенно сети кофеен (\"ШОКОЛАДНИЦА\", \"КОФЕПОРТ\"), кафе и ресторанов. Это подтверждает важность качества сервиса и репутации сети.\n",
    "\n",
    "- **Ценовая политика и расположение:** средний чек в Центральном административном округе (1191 руб.) выше, чем в остальных районах в среднем на 351 руб. Это может объясняться более дорогой арендой в центре города, более высоким уровнем заведений и высокой платежеспособностью посетителей.\n",
    "\n",
    "\n",
    "### Рекомендации:\n",
    "\n",
    "- **Определение концепции заведения:** рынок кафе и ресторанов уже насыщен, и конкуренция в этих категориях высока. Если цель — выйти на более дорогой сегмент с высокой конкуренцией, ресторан будет хорошим выбором. Если же задача — выбрать менее насыщенную нишу, стоит обратить внимание на кофейни или столовые.\n",
    "\n",
    "- **Выбор формата заведения:** для быстрого масштабирования и роста лучше рассматривать сетевые форматы, особенно для пиццерий и кофеен. В то же время, если концепция ориентирована на индивидуальность, можно сосредоточиться на несетевых заведениях.\n",
    "\n",
    "- **Расположение заведения:** ЦАО идеально подходит для высокого ценового сегмента и премиального сервиса. Для более доступной ценовой категории, с большим объемом посетителей, стоит выбирать районы, удалённые от центра.\n",
    "\n",
    "- **Рейтинг и качество обслуживания:** прежде чем открывать заведение, стоит обеспечить высокий уровень качества обслуживания и продуктов. Рестораны и бары/пабы показывают наивысшие рейтинги, а среди сетевых заведений лучшие оценки у \"КУЛИНАРНОЙ ЛАВКИ БРАТЬЕВ КАРАВАЕВЫХ\" (4.39). Внимание к этим аспектам поможет создать хорошую репутацию с самого начала.\n",
    "\n",
    "**Заключение:** при открытии нового заведения в Москве рекомендуется ориентироваться на концепцию кафе или ресторана. Эти категории популярны, но и конкуренция в них высокая. Поэтому важно выделяться качественным обслуживанием и уникальной концепцией.\n",
    "\n",
    "Для успешного старта целесообразно выбрать центральные районы города, где есть потенциал для установки более высокого среднего чека и высокая проходимость. При этом стоит учитывать высокие арендные ставки в этих районах. Важно тщательно продумать бизнес-модель, чтобы высокий уровень аренды компенсировался за счет большего потока клиентов и более высоких цен.\n",
    "\n",
    "\n"
   ]
  }
 ],
 "metadata": {
  "ExecuteTimeLog": [
   {
    "duration": 69,
    "start_time": "2025-02-27T14:54:15.021Z"
   },
   {
    "duration": 1445,
    "start_time": "2025-02-27T14:57:30.448Z"
   },
   {
    "duration": 12,
    "start_time": "2025-02-27T14:57:52.338Z"
   },
   {
    "duration": 3531,
    "start_time": "2025-02-27T14:59:06.978Z"
   },
   {
    "duration": 80,
    "start_time": "2025-02-27T14:59:17.902Z"
   },
   {
    "duration": 2530,
    "start_time": "2025-02-27T14:59:57.652Z"
   },
   {
    "duration": 59,
    "start_time": "2025-02-27T15:02:41.891Z"
   },
   {
    "duration": 56,
    "start_time": "2025-02-27T15:03:03.853Z"
   },
   {
    "duration": 114,
    "start_time": "2025-02-27T15:03:35.628Z"
   },
   {
    "duration": 86,
    "start_time": "2025-02-27T15:03:38.016Z"
   },
   {
    "duration": 17,
    "start_time": "2025-02-27T15:07:43.610Z"
   },
   {
    "duration": 16,
    "start_time": "2025-02-27T15:08:01.595Z"
   },
   {
    "duration": 15,
    "start_time": "2025-02-27T15:08:05.541Z"
   },
   {
    "duration": 13,
    "start_time": "2025-02-27T15:08:09.748Z"
   },
   {
    "duration": 12,
    "start_time": "2025-02-27T15:08:12.565Z"
   },
   {
    "duration": 18,
    "start_time": "2025-02-27T15:08:39.057Z"
   },
   {
    "duration": 3,
    "start_time": "2025-02-27T15:09:08.952Z"
   },
   {
    "duration": 8,
    "start_time": "2025-02-27T15:14:21.710Z"
   },
   {
    "duration": 8,
    "start_time": "2025-02-27T15:14:47.102Z"
   },
   {
    "duration": 78,
    "start_time": "2025-02-27T15:15:06.404Z"
   },
   {
    "duration": 12,
    "start_time": "2025-02-27T15:15:08.600Z"
   },
   {
    "duration": 16,
    "start_time": "2025-02-27T15:15:18.164Z"
   },
   {
    "duration": 9,
    "start_time": "2025-02-27T15:15:21.460Z"
   },
   {
    "duration": 11,
    "start_time": "2025-02-27T15:15:33.750Z"
   },
   {
    "duration": 2400,
    "start_time": "2025-02-27T15:16:17.792Z"
   },
   {
    "duration": 1308,
    "start_time": "2025-02-27T15:16:20.194Z"
   },
   {
    "duration": 76,
    "start_time": "2025-02-27T15:16:21.504Z"
   },
   {
    "duration": 16,
    "start_time": "2025-02-27T15:16:21.582Z"
   },
   {
    "duration": 55,
    "start_time": "2025-02-27T15:16:21.599Z"
   },
   {
    "duration": 18,
    "start_time": "2025-02-27T15:16:21.656Z"
   },
   {
    "duration": 14,
    "start_time": "2025-02-27T15:16:21.675Z"
   },
   {
    "duration": 3,
    "start_time": "2025-02-27T15:16:32.142Z"
   },
   {
    "duration": 78,
    "start_time": "2025-02-27T15:16:35.931Z"
   },
   {
    "duration": 12,
    "start_time": "2025-02-27T15:16:38.019Z"
   },
   {
    "duration": 12,
    "start_time": "2025-02-27T15:16:42.630Z"
   },
   {
    "duration": 10,
    "start_time": "2025-02-27T15:16:45.029Z"
   },
   {
    "duration": 11,
    "start_time": "2025-02-27T15:16:46.485Z"
   },
   {
    "duration": 1553,
    "start_time": "2025-02-28T09:50:28.598Z"
   },
   {
    "duration": 0,
    "start_time": "2025-02-28T09:50:30.153Z"
   },
   {
    "duration": 0,
    "start_time": "2025-02-28T09:50:30.154Z"
   },
   {
    "duration": 0,
    "start_time": "2025-02-28T09:50:30.155Z"
   },
   {
    "duration": 0,
    "start_time": "2025-02-28T09:50:30.156Z"
   },
   {
    "duration": 0,
    "start_time": "2025-02-28T09:50:30.158Z"
   },
   {
    "duration": 9,
    "start_time": "2025-02-28T09:50:44.624Z"
   },
   {
    "duration": 3461,
    "start_time": "2025-02-28T09:51:09.923Z"
   },
   {
    "duration": 57,
    "start_time": "2025-02-28T09:51:21.696Z"
   },
   {
    "duration": 86,
    "start_time": "2025-02-28T09:51:24.524Z"
   },
   {
    "duration": 18,
    "start_time": "2025-02-28T09:51:27.391Z"
   },
   {
    "duration": 16,
    "start_time": "2025-02-28T09:51:29.817Z"
   },
   {
    "duration": 10,
    "start_time": "2025-02-28T09:51:32.188Z"
   },
   {
    "duration": 11,
    "start_time": "2025-02-28T09:51:34.771Z"
   },
   {
    "duration": 100,
    "start_time": "2025-02-28T10:03:15.919Z"
   },
   {
    "duration": 12,
    "start_time": "2025-02-28T10:03:37.029Z"
   },
   {
    "duration": 15,
    "start_time": "2025-02-28T10:07:09.289Z"
   },
   {
    "duration": 17,
    "start_time": "2025-02-28T10:07:38.651Z"
   },
   {
    "duration": 17,
    "start_time": "2025-02-28T10:26:45.787Z"
   },
   {
    "duration": 12,
    "start_time": "2025-02-28T10:27:42.290Z"
   },
   {
    "duration": 11,
    "start_time": "2025-02-28T10:27:48.241Z"
   },
   {
    "duration": 15,
    "start_time": "2025-02-28T10:53:48.633Z"
   },
   {
    "duration": 84,
    "start_time": "2025-02-28T10:55:58.111Z"
   },
   {
    "duration": 15,
    "start_time": "2025-02-28T10:56:54.520Z"
   },
   {
    "duration": 21,
    "start_time": "2025-02-28T10:58:16.788Z"
   },
   {
    "duration": 10,
    "start_time": "2025-02-28T10:58:23.374Z"
   },
   {
    "duration": 10,
    "start_time": "2025-02-28T10:59:11.168Z"
   },
   {
    "duration": 12,
    "start_time": "2025-02-28T11:00:25.576Z"
   },
   {
    "duration": 10,
    "start_time": "2025-02-28T11:00:54.761Z"
   },
   {
    "duration": 11,
    "start_time": "2025-02-28T11:01:24.157Z"
   },
   {
    "duration": 5,
    "start_time": "2025-02-28T11:11:56.546Z"
   },
   {
    "duration": 69,
    "start_time": "2025-02-28T11:14:45.669Z"
   },
   {
    "duration": 9,
    "start_time": "2025-02-28T11:19:21.287Z"
   },
   {
    "duration": 2517,
    "start_time": "2025-02-28T11:38:35.349Z"
   },
   {
    "duration": 1626,
    "start_time": "2025-02-28T11:38:37.869Z"
   },
   {
    "duration": 93,
    "start_time": "2025-02-28T11:38:39.497Z"
   },
   {
    "duration": 18,
    "start_time": "2025-02-28T11:38:39.592Z"
   },
   {
    "duration": 17,
    "start_time": "2025-02-28T11:38:39.611Z"
   },
   {
    "duration": 10,
    "start_time": "2025-02-28T11:38:39.630Z"
   },
   {
    "duration": 34,
    "start_time": "2025-02-28T11:38:39.641Z"
   },
   {
    "duration": 11,
    "start_time": "2025-02-28T11:38:39.677Z"
   },
   {
    "duration": 21,
    "start_time": "2025-02-28T11:38:39.690Z"
   },
   {
    "duration": 25,
    "start_time": "2025-02-28T11:38:39.713Z"
   },
   {
    "duration": 9,
    "start_time": "2025-02-28T11:38:39.740Z"
   },
   {
    "duration": 41,
    "start_time": "2025-02-28T11:38:39.750Z"
   },
   {
    "duration": 79,
    "start_time": "2025-02-28T12:02:49.917Z"
   },
   {
    "duration": 2570,
    "start_time": "2025-02-28T14:53:40.054Z"
   },
   {
    "duration": 1274,
    "start_time": "2025-02-28T14:53:42.627Z"
   },
   {
    "duration": 104,
    "start_time": "2025-02-28T14:53:43.903Z"
   },
   {
    "duration": 16,
    "start_time": "2025-02-28T14:53:44.009Z"
   },
   {
    "duration": 14,
    "start_time": "2025-02-28T14:53:44.027Z"
   },
   {
    "duration": 25,
    "start_time": "2025-02-28T14:53:44.042Z"
   },
   {
    "duration": 25,
    "start_time": "2025-02-28T14:53:44.068Z"
   },
   {
    "duration": 16,
    "start_time": "2025-02-28T14:53:44.094Z"
   },
   {
    "duration": 39,
    "start_time": "2025-02-28T14:53:44.111Z"
   },
   {
    "duration": 26,
    "start_time": "2025-02-28T14:53:44.152Z"
   },
   {
    "duration": 59,
    "start_time": "2025-02-28T14:53:44.180Z"
   },
   {
    "duration": 5,
    "start_time": "2025-02-28T15:02:36.089Z"
   },
   {
    "duration": 110,
    "start_time": "2025-02-28T15:02:55.832Z"
   },
   {
    "duration": 15,
    "start_time": "2025-02-28T15:03:46.340Z"
   },
   {
    "duration": 4,
    "start_time": "2025-02-28T15:04:09.100Z"
   },
   {
    "duration": 23,
    "start_time": "2025-02-28T15:05:16.076Z"
   },
   {
    "duration": 11,
    "start_time": "2025-02-28T15:05:39.956Z"
   },
   {
    "duration": 10,
    "start_time": "2025-02-28T15:08:49.194Z"
   },
   {
    "duration": 21,
    "start_time": "2025-02-28T15:09:55.821Z"
   },
   {
    "duration": 76,
    "start_time": "2025-02-28T15:17:28.557Z"
   },
   {
    "duration": 3,
    "start_time": "2025-02-28T15:17:47.788Z"
   },
   {
    "duration": 15,
    "start_time": "2025-02-28T15:19:21.911Z"
   },
   {
    "duration": 16,
    "start_time": "2025-02-28T15:22:44.971Z"
   },
   {
    "duration": 15,
    "start_time": "2025-02-28T15:24:00.992Z"
   },
   {
    "duration": 17,
    "start_time": "2025-02-28T15:32:15.603Z"
   },
   {
    "duration": 5,
    "start_time": "2025-02-28T15:33:21.395Z"
   },
   {
    "duration": 5,
    "start_time": "2025-02-28T15:33:30.589Z"
   },
   {
    "duration": 9,
    "start_time": "2025-02-28T15:36:50.190Z"
   },
   {
    "duration": 11,
    "start_time": "2025-02-28T15:36:53.337Z"
   },
   {
    "duration": 6,
    "start_time": "2025-02-28T15:44:35.122Z"
   },
   {
    "duration": 16,
    "start_time": "2025-02-28T15:45:09.786Z"
   },
   {
    "duration": 13,
    "start_time": "2025-02-28T15:45:18.237Z"
   },
   {
    "duration": 14,
    "start_time": "2025-02-28T15:46:26.701Z"
   },
   {
    "duration": 2607,
    "start_time": "2025-02-28T15:47:47.554Z"
   },
   {
    "duration": 1232,
    "start_time": "2025-02-28T15:47:50.163Z"
   },
   {
    "duration": 82,
    "start_time": "2025-02-28T15:47:51.396Z"
   },
   {
    "duration": 15,
    "start_time": "2025-02-28T15:47:51.481Z"
   },
   {
    "duration": 28,
    "start_time": "2025-02-28T15:47:51.498Z"
   },
   {
    "duration": 110,
    "start_time": "2025-02-28T15:47:51.528Z"
   },
   {
    "duration": 35,
    "start_time": "2025-02-28T15:47:51.640Z"
   },
   {
    "duration": 43,
    "start_time": "2025-02-28T15:47:51.677Z"
   },
   {
    "duration": 53,
    "start_time": "2025-02-28T15:47:51.722Z"
   },
   {
    "duration": 11,
    "start_time": "2025-02-28T15:47:51.777Z"
   },
   {
    "duration": 37,
    "start_time": "2025-02-28T15:47:51.790Z"
   },
   {
    "duration": 22,
    "start_time": "2025-02-28T15:47:51.829Z"
   },
   {
    "duration": 128,
    "start_time": "2025-02-28T15:47:51.852Z"
   },
   {
    "duration": 19,
    "start_time": "2025-02-28T15:48:28.073Z"
   },
   {
    "duration": 115,
    "start_time": "2025-02-28T15:49:03.529Z"
   },
   {
    "duration": 14,
    "start_time": "2025-02-28T15:49:22.058Z"
   },
   {
    "duration": 2598,
    "start_time": "2025-02-28T15:49:32.760Z"
   },
   {
    "duration": 1227,
    "start_time": "2025-02-28T15:49:35.361Z"
   },
   {
    "duration": 87,
    "start_time": "2025-02-28T15:49:36.590Z"
   },
   {
    "duration": 17,
    "start_time": "2025-02-28T15:49:36.679Z"
   },
   {
    "duration": 49,
    "start_time": "2025-02-28T15:49:36.698Z"
   },
   {
    "duration": 19,
    "start_time": "2025-02-28T15:49:36.749Z"
   },
   {
    "duration": 43,
    "start_time": "2025-02-28T15:49:36.770Z"
   },
   {
    "duration": 40,
    "start_time": "2025-02-28T15:49:36.815Z"
   },
   {
    "duration": 34,
    "start_time": "2025-02-28T15:49:36.856Z"
   },
   {
    "duration": 221,
    "start_time": "2025-02-28T15:49:36.892Z"
   },
   {
    "duration": 68,
    "start_time": "2025-02-28T15:49:37.115Z"
   },
   {
    "duration": 93,
    "start_time": "2025-02-28T15:49:37.185Z"
   },
   {
    "duration": 49,
    "start_time": "2025-02-28T15:49:37.279Z"
   },
   {
    "duration": 6,
    "start_time": "2025-02-28T15:50:44.928Z"
   },
   {
    "duration": 15,
    "start_time": "2025-02-28T15:50:47.025Z"
   },
   {
    "duration": 13,
    "start_time": "2025-02-28T15:50:56.476Z"
   },
   {
    "duration": 13,
    "start_time": "2025-02-28T15:51:05.067Z"
   },
   {
    "duration": 12,
    "start_time": "2025-02-28T15:51:33.378Z"
   },
   {
    "duration": 4,
    "start_time": "2025-02-28T15:51:45.277Z"
   },
   {
    "duration": 4,
    "start_time": "2025-02-28T15:51:53.410Z"
   },
   {
    "duration": 13,
    "start_time": "2025-02-28T15:51:58.984Z"
   },
   {
    "duration": 22,
    "start_time": "2025-02-28T15:58:42.242Z"
   },
   {
    "duration": 19,
    "start_time": "2025-02-28T15:58:50.609Z"
   },
   {
    "duration": 53,
    "start_time": "2025-03-01T09:15:21.848Z"
   },
   {
    "duration": 3425,
    "start_time": "2025-03-01T09:15:29.160Z"
   },
   {
    "duration": 1423,
    "start_time": "2025-03-01T09:15:32.590Z"
   },
   {
    "duration": 79,
    "start_time": "2025-03-01T09:15:34.015Z"
   },
   {
    "duration": 14,
    "start_time": "2025-03-01T09:15:34.096Z"
   },
   {
    "duration": 46,
    "start_time": "2025-03-01T09:15:34.111Z"
   },
   {
    "duration": 32,
    "start_time": "2025-03-01T09:15:34.158Z"
   },
   {
    "duration": 24,
    "start_time": "2025-03-01T09:15:34.192Z"
   },
   {
    "duration": 19,
    "start_time": "2025-03-01T09:15:34.218Z"
   },
   {
    "duration": 13,
    "start_time": "2025-03-01T09:15:34.238Z"
   },
   {
    "duration": 34,
    "start_time": "2025-03-01T09:15:34.253Z"
   },
   {
    "duration": 53,
    "start_time": "2025-03-01T09:15:34.288Z"
   },
   {
    "duration": 13,
    "start_time": "2025-03-01T09:15:34.342Z"
   },
   {
    "duration": 10,
    "start_time": "2025-03-01T09:15:34.356Z"
   },
   {
    "duration": 11,
    "start_time": "2025-03-01T09:15:34.368Z"
   },
   {
    "duration": 16,
    "start_time": "2025-03-01T09:15:34.382Z"
   },
   {
    "duration": 22,
    "start_time": "2025-03-01T09:23:09.448Z"
   },
   {
    "duration": 18,
    "start_time": "2025-03-01T09:23:14.862Z"
   },
   {
    "duration": 4,
    "start_time": "2025-03-01T09:32:59.482Z"
   },
   {
    "duration": 8,
    "start_time": "2025-03-01T09:33:01.482Z"
   },
   {
    "duration": 12,
    "start_time": "2025-03-01T09:33:04.610Z"
   },
   {
    "duration": 12,
    "start_time": "2025-03-01T09:33:24.517Z"
   },
   {
    "duration": 9,
    "start_time": "2025-03-01T09:42:54.622Z"
   },
   {
    "duration": 2403,
    "start_time": "2025-03-01T09:43:15.809Z"
   },
   {
    "duration": 1208,
    "start_time": "2025-03-01T09:43:18.215Z"
   },
   {
    "duration": 83,
    "start_time": "2025-03-01T09:43:19.425Z"
   },
   {
    "duration": 16,
    "start_time": "2025-03-01T09:43:19.509Z"
   },
   {
    "duration": 41,
    "start_time": "2025-03-01T09:43:19.527Z"
   },
   {
    "duration": 38,
    "start_time": "2025-03-01T09:43:19.569Z"
   },
   {
    "duration": 17,
    "start_time": "2025-03-01T09:43:19.608Z"
   },
   {
    "duration": 65,
    "start_time": "2025-03-01T09:43:19.627Z"
   },
   {
    "duration": 19,
    "start_time": "2025-03-01T09:43:19.693Z"
   },
   {
    "duration": 31,
    "start_time": "2025-03-01T09:43:19.713Z"
   },
   {
    "duration": 35,
    "start_time": "2025-03-01T09:43:19.745Z"
   },
   {
    "duration": 37,
    "start_time": "2025-03-01T09:43:19.782Z"
   },
   {
    "duration": 45,
    "start_time": "2025-03-01T09:43:19.821Z"
   },
   {
    "duration": 3,
    "start_time": "2025-03-01T09:44:39.128Z"
   },
   {
    "duration": 8,
    "start_time": "2025-03-01T09:47:53.884Z"
   },
   {
    "duration": 10,
    "start_time": "2025-03-01T09:50:28.599Z"
   },
   {
    "duration": 11,
    "start_time": "2025-03-01T09:50:46.170Z"
   },
   {
    "duration": 8,
    "start_time": "2025-03-01T09:50:49.931Z"
   },
   {
    "duration": 4,
    "start_time": "2025-03-01T09:52:44.604Z"
   },
   {
    "duration": 16,
    "start_time": "2025-03-01T09:53:02.633Z"
   },
   {
    "duration": 7,
    "start_time": "2025-03-01T10:31:15.229Z"
   },
   {
    "duration": 1422,
    "start_time": "2025-03-01T10:32:50.744Z"
   },
   {
    "duration": 8,
    "start_time": "2025-03-01T10:33:07.653Z"
   },
   {
    "duration": 7,
    "start_time": "2025-03-01T10:35:27.582Z"
   },
   {
    "duration": 23,
    "start_time": "2025-03-01T10:39:17.215Z"
   },
   {
    "duration": 13,
    "start_time": "2025-03-01T11:06:23.253Z"
   },
   {
    "duration": 2456,
    "start_time": "2025-03-01T11:06:39.209Z"
   },
   {
    "duration": 1237,
    "start_time": "2025-03-01T11:06:41.667Z"
   },
   {
    "duration": 77,
    "start_time": "2025-03-01T11:06:42.905Z"
   },
   {
    "duration": 15,
    "start_time": "2025-03-01T11:06:42.985Z"
   },
   {
    "duration": 15,
    "start_time": "2025-03-01T11:06:43.002Z"
   },
   {
    "duration": 10,
    "start_time": "2025-03-01T11:06:43.019Z"
   },
   {
    "duration": 39,
    "start_time": "2025-03-01T11:06:43.031Z"
   },
   {
    "duration": 21,
    "start_time": "2025-03-01T11:06:43.073Z"
   },
   {
    "duration": 20,
    "start_time": "2025-03-01T11:06:43.096Z"
   },
   {
    "duration": 3,
    "start_time": "2025-03-01T11:06:43.119Z"
   },
   {
    "duration": 9,
    "start_time": "2025-03-01T11:06:43.124Z"
   },
   {
    "duration": 41,
    "start_time": "2025-03-01T11:06:43.135Z"
   },
   {
    "duration": 16,
    "start_time": "2025-03-01T11:06:43.179Z"
   },
   {
    "duration": 145,
    "start_time": "2025-03-01T11:06:43.197Z"
   },
   {
    "duration": 0,
    "start_time": "2025-03-01T11:06:43.344Z"
   },
   {
    "duration": 0,
    "start_time": "2025-03-01T11:06:43.346Z"
   },
   {
    "duration": 19,
    "start_time": "2025-03-01T11:06:48.638Z"
   },
   {
    "duration": 9,
    "start_time": "2025-03-01T11:06:58.099Z"
   },
   {
    "duration": 13,
    "start_time": "2025-03-01T11:07:08.938Z"
   },
   {
    "duration": 2794,
    "start_time": "2025-03-01T11:09:22.560Z"
   },
   {
    "duration": 1361,
    "start_time": "2025-03-01T11:09:25.357Z"
   },
   {
    "duration": 114,
    "start_time": "2025-03-01T11:09:26.720Z"
   },
   {
    "duration": 19,
    "start_time": "2025-03-01T11:09:26.836Z"
   },
   {
    "duration": 28,
    "start_time": "2025-03-01T11:09:26.859Z"
   },
   {
    "duration": 16,
    "start_time": "2025-03-01T11:09:26.889Z"
   },
   {
    "duration": 25,
    "start_time": "2025-03-01T11:09:26.907Z"
   },
   {
    "duration": 53,
    "start_time": "2025-03-01T11:09:26.934Z"
   },
   {
    "duration": 16,
    "start_time": "2025-03-01T11:09:26.991Z"
   },
   {
    "duration": 4,
    "start_time": "2025-03-01T11:09:27.009Z"
   },
   {
    "duration": 6,
    "start_time": "2025-03-01T11:09:27.016Z"
   },
   {
    "duration": 12,
    "start_time": "2025-03-01T11:09:27.026Z"
   },
   {
    "duration": 38,
    "start_time": "2025-03-01T11:09:27.040Z"
   },
   {
    "duration": 10,
    "start_time": "2025-03-01T11:09:27.080Z"
   },
   {
    "duration": 41,
    "start_time": "2025-03-01T11:09:27.092Z"
   },
   {
    "duration": 7,
    "start_time": "2025-03-01T11:11:20.541Z"
   },
   {
    "duration": 135,
    "start_time": "2025-03-01T11:16:42.542Z"
   },
   {
    "duration": 6,
    "start_time": "2025-03-01T11:17:00.127Z"
   },
   {
    "duration": 22,
    "start_time": "2025-03-01T11:17:49.891Z"
   },
   {
    "duration": 16,
    "start_time": "2025-03-01T11:18:53.095Z"
   },
   {
    "duration": 15,
    "start_time": "2025-03-01T11:19:30.771Z"
   },
   {
    "duration": 26,
    "start_time": "2025-03-01T11:20:20.599Z"
   },
   {
    "duration": 7,
    "start_time": "2025-03-01T11:44:49.411Z"
   },
   {
    "duration": 10,
    "start_time": "2025-03-01T11:47:33.199Z"
   },
   {
    "duration": 8,
    "start_time": "2025-03-01T11:47:50.227Z"
   },
   {
    "duration": 15,
    "start_time": "2025-03-01T11:51:17.972Z"
   },
   {
    "duration": 74,
    "start_time": "2025-03-01T12:23:48.731Z"
   },
   {
    "duration": 9,
    "start_time": "2025-03-01T12:27:23.760Z"
   },
   {
    "duration": 9,
    "start_time": "2025-03-01T12:28:13.697Z"
   },
   {
    "duration": 6,
    "start_time": "2025-03-01T12:28:24.252Z"
   },
   {
    "duration": 9,
    "start_time": "2025-03-01T12:28:59.083Z"
   },
   {
    "duration": 9,
    "start_time": "2025-03-01T12:29:28.083Z"
   },
   {
    "duration": 70,
    "start_time": "2025-03-01T12:34:16.410Z"
   },
   {
    "duration": 6,
    "start_time": "2025-03-01T12:34:33.529Z"
   },
   {
    "duration": 6,
    "start_time": "2025-03-01T12:34:35.763Z"
   },
   {
    "duration": 9,
    "start_time": "2025-03-01T12:34:37.730Z"
   },
   {
    "duration": 5,
    "start_time": "2025-03-01T12:36:27.403Z"
   },
   {
    "duration": 8,
    "start_time": "2025-03-01T12:36:29.923Z"
   },
   {
    "duration": 7,
    "start_time": "2025-03-01T12:37:59.900Z"
   },
   {
    "duration": 9,
    "start_time": "2025-03-01T12:38:02.070Z"
   },
   {
    "duration": 73,
    "start_time": "2025-03-01T13:14:24.753Z"
   },
   {
    "duration": 7,
    "start_time": "2025-03-01T13:23:00.687Z"
   },
   {
    "duration": 9,
    "start_time": "2025-03-01T13:23:02.700Z"
   },
   {
    "duration": 15,
    "start_time": "2025-03-01T13:24:17.480Z"
   },
   {
    "duration": 13,
    "start_time": "2025-03-01T13:24:20.098Z"
   },
   {
    "duration": 8,
    "start_time": "2025-03-01T13:27:42.064Z"
   },
   {
    "duration": 9,
    "start_time": "2025-03-01T13:27:56.010Z"
   },
   {
    "duration": 6,
    "start_time": "2025-03-01T13:28:06.500Z"
   },
   {
    "duration": 5,
    "start_time": "2025-03-01T13:28:14.433Z"
   },
   {
    "duration": 5,
    "start_time": "2025-03-01T13:28:59.603Z"
   },
   {
    "duration": 6,
    "start_time": "2025-03-01T13:30:04.836Z"
   },
   {
    "duration": 2375,
    "start_time": "2025-03-01T13:30:32.880Z"
   },
   {
    "duration": 1178,
    "start_time": "2025-03-01T13:30:35.257Z"
   },
   {
    "duration": 93,
    "start_time": "2025-03-01T13:30:36.437Z"
   },
   {
    "duration": 15,
    "start_time": "2025-03-01T13:30:36.532Z"
   },
   {
    "duration": 39,
    "start_time": "2025-03-01T13:30:36.549Z"
   },
   {
    "duration": 23,
    "start_time": "2025-03-01T13:30:36.590Z"
   },
   {
    "duration": 46,
    "start_time": "2025-03-01T13:30:36.614Z"
   },
   {
    "duration": 33,
    "start_time": "2025-03-01T13:30:36.662Z"
   },
   {
    "duration": 18,
    "start_time": "2025-03-01T13:30:36.697Z"
   },
   {
    "duration": 38,
    "start_time": "2025-03-01T13:30:36.716Z"
   },
   {
    "duration": 24,
    "start_time": "2025-03-01T13:30:36.756Z"
   },
   {
    "duration": 13,
    "start_time": "2025-03-01T13:30:36.782Z"
   },
   {
    "duration": 20,
    "start_time": "2025-03-01T13:30:36.796Z"
   },
   {
    "duration": 10,
    "start_time": "2025-03-01T13:30:36.818Z"
   },
   {
    "duration": 25,
    "start_time": "2025-03-01T13:30:36.830Z"
   },
   {
    "duration": 24,
    "start_time": "2025-03-01T13:30:36.856Z"
   },
   {
    "duration": 7,
    "start_time": "2025-03-01T13:30:36.882Z"
   },
   {
    "duration": 17,
    "start_time": "2025-03-01T13:30:36.891Z"
   },
   {
    "duration": 14,
    "start_time": "2025-03-01T13:30:36.909Z"
   },
   {
    "duration": 35,
    "start_time": "2025-03-01T13:30:36.924Z"
   },
   {
    "duration": 13,
    "start_time": "2025-03-01T13:31:45.946Z"
   },
   {
    "duration": 9,
    "start_time": "2025-03-01T13:32:02.942Z"
   },
   {
    "duration": 14,
    "start_time": "2025-03-01T13:32:25.071Z"
   },
   {
    "duration": 5,
    "start_time": "2025-03-01T13:35:20.300Z"
   },
   {
    "duration": 4,
    "start_time": "2025-03-01T13:38:01.529Z"
   },
   {
    "duration": 6,
    "start_time": "2025-03-01T13:38:45.677Z"
   },
   {
    "duration": 8,
    "start_time": "2025-03-01T13:41:47.249Z"
   },
   {
    "duration": 4,
    "start_time": "2025-03-01T13:42:10.020Z"
   },
   {
    "duration": 6,
    "start_time": "2025-03-01T13:47:26.187Z"
   },
   {
    "duration": 10,
    "start_time": "2025-03-01T13:47:45.557Z"
   },
   {
    "duration": 11,
    "start_time": "2025-03-01T13:53:18.954Z"
   },
   {
    "duration": 14,
    "start_time": "2025-03-01T13:54:49.678Z"
   },
   {
    "duration": 11,
    "start_time": "2025-03-01T13:54:56.927Z"
   },
   {
    "duration": 17,
    "start_time": "2025-03-01T13:55:07.557Z"
   },
   {
    "duration": 10,
    "start_time": "2025-03-01T13:58:23.455Z"
   },
   {
    "duration": 97,
    "start_time": "2025-03-01T14:03:34.353Z"
   },
   {
    "duration": 3,
    "start_time": "2025-03-01T14:04:00.006Z"
   },
   {
    "duration": 2287,
    "start_time": "2025-03-01T14:04:07.292Z"
   },
   {
    "duration": 1260,
    "start_time": "2025-03-01T14:04:09.581Z"
   },
   {
    "duration": 75,
    "start_time": "2025-03-01T14:04:10.843Z"
   },
   {
    "duration": 15,
    "start_time": "2025-03-01T14:04:10.920Z"
   },
   {
    "duration": 13,
    "start_time": "2025-03-01T14:04:10.937Z"
   },
   {
    "duration": 9,
    "start_time": "2025-03-01T14:04:10.952Z"
   },
   {
    "duration": 19,
    "start_time": "2025-03-01T14:04:10.962Z"
   },
   {
    "duration": 21,
    "start_time": "2025-03-01T14:04:10.983Z"
   },
   {
    "duration": 12,
    "start_time": "2025-03-01T14:04:11.005Z"
   },
   {
    "duration": 10,
    "start_time": "2025-03-01T14:04:11.019Z"
   },
   {
    "duration": 39,
    "start_time": "2025-03-01T14:04:11.030Z"
   },
   {
    "duration": 9,
    "start_time": "2025-03-01T14:04:11.071Z"
   },
   {
    "duration": 14,
    "start_time": "2025-03-01T14:04:11.081Z"
   },
   {
    "duration": 14,
    "start_time": "2025-03-01T14:04:11.096Z"
   },
   {
    "duration": 11,
    "start_time": "2025-03-01T14:04:11.111Z"
   },
   {
    "duration": 32,
    "start_time": "2025-03-01T14:04:11.123Z"
   },
   {
    "duration": 6,
    "start_time": "2025-03-01T14:04:11.157Z"
   },
   {
    "duration": 10,
    "start_time": "2025-03-01T14:04:11.164Z"
   },
   {
    "duration": 17,
    "start_time": "2025-03-01T14:04:11.177Z"
   },
   {
    "duration": 10,
    "start_time": "2025-03-01T14:04:11.195Z"
   },
   {
    "duration": 7,
    "start_time": "2025-03-01T14:04:11.207Z"
   },
   {
    "duration": 47,
    "start_time": "2025-03-01T14:04:11.216Z"
   },
   {
    "duration": 12,
    "start_time": "2025-03-01T14:04:11.265Z"
   },
   {
    "duration": 13,
    "start_time": "2025-03-01T14:04:11.278Z"
   },
   {
    "duration": 16,
    "start_time": "2025-03-01T14:05:03.856Z"
   },
   {
    "duration": 7,
    "start_time": "2025-03-01T14:05:11.852Z"
   },
   {
    "duration": 7,
    "start_time": "2025-03-01T14:05:19.698Z"
   },
   {
    "duration": 10,
    "start_time": "2025-03-01T14:06:03.845Z"
   },
   {
    "duration": 10,
    "start_time": "2025-03-01T14:06:10.936Z"
   },
   {
    "duration": 7,
    "start_time": "2025-03-01T14:07:05.785Z"
   },
   {
    "duration": 2288,
    "start_time": "2025-03-01T14:07:20.022Z"
   },
   {
    "duration": 1122,
    "start_time": "2025-03-01T14:07:22.313Z"
   },
   {
    "duration": 75,
    "start_time": "2025-03-01T14:07:23.436Z"
   },
   {
    "duration": 14,
    "start_time": "2025-03-01T14:07:23.513Z"
   },
   {
    "duration": 49,
    "start_time": "2025-03-01T14:07:23.528Z"
   },
   {
    "duration": 11,
    "start_time": "2025-03-01T14:07:23.578Z"
   },
   {
    "duration": 39,
    "start_time": "2025-03-01T14:07:23.591Z"
   },
   {
    "duration": 42,
    "start_time": "2025-03-01T14:07:23.632Z"
   },
   {
    "duration": 37,
    "start_time": "2025-03-01T14:07:23.676Z"
   },
   {
    "duration": 45,
    "start_time": "2025-03-01T14:07:23.714Z"
   },
   {
    "duration": 8,
    "start_time": "2025-03-01T14:07:23.761Z"
   },
   {
    "duration": 16,
    "start_time": "2025-03-01T14:07:23.770Z"
   },
   {
    "duration": 12,
    "start_time": "2025-03-01T14:07:23.788Z"
   },
   {
    "duration": 33,
    "start_time": "2025-03-01T14:07:23.802Z"
   },
   {
    "duration": 33,
    "start_time": "2025-03-01T14:07:23.837Z"
   },
   {
    "duration": 71,
    "start_time": "2025-03-01T14:07:23.872Z"
   },
   {
    "duration": 6,
    "start_time": "2025-03-01T14:07:23.944Z"
   },
   {
    "duration": 7,
    "start_time": "2025-03-01T14:07:23.951Z"
   },
   {
    "duration": 12,
    "start_time": "2025-03-01T14:07:23.959Z"
   },
   {
    "duration": 6,
    "start_time": "2025-03-01T14:07:23.973Z"
   },
   {
    "duration": 5,
    "start_time": "2025-03-01T14:07:23.981Z"
   },
   {
    "duration": 12,
    "start_time": "2025-03-01T14:07:23.987Z"
   },
   {
    "duration": 36,
    "start_time": "2025-03-01T14:07:24.000Z"
   },
   {
    "duration": 19,
    "start_time": "2025-03-01T14:07:24.038Z"
   },
   {
    "duration": 4,
    "start_time": "2025-03-01T14:07:52.448Z"
   },
   {
    "duration": 8,
    "start_time": "2025-03-01T14:12:24.494Z"
   },
   {
    "duration": 96,
    "start_time": "2025-03-01T14:12:39.498Z"
   },
   {
    "duration": 70,
    "start_time": "2025-03-01T14:14:43.723Z"
   },
   {
    "duration": 9,
    "start_time": "2025-03-01T14:14:48.759Z"
   },
   {
    "duration": 6,
    "start_time": "2025-03-01T14:15:24.663Z"
   },
   {
    "duration": 9,
    "start_time": "2025-03-01T14:17:37.480Z"
   },
   {
    "duration": 6,
    "start_time": "2025-03-01T14:21:29.818Z"
   },
   {
    "duration": 7,
    "start_time": "2025-03-01T14:21:32.201Z"
   },
   {
    "duration": 14,
    "start_time": "2025-03-01T14:21:39.466Z"
   },
   {
    "duration": 11,
    "start_time": "2025-03-01T14:21:56.156Z"
   },
   {
    "duration": 6,
    "start_time": "2025-03-01T14:22:14.298Z"
   },
   {
    "duration": 9,
    "start_time": "2025-03-01T14:22:31.078Z"
   },
   {
    "duration": 1290,
    "start_time": "2025-03-01T14:23:09.788Z"
   },
   {
    "duration": 7,
    "start_time": "2025-03-01T14:24:42.647Z"
   },
   {
    "duration": 11,
    "start_time": "2025-03-01T14:24:48.264Z"
   },
   {
    "duration": 2279,
    "start_time": "2025-03-01T14:24:58.833Z"
   },
   {
    "duration": 1198,
    "start_time": "2025-03-01T14:25:01.114Z"
   },
   {
    "duration": 76,
    "start_time": "2025-03-01T14:25:02.313Z"
   },
   {
    "duration": 14,
    "start_time": "2025-03-01T14:25:02.390Z"
   },
   {
    "duration": 49,
    "start_time": "2025-03-01T14:25:02.406Z"
   },
   {
    "duration": 22,
    "start_time": "2025-03-01T14:25:02.456Z"
   },
   {
    "duration": 55,
    "start_time": "2025-03-01T14:25:02.480Z"
   },
   {
    "duration": 106,
    "start_time": "2025-03-01T14:25:02.537Z"
   },
   {
    "duration": 29,
    "start_time": "2025-03-01T14:25:02.644Z"
   },
   {
    "duration": 30,
    "start_time": "2025-03-01T14:25:02.675Z"
   },
   {
    "duration": 44,
    "start_time": "2025-03-01T14:25:02.706Z"
   },
   {
    "duration": 64,
    "start_time": "2025-03-01T14:25:02.752Z"
   },
   {
    "duration": 105,
    "start_time": "2025-03-01T14:25:02.817Z"
   },
   {
    "duration": 110,
    "start_time": "2025-03-01T14:25:02.924Z"
   },
   {
    "duration": 79,
    "start_time": "2025-03-01T14:25:03.036Z"
   },
   {
    "duration": 66,
    "start_time": "2025-03-01T14:25:03.116Z"
   },
   {
    "duration": 15,
    "start_time": "2025-03-01T14:25:03.184Z"
   },
   {
    "duration": 47,
    "start_time": "2025-03-01T14:25:03.201Z"
   },
   {
    "duration": 35,
    "start_time": "2025-03-01T14:25:03.250Z"
   },
   {
    "duration": 51,
    "start_time": "2025-03-01T14:25:03.287Z"
   },
   {
    "duration": 60,
    "start_time": "2025-03-01T14:25:03.339Z"
   },
   {
    "duration": 49,
    "start_time": "2025-03-01T14:25:03.401Z"
   },
   {
    "duration": 32,
    "start_time": "2025-03-01T14:25:03.452Z"
   },
   {
    "duration": 56,
    "start_time": "2025-03-01T14:25:03.485Z"
   },
   {
    "duration": 10,
    "start_time": "2025-03-01T14:27:03.805Z"
   },
   {
    "duration": 10,
    "start_time": "2025-03-01T14:27:45.190Z"
   },
   {
    "duration": 11,
    "start_time": "2025-03-01T14:28:03.419Z"
   },
   {
    "duration": 9,
    "start_time": "2025-03-01T14:28:13.303Z"
   },
   {
    "duration": 4,
    "start_time": "2025-03-01T14:28:17.017Z"
   },
   {
    "duration": 9,
    "start_time": "2025-03-01T14:28:26.106Z"
   },
   {
    "duration": 92,
    "start_time": "2025-03-01T14:29:37.830Z"
   },
   {
    "duration": 8,
    "start_time": "2025-03-01T14:31:26.969Z"
   },
   {
    "duration": 12,
    "start_time": "2025-03-01T14:31:33.595Z"
   },
   {
    "duration": 11,
    "start_time": "2025-03-01T14:31:46.379Z"
   },
   {
    "duration": 14,
    "start_time": "2025-03-01T14:32:01.425Z"
   },
   {
    "duration": 12,
    "start_time": "2025-03-01T14:35:46.672Z"
   },
   {
    "duration": 13,
    "start_time": "2025-03-01T14:36:12.471Z"
   },
   {
    "duration": 13,
    "start_time": "2025-03-01T14:36:50.631Z"
   },
   {
    "duration": 12,
    "start_time": "2025-03-01T14:37:11.674Z"
   },
   {
    "duration": 13,
    "start_time": "2025-03-01T14:38:07.659Z"
   },
   {
    "duration": 13,
    "start_time": "2025-03-01T14:38:21.062Z"
   },
   {
    "duration": 14,
    "start_time": "2025-03-01T14:42:17.727Z"
   },
   {
    "duration": 99,
    "start_time": "2025-03-01T14:44:51.827Z"
   },
   {
    "duration": 7,
    "start_time": "2025-03-01T14:44:59.463Z"
   },
   {
    "duration": 5,
    "start_time": "2025-03-01T14:55:30.464Z"
   },
   {
    "duration": 9,
    "start_time": "2025-03-01T14:55:58.953Z"
   },
   {
    "duration": 15,
    "start_time": "2025-03-01T14:56:26.444Z"
   },
   {
    "duration": 8,
    "start_time": "2025-03-01T15:03:13.077Z"
   },
   {
    "duration": 18,
    "start_time": "2025-03-01T15:08:52.671Z"
   },
   {
    "duration": 9,
    "start_time": "2025-03-01T15:10:01.332Z"
   },
   {
    "duration": 7,
    "start_time": "2025-03-01T15:10:09.208Z"
   },
   {
    "duration": 5,
    "start_time": "2025-03-01T15:11:47.114Z"
   },
   {
    "duration": 8,
    "start_time": "2025-03-01T15:12:01.585Z"
   },
   {
    "duration": 8,
    "start_time": "2025-03-01T15:19:46.234Z"
   },
   {
    "duration": 8,
    "start_time": "2025-03-01T15:20:03.303Z"
   },
   {
    "duration": 10,
    "start_time": "2025-03-01T15:20:19.653Z"
   },
   {
    "duration": 10,
    "start_time": "2025-03-01T15:20:24.426Z"
   },
   {
    "duration": 9,
    "start_time": "2025-03-01T15:20:47.280Z"
   },
   {
    "duration": 13,
    "start_time": "2025-03-01T15:21:24.608Z"
   },
   {
    "duration": 9,
    "start_time": "2025-03-01T15:21:29.244Z"
   },
   {
    "duration": 47,
    "start_time": "2025-03-01T21:24:43.080Z"
   },
   {
    "duration": 3257,
    "start_time": "2025-03-01T21:24:51.066Z"
   },
   {
    "duration": 1355,
    "start_time": "2025-03-01T21:24:54.325Z"
   },
   {
    "duration": 92,
    "start_time": "2025-03-01T21:24:55.682Z"
   },
   {
    "duration": 16,
    "start_time": "2025-03-01T21:24:55.776Z"
   },
   {
    "duration": 48,
    "start_time": "2025-03-01T21:24:55.793Z"
   },
   {
    "duration": 31,
    "start_time": "2025-03-01T21:24:55.842Z"
   },
   {
    "duration": 19,
    "start_time": "2025-03-01T21:24:55.875Z"
   },
   {
    "duration": 48,
    "start_time": "2025-03-01T21:24:55.896Z"
   },
   {
    "duration": 12,
    "start_time": "2025-03-01T21:24:55.946Z"
   },
   {
    "duration": 15,
    "start_time": "2025-03-01T21:24:55.961Z"
   },
   {
    "duration": 11,
    "start_time": "2025-03-01T21:24:55.977Z"
   },
   {
    "duration": 19,
    "start_time": "2025-03-01T21:24:55.991Z"
   },
   {
    "duration": 14,
    "start_time": "2025-03-01T21:24:56.012Z"
   },
   {
    "duration": 7,
    "start_time": "2025-03-01T21:24:56.028Z"
   },
   {
    "duration": 11,
    "start_time": "2025-03-01T21:24:56.037Z"
   },
   {
    "duration": 44,
    "start_time": "2025-03-01T21:24:56.050Z"
   },
   {
    "duration": 7,
    "start_time": "2025-03-01T21:24:56.097Z"
   },
   {
    "duration": 5,
    "start_time": "2025-03-01T21:24:56.106Z"
   },
   {
    "duration": 13,
    "start_time": "2025-03-01T21:24:56.113Z"
   },
   {
    "duration": 10,
    "start_time": "2025-03-01T21:24:56.127Z"
   },
   {
    "duration": 42,
    "start_time": "2025-03-01T21:24:56.139Z"
   },
   {
    "duration": 78,
    "start_time": "2025-03-01T21:24:56.182Z"
   },
   {
    "duration": 55,
    "start_time": "2025-03-01T21:24:56.262Z"
   },
   {
    "duration": 24,
    "start_time": "2025-03-01T21:24:56.318Z"
   },
   {
    "duration": 15,
    "start_time": "2025-03-01T21:24:56.343Z"
   },
   {
    "duration": 41,
    "start_time": "2025-03-01T21:24:56.360Z"
   },
   {
    "duration": 12,
    "start_time": "2025-03-01T21:24:56.403Z"
   },
   {
    "duration": 9,
    "start_time": "2025-03-01T21:24:56.417Z"
   },
   {
    "duration": 5,
    "start_time": "2025-03-01T21:32:52.166Z"
   },
   {
    "duration": 11,
    "start_time": "2025-03-01T21:34:13.524Z"
   },
   {
    "duration": 6,
    "start_time": "2025-03-01T21:41:58.356Z"
   },
   {
    "duration": 4,
    "start_time": "2025-03-01T21:47:16.625Z"
   },
   {
    "duration": 118,
    "start_time": "2025-03-01T21:49:59.854Z"
   },
   {
    "duration": 12,
    "start_time": "2025-03-01T21:50:14.893Z"
   },
   {
    "duration": 5,
    "start_time": "2025-03-01T21:50:40.477Z"
   },
   {
    "duration": 4,
    "start_time": "2025-03-01T21:50:57.591Z"
   },
   {
    "duration": 2435,
    "start_time": "2025-03-01T21:51:39.599Z"
   },
   {
    "duration": 1187,
    "start_time": "2025-03-01T21:51:42.036Z"
   },
   {
    "duration": 82,
    "start_time": "2025-03-01T21:51:43.225Z"
   },
   {
    "duration": 18,
    "start_time": "2025-03-01T21:51:43.309Z"
   },
   {
    "duration": 21,
    "start_time": "2025-03-01T21:51:43.329Z"
   },
   {
    "duration": 8,
    "start_time": "2025-03-01T21:51:43.352Z"
   },
   {
    "duration": 15,
    "start_time": "2025-03-01T21:51:43.362Z"
   },
   {
    "duration": 37,
    "start_time": "2025-03-01T21:51:43.380Z"
   },
   {
    "duration": 18,
    "start_time": "2025-03-01T21:51:43.419Z"
   },
   {
    "duration": 49,
    "start_time": "2025-03-01T21:51:43.440Z"
   },
   {
    "duration": 5,
    "start_time": "2025-03-01T21:51:43.491Z"
   },
   {
    "duration": 9,
    "start_time": "2025-03-01T21:51:43.498Z"
   },
   {
    "duration": 11,
    "start_time": "2025-03-01T21:51:43.509Z"
   },
   {
    "duration": 7,
    "start_time": "2025-03-01T21:51:43.522Z"
   },
   {
    "duration": 11,
    "start_time": "2025-03-01T21:51:43.531Z"
   },
   {
    "duration": 30,
    "start_time": "2025-03-01T21:51:43.544Z"
   },
   {
    "duration": 5,
    "start_time": "2025-03-01T21:51:43.576Z"
   },
   {
    "duration": 93,
    "start_time": "2025-03-01T21:51:43.582Z"
   },
   {
    "duration": 5,
    "start_time": "2025-03-01T21:51:43.677Z"
   },
   {
    "duration": 11,
    "start_time": "2025-03-01T21:51:43.683Z"
   },
   {
    "duration": 8,
    "start_time": "2025-03-01T21:51:43.696Z"
   },
   {
    "duration": 11,
    "start_time": "2025-03-01T21:51:43.705Z"
   },
   {
    "duration": 10,
    "start_time": "2025-03-01T21:51:43.717Z"
   },
   {
    "duration": 4,
    "start_time": "2025-03-01T21:51:43.729Z"
   },
   {
    "duration": 44,
    "start_time": "2025-03-01T21:51:43.734Z"
   },
   {
    "duration": 15,
    "start_time": "2025-03-01T21:51:43.779Z"
   },
   {
    "duration": 3,
    "start_time": "2025-03-01T21:51:43.795Z"
   },
   {
    "duration": 4,
    "start_time": "2025-03-01T21:51:43.801Z"
   },
   {
    "duration": 4,
    "start_time": "2025-03-01T21:51:43.806Z"
   },
   {
    "duration": 13,
    "start_time": "2025-03-01T21:53:20.289Z"
   },
   {
    "duration": 103,
    "start_time": "2025-03-01T21:54:04.845Z"
   },
   {
    "duration": 9,
    "start_time": "2025-03-01T21:54:41.830Z"
   },
   {
    "duration": 71,
    "start_time": "2025-03-01T22:04:28.362Z"
   },
   {
    "duration": 3508,
    "start_time": "2025-03-02T08:46:04.784Z"
   },
   {
    "duration": 1309,
    "start_time": "2025-03-02T08:46:08.294Z"
   },
   {
    "duration": 79,
    "start_time": "2025-03-02T08:46:09.604Z"
   },
   {
    "duration": 15,
    "start_time": "2025-03-02T08:46:09.684Z"
   },
   {
    "duration": 18,
    "start_time": "2025-03-02T08:46:09.700Z"
   },
   {
    "duration": 8,
    "start_time": "2025-03-02T08:46:09.720Z"
   },
   {
    "duration": 25,
    "start_time": "2025-03-02T08:46:09.729Z"
   },
   {
    "duration": 21,
    "start_time": "2025-03-02T08:46:09.756Z"
   },
   {
    "duration": 12,
    "start_time": "2025-03-02T08:46:09.779Z"
   },
   {
    "duration": 4,
    "start_time": "2025-03-02T08:46:09.793Z"
   },
   {
    "duration": 22,
    "start_time": "2025-03-02T08:46:09.798Z"
   },
   {
    "duration": 20,
    "start_time": "2025-03-02T08:46:09.822Z"
   },
   {
    "duration": 10,
    "start_time": "2025-03-02T08:46:09.843Z"
   },
   {
    "duration": 13,
    "start_time": "2025-03-02T08:46:09.854Z"
   },
   {
    "duration": 8,
    "start_time": "2025-03-02T08:46:09.869Z"
   },
   {
    "duration": 26,
    "start_time": "2025-03-02T08:46:09.878Z"
   },
   {
    "duration": 21,
    "start_time": "2025-03-02T08:46:09.906Z"
   },
   {
    "duration": 3,
    "start_time": "2025-03-02T08:46:09.929Z"
   },
   {
    "duration": 14,
    "start_time": "2025-03-02T08:46:09.933Z"
   },
   {
    "duration": 6,
    "start_time": "2025-03-02T08:46:09.948Z"
   },
   {
    "duration": 9,
    "start_time": "2025-03-02T08:46:09.956Z"
   },
   {
    "duration": 7,
    "start_time": "2025-03-02T08:46:09.967Z"
   },
   {
    "duration": 3,
    "start_time": "2025-03-02T08:46:09.976Z"
   },
   {
    "duration": 12,
    "start_time": "2025-03-02T08:46:09.980Z"
   },
   {
    "duration": 9,
    "start_time": "2025-03-02T08:46:09.994Z"
   },
   {
    "duration": 16,
    "start_time": "2025-03-02T08:46:10.005Z"
   },
   {
    "duration": 29,
    "start_time": "2025-03-02T08:46:10.022Z"
   },
   {
    "duration": 15,
    "start_time": "2025-03-02T08:46:10.054Z"
   },
   {
    "duration": 5,
    "start_time": "2025-03-02T08:46:19.870Z"
   },
   {
    "duration": 7,
    "start_time": "2025-03-02T08:46:27.981Z"
   },
   {
    "duration": 4,
    "start_time": "2025-03-02T08:46:34.401Z"
   },
   {
    "duration": 5,
    "start_time": "2025-03-02T08:46:37.565Z"
   },
   {
    "duration": 6,
    "start_time": "2025-03-02T08:46:59.596Z"
   },
   {
    "duration": 7,
    "start_time": "2025-03-02T08:47:14.341Z"
   },
   {
    "duration": 6,
    "start_time": "2025-03-02T08:47:21.035Z"
   },
   {
    "duration": 7,
    "start_time": "2025-03-02T09:07:17.973Z"
   },
   {
    "duration": 11,
    "start_time": "2025-03-02T09:07:20.724Z"
   },
   {
    "duration": 5,
    "start_time": "2025-03-02T09:13:09.900Z"
   },
   {
    "duration": 8,
    "start_time": "2025-03-02T09:14:00.401Z"
   },
   {
    "duration": 8,
    "start_time": "2025-03-02T09:18:02.220Z"
   },
   {
    "duration": 11,
    "start_time": "2025-03-02T09:18:04.824Z"
   },
   {
    "duration": 7,
    "start_time": "2025-03-02T09:21:06.483Z"
   },
   {
    "duration": 11,
    "start_time": "2025-03-02T09:21:08.584Z"
   },
   {
    "duration": 2307,
    "start_time": "2025-03-02T09:21:15.411Z"
   },
   {
    "duration": 1184,
    "start_time": "2025-03-02T09:21:17.720Z"
   },
   {
    "duration": 90,
    "start_time": "2025-03-02T09:21:18.905Z"
   },
   {
    "duration": 14,
    "start_time": "2025-03-02T09:21:18.997Z"
   },
   {
    "duration": 20,
    "start_time": "2025-03-02T09:21:19.012Z"
   },
   {
    "duration": 8,
    "start_time": "2025-03-02T09:21:19.033Z"
   },
   {
    "duration": 10,
    "start_time": "2025-03-02T09:21:19.043Z"
   },
   {
    "duration": 34,
    "start_time": "2025-03-02T09:21:19.055Z"
   },
   {
    "duration": 14,
    "start_time": "2025-03-02T09:21:19.090Z"
   },
   {
    "duration": 4,
    "start_time": "2025-03-02T09:21:19.106Z"
   },
   {
    "duration": 176,
    "start_time": "2025-03-02T09:21:19.111Z"
   },
   {
    "duration": 15,
    "start_time": "2025-03-02T09:21:19.289Z"
   },
   {
    "duration": 16,
    "start_time": "2025-03-02T09:21:19.306Z"
   },
   {
    "duration": 6,
    "start_time": "2025-03-02T09:21:19.324Z"
   },
   {
    "duration": 14,
    "start_time": "2025-03-02T09:21:19.332Z"
   },
   {
    "duration": 13,
    "start_time": "2025-03-02T09:21:19.348Z"
   },
   {
    "duration": 6,
    "start_time": "2025-03-02T09:21:19.363Z"
   },
   {
    "duration": 11,
    "start_time": "2025-03-02T09:21:19.370Z"
   },
   {
    "duration": 18,
    "start_time": "2025-03-02T09:21:19.383Z"
   },
   {
    "duration": 7,
    "start_time": "2025-03-02T09:21:19.402Z"
   },
   {
    "duration": 38,
    "start_time": "2025-03-02T09:21:19.411Z"
   },
   {
    "duration": 8,
    "start_time": "2025-03-02T09:21:19.450Z"
   },
   {
    "duration": 19,
    "start_time": "2025-03-02T09:21:19.460Z"
   },
   {
    "duration": 23,
    "start_time": "2025-03-02T09:21:19.480Z"
   },
   {
    "duration": 5,
    "start_time": "2025-03-02T09:21:19.505Z"
   },
   {
    "duration": 81,
    "start_time": "2025-03-02T09:21:19.511Z"
   },
   {
    "duration": 65,
    "start_time": "2025-03-02T09:21:19.594Z"
   },
   {
    "duration": 24,
    "start_time": "2025-03-02T09:21:19.662Z"
   },
   {
    "duration": 4,
    "start_time": "2025-03-02T09:21:49.607Z"
   },
   {
    "duration": 1575,
    "start_time": "2025-03-02T09:23:13.060Z"
   },
   {
    "duration": 13,
    "start_time": "2025-03-02T09:23:23.154Z"
   },
   {
    "duration": 10,
    "start_time": "2025-03-02T09:23:30.797Z"
   },
   {
    "duration": 4,
    "start_time": "2025-03-02T09:24:08.484Z"
   },
   {
    "duration": 4,
    "start_time": "2025-03-02T09:26:30.116Z"
   },
   {
    "duration": 12,
    "start_time": "2025-03-02T09:29:32.972Z"
   },
   {
    "duration": 4,
    "start_time": "2025-03-02T09:31:47.563Z"
   },
   {
    "duration": 102,
    "start_time": "2025-03-02T09:39:38.210Z"
   },
   {
    "duration": 16,
    "start_time": "2025-03-02T09:42:03.768Z"
   },
   {
    "duration": 7,
    "start_time": "2025-03-02T10:19:02.353Z"
   },
   {
    "duration": 8,
    "start_time": "2025-03-02T10:20:01.661Z"
   },
   {
    "duration": 8,
    "start_time": "2025-03-02T10:21:04.160Z"
   },
   {
    "duration": 4,
    "start_time": "2025-03-02T10:22:37.402Z"
   },
   {
    "duration": 10,
    "start_time": "2025-03-02T10:25:20.168Z"
   },
   {
    "duration": 10,
    "start_time": "2025-03-02T10:25:25.023Z"
   },
   {
    "duration": 10,
    "start_time": "2025-03-02T10:25:50.185Z"
   },
   {
    "duration": 10,
    "start_time": "2025-03-02T10:26:25.009Z"
   },
   {
    "duration": 2,
    "start_time": "2025-03-02T10:30:00.735Z"
   },
   {
    "duration": 3,
    "start_time": "2025-03-02T10:31:00.524Z"
   },
   {
    "duration": 5,
    "start_time": "2025-03-02T10:31:38.461Z"
   },
   {
    "duration": 6,
    "start_time": "2025-03-02T10:35:54.705Z"
   },
   {
    "duration": 6,
    "start_time": "2025-03-02T10:36:22.612Z"
   },
   {
    "duration": 3,
    "start_time": "2025-03-02T10:38:21.938Z"
   },
   {
    "duration": 13,
    "start_time": "2025-03-02T10:44:30.974Z"
   },
   {
    "duration": 16,
    "start_time": "2025-03-02T10:45:05.049Z"
   },
   {
    "duration": 10,
    "start_time": "2025-03-02T10:46:22.234Z"
   },
   {
    "duration": 10,
    "start_time": "2025-03-02T10:48:01.537Z"
   },
   {
    "duration": 9,
    "start_time": "2025-03-02T10:48:51.734Z"
   },
   {
    "duration": 9,
    "start_time": "2025-03-02T10:49:13.544Z"
   },
   {
    "duration": 80,
    "start_time": "2025-03-02T11:03:59.515Z"
   },
   {
    "duration": 81,
    "start_time": "2025-03-02T11:04:14.452Z"
   },
   {
    "duration": 9,
    "start_time": "2025-03-02T11:04:45.028Z"
   },
   {
    "duration": 10,
    "start_time": "2025-03-02T11:05:42.392Z"
   },
   {
    "duration": 10,
    "start_time": "2025-03-02T11:05:47.232Z"
   },
   {
    "duration": 4,
    "start_time": "2025-03-02T11:07:25.713Z"
   },
   {
    "duration": 7,
    "start_time": "2025-03-02T11:10:15.599Z"
   },
   {
    "duration": 3,
    "start_time": "2025-03-02T11:10:35.877Z"
   },
   {
    "duration": 7,
    "start_time": "2025-03-02T11:13:04.311Z"
   },
   {
    "duration": 8,
    "start_time": "2025-03-02T11:13:22.601Z"
   },
   {
    "duration": 6,
    "start_time": "2025-03-02T11:14:17.095Z"
   },
   {
    "duration": 7,
    "start_time": "2025-03-02T11:15:38.840Z"
   },
   {
    "duration": 13,
    "start_time": "2025-03-02T11:21:39.347Z"
   },
   {
    "duration": 4,
    "start_time": "2025-03-02T11:22:32.161Z"
   },
   {
    "duration": 2291,
    "start_time": "2025-03-02T11:22:47.161Z"
   },
   {
    "duration": 1229,
    "start_time": "2025-03-02T11:22:49.454Z"
   },
   {
    "duration": 89,
    "start_time": "2025-03-02T11:22:50.685Z"
   },
   {
    "duration": 14,
    "start_time": "2025-03-02T11:22:50.777Z"
   },
   {
    "duration": 25,
    "start_time": "2025-03-02T11:22:50.792Z"
   },
   {
    "duration": 9,
    "start_time": "2025-03-02T11:22:50.818Z"
   },
   {
    "duration": 16,
    "start_time": "2025-03-02T11:22:50.828Z"
   },
   {
    "duration": 28,
    "start_time": "2025-03-02T11:22:50.846Z"
   },
   {
    "duration": 81,
    "start_time": "2025-03-02T11:22:50.875Z"
   },
   {
    "duration": 73,
    "start_time": "2025-03-02T11:22:50.959Z"
   },
   {
    "duration": 142,
    "start_time": "2025-03-02T11:22:51.034Z"
   },
   {
    "duration": 30,
    "start_time": "2025-03-02T11:22:51.177Z"
   },
   {
    "duration": 33,
    "start_time": "2025-03-02T11:22:51.208Z"
   },
   {
    "duration": 146,
    "start_time": "2025-03-02T11:22:51.242Z"
   },
   {
    "duration": 18,
    "start_time": "2025-03-02T11:22:51.390Z"
   },
   {
    "duration": 22,
    "start_time": "2025-03-02T11:22:51.409Z"
   },
   {
    "duration": 108,
    "start_time": "2025-03-02T11:22:51.432Z"
   },
   {
    "duration": 145,
    "start_time": "2025-03-02T11:22:51.542Z"
   },
   {
    "duration": 21,
    "start_time": "2025-03-02T11:22:51.689Z"
   },
   {
    "duration": 14,
    "start_time": "2025-03-02T11:22:51.712Z"
   },
   {
    "duration": 30,
    "start_time": "2025-03-02T11:22:51.727Z"
   },
   {
    "duration": 7,
    "start_time": "2025-03-02T11:22:51.759Z"
   },
   {
    "duration": 15,
    "start_time": "2025-03-02T11:22:51.767Z"
   },
   {
    "duration": 3,
    "start_time": "2025-03-02T11:22:51.783Z"
   },
   {
    "duration": 8,
    "start_time": "2025-03-02T11:22:51.788Z"
   },
   {
    "duration": 23,
    "start_time": "2025-03-02T11:22:51.797Z"
   },
   {
    "duration": 12,
    "start_time": "2025-03-02T11:22:51.821Z"
   },
   {
    "duration": 25,
    "start_time": "2025-03-02T11:22:51.836Z"
   },
   {
    "duration": 81,
    "start_time": "2025-03-02T11:22:51.863Z"
   },
   {
    "duration": 26,
    "start_time": "2025-03-02T11:22:51.946Z"
   },
   {
    "duration": 42,
    "start_time": "2025-03-02T11:22:51.974Z"
   },
   {
    "duration": 19,
    "start_time": "2025-03-02T11:22:52.018Z"
   },
   {
    "duration": 7,
    "start_time": "2025-03-02T11:22:52.039Z"
   },
   {
    "duration": 26,
    "start_time": "2025-03-02T11:22:52.047Z"
   },
   {
    "duration": 115,
    "start_time": "2025-03-02T11:22:52.075Z"
   },
   {
    "duration": 24,
    "start_time": "2025-03-02T11:22:52.192Z"
   },
   {
    "duration": 5,
    "start_time": "2025-03-02T11:23:39.911Z"
   },
   {
    "duration": 9,
    "start_time": "2025-03-02T11:24:09.963Z"
   },
   {
    "duration": 5,
    "start_time": "2025-03-02T11:24:15.664Z"
   },
   {
    "duration": 9,
    "start_time": "2025-03-02T11:25:16.597Z"
   },
   {
    "duration": 4,
    "start_time": "2025-03-02T11:25:18.694Z"
   },
   {
    "duration": 9,
    "start_time": "2025-03-02T11:25:21.181Z"
   },
   {
    "duration": 3,
    "start_time": "2025-03-02T11:25:23.179Z"
   },
   {
    "duration": 7,
    "start_time": "2025-03-02T11:25:26.259Z"
   },
   {
    "duration": 5,
    "start_time": "2025-03-02T11:25:28.879Z"
   },
   {
    "duration": 4,
    "start_time": "2025-03-02T11:25:30.977Z"
   },
   {
    "duration": 17,
    "start_time": "2025-03-02T13:11:49.669Z"
   },
   {
    "duration": 70,
    "start_time": "2025-03-02T13:18:57.263Z"
   },
   {
    "duration": 112,
    "start_time": "2025-03-02T13:19:08.269Z"
   },
   {
    "duration": 18,
    "start_time": "2025-03-02T13:19:39.455Z"
   },
   {
    "duration": 15,
    "start_time": "2025-03-02T13:20:06.510Z"
   },
   {
    "duration": 74,
    "start_time": "2025-03-02T13:20:54.662Z"
   },
   {
    "duration": 14,
    "start_time": "2025-03-02T13:21:15.306Z"
   },
   {
    "duration": 16,
    "start_time": "2025-03-02T13:21:35.827Z"
   },
   {
    "duration": 13,
    "start_time": "2025-03-02T13:21:45.704Z"
   },
   {
    "duration": 13,
    "start_time": "2025-03-02T13:22:21.010Z"
   },
   {
    "duration": 16,
    "start_time": "2025-03-02T13:22:52.059Z"
   },
   {
    "duration": 17,
    "start_time": "2025-03-02T13:23:27.587Z"
   },
   {
    "duration": 24,
    "start_time": "2025-03-02T13:24:06.798Z"
   },
   {
    "duration": 15,
    "start_time": "2025-03-02T13:24:35.718Z"
   },
   {
    "duration": 14,
    "start_time": "2025-03-02T13:24:55.539Z"
   },
   {
    "duration": 13,
    "start_time": "2025-03-02T13:25:17.114Z"
   },
   {
    "duration": 15,
    "start_time": "2025-03-02T13:25:41.976Z"
   },
   {
    "duration": 21,
    "start_time": "2025-03-02T13:27:06.912Z"
   },
   {
    "duration": 10,
    "start_time": "2025-03-02T13:34:05.001Z"
   },
   {
    "duration": 9,
    "start_time": "2025-03-02T13:34:38.659Z"
   },
   {
    "duration": 9,
    "start_time": "2025-03-02T13:35:05.945Z"
   },
   {
    "duration": 9,
    "start_time": "2025-03-02T13:35:13.785Z"
   },
   {
    "duration": 80,
    "start_time": "2025-03-02T13:36:46.726Z"
   },
   {
    "duration": 105,
    "start_time": "2025-03-02T13:37:00.260Z"
   },
   {
    "duration": 10,
    "start_time": "2025-03-02T13:37:54.593Z"
   },
   {
    "duration": 12,
    "start_time": "2025-03-02T13:38:42.391Z"
   },
   {
    "duration": 10,
    "start_time": "2025-03-02T13:39:03.783Z"
   },
   {
    "duration": 13,
    "start_time": "2025-03-02T13:40:26.588Z"
   },
   {
    "duration": 67,
    "start_time": "2025-03-02T13:44:22.284Z"
   },
   {
    "duration": 9,
    "start_time": "2025-03-02T13:55:32.086Z"
   },
   {
    "duration": 9,
    "start_time": "2025-03-02T14:17:49.185Z"
   },
   {
    "duration": 9,
    "start_time": "2025-03-02T14:25:58.556Z"
   },
   {
    "duration": 10,
    "start_time": "2025-03-02T14:27:21.289Z"
   },
   {
    "duration": 8,
    "start_time": "2025-03-02T14:29:50.381Z"
   },
   {
    "duration": 13,
    "start_time": "2025-03-02T14:32:39.694Z"
   },
   {
    "duration": 11,
    "start_time": "2025-03-02T14:32:59.943Z"
   },
   {
    "duration": 6,
    "start_time": "2025-03-02T14:34:11.967Z"
   },
   {
    "duration": 13,
    "start_time": "2025-03-02T14:38:23.566Z"
   },
   {
    "duration": 2289,
    "start_time": "2025-03-02T14:38:44.597Z"
   },
   {
    "duration": 1096,
    "start_time": "2025-03-02T14:38:46.888Z"
   },
   {
    "duration": 87,
    "start_time": "2025-03-02T14:38:47.985Z"
   },
   {
    "duration": 13,
    "start_time": "2025-03-02T14:38:48.074Z"
   },
   {
    "duration": 116,
    "start_time": "2025-03-02T14:38:48.088Z"
   },
   {
    "duration": 7,
    "start_time": "2025-03-02T14:38:48.206Z"
   },
   {
    "duration": 27,
    "start_time": "2025-03-02T14:38:48.215Z"
   },
   {
    "duration": 77,
    "start_time": "2025-03-02T14:38:48.244Z"
   },
   {
    "duration": 11,
    "start_time": "2025-03-02T14:38:48.323Z"
   },
   {
    "duration": 3,
    "start_time": "2025-03-02T14:38:48.336Z"
   },
   {
    "duration": 6,
    "start_time": "2025-03-02T14:38:48.340Z"
   },
   {
    "duration": 10,
    "start_time": "2025-03-02T14:38:48.347Z"
   },
   {
    "duration": 10,
    "start_time": "2025-03-02T14:38:48.358Z"
   },
   {
    "duration": 8,
    "start_time": "2025-03-02T14:38:48.369Z"
   },
   {
    "duration": 6,
    "start_time": "2025-03-02T14:38:48.378Z"
   },
   {
    "duration": 14,
    "start_time": "2025-03-02T14:38:48.385Z"
   },
   {
    "duration": 5,
    "start_time": "2025-03-02T14:38:48.401Z"
   },
   {
    "duration": 4,
    "start_time": "2025-03-02T14:38:48.408Z"
   },
   {
    "duration": 41,
    "start_time": "2025-03-02T14:38:48.413Z"
   },
   {
    "duration": 6,
    "start_time": "2025-03-02T14:38:48.456Z"
   },
   {
    "duration": 127,
    "start_time": "2025-03-02T14:38:48.463Z"
   },
   {
    "duration": 8,
    "start_time": "2025-03-02T14:38:48.591Z"
   },
   {
    "duration": 12,
    "start_time": "2025-03-02T14:38:48.600Z"
   },
   {
    "duration": 3,
    "start_time": "2025-03-02T14:38:48.614Z"
   },
   {
    "duration": 4,
    "start_time": "2025-03-02T14:38:48.618Z"
   },
   {
    "duration": 9,
    "start_time": "2025-03-02T14:38:48.623Z"
   },
   {
    "duration": 7,
    "start_time": "2025-03-02T14:38:48.633Z"
   },
   {
    "duration": 7,
    "start_time": "2025-03-02T14:38:48.643Z"
   },
   {
    "duration": 20,
    "start_time": "2025-03-02T14:38:48.651Z"
   },
   {
    "duration": 7,
    "start_time": "2025-03-02T14:38:48.673Z"
   },
   {
    "duration": 6,
    "start_time": "2025-03-02T14:38:48.682Z"
   },
   {
    "duration": 9,
    "start_time": "2025-03-02T14:38:48.689Z"
   },
   {
    "duration": 3,
    "start_time": "2025-03-02T14:38:48.700Z"
   },
   {
    "duration": 9,
    "start_time": "2025-03-02T14:38:48.704Z"
   },
   {
    "duration": 15,
    "start_time": "2025-03-02T14:38:48.715Z"
   },
   {
    "duration": 15,
    "start_time": "2025-03-02T14:38:48.748Z"
   },
   {
    "duration": 10,
    "start_time": "2025-03-02T14:38:48.764Z"
   },
   {
    "duration": 11,
    "start_time": "2025-03-02T14:38:48.776Z"
   },
   {
    "duration": 94,
    "start_time": "2025-03-02T14:39:32.122Z"
   },
   {
    "duration": 4,
    "start_time": "2025-03-02T14:39:46.572Z"
   },
   {
    "duration": 4,
    "start_time": "2025-03-02T14:40:43.124Z"
   },
   {
    "duration": 5,
    "start_time": "2025-03-02T14:40:50.118Z"
   },
   {
    "duration": 11,
    "start_time": "2025-03-02T14:40:54.916Z"
   },
   {
    "duration": 4,
    "start_time": "2025-03-02T14:40:57.620Z"
   },
   {
    "duration": 5,
    "start_time": "2025-03-02T14:41:31.794Z"
   },
   {
    "duration": 15,
    "start_time": "2025-03-02T14:42:14.079Z"
   },
   {
    "duration": 15,
    "start_time": "2025-03-02T14:43:02.378Z"
   },
   {
    "duration": 15,
    "start_time": "2025-03-02T14:49:56.420Z"
   },
   {
    "duration": 2377,
    "start_time": "2025-03-02T14:56:06.891Z"
   },
   {
    "duration": 1199,
    "start_time": "2025-03-02T14:56:09.270Z"
   },
   {
    "duration": 77,
    "start_time": "2025-03-02T14:56:10.470Z"
   },
   {
    "duration": 15,
    "start_time": "2025-03-02T14:56:10.549Z"
   },
   {
    "duration": 72,
    "start_time": "2025-03-02T14:56:10.565Z"
   },
   {
    "duration": 12,
    "start_time": "2025-03-02T14:56:10.638Z"
   },
   {
    "duration": 26,
    "start_time": "2025-03-02T14:56:10.651Z"
   },
   {
    "duration": 25,
    "start_time": "2025-03-02T14:56:10.679Z"
   },
   {
    "duration": 13,
    "start_time": "2025-03-02T14:56:10.706Z"
   },
   {
    "duration": 12,
    "start_time": "2025-03-02T14:56:10.722Z"
   },
   {
    "duration": 16,
    "start_time": "2025-03-02T14:56:10.736Z"
   },
   {
    "duration": 22,
    "start_time": "2025-03-02T14:56:10.754Z"
   },
   {
    "duration": 28,
    "start_time": "2025-03-02T14:56:10.778Z"
   },
   {
    "duration": 28,
    "start_time": "2025-03-02T14:56:10.808Z"
   },
   {
    "duration": 51,
    "start_time": "2025-03-02T14:56:10.838Z"
   },
   {
    "duration": 146,
    "start_time": "2025-03-02T14:56:10.890Z"
   },
   {
    "duration": 26,
    "start_time": "2025-03-02T14:56:11.038Z"
   },
   {
    "duration": 10,
    "start_time": "2025-03-02T14:56:11.065Z"
   },
   {
    "duration": 24,
    "start_time": "2025-03-02T14:56:11.077Z"
   },
   {
    "duration": 113,
    "start_time": "2025-03-02T14:56:11.102Z"
   },
   {
    "duration": 18,
    "start_time": "2025-03-02T14:56:11.216Z"
   },
   {
    "duration": 3,
    "start_time": "2025-03-02T14:56:11.235Z"
   },
   {
    "duration": 14,
    "start_time": "2025-03-02T14:56:11.240Z"
   },
   {
    "duration": 4,
    "start_time": "2025-03-02T14:56:11.255Z"
   },
   {
    "duration": 9,
    "start_time": "2025-03-02T14:56:11.260Z"
   },
   {
    "duration": 20,
    "start_time": "2025-03-02T14:56:11.270Z"
   },
   {
    "duration": 10,
    "start_time": "2025-03-02T14:56:11.292Z"
   },
   {
    "duration": 10,
    "start_time": "2025-03-02T14:56:11.305Z"
   },
   {
    "duration": 35,
    "start_time": "2025-03-02T14:56:11.317Z"
   },
   {
    "duration": 9,
    "start_time": "2025-03-02T14:56:11.354Z"
   },
   {
    "duration": 6,
    "start_time": "2025-03-02T14:56:11.364Z"
   },
   {
    "duration": 10,
    "start_time": "2025-03-02T14:56:11.372Z"
   },
   {
    "duration": 3,
    "start_time": "2025-03-02T14:56:11.384Z"
   },
   {
    "duration": 15,
    "start_time": "2025-03-02T14:56:11.389Z"
   },
   {
    "duration": 11,
    "start_time": "2025-03-02T14:56:11.406Z"
   },
   {
    "duration": 36,
    "start_time": "2025-03-02T14:56:11.418Z"
   },
   {
    "duration": 12,
    "start_time": "2025-03-02T14:56:11.456Z"
   },
   {
    "duration": 25,
    "start_time": "2025-03-02T14:56:11.470Z"
   },
   {
    "duration": 49,
    "start_time": "2025-03-02T17:28:17.718Z"
   },
   {
    "duration": 3631,
    "start_time": "2025-03-02T17:28:26.417Z"
   },
   {
    "duration": 1338,
    "start_time": "2025-03-02T17:28:30.051Z"
   },
   {
    "duration": 79,
    "start_time": "2025-03-02T17:28:31.390Z"
   },
   {
    "duration": 17,
    "start_time": "2025-03-02T17:28:31.470Z"
   },
   {
    "duration": 15,
    "start_time": "2025-03-02T17:28:31.489Z"
   },
   {
    "duration": 33,
    "start_time": "2025-03-02T17:28:31.509Z"
   },
   {
    "duration": 24,
    "start_time": "2025-03-02T17:28:31.544Z"
   },
   {
    "duration": 27,
    "start_time": "2025-03-02T17:28:31.569Z"
   },
   {
    "duration": 13,
    "start_time": "2025-03-02T17:28:31.597Z"
   },
   {
    "duration": 10,
    "start_time": "2025-03-02T17:28:31.612Z"
   },
   {
    "duration": 6,
    "start_time": "2025-03-02T17:28:31.624Z"
   },
   {
    "duration": 9,
    "start_time": "2025-03-02T17:28:31.631Z"
   },
   {
    "duration": 13,
    "start_time": "2025-03-02T17:28:31.641Z"
   },
   {
    "duration": 15,
    "start_time": "2025-03-02T17:28:31.657Z"
   },
   {
    "duration": 11,
    "start_time": "2025-03-02T17:28:31.673Z"
   },
   {
    "duration": 37,
    "start_time": "2025-03-02T17:28:31.685Z"
   },
   {
    "duration": 6,
    "start_time": "2025-03-02T17:28:31.723Z"
   },
   {
    "duration": 5,
    "start_time": "2025-03-02T17:28:31.731Z"
   },
   {
    "duration": 47,
    "start_time": "2025-03-02T17:28:31.737Z"
   },
   {
    "duration": 86,
    "start_time": "2025-03-02T17:28:31.785Z"
   },
   {
    "duration": 16,
    "start_time": "2025-03-02T17:28:31.872Z"
   },
   {
    "duration": 4,
    "start_time": "2025-03-02T17:28:31.889Z"
   },
   {
    "duration": 31,
    "start_time": "2025-03-02T17:28:31.894Z"
   },
   {
    "duration": 5,
    "start_time": "2025-03-02T17:28:31.926Z"
   },
   {
    "duration": 5,
    "start_time": "2025-03-02T17:28:31.932Z"
   },
   {
    "duration": 5,
    "start_time": "2025-03-02T17:28:31.938Z"
   },
   {
    "duration": 10,
    "start_time": "2025-03-02T17:28:31.944Z"
   },
   {
    "duration": 4,
    "start_time": "2025-03-02T17:28:31.956Z"
   },
   {
    "duration": 19,
    "start_time": "2025-03-02T17:28:31.962Z"
   },
   {
    "duration": 35,
    "start_time": "2025-03-02T17:28:31.982Z"
   },
   {
    "duration": 9,
    "start_time": "2025-03-02T17:28:32.018Z"
   },
   {
    "duration": 10,
    "start_time": "2025-03-02T17:28:32.029Z"
   },
   {
    "duration": 4,
    "start_time": "2025-03-02T17:28:32.040Z"
   },
   {
    "duration": 17,
    "start_time": "2025-03-02T17:28:32.046Z"
   },
   {
    "duration": 4,
    "start_time": "2025-03-02T17:28:32.064Z"
   },
   {
    "duration": 43,
    "start_time": "2025-03-02T17:28:32.070Z"
   },
   {
    "duration": 11,
    "start_time": "2025-03-02T17:28:32.115Z"
   },
   {
    "duration": 16,
    "start_time": "2025-03-02T17:28:32.127Z"
   },
   {
    "duration": 14,
    "start_time": "2025-03-02T17:29:40.792Z"
   },
   {
    "duration": 102,
    "start_time": "2025-03-02T17:34:48.196Z"
   },
   {
    "duration": 4,
    "start_time": "2025-03-02T17:34:50.697Z"
   },
   {
    "duration": 66,
    "start_time": "2025-03-02T17:38:51.664Z"
   },
   {
    "duration": 57,
    "start_time": "2025-03-02T17:40:03.607Z"
   },
   {
    "duration": 61,
    "start_time": "2025-03-02T17:40:38.859Z"
   },
   {
    "duration": 9,
    "start_time": "2025-03-02T17:42:21.272Z"
   },
   {
    "duration": 2415,
    "start_time": "2025-03-02T17:42:37.225Z"
   },
   {
    "duration": 1227,
    "start_time": "2025-03-02T17:42:39.642Z"
   },
   {
    "duration": 91,
    "start_time": "2025-03-02T17:42:40.871Z"
   },
   {
    "duration": 17,
    "start_time": "2025-03-02T17:42:40.964Z"
   },
   {
    "duration": 14,
    "start_time": "2025-03-02T17:42:40.982Z"
   },
   {
    "duration": 13,
    "start_time": "2025-03-02T17:42:40.998Z"
   },
   {
    "duration": 10,
    "start_time": "2025-03-02T17:42:41.013Z"
   },
   {
    "duration": 20,
    "start_time": "2025-03-02T17:42:41.025Z"
   },
   {
    "duration": 13,
    "start_time": "2025-03-02T17:42:41.046Z"
   },
   {
    "duration": 3,
    "start_time": "2025-03-02T17:42:41.061Z"
   },
   {
    "duration": 15,
    "start_time": "2025-03-02T17:42:41.066Z"
   },
   {
    "duration": 32,
    "start_time": "2025-03-02T17:42:41.083Z"
   },
   {
    "duration": 13,
    "start_time": "2025-03-02T17:42:41.117Z"
   },
   {
    "duration": 91,
    "start_time": "2025-03-02T17:42:41.131Z"
   },
   {
    "duration": 11,
    "start_time": "2025-03-02T17:42:41.223Z"
   },
   {
    "duration": 12,
    "start_time": "2025-03-02T17:42:41.235Z"
   },
   {
    "duration": 5,
    "start_time": "2025-03-02T17:42:41.249Z"
   },
   {
    "duration": 11,
    "start_time": "2025-03-02T17:42:41.255Z"
   },
   {
    "duration": 8,
    "start_time": "2025-03-02T17:42:41.267Z"
   },
   {
    "duration": 35,
    "start_time": "2025-03-02T17:42:41.276Z"
   },
   {
    "duration": 4,
    "start_time": "2025-03-02T17:42:41.312Z"
   },
   {
    "duration": 13,
    "start_time": "2025-03-02T17:42:41.318Z"
   },
   {
    "duration": 4,
    "start_time": "2025-03-02T17:42:41.332Z"
   },
   {
    "duration": 6,
    "start_time": "2025-03-02T17:42:41.337Z"
   },
   {
    "duration": 12,
    "start_time": "2025-03-02T17:42:41.345Z"
   },
   {
    "duration": 4,
    "start_time": "2025-03-02T17:42:41.358Z"
   },
   {
    "duration": 57,
    "start_time": "2025-03-02T17:42:41.364Z"
   },
   {
    "duration": 8,
    "start_time": "2025-03-02T17:42:41.424Z"
   },
   {
    "duration": 3,
    "start_time": "2025-03-02T17:42:41.434Z"
   },
   {
    "duration": 18,
    "start_time": "2025-03-02T17:42:41.439Z"
   },
   {
    "duration": 6,
    "start_time": "2025-03-02T17:42:41.458Z"
   },
   {
    "duration": 7,
    "start_time": "2025-03-02T17:42:41.466Z"
   },
   {
    "duration": 3,
    "start_time": "2025-03-02T17:42:41.475Z"
   },
   {
    "duration": 15,
    "start_time": "2025-03-02T17:42:41.510Z"
   },
   {
    "duration": 13,
    "start_time": "2025-03-02T17:42:41.526Z"
   },
   {
    "duration": 7,
    "start_time": "2025-03-02T17:42:41.540Z"
   },
   {
    "duration": 104,
    "start_time": "2025-03-02T17:46:49.403Z"
   },
   {
    "duration": 12,
    "start_time": "2025-03-02T17:47:10.065Z"
   },
   {
    "duration": 11,
    "start_time": "2025-03-02T17:48:00.630Z"
   },
   {
    "duration": 59,
    "start_time": "2025-03-02T17:50:15.630Z"
   },
   {
    "duration": 9,
    "start_time": "2025-03-02T17:50:25.492Z"
   },
   {
    "duration": 61,
    "start_time": "2025-03-02T17:50:37.252Z"
   },
   {
    "duration": 58,
    "start_time": "2025-03-02T17:52:16.759Z"
   },
   {
    "duration": 7,
    "start_time": "2025-03-02T17:54:16.261Z"
   },
   {
    "duration": 6,
    "start_time": "2025-03-02T17:55:08.228Z"
   },
   {
    "duration": 5,
    "start_time": "2025-03-02T17:56:09.173Z"
   },
   {
    "duration": 7,
    "start_time": "2025-03-02T17:56:32.334Z"
   },
   {
    "duration": 7,
    "start_time": "2025-03-02T17:56:56.068Z"
   },
   {
    "duration": 6,
    "start_time": "2025-03-02T17:58:36.414Z"
   },
   {
    "duration": 5,
    "start_time": "2025-03-02T17:58:38.033Z"
   },
   {
    "duration": 6,
    "start_time": "2025-03-02T17:58:40.111Z"
   },
   {
    "duration": 5,
    "start_time": "2025-03-02T17:58:41.674Z"
   },
   {
    "duration": 75,
    "start_time": "2025-03-02T20:31:26.425Z"
   },
   {
    "duration": 3454,
    "start_time": "2025-03-02T20:31:34.540Z"
   },
   {
    "duration": 1313,
    "start_time": "2025-03-02T20:31:37.996Z"
   },
   {
    "duration": 77,
    "start_time": "2025-03-02T20:31:39.311Z"
   },
   {
    "duration": 14,
    "start_time": "2025-03-02T20:31:39.390Z"
   },
   {
    "duration": 12,
    "start_time": "2025-03-02T20:31:39.405Z"
   },
   {
    "duration": 11,
    "start_time": "2025-03-02T20:31:39.418Z"
   },
   {
    "duration": 34,
    "start_time": "2025-03-02T20:31:39.430Z"
   },
   {
    "duration": 23,
    "start_time": "2025-03-02T20:31:39.465Z"
   },
   {
    "duration": 11,
    "start_time": "2025-03-02T20:31:39.490Z"
   },
   {
    "duration": 4,
    "start_time": "2025-03-02T20:31:39.503Z"
   },
   {
    "duration": 4,
    "start_time": "2025-03-02T20:31:39.509Z"
   },
   {
    "duration": 7,
    "start_time": "2025-03-02T20:31:39.515Z"
   },
   {
    "duration": 9,
    "start_time": "2025-03-02T20:31:39.523Z"
   },
   {
    "duration": 56,
    "start_time": "2025-03-02T20:31:39.548Z"
   },
   {
    "duration": 10,
    "start_time": "2025-03-02T20:31:39.605Z"
   },
   {
    "duration": 168,
    "start_time": "2025-03-02T20:31:39.616Z"
   },
   {
    "duration": 4,
    "start_time": "2025-03-02T20:31:39.786Z"
   },
   {
    "duration": 16,
    "start_time": "2025-03-02T20:31:39.791Z"
   },
   {
    "duration": 7,
    "start_time": "2025-03-02T20:31:39.809Z"
   },
   {
    "duration": 16,
    "start_time": "2025-03-02T20:31:39.817Z"
   },
   {
    "duration": 4,
    "start_time": "2025-03-02T20:31:39.834Z"
   },
   {
    "duration": 17,
    "start_time": "2025-03-02T20:31:39.839Z"
   },
   {
    "duration": 35,
    "start_time": "2025-03-02T20:31:39.857Z"
   },
   {
    "duration": 145,
    "start_time": "2025-03-02T20:31:39.894Z"
   },
   {
    "duration": 9,
    "start_time": "2025-03-02T20:31:40.041Z"
   },
   {
    "duration": 40,
    "start_time": "2025-03-02T20:31:40.051Z"
   },
   {
    "duration": 20,
    "start_time": "2025-03-02T20:31:40.093Z"
   },
   {
    "duration": 5,
    "start_time": "2025-03-02T20:31:40.117Z"
   },
   {
    "duration": 72,
    "start_time": "2025-03-02T20:31:40.123Z"
   },
   {
    "duration": 0,
    "start_time": "2025-03-02T20:31:40.196Z"
   },
   {
    "duration": 0,
    "start_time": "2025-03-02T20:31:40.197Z"
   },
   {
    "duration": 0,
    "start_time": "2025-03-02T20:31:40.199Z"
   },
   {
    "duration": 0,
    "start_time": "2025-03-02T20:31:40.200Z"
   },
   {
    "duration": 0,
    "start_time": "2025-03-02T20:31:40.201Z"
   },
   {
    "duration": 0,
    "start_time": "2025-03-02T20:31:40.202Z"
   },
   {
    "duration": 0,
    "start_time": "2025-03-02T20:31:40.203Z"
   },
   {
    "duration": 0,
    "start_time": "2025-03-02T20:31:40.204Z"
   },
   {
    "duration": 0,
    "start_time": "2025-03-02T20:31:40.205Z"
   },
   {
    "duration": 0,
    "start_time": "2025-03-02T20:31:40.206Z"
   },
   {
    "duration": 0,
    "start_time": "2025-03-02T20:31:40.208Z"
   },
   {
    "duration": 0,
    "start_time": "2025-03-02T20:31:40.209Z"
   },
   {
    "duration": 0,
    "start_time": "2025-03-02T20:31:40.210Z"
   },
   {
    "duration": 0,
    "start_time": "2025-03-02T20:31:40.211Z"
   },
   {
    "duration": 0,
    "start_time": "2025-03-02T20:31:40.212Z"
   },
   {
    "duration": 76,
    "start_time": "2025-03-02T20:33:32.803Z"
   },
   {
    "duration": 9,
    "start_time": "2025-03-02T20:34:45.923Z"
   },
   {
    "duration": 6,
    "start_time": "2025-03-02T20:34:53.317Z"
   },
   {
    "duration": 6,
    "start_time": "2025-03-02T20:34:55.146Z"
   },
   {
    "duration": 6,
    "start_time": "2025-03-02T20:34:56.962Z"
   },
   {
    "duration": 5,
    "start_time": "2025-03-02T20:34:58.533Z"
   },
   {
    "duration": 4,
    "start_time": "2025-03-02T20:35:00.106Z"
   },
   {
    "duration": 5,
    "start_time": "2025-03-02T20:35:02.335Z"
   },
   {
    "duration": 10,
    "start_time": "2025-03-02T20:45:40.400Z"
   },
   {
    "duration": 7,
    "start_time": "2025-03-02T20:46:02.544Z"
   },
   {
    "duration": 1427,
    "start_time": "2025-03-02T20:46:54.544Z"
   },
   {
    "duration": 5,
    "start_time": "2025-03-02T20:47:06.221Z"
   },
   {
    "duration": 5,
    "start_time": "2025-03-02T20:48:35.629Z"
   },
   {
    "duration": 77,
    "start_time": "2025-03-02T21:46:06.048Z"
   },
   {
    "duration": 156,
    "start_time": "2025-03-02T21:46:14.885Z"
   },
   {
    "duration": 237,
    "start_time": "2025-03-02T21:46:25.759Z"
   },
   {
    "duration": 152,
    "start_time": "2025-03-02T21:46:33.562Z"
   },
   {
    "duration": 139,
    "start_time": "2025-03-02T21:46:54.095Z"
   },
   {
    "duration": 15,
    "start_time": "2025-03-02T21:47:45.219Z"
   },
   {
    "duration": 152,
    "start_time": "2025-03-02T21:48:01.331Z"
   },
   {
    "duration": 149,
    "start_time": "2025-03-02T21:50:14.483Z"
   },
   {
    "duration": 196,
    "start_time": "2025-03-02T21:57:28.682Z"
   },
   {
    "duration": 202,
    "start_time": "2025-03-02T22:02:54.893Z"
   },
   {
    "duration": 123,
    "start_time": "2025-03-02T22:03:54.945Z"
   },
   {
    "duration": 209,
    "start_time": "2025-03-02T22:05:18.832Z"
   },
   {
    "duration": 226,
    "start_time": "2025-03-02T22:10:06.041Z"
   },
   {
    "duration": 222,
    "start_time": "2025-03-02T22:10:14.758Z"
   },
   {
    "duration": 229,
    "start_time": "2025-03-02T22:10:24.193Z"
   },
   {
    "duration": 234,
    "start_time": "2025-03-02T22:10:30.308Z"
   },
   {
    "duration": 357,
    "start_time": "2025-03-02T22:10:40.212Z"
   },
   {
    "duration": 231,
    "start_time": "2025-03-02T22:10:52.089Z"
   },
   {
    "duration": 242,
    "start_time": "2025-03-02T22:10:57.288Z"
   },
   {
    "duration": 219,
    "start_time": "2025-03-02T22:11:03.653Z"
   },
   {
    "duration": 224,
    "start_time": "2025-03-02T22:11:46.569Z"
   },
   {
    "duration": 222,
    "start_time": "2025-03-02T22:12:27.594Z"
   },
   {
    "duration": 5,
    "start_time": "2025-03-02T22:14:52.795Z"
   },
   {
    "duration": 203,
    "start_time": "2025-03-02T22:16:58.660Z"
   },
   {
    "duration": 207,
    "start_time": "2025-03-02T22:17:04.734Z"
   },
   {
    "duration": 185,
    "start_time": "2025-03-02T22:17:17.317Z"
   },
   {
    "duration": 183,
    "start_time": "2025-03-02T22:19:11.697Z"
   },
   {
    "duration": 160,
    "start_time": "2025-03-02T22:27:17.127Z"
   },
   {
    "duration": 15,
    "start_time": "2025-03-02T22:27:22.690Z"
   },
   {
    "duration": 10,
    "start_time": "2025-03-02T22:31:28.002Z"
   },
   {
    "duration": 15,
    "start_time": "2025-03-02T22:31:47.461Z"
   },
   {
    "duration": 2194,
    "start_time": "2025-03-02T22:32:07.221Z"
   },
   {
    "duration": 85,
    "start_time": "2025-03-02T22:36:12.317Z"
   },
   {
    "duration": 114,
    "start_time": "2025-03-02T22:36:18.459Z"
   },
   {
    "duration": 68,
    "start_time": "2025-03-02T22:36:38.324Z"
   },
   {
    "duration": 82,
    "start_time": "2025-03-02T22:36:58.063Z"
   },
   {
    "duration": 14,
    "start_time": "2025-03-02T22:41:13.143Z"
   },
   {
    "duration": 158,
    "start_time": "2025-03-02T22:41:56.573Z"
   },
   {
    "duration": 291,
    "start_time": "2025-03-02T22:43:49.370Z"
   },
   {
    "duration": 158,
    "start_time": "2025-03-02T22:46:05.579Z"
   },
   {
    "duration": 151,
    "start_time": "2025-03-02T22:49:22.073Z"
   },
   {
    "duration": 158,
    "start_time": "2025-03-02T22:49:29.669Z"
   },
   {
    "duration": 157,
    "start_time": "2025-03-02T22:52:58.596Z"
   },
   {
    "duration": 168,
    "start_time": "2025-03-02T22:53:05.937Z"
   },
   {
    "duration": 150,
    "start_time": "2025-03-02T22:54:22.212Z"
   },
   {
    "duration": 162,
    "start_time": "2025-03-02T22:54:27.934Z"
   },
   {
    "duration": 153,
    "start_time": "2025-03-02T22:54:42.401Z"
   },
   {
    "duration": 154,
    "start_time": "2025-03-02T22:54:55.122Z"
   },
   {
    "duration": 1415,
    "start_time": "2025-03-03T08:40:49.665Z"
   },
   {
    "duration": 3426,
    "start_time": "2025-03-03T08:41:00.006Z"
   },
   {
    "duration": 304,
    "start_time": "2025-03-03T08:41:04.216Z"
   },
   {
    "duration": 3,
    "start_time": "2025-03-03T08:41:07.913Z"
   },
   {
    "duration": 3,
    "start_time": "2025-03-03T08:42:02.168Z"
   },
   {
    "duration": 5446,
    "start_time": "2025-03-03T08:43:07.493Z"
   },
   {
    "duration": 211,
    "start_time": "2025-03-03T08:43:32.916Z"
   },
   {
    "duration": 2491,
    "start_time": "2025-03-03T08:43:43.740Z"
   },
   {
    "duration": 2426,
    "start_time": "2025-03-03T08:43:46.234Z"
   },
   {
    "duration": 186,
    "start_time": "2025-03-03T08:43:48.662Z"
   },
   {
    "duration": 1201,
    "start_time": "2025-03-03T08:43:48.849Z"
   },
   {
    "duration": 291,
    "start_time": "2025-03-03T08:43:50.052Z"
   },
   {
    "duration": 18,
    "start_time": "2025-03-03T08:43:50.345Z"
   },
   {
    "duration": 201,
    "start_time": "2025-03-03T08:43:50.364Z"
   },
   {
    "duration": 47,
    "start_time": "2025-03-03T08:43:50.566Z"
   },
   {
    "duration": 25,
    "start_time": "2025-03-03T08:43:50.614Z"
   },
   {
    "duration": 186,
    "start_time": "2025-03-03T08:43:50.641Z"
   },
   {
    "duration": 26,
    "start_time": "2025-03-03T08:43:50.829Z"
   },
   {
    "duration": 18,
    "start_time": "2025-03-03T08:43:50.857Z"
   },
   {
    "duration": 13,
    "start_time": "2025-03-03T08:43:50.876Z"
   },
   {
    "duration": 28,
    "start_time": "2025-03-03T08:43:50.892Z"
   },
   {
    "duration": 29,
    "start_time": "2025-03-03T08:43:50.922Z"
   },
   {
    "duration": 91,
    "start_time": "2025-03-03T08:43:50.952Z"
   },
   {
    "duration": 135,
    "start_time": "2025-03-03T08:43:51.045Z"
   },
   {
    "duration": 36,
    "start_time": "2025-03-03T08:43:51.182Z"
   },
   {
    "duration": 73,
    "start_time": "2025-03-03T08:43:51.220Z"
   },
   {
    "duration": 72,
    "start_time": "2025-03-03T08:43:51.294Z"
   },
   {
    "duration": 39,
    "start_time": "2025-03-03T08:43:51.368Z"
   },
   {
    "duration": 366,
    "start_time": "2025-03-03T08:43:51.409Z"
   },
   {
    "duration": 28,
    "start_time": "2025-03-03T08:43:51.777Z"
   },
   {
    "duration": 55,
    "start_time": "2025-03-03T08:43:51.806Z"
   },
   {
    "duration": 22,
    "start_time": "2025-03-03T08:43:51.863Z"
   },
   {
    "duration": 23,
    "start_time": "2025-03-03T08:43:51.886Z"
   },
   {
    "duration": 26,
    "start_time": "2025-03-03T08:43:51.910Z"
   },
   {
    "duration": 39,
    "start_time": "2025-03-03T08:43:51.938Z"
   },
   {
    "duration": 44,
    "start_time": "2025-03-03T08:43:51.978Z"
   },
   {
    "duration": 63,
    "start_time": "2025-03-03T08:43:52.024Z"
   },
   {
    "duration": 25,
    "start_time": "2025-03-03T08:43:52.088Z"
   },
   {
    "duration": 20,
    "start_time": "2025-03-03T08:43:52.114Z"
   },
   {
    "duration": 8,
    "start_time": "2025-03-03T08:43:52.135Z"
   },
   {
    "duration": 178,
    "start_time": "2025-03-03T08:43:52.145Z"
   },
   {
    "duration": 225,
    "start_time": "2025-03-03T08:43:52.325Z"
   },
   {
    "duration": 193,
    "start_time": "2025-03-03T08:43:52.552Z"
   },
   {
    "duration": 2464,
    "start_time": "2025-03-03T09:00:48.507Z"
   },
   {
    "duration": 2410,
    "start_time": "2025-03-03T09:00:50.973Z"
   },
   {
    "duration": 191,
    "start_time": "2025-03-03T09:00:53.385Z"
   },
   {
    "duration": 1165,
    "start_time": "2025-03-03T09:00:53.578Z"
   },
   {
    "duration": 94,
    "start_time": "2025-03-03T09:00:54.744Z"
   },
   {
    "duration": 50,
    "start_time": "2025-03-03T09:00:54.839Z"
   },
   {
    "duration": 30,
    "start_time": "2025-03-03T09:00:54.890Z"
   },
   {
    "duration": 15,
    "start_time": "2025-03-03T09:00:54.921Z"
   },
   {
    "duration": 15,
    "start_time": "2025-03-03T09:00:54.938Z"
   },
   {
    "duration": 24,
    "start_time": "2025-03-03T09:00:54.955Z"
   },
   {
    "duration": 14,
    "start_time": "2025-03-03T09:00:54.980Z"
   },
   {
    "duration": 20,
    "start_time": "2025-03-03T09:00:54.996Z"
   },
   {
    "duration": 36,
    "start_time": "2025-03-03T09:00:55.018Z"
   },
   {
    "duration": 136,
    "start_time": "2025-03-03T09:00:55.055Z"
   },
   {
    "duration": 32,
    "start_time": "2025-03-03T09:00:55.193Z"
   },
   {
    "duration": 71,
    "start_time": "2025-03-03T09:00:55.227Z"
   },
   {
    "duration": 13,
    "start_time": "2025-03-03T09:00:55.300Z"
   },
   {
    "duration": 20,
    "start_time": "2025-03-03T09:00:55.315Z"
   },
   {
    "duration": 6,
    "start_time": "2025-03-03T09:00:55.337Z"
   },
   {
    "duration": 34,
    "start_time": "2025-03-03T09:00:55.345Z"
   },
   {
    "duration": 14,
    "start_time": "2025-03-03T09:00:55.381Z"
   },
   {
    "duration": 15,
    "start_time": "2025-03-03T09:00:55.397Z"
   },
   {
    "duration": 5,
    "start_time": "2025-03-03T09:00:55.413Z"
   },
   {
    "duration": 37,
    "start_time": "2025-03-03T09:00:55.419Z"
   },
   {
    "duration": 9,
    "start_time": "2025-03-03T09:00:55.461Z"
   },
   {
    "duration": 92,
    "start_time": "2025-03-03T09:00:55.472Z"
   },
   {
    "duration": 21,
    "start_time": "2025-03-03T09:00:55.566Z"
   },
   {
    "duration": 25,
    "start_time": "2025-03-03T09:00:55.591Z"
   },
   {
    "duration": 8,
    "start_time": "2025-03-03T09:00:55.617Z"
   },
   {
    "duration": 13,
    "start_time": "2025-03-03T09:00:55.626Z"
   },
   {
    "duration": 23,
    "start_time": "2025-03-03T09:00:55.641Z"
   },
   {
    "duration": 18,
    "start_time": "2025-03-03T09:00:55.665Z"
   },
   {
    "duration": 116,
    "start_time": "2025-03-03T09:00:55.685Z"
   },
   {
    "duration": 199,
    "start_time": "2025-03-03T09:00:55.803Z"
   },
   {
    "duration": 223,
    "start_time": "2025-03-03T09:00:56.005Z"
   },
   {
    "duration": 182,
    "start_time": "2025-03-03T09:00:56.230Z"
   },
   {
    "duration": 194,
    "start_time": "2025-03-03T09:03:02.740Z"
   },
   {
    "duration": 216,
    "start_time": "2025-03-03T09:03:11.714Z"
   },
   {
    "duration": 184,
    "start_time": "2025-03-03T09:10:58.571Z"
   },
   {
    "duration": 165,
    "start_time": "2025-03-03T09:11:56.441Z"
   },
   {
    "duration": 214,
    "start_time": "2025-03-03T09:12:09.963Z"
   },
   {
    "duration": 170,
    "start_time": "2025-03-03T09:12:20.465Z"
   },
   {
    "duration": 170,
    "start_time": "2025-03-03T09:12:24.912Z"
   },
   {
    "duration": 191,
    "start_time": "2025-03-03T09:12:37.476Z"
   },
   {
    "duration": 160,
    "start_time": "2025-03-03T09:13:34.513Z"
   },
   {
    "duration": 213,
    "start_time": "2025-03-03T09:13:42.421Z"
   },
   {
    "duration": 177,
    "start_time": "2025-03-03T09:13:52.332Z"
   },
   {
    "duration": 15,
    "start_time": "2025-03-03T09:22:59.336Z"
   },
   {
    "duration": 15,
    "start_time": "2025-03-03T09:31:44.516Z"
   },
   {
    "duration": 19,
    "start_time": "2025-03-03T09:31:54.768Z"
   },
   {
    "duration": 23,
    "start_time": "2025-03-03T09:32:25.290Z"
   },
   {
    "duration": 21,
    "start_time": "2025-03-03T09:32:28.755Z"
   },
   {
    "duration": 25,
    "start_time": "2025-03-03T09:32:49.117Z"
   },
   {
    "duration": 22,
    "start_time": "2025-03-03T09:32:52.910Z"
   },
   {
    "duration": 19,
    "start_time": "2025-03-03T09:35:17.523Z"
   },
   {
    "duration": 19,
    "start_time": "2025-03-03T09:35:19.864Z"
   },
   {
    "duration": 16,
    "start_time": "2025-03-03T09:38:12.673Z"
   },
   {
    "duration": 14,
    "start_time": "2025-03-03T09:38:16.307Z"
   },
   {
    "duration": 33,
    "start_time": "2025-03-03T09:38:40.017Z"
   },
   {
    "duration": 124,
    "start_time": "2025-03-03T09:38:51.419Z"
   },
   {
    "duration": 22,
    "start_time": "2025-03-03T09:40:00.020Z"
   },
   {
    "duration": 21,
    "start_time": "2025-03-03T09:40:10.837Z"
   },
   {
    "duration": 21,
    "start_time": "2025-03-03T09:40:23.878Z"
   },
   {
    "duration": 20,
    "start_time": "2025-03-03T09:40:34.207Z"
   },
   {
    "duration": 23,
    "start_time": "2025-03-03T09:41:27.966Z"
   },
   {
    "duration": 30,
    "start_time": "2025-03-03T09:41:32.058Z"
   },
   {
    "duration": 145,
    "start_time": "2025-03-03T09:55:36.936Z"
   },
   {
    "duration": 131,
    "start_time": "2025-03-03T09:55:39.869Z"
   },
   {
    "duration": 183,
    "start_time": "2025-03-03T09:55:57.865Z"
   },
   {
    "duration": 33,
    "start_time": "2025-03-03T10:01:42.531Z"
   },
   {
    "duration": 34,
    "start_time": "2025-03-03T10:01:45.866Z"
   },
   {
    "duration": 5,
    "start_time": "2025-03-03T10:02:08.285Z"
   },
   {
    "duration": 36,
    "start_time": "2025-03-03T10:02:12.334Z"
   },
   {
    "duration": 38,
    "start_time": "2025-03-03T10:02:14.922Z"
   },
   {
    "duration": 35,
    "start_time": "2025-03-03T10:02:25.649Z"
   },
   {
    "duration": 36,
    "start_time": "2025-03-03T10:02:27.254Z"
   },
   {
    "duration": 5,
    "start_time": "2025-03-03T10:02:36.380Z"
   },
   {
    "duration": 33,
    "start_time": "2025-03-03T10:02:41.228Z"
   },
   {
    "duration": 31,
    "start_time": "2025-03-03T10:03:42.877Z"
   },
   {
    "duration": 34,
    "start_time": "2025-03-03T10:03:44.573Z"
   },
   {
    "duration": 149,
    "start_time": "2025-03-03T10:04:00.955Z"
   },
   {
    "duration": 34,
    "start_time": "2025-03-03T10:08:12.911Z"
   },
   {
    "duration": 37,
    "start_time": "2025-03-03T10:08:22.008Z"
   },
   {
    "duration": 36,
    "start_time": "2025-03-03T10:09:10.796Z"
   },
   {
    "duration": 35,
    "start_time": "2025-03-03T10:09:19.293Z"
   },
   {
    "duration": 41,
    "start_time": "2025-03-03T10:10:45.796Z"
   },
   {
    "duration": 39,
    "start_time": "2025-03-03T10:10:47.593Z"
   },
   {
    "duration": 47,
    "start_time": "2025-03-03T10:11:02.945Z"
   },
   {
    "duration": 36,
    "start_time": "2025-03-03T10:12:44.301Z"
   },
   {
    "duration": 36,
    "start_time": "2025-03-03T10:13:04.073Z"
   },
   {
    "duration": 40,
    "start_time": "2025-03-03T10:13:41.989Z"
   },
   {
    "duration": 35,
    "start_time": "2025-03-03T10:14:01.118Z"
   },
   {
    "duration": 42,
    "start_time": "2025-03-03T10:14:07.756Z"
   },
   {
    "duration": 14,
    "start_time": "2025-03-03T10:21:46.489Z"
   },
   {
    "duration": 18,
    "start_time": "2025-03-03T10:21:53.056Z"
   },
   {
    "duration": 21,
    "start_time": "2025-03-03T10:22:09.731Z"
   },
   {
    "duration": 17,
    "start_time": "2025-03-03T10:22:13.638Z"
   },
   {
    "duration": 17,
    "start_time": "2025-03-03T10:22:21.728Z"
   },
   {
    "duration": 38,
    "start_time": "2025-03-03T10:23:52.367Z"
   },
   {
    "duration": 37,
    "start_time": "2025-03-03T10:24:01.766Z"
   },
   {
    "duration": 39,
    "start_time": "2025-03-03T10:24:04.846Z"
   },
   {
    "duration": 92,
    "start_time": "2025-03-03T10:30:53.935Z"
   },
   {
    "duration": 88,
    "start_time": "2025-03-03T10:30:57.675Z"
   },
   {
    "duration": 91,
    "start_time": "2025-03-03T10:31:28.189Z"
   },
   {
    "duration": 99,
    "start_time": "2025-03-03T10:31:40.051Z"
   },
   {
    "duration": 37,
    "start_time": "2025-03-03T10:33:23.322Z"
   },
   {
    "duration": 153,
    "start_time": "2025-03-03T10:35:03.806Z"
   },
   {
    "duration": 38,
    "start_time": "2025-03-03T10:35:37.738Z"
   },
   {
    "duration": 120,
    "start_time": "2025-03-03T10:36:30.048Z"
   },
   {
    "duration": 15,
    "start_time": "2025-03-03T10:39:40.150Z"
   },
   {
    "duration": 9,
    "start_time": "2025-03-03T10:42:07.385Z"
   },
   {
    "duration": 9,
    "start_time": "2025-03-03T10:42:09.226Z"
   },
   {
    "duration": 148,
    "start_time": "2025-03-03T10:53:00.879Z"
   },
   {
    "duration": 171,
    "start_time": "2025-03-03T10:53:06.508Z"
   },
   {
    "duration": 175,
    "start_time": "2025-03-03T10:53:09.411Z"
   },
   {
    "duration": 141,
    "start_time": "2025-03-03T10:53:17.678Z"
   },
   {
    "duration": 250,
    "start_time": "2025-03-03T10:53:44.245Z"
   },
   {
    "duration": 143,
    "start_time": "2025-03-03T10:54:11.942Z"
   },
   {
    "duration": 140,
    "start_time": "2025-03-03T10:56:08.732Z"
   },
   {
    "duration": 136,
    "start_time": "2025-03-03T10:58:29.782Z"
   },
   {
    "duration": 126,
    "start_time": "2025-03-03T10:58:43.924Z"
   },
   {
    "duration": 223,
    "start_time": "2025-03-03T11:11:27.601Z"
   },
   {
    "duration": 214,
    "start_time": "2025-03-03T11:11:39.445Z"
   },
   {
    "duration": 125,
    "start_time": "2025-03-03T11:13:46.200Z"
   },
   {
    "duration": 131,
    "start_time": "2025-03-03T11:13:49.681Z"
   },
   {
    "duration": 162,
    "start_time": "2025-03-03T11:15:42.654Z"
   },
   {
    "duration": 179,
    "start_time": "2025-03-03T11:15:46.157Z"
   },
   {
    "duration": 126,
    "start_time": "2025-03-03T11:15:53.431Z"
   },
   {
    "duration": 24,
    "start_time": "2025-03-03T11:18:13.660Z"
   },
   {
    "duration": 96,
    "start_time": "2025-03-03T11:26:22.655Z"
   },
   {
    "duration": 97,
    "start_time": "2025-03-03T11:26:29.069Z"
   },
   {
    "duration": 94,
    "start_time": "2025-03-03T11:26:38.234Z"
   },
   {
    "duration": 256,
    "start_time": "2025-03-03T11:32:28.171Z"
   },
   {
    "duration": 121,
    "start_time": "2025-03-03T11:32:39.318Z"
   },
   {
    "duration": 124,
    "start_time": "2025-03-03T11:35:30.723Z"
   },
   {
    "duration": 114,
    "start_time": "2025-03-03T11:35:38.466Z"
   },
   {
    "duration": 182,
    "start_time": "2025-03-03T11:37:38.002Z"
   },
   {
    "duration": 182,
    "start_time": "2025-03-03T11:37:40.613Z"
   },
   {
    "duration": 196,
    "start_time": "2025-03-03T11:39:27.776Z"
   },
   {
    "duration": 273,
    "start_time": "2025-03-03T11:39:32.700Z"
   },
   {
    "duration": 146,
    "start_time": "2025-03-03T11:39:38.915Z"
   },
   {
    "duration": 175,
    "start_time": "2025-03-03T11:39:53.466Z"
   },
   {
    "duration": 178,
    "start_time": "2025-03-03T11:39:57.030Z"
   },
   {
    "duration": 187,
    "start_time": "2025-03-03T11:40:43.592Z"
   },
   {
    "duration": 181,
    "start_time": "2025-03-03T11:40:46.581Z"
   },
   {
    "duration": 185,
    "start_time": "2025-03-03T11:41:02.411Z"
   },
   {
    "duration": 328,
    "start_time": "2025-03-03T11:41:05.730Z"
   },
   {
    "duration": 130,
    "start_time": "2025-03-03T11:41:21.577Z"
   },
   {
    "duration": 195,
    "start_time": "2025-03-03T11:41:51.821Z"
   },
   {
    "duration": 128,
    "start_time": "2025-03-03T11:41:58.004Z"
   },
   {
    "duration": 115,
    "start_time": "2025-03-03T11:42:14.316Z"
   },
   {
    "duration": 192,
    "start_time": "2025-03-03T11:42:35.749Z"
   },
   {
    "duration": 212,
    "start_time": "2025-03-03T11:42:44.048Z"
   },
   {
    "duration": 160,
    "start_time": "2025-03-03T11:42:53.419Z"
   },
   {
    "duration": 193,
    "start_time": "2025-03-03T11:43:03.065Z"
   },
   {
    "duration": 187,
    "start_time": "2025-03-03T11:43:11.377Z"
   },
   {
    "duration": 182,
    "start_time": "2025-03-03T11:43:32.535Z"
   },
   {
    "duration": 300,
    "start_time": "2025-03-03T11:43:41.447Z"
   },
   {
    "duration": 165,
    "start_time": "2025-03-03T11:51:54.386Z"
   },
   {
    "duration": 179,
    "start_time": "2025-03-03T11:52:52.513Z"
   },
   {
    "duration": 181,
    "start_time": "2025-03-03T11:56:34.347Z"
   },
   {
    "duration": 125,
    "start_time": "2025-03-03T11:57:53.246Z"
   },
   {
    "duration": 193,
    "start_time": "2025-03-03T11:58:51.021Z"
   },
   {
    "duration": 209,
    "start_time": "2025-03-03T11:58:53.564Z"
   },
   {
    "duration": 205,
    "start_time": "2025-03-03T11:59:14.906Z"
   },
   {
    "duration": 204,
    "start_time": "2025-03-03T11:59:25.417Z"
   },
   {
    "duration": 131,
    "start_time": "2025-03-03T11:59:29.550Z"
   },
   {
    "duration": 203,
    "start_time": "2025-03-03T12:02:58.666Z"
   },
   {
    "duration": 39,
    "start_time": "2025-03-03T12:03:01.108Z"
   },
   {
    "duration": 219,
    "start_time": "2025-03-03T12:03:04.818Z"
   },
   {
    "duration": 220,
    "start_time": "2025-03-03T12:04:15.077Z"
   },
   {
    "duration": 17,
    "start_time": "2025-03-03T12:07:20.987Z"
   },
   {
    "duration": 127,
    "start_time": "2025-03-03T12:07:26.417Z"
   },
   {
    "duration": 215,
    "start_time": "2025-03-03T12:11:21.571Z"
   },
   {
    "duration": 227,
    "start_time": "2025-03-03T12:11:23.947Z"
   },
   {
    "duration": 223,
    "start_time": "2025-03-03T12:11:46.924Z"
   },
   {
    "duration": 220,
    "start_time": "2025-03-03T12:11:53.549Z"
   },
   {
    "duration": 213,
    "start_time": "2025-03-03T12:11:59.581Z"
   },
   {
    "duration": 212,
    "start_time": "2025-03-03T12:13:25.087Z"
   },
   {
    "duration": 100,
    "start_time": "2025-03-03T12:14:20.465Z"
   },
   {
    "duration": 75,
    "start_time": "2025-03-03T12:14:22.432Z"
   },
   {
    "duration": 176,
    "start_time": "2025-03-03T12:14:36.802Z"
   },
   {
    "duration": 238,
    "start_time": "2025-03-03T12:15:00.717Z"
   },
   {
    "duration": 215,
    "start_time": "2025-03-03T12:15:03.029Z"
   },
   {
    "duration": 213,
    "start_time": "2025-03-03T12:15:35.857Z"
   },
   {
    "duration": 204,
    "start_time": "2025-03-03T12:16:36.578Z"
   },
   {
    "duration": 210,
    "start_time": "2025-03-03T12:16:51.979Z"
   },
   {
    "duration": 323,
    "start_time": "2025-03-03T12:19:00.991Z"
   },
   {
    "duration": 224,
    "start_time": "2025-03-03T12:19:05.605Z"
   },
   {
    "duration": 215,
    "start_time": "2025-03-03T12:20:02.930Z"
   },
   {
    "duration": 231,
    "start_time": "2025-03-03T12:20:16.939Z"
   },
   {
    "duration": 207,
    "start_time": "2025-03-03T12:21:04.678Z"
   },
   {
    "duration": 209,
    "start_time": "2025-03-03T12:21:27.705Z"
   },
   {
    "duration": 220,
    "start_time": "2025-03-03T12:22:26.924Z"
   },
   {
    "duration": 213,
    "start_time": "2025-03-03T12:22:31.119Z"
   },
   {
    "duration": 210,
    "start_time": "2025-03-03T12:22:51.071Z"
   },
   {
    "duration": 216,
    "start_time": "2025-03-03T12:22:54.709Z"
   },
   {
    "duration": 212,
    "start_time": "2025-03-03T12:23:13.259Z"
   },
   {
    "duration": 319,
    "start_time": "2025-03-03T12:23:58.668Z"
   },
   {
    "duration": 225,
    "start_time": "2025-03-03T12:25:08.834Z"
   },
   {
    "duration": 227,
    "start_time": "2025-03-03T12:25:11.922Z"
   },
   {
    "duration": 236,
    "start_time": "2025-03-03T12:25:33.479Z"
   },
   {
    "duration": 223,
    "start_time": "2025-03-03T12:25:38.944Z"
   },
   {
    "duration": 15,
    "start_time": "2025-03-03T12:30:35.690Z"
   },
   {
    "duration": 253,
    "start_time": "2025-03-03T12:30:43.531Z"
   },
   {
    "duration": 266,
    "start_time": "2025-03-03T12:30:45.670Z"
   },
   {
    "duration": 154,
    "start_time": "2025-03-03T12:32:17.899Z"
   },
   {
    "duration": 123,
    "start_time": "2025-03-03T12:32:24.213Z"
   },
   {
    "duration": 151,
    "start_time": "2025-03-03T12:32:45.773Z"
   },
   {
    "duration": 321,
    "start_time": "2025-03-03T12:44:51.050Z"
   },
   {
    "duration": 203,
    "start_time": "2025-03-03T12:44:54.720Z"
   },
   {
    "duration": 222,
    "start_time": "2025-03-03T12:45:08.942Z"
   },
   {
    "duration": 216,
    "start_time": "2025-03-03T12:45:16.218Z"
   },
   {
    "duration": 214,
    "start_time": "2025-03-03T12:45:22.117Z"
   },
   {
    "duration": 334,
    "start_time": "2025-03-03T12:45:29.920Z"
   },
   {
    "duration": 212,
    "start_time": "2025-03-03T12:45:41.907Z"
   },
   {
    "duration": 217,
    "start_time": "2025-03-03T12:45:45.178Z"
   },
   {
    "duration": 208,
    "start_time": "2025-03-03T12:45:55.261Z"
   },
   {
    "duration": 214,
    "start_time": "2025-03-03T12:45:59.959Z"
   },
   {
    "duration": 32,
    "start_time": "2025-03-03T12:48:45.547Z"
   },
   {
    "duration": 32,
    "start_time": "2025-03-03T12:48:48.165Z"
   },
   {
    "duration": 10,
    "start_time": "2025-03-03T12:48:58.673Z"
   },
   {
    "duration": 220,
    "start_time": "2025-03-03T12:49:38.620Z"
   },
   {
    "duration": 236,
    "start_time": "2025-03-03T12:50:12.692Z"
   },
   {
    "duration": 194,
    "start_time": "2025-03-03T12:52:35.603Z"
   },
   {
    "duration": 189,
    "start_time": "2025-03-03T12:52:55.899Z"
   },
   {
    "duration": 177,
    "start_time": "2025-03-03T12:55:44.358Z"
   },
   {
    "duration": 176,
    "start_time": "2025-03-03T12:55:52.779Z"
   },
   {
    "duration": 109,
    "start_time": "2025-03-03T12:58:04.446Z"
   },
   {
    "duration": 113,
    "start_time": "2025-03-03T12:58:07.070Z"
   },
   {
    "duration": 130,
    "start_time": "2025-03-03T12:58:17.623Z"
   },
   {
    "duration": 181,
    "start_time": "2025-03-03T12:59:11.031Z"
   },
   {
    "duration": 10,
    "start_time": "2025-03-03T13:07:32.310Z"
   },
   {
    "duration": 9,
    "start_time": "2025-03-03T13:07:34.956Z"
   },
   {
    "duration": 10,
    "start_time": "2025-03-03T13:08:15.675Z"
   },
   {
    "duration": 10,
    "start_time": "2025-03-03T13:08:17.866Z"
   },
   {
    "duration": 132,
    "start_time": "2025-03-03T13:12:40.056Z"
   },
   {
    "duration": 138,
    "start_time": "2025-03-03T13:12:42.675Z"
   },
   {
    "duration": 135,
    "start_time": "2025-03-03T13:13:35.834Z"
   },
   {
    "duration": 146,
    "start_time": "2025-03-03T13:14:55.267Z"
   },
   {
    "duration": 263,
    "start_time": "2025-03-03T13:14:57.957Z"
   },
   {
    "duration": 167,
    "start_time": "2025-03-03T13:15:34.282Z"
   },
   {
    "duration": 178,
    "start_time": "2025-03-03T13:18:35.591Z"
   },
   {
    "duration": 173,
    "start_time": "2025-03-03T13:18:55.119Z"
   },
   {
    "duration": 164,
    "start_time": "2025-03-03T13:18:58.790Z"
   },
   {
    "duration": 177,
    "start_time": "2025-03-03T13:20:09.226Z"
   },
   {
    "duration": 168,
    "start_time": "2025-03-03T13:20:12.467Z"
   },
   {
    "duration": 186,
    "start_time": "2025-03-03T13:22:25.148Z"
   },
   {
    "duration": 165,
    "start_time": "2025-03-03T13:22:51.878Z"
   },
   {
    "duration": 190,
    "start_time": "2025-03-03T13:23:03.674Z"
   },
   {
    "duration": 164,
    "start_time": "2025-03-03T13:23:19.090Z"
   },
   {
    "duration": 306,
    "start_time": "2025-03-03T13:38:30.208Z"
   },
   {
    "duration": 186,
    "start_time": "2025-03-03T14:47:10.451Z"
   },
   {
    "duration": 162,
    "start_time": "2025-03-03T14:47:48.421Z"
   },
   {
    "duration": 22,
    "start_time": "2025-03-03T14:49:08.548Z"
   },
   {
    "duration": 167,
    "start_time": "2025-03-03T14:49:23.092Z"
   },
   {
    "duration": 169,
    "start_time": "2025-03-03T14:51:31.112Z"
   },
   {
    "duration": 13,
    "start_time": "2025-03-03T14:53:50.876Z"
   },
   {
    "duration": 16,
    "start_time": "2025-03-03T14:53:57.361Z"
   },
   {
    "duration": 9,
    "start_time": "2025-03-03T14:56:40.043Z"
   },
   {
    "duration": 9,
    "start_time": "2025-03-03T14:56:44.151Z"
   },
   {
    "duration": 145,
    "start_time": "2025-03-03T14:58:27.587Z"
   },
   {
    "duration": 10,
    "start_time": "2025-03-03T14:58:31.832Z"
   },
   {
    "duration": 10,
    "start_time": "2025-03-03T14:58:34.096Z"
   },
   {
    "duration": 151,
    "start_time": "2025-03-03T15:00:04.741Z"
   },
   {
    "duration": 33,
    "start_time": "2025-03-03T15:02:32.485Z"
   },
   {
    "duration": 32,
    "start_time": "2025-03-03T15:02:35.008Z"
   },
   {
    "duration": 32,
    "start_time": "2025-03-03T15:03:31.261Z"
   },
   {
    "duration": 32,
    "start_time": "2025-03-03T15:03:40.509Z"
   },
   {
    "duration": 20,
    "start_time": "2025-03-03T15:08:33.000Z"
   },
   {
    "duration": 21,
    "start_time": "2025-03-03T15:08:34.718Z"
   },
   {
    "duration": 23,
    "start_time": "2025-03-03T15:09:02.264Z"
   },
   {
    "duration": 22,
    "start_time": "2025-03-03T15:09:25.398Z"
   },
   {
    "duration": 274,
    "start_time": "2025-03-03T15:09:47.733Z"
   },
   {
    "duration": 128,
    "start_time": "2025-03-03T15:38:12.411Z"
   },
   {
    "duration": 136,
    "start_time": "2025-03-03T15:38:16.651Z"
   },
   {
    "duration": 152,
    "start_time": "2025-03-03T15:38:39.233Z"
   },
   {
    "duration": 172,
    "start_time": "2025-03-03T15:39:53.092Z"
   },
   {
    "duration": 169,
    "start_time": "2025-03-03T15:48:54.807Z"
   },
   {
    "duration": 158,
    "start_time": "2025-03-03T15:49:13.483Z"
   },
   {
    "duration": 188,
    "start_time": "2025-03-03T15:49:37.874Z"
   },
   {
    "duration": 182,
    "start_time": "2025-03-03T15:50:20.251Z"
   },
   {
    "duration": 180,
    "start_time": "2025-03-03T15:50:39.057Z"
   },
   {
    "duration": 165,
    "start_time": "2025-03-03T15:51:14.279Z"
   },
   {
    "duration": 179,
    "start_time": "2025-03-03T15:51:22.242Z"
   },
   {
    "duration": 328,
    "start_time": "2025-03-03T15:53:26.557Z"
   },
   {
    "duration": 191,
    "start_time": "2025-03-03T15:59:28.657Z"
   },
   {
    "duration": 168,
    "start_time": "2025-03-03T15:59:33.094Z"
   },
   {
    "duration": 189,
    "start_time": "2025-03-03T15:59:35.600Z"
   },
   {
    "duration": 175,
    "start_time": "2025-03-03T15:59:40.811Z"
   },
   {
    "duration": 77,
    "start_time": "2025-03-03T17:25:06.961Z"
   },
   {
    "duration": 3810,
    "start_time": "2025-03-03T17:25:25.953Z"
   },
   {
    "duration": 5507,
    "start_time": "2025-03-03T17:25:29.766Z"
   },
   {
    "duration": 207,
    "start_time": "2025-03-03T17:25:35.275Z"
   },
   {
    "duration": 1575,
    "start_time": "2025-03-03T17:25:35.485Z"
   },
   {
    "duration": 104,
    "start_time": "2025-03-03T17:25:37.064Z"
   },
   {
    "duration": 20,
    "start_time": "2025-03-03T17:25:37.170Z"
   },
   {
    "duration": 18,
    "start_time": "2025-03-03T17:25:37.191Z"
   },
   {
    "duration": 14,
    "start_time": "2025-03-03T17:25:37.210Z"
   },
   {
    "duration": 18,
    "start_time": "2025-03-03T17:25:37.226Z"
   },
   {
    "duration": 28,
    "start_time": "2025-03-03T17:25:37.271Z"
   },
   {
    "duration": 17,
    "start_time": "2025-03-03T17:25:37.301Z"
   },
   {
    "duration": 6,
    "start_time": "2025-03-03T17:25:37.319Z"
   },
   {
    "duration": 11,
    "start_time": "2025-03-03T17:25:37.327Z"
   },
   {
    "duration": 12,
    "start_time": "2025-03-03T17:25:37.374Z"
   },
   {
    "duration": 32,
    "start_time": "2025-03-03T17:25:37.388Z"
   },
   {
    "duration": 98,
    "start_time": "2025-03-03T17:25:37.422Z"
   },
   {
    "duration": 17,
    "start_time": "2025-03-03T17:25:37.522Z"
   },
   {
    "duration": 10,
    "start_time": "2025-03-03T17:25:37.540Z"
   },
   {
    "duration": 9,
    "start_time": "2025-03-03T17:25:37.552Z"
   },
   {
    "duration": 25,
    "start_time": "2025-03-03T17:25:37.563Z"
   },
   {
    "duration": 18,
    "start_time": "2025-03-03T17:25:37.590Z"
   },
   {
    "duration": 20,
    "start_time": "2025-03-03T17:25:37.609Z"
   },
   {
    "duration": 7,
    "start_time": "2025-03-03T17:25:37.631Z"
   },
   {
    "duration": 23,
    "start_time": "2025-03-03T17:25:37.674Z"
   },
   {
    "duration": 10,
    "start_time": "2025-03-03T17:25:37.698Z"
   },
   {
    "duration": 12,
    "start_time": "2025-03-03T17:25:37.709Z"
   },
   {
    "duration": 50,
    "start_time": "2025-03-03T17:25:37.722Z"
   },
   {
    "duration": 16,
    "start_time": "2025-03-03T17:25:37.774Z"
   },
   {
    "duration": 8,
    "start_time": "2025-03-03T17:25:37.792Z"
   },
   {
    "duration": 14,
    "start_time": "2025-03-03T17:25:37.802Z"
   },
   {
    "duration": 17,
    "start_time": "2025-03-03T17:25:37.818Z"
   },
   {
    "duration": 40,
    "start_time": "2025-03-03T17:25:37.837Z"
   },
   {
    "duration": 11,
    "start_time": "2025-03-03T17:25:37.879Z"
   },
   {
    "duration": 230,
    "start_time": "2025-03-03T17:25:37.891Z"
   },
   {
    "duration": 256,
    "start_time": "2025-03-03T17:25:38.123Z"
   },
   {
    "duration": 297,
    "start_time": "2025-03-03T17:25:38.380Z"
   },
   {
    "duration": 169,
    "start_time": "2025-03-03T17:25:38.679Z"
   },
   {
    "duration": 305,
    "start_time": "2025-03-03T17:25:38.849Z"
   },
   {
    "duration": 224,
    "start_time": "2025-03-03T17:25:39.156Z"
   },
   {
    "duration": 271,
    "start_time": "2025-03-03T17:25:39.382Z"
   },
   {
    "duration": 1,
    "start_time": "2025-03-03T17:25:39.654Z"
   },
   {
    "duration": 0,
    "start_time": "2025-03-03T17:25:39.656Z"
   },
   {
    "duration": 0,
    "start_time": "2025-03-03T17:25:39.657Z"
   },
   {
    "duration": 154,
    "start_time": "2025-03-03T17:26:17.701Z"
   },
   {
    "duration": 216,
    "start_time": "2025-03-03T17:26:45.409Z"
   },
   {
    "duration": 219,
    "start_time": "2025-03-03T17:27:03.930Z"
   },
   {
    "duration": 240,
    "start_time": "2025-03-03T17:27:11.523Z"
   },
   {
    "duration": 263,
    "start_time": "2025-03-03T17:27:17.839Z"
   },
   {
    "duration": 24,
    "start_time": "2025-03-03T17:28:53.392Z"
   },
   {
    "duration": 200,
    "start_time": "2025-03-03T17:31:46.304Z"
   },
   {
    "duration": 155,
    "start_time": "2025-03-03T17:32:24.726Z"
   },
   {
    "duration": 37,
    "start_time": "2025-03-03T17:33:29.920Z"
   },
   {
    "duration": 202,
    "start_time": "2025-03-03T17:34:34.046Z"
   },
   {
    "duration": 3341,
    "start_time": "2025-03-04T07:25:06.106Z"
   },
   {
    "duration": 5077,
    "start_time": "2025-03-04T07:25:09.450Z"
   },
   {
    "duration": 186,
    "start_time": "2025-03-04T07:25:14.529Z"
   },
   {
    "duration": 1352,
    "start_time": "2025-03-04T07:25:14.717Z"
   },
   {
    "duration": 119,
    "start_time": "2025-03-04T07:25:16.070Z"
   },
   {
    "duration": 16,
    "start_time": "2025-03-04T07:25:16.191Z"
   },
   {
    "duration": 15,
    "start_time": "2025-03-04T07:25:16.209Z"
   },
   {
    "duration": 10,
    "start_time": "2025-03-04T07:25:16.225Z"
   },
   {
    "duration": 14,
    "start_time": "2025-03-04T07:25:16.236Z"
   },
   {
    "duration": 27,
    "start_time": "2025-03-04T07:25:16.252Z"
   },
   {
    "duration": 14,
    "start_time": "2025-03-04T07:25:16.280Z"
   },
   {
    "duration": 18,
    "start_time": "2025-03-04T07:25:16.295Z"
   },
   {
    "duration": 13,
    "start_time": "2025-03-04T07:25:16.314Z"
   },
   {
    "duration": 30,
    "start_time": "2025-03-04T07:25:16.329Z"
   },
   {
    "duration": 38,
    "start_time": "2025-03-04T07:25:16.360Z"
   },
   {
    "duration": 77,
    "start_time": "2025-03-04T07:25:16.399Z"
   },
   {
    "duration": 15,
    "start_time": "2025-03-04T07:25:16.477Z"
   },
   {
    "duration": 9,
    "start_time": "2025-03-04T07:25:16.494Z"
   },
   {
    "duration": 7,
    "start_time": "2025-03-04T07:25:16.505Z"
   },
   {
    "duration": 18,
    "start_time": "2025-03-04T07:25:16.514Z"
   },
   {
    "duration": 33,
    "start_time": "2025-03-04T07:25:16.533Z"
   },
   {
    "duration": 17,
    "start_time": "2025-03-04T07:25:16.568Z"
   },
   {
    "duration": 6,
    "start_time": "2025-03-04T07:25:16.586Z"
   },
   {
    "duration": 25,
    "start_time": "2025-03-04T07:25:16.594Z"
   },
   {
    "duration": 7,
    "start_time": "2025-03-04T07:25:16.621Z"
   },
   {
    "duration": 35,
    "start_time": "2025-03-04T07:25:16.630Z"
   },
   {
    "duration": 15,
    "start_time": "2025-03-04T07:25:16.666Z"
   },
   {
    "duration": 12,
    "start_time": "2025-03-04T07:25:16.684Z"
   },
   {
    "duration": 77,
    "start_time": "2025-03-04T07:25:16.698Z"
   },
   {
    "duration": 14,
    "start_time": "2025-03-04T07:25:16.777Z"
   },
   {
    "duration": 24,
    "start_time": "2025-03-04T07:25:16.792Z"
   },
   {
    "duration": 19,
    "start_time": "2025-03-04T07:25:16.817Z"
   },
   {
    "duration": 9,
    "start_time": "2025-03-04T07:25:16.838Z"
   },
   {
    "duration": 178,
    "start_time": "2025-03-04T07:25:16.848Z"
   },
   {
    "duration": 223,
    "start_time": "2025-03-04T07:25:17.028Z"
   },
   {
    "duration": 261,
    "start_time": "2025-03-04T07:25:17.253Z"
   },
   {
    "duration": 147,
    "start_time": "2025-03-04T07:25:17.516Z"
   },
   {
    "duration": 241,
    "start_time": "2025-03-04T07:25:17.665Z"
   },
   {
    "duration": 199,
    "start_time": "2025-03-04T07:25:17.907Z"
   },
   {
    "duration": 143,
    "start_time": "2025-03-04T07:25:18.108Z"
   },
   {
    "duration": 181,
    "start_time": "2025-03-04T07:25:18.260Z"
   },
   {
    "duration": 43,
    "start_time": "2025-03-04T07:25:18.442Z"
   },
   {
    "duration": 199,
    "start_time": "2025-03-04T07:25:18.486Z"
   },
   {
    "duration": 176,
    "start_time": "2025-03-04T07:25:18.686Z"
   },
   {
    "duration": 271,
    "start_time": "2025-03-04T07:25:18.863Z"
   },
   {
    "duration": 140,
    "start_time": "2025-03-04T08:17:30.367Z"
   },
   {
    "duration": 142,
    "start_time": "2025-03-04T08:17:34.468Z"
   },
   {
    "duration": 139,
    "start_time": "2025-03-04T08:17:36.083Z"
   },
   {
    "duration": 13,
    "start_time": "2025-03-04T08:18:20.195Z"
   },
   {
    "duration": 107,
    "start_time": "2025-03-04T08:18:22.426Z"
   },
   {
    "duration": 10,
    "start_time": "2025-03-04T08:30:46.867Z"
   },
   {
    "duration": 9,
    "start_time": "2025-03-04T08:30:49.437Z"
   },
   {
    "duration": 10,
    "start_time": "2025-03-04T08:31:48.424Z"
   },
   {
    "duration": 8,
    "start_time": "2025-03-04T08:31:49.980Z"
   },
   {
    "duration": 8,
    "start_time": "2025-03-04T08:32:48.261Z"
   },
   {
    "duration": 250,
    "start_time": "2025-03-04T08:34:45.500Z"
   },
   {
    "duration": 252,
    "start_time": "2025-03-04T08:34:48.123Z"
   },
   {
    "duration": 207,
    "start_time": "2025-03-04T08:35:47.813Z"
   },
   {
    "duration": 197,
    "start_time": "2025-03-04T08:35:50.031Z"
   },
   {
    "duration": 240,
    "start_time": "2025-03-04T08:36:02.889Z"
   },
   {
    "duration": 48,
    "start_time": "2025-03-04T11:48:55.762Z"
   },
   {
    "duration": 3425,
    "start_time": "2025-03-04T11:49:04.119Z"
   },
   {
    "duration": 5174,
    "start_time": "2025-03-04T11:49:07.547Z"
   },
   {
    "duration": 208,
    "start_time": "2025-03-04T11:49:12.723Z"
   },
   {
    "duration": 1444,
    "start_time": "2025-03-04T11:49:12.934Z"
   },
   {
    "duration": 133,
    "start_time": "2025-03-04T11:49:14.381Z"
   },
   {
    "duration": 19,
    "start_time": "2025-03-04T11:49:14.515Z"
   },
   {
    "duration": 30,
    "start_time": "2025-03-04T11:49:14.535Z"
   },
   {
    "duration": 11,
    "start_time": "2025-03-04T11:49:14.567Z"
   },
   {
    "duration": 13,
    "start_time": "2025-03-04T11:49:14.579Z"
   },
   {
    "duration": 23,
    "start_time": "2025-03-04T11:49:14.594Z"
   },
   {
    "duration": 21,
    "start_time": "2025-03-04T11:49:14.619Z"
   },
   {
    "duration": 6,
    "start_time": "2025-03-04T11:49:14.641Z"
   },
   {
    "duration": 28,
    "start_time": "2025-03-04T11:49:14.649Z"
   },
   {
    "duration": 13,
    "start_time": "2025-03-04T11:49:14.681Z"
   },
   {
    "duration": 21,
    "start_time": "2025-03-04T11:49:14.696Z"
   },
   {
    "duration": 100,
    "start_time": "2025-03-04T11:49:14.719Z"
   },
   {
    "duration": 14,
    "start_time": "2025-03-04T11:49:14.821Z"
   },
   {
    "duration": 9,
    "start_time": "2025-03-04T11:49:14.836Z"
   },
   {
    "duration": 8,
    "start_time": "2025-03-04T11:49:14.846Z"
   },
   {
    "duration": 23,
    "start_time": "2025-03-04T11:49:14.855Z"
   },
   {
    "duration": 15,
    "start_time": "2025-03-04T11:49:14.880Z"
   },
   {
    "duration": 28,
    "start_time": "2025-03-04T11:49:14.896Z"
   },
   {
    "duration": 6,
    "start_time": "2025-03-04T11:49:14.925Z"
   },
   {
    "duration": 21,
    "start_time": "2025-03-04T11:49:14.933Z"
   },
   {
    "duration": 26,
    "start_time": "2025-03-04T11:49:14.955Z"
   },
   {
    "duration": 46,
    "start_time": "2025-03-04T11:49:14.983Z"
   },
   {
    "duration": 36,
    "start_time": "2025-03-04T11:49:15.031Z"
   },
   {
    "duration": 42,
    "start_time": "2025-03-04T11:49:15.069Z"
   },
   {
    "duration": 8,
    "start_time": "2025-03-04T11:49:15.113Z"
   },
   {
    "duration": 24,
    "start_time": "2025-03-04T11:49:15.122Z"
   },
   {
    "duration": 22,
    "start_time": "2025-03-04T11:49:15.148Z"
   },
   {
    "duration": 29,
    "start_time": "2025-03-04T11:49:15.171Z"
   },
   {
    "duration": 35,
    "start_time": "2025-03-04T11:49:15.202Z"
   },
   {
    "duration": 210,
    "start_time": "2025-03-04T11:49:15.239Z"
   },
   {
    "duration": 226,
    "start_time": "2025-03-04T11:49:15.451Z"
   },
   {
    "duration": 277,
    "start_time": "2025-03-04T11:49:15.679Z"
   },
   {
    "duration": 18,
    "start_time": "2025-03-04T11:49:15.958Z"
   },
   {
    "duration": 167,
    "start_time": "2025-03-04T11:49:15.978Z"
   },
   {
    "duration": 257,
    "start_time": "2025-03-04T11:49:16.147Z"
   },
   {
    "duration": 217,
    "start_time": "2025-03-04T11:49:16.406Z"
   },
   {
    "duration": 11,
    "start_time": "2025-03-04T11:49:16.627Z"
   },
   {
    "duration": 170,
    "start_time": "2025-03-04T11:49:16.640Z"
   },
   {
    "duration": 196,
    "start_time": "2025-03-04T11:49:16.811Z"
   },
   {
    "duration": 35,
    "start_time": "2025-03-04T11:49:17.008Z"
   },
   {
    "duration": 210,
    "start_time": "2025-03-04T11:49:17.044Z"
   },
   {
    "duration": 188,
    "start_time": "2025-03-04T11:49:17.256Z"
   },
   {
    "duration": 306,
    "start_time": "2025-03-04T11:49:17.446Z"
   },
   {
    "duration": 127,
    "start_time": "2025-03-04T11:49:17.754Z"
   },
   {
    "duration": 0,
    "start_time": "2025-03-04T11:49:17.883Z"
   },
   {
    "duration": 16,
    "start_time": "2025-03-04T11:51:14.172Z"
   },
   {
    "duration": 39,
    "start_time": "2025-03-04T11:57:03.297Z"
   },
   {
    "duration": 37,
    "start_time": "2025-03-04T11:57:05.617Z"
   },
   {
    "duration": 21,
    "start_time": "2025-03-04T11:57:30.502Z"
   },
   {
    "duration": 21,
    "start_time": "2025-03-04T11:57:32.295Z"
   },
   {
    "duration": 20,
    "start_time": "2025-03-04T11:58:40.234Z"
   },
   {
    "duration": 17,
    "start_time": "2025-03-04T11:58:41.986Z"
   },
   {
    "duration": 21,
    "start_time": "2025-03-04T11:58:43.391Z"
   },
   {
    "duration": 24,
    "start_time": "2025-03-04T11:58:58.785Z"
   },
   {
    "duration": 26,
    "start_time": "2025-03-04T11:59:26.646Z"
   },
   {
    "duration": 26,
    "start_time": "2025-03-04T11:59:29.305Z"
   },
   {
    "duration": 26,
    "start_time": "2025-03-04T12:00:40.354Z"
   },
   {
    "duration": 26,
    "start_time": "2025-03-04T12:00:42.040Z"
   },
   {
    "duration": 38,
    "start_time": "2025-03-04T12:01:23.229Z"
   },
   {
    "duration": 36,
    "start_time": "2025-03-04T12:01:24.925Z"
   },
   {
    "duration": 32,
    "start_time": "2025-03-04T12:04:06.645Z"
   },
   {
    "duration": 31,
    "start_time": "2025-03-04T12:04:08.253Z"
   },
   {
    "duration": 33,
    "start_time": "2025-03-04T12:06:24.543Z"
   },
   {
    "duration": 30,
    "start_time": "2025-03-04T12:06:45.759Z"
   },
   {
    "duration": 30,
    "start_time": "2025-03-04T12:06:51.424Z"
   },
   {
    "duration": 29,
    "start_time": "2025-03-04T12:06:55.052Z"
   },
   {
    "duration": 30,
    "start_time": "2025-03-04T12:07:04.401Z"
   },
   {
    "duration": 73,
    "start_time": "2025-03-04T12:17:08.083Z"
   },
   {
    "duration": 404,
    "start_time": "2025-03-04T12:17:17.170Z"
   },
   {
    "duration": 55,
    "start_time": "2025-03-04T12:17:26.301Z"
   },
   {
    "duration": 82,
    "start_time": "2025-03-04T12:17:45.215Z"
   },
   {
    "duration": 40,
    "start_time": "2025-03-04T12:18:16.177Z"
   },
   {
    "duration": 47,
    "start_time": "2025-03-04T12:18:17.916Z"
   },
   {
    "duration": 135,
    "start_time": "2025-03-04T12:27:30.881Z"
   },
   {
    "duration": 292,
    "start_time": "2025-03-04T12:27:53.448Z"
   },
   {
    "duration": 393,
    "start_time": "2025-03-04T12:27:56.414Z"
   },
   {
    "duration": 330,
    "start_time": "2025-03-04T12:28:56.529Z"
   },
   {
    "duration": 346,
    "start_time": "2025-03-04T12:29:24.881Z"
   },
   {
    "duration": 322,
    "start_time": "2025-03-04T12:29:32.913Z"
   },
   {
    "duration": 290,
    "start_time": "2025-03-04T12:29:48.878Z"
   },
   {
    "duration": 279,
    "start_time": "2025-03-04T12:30:25.699Z"
   },
   {
    "duration": 275,
    "start_time": "2025-03-04T12:30:38.340Z"
   },
   {
    "duration": 271,
    "start_time": "2025-03-04T12:30:44.657Z"
   },
   {
    "duration": 276,
    "start_time": "2025-03-04T12:31:39.281Z"
   },
   {
    "duration": 273,
    "start_time": "2025-03-04T12:31:41.946Z"
   },
   {
    "duration": 274,
    "start_time": "2025-03-04T12:36:40.522Z"
   },
   {
    "duration": 375,
    "start_time": "2025-03-04T12:36:42.453Z"
   },
   {
    "duration": 171,
    "start_time": "2025-03-04T12:40:46.781Z"
   },
   {
    "duration": 249,
    "start_time": "2025-03-04T12:43:40.328Z"
   },
   {
    "duration": 262,
    "start_time": "2025-03-04T12:44:07.677Z"
   },
   {
    "duration": 18,
    "start_time": "2025-03-04T12:45:14.461Z"
   },
   {
    "duration": 182,
    "start_time": "2025-03-04T14:34:26.550Z"
   },
   {
    "duration": 2781,
    "start_time": "2025-03-04T14:34:46.980Z"
   },
   {
    "duration": 2814,
    "start_time": "2025-03-04T14:34:49.764Z"
   },
   {
    "duration": 204,
    "start_time": "2025-03-04T14:34:52.581Z"
   },
   {
    "duration": 1377,
    "start_time": "2025-03-04T14:34:52.787Z"
   },
   {
    "duration": 103,
    "start_time": "2025-03-04T14:34:54.167Z"
   },
   {
    "duration": 19,
    "start_time": "2025-03-04T14:34:54.272Z"
   },
   {
    "duration": 18,
    "start_time": "2025-03-04T14:34:54.293Z"
   },
   {
    "duration": 13,
    "start_time": "2025-03-04T14:34:54.312Z"
   },
   {
    "duration": 16,
    "start_time": "2025-03-04T14:34:54.327Z"
   },
   {
    "duration": 56,
    "start_time": "2025-03-04T14:34:54.345Z"
   },
   {
    "duration": 18,
    "start_time": "2025-03-04T14:34:54.403Z"
   },
   {
    "duration": 20,
    "start_time": "2025-03-04T14:34:54.423Z"
   },
   {
    "duration": 31,
    "start_time": "2025-03-04T14:34:54.445Z"
   },
   {
    "duration": 14,
    "start_time": "2025-03-04T14:34:54.480Z"
   },
   {
    "duration": 17,
    "start_time": "2025-03-04T14:34:54.495Z"
   },
   {
    "duration": 96,
    "start_time": "2025-03-04T14:34:54.514Z"
   },
   {
    "duration": 20,
    "start_time": "2025-03-04T14:34:54.632Z"
   },
   {
    "duration": 20,
    "start_time": "2025-03-04T14:34:54.655Z"
   },
   {
    "duration": 10,
    "start_time": "2025-03-04T14:34:54.677Z"
   },
   {
    "duration": 45,
    "start_time": "2025-03-04T14:34:54.689Z"
   },
   {
    "duration": 18,
    "start_time": "2025-03-04T14:34:54.737Z"
   },
   {
    "duration": 33,
    "start_time": "2025-03-04T14:34:54.757Z"
   },
   {
    "duration": 7,
    "start_time": "2025-03-04T14:34:54.793Z"
   },
   {
    "duration": 27,
    "start_time": "2025-03-04T14:34:54.803Z"
   },
   {
    "duration": 44,
    "start_time": "2025-03-04T14:34:54.833Z"
   },
   {
    "duration": 21,
    "start_time": "2025-03-04T14:34:54.879Z"
   },
   {
    "duration": 31,
    "start_time": "2025-03-04T14:34:54.903Z"
   },
   {
    "duration": 30,
    "start_time": "2025-03-04T14:34:54.936Z"
   },
   {
    "duration": 12,
    "start_time": "2025-03-04T14:34:54.968Z"
   },
   {
    "duration": 31,
    "start_time": "2025-03-04T14:34:54.982Z"
   },
   {
    "duration": 19,
    "start_time": "2025-03-04T14:34:55.015Z"
   },
   {
    "duration": 15,
    "start_time": "2025-03-04T14:34:55.036Z"
   },
   {
    "duration": 59,
    "start_time": "2025-03-04T14:34:55.052Z"
   },
   {
    "duration": 214,
    "start_time": "2025-03-04T14:34:55.113Z"
   },
   {
    "duration": 245,
    "start_time": "2025-03-04T14:34:55.329Z"
   },
   {
    "duration": 214,
    "start_time": "2025-03-04T14:34:55.576Z"
   },
   {
    "duration": 10,
    "start_time": "2025-03-04T14:34:55.791Z"
   },
   {
    "duration": 285,
    "start_time": "2025-03-04T14:34:55.803Z"
   },
   {
    "duration": 285,
    "start_time": "2025-03-04T14:34:56.090Z"
   },
   {
    "duration": 216,
    "start_time": "2025-03-04T14:34:56.377Z"
   },
   {
    "duration": 13,
    "start_time": "2025-03-04T14:34:56.598Z"
   },
   {
    "duration": 175,
    "start_time": "2025-03-04T14:34:56.613Z"
   },
   {
    "duration": 217,
    "start_time": "2025-03-04T14:34:56.790Z"
   },
   {
    "duration": 40,
    "start_time": "2025-03-04T14:34:57.009Z"
   },
   {
    "duration": 224,
    "start_time": "2025-03-04T14:34:57.051Z"
   },
   {
    "duration": 213,
    "start_time": "2025-03-04T14:34:57.277Z"
   },
   {
    "duration": 249,
    "start_time": "2025-03-04T14:34:57.492Z"
   },
   {
    "duration": 53,
    "start_time": "2025-03-04T14:34:57.742Z"
   },
   {
    "duration": 320,
    "start_time": "2025-03-04T14:34:57.797Z"
   },
   {
    "duration": 24,
    "start_time": "2025-03-04T14:34:58.119Z"
   },
   {
    "duration": 7942,
    "start_time": "2025-03-04T14:34:58.145Z"
   },
   {
    "duration": 2706,
    "start_time": "2025-03-04T14:41:18.511Z"
   },
   {
    "duration": 2792,
    "start_time": "2025-03-04T14:41:21.220Z"
   },
   {
    "duration": 210,
    "start_time": "2025-03-04T14:41:24.014Z"
   },
   {
    "duration": 1334,
    "start_time": "2025-03-04T14:41:24.227Z"
   },
   {
    "duration": 92,
    "start_time": "2025-03-04T14:41:25.564Z"
   },
   {
    "duration": 20,
    "start_time": "2025-03-04T14:41:25.658Z"
   },
   {
    "duration": 19,
    "start_time": "2025-03-04T14:41:25.679Z"
   },
   {
    "duration": 21,
    "start_time": "2025-03-04T14:41:25.699Z"
   },
   {
    "duration": 15,
    "start_time": "2025-03-04T14:41:25.722Z"
   },
   {
    "duration": 52,
    "start_time": "2025-03-04T14:41:25.739Z"
   },
   {
    "duration": 17,
    "start_time": "2025-03-04T14:41:25.793Z"
   },
   {
    "duration": 7,
    "start_time": "2025-03-04T14:41:25.812Z"
   },
   {
    "duration": 23,
    "start_time": "2025-03-04T14:41:25.821Z"
   },
   {
    "duration": 34,
    "start_time": "2025-03-04T14:41:25.848Z"
   },
   {
    "duration": 27,
    "start_time": "2025-03-04T14:41:25.883Z"
   },
   {
    "duration": 103,
    "start_time": "2025-03-04T14:41:25.912Z"
   },
   {
    "duration": 18,
    "start_time": "2025-03-04T14:41:26.017Z"
   },
   {
    "duration": 11,
    "start_time": "2025-03-04T14:41:26.037Z"
   },
   {
    "duration": 9,
    "start_time": "2025-03-04T14:41:26.051Z"
   },
   {
    "duration": 33,
    "start_time": "2025-03-04T14:41:26.061Z"
   },
   {
    "duration": 18,
    "start_time": "2025-03-04T14:41:26.096Z"
   },
   {
    "duration": 37,
    "start_time": "2025-03-04T14:41:26.116Z"
   },
   {
    "duration": 24,
    "start_time": "2025-03-04T14:41:26.154Z"
   },
   {
    "duration": 31,
    "start_time": "2025-03-04T14:41:26.181Z"
   },
   {
    "duration": 23,
    "start_time": "2025-03-04T14:41:26.214Z"
   },
   {
    "duration": 30,
    "start_time": "2025-03-04T14:41:26.239Z"
   },
   {
    "duration": 25,
    "start_time": "2025-03-04T14:41:26.276Z"
   },
   {
    "duration": 39,
    "start_time": "2025-03-04T14:41:26.302Z"
   },
   {
    "duration": 13,
    "start_time": "2025-03-04T14:41:26.343Z"
   },
   {
    "duration": 37,
    "start_time": "2025-03-04T14:41:26.358Z"
   },
   {
    "duration": 35,
    "start_time": "2025-03-04T14:41:26.397Z"
   },
   {
    "duration": 35,
    "start_time": "2025-03-04T14:41:26.434Z"
   },
   {
    "duration": 21,
    "start_time": "2025-03-04T14:41:26.471Z"
   },
   {
    "duration": 207,
    "start_time": "2025-03-04T14:41:26.494Z"
   },
   {
    "duration": 232,
    "start_time": "2025-03-04T14:41:26.703Z"
   },
   {
    "duration": 207,
    "start_time": "2025-03-04T14:41:26.937Z"
   },
   {
    "duration": 11,
    "start_time": "2025-03-04T14:41:27.147Z"
   },
   {
    "duration": 258,
    "start_time": "2025-03-04T14:41:27.176Z"
   },
   {
    "duration": 274,
    "start_time": "2025-03-04T14:41:27.436Z"
   },
   {
    "duration": 229,
    "start_time": "2025-03-04T14:41:27.711Z"
   },
   {
    "duration": 30,
    "start_time": "2025-03-04T14:41:27.946Z"
   },
   {
    "duration": 171,
    "start_time": "2025-03-04T14:41:27.978Z"
   },
   {
    "duration": 217,
    "start_time": "2025-03-04T14:41:28.152Z"
   },
   {
    "duration": 39,
    "start_time": "2025-03-04T14:41:28.376Z"
   },
   {
    "duration": 219,
    "start_time": "2025-03-04T14:41:28.417Z"
   },
   {
    "duration": 216,
    "start_time": "2025-03-04T14:41:28.637Z"
   },
   {
    "duration": 265,
    "start_time": "2025-03-04T14:41:28.854Z"
   },
   {
    "duration": 56,
    "start_time": "2025-03-04T14:41:29.121Z"
   },
   {
    "duration": 299,
    "start_time": "2025-03-04T14:41:29.178Z"
   },
   {
    "duration": 17,
    "start_time": "2025-03-04T14:41:29.479Z"
   },
   {
    "duration": 8137,
    "start_time": "2025-03-04T14:41:29.498Z"
   },
   {
    "duration": 32,
    "start_time": "2025-03-04T14:41:37.654Z"
   },
   {
    "duration": 132,
    "start_time": "2025-03-04T14:42:21.077Z"
   },
   {
    "duration": 227,
    "start_time": "2025-03-04T14:42:27.128Z"
   },
   {
    "duration": 257,
    "start_time": "2025-03-04T14:42:35.627Z"
   },
   {
    "duration": 627,
    "start_time": "2025-03-04T14:42:45.939Z"
   },
   {
    "duration": 294,
    "start_time": "2025-03-04T14:42:55.893Z"
   },
   {
    "duration": 303,
    "start_time": "2025-03-04T14:44:19.272Z"
   },
   {
    "duration": 283,
    "start_time": "2025-03-04T14:44:22.045Z"
   },
   {
    "duration": 244,
    "start_time": "2025-03-04T14:44:41.978Z"
   },
   {
    "duration": 277,
    "start_time": "2025-03-04T14:44:50.758Z"
   },
   {
    "duration": 284,
    "start_time": "2025-03-04T14:45:20.284Z"
   },
   {
    "duration": 291,
    "start_time": "2025-03-04T14:45:27.235Z"
   },
   {
    "duration": 318,
    "start_time": "2025-03-04T14:45:35.871Z"
   },
   {
    "duration": 301,
    "start_time": "2025-03-04T14:45:41.115Z"
   },
   {
    "duration": 330,
    "start_time": "2025-03-04T14:45:47.557Z"
   },
   {
    "duration": 476,
    "start_time": "2025-03-04T14:45:57.958Z"
   },
   {
    "duration": 322,
    "start_time": "2025-03-04T14:50:57.935Z"
   },
   {
    "duration": 311,
    "start_time": "2025-03-04T14:51:15.434Z"
   },
   {
    "duration": 318,
    "start_time": "2025-03-04T14:51:18.969Z"
   },
   {
    "duration": 387,
    "start_time": "2025-03-04T14:56:51.521Z"
   },
   {
    "duration": 395,
    "start_time": "2025-03-04T14:56:54.893Z"
   },
   {
    "duration": 150,
    "start_time": "2025-03-04T14:59:16.930Z"
   },
   {
    "duration": 138,
    "start_time": "2025-03-04T14:59:19.112Z"
   },
   {
    "duration": 259,
    "start_time": "2025-03-04T14:59:24.875Z"
   },
   {
    "duration": 451,
    "start_time": "2025-03-04T15:00:30.913Z"
   },
   {
    "duration": 307,
    "start_time": "2025-03-04T15:00:48.894Z"
   },
   {
    "duration": 255,
    "start_time": "2025-03-04T15:01:07.264Z"
   },
   {
    "duration": 218,
    "start_time": "2025-03-04T15:01:14.240Z"
   },
   {
    "duration": 219,
    "start_time": "2025-03-04T15:01:25.733Z"
   },
   {
    "duration": 290,
    "start_time": "2025-03-04T15:01:44.676Z"
   },
   {
    "duration": 309,
    "start_time": "2025-03-04T15:01:47.900Z"
   },
   {
    "duration": 261,
    "start_time": "2025-03-04T15:02:12.579Z"
   },
   {
    "duration": 240,
    "start_time": "2025-03-04T15:09:27.870Z"
   },
   {
    "duration": 420,
    "start_time": "2025-03-04T15:09:57.159Z"
   },
   {
    "duration": 404,
    "start_time": "2025-03-04T15:10:00.215Z"
   },
   {
    "duration": 319,
    "start_time": "2025-03-04T15:10:33.875Z"
   },
   {
    "duration": 190,
    "start_time": "2025-03-04T15:10:36.726Z"
   },
   {
    "duration": 413,
    "start_time": "2025-03-04T15:11:29.784Z"
   },
   {
    "duration": 420,
    "start_time": "2025-03-04T15:11:34.366Z"
   },
   {
    "duration": 221,
    "start_time": "2025-03-04T15:13:46.376Z"
   },
   {
    "duration": 230,
    "start_time": "2025-03-04T15:13:49.456Z"
   },
   {
    "duration": 9,
    "start_time": "2025-03-04T15:14:54.524Z"
   },
   {
    "duration": 249,
    "start_time": "2025-03-04T15:16:47.287Z"
   },
   {
    "duration": 258,
    "start_time": "2025-03-04T15:17:13.805Z"
   },
   {
    "duration": 511,
    "start_time": "2025-03-04T15:19:52.410Z"
   },
   {
    "duration": 384,
    "start_time": "2025-03-04T15:19:58.515Z"
   },
   {
    "duration": 422,
    "start_time": "2025-03-04T15:21:36.365Z"
   },
   {
    "duration": 369,
    "start_time": "2025-03-04T15:25:22.128Z"
   },
   {
    "duration": 399,
    "start_time": "2025-03-04T15:25:25.754Z"
   },
   {
    "duration": 441,
    "start_time": "2025-03-04T15:25:43.494Z"
   },
   {
    "duration": 552,
    "start_time": "2025-03-04T15:26:46.297Z"
   },
   {
    "duration": 407,
    "start_time": "2025-03-04T15:33:54.944Z"
   },
   {
    "duration": 392,
    "start_time": "2025-03-04T15:34:08.629Z"
   },
   {
    "duration": 393,
    "start_time": "2025-03-04T15:46:55.782Z"
   },
   {
    "duration": 423,
    "start_time": "2025-03-04T15:47:09.075Z"
   },
   {
    "duration": 18,
    "start_time": "2025-03-04T15:51:01.987Z"
   },
   {
    "duration": 237,
    "start_time": "2025-03-04T15:51:15.688Z"
   },
   {
    "duration": 312,
    "start_time": "2025-03-04T15:51:18.702Z"
   },
   {
    "duration": 178,
    "start_time": "2025-03-04T15:51:28.438Z"
   },
   {
    "duration": 171,
    "start_time": "2025-03-04T15:52:17.164Z"
   },
   {
    "duration": 170,
    "start_time": "2025-03-04T15:52:19.795Z"
   },
   {
    "duration": 141,
    "start_time": "2025-03-04T15:52:38.520Z"
   },
   {
    "duration": 208,
    "start_time": "2025-03-04T15:54:44.443Z"
   },
   {
    "duration": 209,
    "start_time": "2025-03-04T15:54:54.781Z"
   },
   {
    "duration": 213,
    "start_time": "2025-03-04T15:56:10.968Z"
   },
   {
    "duration": 203,
    "start_time": "2025-03-04T15:56:15.218Z"
   },
   {
    "duration": 22,
    "start_time": "2025-03-04T16:06:11.310Z"
   },
   {
    "duration": 2537,
    "start_time": "2025-03-04T16:54:14.123Z"
   },
   {
    "duration": 2549,
    "start_time": "2025-03-04T16:54:16.663Z"
   },
   {
    "duration": 198,
    "start_time": "2025-03-04T16:54:19.214Z"
   },
   {
    "duration": 1157,
    "start_time": "2025-03-04T16:54:19.413Z"
   },
   {
    "duration": 78,
    "start_time": "2025-03-04T16:54:20.572Z"
   },
   {
    "duration": 17,
    "start_time": "2025-03-04T16:54:20.652Z"
   },
   {
    "duration": 27,
    "start_time": "2025-03-04T16:54:20.671Z"
   },
   {
    "duration": 11,
    "start_time": "2025-03-04T16:54:20.700Z"
   },
   {
    "duration": 12,
    "start_time": "2025-03-04T16:54:20.712Z"
   },
   {
    "duration": 26,
    "start_time": "2025-03-04T16:54:20.725Z"
   },
   {
    "duration": 22,
    "start_time": "2025-03-04T16:54:20.753Z"
   },
   {
    "duration": 6,
    "start_time": "2025-03-04T16:54:20.776Z"
   },
   {
    "duration": 15,
    "start_time": "2025-03-04T16:54:20.784Z"
   },
   {
    "duration": 18,
    "start_time": "2025-03-04T16:54:20.802Z"
   },
   {
    "duration": 14,
    "start_time": "2025-03-04T16:54:20.821Z"
   },
   {
    "duration": 72,
    "start_time": "2025-03-04T16:54:20.836Z"
   },
   {
    "duration": 14,
    "start_time": "2025-03-04T16:54:20.910Z"
   },
   {
    "duration": 21,
    "start_time": "2025-03-04T16:54:20.926Z"
   },
   {
    "duration": 9,
    "start_time": "2025-03-04T16:54:20.949Z"
   },
   {
    "duration": 31,
    "start_time": "2025-03-04T16:54:20.959Z"
   },
   {
    "duration": 19,
    "start_time": "2025-03-04T16:54:20.992Z"
   },
   {
    "duration": 16,
    "start_time": "2025-03-04T16:54:21.012Z"
   },
   {
    "duration": 14,
    "start_time": "2025-03-04T16:54:21.030Z"
   },
   {
    "duration": 30,
    "start_time": "2025-03-04T16:54:21.046Z"
   },
   {
    "duration": 9,
    "start_time": "2025-03-04T16:54:21.077Z"
   },
   {
    "duration": 23,
    "start_time": "2025-03-04T16:54:21.087Z"
   },
   {
    "duration": 13,
    "start_time": "2025-03-04T16:54:21.111Z"
   },
   {
    "duration": 21,
    "start_time": "2025-03-04T16:54:21.126Z"
   },
   {
    "duration": 9,
    "start_time": "2025-03-04T16:54:21.148Z"
   },
   {
    "duration": 39,
    "start_time": "2025-03-04T16:54:21.158Z"
   },
   {
    "duration": 21,
    "start_time": "2025-03-04T16:54:21.199Z"
   },
   {
    "duration": 10,
    "start_time": "2025-03-04T16:54:21.222Z"
   },
   {
    "duration": 25,
    "start_time": "2025-03-04T16:54:21.233Z"
   },
   {
    "duration": 217,
    "start_time": "2025-03-04T16:54:21.260Z"
   },
   {
    "duration": 219,
    "start_time": "2025-03-04T16:54:21.479Z"
   },
   {
    "duration": 183,
    "start_time": "2025-03-04T16:54:21.700Z"
   },
   {
    "duration": 9,
    "start_time": "2025-03-04T16:54:21.885Z"
   },
   {
    "duration": 220,
    "start_time": "2025-03-04T16:54:21.896Z"
   },
   {
    "duration": 239,
    "start_time": "2025-03-04T16:54:22.118Z"
   },
   {
    "duration": 189,
    "start_time": "2025-03-04T16:54:22.359Z"
   },
   {
    "duration": 23,
    "start_time": "2025-03-04T16:54:22.552Z"
   },
   {
    "duration": 139,
    "start_time": "2025-03-04T16:54:22.577Z"
   },
   {
    "duration": 184,
    "start_time": "2025-03-04T16:54:22.718Z"
   },
   {
    "duration": 32,
    "start_time": "2025-03-04T16:54:22.903Z"
   },
   {
    "duration": 204,
    "start_time": "2025-03-04T16:54:22.936Z"
   },
   {
    "duration": 183,
    "start_time": "2025-03-04T16:54:23.141Z"
   },
   {
    "duration": 212,
    "start_time": "2025-03-04T16:54:23.326Z"
   },
   {
    "duration": 63,
    "start_time": "2025-03-04T16:54:23.539Z"
   },
   {
    "duration": 274,
    "start_time": "2025-03-04T16:54:23.603Z"
   },
   {
    "duration": 240,
    "start_time": "2025-03-04T16:54:23.879Z"
   },
   {
    "duration": 203,
    "start_time": "2025-03-04T16:54:24.120Z"
   },
   {
    "duration": 2542,
    "start_time": "2025-03-04T17:01:19.333Z"
   },
   {
    "duration": 2534,
    "start_time": "2025-03-04T17:01:21.877Z"
   },
   {
    "duration": 235,
    "start_time": "2025-03-04T17:01:24.413Z"
   },
   {
    "duration": 1229,
    "start_time": "2025-03-04T17:01:24.650Z"
   },
   {
    "duration": 82,
    "start_time": "2025-03-04T17:01:25.881Z"
   },
   {
    "duration": 17,
    "start_time": "2025-03-04T17:01:25.965Z"
   },
   {
    "duration": 15,
    "start_time": "2025-03-04T17:01:25.983Z"
   },
   {
    "duration": 12,
    "start_time": "2025-03-04T17:01:25.999Z"
   },
   {
    "duration": 14,
    "start_time": "2025-03-04T17:01:26.013Z"
   },
   {
    "duration": 54,
    "start_time": "2025-03-04T17:01:26.029Z"
   },
   {
    "duration": 21,
    "start_time": "2025-03-04T17:01:26.086Z"
   },
   {
    "duration": 8,
    "start_time": "2025-03-04T17:01:26.110Z"
   },
   {
    "duration": 10,
    "start_time": "2025-03-04T17:01:26.120Z"
   },
   {
    "duration": 44,
    "start_time": "2025-03-04T17:01:26.134Z"
   },
   {
    "duration": 14,
    "start_time": "2025-03-04T17:01:26.180Z"
   },
   {
    "duration": 54,
    "start_time": "2025-03-04T17:01:26.195Z"
   },
   {
    "duration": 14,
    "start_time": "2025-03-04T17:01:26.280Z"
   },
   {
    "duration": 17,
    "start_time": "2025-03-04T17:01:26.296Z"
   },
   {
    "duration": 8,
    "start_time": "2025-03-04T17:01:26.315Z"
   },
   {
    "duration": 17,
    "start_time": "2025-03-04T17:01:26.324Z"
   },
   {
    "duration": 35,
    "start_time": "2025-03-04T17:01:26.343Z"
   },
   {
    "duration": 26,
    "start_time": "2025-03-04T17:01:26.379Z"
   },
   {
    "duration": 6,
    "start_time": "2025-03-04T17:01:26.407Z"
   },
   {
    "duration": 19,
    "start_time": "2025-03-04T17:01:26.415Z"
   },
   {
    "duration": 8,
    "start_time": "2025-03-04T17:01:26.436Z"
   },
   {
    "duration": 33,
    "start_time": "2025-03-04T17:01:26.445Z"
   },
   {
    "duration": 25,
    "start_time": "2025-03-04T17:01:26.479Z"
   },
   {
    "duration": 17,
    "start_time": "2025-03-04T17:01:26.506Z"
   },
   {
    "duration": 8,
    "start_time": "2025-03-04T17:01:26.525Z"
   },
   {
    "duration": 12,
    "start_time": "2025-03-04T17:01:26.534Z"
   },
   {
    "duration": 35,
    "start_time": "2025-03-04T17:01:26.548Z"
   },
   {
    "duration": 16,
    "start_time": "2025-03-04T17:01:26.584Z"
   },
   {
    "duration": 8,
    "start_time": "2025-03-04T17:01:26.602Z"
   },
   {
    "duration": 190,
    "start_time": "2025-03-04T17:01:26.612Z"
   },
   {
    "duration": 212,
    "start_time": "2025-03-04T17:01:26.803Z"
   },
   {
    "duration": 190,
    "start_time": "2025-03-04T17:01:27.017Z"
   },
   {
    "duration": 9,
    "start_time": "2025-03-04T17:01:27.209Z"
   },
   {
    "duration": 242,
    "start_time": "2025-03-04T17:01:27.220Z"
   },
   {
    "duration": 245,
    "start_time": "2025-03-04T17:01:27.464Z"
   },
   {
    "duration": 219,
    "start_time": "2025-03-04T17:01:27.711Z"
   },
   {
    "duration": 15,
    "start_time": "2025-03-04T17:01:27.935Z"
   },
   {
    "duration": 175,
    "start_time": "2025-03-04T17:01:27.951Z"
   },
   {
    "duration": 194,
    "start_time": "2025-03-04T17:01:28.128Z"
   },
   {
    "duration": 32,
    "start_time": "2025-03-04T17:01:28.324Z"
   },
   {
    "duration": 201,
    "start_time": "2025-03-04T17:01:28.358Z"
   },
   {
    "duration": 191,
    "start_time": "2025-03-04T17:01:28.560Z"
   },
   {
    "duration": 250,
    "start_time": "2025-03-04T17:01:28.753Z"
   },
   {
    "duration": 39,
    "start_time": "2025-03-04T17:01:29.005Z"
   },
   {
    "duration": 276,
    "start_time": "2025-03-04T17:01:29.046Z"
   },
   {
    "duration": 254,
    "start_time": "2025-03-04T17:01:29.324Z"
   },
   {
    "duration": 210,
    "start_time": "2025-03-04T17:01:29.580Z"
   },
   {
    "duration": 8767,
    "start_time": "2025-03-04T19:31:47.861Z"
   },
   {
    "duration": 6077,
    "start_time": "2025-03-04T19:31:56.631Z"
   },
   {
    "duration": 211,
    "start_time": "2025-03-04T19:32:02.711Z"
   },
   {
    "duration": 1488,
    "start_time": "2025-03-04T19:32:02.924Z"
   },
   {
    "duration": 282,
    "start_time": "2025-03-04T19:32:04.415Z"
   },
   {
    "duration": 17,
    "start_time": "2025-03-04T19:32:04.698Z"
   },
   {
    "duration": 147,
    "start_time": "2025-03-04T19:32:04.717Z"
   },
   {
    "duration": 14,
    "start_time": "2025-03-04T19:32:04.866Z"
   },
   {
    "duration": 96,
    "start_time": "2025-03-04T19:32:04.882Z"
   },
   {
    "duration": 137,
    "start_time": "2025-03-04T19:32:04.980Z"
   },
   {
    "duration": 26,
    "start_time": "2025-03-04T19:32:05.119Z"
   },
   {
    "duration": 24,
    "start_time": "2025-03-04T19:32:05.147Z"
   },
   {
    "duration": 355,
    "start_time": "2025-03-04T19:32:05.173Z"
   },
   {
    "duration": 216,
    "start_time": "2025-03-04T19:32:05.531Z"
   },
   {
    "duration": 141,
    "start_time": "2025-03-04T19:32:05.751Z"
   },
   {
    "duration": 86,
    "start_time": "2025-03-04T19:32:05.893Z"
   },
   {
    "duration": 18,
    "start_time": "2025-03-04T19:32:06.012Z"
   },
   {
    "duration": 11,
    "start_time": "2025-03-04T19:32:06.031Z"
   },
   {
    "duration": 38,
    "start_time": "2025-03-04T19:32:06.044Z"
   },
   {
    "duration": 304,
    "start_time": "2025-03-04T19:32:06.084Z"
   },
   {
    "duration": 286,
    "start_time": "2025-03-04T19:32:06.390Z"
   },
   {
    "duration": 122,
    "start_time": "2025-03-04T19:32:06.677Z"
   },
   {
    "duration": 32,
    "start_time": "2025-03-04T19:32:06.801Z"
   },
   {
    "duration": 20,
    "start_time": "2025-03-04T19:32:06.835Z"
   },
   {
    "duration": 17,
    "start_time": "2025-03-04T19:32:06.857Z"
   },
   {
    "duration": 26,
    "start_time": "2025-03-04T19:32:06.876Z"
   },
   {
    "duration": 66,
    "start_time": "2025-03-04T19:32:06.904Z"
   },
   {
    "duration": 168,
    "start_time": "2025-03-04T19:32:06.972Z"
   },
   {
    "duration": 47,
    "start_time": "2025-03-04T19:32:07.142Z"
   },
   {
    "duration": 270,
    "start_time": "2025-03-04T19:32:07.190Z"
   },
   {
    "duration": 133,
    "start_time": "2025-03-04T19:32:07.463Z"
   },
   {
    "duration": 58,
    "start_time": "2025-03-04T19:32:07.598Z"
   },
   {
    "duration": 20,
    "start_time": "2025-03-04T19:32:07.657Z"
   },
   {
    "duration": 208,
    "start_time": "2025-03-04T19:32:07.679Z"
   },
   {
    "duration": 220,
    "start_time": "2025-03-04T19:32:07.889Z"
   },
   {
    "duration": 192,
    "start_time": "2025-03-04T19:32:08.111Z"
   },
   {
    "duration": 9,
    "start_time": "2025-03-04T19:32:08.306Z"
   },
   {
    "duration": 257,
    "start_time": "2025-03-04T19:32:08.317Z"
   },
   {
    "duration": 248,
    "start_time": "2025-03-04T19:32:08.576Z"
   },
   {
    "duration": 204,
    "start_time": "2025-03-04T19:32:08.827Z"
   },
   {
    "duration": 12,
    "start_time": "2025-03-04T19:32:09.036Z"
   },
   {
    "duration": 191,
    "start_time": "2025-03-04T19:32:09.061Z"
   },
   {
    "duration": 191,
    "start_time": "2025-03-04T19:32:09.254Z"
   },
   {
    "duration": 44,
    "start_time": "2025-03-04T19:32:09.446Z"
   },
   {
    "duration": 262,
    "start_time": "2025-03-04T19:32:09.492Z"
   },
   {
    "duration": 180,
    "start_time": "2025-03-04T19:32:09.756Z"
   },
   {
    "duration": 252,
    "start_time": "2025-03-04T19:32:09.938Z"
   },
   {
    "duration": 38,
    "start_time": "2025-03-04T19:32:10.192Z"
   },
   {
    "duration": 272,
    "start_time": "2025-03-04T19:32:10.231Z"
   },
   {
    "duration": 236,
    "start_time": "2025-03-04T19:32:10.505Z"
   },
   {
    "duration": 203,
    "start_time": "2025-03-04T19:32:10.743Z"
   },
   {
    "duration": 15,
    "start_time": "2025-03-04T20:13:01.951Z"
   },
   {
    "duration": 3256,
    "start_time": "2025-03-04T20:52:48.449Z"
   },
   {
    "duration": 4828,
    "start_time": "2025-03-04T20:52:51.707Z"
   },
   {
    "duration": 210,
    "start_time": "2025-03-04T20:52:56.537Z"
   },
   {
    "duration": 1422,
    "start_time": "2025-03-04T20:52:56.749Z"
   },
   {
    "duration": 83,
    "start_time": "2025-03-04T20:52:58.173Z"
   },
   {
    "duration": 18,
    "start_time": "2025-03-04T20:52:58.257Z"
   },
   {
    "duration": 15,
    "start_time": "2025-03-04T20:52:58.276Z"
   },
   {
    "duration": 11,
    "start_time": "2025-03-04T20:52:58.292Z"
   },
   {
    "duration": 18,
    "start_time": "2025-03-04T20:52:58.304Z"
   },
   {
    "duration": 22,
    "start_time": "2025-03-04T20:52:58.324Z"
   },
   {
    "duration": 35,
    "start_time": "2025-03-04T20:52:58.348Z"
   },
   {
    "duration": 6,
    "start_time": "2025-03-04T20:52:58.385Z"
   },
   {
    "duration": 10,
    "start_time": "2025-03-04T20:52:58.392Z"
   },
   {
    "duration": 10,
    "start_time": "2025-03-04T20:52:58.405Z"
   },
   {
    "duration": 13,
    "start_time": "2025-03-04T20:52:58.417Z"
   },
   {
    "duration": 96,
    "start_time": "2025-03-04T20:52:58.432Z"
   },
   {
    "duration": 14,
    "start_time": "2025-03-04T20:52:58.548Z"
   },
   {
    "duration": 8,
    "start_time": "2025-03-04T20:52:58.574Z"
   },
   {
    "duration": 7,
    "start_time": "2025-03-04T20:52:58.584Z"
   },
   {
    "duration": 20,
    "start_time": "2025-03-04T20:52:58.592Z"
   },
   {
    "duration": 15,
    "start_time": "2025-03-04T20:52:58.614Z"
   },
   {
    "duration": 46,
    "start_time": "2025-03-04T20:52:58.630Z"
   },
   {
    "duration": 5,
    "start_time": "2025-03-04T20:52:58.678Z"
   },
   {
    "duration": 22,
    "start_time": "2025-03-04T20:52:58.685Z"
   },
   {
    "duration": 8,
    "start_time": "2025-03-04T20:52:58.708Z"
   },
   {
    "duration": 10,
    "start_time": "2025-03-04T20:52:58.717Z"
   },
   {
    "duration": 12,
    "start_time": "2025-03-04T20:52:58.729Z"
   },
   {
    "duration": 14,
    "start_time": "2025-03-04T20:52:58.776Z"
   },
   {
    "duration": 7,
    "start_time": "2025-03-04T20:52:58.791Z"
   },
   {
    "duration": 13,
    "start_time": "2025-03-04T20:52:58.800Z"
   },
   {
    "duration": 15,
    "start_time": "2025-03-04T20:52:58.815Z"
   },
   {
    "duration": 9,
    "start_time": "2025-03-04T20:52:58.832Z"
   },
   {
    "duration": 36,
    "start_time": "2025-03-04T20:52:58.843Z"
   },
   {
    "duration": 211,
    "start_time": "2025-03-04T20:52:58.880Z"
   },
   {
    "duration": 225,
    "start_time": "2025-03-04T20:52:59.093Z"
   },
   {
    "duration": 265,
    "start_time": "2025-03-04T20:52:59.319Z"
   },
   {
    "duration": 8,
    "start_time": "2025-03-04T20:52:59.586Z"
   },
   {
    "duration": 151,
    "start_time": "2025-03-04T20:52:59.596Z"
   },
   {
    "duration": 236,
    "start_time": "2025-03-04T20:52:59.749Z"
   },
   {
    "duration": 206,
    "start_time": "2025-03-04T20:52:59.987Z"
   },
   {
    "duration": 11,
    "start_time": "2025-03-04T20:53:00.197Z"
   },
   {
    "duration": 148,
    "start_time": "2025-03-04T20:53:00.210Z"
   },
   {
    "duration": 187,
    "start_time": "2025-03-04T20:53:00.360Z"
   },
   {
    "duration": 43,
    "start_time": "2025-03-04T20:53:00.549Z"
   },
   {
    "duration": 190,
    "start_time": "2025-03-04T20:53:00.594Z"
   },
   {
    "duration": 202,
    "start_time": "2025-03-04T20:53:00.785Z"
   },
   {
    "duration": 290,
    "start_time": "2025-03-04T20:53:00.989Z"
   },
   {
    "duration": 58,
    "start_time": "2025-03-04T20:53:01.282Z"
   },
   {
    "duration": 266,
    "start_time": "2025-03-04T20:53:01.342Z"
   },
   {
    "duration": 231,
    "start_time": "2025-03-04T20:53:01.610Z"
   },
   {
    "duration": 299,
    "start_time": "2025-03-04T20:53:01.842Z"
   },
   {
    "duration": 24,
    "start_time": "2025-03-04T20:53:23.995Z"
   },
   {
    "duration": 25,
    "start_time": "2025-03-04T20:53:26.291Z"
   },
   {
    "duration": 24,
    "start_time": "2025-03-04T20:53:40.768Z"
   },
   {
    "duration": 25,
    "start_time": "2025-03-04T20:53:49.859Z"
   },
   {
    "duration": 26,
    "start_time": "2025-03-04T20:53:56.798Z"
   },
   {
    "duration": 100,
    "start_time": "2025-03-04T21:00:37.910Z"
   },
   {
    "duration": 74,
    "start_time": "2025-03-04T21:02:01.838Z"
   },
   {
    "duration": 6,
    "start_time": "2025-03-04T21:04:49.940Z"
   },
   {
    "duration": 377,
    "start_time": "2025-03-04T21:06:21.941Z"
   },
   {
    "duration": 12,
    "start_time": "2025-03-04T21:06:56.998Z"
   },
   {
    "duration": 2625,
    "start_time": "2025-03-04T21:07:49.489Z"
   },
   {
    "duration": 2706,
    "start_time": "2025-03-04T21:07:52.117Z"
   },
   {
    "duration": 236,
    "start_time": "2025-03-04T21:07:54.825Z"
   },
   {
    "duration": 1347,
    "start_time": "2025-03-04T21:07:55.064Z"
   },
   {
    "duration": 88,
    "start_time": "2025-03-04T21:07:56.412Z"
   },
   {
    "duration": 16,
    "start_time": "2025-03-04T21:07:56.501Z"
   },
   {
    "duration": 14,
    "start_time": "2025-03-04T21:07:56.518Z"
   },
   {
    "duration": 10,
    "start_time": "2025-03-04T21:07:56.534Z"
   },
   {
    "duration": 23,
    "start_time": "2025-03-04T21:07:56.546Z"
   },
   {
    "duration": 38,
    "start_time": "2025-03-04T21:07:56.572Z"
   },
   {
    "duration": 14,
    "start_time": "2025-03-04T21:07:56.611Z"
   },
   {
    "duration": 6,
    "start_time": "2025-03-04T21:07:56.626Z"
   },
   {
    "duration": 10,
    "start_time": "2025-03-04T21:07:56.633Z"
   },
   {
    "duration": 29,
    "start_time": "2025-03-04T21:07:56.644Z"
   },
   {
    "duration": 24,
    "start_time": "2025-03-04T21:07:56.675Z"
   },
   {
    "duration": 98,
    "start_time": "2025-03-04T21:07:56.701Z"
   },
   {
    "duration": 7,
    "start_time": "2025-03-04T21:07:56.801Z"
   },
   {
    "duration": 16,
    "start_time": "2025-03-04T21:07:56.810Z"
   },
   {
    "duration": 18,
    "start_time": "2025-03-04T21:07:56.828Z"
   },
   {
    "duration": 37,
    "start_time": "2025-03-04T21:07:56.847Z"
   },
   {
    "duration": 16,
    "start_time": "2025-03-04T21:07:56.886Z"
   },
   {
    "duration": 16,
    "start_time": "2025-03-04T21:07:56.904Z"
   },
   {
    "duration": 7,
    "start_time": "2025-03-04T21:07:56.921Z"
   },
   {
    "duration": 22,
    "start_time": "2025-03-04T21:07:56.929Z"
   },
   {
    "duration": 44,
    "start_time": "2025-03-04T21:07:56.953Z"
   },
   {
    "duration": 22,
    "start_time": "2025-03-04T21:07:56.999Z"
   },
   {
    "duration": 14,
    "start_time": "2025-03-04T21:07:57.022Z"
   },
   {
    "duration": 193,
    "start_time": "2025-03-04T21:07:57.039Z"
   },
   {
    "duration": 214,
    "start_time": "2025-03-04T21:07:57.234Z"
   },
   {
    "duration": 199,
    "start_time": "2025-03-04T21:07:57.450Z"
   },
   {
    "duration": 9,
    "start_time": "2025-03-04T21:07:57.651Z"
   },
   {
    "duration": 224,
    "start_time": "2025-03-04T21:07:57.661Z"
   },
   {
    "duration": 267,
    "start_time": "2025-03-04T21:07:57.887Z"
   },
   {
    "duration": 208,
    "start_time": "2025-03-04T21:07:58.156Z"
   },
   {
    "duration": 18,
    "start_time": "2025-03-04T21:07:58.366Z"
   },
   {
    "duration": 156,
    "start_time": "2025-03-04T21:07:58.386Z"
   },
   {
    "duration": 192,
    "start_time": "2025-03-04T21:07:58.544Z"
   },
   {
    "duration": 48,
    "start_time": "2025-03-04T21:07:58.737Z"
   },
   {
    "duration": 208,
    "start_time": "2025-03-04T21:07:58.787Z"
   },
   {
    "duration": 239,
    "start_time": "2025-03-04T21:07:58.997Z"
   },
   {
    "duration": 293,
    "start_time": "2025-03-04T21:07:59.238Z"
   },
   {
    "duration": 65,
    "start_time": "2025-03-04T21:07:59.533Z"
   },
   {
    "duration": 278,
    "start_time": "2025-03-04T21:07:59.600Z"
   },
   {
    "duration": 250,
    "start_time": "2025-03-04T21:07:59.880Z"
   },
   {
    "duration": 207,
    "start_time": "2025-03-04T21:08:00.132Z"
   },
   {
    "duration": 113,
    "start_time": "2025-03-04T21:15:05.328Z"
   },
   {
    "duration": 191,
    "start_time": "2025-03-04T21:15:33.295Z"
   },
   {
    "duration": 6,
    "start_time": "2025-03-04T21:15:59.736Z"
   },
   {
    "duration": 24,
    "start_time": "2025-03-04T21:16:22.973Z"
   },
   {
    "duration": 179,
    "start_time": "2025-03-04T21:19:14.280Z"
   },
   {
    "duration": 185,
    "start_time": "2025-03-04T21:19:16.306Z"
   },
   {
    "duration": 9,
    "start_time": "2025-03-04T21:19:33.884Z"
   },
   {
    "duration": 189,
    "start_time": "2025-03-04T21:21:49.153Z"
   },
   {
    "duration": 216,
    "start_time": "2025-03-04T21:26:22.847Z"
   },
   {
    "duration": 245,
    "start_time": "2025-03-04T21:26:55.434Z"
   },
   {
    "duration": 162,
    "start_time": "2025-03-04T21:27:00.472Z"
   },
   {
    "duration": 152,
    "start_time": "2025-03-04T21:27:53.680Z"
   },
   {
    "duration": 27,
    "start_time": "2025-03-04T21:28:17.381Z"
   },
   {
    "duration": 147,
    "start_time": "2025-03-04T21:28:21.621Z"
   },
   {
    "duration": 102,
    "start_time": "2025-03-04T21:28:29.409Z"
   },
   {
    "duration": 95,
    "start_time": "2025-03-04T21:28:32.080Z"
   },
   {
    "duration": 108,
    "start_time": "2025-03-04T21:28:41.727Z"
   },
   {
    "duration": 111,
    "start_time": "2025-03-04T21:28:55.364Z"
   },
   {
    "duration": 118,
    "start_time": "2025-03-04T21:28:57.688Z"
   },
   {
    "duration": 109,
    "start_time": "2025-03-04T21:30:00.688Z"
   },
   {
    "duration": 113,
    "start_time": "2025-03-04T21:30:09.288Z"
   },
   {
    "duration": 115,
    "start_time": "2025-03-04T21:30:11.488Z"
   },
   {
    "duration": 8,
    "start_time": "2025-03-04T21:30:36.124Z"
   },
   {
    "duration": 148,
    "start_time": "2025-03-04T21:31:02.817Z"
   },
   {
    "duration": 46,
    "start_time": "2025-03-05T07:10:27.733Z"
   },
   {
    "duration": 3335,
    "start_time": "2025-03-05T07:10:35.330Z"
   },
   {
    "duration": 5332,
    "start_time": "2025-03-05T07:10:38.668Z"
   },
   {
    "duration": 195,
    "start_time": "2025-03-05T07:10:44.002Z"
   },
   {
    "duration": 1311,
    "start_time": "2025-03-05T07:10:44.198Z"
   },
   {
    "duration": 262,
    "start_time": "2025-03-05T07:10:45.511Z"
   },
   {
    "duration": 16,
    "start_time": "2025-03-05T07:10:45.775Z"
   },
   {
    "duration": 39,
    "start_time": "2025-03-05T07:10:45.793Z"
   },
   {
    "duration": 10,
    "start_time": "2025-03-05T07:10:45.834Z"
   },
   {
    "duration": 43,
    "start_time": "2025-03-05T07:10:45.845Z"
   },
   {
    "duration": 40,
    "start_time": "2025-03-05T07:10:45.890Z"
   },
   {
    "duration": 20,
    "start_time": "2025-03-05T07:10:45.931Z"
   },
   {
    "duration": 21,
    "start_time": "2025-03-05T07:10:45.953Z"
   },
   {
    "duration": 23,
    "start_time": "2025-03-05T07:10:45.976Z"
   },
   {
    "duration": 32,
    "start_time": "2025-03-05T07:10:46.002Z"
   },
   {
    "duration": 53,
    "start_time": "2025-03-05T07:10:46.036Z"
   },
   {
    "duration": 92,
    "start_time": "2025-03-05T07:10:46.090Z"
   },
   {
    "duration": 31,
    "start_time": "2025-03-05T07:10:46.184Z"
   },
   {
    "duration": 46,
    "start_time": "2025-03-05T07:10:46.216Z"
   },
   {
    "duration": 7,
    "start_time": "2025-03-05T07:10:46.264Z"
   },
   {
    "duration": 14,
    "start_time": "2025-03-05T07:10:46.272Z"
   },
   {
    "duration": 15,
    "start_time": "2025-03-05T07:10:46.287Z"
   },
   {
    "duration": 37,
    "start_time": "2025-03-05T07:10:46.303Z"
   },
   {
    "duration": 41,
    "start_time": "2025-03-05T07:10:46.341Z"
   },
   {
    "duration": 7,
    "start_time": "2025-03-05T07:10:46.383Z"
   },
   {
    "duration": 196,
    "start_time": "2025-03-05T07:10:46.392Z"
   },
   {
    "duration": 193,
    "start_time": "2025-03-05T07:10:46.589Z"
   },
   {
    "duration": 174,
    "start_time": "2025-03-05T07:10:46.783Z"
   },
   {
    "duration": 14,
    "start_time": "2025-03-05T07:10:46.959Z"
   },
   {
    "duration": 170,
    "start_time": "2025-03-05T07:10:46.974Z"
   },
   {
    "duration": 226,
    "start_time": "2025-03-05T07:10:47.146Z"
   },
   {
    "duration": 177,
    "start_time": "2025-03-05T07:10:47.373Z"
   },
   {
    "duration": 20,
    "start_time": "2025-03-05T07:10:47.551Z"
   },
   {
    "duration": 174,
    "start_time": "2025-03-05T07:10:47.572Z"
   },
   {
    "duration": 166,
    "start_time": "2025-03-05T07:10:47.747Z"
   },
   {
    "duration": 30,
    "start_time": "2025-03-05T07:10:47.915Z"
   },
   {
    "duration": 178,
    "start_time": "2025-03-05T07:10:47.947Z"
   },
   {
    "duration": 195,
    "start_time": "2025-03-05T07:10:48.126Z"
   },
   {
    "duration": 302,
    "start_time": "2025-03-05T07:10:48.322Z"
   },
   {
    "duration": 55,
    "start_time": "2025-03-05T07:10:48.626Z"
   },
   {
    "duration": 249,
    "start_time": "2025-03-05T07:10:48.683Z"
   },
   {
    "duration": 221,
    "start_time": "2025-03-05T07:10:48.937Z"
   },
   {
    "duration": 185,
    "start_time": "2025-03-05T07:10:49.159Z"
   },
   {
    "duration": 107,
    "start_time": "2025-03-05T07:11:25.751Z"
   },
   {
    "duration": 23,
    "start_time": "2025-03-05T07:13:19.648Z"
   },
   {
    "duration": 24,
    "start_time": "2025-03-05T07:13:22.751Z"
   },
   {
    "duration": 177,
    "start_time": "2025-03-05T07:21:52.167Z"
   },
   {
    "duration": 194,
    "start_time": "2025-03-05T07:23:10.401Z"
   },
   {
    "duration": 201,
    "start_time": "2025-03-05T07:23:37.004Z"
   },
   {
    "duration": 10,
    "start_time": "2025-03-05T07:24:38.983Z"
   },
   {
    "duration": 10,
    "start_time": "2025-03-05T07:24:41.561Z"
   },
   {
    "duration": 10,
    "start_time": "2025-03-05T07:25:08.932Z"
   },
   {
    "duration": 8,
    "start_time": "2025-03-05T07:26:18.658Z"
   },
   {
    "duration": 11,
    "start_time": "2025-03-05T07:26:41.200Z"
   },
   {
    "duration": 8,
    "start_time": "2025-03-05T07:26:48.817Z"
   },
   {
    "duration": 9,
    "start_time": "2025-03-05T07:26:54.324Z"
   },
   {
    "duration": 10,
    "start_time": "2025-03-05T07:27:17.899Z"
   },
   {
    "duration": 148,
    "start_time": "2025-03-05T07:28:27.844Z"
   },
   {
    "duration": 238,
    "start_time": "2025-03-05T07:28:47.457Z"
   },
   {
    "duration": 8,
    "start_time": "2025-03-05T07:32:28.829Z"
   },
   {
    "duration": 10,
    "start_time": "2025-03-05T07:32:44.268Z"
   },
   {
    "duration": 166,
    "start_time": "2025-03-05T07:33:31.832Z"
   },
   {
    "duration": 187,
    "start_time": "2025-03-05T07:33:45.430Z"
   },
   {
    "duration": 175,
    "start_time": "2025-03-05T07:34:18.903Z"
   },
   {
    "duration": 187,
    "start_time": "2025-03-05T07:36:26.646Z"
   },
   {
    "duration": 190,
    "start_time": "2025-03-05T07:36:43.558Z"
   },
   {
    "duration": 274,
    "start_time": "2025-03-05T07:36:57.703Z"
   },
   {
    "duration": 143,
    "start_time": "2025-03-05T07:39:18.567Z"
   },
   {
    "duration": 157,
    "start_time": "2025-03-05T07:43:34.907Z"
   },
   {
    "duration": 233,
    "start_time": "2025-03-05T07:45:39.009Z"
   },
   {
    "duration": 232,
    "start_time": "2025-03-05T07:45:50.012Z"
   },
   {
    "duration": 13,
    "start_time": "2025-03-05T07:55:14.285Z"
   },
   {
    "duration": 13,
    "start_time": "2025-03-05T07:55:16.920Z"
   },
   {
    "duration": 145,
    "start_time": "2025-03-05T07:58:04.821Z"
   },
   {
    "duration": 12,
    "start_time": "2025-03-05T07:58:46.905Z"
   },
   {
    "duration": 13,
    "start_time": "2025-03-05T07:58:52.077Z"
   },
   {
    "duration": 12,
    "start_time": "2025-03-05T07:58:57.828Z"
   },
   {
    "duration": 232,
    "start_time": "2025-03-05T08:50:50.274Z"
   },
   {
    "duration": 185,
    "start_time": "2025-03-05T08:52:49.624Z"
   },
   {
    "duration": 184,
    "start_time": "2025-03-05T08:52:51.932Z"
   },
   {
    "duration": 12,
    "start_time": "2025-03-05T08:57:08.739Z"
   },
   {
    "duration": 69,
    "start_time": "2025-03-05T09:11:55.256Z"
   },
   {
    "duration": 111,
    "start_time": "2025-03-05T09:37:55.485Z"
   },
   {
    "duration": 18,
    "start_time": "2025-03-05T09:37:57.190Z"
   },
   {
    "duration": 22,
    "start_time": "2025-03-05T09:39:48.224Z"
   },
   {
    "duration": 19,
    "start_time": "2025-03-05T09:40:58.956Z"
   },
   {
    "duration": 21,
    "start_time": "2025-03-05T09:41:00.920Z"
   },
   {
    "duration": 215,
    "start_time": "2025-03-05T09:42:19.086Z"
   },
   {
    "duration": 220,
    "start_time": "2025-03-05T09:42:21.450Z"
   },
   {
    "duration": 220,
    "start_time": "2025-03-05T09:44:05.517Z"
   },
   {
    "duration": 275,
    "start_time": "2025-03-05T09:44:07.552Z"
   },
   {
    "duration": 160,
    "start_time": "2025-03-05T09:47:54.797Z"
   },
   {
    "duration": 167,
    "start_time": "2025-03-05T09:48:02.395Z"
   },
   {
    "duration": 3657,
    "start_time": "2025-03-05T17:37:24.855Z"
   },
   {
    "duration": 6002,
    "start_time": "2025-03-05T17:37:28.515Z"
   },
   {
    "duration": 243,
    "start_time": "2025-03-05T17:37:34.522Z"
   },
   {
    "duration": 1497,
    "start_time": "2025-03-05T17:37:34.768Z"
   },
   {
    "duration": 91,
    "start_time": "2025-03-05T17:37:36.267Z"
   },
   {
    "duration": 17,
    "start_time": "2025-03-05T17:37:36.360Z"
   },
   {
    "duration": 68,
    "start_time": "2025-03-05T17:37:36.379Z"
   },
   {
    "duration": 11,
    "start_time": "2025-03-05T17:37:36.449Z"
   },
   {
    "duration": 37,
    "start_time": "2025-03-05T17:37:36.461Z"
   },
   {
    "duration": 51,
    "start_time": "2025-03-05T17:37:36.501Z"
   },
   {
    "duration": 121,
    "start_time": "2025-03-05T17:37:36.553Z"
   },
   {
    "duration": 22,
    "start_time": "2025-03-05T17:37:36.676Z"
   },
   {
    "duration": 42,
    "start_time": "2025-03-05T17:37:36.700Z"
   },
   {
    "duration": 53,
    "start_time": "2025-03-05T17:37:36.744Z"
   },
   {
    "duration": 44,
    "start_time": "2025-03-05T17:37:36.799Z"
   },
   {
    "duration": 95,
    "start_time": "2025-03-05T17:37:36.845Z"
   },
   {
    "duration": 32,
    "start_time": "2025-03-05T17:37:36.942Z"
   },
   {
    "duration": 123,
    "start_time": "2025-03-05T17:37:36.976Z"
   },
   {
    "duration": 11,
    "start_time": "2025-03-05T17:37:37.101Z"
   },
   {
    "duration": 84,
    "start_time": "2025-03-05T17:37:37.114Z"
   },
   {
    "duration": 34,
    "start_time": "2025-03-05T17:37:37.200Z"
   },
   {
    "duration": 54,
    "start_time": "2025-03-05T17:37:37.236Z"
   },
   {
    "duration": 44,
    "start_time": "2025-03-05T17:37:37.291Z"
   },
   {
    "duration": 8,
    "start_time": "2025-03-05T17:37:37.337Z"
   },
   {
    "duration": 155,
    "start_time": "2025-03-05T17:37:37.347Z"
   },
   {
    "duration": 229,
    "start_time": "2025-03-05T17:37:37.504Z"
   },
   {
    "duration": 8,
    "start_time": "2025-03-05T17:37:37.735Z"
   },
   {
    "duration": 170,
    "start_time": "2025-03-05T17:37:37.746Z"
   },
   {
    "duration": 226,
    "start_time": "2025-03-05T17:37:37.918Z"
   },
   {
    "duration": 204,
    "start_time": "2025-03-05T17:37:38.146Z"
   },
   {
    "duration": 8,
    "start_time": "2025-03-05T17:37:38.352Z"
   },
   {
    "duration": 200,
    "start_time": "2025-03-05T17:37:38.362Z"
   },
   {
    "duration": 260,
    "start_time": "2025-03-05T17:37:38.563Z"
   },
   {
    "duration": 207,
    "start_time": "2025-03-05T17:37:38.825Z"
   },
   {
    "duration": 12,
    "start_time": "2025-03-05T17:37:39.034Z"
   },
   {
    "duration": 180,
    "start_time": "2025-03-05T17:37:39.047Z"
   },
   {
    "duration": 196,
    "start_time": "2025-03-05T17:37:39.229Z"
   },
   {
    "duration": 33,
    "start_time": "2025-03-05T17:37:39.426Z"
   },
   {
    "duration": 216,
    "start_time": "2025-03-05T17:37:39.460Z"
   },
   {
    "duration": 235,
    "start_time": "2025-03-05T17:37:39.678Z"
   },
   {
    "duration": 324,
    "start_time": "2025-03-05T17:37:39.915Z"
   },
   {
    "duration": 14,
    "start_time": "2025-03-05T17:37:40.241Z"
   },
   {
    "duration": 72,
    "start_time": "2025-03-05T17:37:40.257Z"
   },
   {
    "duration": 372,
    "start_time": "2025-03-05T17:37:40.331Z"
   },
   {
    "duration": 275,
    "start_time": "2025-03-05T17:37:40.706Z"
   },
   {
    "duration": 276,
    "start_time": "2025-03-05T17:37:40.983Z"
   },
   {
    "duration": 318,
    "start_time": "2025-03-05T17:37:41.260Z"
   },
   {
    "duration": 262,
    "start_time": "2025-03-05T17:55:52.505Z"
   },
   {
    "duration": 278,
    "start_time": "2025-03-05T17:55:56.181Z"
   },
   {
    "duration": 276,
    "start_time": "2025-03-05T18:01:28.913Z"
   },
   {
    "duration": 2825,
    "start_time": "2025-03-05T19:15:18.210Z"
   },
   {
    "duration": 2709,
    "start_time": "2025-03-05T19:15:21.037Z"
   },
   {
    "duration": 191,
    "start_time": "2025-03-05T19:15:23.748Z"
   },
   {
    "duration": 1259,
    "start_time": "2025-03-05T19:15:23.940Z"
   },
   {
    "duration": 555,
    "start_time": "2025-03-05T19:15:25.203Z"
   },
   {
    "duration": 17,
    "start_time": "2025-03-05T19:15:25.760Z"
   },
   {
    "duration": 34,
    "start_time": "2025-03-05T19:15:25.778Z"
   },
   {
    "duration": 150,
    "start_time": "2025-03-05T19:15:25.814Z"
   },
   {
    "duration": 16,
    "start_time": "2025-03-05T19:15:25.966Z"
   },
   {
    "duration": 37,
    "start_time": "2025-03-05T19:15:25.983Z"
   },
   {
    "duration": 25,
    "start_time": "2025-03-05T19:15:26.022Z"
   },
   {
    "duration": 17,
    "start_time": "2025-03-05T19:15:26.049Z"
   },
   {
    "duration": 17,
    "start_time": "2025-03-05T19:15:26.068Z"
   },
   {
    "duration": 18,
    "start_time": "2025-03-05T19:15:26.089Z"
   },
   {
    "duration": 30,
    "start_time": "2025-03-05T19:15:26.113Z"
   },
   {
    "duration": 130,
    "start_time": "2025-03-05T19:15:26.145Z"
   },
   {
    "duration": 43,
    "start_time": "2025-03-05T19:15:26.277Z"
   },
   {
    "duration": 59,
    "start_time": "2025-03-05T19:15:26.323Z"
   },
   {
    "duration": 9,
    "start_time": "2025-03-05T19:15:26.384Z"
   },
   {
    "duration": 37,
    "start_time": "2025-03-05T19:15:26.394Z"
   },
   {
    "duration": 24,
    "start_time": "2025-03-05T19:15:26.434Z"
   },
   {
    "duration": 15,
    "start_time": "2025-03-05T19:15:26.460Z"
   },
   {
    "duration": 21,
    "start_time": "2025-03-05T19:15:26.477Z"
   },
   {
    "duration": 18,
    "start_time": "2025-03-05T19:15:26.506Z"
   },
   {
    "duration": 12,
    "start_time": "2025-03-05T19:15:26.537Z"
   },
   {
    "duration": 212,
    "start_time": "2025-03-05T19:15:26.550Z"
   },
   {
    "duration": 9,
    "start_time": "2025-03-05T19:15:26.764Z"
   },
   {
    "duration": 9,
    "start_time": "2025-03-05T19:15:26.774Z"
   },
   {
    "duration": 244,
    "start_time": "2025-03-05T19:15:26.801Z"
   },
   {
    "duration": 209,
    "start_time": "2025-03-05T19:15:27.047Z"
   },
   {
    "duration": 9,
    "start_time": "2025-03-05T19:15:27.257Z"
   },
   {
    "duration": 126,
    "start_time": "2025-03-05T19:15:27.267Z"
   },
   {
    "duration": 355,
    "start_time": "2025-03-05T19:15:27.394Z"
   },
   {
    "duration": 210,
    "start_time": "2025-03-05T19:15:27.750Z"
   },
   {
    "duration": 12,
    "start_time": "2025-03-05T19:15:27.962Z"
   },
   {
    "duration": 171,
    "start_time": "2025-03-05T19:15:27.976Z"
   },
   {
    "duration": 210,
    "start_time": "2025-03-05T19:15:28.148Z"
   },
   {
    "duration": 50,
    "start_time": "2025-03-05T19:15:28.360Z"
   },
   {
    "duration": 223,
    "start_time": "2025-03-05T19:15:28.411Z"
   },
   {
    "duration": 227,
    "start_time": "2025-03-05T19:15:28.636Z"
   },
   {
    "duration": 297,
    "start_time": "2025-03-05T19:15:28.867Z"
   },
   {
    "duration": 12,
    "start_time": "2025-03-05T19:15:29.166Z"
   },
   {
    "duration": 66,
    "start_time": "2025-03-05T19:15:29.180Z"
   },
   {
    "duration": 290,
    "start_time": "2025-03-05T19:15:29.248Z"
   },
   {
    "duration": 309,
    "start_time": "2025-03-05T19:15:29.540Z"
   },
   {
    "duration": 315,
    "start_time": "2025-03-05T19:15:29.851Z"
   },
   {
    "duration": 332,
    "start_time": "2025-03-05T19:15:30.168Z"
   },
   {
    "duration": 15,
    "start_time": "2025-03-05T19:16:10.581Z"
   },
   {
    "duration": 7,
    "start_time": "2025-03-05T19:17:03.481Z"
   },
   {
    "duration": 7,
    "start_time": "2025-03-05T19:17:06.270Z"
   },
   {
    "duration": 10,
    "start_time": "2025-03-05T19:17:27.433Z"
   },
   {
    "duration": 9,
    "start_time": "2025-03-05T19:19:17.673Z"
   },
   {
    "duration": 9,
    "start_time": "2025-03-05T19:19:21.049Z"
   },
   {
    "duration": 12,
    "start_time": "2025-03-05T19:19:31.563Z"
   },
   {
    "duration": 12,
    "start_time": "2025-03-05T19:32:43.891Z"
   },
   {
    "duration": 174,
    "start_time": "2025-03-05T20:06:36.960Z"
   },
   {
    "duration": 3465,
    "start_time": "2025-03-06T13:30:41.760Z"
   },
   {
    "duration": 4981,
    "start_time": "2025-03-06T13:30:45.227Z"
   },
   {
    "duration": 204,
    "start_time": "2025-03-06T13:30:50.210Z"
   },
   {
    "duration": 1522,
    "start_time": "2025-03-06T13:30:50.417Z"
   },
   {
    "duration": 82,
    "start_time": "2025-03-06T13:30:51.940Z"
   },
   {
    "duration": 17,
    "start_time": "2025-03-06T13:30:52.023Z"
   },
   {
    "duration": 32,
    "start_time": "2025-03-06T13:30:52.042Z"
   },
   {
    "duration": 22,
    "start_time": "2025-03-06T13:30:52.075Z"
   },
   {
    "duration": 26,
    "start_time": "2025-03-06T13:30:52.099Z"
   },
   {
    "duration": 28,
    "start_time": "2025-03-06T13:30:52.127Z"
   },
   {
    "duration": 14,
    "start_time": "2025-03-06T13:30:52.157Z"
   },
   {
    "duration": 6,
    "start_time": "2025-03-06T13:30:52.172Z"
   },
   {
    "duration": 10,
    "start_time": "2025-03-06T13:30:52.179Z"
   },
   {
    "duration": 12,
    "start_time": "2025-03-06T13:30:52.190Z"
   },
   {
    "duration": 17,
    "start_time": "2025-03-06T13:30:52.203Z"
   },
   {
    "duration": 92,
    "start_time": "2025-03-06T13:30:52.221Z"
   },
   {
    "duration": 16,
    "start_time": "2025-03-06T13:30:52.314Z"
   },
   {
    "duration": 50,
    "start_time": "2025-03-06T13:30:52.332Z"
   },
   {
    "duration": 9,
    "start_time": "2025-03-06T13:30:52.383Z"
   },
   {
    "duration": 19,
    "start_time": "2025-03-06T13:30:52.394Z"
   },
   {
    "duration": 41,
    "start_time": "2025-03-06T13:30:52.414Z"
   },
   {
    "duration": 42,
    "start_time": "2025-03-06T13:30:52.457Z"
   },
   {
    "duration": 16,
    "start_time": "2025-03-06T13:30:52.501Z"
   },
   {
    "duration": 10,
    "start_time": "2025-03-06T13:30:52.518Z"
   },
   {
    "duration": 25,
    "start_time": "2025-03-06T13:30:52.530Z"
   },
   {
    "duration": 187,
    "start_time": "2025-03-06T13:30:52.556Z"
   },
   {
    "duration": 8,
    "start_time": "2025-03-06T13:30:52.745Z"
   },
   {
    "duration": 24,
    "start_time": "2025-03-06T13:30:52.756Z"
   },
   {
    "duration": 202,
    "start_time": "2025-03-06T13:30:52.782Z"
   },
   {
    "duration": 180,
    "start_time": "2025-03-06T13:30:52.986Z"
   },
   {
    "duration": 10,
    "start_time": "2025-03-06T13:30:53.171Z"
   },
   {
    "duration": 196,
    "start_time": "2025-03-06T13:30:53.184Z"
   },
   {
    "duration": 235,
    "start_time": "2025-03-06T13:30:53.382Z"
   },
   {
    "duration": 183,
    "start_time": "2025-03-06T13:30:53.619Z"
   },
   {
    "duration": 12,
    "start_time": "2025-03-06T13:30:53.804Z"
   },
   {
    "duration": 147,
    "start_time": "2025-03-06T13:30:53.818Z"
   },
   {
    "duration": 174,
    "start_time": "2025-03-06T13:30:53.970Z"
   },
   {
    "duration": 40,
    "start_time": "2025-03-06T13:30:54.146Z"
   },
   {
    "duration": 173,
    "start_time": "2025-03-06T13:30:54.187Z"
   },
   {
    "duration": 200,
    "start_time": "2025-03-06T13:30:54.362Z"
   },
   {
    "duration": 267,
    "start_time": "2025-03-06T13:30:54.563Z"
   },
   {
    "duration": 13,
    "start_time": "2025-03-06T13:30:54.831Z"
   },
   {
    "duration": 61,
    "start_time": "2025-03-06T13:30:54.846Z"
   },
   {
    "duration": 263,
    "start_time": "2025-03-06T13:30:54.909Z"
   },
   {
    "duration": 248,
    "start_time": "2025-03-06T13:30:55.174Z"
   },
   {
    "duration": 272,
    "start_time": "2025-03-06T13:30:55.424Z"
   },
   {
    "duration": 296,
    "start_time": "2025-03-06T13:30:55.698Z"
   },
   {
    "duration": 2373,
    "start_time": "2025-03-06T13:31:05.255Z"
   },
   {
    "duration": 2354,
    "start_time": "2025-03-06T13:31:07.632Z"
   },
   {
    "duration": 188,
    "start_time": "2025-03-06T13:31:09.989Z"
   },
   {
    "duration": 1344,
    "start_time": "2025-03-06T13:31:10.178Z"
   },
   {
    "duration": 80,
    "start_time": "2025-03-06T13:31:11.524Z"
   },
   {
    "duration": 16,
    "start_time": "2025-03-06T13:31:11.605Z"
   },
   {
    "duration": 14,
    "start_time": "2025-03-06T13:31:11.623Z"
   },
   {
    "duration": 10,
    "start_time": "2025-03-06T13:31:11.638Z"
   },
   {
    "duration": 11,
    "start_time": "2025-03-06T13:31:11.650Z"
   },
   {
    "duration": 23,
    "start_time": "2025-03-06T13:31:11.670Z"
   },
   {
    "duration": 14,
    "start_time": "2025-03-06T13:31:11.694Z"
   },
   {
    "duration": 5,
    "start_time": "2025-03-06T13:31:11.709Z"
   },
   {
    "duration": 19,
    "start_time": "2025-03-06T13:31:11.716Z"
   },
   {
    "duration": 14,
    "start_time": "2025-03-06T13:31:11.738Z"
   },
   {
    "duration": 14,
    "start_time": "2025-03-06T13:31:11.771Z"
   },
   {
    "duration": 90,
    "start_time": "2025-03-06T13:31:11.786Z"
   },
   {
    "duration": 15,
    "start_time": "2025-03-06T13:31:11.878Z"
   },
   {
    "duration": 49,
    "start_time": "2025-03-06T13:31:11.895Z"
   },
   {
    "duration": 8,
    "start_time": "2025-03-06T13:31:11.945Z"
   },
   {
    "duration": 25,
    "start_time": "2025-03-06T13:31:11.954Z"
   },
   {
    "duration": 14,
    "start_time": "2025-03-06T13:31:11.980Z"
   },
   {
    "duration": 15,
    "start_time": "2025-03-06T13:31:11.996Z"
   },
   {
    "duration": 17,
    "start_time": "2025-03-06T13:31:12.013Z"
   },
   {
    "duration": 15,
    "start_time": "2025-03-06T13:31:12.031Z"
   },
   {
    "duration": 36,
    "start_time": "2025-03-06T13:31:12.047Z"
   },
   {
    "duration": 173,
    "start_time": "2025-03-06T13:31:12.084Z"
   },
   {
    "duration": 13,
    "start_time": "2025-03-06T13:31:12.258Z"
   },
   {
    "duration": 15,
    "start_time": "2025-03-06T13:31:12.273Z"
   },
   {
    "duration": 200,
    "start_time": "2025-03-06T13:31:12.289Z"
   },
   {
    "duration": 177,
    "start_time": "2025-03-06T13:31:12.490Z"
   },
   {
    "duration": 8,
    "start_time": "2025-03-06T13:31:12.669Z"
   },
   {
    "duration": 113,
    "start_time": "2025-03-06T13:31:12.678Z"
   },
   {
    "duration": 301,
    "start_time": "2025-03-06T13:31:12.792Z"
   },
   {
    "duration": 180,
    "start_time": "2025-03-06T13:31:13.094Z"
   },
   {
    "duration": 11,
    "start_time": "2025-03-06T13:31:13.275Z"
   },
   {
    "duration": 147,
    "start_time": "2025-03-06T13:31:13.287Z"
   },
   {
    "duration": 193,
    "start_time": "2025-03-06T13:31:13.436Z"
   },
   {
    "duration": 44,
    "start_time": "2025-03-06T13:31:13.631Z"
   },
   {
    "duration": 174,
    "start_time": "2025-03-06T13:31:13.677Z"
   },
   {
    "duration": 205,
    "start_time": "2025-03-06T13:31:13.853Z"
   },
   {
    "duration": 246,
    "start_time": "2025-03-06T13:31:14.062Z"
   },
   {
    "duration": 11,
    "start_time": "2025-03-06T13:31:14.310Z"
   },
   {
    "duration": 63,
    "start_time": "2025-03-06T13:31:14.323Z"
   },
   {
    "duration": 252,
    "start_time": "2025-03-06T13:31:14.388Z"
   },
   {
    "duration": 240,
    "start_time": "2025-03-06T13:31:14.642Z"
   },
   {
    "duration": 272,
    "start_time": "2025-03-06T13:31:14.884Z"
   },
   {
    "duration": 303,
    "start_time": "2025-03-06T13:31:15.158Z"
   },
   {
    "duration": 2286,
    "start_time": "2025-03-06T13:34:34.823Z"
   },
   {
    "duration": 2377,
    "start_time": "2025-03-06T13:34:37.112Z"
   },
   {
    "duration": 165,
    "start_time": "2025-03-06T13:34:39.491Z"
   },
   {
    "duration": 1341,
    "start_time": "2025-03-06T13:34:39.658Z"
   },
   {
    "duration": 81,
    "start_time": "2025-03-06T13:34:41.000Z"
   },
   {
    "duration": 16,
    "start_time": "2025-03-06T13:34:41.083Z"
   },
   {
    "duration": 19,
    "start_time": "2025-03-06T13:34:41.100Z"
   },
   {
    "duration": 11,
    "start_time": "2025-03-06T13:34:41.120Z"
   },
   {
    "duration": 23,
    "start_time": "2025-03-06T13:34:41.132Z"
   },
   {
    "duration": 24,
    "start_time": "2025-03-06T13:34:41.170Z"
   },
   {
    "duration": 16,
    "start_time": "2025-03-06T13:34:41.196Z"
   },
   {
    "duration": 8,
    "start_time": "2025-03-06T13:34:41.213Z"
   },
   {
    "duration": 10,
    "start_time": "2025-03-06T13:34:41.223Z"
   },
   {
    "duration": 65,
    "start_time": "2025-03-06T13:34:41.234Z"
   },
   {
    "duration": 16,
    "start_time": "2025-03-06T13:34:41.301Z"
   },
   {
    "duration": 77,
    "start_time": "2025-03-06T13:34:41.318Z"
   },
   {
    "duration": 16,
    "start_time": "2025-03-06T13:34:41.397Z"
   },
   {
    "duration": 66,
    "start_time": "2025-03-06T13:34:41.414Z"
   },
   {
    "duration": 8,
    "start_time": "2025-03-06T13:34:41.481Z"
   },
   {
    "duration": 26,
    "start_time": "2025-03-06T13:34:41.490Z"
   },
   {
    "duration": 28,
    "start_time": "2025-03-06T13:34:41.518Z"
   },
   {
    "duration": 12,
    "start_time": "2025-03-06T13:34:41.548Z"
   },
   {
    "duration": 17,
    "start_time": "2025-03-06T13:34:41.562Z"
   },
   {
    "duration": 7,
    "start_time": "2025-03-06T13:34:41.581Z"
   },
   {
    "duration": 10,
    "start_time": "2025-03-06T13:34:41.589Z"
   },
   {
    "duration": 180,
    "start_time": "2025-03-06T13:34:41.601Z"
   },
   {
    "duration": 8,
    "start_time": "2025-03-06T13:34:41.783Z"
   },
   {
    "duration": 9,
    "start_time": "2025-03-06T13:34:41.794Z"
   },
   {
    "duration": 209,
    "start_time": "2025-03-06T13:34:41.804Z"
   },
   {
    "duration": 178,
    "start_time": "2025-03-06T13:34:42.014Z"
   },
   {
    "duration": 8,
    "start_time": "2025-03-06T13:34:42.193Z"
   },
   {
    "duration": 115,
    "start_time": "2025-03-06T13:34:42.203Z"
   },
   {
    "duration": 306,
    "start_time": "2025-03-06T13:34:42.320Z"
   },
   {
    "duration": 176,
    "start_time": "2025-03-06T13:34:42.628Z"
   },
   {
    "duration": 11,
    "start_time": "2025-03-06T13:34:42.806Z"
   },
   {
    "duration": 140,
    "start_time": "2025-03-06T13:34:42.818Z"
   },
   {
    "duration": 174,
    "start_time": "2025-03-06T13:34:42.959Z"
   },
   {
    "duration": 40,
    "start_time": "2025-03-06T13:34:43.135Z"
   },
   {
    "duration": 169,
    "start_time": "2025-03-06T13:34:43.176Z"
   },
   {
    "duration": 189,
    "start_time": "2025-03-06T13:34:43.346Z"
   },
   {
    "duration": 247,
    "start_time": "2025-03-06T13:34:43.537Z"
   },
   {
    "duration": 12,
    "start_time": "2025-03-06T13:34:43.786Z"
   },
   {
    "duration": 42,
    "start_time": "2025-03-06T13:34:43.799Z"
   },
   {
    "duration": 266,
    "start_time": "2025-03-06T13:34:43.843Z"
   },
   {
    "duration": 230,
    "start_time": "2025-03-06T13:34:44.111Z"
   },
   {
    "duration": 252,
    "start_time": "2025-03-06T13:34:44.343Z"
   },
   {
    "duration": 278,
    "start_time": "2025-03-06T13:34:44.597Z"
   },
   {
    "duration": 235,
    "start_time": "2025-03-06T13:37:38.725Z"
   },
   {
    "duration": 452,
    "start_time": "2025-03-06T13:37:43.802Z"
   },
   {
    "duration": 348,
    "start_time": "2025-03-06T14:52:11.471Z"
   },
   {
    "duration": 336,
    "start_time": "2025-03-06T14:52:25.486Z"
   },
   {
    "duration": 3656,
    "start_time": "2025-03-06T15:08:44.098Z"
   },
   {
    "duration": 5684,
    "start_time": "2025-03-06T15:08:47.756Z"
   },
   {
    "duration": 222,
    "start_time": "2025-03-06T15:08:53.442Z"
   },
   {
    "duration": 1484,
    "start_time": "2025-03-06T15:08:53.665Z"
   },
   {
    "duration": 93,
    "start_time": "2025-03-06T15:08:55.151Z"
   },
   {
    "duration": 17,
    "start_time": "2025-03-06T15:08:55.246Z"
   },
   {
    "duration": 15,
    "start_time": "2025-03-06T15:08:55.265Z"
   },
   {
    "duration": 10,
    "start_time": "2025-03-06T15:08:55.281Z"
   },
   {
    "duration": 24,
    "start_time": "2025-03-06T15:08:55.293Z"
   },
   {
    "duration": 24,
    "start_time": "2025-03-06T15:08:55.319Z"
   },
   {
    "duration": 15,
    "start_time": "2025-03-06T15:08:55.345Z"
   },
   {
    "duration": 6,
    "start_time": "2025-03-06T15:08:55.375Z"
   },
   {
    "duration": 9,
    "start_time": "2025-03-06T15:08:55.383Z"
   },
   {
    "duration": 21,
    "start_time": "2025-03-06T15:08:55.395Z"
   },
   {
    "duration": 15,
    "start_time": "2025-03-06T15:08:55.417Z"
   },
   {
    "duration": 93,
    "start_time": "2025-03-06T15:08:55.433Z"
   },
   {
    "duration": 17,
    "start_time": "2025-03-06T15:08:55.528Z"
   },
   {
    "duration": 38,
    "start_time": "2025-03-06T15:08:55.546Z"
   },
   {
    "duration": 8,
    "start_time": "2025-03-06T15:08:55.585Z"
   },
   {
    "duration": 15,
    "start_time": "2025-03-06T15:08:55.595Z"
   },
   {
    "duration": 15,
    "start_time": "2025-03-06T15:08:55.611Z"
   },
   {
    "duration": 6,
    "start_time": "2025-03-06T15:08:55.628Z"
   },
   {
    "duration": 43,
    "start_time": "2025-03-06T15:08:55.635Z"
   },
   {
    "duration": 7,
    "start_time": "2025-03-06T15:08:55.680Z"
   },
   {
    "duration": 9,
    "start_time": "2025-03-06T15:08:55.689Z"
   },
   {
    "duration": 213,
    "start_time": "2025-03-06T15:08:55.700Z"
   },
   {
    "duration": 8,
    "start_time": "2025-03-06T15:08:55.914Z"
   },
   {
    "duration": 12,
    "start_time": "2025-03-06T15:08:55.923Z"
   },
   {
    "duration": 233,
    "start_time": "2025-03-06T15:08:55.936Z"
   },
   {
    "duration": 186,
    "start_time": "2025-03-06T15:08:56.175Z"
   },
   {
    "duration": 18,
    "start_time": "2025-03-06T15:08:56.362Z"
   },
   {
    "duration": 185,
    "start_time": "2025-03-06T15:08:56.381Z"
   },
   {
    "duration": 240,
    "start_time": "2025-03-06T15:08:56.574Z"
   },
   {
    "duration": 202,
    "start_time": "2025-03-06T15:08:56.815Z"
   },
   {
    "duration": 12,
    "start_time": "2025-03-06T15:08:57.019Z"
   },
   {
    "duration": 153,
    "start_time": "2025-03-06T15:08:57.033Z"
   },
   {
    "duration": 191,
    "start_time": "2025-03-06T15:08:57.188Z"
   },
   {
    "duration": 37,
    "start_time": "2025-03-06T15:08:57.381Z"
   },
   {
    "duration": 204,
    "start_time": "2025-03-06T15:08:57.420Z"
   },
   {
    "duration": 219,
    "start_time": "2025-03-06T15:08:57.626Z"
   },
   {
    "duration": 301,
    "start_time": "2025-03-06T15:08:57.849Z"
   },
   {
    "duration": 30,
    "start_time": "2025-03-06T15:08:58.152Z"
   },
   {
    "duration": 51,
    "start_time": "2025-03-06T15:08:58.184Z"
   },
   {
    "duration": 307,
    "start_time": "2025-03-06T15:08:58.237Z"
   },
   {
    "duration": 274,
    "start_time": "2025-03-06T15:08:58.546Z"
   },
   {
    "duration": 303,
    "start_time": "2025-03-06T15:08:58.821Z"
   },
   {
    "duration": 309,
    "start_time": "2025-03-06T15:08:59.125Z"
   },
   {
    "duration": 580,
    "start_time": "2025-03-06T15:09:59.621Z"
   },
   {
    "duration": 545,
    "start_time": "2025-03-06T15:10:04.140Z"
   },
   {
    "duration": 442,
    "start_time": "2025-03-06T15:10:15.787Z"
   },
   {
    "duration": 423,
    "start_time": "2025-03-06T15:10:18.288Z"
   },
   {
    "duration": 456,
    "start_time": "2025-03-06T15:10:26.897Z"
   },
   {
    "duration": 517,
    "start_time": "2025-03-06T15:10:40.457Z"
   },
   {
    "duration": 132,
    "start_time": "2025-03-06T15:11:22.270Z"
   },
   {
    "duration": 31,
    "start_time": "2025-03-06T15:11:25.807Z"
   },
   {
    "duration": 381,
    "start_time": "2025-03-06T15:11:31.583Z"
   },
   {
    "duration": 259,
    "start_time": "2025-03-06T15:11:39.579Z"
   },
   {
    "duration": 249,
    "start_time": "2025-03-06T15:12:26.380Z"
   }
  ],
  "colab": {
   "provenance": []
  },
  "kernelspec": {
   "display_name": "Python 3 (ipykernel)",
   "language": "python",
   "name": "python3"
  },
  "language_info": {
   "codemirror_mode": {
    "name": "ipython",
    "version": 3
   },
   "file_extension": ".py",
   "mimetype": "text/x-python",
   "name": "python",
   "nbconvert_exporter": "python",
   "pygments_lexer": "ipython3",
   "version": "3.9.7"
  },
  "toc": {
   "base_numbering": 1,
   "nav_menu": {},
   "number_sections": false,
   "sideBar": true,
   "skip_h1_title": true,
   "title_cell": "Table of Contents",
   "title_sidebar": "Contents",
   "toc_cell": false,
   "toc_position": {},
   "toc_section_display": true,
   "toc_window_display": false
  }
 },
 "nbformat": 4,
 "nbformat_minor": 5
}
