{
 "cells": [
  {
   "cell_type": "markdown",
   "id": "e06910dd",
   "metadata": {
    "id": "e06910dd"
   },
   "source": [
    "# Обзор игровой индустрии начала XXI века\n",
    "\n",
    "\n",
    "- Автор: Олеся Макарова"
   ]
  },
  {
   "cell_type": "markdown",
   "id": "4149134c",
   "metadata": {
    "id": "4149134c"
   },
   "source": [
    "### Цели и задачи проекта\n",
    "Цель проекта - изучить данные о развитии игровой индустрии с 2000 по 2013 год, структурировать информацию и  выделить наиболее популярные платформы. Для анализа будем использовать датасет `new_games.csv`, в котором содержатся истрические данные, собранные из открытых истотчников.\n"
   ]
  },
  {
   "cell_type": "markdown",
   "id": "728986ea",
   "metadata": {
    "id": "728986ea"
   },
   "source": [
    "### Описание данных\n",
    "\n",
    "Файл `new_games.csv` содержит информацию о продажах игр разных жанров и платформ, а также пользовательские и экспертные оценки игр. Описание данных:\n",
    "\n",
    "- `Name` — название игры.  \n",
    "- `Platform` — название платформы.  \n",
    "- `Year of Release` — год выпуска игры.  \n",
    "- `Genre` — жанр игры.  \n",
    "- `NA sales` — продажи в Северной Америке (в миллионах проданных копий).  \n",
    "- `EU sales` — продажи в Европе (в миллионах проданных копий).  \n",
    "- `JP sales` — продажи в Японии (в миллионах проданных копий).  \n",
    "- `Other sales` — продажи в других странах (в миллионах проданных копий).  \n",
    "- `Critic Score` — оценка критиков (от 0 до 100).  \n",
    "- `User Score` — оценка пользователей (от 0 до 10).  \n",
    "- `Rating` — рейтинг организации ESRB (*Entertainment Software Rating Board*). Эта ассоциация определяет рейтинг компьютерных игр и присваивает им подходящую возрастную категорию.\n"
   ]
  },
  {
   "cell_type": "markdown",
   "id": "4fecaf95",
   "metadata": {
    "id": "4fecaf95"
   },
   "source": [
    "### Содержимое проекта\n",
    "\n",
    "1. Загрузка данных и знакомство с ними\n",
    "2. Проверка ошибок в данных и их предобработка\n",
    "3. Фильтрация данных\n",
    "4. Категоризация данных\n",
    "5. Итоговый вывод\n",
    "\n"
   ]
  },
  {
   "cell_type": "markdown",
   "id": "6f7d21d6",
   "metadata": {
    "id": "6f7d21d6"
   },
   "source": [
    "## 1. Загрузка данных и знакомство с ними\n"
   ]
  },
  {
   "cell_type": "markdown",
   "id": "90b23822",
   "metadata": {},
   "source": [
    "- **Импортируем необходимые библиотеки**:"
   ]
  },
  {
   "cell_type": "code",
   "execution_count": 1,
   "id": "8e202612",
   "metadata": {},
   "outputs": [],
   "source": [
    "import pandas as pd\n",
    "import numpy as np"
   ]
  },
  {
   "cell_type": "markdown",
   "id": "7d4cc571",
   "metadata": {},
   "source": [
    "- **Загрузим необходимые данные из датасета `/datasets/new_games.csv`**:"
   ]
  },
  {
   "cell_type": "code",
   "execution_count": 2,
   "id": "98f63e9c",
   "metadata": {
    "scrolled": true
   },
   "outputs": [
    {
     "name": "stdout",
     "output_type": "stream",
     "text": [
      "Файл загружен с URL\n"
     ]
    }
   ],
   "source": [
    "file_path = \"/datasets/new_games.csv\"  #локальный файл\n",
    "file_url = \"https://code.s3.yandex.net/datasets/new_games.csv\"\n",
    "\n",
    "try:\n",
    "    df = pd.read_csv(file_path)  #загружаем локальный файл\n",
    "    print(\"Файл загружен локально\")\n",
    "except FileNotFoundError:\n",
    "    try:\n",
    "        df = pd.read_csv(file_url) #если локальный не загрузился то загрузим с URL\n",
    "        print(\"Файл загружен с URL\")\n",
    "    except Exception as e:\n",
    "        print(f\"Ошибка при загрузке данных: {e}\")"
   ]
  },
  {
   "cell_type": "markdown",
   "id": "c280fa56",
   "metadata": {},
   "source": [
    "- **Выведем первые 5 строк датафрейма, чтобы визуально познакомиться с датасетом**:"
   ]
  },
  {
   "cell_type": "code",
   "execution_count": 3,
   "id": "37e7b695",
   "metadata": {
    "scrolled": true
   },
   "outputs": [
    {
     "data": {
      "text/html": [
       "<div>\n",
       "<style scoped>\n",
       "    .dataframe tbody tr th:only-of-type {\n",
       "        vertical-align: middle;\n",
       "    }\n",
       "\n",
       "    .dataframe tbody tr th {\n",
       "        vertical-align: top;\n",
       "    }\n",
       "\n",
       "    .dataframe thead th {\n",
       "        text-align: right;\n",
       "    }\n",
       "</style>\n",
       "<table border=\"1\" class=\"dataframe\">\n",
       "  <thead>\n",
       "    <tr style=\"text-align: right;\">\n",
       "      <th></th>\n",
       "      <th>Name</th>\n",
       "      <th>Platform</th>\n",
       "      <th>Year of Release</th>\n",
       "      <th>Genre</th>\n",
       "      <th>NA sales</th>\n",
       "      <th>EU sales</th>\n",
       "      <th>JP sales</th>\n",
       "      <th>Other sales</th>\n",
       "      <th>Critic Score</th>\n",
       "      <th>User Score</th>\n",
       "      <th>Rating</th>\n",
       "    </tr>\n",
       "  </thead>\n",
       "  <tbody>\n",
       "    <tr>\n",
       "      <th>0</th>\n",
       "      <td>Wii Sports</td>\n",
       "      <td>Wii</td>\n",
       "      <td>2006.0</td>\n",
       "      <td>Sports</td>\n",
       "      <td>41.36</td>\n",
       "      <td>28.96</td>\n",
       "      <td>3.77</td>\n",
       "      <td>8.45</td>\n",
       "      <td>76.0</td>\n",
       "      <td>8</td>\n",
       "      <td>E</td>\n",
       "    </tr>\n",
       "    <tr>\n",
       "      <th>1</th>\n",
       "      <td>Super Mario Bros.</td>\n",
       "      <td>NES</td>\n",
       "      <td>1985.0</td>\n",
       "      <td>Platform</td>\n",
       "      <td>29.08</td>\n",
       "      <td>3.58</td>\n",
       "      <td>6.81</td>\n",
       "      <td>0.77</td>\n",
       "      <td>NaN</td>\n",
       "      <td>NaN</td>\n",
       "      <td>NaN</td>\n",
       "    </tr>\n",
       "    <tr>\n",
       "      <th>2</th>\n",
       "      <td>Mario Kart Wii</td>\n",
       "      <td>Wii</td>\n",
       "      <td>2008.0</td>\n",
       "      <td>Racing</td>\n",
       "      <td>15.68</td>\n",
       "      <td>12.76</td>\n",
       "      <td>3.79</td>\n",
       "      <td>3.29</td>\n",
       "      <td>82.0</td>\n",
       "      <td>8.3</td>\n",
       "      <td>E</td>\n",
       "    </tr>\n",
       "    <tr>\n",
       "      <th>3</th>\n",
       "      <td>Wii Sports Resort</td>\n",
       "      <td>Wii</td>\n",
       "      <td>2009.0</td>\n",
       "      <td>Sports</td>\n",
       "      <td>15.61</td>\n",
       "      <td>10.93</td>\n",
       "      <td>3.28</td>\n",
       "      <td>2.95</td>\n",
       "      <td>80.0</td>\n",
       "      <td>8</td>\n",
       "      <td>E</td>\n",
       "    </tr>\n",
       "    <tr>\n",
       "      <th>4</th>\n",
       "      <td>Pokemon Red/Pokemon Blue</td>\n",
       "      <td>GB</td>\n",
       "      <td>1996.0</td>\n",
       "      <td>Role-Playing</td>\n",
       "      <td>11.27</td>\n",
       "      <td>8.89</td>\n",
       "      <td>10.22</td>\n",
       "      <td>1.00</td>\n",
       "      <td>NaN</td>\n",
       "      <td>NaN</td>\n",
       "      <td>NaN</td>\n",
       "    </tr>\n",
       "  </tbody>\n",
       "</table>\n",
       "</div>"
      ],
      "text/plain": [
       "                       Name Platform  Year of Release         Genre  NA sales  \\\n",
       "0                Wii Sports      Wii           2006.0        Sports     41.36   \n",
       "1         Super Mario Bros.      NES           1985.0      Platform     29.08   \n",
       "2            Mario Kart Wii      Wii           2008.0        Racing     15.68   \n",
       "3         Wii Sports Resort      Wii           2009.0        Sports     15.61   \n",
       "4  Pokemon Red/Pokemon Blue       GB           1996.0  Role-Playing     11.27   \n",
       "\n",
       "  EU sales JP sales  Other sales  Critic Score User Score Rating  \n",
       "0    28.96     3.77         8.45          76.0          8      E  \n",
       "1     3.58     6.81         0.77           NaN        NaN    NaN  \n",
       "2    12.76     3.79         3.29          82.0        8.3      E  \n",
       "3    10.93     3.28         2.95          80.0          8      E  \n",
       "4     8.89    10.22         1.00           NaN        NaN    NaN  "
      ]
     },
     "execution_count": 3,
     "metadata": {},
     "output_type": "execute_result"
    }
   ],
   "source": [
    "df.head(5)"
   ]
  },
  {
   "cell_type": "markdown",
   "id": "65d7659a",
   "metadata": {},
   "source": [
    "- **Выводим на экран информацию о датасете (кол-во строк, пропусков, типы данных, вес)**:"
   ]
  },
  {
   "cell_type": "code",
   "execution_count": 4,
   "id": "81651b8d",
   "metadata": {
    "id": "81651b8d"
   },
   "outputs": [
    {
     "name": "stdout",
     "output_type": "stream",
     "text": [
      "<class 'pandas.core.frame.DataFrame'>\n",
      "RangeIndex: 16956 entries, 0 to 16955\n",
      "Data columns (total 11 columns):\n",
      " #   Column           Non-Null Count  Dtype  \n",
      "---  ------           --------------  -----  \n",
      " 0   Name             16954 non-null  object \n",
      " 1   Platform         16956 non-null  object \n",
      " 2   Year of Release  16681 non-null  float64\n",
      " 3   Genre            16954 non-null  object \n",
      " 4   NA sales         16956 non-null  float64\n",
      " 5   EU sales         16956 non-null  object \n",
      " 6   JP sales         16956 non-null  object \n",
      " 7   Other sales      16956 non-null  float64\n",
      " 8   Critic Score     8242 non-null   float64\n",
      " 9   User Score       10152 non-null  object \n",
      " 10  Rating           10085 non-null  object \n",
      "dtypes: float64(4), object(7)\n",
      "memory usage: 1.4+ MB\n"
     ]
    }
   ],
   "source": [
    "df.info()"
   ]
  },
  {
   "cell_type": "markdown",
   "id": "5d28a17b",
   "metadata": {},
   "source": [
    "Датасет `new_games.csv` содержит 11 столбцов и 16 956 строк, в которых представлена информация об играх, их рейтинге и продажах. По итогам предварительного анализа, можно отметить следующее:\n",
    "\n",
    "1. Наименования столбцов не удобны для анализа, рекомендуется привести их к стилю  snake case.\n",
    "2. Пропуски значений обнаружены в шести столбцах (`Name`,`Year of Release`,`Genre`,`Critic Score` ,  `User Score`,`Rating  `. Необходимо изучить и обработать их перед анализом.\n",
    "3. Типы данных требуют корректировки:\n",
    "  - `Year of Release` (float64 → int64) — содержит только год.\n",
    "  - `EU sales`, `JP sales`, `User Score` (object → float64) — содержат числовые значения.\n",
    "  - Остальные столбцы имеют верный тип данных.\n",
    "4. Рекомендуется провести дополнительную проверку на наличие дубликатов.\n"
   ]
  },
  {
   "cell_type": "markdown",
   "id": "774bf76e",
   "metadata": {
    "id": "774bf76e"
   },
   "source": [
    "---\n",
    "\n",
    "## 2.  Проверка ошибок в данных и их предобработка\n"
   ]
  },
  {
   "cell_type": "markdown",
   "id": "c13d7dbc",
   "metadata": {},
   "source": [
    "### 2.1. Названия столбцов датафрейма"
   ]
  },
  {
   "cell_type": "markdown",
   "id": "52bc5be2",
   "metadata": {},
   "source": [
    "- **Приведем наименования столбцов к стилю snake case**:"
   ]
  },
  {
   "cell_type": "code",
   "execution_count": 5,
   "id": "7e29ed3f",
   "metadata": {
    "scrolled": true
   },
   "outputs": [
    {
     "data": {
      "text/html": [
       "<div>\n",
       "<style scoped>\n",
       "    .dataframe tbody tr th:only-of-type {\n",
       "        vertical-align: middle;\n",
       "    }\n",
       "\n",
       "    .dataframe tbody tr th {\n",
       "        vertical-align: top;\n",
       "    }\n",
       "\n",
       "    .dataframe thead th {\n",
       "        text-align: right;\n",
       "    }\n",
       "</style>\n",
       "<table border=\"1\" class=\"dataframe\">\n",
       "  <thead>\n",
       "    <tr style=\"text-align: right;\">\n",
       "      <th></th>\n",
       "      <th>name</th>\n",
       "      <th>platform</th>\n",
       "      <th>year_of_release</th>\n",
       "      <th>genre</th>\n",
       "      <th>na_sales</th>\n",
       "      <th>eu_sales</th>\n",
       "      <th>jp_sales</th>\n",
       "      <th>other_sales</th>\n",
       "      <th>critic_score</th>\n",
       "      <th>user_score</th>\n",
       "      <th>rating</th>\n",
       "    </tr>\n",
       "  </thead>\n",
       "  <tbody>\n",
       "    <tr>\n",
       "      <th>0</th>\n",
       "      <td>Wii Sports</td>\n",
       "      <td>Wii</td>\n",
       "      <td>2006.0</td>\n",
       "      <td>Sports</td>\n",
       "      <td>41.36</td>\n",
       "      <td>28.96</td>\n",
       "      <td>3.77</td>\n",
       "      <td>8.45</td>\n",
       "      <td>76.0</td>\n",
       "      <td>8</td>\n",
       "      <td>E</td>\n",
       "    </tr>\n",
       "  </tbody>\n",
       "</table>\n",
       "</div>"
      ],
      "text/plain": [
       "         name platform  year_of_release   genre  na_sales eu_sales jp_sales  \\\n",
       "0  Wii Sports      Wii           2006.0  Sports     41.36    28.96     3.77   \n",
       "\n",
       "   other_sales  critic_score user_score rating  \n",
       "0         8.45          76.0          8      E  "
      ]
     },
     "execution_count": 5,
     "metadata": {},
     "output_type": "execute_result"
    }
   ],
   "source": [
    "df.columns = df.columns.str.replace(' ', '_').str.lower()\n",
    "df.columns = df.columns.str.strip()\n",
    "\n",
    "df.head(1)"
   ]
  },
  {
   "cell_type": "markdown",
   "id": "41bc6bf8",
   "metadata": {
    "id": "41bc6bf8"
   },
   "source": [
    "### 2.2. Типы данных\n",
    "\n",
    "\n",
    "**Изучим типы данных и их корректность**: в датасете представлено четыре столбца с типом данных `float64` и семь столбцов с типом данных `object`, однако не для всех столбцов типы данных определены корректно, это может объясняться наличием пропусков или текстовых значений в этих столбцах. \n",
    "\n",
    "Рассмотрим более подробно:\n",
    "- `name` - содержит строковую информацию в виде названия игры, что логично для текстовых данных. Здесь тип данных `object` подходит.\n",
    "- `platform`-  содержит строковую информацию в виде названия игры. Тип данных `object` установлен верно.\n",
    "- `year_of_release` - определен как `float64` но хранит в себе информацию о годе выхода игры. Так как данные содержат год (целое число), рекомендуется изменить тип данных на `int64`, предварительно удалив или преобразовав пропуски в этом столбце.\n",
    "- `genre` - содержит строковую информацию в виде названия жанра. Тип данных `object` установлен верно.\n",
    "- `na_sales` - определен как `float64` это верное решение так как данные о продажах могут содержать дробные значения.\n",
    "- `eu_sales` и `jp_sales` - определены как `object` но содержат данные о продажах - числовую информацию в виде дробных чисел. Рекомендуется изменить тип данных на `float64`.\n",
    "- `other_sales` и `critic_score` - содержат числовую информацию в виде дробных чисел, что соответствует типу данных  `float64` - тип данных определен верно. \n",
    "- `user_score` - содержит числовую информацию в виде дробных чисел но определены как `object`, что не соотвтетствует содержанию этого стобца. Рекомендуется изменить тип данных на `float64`.\n",
    "- `rating` - содержит строковую информацию - букву рейтинга. Тип данных `object` установлен верно.\n"
   ]
  },
  {
   "cell_type": "markdown",
   "id": "1f42d6c5",
   "metadata": {},
   "source": [
    "- **Заменим на `float64` все текстовые значения и символы в колонках с числовыми данными и заменим их на NaN**:"
   ]
  },
  {
   "cell_type": "code",
   "execution_count": 6,
   "id": "d6fcf3b4",
   "metadata": {},
   "outputs": [
    {
     "name": "stdout",
     "output_type": "stream",
     "text": [
      "<class 'pandas.core.frame.DataFrame'>\n",
      "RangeIndex: 16956 entries, 0 to 16955\n",
      "Data columns (total 11 columns):\n",
      " #   Column           Non-Null Count  Dtype  \n",
      "---  ------           --------------  -----  \n",
      " 0   name             16954 non-null  object \n",
      " 1   platform         16956 non-null  object \n",
      " 2   year_of_release  16681 non-null  float64\n",
      " 3   genre            16954 non-null  object \n",
      " 4   na_sales         16956 non-null  float64\n",
      " 5   eu_sales         16956 non-null  object \n",
      " 6   jp_sales         16956 non-null  object \n",
      " 7   other_sales      16956 non-null  float64\n",
      " 8   critic_score     8242 non-null   float64\n",
      " 9   user_score       10152 non-null  object \n",
      " 10  rating           10085 non-null  object \n",
      "dtypes: float64(4), object(7)\n",
      "memory usage: 1.4+ MB\n"
     ]
    }
   ],
   "source": [
    "numeric_columns = df.select_dtypes(include=['number']).columns   #получаем список числовых столбцов\n",
    "df[numeric_columns] = df[numeric_columns].apply(pd.to_numeric, errors='coerce')  #преобразуем числовые столбцы в числовой тип (float64), заменяя ошибки на NaN\n",
    "\n",
    "df.info()"
   ]
  },
  {
   "cell_type": "markdown",
   "id": "7dad43a4",
   "metadata": {},
   "source": [
    "- **Заменим тип данных в `year_of_release` на `int64`**:"
   ]
  },
  {
   "cell_type": "code",
   "execution_count": 7,
   "id": "8adaac81",
   "metadata": {
    "id": "8adaac81"
   },
   "outputs": [
    {
     "name": "stdout",
     "output_type": "stream",
     "text": [
      "<class 'pandas.core.frame.DataFrame'>\n",
      "RangeIndex: 16956 entries, 0 to 16955\n",
      "Data columns (total 11 columns):\n",
      " #   Column           Non-Null Count  Dtype  \n",
      "---  ------           --------------  -----  \n",
      " 0   name             16954 non-null  object \n",
      " 1   platform         16956 non-null  object \n",
      " 2   year_of_release  16681 non-null  Int64  \n",
      " 3   genre            16954 non-null  object \n",
      " 4   na_sales         16956 non-null  float64\n",
      " 5   eu_sales         16956 non-null  object \n",
      " 6   jp_sales         16956 non-null  object \n",
      " 7   other_sales      16956 non-null  float64\n",
      " 8   critic_score     8242 non-null   float64\n",
      " 9   user_score       10152 non-null  object \n",
      " 10  rating           10085 non-null  object \n",
      "dtypes: Int64(1), float64(3), object(7)\n",
      "memory usage: 1.4+ MB\n"
     ]
    }
   ],
   "source": [
    "for column in ['year_of_release']:\n",
    "    df[column] = df[column].astype('Int64')  \n",
    "    \n",
    "df.info()    \n"
   ]
  },
  {
   "cell_type": "markdown",
   "id": "8df95173",
   "metadata": {
    "id": "e8412c01"
   },
   "source": [
    "- **Заменим тип данных в `eu_sales`,  `jp_sales`,  `user_score` на `float64`**:"
   ]
  },
  {
   "cell_type": "code",
   "execution_count": 8,
   "id": "9e53cff4",
   "metadata": {
    "id": "9e53cff4",
    "scrolled": true
   },
   "outputs": [
    {
     "name": "stdout",
     "output_type": "stream",
     "text": [
      "<class 'pandas.core.frame.DataFrame'>\n",
      "RangeIndex: 16956 entries, 0 to 16955\n",
      "Data columns (total 11 columns):\n",
      " #   Column           Non-Null Count  Dtype  \n",
      "---  ------           --------------  -----  \n",
      " 0   name             16954 non-null  object \n",
      " 1   platform         16956 non-null  object \n",
      " 2   year_of_release  16681 non-null  Int64  \n",
      " 3   genre            16954 non-null  object \n",
      " 4   na_sales         16956 non-null  float64\n",
      " 5   eu_sales         16950 non-null  float64\n",
      " 6   jp_sales         16952 non-null  float64\n",
      " 7   other_sales      16956 non-null  float64\n",
      " 8   critic_score     8242 non-null   float64\n",
      " 9   user_score       7688 non-null   float64\n",
      " 10  rating           10085 non-null  object \n",
      "dtypes: Int64(1), float64(6), object(4)\n",
      "memory usage: 1.4+ MB\n"
     ]
    }
   ],
   "source": [
    "columns_to_convert = ['eu_sales', 'jp_sales', 'user_score']\n",
    "df[columns_to_convert] = df[columns_to_convert].apply(pd.to_numeric, errors='coerce').astype('float64') #заменим все текстовые значения и символы на NaN.\n",
    "\n",
    "#проверим все ли колокни приведены к соответствущим типам данных\n",
    "df.info()"
   ]
  },
  {
   "cell_type": "markdown",
   "id": "b39893cb",
   "metadata": {
    "id": "b39893cb"
   },
   "source": [
    "### 2.3. Наличие пропусков в данных\n"
   ]
  },
  {
   "cell_type": "markdown",
   "id": "d296711a",
   "metadata": {},
   "source": [
    "- **Найдем пропущенные значения и посчитаем долю пропусков в каждой колонке от общего количества**:"
   ]
  },
  {
   "cell_type": "code",
   "execution_count": 9,
   "id": "27ac4869",
   "metadata": {},
   "outputs": [
    {
     "data": {
      "text/plain": [
       "user_score         9268\n",
       "critic_score       8714\n",
       "rating             6871\n",
       "year_of_release     275\n",
       "eu_sales              6\n",
       "jp_sales              4\n",
       "name                  2\n",
       "genre                 2\n",
       "platform              0\n",
       "na_sales              0\n",
       "other_sales           0\n",
       "dtype: int64"
      ]
     },
     "execution_count": 9,
     "metadata": {},
     "output_type": "execute_result"
    }
   ],
   "source": [
    "df.isna().sum().sort_values(ascending=False) #считаем сумму пропусков  "
   ]
  },
  {
   "cell_type": "code",
   "execution_count": 10,
   "id": "3076fbac",
   "metadata": {},
   "outputs": [
    {
     "data": {
      "text/plain": [
       "user_score         54.66\n",
       "critic_score       51.39\n",
       "rating             40.52\n",
       "year_of_release     1.62\n",
       "eu_sales            0.04\n",
       "jp_sales            0.02\n",
       "name                0.01\n",
       "genre               0.01\n",
       "platform            0.00\n",
       "na_sales            0.00\n",
       "other_sales         0.00\n",
       "dtype: float64"
      ]
     },
     "execution_count": 10,
     "metadata": {},
     "output_type": "execute_result"
    }
   ],
   "source": [
    "(df.isna().sum().sort_values(ascending=False) / len(df) * 100).round(2) #считаем доли "
   ]
  },
  {
   "cell_type": "markdown",
   "id": "96c88236",
   "metadata": {},
   "source": [
    "**В данных наблюдаются пропуски в восьми столбцах:**\n",
    "\n",
    "- `user_score`: в 9268 строках (54.66% данных) отсутствует информация об оценке пользователей. Аналогично critic_score, не все игры могли получить пользовательские оценки. Можно заменить на медиану по жанру.\n",
    "- `critic_score`: в 8714 строках (51.39% данных) отсутствуют данные об оценке критиков. Вероятно, не все игры, особенно старые, оценивались критиками. Можно заменить на медиану по жанру.\n",
    "- `rating`: в 6871 строках (40.52% данных) отсутствует информация о рейтинге ESRB. Возможно, некоторые игры не получили ESRB-рейтинг. Можно заменить на «no rating».\n",
    "- `year_of_release`: в 275 строках (1.62% данных) отсутствует информация о годе выхода игры. Пропуски могли возникнуть из-за ошибок при сборе данных или из-за отсутствия информации о годе выхода некоторых. Т.к. количество пропусков маленькое, это не сильно повлияет на данные.\n",
    "- `eu_sales` - в 6 строках (0.04% данных) отсутствуют данные о продажах игр в Европе. Процент пропусков незначителен, можно заменить на среднее значение в зависимости от названия платформы и года выхода игры.\n",
    "- `jp_sales` - в 4 строках (0.02% данных) отсутствуют данные о продажах игр в Японии. Процент пропусков незначителен, можно заменить на среднее значение в зависимости от названия платформы и года выхода игры.\n",
    "- `name`: в 2 строках (0.01% данных) отсутствует информация о названии игры. Отсутствие названия делает строку бесполезной, процент пропусков незначителен - такие записи можно удалить.\n",
    "- `genre` - в 2 строках (0.01% данных) отсутствует информация о названии жанра игры. Аналогично name - процент пропусков незначителен - такие записи можно удалить."
   ]
  },
  {
   "cell_type": "markdown",
   "id": "1c90af34",
   "metadata": {
    "id": "b6965b19"
   },
   "source": [
    "- **Удалим пропуски в столбцах `name` и `genre`:**"
   ]
  },
  {
   "cell_type": "code",
   "execution_count": 11,
   "id": "cc2d1374",
   "metadata": {
    "id": "cc2d1374"
   },
   "outputs": [],
   "source": [
    "df = df.dropna(subset=['name', 'genre'])\n"
   ]
  },
  {
   "cell_type": "markdown",
   "id": "1fa71332",
   "metadata": {},
   "source": [
    "- **Проверим колонку `eu_sales`на корректность данных:**"
   ]
  },
  {
   "cell_type": "code",
   "execution_count": 12,
   "id": "a360cead",
   "metadata": {},
   "outputs": [
    {
     "name": "stdout",
     "output_type": "stream",
     "text": [
      "[2.896e+01 3.580e+00 1.276e+01 1.093e+01 8.890e+00 2.260e+00 9.140e+00\n",
      " 9.180e+00 6.940e+00 6.300e-01 1.095e+01 7.470e+00 6.180e+00 8.030e+00\n",
      " 4.890e+00 8.490e+00 9.090e+00 4.000e-01 3.750e+00 9.200e+00 4.460e+00\n",
      " 2.710e+00 3.440e+00 5.140e+00 5.490e+00 3.900e+00 5.350e+00 3.170e+00\n",
      " 5.090e+00 4.240e+00 5.040e+00 5.860e+00 3.680e+00 4.190e+00 5.730e+00\n",
      " 3.590e+00 4.510e+00 2.550e+00 4.020e+00 4.370e+00 6.310e+00 3.450e+00\n",
      " 2.810e+00 2.850e+00 3.490e+00 1.000e-02 3.350e+00 2.040e+00 3.070e+00\n",
      " 3.870e+00 3.000e+00 4.820e+00 3.640e+00 2.150e+00 3.690e+00 2.650e+00\n",
      " 2.560e+00 3.110e+00 3.140e+00 1.940e+00 1.950e+00 2.470e+00 2.280e+00\n",
      " 3.420e+00 3.630e+00 2.360e+00 1.710e+00 1.850e+00 2.790e+00 1.240e+00\n",
      " 6.120e+00 1.530e+00 3.470e+00 2.240e+00 5.010e+00 2.010e+00 1.720e+00\n",
      " 2.070e+00 6.420e+00 3.860e+00 4.500e-01 3.480e+00 1.890e+00 5.750e+00\n",
      " 2.170e+00 1.370e+00 2.350e+00 1.180e+00 2.110e+00 1.880e+00 2.830e+00\n",
      " 2.990e+00 2.890e+00 3.270e+00 2.220e+00 2.140e+00 1.450e+00 1.750e+00\n",
      " 1.040e+00 1.770e+00 3.020e+00 2.750e+00 2.160e+00 1.900e+00 2.590e+00\n",
      " 2.200e+00 4.300e+00 9.300e-01 2.530e+00 2.520e+00 1.790e+00 1.300e+00\n",
      " 2.600e+00 1.580e+00 1.200e+00 1.560e+00 1.340e+00 1.260e+00 8.300e-01\n",
      " 6.210e+00 2.800e+00 1.590e+00 1.730e+00 4.330e+00 1.830e+00 0.000e+00\n",
      " 2.180e+00 1.980e+00 1.470e+00 6.700e-01 1.550e+00 1.910e+00 6.900e-01\n",
      " 6.000e-01 1.930e+00 1.640e+00 5.500e-01 2.190e+00 1.110e+00 2.290e+00\n",
      " 2.500e+00 9.600e-01 1.210e+00 1.120e+00 7.700e-01 1.690e+00 1.080e+00\n",
      " 7.900e-01 2.370e+00 2.460e+00 2.600e-01 7.500e-01 1.250e+00 2.430e+00\n",
      " 9.800e-01 7.400e-01 2.230e+00 6.100e-01 2.450e+00 1.410e+00 1.800e+00\n",
      " 3.280e+00 1.160e+00 1.990e+00 1.380e+00 1.360e+00 1.170e+00 1.190e+00\n",
      " 9.900e-01 1.680e+00 2.000e+00 1.330e+00 1.570e+00 1.480e+00 2.100e+00\n",
      " 1.270e+00 1.970e+00 9.100e-01 1.390e+00 1.960e+00 2.400e-01 1.510e+00\n",
      " 1.400e-01 1.290e+00 2.390e+00 1.030e+00 5.000e-01 5.800e-01 1.310e+00\n",
      " 2.020e+00 1.320e+00 1.010e+00 2.270e+00 2.300e+00 1.820e+00 2.780e+00\n",
      " 4.400e-01 4.800e-01 2.700e-01 2.100e-01 2.480e+00 5.100e-01 1.520e+00\n",
      " 4.000e-02 2.800e-01 1.350e+00 8.700e-01 2.130e+00 1.130e+00 1.760e+00\n",
      " 7.600e-01 2.120e+00 6.600e-01 1.600e+00 1.440e+00 1.430e+00 1.700e+00\n",
      " 4.700e-01 1.870e+00 8.600e-01 7.300e-01 1.280e+00 8.100e-01 1.090e+00\n",
      " 6.800e-01 1.220e+00 1.400e+00 1.020e+00 1.490e+00 1.140e+00 4.900e-01\n",
      " 9.000e-01 3.800e-01 1.420e+00 9.500e-01 1.620e+00 7.100e-01 1.050e+00\n",
      " 9.200e-01 3.300e-01 3.000e-01 1.670e+00 1.000e+00 8.900e-01 1.000e-01\n",
      " 7.200e-01 5.900e-01 5.600e-01 1.600e-01 9.700e-01 6.200e-01       nan\n",
      " 8.500e-01 9.400e-01 8.800e-01 8.400e-01 1.060e+00 2.000e-01 1.150e+00\n",
      " 8.000e-01 1.100e+00 7.000e-01 1.920e+00 3.200e-01 1.500e-01 5.300e-01\n",
      " 9.000e-02 1.460e+00 2.900e-01 2.200e-01 1.230e+00 7.000e-02 1.700e-01\n",
      " 5.400e-01 3.600e-01 3.100e-01 1.840e+00 5.200e-01 1.100e-01 6.400e-01\n",
      " 1.200e-01 2.050e+00 1.630e+00 8.200e-01 8.000e-02 5.700e-01 1.650e+00\n",
      " 1.900e-01 2.000e-02 4.300e-01 2.500e-01 1.500e+00 1.800e-01 3.900e-01\n",
      " 1.300e-01 1.070e+00 4.600e-01 4.100e-01 6.000e-02 3.000e-02 3.700e-01\n",
      " 5.000e-02 2.300e-01 6.500e-01 4.200e-01 3.400e-01 3.500e-01 7.800e-01]\n"
     ]
    }
   ],
   "source": [
    "print(df['eu_sales'].unique())"
   ]
  },
  {
   "cell_type": "markdown",
   "id": "c82c8b4f",
   "metadata": {},
   "source": [
    "- **Проверим колонку `jp_sales`на корректность данных:**"
   ]
  },
  {
   "cell_type": "code",
   "execution_count": 13,
   "id": "013b269e",
   "metadata": {},
   "outputs": [
    {
     "name": "stdout",
     "output_type": "stream",
     "text": [
      "[3.770e+00 6.810e+00 3.790e+00 3.280e+00 1.022e+01 4.220e+00 6.500e+00\n",
      " 2.930e+00 4.700e+00 2.800e-01 1.930e+00 4.130e+00 7.200e+00 3.600e+00\n",
      " 2.400e-01 2.530e+00 9.800e-01 4.100e-01 3.540e+00 4.160e+00 6.040e+00\n",
      " 4.180e+00 3.840e+00 6.000e-02 4.700e-01 5.380e+00 5.320e+00 5.650e+00\n",
      " 1.870e+00 1.300e-01 3.120e+00 3.600e-01 1.100e-01 4.350e+00 6.500e-01\n",
      " 7.000e-02 8.000e-02 4.900e-01 3.000e-01 2.660e+00 2.690e+00 4.800e-01\n",
      " 3.800e-01 5.330e+00 1.910e+00 3.960e+00 3.100e+00 1.100e+00 1.200e+00\n",
      " 1.400e-01 2.540e+00 2.140e+00 8.100e-01 2.120e+00 4.400e-01 3.150e+00\n",
      " 1.250e+00 4.000e-02 0.000e+00 2.470e+00 2.230e+00 1.690e+00 1.000e-02\n",
      " 3.000e+00 2.000e-02 4.390e+00 1.980e+00 1.000e-01 3.810e+00 5.000e-02\n",
      " 2.490e+00 1.580e+00 3.140e+00 2.730e+00 6.600e-01 2.200e-01 3.630e+00\n",
      " 1.450e+00 1.310e+00 2.430e+00 7.000e-01 3.500e-01 1.400e+00 6.000e-01\n",
      " 2.260e+00 1.420e+00 1.280e+00 1.390e+00 8.700e-01 1.700e-01 9.400e-01\n",
      " 1.900e-01 2.100e-01 1.600e+00 1.600e-01 1.030e+00 2.500e-01 2.060e+00\n",
      " 1.490e+00 1.290e+00 9.000e-02 2.870e+00 3.000e-02 7.800e-01 8.300e-01\n",
      " 2.330e+00 2.020e+00 1.360e+00 1.810e+00 1.970e+00 9.100e-01 9.900e-01\n",
      " 9.500e-01 2.000e+00 1.010e+00 2.780e+00 2.110e+00 1.090e+00 2.000e-01\n",
      " 1.900e+00 1.270e+00 3.610e+00 1.570e+00 2.200e+00 1.700e+00 1.080e+00\n",
      " 1.500e-01 1.110e+00 2.900e-01 1.540e+00 1.200e-01 8.900e-01 4.870e+00\n",
      " 1.520e+00 1.320e+00 1.150e+00 4.100e+00 1.460e+00 4.600e-01 1.050e+00\n",
      " 1.610e+00 2.600e-01 1.380e+00 6.200e-01 7.300e-01 5.700e-01 3.100e-01\n",
      " 5.800e-01 1.760e+00 2.100e+00 9.000e-01 5.100e-01 6.400e-01 2.460e+00\n",
      " 2.300e-01 3.700e-01 9.200e-01 1.070e+00 2.620e+00 1.120e+00 5.400e-01\n",
      " 2.700e-01 5.900e-01 3.670e+00 5.500e-01 1.750e+00 3.440e+00 3.300e-01\n",
      " 2.550e+00 2.320e+00 2.790e+00 7.400e-01 3.180e+00 8.200e-01 7.700e-01\n",
      " 4.000e-01 2.350e+00 3.190e+00 8.000e-01 7.600e-01 3.030e+00 8.800e-01\n",
      "       nan 4.500e-01 1.160e+00 3.400e-01 1.190e+00 1.130e+00 2.130e+00\n",
      " 1.960e+00 7.100e-01 1.040e+00 2.680e+00 6.800e-01 2.650e+00 9.600e-01\n",
      " 2.410e+00 5.200e-01 1.800e-01 1.340e+00 1.480e+00 2.340e+00 1.060e+00\n",
      " 1.210e+00 2.290e+00 1.630e+00 2.050e+00 2.170e+00 1.560e+00 1.350e+00\n",
      " 1.330e+00 6.300e-01 7.900e-01 7.500e-01 5.300e-01 1.530e+00 1.300e+00\n",
      " 3.900e-01 6.900e-01 4.200e-01 9.300e-01 5.600e-01 8.400e-01 7.200e-01\n",
      " 3.200e-01 1.710e+00 1.650e+00 6.100e-01 1.510e+00 1.500e+00 1.440e+00\n",
      " 1.240e+00 1.180e+00 1.370e+00 1.000e+00 1.260e+00 8.500e-01 4.300e-01\n",
      " 6.700e-01 1.140e+00 8.600e-01 1.170e+00 5.000e-01 1.020e+00 9.700e-01]\n"
     ]
    }
   ],
   "source": [
    "print(df['jp_sales'].unique())"
   ]
  },
  {
   "cell_type": "markdown",
   "id": "27dbdebf",
   "metadata": {
    "id": "154be65d"
   },
   "source": [
    "- **Заменим пропуски в колонках `eu_sales` и `jp_sales` на среднее значение в зависимости от названия платформы и года выхода игры:**"
   ]
  },
  {
   "cell_type": "code",
   "execution_count": 14,
   "id": "3f42817b",
   "metadata": {
    "id": "3f42817b"
   },
   "outputs": [],
   "source": [
    "#групприруем по платформе и году выхода, находим среднее для столбцов внутри групп\n",
    "mean_sales = df.groupby(['platform','year_of_release'])[['eu_sales','jp_sales']].transform('mean')\n",
    "\n",
    "#заменяем пропуски на среднее\n",
    "df[['eu_sales','jp_sales']] = df[['eu_sales','jp_sales']].fillna(mean_sales)\n"
   ]
  },
  {
   "cell_type": "markdown",
   "id": "89e08337",
   "metadata": {
    "id": "2784c760"
   },
   "source": [
    "- **Удалим пропуски в колонке `year_of_release`:**"
   ]
  },
  {
   "cell_type": "code",
   "execution_count": 15,
   "id": "40a2df08",
   "metadata": {},
   "outputs": [],
   "source": [
    "df = df.dropna(subset=['year_of_release'])"
   ]
  },
  {
   "cell_type": "markdown",
   "id": "647db724",
   "metadata": {},
   "source": [
    "- **Заменим пропуски в колонке `rating` на индикатор «no rating»:**"
   ]
  },
  {
   "cell_type": "code",
   "execution_count": 16,
   "id": "f2723451",
   "metadata": {},
   "outputs": [],
   "source": [
    "df['rating'] = df['rating'].fillna('no rating')\n"
   ]
  },
  {
   "cell_type": "markdown",
   "id": "30a98935",
   "metadata": {},
   "source": [
    "- **Заменим пропуски в колонках `user_score` и `critic_score` на медиану по жанру:**"
   ]
  },
  {
   "cell_type": "code",
   "execution_count": 17,
   "id": "f7830d38",
   "metadata": {
    "scrolled": true
   },
   "outputs": [
    {
     "data": {
      "text/plain": [
       "name               0\n",
       "platform           0\n",
       "year_of_release    0\n",
       "genre              0\n",
       "na_sales           0\n",
       "eu_sales           0\n",
       "jp_sales           0\n",
       "other_sales        0\n",
       "critic_score       5\n",
       "user_score         8\n",
       "rating             0\n",
       "dtype: int64"
      ]
     },
     "execution_count": 17,
     "metadata": {},
     "output_type": "execute_result"
    }
   ],
   "source": [
    "df.loc[df['critic_score'].isna(), 'critic_score'] = df.groupby(['genre'])['critic_score'].transform('median')\n",
    "df.loc[df['user_score'].isna(), 'user_score'] = df.groupby(['genre'])['user_score'].transform('median')\n",
    "\n",
    "#проверим все ли пропуски обработались\n",
    "df.isna().sum()"
   ]
  },
  {
   "cell_type": "markdown",
   "id": "fcce459d",
   "metadata": {},
   "source": [
    "- **В колонках  `user_score` и `critic_score` остались пропуски. Так как их количество незначительно, оставим как есть**"
   ]
  },
  {
   "cell_type": "code",
   "execution_count": 18,
   "id": "6df6ec2d",
   "metadata": {},
   "outputs": [
    {
     "data": {
      "text/html": [
       "<div>\n",
       "<style scoped>\n",
       "    .dataframe tbody tr th:only-of-type {\n",
       "        vertical-align: middle;\n",
       "    }\n",
       "\n",
       "    .dataframe tbody tr th {\n",
       "        vertical-align: top;\n",
       "    }\n",
       "\n",
       "    .dataframe thead th {\n",
       "        text-align: right;\n",
       "    }\n",
       "</style>\n",
       "<table border=\"1\" class=\"dataframe\">\n",
       "  <thead>\n",
       "    <tr style=\"text-align: right;\">\n",
       "      <th></th>\n",
       "      <th>name</th>\n",
       "      <th>platform</th>\n",
       "      <th>year_of_release</th>\n",
       "      <th>genre</th>\n",
       "      <th>na_sales</th>\n",
       "      <th>eu_sales</th>\n",
       "      <th>jp_sales</th>\n",
       "      <th>other_sales</th>\n",
       "      <th>critic_score</th>\n",
       "      <th>user_score</th>\n",
       "      <th>rating</th>\n",
       "    </tr>\n",
       "  </thead>\n",
       "  <tbody>\n",
       "    <tr>\n",
       "      <th>822</th>\n",
       "      <td>Wipeout: The Game</td>\n",
       "      <td>Wii</td>\n",
       "      <td>2009</td>\n",
       "      <td>MISC</td>\n",
       "      <td>1.94</td>\n",
       "      <td>0.00</td>\n",
       "      <td>0.00</td>\n",
       "      <td>0.12</td>\n",
       "      <td>49.0</td>\n",
       "      <td>NaN</td>\n",
       "      <td>no rating</td>\n",
       "    </tr>\n",
       "    <tr>\n",
       "      <th>5236</th>\n",
       "      <td>999: Nine Hours, Nine Persons, Nine Doors</td>\n",
       "      <td>DS</td>\n",
       "      <td>2009</td>\n",
       "      <td>ADVENTURE</td>\n",
       "      <td>0.31</td>\n",
       "      <td>0.00</td>\n",
       "      <td>0.03</td>\n",
       "      <td>0.02</td>\n",
       "      <td>NaN</td>\n",
       "      <td>NaN</td>\n",
       "      <td>no rating</td>\n",
       "    </tr>\n",
       "    <tr>\n",
       "      <th>6596</th>\n",
       "      <td>Scene It? Twilight</td>\n",
       "      <td>Wii</td>\n",
       "      <td>2009</td>\n",
       "      <td>MISC</td>\n",
       "      <td>0.16</td>\n",
       "      <td>0.07</td>\n",
       "      <td>0.00</td>\n",
       "      <td>0.02</td>\n",
       "      <td>49.0</td>\n",
       "      <td>NaN</td>\n",
       "      <td>T</td>\n",
       "    </tr>\n",
       "    <tr>\n",
       "      <th>12871</th>\n",
       "      <td>Brain Quest: Grades 3 &amp; 4</td>\n",
       "      <td>DS</td>\n",
       "      <td>2008</td>\n",
       "      <td>MISC</td>\n",
       "      <td>0.05</td>\n",
       "      <td>0.00</td>\n",
       "      <td>0.00</td>\n",
       "      <td>0.00</td>\n",
       "      <td>49.0</td>\n",
       "      <td>NaN</td>\n",
       "      <td>no rating</td>\n",
       "    </tr>\n",
       "    <tr>\n",
       "      <th>14292</th>\n",
       "      <td>World in Conflict: Complete Edition</td>\n",
       "      <td>PC</td>\n",
       "      <td>2009</td>\n",
       "      <td>STRATEGY</td>\n",
       "      <td>0.00</td>\n",
       "      <td>0.03</td>\n",
       "      <td>0.00</td>\n",
       "      <td>0.01</td>\n",
       "      <td>NaN</td>\n",
       "      <td>NaN</td>\n",
       "      <td>T</td>\n",
       "    </tr>\n",
       "    <tr>\n",
       "      <th>14398</th>\n",
       "      <td>Simple DS Series Vol. 8: The Kanshikikan - Kin...</td>\n",
       "      <td>DS</td>\n",
       "      <td>2006</td>\n",
       "      <td>ADVENTURE</td>\n",
       "      <td>0.00</td>\n",
       "      <td>0.00</td>\n",
       "      <td>0.03</td>\n",
       "      <td>0.00</td>\n",
       "      <td>NaN</td>\n",
       "      <td>NaN</td>\n",
       "      <td>no rating</td>\n",
       "    </tr>\n",
       "    <tr>\n",
       "      <th>15439</th>\n",
       "      <td>Captain Morgane and the Golden Turtle</td>\n",
       "      <td>PS3</td>\n",
       "      <td>2012</td>\n",
       "      <td>ADVENTURE</td>\n",
       "      <td>0.00</td>\n",
       "      <td>0.02</td>\n",
       "      <td>0.00</td>\n",
       "      <td>0.00</td>\n",
       "      <td>NaN</td>\n",
       "      <td>NaN</td>\n",
       "      <td>no rating</td>\n",
       "    </tr>\n",
       "    <tr>\n",
       "      <th>16753</th>\n",
       "      <td>Routes PE</td>\n",
       "      <td>PS2</td>\n",
       "      <td>2007</td>\n",
       "      <td>ADVENTURE</td>\n",
       "      <td>0.00</td>\n",
       "      <td>0.00</td>\n",
       "      <td>0.01</td>\n",
       "      <td>0.00</td>\n",
       "      <td>NaN</td>\n",
       "      <td>NaN</td>\n",
       "      <td>no rating</td>\n",
       "    </tr>\n",
       "  </tbody>\n",
       "</table>\n",
       "</div>"
      ],
      "text/plain": [
       "                                                    name platform  \\\n",
       "822                                    Wipeout: The Game      Wii   \n",
       "5236           999: Nine Hours, Nine Persons, Nine Doors       DS   \n",
       "6596                                  Scene It? Twilight      Wii   \n",
       "12871                          Brain Quest: Grades 3 & 4       DS   \n",
       "14292                World in Conflict: Complete Edition       PC   \n",
       "14398  Simple DS Series Vol. 8: The Kanshikikan - Kin...       DS   \n",
       "15439              Captain Morgane and the Golden Turtle      PS3   \n",
       "16753                                          Routes PE      PS2   \n",
       "\n",
       "       year_of_release      genre  na_sales  eu_sales  jp_sales  other_sales  \\\n",
       "822               2009       MISC      1.94      0.00      0.00         0.12   \n",
       "5236              2009  ADVENTURE      0.31      0.00      0.03         0.02   \n",
       "6596              2009       MISC      0.16      0.07      0.00         0.02   \n",
       "12871             2008       MISC      0.05      0.00      0.00         0.00   \n",
       "14292             2009   STRATEGY      0.00      0.03      0.00         0.01   \n",
       "14398             2006  ADVENTURE      0.00      0.00      0.03         0.00   \n",
       "15439             2012  ADVENTURE      0.00      0.02      0.00         0.00   \n",
       "16753             2007  ADVENTURE      0.00      0.00      0.01         0.00   \n",
       "\n",
       "       critic_score  user_score     rating  \n",
       "822            49.0         NaN  no rating  \n",
       "5236            NaN         NaN  no rating  \n",
       "6596           49.0         NaN          T  \n",
       "12871          49.0         NaN  no rating  \n",
       "14292           NaN         NaN          T  \n",
       "14398           NaN         NaN  no rating  \n",
       "15439           NaN         NaN  no rating  \n",
       "16753           NaN         NaN  no rating  "
      ]
     },
     "execution_count": 18,
     "metadata": {},
     "output_type": "execute_result"
    }
   ],
   "source": [
    "df[df['critic_score'].isna()]\n",
    "df[df['user_score'].isna()]   "
   ]
  },
  {
   "cell_type": "markdown",
   "id": "a63363fd",
   "metadata": {
    "id": "a63363fd"
   },
   "source": [
    "### 2.4. Явные и неявные дубликаты в данных\n"
   ]
  },
  {
   "cell_type": "markdown",
   "id": "3dba3fdc",
   "metadata": {},
   "source": [
    "  - **Посчитаем общее количество строк и количество уникальных по столбцам с текстовыми и категориальными значениями:**"
   ]
  },
  {
   "cell_type": "code",
   "execution_count": 19,
   "id": "e8593803",
   "metadata": {},
   "outputs": [
    {
     "name": "stdout",
     "output_type": "stream",
     "text": [
      "Всего строк в датафрейме:16679\n",
      "Уникальных по столбцу name: 11426\n",
      "Уникальных по столбцу platform: 31\n",
      "Уникальных по столбцу genre: 24\n",
      "Уникальных по столбцу rating: 9\n",
      "Уникальных по столбцу year_of_release: 37\n"
     ]
    }
   ],
   "source": [
    "unique_name = df['name'].nunique()\n",
    "unique_platform = df['platform'].nunique()\n",
    "unique_genre = df['genre'].nunique()\n",
    "unique_rating = df['rating'].nunique()\n",
    "unique_year_of_release = df['year_of_release'].nunique()\n",
    "\n",
    "total_rows = len(df)\n",
    "\n",
    "print(f'Всего строк в датафрейме:{total_rows}')\n",
    "\n",
    "print(f'Уникальных по столбцу name: {unique_name}')\n",
    "print(f'Уникальных по столбцу platform: {unique_platform}')\n",
    "print(f'Уникальных по столбцу genre: {unique_genre}')\n",
    "print(f'Уникальных по столбцу rating: {unique_rating}')\n",
    "print(f'Уникальных по столбцу year_of_release: {unique_year_of_release}')"
   ]
  },
  {
   "cell_type": "markdown",
   "id": "22950297",
   "metadata": {},
   "source": [
    "- **Нормализуем данные и удаляем дубликаты:**"
   ]
  },
  {
   "cell_type": "code",
   "execution_count": 20,
   "id": "29e57705",
   "metadata": {
    "id": "29e57705"
   },
   "outputs": [
    {
     "name": "stdout",
     "output_type": "stream",
     "text": [
      "Количество строк до удаления дубликатов: 16679\n",
      "Количество дубликатов: 472\n",
      "Количество строк после удаления дубликатов: 16207\n",
      "Процент удалённых строк: 2.83%\n",
      "Уникальных по столбцу name после удаления дубликатов: 11298 (было 11426)\n",
      "Уникальных по столбцу platform после удаления дубликатов: 31 (было 31)\n",
      "Уникальных по столбцу genre после удаления дубликатов: 12 (было 24)\n",
      "Уникальных по столбцу year_of_release после удаления дубликатов: 37 (было 37)\n"
     ]
    }
   ],
   "source": [
    "# приводим текстовые значения к единому регистру\n",
    "df['name'] = df['name'].str.lower().str.strip()\n",
    "df['genre'] = df['genre'].str.lower().str.strip()\n",
    "df['platform'] = df['platform'].str.lower().str.strip()\n",
    "df['rating'] = df['rating'].str.upper().str.strip()\n",
    "\n",
    "# посчитаем общее количество строк до удаления дубликатов\n",
    "print(f'Количество строк до удаления дубликатов: {len(df)}')\n",
    "\n",
    "# найдем дубликаты \n",
    "duplicates = df.duplicated(subset=['year_of_release', 'genre','name', 'platform'], keep=False)\n",
    "\n",
    "                           \n",
    "# подсчитаем количество дубликатов\n",
    "num_duplicates = duplicates.sum()\n",
    "print(f'Количество дубликатов: {num_duplicates}')\n",
    "\n",
    "# удаляем дубликаты\n",
    "df_cleaned = df.drop_duplicates(subset=['year_of_release', 'genre','name', 'platform'], keep=False)\n",
    "                              \n",
    "\n",
    "# посчитаем общее количество строк после удаления дубликатов\n",
    "print(f'Количество строк после удаления дубликатов: {len(df_cleaned)}')\n",
    "print(f'Процент удалённых строк: {round((len(df) - len(df_cleaned)) / len(df) * 100, 2)}%')\n",
    "\n",
    "# анализируем уникальные значения после удаления дубликатов\n",
    "unique_name_cleaned = df_cleaned['name'].nunique()\n",
    "unique_platform_cleaned = df_cleaned['platform'].nunique()\n",
    "unique_genre_cleaned = df_cleaned['genre'].nunique()\n",
    "unique_rating_cleaned = df_cleaned['rating'].nunique()\n",
    "unique_year_of_release_cleaned = df_cleaned['year_of_release'].nunique()\n",
    "\n",
    "# выводим результаты\n",
    "print(f'Уникальных по столбцу name после удаления дубликатов: {unique_name_cleaned} (было {unique_name})')\n",
    "print(f'Уникальных по столбцу platform после удаления дубликатов: {unique_platform_cleaned} (было {unique_platform})')\n",
    "print(f'Уникальных по столбцу genre после удаления дубликатов: {unique_genre_cleaned} (было {unique_genre})')\n",
    "print(f'Уникальных по столбцу year_of_release после удаления дубликатов: {unique_year_of_release_cleaned} (было {unique_year_of_release})')\n"
   ]
  },
  {
   "cell_type": "markdown",
   "id": "2485cc9f",
   "metadata": {
    "id": "1e48a7ce"
   },
   "source": [
    "**Итоги работы с дубликатами**:\n",
    "\n",
    "- Привели названия игр, жанры и платформы к нижнему регистру.\n",
    "- Привели названия рейтингов к верхнему регистру.\n",
    "- Удалили лишние пробелы в начале и конце строк.\n",
    "- Удалили дубликаты.\n",
    "\n",
    "Всего строк до удаления дубликатов: 16 679.\n",
    "Найдено 472 дубликата (≈ 2.83% от общего числа записей).\n",
    "После удаления дубликатов осталось 16 207 строк.\n",
    "По итогам очистки количество уникальных игр сократилось с 11 426 до 11 298.\n",
    "Число уникальных платформ, жанров и рейтингов изменилось незначительно.\n"
   ]
  },
  {
   "cell_type": "markdown",
   "id": "613f0eb0",
   "metadata": {
    "id": "613f0eb0"
   },
   "source": [
    "---\n",
    "\n",
    "## 3. Фильтрация данных\n"
   ]
  },
  {
   "cell_type": "markdown",
   "id": "8ca6f45f",
   "metadata": {
    "id": "44d7529f"
   },
   "source": [
    "- **Отфильтруем данные за период с 2000 по 2013 год включительно и создадим отдельный датафрейм:**"
   ]
  },
  {
   "cell_type": "code",
   "execution_count": 21,
   "id": "2344916d",
   "metadata": {
    "id": "2344916d"
   },
   "outputs": [
    {
     "name": "stdout",
     "output_type": "stream",
     "text": [
      "Количество строк в датафрейме: 12580\n"
     ]
    }
   ],
   "source": [
    "df_actual = df_cleaned[(df_cleaned['year_of_release'] >= 2000) & (df_cleaned['year_of_release'] <= 2013)]\n",
    "\n",
    "print(f\"Количество строк в датафрейме: {len(df_actual)}\")"
   ]
  },
  {
   "cell_type": "markdown",
   "id": "a6f10b01",
   "metadata": {
    "id": "a6f10b01"
   },
   "source": [
    "---\n",
    "\n",
    "## 4. Категоризация данных\n",
    "    "
   ]
  },
  {
   "cell_type": "markdown",
   "id": "a7efbf33",
   "metadata": {},
   "source": [
    "- **Отключаем предупреждения об ошибке `SettingWithCopyWarning`**:"
   ]
  },
  {
   "cell_type": "code",
   "execution_count": 22,
   "id": "4fd77970",
   "metadata": {},
   "outputs": [],
   "source": [
    " import warnings #импортируем библиотеку\n",
    "\n",
    "warnings.filterwarnings('ignore') #отключаем предупреждения"
   ]
  },
  {
   "cell_type": "markdown",
   "id": "e9f9e2b2",
   "metadata": {},
   "source": [
    "- **Делим все игры по оценкам пользователей и выделяем категории: высокая оценка (от 8 до 10 включительно), средняя оценка (от 3 до 8, не включая правую границу интервала) и низкая оценка (от 0 до 3, не включая правую границу интервала).**"
   ]
  },
  {
   "cell_type": "code",
   "execution_count": 23,
   "id": "3db87229",
   "metadata": {
    "id": "3db87229"
   },
   "outputs": [
    {
     "data": {
      "text/html": [
       "<div>\n",
       "<style scoped>\n",
       "    .dataframe tbody tr th:only-of-type {\n",
       "        vertical-align: middle;\n",
       "    }\n",
       "\n",
       "    .dataframe tbody tr th {\n",
       "        vertical-align: top;\n",
       "    }\n",
       "\n",
       "    .dataframe thead th {\n",
       "        text-align: right;\n",
       "    }\n",
       "</style>\n",
       "<table border=\"1\" class=\"dataframe\">\n",
       "  <thead>\n",
       "    <tr style=\"text-align: right;\">\n",
       "      <th></th>\n",
       "      <th>name</th>\n",
       "      <th>platform</th>\n",
       "      <th>year_of_release</th>\n",
       "      <th>genre</th>\n",
       "      <th>na_sales</th>\n",
       "      <th>eu_sales</th>\n",
       "      <th>jp_sales</th>\n",
       "      <th>other_sales</th>\n",
       "      <th>critic_score</th>\n",
       "      <th>user_score</th>\n",
       "      <th>rating</th>\n",
       "      <th>category_score</th>\n",
       "    </tr>\n",
       "  </thead>\n",
       "  <tbody>\n",
       "    <tr>\n",
       "      <th>0</th>\n",
       "      <td>wii sports</td>\n",
       "      <td>wii</td>\n",
       "      <td>2006</td>\n",
       "      <td>sports</td>\n",
       "      <td>41.36</td>\n",
       "      <td>28.96</td>\n",
       "      <td>3.77</td>\n",
       "      <td>8.45</td>\n",
       "      <td>76.0</td>\n",
       "      <td>8.0</td>\n",
       "      <td>E</td>\n",
       "      <td>средняя оценка</td>\n",
       "    </tr>\n",
       "    <tr>\n",
       "      <th>2</th>\n",
       "      <td>mario kart wii</td>\n",
       "      <td>wii</td>\n",
       "      <td>2008</td>\n",
       "      <td>racing</td>\n",
       "      <td>15.68</td>\n",
       "      <td>12.76</td>\n",
       "      <td>3.79</td>\n",
       "      <td>3.29</td>\n",
       "      <td>82.0</td>\n",
       "      <td>8.3</td>\n",
       "      <td>E</td>\n",
       "      <td>высокая оценка</td>\n",
       "    </tr>\n",
       "    <tr>\n",
       "      <th>3</th>\n",
       "      <td>wii sports resort</td>\n",
       "      <td>wii</td>\n",
       "      <td>2009</td>\n",
       "      <td>sports</td>\n",
       "      <td>15.61</td>\n",
       "      <td>10.93</td>\n",
       "      <td>3.28</td>\n",
       "      <td>2.95</td>\n",
       "      <td>80.0</td>\n",
       "      <td>8.0</td>\n",
       "      <td>E</td>\n",
       "      <td>средняя оценка</td>\n",
       "    </tr>\n",
       "    <tr>\n",
       "      <th>6</th>\n",
       "      <td>new super mario bros.</td>\n",
       "      <td>ds</td>\n",
       "      <td>2006</td>\n",
       "      <td>platform</td>\n",
       "      <td>11.28</td>\n",
       "      <td>9.14</td>\n",
       "      <td>6.50</td>\n",
       "      <td>2.88</td>\n",
       "      <td>89.0</td>\n",
       "      <td>8.5</td>\n",
       "      <td>E</td>\n",
       "      <td>высокая оценка</td>\n",
       "    </tr>\n",
       "    <tr>\n",
       "      <th>7</th>\n",
       "      <td>wii play</td>\n",
       "      <td>wii</td>\n",
       "      <td>2006</td>\n",
       "      <td>misc</td>\n",
       "      <td>13.96</td>\n",
       "      <td>9.18</td>\n",
       "      <td>2.93</td>\n",
       "      <td>2.84</td>\n",
       "      <td>58.0</td>\n",
       "      <td>6.6</td>\n",
       "      <td>E</td>\n",
       "      <td>средняя оценка</td>\n",
       "    </tr>\n",
       "  </tbody>\n",
       "</table>\n",
       "</div>"
      ],
      "text/plain": [
       "                    name platform  year_of_release     genre  na_sales  \\\n",
       "0             wii sports      wii             2006    sports     41.36   \n",
       "2         mario kart wii      wii             2008    racing     15.68   \n",
       "3      wii sports resort      wii             2009    sports     15.61   \n",
       "6  new super mario bros.       ds             2006  platform     11.28   \n",
       "7               wii play      wii             2006      misc     13.96   \n",
       "\n",
       "   eu_sales  jp_sales  other_sales  critic_score  user_score rating  \\\n",
       "0     28.96      3.77         8.45          76.0         8.0      E   \n",
       "2     12.76      3.79         3.29          82.0         8.3      E   \n",
       "3     10.93      3.28         2.95          80.0         8.0      E   \n",
       "6      9.14      6.50         2.88          89.0         8.5      E   \n",
       "7      9.18      2.93         2.84          58.0         6.6      E   \n",
       "\n",
       "   category_score  \n",
       "0  средняя оценка  \n",
       "2  высокая оценка  \n",
       "3  средняя оценка  \n",
       "6  высокая оценка  \n",
       "7  средняя оценка  "
      ]
     },
     "execution_count": 23,
     "metadata": {},
     "output_type": "execute_result"
    }
   ],
   "source": [
    "df_actual.loc[:,'category_score'] = pd.cut(df_actual['user_score'], \n",
    "                                           bins=[0, 3, 8, 10], \n",
    "                                           labels=[\"низкая оценка\", \"средняя оценка\", \"высокая оценка\"], \n",
    "                                           right=[False, False, True])\n",
    "\n",
    "df_actual.head()"
   ]
  },
  {
   "cell_type": "markdown",
   "id": "f8f34b40",
   "metadata": {
    "id": "f8f34b40"
   },
   "source": [
    "- **Делим все игры по оценкам критиков и выделяем категории: высокая оценка (от 80 до 100 включительно), средняя оценка (от 30 до 80, не включая правую границу интервала) и низкая оценка (от 0 до 30, не включая правую границу интервала).**"
   ]
  },
  {
   "cell_type": "code",
   "execution_count": 24,
   "id": "e3f7acb0",
   "metadata": {
    "id": "e3f7acb0"
   },
   "outputs": [
    {
     "data": {
      "text/html": [
       "<div>\n",
       "<style scoped>\n",
       "    .dataframe tbody tr th:only-of-type {\n",
       "        vertical-align: middle;\n",
       "    }\n",
       "\n",
       "    .dataframe tbody tr th {\n",
       "        vertical-align: top;\n",
       "    }\n",
       "\n",
       "    .dataframe thead th {\n",
       "        text-align: right;\n",
       "    }\n",
       "</style>\n",
       "<table border=\"1\" class=\"dataframe\">\n",
       "  <thead>\n",
       "    <tr style=\"text-align: right;\">\n",
       "      <th></th>\n",
       "      <th>name</th>\n",
       "      <th>platform</th>\n",
       "      <th>year_of_release</th>\n",
       "      <th>genre</th>\n",
       "      <th>na_sales</th>\n",
       "      <th>eu_sales</th>\n",
       "      <th>jp_sales</th>\n",
       "      <th>other_sales</th>\n",
       "      <th>critic_score</th>\n",
       "      <th>user_score</th>\n",
       "      <th>rating</th>\n",
       "      <th>category_score</th>\n",
       "    </tr>\n",
       "  </thead>\n",
       "  <tbody>\n",
       "    <tr>\n",
       "      <th>0</th>\n",
       "      <td>wii sports</td>\n",
       "      <td>wii</td>\n",
       "      <td>2006</td>\n",
       "      <td>sports</td>\n",
       "      <td>41.36</td>\n",
       "      <td>28.96</td>\n",
       "      <td>3.77</td>\n",
       "      <td>8.45</td>\n",
       "      <td>76.0</td>\n",
       "      <td>8.0</td>\n",
       "      <td>E</td>\n",
       "      <td>средняя оценка</td>\n",
       "    </tr>\n",
       "    <tr>\n",
       "      <th>2</th>\n",
       "      <td>mario kart wii</td>\n",
       "      <td>wii</td>\n",
       "      <td>2008</td>\n",
       "      <td>racing</td>\n",
       "      <td>15.68</td>\n",
       "      <td>12.76</td>\n",
       "      <td>3.79</td>\n",
       "      <td>3.29</td>\n",
       "      <td>82.0</td>\n",
       "      <td>8.3</td>\n",
       "      <td>E</td>\n",
       "      <td>высокая оценка</td>\n",
       "    </tr>\n",
       "    <tr>\n",
       "      <th>3</th>\n",
       "      <td>wii sports resort</td>\n",
       "      <td>wii</td>\n",
       "      <td>2009</td>\n",
       "      <td>sports</td>\n",
       "      <td>15.61</td>\n",
       "      <td>10.93</td>\n",
       "      <td>3.28</td>\n",
       "      <td>2.95</td>\n",
       "      <td>80.0</td>\n",
       "      <td>8.0</td>\n",
       "      <td>E</td>\n",
       "      <td>средняя оценка</td>\n",
       "    </tr>\n",
       "    <tr>\n",
       "      <th>6</th>\n",
       "      <td>new super mario bros.</td>\n",
       "      <td>ds</td>\n",
       "      <td>2006</td>\n",
       "      <td>platform</td>\n",
       "      <td>11.28</td>\n",
       "      <td>9.14</td>\n",
       "      <td>6.5</td>\n",
       "      <td>2.88</td>\n",
       "      <td>89.0</td>\n",
       "      <td>8.5</td>\n",
       "      <td>E</td>\n",
       "      <td>высокая оценка</td>\n",
       "    </tr>\n",
       "    <tr>\n",
       "      <th>7</th>\n",
       "      <td>wii play</td>\n",
       "      <td>wii</td>\n",
       "      <td>2006</td>\n",
       "      <td>misc</td>\n",
       "      <td>13.96</td>\n",
       "      <td>9.18</td>\n",
       "      <td>2.93</td>\n",
       "      <td>2.84</td>\n",
       "      <td>58.0</td>\n",
       "      <td>6.6</td>\n",
       "      <td>E</td>\n",
       "      <td>средняя оценка</td>\n",
       "    </tr>\n",
       "  </tbody>\n",
       "</table>\n",
       "</div>"
      ],
      "text/plain": [
       "                    name platform year_of_release     genre na_sales eu_sales  \\\n",
       "0             wii sports      wii            2006    sports    41.36    28.96   \n",
       "2         mario kart wii      wii            2008    racing    15.68    12.76   \n",
       "3      wii sports resort      wii            2009    sports    15.61    10.93   \n",
       "6  new super mario bros.       ds            2006  platform    11.28     9.14   \n",
       "7               wii play      wii            2006      misc    13.96     9.18   \n",
       "\n",
       "  jp_sales other_sales critic_score user_score rating  category_score  \n",
       "0     3.77        8.45         76.0        8.0      E  средняя оценка  \n",
       "2     3.79        3.29         82.0        8.3      E  высокая оценка  \n",
       "3     3.28        2.95         80.0        8.0      E  средняя оценка  \n",
       "6      6.5        2.88         89.0        8.5      E  высокая оценка  \n",
       "7     2.93        2.84         58.0        6.6      E  средняя оценка  "
      ]
     },
     "execution_count": 24,
     "metadata": {},
     "output_type": "execute_result"
    }
   ],
   "source": [
    "df_actual.loc['category_score'] = pd.cut(df_actual['critic_score'],\n",
    "                                           bins=[0, 30, 80, 100],\n",
    "                                           labels=[\"низкая оценка\", \"средняя оценка\", \"высокая оценка\"],\n",
    "                                           right=[False, False, True])\n",
    "\n",
    "df_actual.head()          "
   ]
  },
  {
   "cell_type": "markdown",
   "id": "olkTlTlAUDR9",
   "metadata": {
    "id": "olkTlTlAUDR9"
   },
   "source": [
    "- **Группируем данные по выделенным категориям и считаем количество игр в каждой категории.**"
   ]
  },
  {
   "cell_type": "code",
   "execution_count": 25,
   "id": "HW0Nsp-4UMSL",
   "metadata": {
    "id": "HW0Nsp-4UMSL"
   },
   "outputs": [
    {
     "data": {
      "text/html": [
       "<div>\n",
       "<style scoped>\n",
       "    .dataframe tbody tr th:only-of-type {\n",
       "        vertical-align: middle;\n",
       "    }\n",
       "\n",
       "    .dataframe tbody tr th {\n",
       "        vertical-align: top;\n",
       "    }\n",
       "\n",
       "    .dataframe thead th {\n",
       "        text-align: right;\n",
       "    }\n",
       "</style>\n",
       "<table border=\"1\" class=\"dataframe\">\n",
       "  <thead>\n",
       "    <tr style=\"text-align: right;\">\n",
       "      <th></th>\n",
       "      <th>name</th>\n",
       "    </tr>\n",
       "    <tr>\n",
       "      <th>category_score</th>\n",
       "      <th></th>\n",
       "    </tr>\n",
       "  </thead>\n",
       "  <tbody>\n",
       "    <tr>\n",
       "      <th>низкая оценка</th>\n",
       "      <td>131</td>\n",
       "    </tr>\n",
       "    <tr>\n",
       "      <th>средняя оценка</th>\n",
       "      <td>10434</td>\n",
       "    </tr>\n",
       "    <tr>\n",
       "      <th>высокая оценка</th>\n",
       "      <td>2014</td>\n",
       "    </tr>\n",
       "  </tbody>\n",
       "</table>\n",
       "</div>"
      ],
      "text/plain": [
       "                 name\n",
       "category_score       \n",
       "низкая оценка     131\n",
       "средняя оценка  10434\n",
       "высокая оценка   2014"
      ]
     },
     "execution_count": 25,
     "metadata": {},
     "output_type": "execute_result"
    }
   ],
   "source": [
    "gruped_data = df_actual.groupby('category_score')[['name']].count()\n",
    "\n",
    "gruped_data\n"
   ]
  },
  {
   "cell_type": "markdown",
   "id": "6a98444c",
   "metadata": {
    "id": "6a98444c"
   },
   "source": [
    "- **ТОП-7 платформ по количеству игр, выпущенных за весь актуальный период.**"
   ]
  },
  {
   "cell_type": "code",
   "execution_count": 26,
   "id": "003caa2c",
   "metadata": {
    "id": "003caa2c"
   },
   "outputs": [
    {
     "data": {
      "text/plain": [
       "platform\n",
       "ps2     2100\n",
       "ds      2094\n",
       "wii     1256\n",
       "psp     1161\n",
       "x360    1104\n",
       "ps3     1065\n",
       "gba      796\n",
       "Name: name, dtype: int64"
      ]
     },
     "execution_count": 26,
     "metadata": {},
     "output_type": "execute_result"
    }
   ],
   "source": [
    "counts = df_actual.groupby('platform')['name'].count()\n",
    "\n",
    "top_7_platforms = counts.sort_values(ascending=False).head(7)\n",
    "\n",
    "top_7_platforms"
   ]
  },
  {
   "cell_type": "markdown",
   "id": "c0158881",
   "metadata": {
    "id": "c0158881"
   },
   "source": [
    "---\n",
    "\n",
    "## 5. Итоговый вывод\n",
    "\n",
    "\n"
   ]
  },
  {
   "cell_type": "markdown",
   "id": "dce7f815",
   "metadata": {
    "id": "20175f5b"
   },
   "source": [
    "В ходе исследования был проведен анализ и предобработка данных о продажах видеоигр с 2000 по 2013 год. Для этого был использован исходный датасет, содержащий информацию о жанрах, платформах, продажах, а также пользовательских и экспертных оценках игр. Анализ показал, что продажи игр зависят от платформы, жанра и пользовательских оценок.  \n",
    "\n",
    "**Ключевые шаги анализа**: \n",
    "\n",
    "- **Срез данных** определен за период с 2000 по 2013 год. Данные были ограничены только теми играми, которые имеют информацию о продажах, чтобы избежать пропусков и некорректных данных.  \n",
    "- **Категоризация оценок** позволила выделить три группы:  \n",
    "  - 📉 **Низкая оценка** – *67 игр*  \n",
    "  - 📊 **Средняя оценка** – *11 084 игры*  \n",
    "  - 📈 **Высокая оценка** – *1 474 игры*  \n",
    "- **ТОП-7 платформ** по количеству игр, выпущенных за исследуемый период:  \n",
    "  1. 🏆 **DS** – *2 104 игры*  \n",
    "  2. 🎮 **PS2** – *2 102 игры*  \n",
    "  3. 🕹️ **Wii** – *1 260 игр*  \n",
    "  4. 🎯 **PSP** – *1 165 игр*  \n",
    "  5. ⚡ **X360** – *1 106 игр*  \n",
    "  6. 🔥 **PS3** – *1 071 игра*  \n",
    "  7. 🆕 **GBA** – *798 игр*  \n",
    "\n",
    "Анализ показал, что наибольшее количество игр получили **средние оценки**, в то время как игр с **высокими** и **низкими** оценками значительно меньше. Это может свидетельствовать о том, что большинство проектов находятся в диапазоне среднего качества, а действительно успешные или провальные игры – **редкость**.  \n"
   ]
  }
 ],
 "metadata": {
  "ExecuteTimeLog": [
   {
    "duration": 83,
    "start_time": "2025-02-13T10:25:25.545Z"
   },
   {
    "duration": 101,
    "start_time": "2025-02-13T10:25:37.236Z"
   },
   {
    "duration": 529,
    "start_time": "2025-02-13T10:26:08.942Z"
   },
   {
    "duration": 17,
    "start_time": "2025-02-13T10:26:35.797Z"
   },
   {
    "duration": 14,
    "start_time": "2025-02-13T10:27:33.284Z"
   },
   {
    "duration": 14,
    "start_time": "2025-02-13T10:33:45.588Z"
   },
   {
    "duration": 72,
    "start_time": "2025-02-13T10:34:06.347Z"
   },
   {
    "duration": 15,
    "start_time": "2025-02-13T10:34:38.342Z"
   },
   {
    "duration": 527,
    "start_time": "2025-02-13T10:35:48.742Z"
   },
   {
    "duration": 18,
    "start_time": "2025-02-13T10:36:54.454Z"
   },
   {
    "duration": 14,
    "start_time": "2025-02-13T10:41:05.318Z"
   },
   {
    "duration": 15,
    "start_time": "2025-02-13T10:41:25.713Z"
   },
   {
    "duration": 14,
    "start_time": "2025-02-13T10:44:11.313Z"
   },
   {
    "duration": 48,
    "start_time": "2025-02-13T10:48:32.390Z"
   },
   {
    "duration": 83,
    "start_time": "2025-02-13T10:48:51.013Z"
   },
   {
    "duration": 14,
    "start_time": "2025-02-13T10:48:59.604Z"
   },
   {
    "duration": 4,
    "start_time": "2025-02-13T10:53:28.233Z"
   },
   {
    "duration": 14,
    "start_time": "2025-02-13T11:07:03.297Z"
   },
   {
    "duration": 517,
    "start_time": "2025-02-13T11:10:06.451Z"
   },
   {
    "duration": 48,
    "start_time": "2025-02-13T11:10:55.481Z"
   },
   {
    "duration": 13,
    "start_time": "2025-02-13T11:11:05.997Z"
   },
   {
    "duration": 53,
    "start_time": "2025-02-13T11:11:42.166Z"
   },
   {
    "duration": 52,
    "start_time": "2025-02-13T11:27:51.229Z"
   },
   {
    "duration": 45,
    "start_time": "2025-02-13T11:27:54.449Z"
   },
   {
    "duration": 46,
    "start_time": "2025-02-13T11:28:00.965Z"
   },
   {
    "duration": 49,
    "start_time": "2025-02-13T11:28:05.465Z"
   },
   {
    "duration": 455,
    "start_time": "2025-02-13T11:28:25.609Z"
   },
   {
    "duration": 46,
    "start_time": "2025-02-13T11:28:28.483Z"
   },
   {
    "duration": 55,
    "start_time": "2025-02-13T11:28:50.083Z"
   },
   {
    "duration": 46,
    "start_time": "2025-02-13T11:28:58.837Z"
   },
   {
    "duration": 55,
    "start_time": "2025-02-13T11:34:19.969Z"
   },
   {
    "duration": 44,
    "start_time": "2025-02-13T11:34:22.175Z"
   },
   {
    "duration": 44,
    "start_time": "2025-02-13T11:34:28.864Z"
   },
   {
    "duration": 44,
    "start_time": "2025-02-13T11:34:33.801Z"
   },
   {
    "duration": 619,
    "start_time": "2025-02-13T11:46:17.026Z"
   },
   {
    "duration": 103,
    "start_time": "2025-02-13T11:46:36.434Z"
   },
   {
    "duration": 97,
    "start_time": "2025-02-13T11:46:38.380Z"
   },
   {
    "duration": 100,
    "start_time": "2025-02-13T11:46:41.227Z"
   },
   {
    "duration": 107,
    "start_time": "2025-02-13T11:56:05.884Z"
   },
   {
    "duration": 108,
    "start_time": "2025-02-13T11:56:17.435Z"
   },
   {
    "duration": 119,
    "start_time": "2025-02-13T11:56:21.268Z"
   },
   {
    "duration": 94,
    "start_time": "2025-02-13T11:56:51.402Z"
   },
   {
    "duration": 98,
    "start_time": "2025-02-13T11:56:52.977Z"
   },
   {
    "duration": 114,
    "start_time": "2025-02-13T11:59:24.209Z"
   },
   {
    "duration": 19,
    "start_time": "2025-02-13T11:59:48.051Z"
   },
   {
    "duration": 227,
    "start_time": "2025-02-13T12:39:13.814Z"
   },
   {
    "duration": 279,
    "start_time": "2025-02-13T13:42:27.285Z"
   },
   {
    "duration": 110,
    "start_time": "2025-02-13T13:43:09.211Z"
   },
   {
    "duration": 18,
    "start_time": "2025-02-13T13:43:41.773Z"
   },
   {
    "duration": 64,
    "start_time": "2025-02-13T14:52:55.599Z"
   },
   {
    "duration": 82,
    "start_time": "2025-02-13T14:53:01.675Z"
   },
   {
    "duration": 12,
    "start_time": "2025-02-13T14:55:37.973Z"
   },
   {
    "duration": 15,
    "start_time": "2025-02-13T15:01:31.555Z"
   },
   {
    "duration": 21,
    "start_time": "2025-02-13T15:01:59.434Z"
   },
   {
    "duration": 13,
    "start_time": "2025-02-13T15:02:40.377Z"
   },
   {
    "duration": 78,
    "start_time": "2025-02-13T15:03:00.921Z"
   },
   {
    "duration": 17,
    "start_time": "2025-02-13T15:03:13.624Z"
   },
   {
    "duration": 13,
    "start_time": "2025-02-13T15:06:01.190Z"
   },
   {
    "duration": 85,
    "start_time": "2025-02-13T15:18:33.635Z"
   },
   {
    "duration": 3,
    "start_time": "2025-02-13T15:24:19.651Z"
   },
   {
    "duration": 3,
    "start_time": "2025-02-13T15:24:26.953Z"
   },
   {
    "duration": 14,
    "start_time": "2025-02-13T15:24:41.408Z"
   },
   {
    "duration": 15,
    "start_time": "2025-02-13T15:24:52.809Z"
   },
   {
    "duration": 15,
    "start_time": "2025-02-13T15:25:12.362Z"
   },
   {
    "duration": 16,
    "start_time": "2025-02-13T15:27:21.734Z"
   },
   {
    "duration": 11,
    "start_time": "2025-02-13T17:48:03.636Z"
   },
   {
    "duration": 8,
    "start_time": "2025-02-13T17:48:10.096Z"
   },
   {
    "duration": 6,
    "start_time": "2025-02-13T17:48:25.765Z"
   },
   {
    "duration": 23,
    "start_time": "2025-02-13T17:49:14.617Z"
   },
   {
    "duration": 8,
    "start_time": "2025-02-13T17:53:14.817Z"
   },
   {
    "duration": 14,
    "start_time": "2025-02-13T17:55:26.593Z"
   },
   {
    "duration": 12,
    "start_time": "2025-02-13T17:55:42.653Z"
   },
   {
    "duration": 8,
    "start_time": "2025-02-13T18:06:41.079Z"
   },
   {
    "duration": 70,
    "start_time": "2025-02-13T18:07:54.002Z"
   },
   {
    "duration": 3,
    "start_time": "2025-02-13T18:08:06.315Z"
   },
   {
    "duration": 4,
    "start_time": "2025-02-13T18:08:08.453Z"
   },
   {
    "duration": 4,
    "start_time": "2025-02-13T18:08:39.321Z"
   },
   {
    "duration": 6,
    "start_time": "2025-02-13T18:08:49.587Z"
   },
   {
    "duration": 8,
    "start_time": "2025-02-13T18:09:39.156Z"
   },
   {
    "duration": 14,
    "start_time": "2025-02-13T18:09:48.250Z"
   },
   {
    "duration": 9,
    "start_time": "2025-02-13T18:10:41.547Z"
   },
   {
    "duration": 9,
    "start_time": "2025-02-13T18:19:19.343Z"
   },
   {
    "duration": 17,
    "start_time": "2025-02-13T18:19:36.518Z"
   },
   {
    "duration": 19,
    "start_time": "2025-02-13T18:23:09.553Z"
   },
   {
    "duration": 76,
    "start_time": "2025-02-13T19:52:50.623Z"
   },
   {
    "duration": 36,
    "start_time": "2025-02-13T19:59:34.309Z"
   },
   {
    "duration": 22,
    "start_time": "2025-02-13T20:00:19.479Z"
   },
   {
    "duration": 8,
    "start_time": "2025-02-13T20:00:25.871Z"
   },
   {
    "duration": 17,
    "start_time": "2025-02-13T20:00:38.032Z"
   },
   {
    "duration": 11,
    "start_time": "2025-02-13T21:28:53.211Z"
   },
   {
    "duration": 17,
    "start_time": "2025-02-13T21:30:37.925Z"
   },
   {
    "duration": 134,
    "start_time": "2025-02-13T21:35:41.288Z"
   },
   {
    "duration": 13,
    "start_time": "2025-02-13T21:37:31.388Z"
   },
   {
    "duration": 16,
    "start_time": "2025-02-13T21:38:20.363Z"
   },
   {
    "duration": 51,
    "start_time": "2025-02-14T09:29:08.839Z"
   },
   {
    "duration": 7,
    "start_time": "2025-02-14T09:29:13.906Z"
   },
   {
    "duration": 6,
    "start_time": "2025-02-14T09:29:35.128Z"
   },
   {
    "duration": 525,
    "start_time": "2025-02-14T09:30:04.108Z"
   },
   {
    "duration": 17,
    "start_time": "2025-02-14T09:30:08.748Z"
   },
   {
    "duration": 31,
    "start_time": "2025-02-14T09:30:25.840Z"
   },
   {
    "duration": 10,
    "start_time": "2025-02-14T09:30:32.673Z"
   },
   {
    "duration": 17,
    "start_time": "2025-02-14T09:30:54.064Z"
   },
   {
    "duration": 18,
    "start_time": "2025-02-14T09:31:12.296Z"
   },
   {
    "duration": 14,
    "start_time": "2025-02-14T09:31:19.861Z"
   },
   {
    "duration": 35,
    "start_time": "2025-02-14T09:31:34.863Z"
   },
   {
    "duration": 13,
    "start_time": "2025-02-14T09:34:10.057Z"
   },
   {
    "duration": 15,
    "start_time": "2025-02-14T09:34:47.735Z"
   },
   {
    "duration": 16,
    "start_time": "2025-02-14T09:35:08.104Z"
   },
   {
    "duration": 11,
    "start_time": "2025-02-14T09:36:31.628Z"
   },
   {
    "duration": 13,
    "start_time": "2025-02-14T09:36:37.721Z"
   },
   {
    "duration": 16,
    "start_time": "2025-02-14T09:38:04.199Z"
   },
   {
    "duration": 16,
    "start_time": "2025-02-14T09:42:37.050Z"
   },
   {
    "duration": 13,
    "start_time": "2025-02-14T09:45:19.617Z"
   },
   {
    "duration": 13,
    "start_time": "2025-02-14T09:46:22.066Z"
   },
   {
    "duration": 13,
    "start_time": "2025-02-14T09:48:19.497Z"
   },
   {
    "duration": 16,
    "start_time": "2025-02-14T09:48:28.512Z"
   },
   {
    "duration": 16,
    "start_time": "2025-02-14T09:48:46.486Z"
   },
   {
    "duration": 16,
    "start_time": "2025-02-14T09:48:55.028Z"
   },
   {
    "duration": 20,
    "start_time": "2025-02-14T09:49:57.195Z"
   },
   {
    "duration": 11,
    "start_time": "2025-02-14T09:50:31.879Z"
   },
   {
    "duration": 10,
    "start_time": "2025-02-14T09:50:39.402Z"
   },
   {
    "duration": 10,
    "start_time": "2025-02-14T09:53:58.642Z"
   },
   {
    "duration": 11,
    "start_time": "2025-02-14T09:54:01.253Z"
   },
   {
    "duration": 9,
    "start_time": "2025-02-14T09:57:16.851Z"
   },
   {
    "duration": 10,
    "start_time": "2025-02-14T09:57:31.174Z"
   },
   {
    "duration": 64,
    "start_time": "2025-02-14T10:14:38.172Z"
   },
   {
    "duration": 68,
    "start_time": "2025-02-14T10:27:17.741Z"
   },
   {
    "duration": 11,
    "start_time": "2025-02-14T10:27:35.721Z"
   },
   {
    "duration": 24,
    "start_time": "2025-02-14T10:27:49.949Z"
   },
   {
    "duration": 14,
    "start_time": "2025-02-14T10:31:04.618Z"
   },
   {
    "duration": 19,
    "start_time": "2025-02-14T10:31:25.959Z"
   },
   {
    "duration": 13,
    "start_time": "2025-02-14T10:31:30.437Z"
   },
   {
    "duration": 11,
    "start_time": "2025-02-14T10:31:43.547Z"
   },
   {
    "duration": 16,
    "start_time": "2025-02-14T10:32:35.028Z"
   },
   {
    "duration": 20,
    "start_time": "2025-02-14T10:32:42.827Z"
   },
   {
    "duration": 10,
    "start_time": "2025-02-14T10:32:56.897Z"
   },
   {
    "duration": 13,
    "start_time": "2025-02-14T10:33:09.795Z"
   },
   {
    "duration": 17,
    "start_time": "2025-02-14T10:35:43.115Z"
   },
   {
    "duration": 8,
    "start_time": "2025-02-14T10:45:20.498Z"
   },
   {
    "duration": 8,
    "start_time": "2025-02-14T10:45:40.606Z"
   },
   {
    "duration": 48,
    "start_time": "2025-02-14T13:28:53.637Z"
   },
   {
    "duration": 6,
    "start_time": "2025-02-14T13:29:26.528Z"
   },
   {
    "duration": 7,
    "start_time": "2025-02-14T13:30:50.416Z"
   },
   {
    "duration": 7,
    "start_time": "2025-02-14T13:31:02.929Z"
   },
   {
    "duration": 544,
    "start_time": "2025-02-14T13:31:22.081Z"
   },
   {
    "duration": 119,
    "start_time": "2025-02-14T13:31:29.161Z"
   },
   {
    "duration": 13,
    "start_time": "2025-02-14T13:31:35.159Z"
   },
   {
    "duration": 8,
    "start_time": "2025-02-14T13:31:41.564Z"
   },
   {
    "duration": 17,
    "start_time": "2025-02-14T13:31:44.990Z"
   },
   {
    "duration": 29,
    "start_time": "2025-02-14T13:31:47.762Z"
   },
   {
    "duration": 11,
    "start_time": "2025-02-14T13:31:50.959Z"
   },
   {
    "duration": 12,
    "start_time": "2025-02-14T13:31:54.664Z"
   },
   {
    "duration": 14,
    "start_time": "2025-02-14T13:32:01.699Z"
   },
   {
    "duration": 710,
    "start_time": "2025-02-14T13:34:05.475Z"
   },
   {
    "duration": 14,
    "start_time": "2025-02-14T13:34:13.409Z"
   },
   {
    "duration": 69,
    "start_time": "2025-02-14T13:41:00.645Z"
   },
   {
    "duration": 23,
    "start_time": "2025-02-14T13:58:26.962Z"
   },
   {
    "duration": 10,
    "start_time": "2025-02-14T14:01:26.358Z"
   },
   {
    "duration": 17,
    "start_time": "2025-02-14T14:01:44.313Z"
   },
   {
    "duration": 8,
    "start_time": "2025-02-14T14:08:45.750Z"
   },
   {
    "duration": 13,
    "start_time": "2025-02-14T14:10:31.914Z"
   },
   {
    "duration": 11,
    "start_time": "2025-02-14T14:12:50.526Z"
   },
   {
    "duration": 21,
    "start_time": "2025-02-14T14:17:09.893Z"
   },
   {
    "duration": 16,
    "start_time": "2025-02-14T14:17:29.422Z"
   },
   {
    "duration": 12,
    "start_time": "2025-02-14T14:18:44.643Z"
   },
   {
    "duration": 10,
    "start_time": "2025-02-14T14:19:05.207Z"
   },
   {
    "duration": 10,
    "start_time": "2025-02-14T14:20:29.667Z"
   },
   {
    "duration": 46,
    "start_time": "2025-02-14T14:29:43.999Z"
   },
   {
    "duration": 507,
    "start_time": "2025-02-14T14:29:55.000Z"
   },
   {
    "duration": 12,
    "start_time": "2025-02-14T14:30:04.731Z"
   },
   {
    "duration": 8,
    "start_time": "2025-02-14T14:30:10.647Z"
   },
   {
    "duration": 7,
    "start_time": "2025-02-14T14:30:12.548Z"
   },
   {
    "duration": 17,
    "start_time": "2025-02-14T14:30:16.466Z"
   },
   {
    "duration": 8,
    "start_time": "2025-02-14T14:30:25.575Z"
   },
   {
    "duration": 14,
    "start_time": "2025-02-14T14:30:31.092Z"
   },
   {
    "duration": 31,
    "start_time": "2025-02-14T14:30:35.335Z"
   },
   {
    "duration": 9,
    "start_time": "2025-02-14T14:30:48.210Z"
   },
   {
    "duration": 12,
    "start_time": "2025-02-14T14:30:53.747Z"
   },
   {
    "duration": 14,
    "start_time": "2025-02-14T14:31:00.871Z"
   },
   {
    "duration": 19,
    "start_time": "2025-02-14T14:31:11.591Z"
   },
   {
    "duration": 13,
    "start_time": "2025-02-14T14:31:15.126Z"
   },
   {
    "duration": 13,
    "start_time": "2025-02-14T14:31:35.807Z"
   },
   {
    "duration": 27,
    "start_time": "2025-02-14T15:11:51.764Z"
   },
   {
    "duration": 10,
    "start_time": "2025-02-14T15:12:08.105Z"
   },
   {
    "duration": 16,
    "start_time": "2025-02-14T15:12:28.047Z"
   },
   {
    "duration": 7,
    "start_time": "2025-02-14T15:17:51.075Z"
   },
   {
    "duration": 20,
    "start_time": "2025-02-14T15:28:12.989Z"
   },
   {
    "duration": 4,
    "start_time": "2025-02-14T15:40:42.654Z"
   },
   {
    "duration": 4,
    "start_time": "2025-02-14T15:40:46.448Z"
   },
   {
    "duration": 13,
    "start_time": "2025-02-14T15:40:57.812Z"
   },
   {
    "duration": 11,
    "start_time": "2025-02-14T15:41:42.316Z"
   },
   {
    "duration": 22,
    "start_time": "2025-02-14T15:44:47.908Z"
   },
   {
    "duration": 64,
    "start_time": "2025-02-14T15:50:22.774Z"
   },
   {
    "duration": 9,
    "start_time": "2025-02-14T15:51:07.407Z"
   },
   {
    "duration": 24,
    "start_time": "2025-02-14T15:51:28.073Z"
   },
   {
    "duration": 9,
    "start_time": "2025-02-14T15:53:42.321Z"
   },
   {
    "duration": 16,
    "start_time": "2025-02-14T15:56:00.183Z"
   },
   {
    "duration": 21,
    "start_time": "2025-02-14T15:59:34.488Z"
   },
   {
    "duration": 11,
    "start_time": "2025-02-14T16:13:43.899Z"
   },
   {
    "duration": 4,
    "start_time": "2025-02-14T16:14:11.050Z"
   },
   {
    "duration": 7,
    "start_time": "2025-02-14T16:15:02.101Z"
   },
   {
    "duration": 11,
    "start_time": "2025-02-14T16:15:09.440Z"
   },
   {
    "duration": 8,
    "start_time": "2025-02-14T16:15:13.904Z"
   },
   {
    "duration": 17,
    "start_time": "2025-02-14T16:15:21.910Z"
   },
   {
    "duration": 3,
    "start_time": "2025-02-14T16:17:16.397Z"
   },
   {
    "duration": 54,
    "start_time": "2025-02-15T07:15:20.198Z"
   },
   {
    "duration": 559,
    "start_time": "2025-02-15T07:15:35.278Z"
   },
   {
    "duration": 111,
    "start_time": "2025-02-15T07:15:49.202Z"
   },
   {
    "duration": 15,
    "start_time": "2025-02-15T07:15:54.651Z"
   },
   {
    "duration": 9,
    "start_time": "2025-02-15T07:15:59.142Z"
   },
   {
    "duration": 26,
    "start_time": "2025-02-15T07:16:01.235Z"
   },
   {
    "duration": 5,
    "start_time": "2025-02-15T07:16:02.917Z"
   },
   {
    "duration": 38,
    "start_time": "2025-02-15T07:16:05.208Z"
   },
   {
    "duration": 11,
    "start_time": "2025-02-15T07:18:07.484Z"
   },
   {
    "duration": 19,
    "start_time": "2025-02-15T07:18:18.753Z"
   },
   {
    "duration": 654,
    "start_time": "2025-02-15T07:20:00.951Z"
   },
   {
    "duration": 124,
    "start_time": "2025-02-15T07:20:01.608Z"
   },
   {
    "duration": 14,
    "start_time": "2025-02-15T07:20:01.734Z"
   },
   {
    "duration": 24,
    "start_time": "2025-02-15T07:20:01.749Z"
   },
   {
    "duration": 18,
    "start_time": "2025-02-15T07:20:01.775Z"
   },
   {
    "duration": 23,
    "start_time": "2025-02-15T07:20:01.795Z"
   },
   {
    "duration": 49,
    "start_time": "2025-02-15T07:20:01.819Z"
   },
   {
    "duration": 24,
    "start_time": "2025-02-15T07:20:01.870Z"
   },
   {
    "duration": 18,
    "start_time": "2025-02-15T07:20:01.896Z"
   },
   {
    "duration": 11,
    "start_time": "2025-02-15T07:20:01.916Z"
   },
   {
    "duration": 12,
    "start_time": "2025-02-15T07:20:01.929Z"
   },
   {
    "duration": 36,
    "start_time": "2025-02-15T07:20:01.943Z"
   },
   {
    "duration": 24,
    "start_time": "2025-02-15T07:20:01.981Z"
   },
   {
    "duration": 33,
    "start_time": "2025-02-15T07:20:02.008Z"
   },
   {
    "duration": 1378,
    "start_time": "2025-02-15T07:20:02.043Z"
   },
   {
    "duration": 0,
    "start_time": "2025-02-15T07:20:03.422Z"
   },
   {
    "duration": 104,
    "start_time": "2025-02-15T07:20:53.590Z"
   },
   {
    "duration": 125,
    "start_time": "2025-02-15T07:20:58.681Z"
   },
   {
    "duration": 14,
    "start_time": "2025-02-15T07:21:19.474Z"
   },
   {
    "duration": 8,
    "start_time": "2025-02-15T07:21:29.824Z"
   },
   {
    "duration": 24,
    "start_time": "2025-02-15T07:21:35.268Z"
   },
   {
    "duration": 4,
    "start_time": "2025-02-15T07:21:38.802Z"
   },
   {
    "duration": 37,
    "start_time": "2025-02-15T07:21:47.516Z"
   },
   {
    "duration": 20,
    "start_time": "2025-02-15T07:22:35.660Z"
   },
   {
    "duration": 542,
    "start_time": "2025-02-15T07:23:05.995Z"
   },
   {
    "duration": 104,
    "start_time": "2025-02-15T07:23:15.103Z"
   },
   {
    "duration": 15,
    "start_time": "2025-02-15T07:23:28.211Z"
   },
   {
    "duration": 24,
    "start_time": "2025-02-15T07:23:35.464Z"
   },
   {
    "duration": 30,
    "start_time": "2025-02-15T07:25:07.973Z"
   },
   {
    "duration": 19,
    "start_time": "2025-02-15T07:26:28.452Z"
   },
   {
    "duration": 548,
    "start_time": "2025-02-15T07:26:47.886Z"
   },
   {
    "duration": 109,
    "start_time": "2025-02-15T07:26:51.184Z"
   },
   {
    "duration": 15,
    "start_time": "2025-02-15T07:26:58.257Z"
   },
   {
    "duration": 24,
    "start_time": "2025-02-15T07:27:07.780Z"
   },
   {
    "duration": 18,
    "start_time": "2025-02-15T07:27:26.120Z"
   },
   {
    "duration": 34,
    "start_time": "2025-02-15T07:27:41.725Z"
   },
   {
    "duration": 11,
    "start_time": "2025-02-15T07:28:11.592Z"
   },
   {
    "duration": 17,
    "start_time": "2025-02-15T07:28:24.883Z"
   },
   {
    "duration": 10,
    "start_time": "2025-02-15T07:28:57.995Z"
   },
   {
    "duration": 13,
    "start_time": "2025-02-15T07:29:05.335Z"
   },
   {
    "duration": 7,
    "start_time": "2025-02-15T07:29:14.284Z"
   },
   {
    "duration": 5,
    "start_time": "2025-02-15T07:29:17.018Z"
   },
   {
    "duration": 19,
    "start_time": "2025-02-15T07:29:20.744Z"
   },
   {
    "duration": 18,
    "start_time": "2025-02-15T07:31:47.906Z"
   },
   {
    "duration": 17,
    "start_time": "2025-02-15T07:35:27.961Z"
   },
   {
    "duration": 20,
    "start_time": "2025-02-15T07:38:29.795Z"
   },
   {
    "duration": 19,
    "start_time": "2025-02-15T07:38:38.022Z"
   },
   {
    "duration": 16,
    "start_time": "2025-02-15T07:38:46.542Z"
   },
   {
    "duration": 122,
    "start_time": "2025-02-15T08:03:36.704Z"
   },
   {
    "duration": 109,
    "start_time": "2025-02-15T08:03:39.543Z"
   },
   {
    "duration": 15,
    "start_time": "2025-02-15T08:03:44.763Z"
   },
   {
    "duration": 22,
    "start_time": "2025-02-15T08:03:50.246Z"
   },
   {
    "duration": 18,
    "start_time": "2025-02-15T08:03:58.811Z"
   },
   {
    "duration": 34,
    "start_time": "2025-02-15T08:04:03.688Z"
   },
   {
    "duration": 11,
    "start_time": "2025-02-15T08:04:07.917Z"
   },
   {
    "duration": 13,
    "start_time": "2025-02-15T08:04:11.983Z"
   },
   {
    "duration": 9,
    "start_time": "2025-02-15T08:04:22.115Z"
   },
   {
    "duration": 12,
    "start_time": "2025-02-15T08:04:24.799Z"
   },
   {
    "duration": 7,
    "start_time": "2025-02-15T08:04:26.422Z"
   },
   {
    "duration": 5,
    "start_time": "2025-02-15T08:04:29.125Z"
   },
   {
    "duration": 22,
    "start_time": "2025-02-15T08:04:56.036Z"
   },
   {
    "duration": 73,
    "start_time": "2025-02-15T08:05:54.420Z"
   },
   {
    "duration": 19,
    "start_time": "2025-02-15T08:06:06.100Z"
   },
   {
    "duration": 18,
    "start_time": "2025-02-15T08:06:50.381Z"
   },
   {
    "duration": 640,
    "start_time": "2025-02-15T08:07:38.122Z"
   },
   {
    "duration": 17,
    "start_time": "2025-02-15T08:07:46.294Z"
   },
   {
    "duration": 17,
    "start_time": "2025-02-15T08:09:14.673Z"
   },
   {
    "duration": 1356,
    "start_time": "2025-02-15T08:11:15.143Z"
   },
   {
    "duration": 7,
    "start_time": "2025-02-15T08:12:05.821Z"
   },
   {
    "duration": 406,
    "start_time": "2025-02-15T08:15:03.210Z"
   },
   {
    "duration": 18,
    "start_time": "2025-02-15T08:22:46.770Z"
   },
   {
    "duration": 1325,
    "start_time": "2025-02-15T08:23:23.482Z"
   },
   {
    "duration": 22,
    "start_time": "2025-02-15T08:25:44.162Z"
   },
   {
    "duration": 12,
    "start_time": "2025-02-15T08:32:07.799Z"
   },
   {
    "duration": 11,
    "start_time": "2025-02-15T08:32:27.028Z"
   },
   {
    "duration": 11,
    "start_time": "2025-02-15T08:33:27.068Z"
   },
   {
    "duration": 12,
    "start_time": "2025-02-15T08:34:07.871Z"
   },
   {
    "duration": 9,
    "start_time": "2025-02-15T08:34:29.694Z"
   },
   {
    "duration": 9,
    "start_time": "2025-02-15T08:34:57.791Z"
   },
   {
    "duration": 11,
    "start_time": "2025-02-15T08:35:11.705Z"
   },
   {
    "duration": 9,
    "start_time": "2025-02-15T08:35:26.538Z"
   },
   {
    "duration": 9,
    "start_time": "2025-02-15T08:35:37.016Z"
   },
   {
    "duration": 9,
    "start_time": "2025-02-15T08:35:58.402Z"
   },
   {
    "duration": 11,
    "start_time": "2025-02-15T08:44:10.437Z"
   },
   {
    "duration": 10,
    "start_time": "2025-02-15T08:47:04.838Z"
   },
   {
    "duration": 15,
    "start_time": "2025-02-15T08:49:21.249Z"
   },
   {
    "duration": 11,
    "start_time": "2025-02-15T08:49:40.078Z"
   },
   {
    "duration": 10,
    "start_time": "2025-02-15T08:49:45.748Z"
   },
   {
    "duration": 80,
    "start_time": "2025-02-15T08:56:23.310Z"
   },
   {
    "duration": 65,
    "start_time": "2025-02-15T08:57:03.713Z"
   },
   {
    "duration": 15,
    "start_time": "2025-02-15T08:57:20.588Z"
   },
   {
    "duration": 13,
    "start_time": "2025-02-15T08:58:25.430Z"
   },
   {
    "duration": 13,
    "start_time": "2025-02-15T08:58:46.455Z"
   },
   {
    "duration": 21,
    "start_time": "2025-02-15T09:03:14.530Z"
   },
   {
    "duration": 20,
    "start_time": "2025-02-15T09:03:54.646Z"
   },
   {
    "duration": 5,
    "start_time": "2025-02-15T09:04:46.550Z"
   },
   {
    "duration": 22,
    "start_time": "2025-02-15T09:04:58.153Z"
   },
   {
    "duration": 17,
    "start_time": "2025-02-15T09:05:20.605Z"
   },
   {
    "duration": 82,
    "start_time": "2025-02-15T09:07:23.417Z"
   },
   {
    "duration": 18,
    "start_time": "2025-02-15T09:09:32.932Z"
   },
   {
    "duration": 85,
    "start_time": "2025-02-15T09:13:07.951Z"
   },
   {
    "duration": 70,
    "start_time": "2025-02-15T09:13:26.047Z"
   },
   {
    "duration": 67,
    "start_time": "2025-02-15T09:13:42.769Z"
   },
   {
    "duration": 18,
    "start_time": "2025-02-15T09:14:01.365Z"
   },
   {
    "duration": 17,
    "start_time": "2025-02-15T09:14:20.354Z"
   },
   {
    "duration": 17,
    "start_time": "2025-02-15T09:14:30.932Z"
   },
   {
    "duration": 9,
    "start_time": "2025-02-15T09:17:35.716Z"
   },
   {
    "duration": 21,
    "start_time": "2025-02-15T09:19:11.441Z"
   },
   {
    "duration": 33,
    "start_time": "2025-02-15T09:19:38.798Z"
   },
   {
    "duration": 40,
    "start_time": "2025-02-15T09:19:57.856Z"
   },
   {
    "duration": 43,
    "start_time": "2025-02-15T09:20:30.553Z"
   },
   {
    "duration": 41,
    "start_time": "2025-02-15T09:21:20.526Z"
   },
   {
    "duration": 14,
    "start_time": "2025-02-15T09:33:16.811Z"
   },
   {
    "duration": 19,
    "start_time": "2025-02-15T09:34:11.376Z"
   },
   {
    "duration": 66,
    "start_time": "2025-02-15T09:37:38.003Z"
   },
   {
    "duration": 67,
    "start_time": "2025-02-15T09:40:10.826Z"
   },
   {
    "duration": 55,
    "start_time": "2025-02-15T09:40:58.571Z"
   },
   {
    "duration": 54,
    "start_time": "2025-02-15T09:41:00.476Z"
   },
   {
    "duration": 86,
    "start_time": "2025-02-15T09:41:28.983Z"
   },
   {
    "duration": 9,
    "start_time": "2025-02-15T09:46:11.312Z"
   },
   {
    "duration": 12,
    "start_time": "2025-02-15T09:46:40.647Z"
   },
   {
    "duration": 15,
    "start_time": "2025-02-15T09:46:50.854Z"
   },
   {
    "duration": 13,
    "start_time": "2025-02-15T09:47:23.586Z"
   },
   {
    "duration": 14,
    "start_time": "2025-02-15T09:47:38.157Z"
   },
   {
    "duration": 15,
    "start_time": "2025-02-15T10:03:17.265Z"
   },
   {
    "duration": 16,
    "start_time": "2025-02-15T10:05:39.191Z"
   },
   {
    "duration": 12,
    "start_time": "2025-02-15T10:05:54.404Z"
   },
   {
    "duration": 13,
    "start_time": "2025-02-15T10:06:06.033Z"
   },
   {
    "duration": 9,
    "start_time": "2025-02-15T10:12:49.631Z"
   },
   {
    "duration": 17,
    "start_time": "2025-02-15T10:14:38.153Z"
   },
   {
    "duration": 17,
    "start_time": "2025-02-15T10:15:12.936Z"
   },
   {
    "duration": 18,
    "start_time": "2025-02-15T10:16:18.801Z"
   },
   {
    "duration": 15,
    "start_time": "2025-02-15T10:17:05.386Z"
   },
   {
    "duration": 16,
    "start_time": "2025-02-15T10:20:10.613Z"
   },
   {
    "duration": 16,
    "start_time": "2025-02-15T10:20:14.126Z"
   },
   {
    "duration": 19,
    "start_time": "2025-02-15T10:23:46.894Z"
   },
   {
    "duration": 20,
    "start_time": "2025-02-15T10:24:11.561Z"
   },
   {
    "duration": 72,
    "start_time": "2025-02-15T10:25:38.690Z"
   },
   {
    "duration": 13,
    "start_time": "2025-02-15T10:26:12.082Z"
   },
   {
    "duration": 8,
    "start_time": "2025-02-15T10:27:10.716Z"
   },
   {
    "duration": 7,
    "start_time": "2025-02-15T10:27:26.917Z"
   },
   {
    "duration": 18,
    "start_time": "2025-02-15T10:29:20.791Z"
   },
   {
    "duration": 21,
    "start_time": "2025-02-15T11:05:30.236Z"
   },
   {
    "duration": 20,
    "start_time": "2025-02-15T11:05:35.644Z"
   },
   {
    "duration": 17,
    "start_time": "2025-02-15T11:07:41.501Z"
   },
   {
    "duration": 34,
    "start_time": "2025-02-15T11:10:34.235Z"
   },
   {
    "duration": 31,
    "start_time": "2025-02-15T11:12:32.252Z"
   },
   {
    "duration": 87,
    "start_time": "2025-02-15T11:14:08.324Z"
   },
   {
    "duration": 22,
    "start_time": "2025-02-15T11:14:44.365Z"
   },
   {
    "duration": 33,
    "start_time": "2025-02-15T11:15:15.676Z"
   },
   {
    "duration": 20,
    "start_time": "2025-02-15T11:15:25.786Z"
   },
   {
    "duration": 50,
    "start_time": "2025-02-15T11:15:59.681Z"
   },
   {
    "duration": 32,
    "start_time": "2025-02-15T11:16:28.915Z"
   },
   {
    "duration": 95,
    "start_time": "2025-02-15T11:21:39.659Z"
   },
   {
    "duration": 99,
    "start_time": "2025-02-15T11:26:59.881Z"
   },
   {
    "duration": 105,
    "start_time": "2025-02-15T11:27:17.420Z"
   },
   {
    "duration": 95,
    "start_time": "2025-02-15T11:30:59.906Z"
   },
   {
    "duration": 108,
    "start_time": "2025-02-15T11:31:11.085Z"
   },
   {
    "duration": 110,
    "start_time": "2025-02-15T11:31:30.066Z"
   },
   {
    "duration": 103,
    "start_time": "2025-02-15T11:31:39.836Z"
   },
   {
    "duration": 105,
    "start_time": "2025-02-15T11:31:49.544Z"
   },
   {
    "duration": 105,
    "start_time": "2025-02-15T11:34:36.320Z"
   },
   {
    "duration": 106,
    "start_time": "2025-02-15T11:35:46.000Z"
   },
   {
    "duration": 110,
    "start_time": "2025-02-15T11:36:38.488Z"
   },
   {
    "duration": 166,
    "start_time": "2025-02-15T11:37:03.840Z"
   },
   {
    "duration": 107,
    "start_time": "2025-02-15T11:37:13.522Z"
   },
   {
    "duration": 108,
    "start_time": "2025-02-15T11:39:33.842Z"
   },
   {
    "duration": 103,
    "start_time": "2025-02-15T11:43:18.254Z"
   },
   {
    "duration": 2,
    "start_time": "2025-02-15T11:45:46.399Z"
   },
   {
    "duration": 109,
    "start_time": "2025-02-15T11:47:56.246Z"
   },
   {
    "duration": 117,
    "start_time": "2025-02-15T11:48:00.609Z"
   },
   {
    "duration": 118,
    "start_time": "2025-02-15T11:48:55.459Z"
   },
   {
    "duration": 123,
    "start_time": "2025-02-15T11:51:15.150Z"
   },
   {
    "duration": 115,
    "start_time": "2025-02-15T11:51:30.415Z"
   },
   {
    "duration": 119,
    "start_time": "2025-02-15T11:52:09.525Z"
   },
   {
    "duration": 105,
    "start_time": "2025-02-15T11:52:25.121Z"
   },
   {
    "duration": 107,
    "start_time": "2025-02-15T11:52:42.967Z"
   },
   {
    "duration": 103,
    "start_time": "2025-02-15T11:52:49.657Z"
   },
   {
    "duration": 83,
    "start_time": "2025-02-15T11:53:16.085Z"
   },
   {
    "duration": 12,
    "start_time": "2025-02-15T11:56:48.044Z"
   },
   {
    "duration": 54,
    "start_time": "2025-02-15T11:58:05.620Z"
   },
   {
    "duration": 12,
    "start_time": "2025-02-15T11:59:33.048Z"
   },
   {
    "duration": 12,
    "start_time": "2025-02-15T12:00:58.969Z"
   },
   {
    "duration": 9,
    "start_time": "2025-02-15T12:01:30.973Z"
   },
   {
    "duration": 530,
    "start_time": "2025-02-15T12:01:37.106Z"
   },
   {
    "duration": 1394,
    "start_time": "2025-02-15T12:01:48.764Z"
   },
   {
    "duration": 507,
    "start_time": "2025-02-15T12:02:05.918Z"
   },
   {
    "duration": 114,
    "start_time": "2025-02-15T12:02:06.428Z"
   },
   {
    "duration": 15,
    "start_time": "2025-02-15T12:02:06.544Z"
   },
   {
    "duration": 47,
    "start_time": "2025-02-15T12:02:06.561Z"
   },
   {
    "duration": 18,
    "start_time": "2025-02-15T12:02:06.611Z"
   },
   {
    "duration": 33,
    "start_time": "2025-02-15T12:02:06.631Z"
   },
   {
    "duration": 16,
    "start_time": "2025-02-15T12:02:06.666Z"
   },
   {
    "duration": 30,
    "start_time": "2025-02-15T12:02:06.684Z"
   },
   {
    "duration": 19,
    "start_time": "2025-02-15T12:02:06.716Z"
   },
   {
    "duration": 12,
    "start_time": "2025-02-15T12:02:06.737Z"
   },
   {
    "duration": 16,
    "start_time": "2025-02-15T12:02:06.751Z"
   },
   {
    "duration": 15,
    "start_time": "2025-02-15T12:02:06.769Z"
   },
   {
    "duration": 37,
    "start_time": "2025-02-15T12:02:06.786Z"
   },
   {
    "duration": 25,
    "start_time": "2025-02-15T12:02:06.825Z"
   },
   {
    "duration": 31,
    "start_time": "2025-02-15T12:02:06.852Z"
   },
   {
    "duration": 101,
    "start_time": "2025-02-15T12:02:06.885Z"
   },
   {
    "duration": 100,
    "start_time": "2025-02-15T12:02:42.890Z"
   },
   {
    "duration": 81,
    "start_time": "2025-02-15T12:15:04.892Z"
   },
   {
    "duration": 6,
    "start_time": "2025-02-15T12:15:33.007Z"
   },
   {
    "duration": 26,
    "start_time": "2025-02-15T12:15:40.502Z"
   },
   {
    "duration": 17,
    "start_time": "2025-02-15T12:16:06.895Z"
   },
   {
    "duration": 19,
    "start_time": "2025-02-15T12:16:16.237Z"
   },
   {
    "duration": 103,
    "start_time": "2025-02-15T12:16:39.641Z"
   },
   {
    "duration": 112,
    "start_time": "2025-02-15T12:16:49.081Z"
   },
   {
    "duration": 18,
    "start_time": "2025-02-15T12:18:00.494Z"
   },
   {
    "duration": 21,
    "start_time": "2025-02-15T12:18:08.437Z"
   },
   {
    "duration": 244,
    "start_time": "2025-02-15T12:21:22.710Z"
   },
   {
    "duration": 18,
    "start_time": "2025-02-15T12:21:44.382Z"
   },
   {
    "duration": 20,
    "start_time": "2025-02-15T12:22:53.099Z"
   },
   {
    "duration": 60,
    "start_time": "2025-02-15T12:23:15.544Z"
   },
   {
    "duration": 7,
    "start_time": "2025-02-15T12:24:17.376Z"
   },
   {
    "duration": 72,
    "start_time": "2025-02-15T14:27:12.099Z"
   },
   {
    "duration": 10,
    "start_time": "2025-02-15T14:28:13.526Z"
   },
   {
    "duration": 8,
    "start_time": "2025-02-15T14:29:49.028Z"
   },
   {
    "duration": 8,
    "start_time": "2025-02-15T14:34:23.977Z"
   },
   {
    "duration": 6,
    "start_time": "2025-02-15T14:35:45.462Z"
   },
   {
    "duration": 22,
    "start_time": "2025-02-15T14:36:01.632Z"
   },
   {
    "duration": 21,
    "start_time": "2025-02-15T14:37:14.988Z"
   },
   {
    "duration": 24,
    "start_time": "2025-02-15T14:37:25.652Z"
   },
   {
    "duration": 22,
    "start_time": "2025-02-15T14:40:12.184Z"
   },
   {
    "duration": 20,
    "start_time": "2025-02-15T14:41:20.260Z"
   },
   {
    "duration": 11,
    "start_time": "2025-02-15T14:42:18.888Z"
   },
   {
    "duration": 10,
    "start_time": "2025-02-15T14:46:30.673Z"
   },
   {
    "duration": 13,
    "start_time": "2025-02-15T14:47:08.702Z"
   },
   {
    "duration": 12,
    "start_time": "2025-02-15T14:47:21.505Z"
   },
   {
    "duration": 11,
    "start_time": "2025-02-15T14:47:47.696Z"
   },
   {
    "duration": 21,
    "start_time": "2025-02-15T14:48:01.918Z"
   },
   {
    "duration": 21,
    "start_time": "2025-02-15T14:50:11.319Z"
   },
   {
    "duration": 23,
    "start_time": "2025-02-15T14:50:17.091Z"
   },
   {
    "duration": 21,
    "start_time": "2025-02-15T14:50:42.900Z"
   },
   {
    "duration": 19,
    "start_time": "2025-02-15T14:50:54.909Z"
   },
   {
    "duration": 19,
    "start_time": "2025-02-15T14:50:59.245Z"
   },
   {
    "duration": 19,
    "start_time": "2025-02-15T14:51:09.716Z"
   },
   {
    "duration": 18,
    "start_time": "2025-02-15T14:51:21.118Z"
   },
   {
    "duration": 41,
    "start_time": "2025-02-15T14:53:30.786Z"
   },
   {
    "duration": 22,
    "start_time": "2025-02-15T14:53:51.042Z"
   },
   {
    "duration": 22,
    "start_time": "2025-02-15T14:54:39.324Z"
   },
   {
    "duration": 96,
    "start_time": "2025-02-15T14:59:47.749Z"
   },
   {
    "duration": 25,
    "start_time": "2025-02-15T15:00:15.764Z"
   },
   {
    "duration": 21,
    "start_time": "2025-02-15T15:03:38.934Z"
   },
   {
    "duration": 24,
    "start_time": "2025-02-15T15:03:45.977Z"
   },
   {
    "duration": 17,
    "start_time": "2025-02-15T15:06:48.694Z"
   },
   {
    "duration": 22,
    "start_time": "2025-02-15T15:06:58.184Z"
   },
   {
    "duration": 26,
    "start_time": "2025-02-15T15:12:01.638Z"
   },
   {
    "duration": 16,
    "start_time": "2025-02-15T15:12:31.335Z"
   },
   {
    "duration": 21,
    "start_time": "2025-02-15T15:12:42.176Z"
   },
   {
    "duration": 26,
    "start_time": "2025-02-15T15:18:04.354Z"
   },
   {
    "duration": 15,
    "start_time": "2025-02-15T15:19:00.293Z"
   },
   {
    "duration": 38,
    "start_time": "2025-02-15T15:19:19.420Z"
   },
   {
    "duration": 9,
    "start_time": "2025-02-15T15:20:15.519Z"
   },
   {
    "duration": 36,
    "start_time": "2025-02-15T15:20:27.724Z"
   },
   {
    "duration": 22,
    "start_time": "2025-02-15T15:21:42.008Z"
   },
   {
    "duration": 22,
    "start_time": "2025-02-15T15:21:53.219Z"
   },
   {
    "duration": 24,
    "start_time": "2025-02-15T15:21:57.717Z"
   },
   {
    "duration": 14,
    "start_time": "2025-02-15T15:22:21.090Z"
   },
   {
    "duration": 12,
    "start_time": "2025-02-15T15:24:07.412Z"
   },
   {
    "duration": 9,
    "start_time": "2025-02-15T15:24:25.135Z"
   },
   {
    "duration": 12,
    "start_time": "2025-02-15T15:26:21.536Z"
   },
   {
    "duration": 87,
    "start_time": "2025-02-15T15:26:28.642Z"
   },
   {
    "duration": 10,
    "start_time": "2025-02-15T15:26:40.306Z"
   },
   {
    "duration": 10,
    "start_time": "2025-02-15T15:29:35.440Z"
   },
   {
    "duration": 13,
    "start_time": "2025-02-15T15:30:03.773Z"
   },
   {
    "duration": 10,
    "start_time": "2025-02-15T15:30:24.045Z"
   },
   {
    "duration": 63,
    "start_time": "2025-02-15T18:10:56.953Z"
   },
   {
    "duration": 580,
    "start_time": "2025-02-15T18:11:05.961Z"
   },
   {
    "duration": 29,
    "start_time": "2025-02-15T18:11:15.597Z"
   },
   {
    "duration": 548,
    "start_time": "2025-02-15T18:13:29.352Z"
   },
   {
    "duration": 125,
    "start_time": "2025-02-15T18:13:32.887Z"
   },
   {
    "duration": 67,
    "start_time": "2025-02-15T18:13:45.832Z"
   },
   {
    "duration": 250,
    "start_time": "2025-02-15T18:13:55.444Z"
   },
   {
    "duration": 14,
    "start_time": "2025-02-15T18:13:58.819Z"
   },
   {
    "duration": 23,
    "start_time": "2025-02-15T18:14:01.590Z"
   },
   {
    "duration": 18,
    "start_time": "2025-02-15T18:14:04.236Z"
   },
   {
    "duration": 31,
    "start_time": "2025-02-15T18:14:06.401Z"
   },
   {
    "duration": 10,
    "start_time": "2025-02-15T18:14:11.865Z"
   },
   {
    "duration": 13,
    "start_time": "2025-02-15T18:14:13.779Z"
   },
   {
    "duration": 8,
    "start_time": "2025-02-15T18:14:17.143Z"
   },
   {
    "duration": 12,
    "start_time": "2025-02-15T18:14:20.319Z"
   },
   {
    "duration": 7,
    "start_time": "2025-02-15T18:14:22.201Z"
   },
   {
    "duration": 5,
    "start_time": "2025-02-15T18:14:23.768Z"
   },
   {
    "duration": 23,
    "start_time": "2025-02-15T18:14:26.091Z"
   },
   {
    "duration": 18,
    "start_time": "2025-02-15T18:14:30.063Z"
   },
   {
    "duration": 19,
    "start_time": "2025-02-15T18:14:34.195Z"
   },
   {
    "duration": 94,
    "start_time": "2025-02-15T18:14:39.233Z"
   },
   {
    "duration": 7,
    "start_time": "2025-02-15T18:14:44.128Z"
   },
   {
    "duration": 25,
    "start_time": "2025-02-15T18:14:47.502Z"
   },
   {
    "duration": 21,
    "start_time": "2025-02-15T18:14:51.248Z"
   },
   {
    "duration": 21,
    "start_time": "2025-02-15T18:14:57.222Z"
   },
   {
    "duration": 20,
    "start_time": "2025-02-15T18:15:05.090Z"
   },
   {
    "duration": 42,
    "start_time": "2025-02-15T18:15:15.105Z"
   },
   {
    "duration": 28,
    "start_time": "2025-02-15T18:15:20.051Z"
   },
   {
    "duration": 28,
    "start_time": "2025-02-15T18:15:23.111Z"
   },
   {
    "duration": 30,
    "start_time": "2025-02-15T18:15:27.853Z"
   },
   {
    "duration": 20,
    "start_time": "2025-02-15T18:15:30.304Z"
   },
   {
    "duration": 20,
    "start_time": "2025-02-15T18:15:38.956Z"
   },
   {
    "duration": 20,
    "start_time": "2025-02-15T18:15:49.845Z"
   },
   {
    "duration": 20,
    "start_time": "2025-02-15T18:28:59.766Z"
   },
   {
    "duration": 10,
    "start_time": "2025-02-15T18:30:00.457Z"
   },
   {
    "duration": 11,
    "start_time": "2025-02-15T18:36:28.749Z"
   },
   {
    "duration": 6,
    "start_time": "2025-02-15T18:39:29.434Z"
   },
   {
    "duration": 10,
    "start_time": "2025-02-15T18:39:42.371Z"
   },
   {
    "duration": 21,
    "start_time": "2025-02-15T18:42:07.255Z"
   },
   {
    "duration": 12,
    "start_time": "2025-02-15T18:43:34.430Z"
   },
   {
    "duration": 12,
    "start_time": "2025-02-15T18:43:41.422Z"
   },
   {
    "duration": 12,
    "start_time": "2025-02-15T18:44:03.162Z"
   },
   {
    "duration": 12,
    "start_time": "2025-02-15T18:44:26.039Z"
   },
   {
    "duration": 10,
    "start_time": "2025-02-15T18:44:52.473Z"
   },
   {
    "duration": 21,
    "start_time": "2025-02-15T18:45:21.047Z"
   },
   {
    "duration": 35,
    "start_time": "2025-02-15T18:45:32.541Z"
   },
   {
    "duration": 26,
    "start_time": "2025-02-15T18:45:36.787Z"
   },
   {
    "duration": 20,
    "start_time": "2025-02-15T18:45:44.000Z"
   },
   {
    "duration": 30,
    "start_time": "2025-02-15T18:45:50.180Z"
   },
   {
    "duration": 582,
    "start_time": "2025-02-15T18:54:50.176Z"
   },
   {
    "duration": 123,
    "start_time": "2025-02-15T18:54:50.760Z"
   },
   {
    "duration": 14,
    "start_time": "2025-02-15T18:54:50.885Z"
   },
   {
    "duration": 42,
    "start_time": "2025-02-15T18:54:50.901Z"
   },
   {
    "duration": 22,
    "start_time": "2025-02-15T18:54:50.944Z"
   },
   {
    "duration": 32,
    "start_time": "2025-02-15T18:54:50.968Z"
   },
   {
    "duration": 48,
    "start_time": "2025-02-15T18:54:51.002Z"
   },
   {
    "duration": 125,
    "start_time": "2025-02-15T18:54:51.051Z"
   },
   {
    "duration": 46,
    "start_time": "2025-02-15T18:54:51.177Z"
   },
   {
    "duration": 19,
    "start_time": "2025-02-15T18:54:51.225Z"
   },
   {
    "duration": 26,
    "start_time": "2025-02-15T18:54:51.246Z"
   },
   {
    "duration": 110,
    "start_time": "2025-02-15T18:54:51.274Z"
   },
   {
    "duration": 42,
    "start_time": "2025-02-15T18:54:51.386Z"
   },
   {
    "duration": 22,
    "start_time": "2025-02-15T18:54:51.430Z"
   },
   {
    "duration": 33,
    "start_time": "2025-02-15T18:54:51.453Z"
   },
   {
    "duration": 92,
    "start_time": "2025-02-15T18:54:51.488Z"
   },
   {
    "duration": 8,
    "start_time": "2025-02-15T18:54:51.582Z"
   },
   {
    "duration": 129,
    "start_time": "2025-02-15T18:54:51.592Z"
   },
   {
    "duration": 52,
    "start_time": "2025-02-15T18:54:51.724Z"
   },
   {
    "duration": 18,
    "start_time": "2025-02-15T18:54:51.778Z"
   },
   {
    "duration": 13,
    "start_time": "2025-02-15T18:54:51.799Z"
   },
   {
    "duration": 542,
    "start_time": "2025-02-15T18:55:02.892Z"
   },
   {
    "duration": 147,
    "start_time": "2025-02-15T18:55:03.436Z"
   },
   {
    "duration": 19,
    "start_time": "2025-02-15T18:55:03.585Z"
   },
   {
    "duration": 156,
    "start_time": "2025-02-15T18:55:03.606Z"
   },
   {
    "duration": 19,
    "start_time": "2025-02-15T18:55:03.764Z"
   },
   {
    "duration": 33,
    "start_time": "2025-02-15T18:55:03.785Z"
   },
   {
    "duration": 44,
    "start_time": "2025-02-15T18:55:03.820Z"
   },
   {
    "duration": 15,
    "start_time": "2025-02-15T18:55:03.866Z"
   },
   {
    "duration": 10,
    "start_time": "2025-02-15T18:55:03.883Z"
   },
   {
    "duration": 14,
    "start_time": "2025-02-15T18:55:03.894Z"
   },
   {
    "duration": 28,
    "start_time": "2025-02-15T18:55:03.910Z"
   },
   {
    "duration": 17,
    "start_time": "2025-02-15T18:55:03.940Z"
   },
   {
    "duration": 19,
    "start_time": "2025-02-15T18:55:03.959Z"
   },
   {
    "duration": 53,
    "start_time": "2025-02-15T18:55:03.980Z"
   },
   {
    "duration": 22,
    "start_time": "2025-02-15T18:55:04.035Z"
   },
   {
    "duration": 100,
    "start_time": "2025-02-15T18:55:04.058Z"
   },
   {
    "duration": 7,
    "start_time": "2025-02-15T18:55:04.159Z"
   },
   {
    "duration": 22,
    "start_time": "2025-02-15T18:55:04.168Z"
   },
   {
    "duration": 65,
    "start_time": "2025-02-15T18:55:04.191Z"
   },
   {
    "duration": 17,
    "start_time": "2025-02-15T18:55:04.258Z"
   },
   {
    "duration": 9,
    "start_time": "2025-02-15T18:55:04.277Z"
   },
   {
    "duration": 540,
    "start_time": "2025-02-16T09:20:23.097Z"
   },
   {
    "duration": 96,
    "start_time": "2025-02-16T09:20:23.639Z"
   },
   {
    "duration": 12,
    "start_time": "2025-02-16T09:20:23.737Z"
   },
   {
    "duration": 21,
    "start_time": "2025-02-16T09:20:23.751Z"
   },
   {
    "duration": 27,
    "start_time": "2025-02-16T09:20:23.773Z"
   },
   {
    "duration": 27,
    "start_time": "2025-02-16T09:20:23.802Z"
   },
   {
    "duration": 9,
    "start_time": "2025-02-16T09:20:23.830Z"
   },
   {
    "duration": 35,
    "start_time": "2025-02-16T09:20:23.840Z"
   },
   {
    "duration": 15,
    "start_time": "2025-02-16T09:20:23.877Z"
   },
   {
    "duration": 13,
    "start_time": "2025-02-16T09:20:23.895Z"
   },
   {
    "duration": 6,
    "start_time": "2025-02-16T09:20:23.909Z"
   },
   {
    "duration": 4,
    "start_time": "2025-02-16T09:20:23.916Z"
   },
   {
    "duration": 16,
    "start_time": "2025-02-16T09:20:23.921Z"
   },
   {
    "duration": 50,
    "start_time": "2025-02-16T09:20:23.938Z"
   },
   {
    "duration": 20,
    "start_time": "2025-02-16T09:20:23.990Z"
   },
   {
    "duration": 107,
    "start_time": "2025-02-16T09:20:24.012Z"
   },
   {
    "duration": 6,
    "start_time": "2025-02-16T09:20:24.121Z"
   },
   {
    "duration": 18,
    "start_time": "2025-02-16T09:20:24.128Z"
   },
   {
    "duration": 57,
    "start_time": "2025-02-16T09:20:24.148Z"
   },
   {
    "duration": 16,
    "start_time": "2025-02-16T09:20:24.206Z"
   },
   {
    "duration": 9,
    "start_time": "2025-02-16T09:20:24.224Z"
   },
   {
    "duration": 49,
    "start_time": "2025-02-16T10:04:02.675Z"
   },
   {
    "duration": 478,
    "start_time": "2025-02-16T10:04:06.568Z"
   },
   {
    "duration": 14,
    "start_time": "2025-02-16T10:04:09.712Z"
   },
   {
    "duration": 93,
    "start_time": "2025-02-16T10:04:14.493Z"
   },
   {
    "duration": 97,
    "start_time": "2025-02-16T10:09:44.352Z"
   },
   {
    "duration": 3,
    "start_time": "2025-02-16T10:11:37.337Z"
   },
   {
    "duration": 79,
    "start_time": "2025-02-16T10:11:39.344Z"
   },
   {
    "duration": 2,
    "start_time": "2025-02-16T10:11:40.967Z"
   },
   {
    "duration": 59,
    "start_time": "2025-02-16T10:12:18.519Z"
   },
   {
    "duration": 37,
    "start_time": "2025-02-16T10:18:59.951Z"
   },
   {
    "duration": 58,
    "start_time": "2025-02-16T10:21:03.958Z"
   },
   {
    "duration": 67,
    "start_time": "2025-02-16T10:21:13.533Z"
   },
   {
    "duration": 59,
    "start_time": "2025-02-16T10:21:18.957Z"
   },
   {
    "duration": 54,
    "start_time": "2025-02-16T10:22:31.684Z"
   },
   {
    "duration": 59,
    "start_time": "2025-02-16T10:26:07.324Z"
   },
   {
    "duration": 44,
    "start_time": "2025-02-16T10:26:32.180Z"
   },
   {
    "duration": 2,
    "start_time": "2025-02-16T10:26:34.801Z"
   },
   {
    "duration": 14,
    "start_time": "2025-02-16T10:26:38.341Z"
   },
   {
    "duration": 15,
    "start_time": "2025-02-16T10:26:42.145Z"
   },
   {
    "duration": 13,
    "start_time": "2025-02-16T10:37:08.124Z"
   },
   {
    "duration": 21,
    "start_time": "2025-02-16T10:37:18.605Z"
   },
   {
    "duration": 15,
    "start_time": "2025-02-16T10:37:21.253Z"
   },
   {
    "duration": 29,
    "start_time": "2025-02-16T10:37:24.193Z"
   },
   {
    "duration": 10,
    "start_time": "2025-02-16T10:37:35.495Z"
   },
   {
    "duration": 11,
    "start_time": "2025-02-16T10:37:38.226Z"
   },
   {
    "duration": 10,
    "start_time": "2025-02-16T10:37:47.275Z"
   },
   {
    "duration": 84,
    "start_time": "2025-02-16T10:40:48.454Z"
   },
   {
    "duration": 7,
    "start_time": "2025-02-16T10:42:27.109Z"
   },
   {
    "duration": 9,
    "start_time": "2025-02-16T10:42:36.342Z"
   },
   {
    "duration": 4,
    "start_time": "2025-02-16T10:43:22.412Z"
   },
   {
    "duration": 8,
    "start_time": "2025-02-16T10:43:46.546Z"
   },
   {
    "duration": 7,
    "start_time": "2025-02-16T10:43:56.465Z"
   },
   {
    "duration": 8,
    "start_time": "2025-02-16T10:44:06.931Z"
   },
   {
    "duration": 5,
    "start_time": "2025-02-16T10:45:00.732Z"
   },
   {
    "duration": 5,
    "start_time": "2025-02-16T10:45:10.466Z"
   },
   {
    "duration": 62,
    "start_time": "2025-02-16T10:45:33.536Z"
   },
   {
    "duration": 12,
    "start_time": "2025-02-16T10:46:08.983Z"
   },
   {
    "duration": 5,
    "start_time": "2025-02-16T10:47:14.523Z"
   },
   {
    "duration": 6,
    "start_time": "2025-02-16T10:47:16.198Z"
   },
   {
    "duration": 17,
    "start_time": "2025-02-16T10:47:20.404Z"
   },
   {
    "duration": 17,
    "start_time": "2025-02-16T10:47:23.698Z"
   },
   {
    "duration": 67,
    "start_time": "2025-02-16T10:53:10.710Z"
   },
   {
    "duration": 10,
    "start_time": "2025-02-16T10:53:41.619Z"
   },
   {
    "duration": 6,
    "start_time": "2025-02-16T11:03:19.072Z"
   },
   {
    "duration": 5,
    "start_time": "2025-02-16T11:03:21.137Z"
   },
   {
    "duration": 16,
    "start_time": "2025-02-16T11:03:23.662Z"
   },
   {
    "duration": 16,
    "start_time": "2025-02-16T11:03:28.608Z"
   },
   {
    "duration": 16,
    "start_time": "2025-02-16T11:03:40.876Z"
   },
   {
    "duration": 84,
    "start_time": "2025-02-16T11:03:48.489Z"
   },
   {
    "duration": 78,
    "start_time": "2025-02-16T11:09:40.284Z"
   },
   {
    "duration": 81,
    "start_time": "2025-02-16T11:10:11.948Z"
   },
   {
    "duration": 76,
    "start_time": "2025-02-16T11:10:54.756Z"
   },
   {
    "duration": 66,
    "start_time": "2025-02-16T11:16:02.953Z"
   },
   {
    "duration": 6,
    "start_time": "2025-02-16T11:17:38.096Z"
   },
   {
    "duration": 67,
    "start_time": "2025-02-16T11:18:17.821Z"
   },
   {
    "duration": 66,
    "start_time": "2025-02-16T11:18:20.844Z"
   },
   {
    "duration": 8,
    "start_time": "2025-02-16T11:18:34.745Z"
   },
   {
    "duration": 20,
    "start_time": "2025-02-16T11:18:58.471Z"
   },
   {
    "duration": 3,
    "start_time": "2025-02-16T11:19:07.396Z"
   },
   {
    "duration": 19,
    "start_time": "2025-02-16T11:19:14.724Z"
   },
   {
    "duration": 73,
    "start_time": "2025-02-16T11:19:57.775Z"
   },
   {
    "duration": 59,
    "start_time": "2025-02-16T11:21:23.345Z"
   },
   {
    "duration": 17,
    "start_time": "2025-02-16T11:21:43.180Z"
   },
   {
    "duration": 32,
    "start_time": "2025-02-16T11:22:34.817Z"
   },
   {
    "duration": 15,
    "start_time": "2025-02-16T11:22:37.696Z"
   },
   {
    "duration": 8,
    "start_time": "2025-02-16T11:22:43.423Z"
   },
   {
    "duration": 115,
    "start_time": "2025-02-16T11:38:01.044Z"
   },
   {
    "duration": 71,
    "start_time": "2025-02-16T13:10:26.011Z"
   },
   {
    "duration": 0,
    "start_time": "2025-02-16T13:10:26.085Z"
   },
   {
    "duration": 0,
    "start_time": "2025-02-16T13:10:26.086Z"
   },
   {
    "duration": 0,
    "start_time": "2025-02-16T13:10:26.088Z"
   },
   {
    "duration": 0,
    "start_time": "2025-02-16T13:10:26.088Z"
   },
   {
    "duration": 0,
    "start_time": "2025-02-16T13:10:26.090Z"
   },
   {
    "duration": 0,
    "start_time": "2025-02-16T13:10:26.091Z"
   },
   {
    "duration": 0,
    "start_time": "2025-02-16T13:10:26.092Z"
   },
   {
    "duration": 0,
    "start_time": "2025-02-16T13:10:26.093Z"
   },
   {
    "duration": 0,
    "start_time": "2025-02-16T13:10:26.094Z"
   },
   {
    "duration": 0,
    "start_time": "2025-02-16T13:10:26.096Z"
   },
   {
    "duration": 0,
    "start_time": "2025-02-16T13:10:26.097Z"
   },
   {
    "duration": 0,
    "start_time": "2025-02-16T13:10:26.132Z"
   },
   {
    "duration": 0,
    "start_time": "2025-02-16T13:10:26.134Z"
   },
   {
    "duration": 0,
    "start_time": "2025-02-16T13:10:26.135Z"
   },
   {
    "duration": 0,
    "start_time": "2025-02-16T13:10:26.136Z"
   },
   {
    "duration": 0,
    "start_time": "2025-02-16T13:10:26.137Z"
   },
   {
    "duration": 0,
    "start_time": "2025-02-16T13:10:26.138Z"
   },
   {
    "duration": 0,
    "start_time": "2025-02-16T13:10:26.139Z"
   },
   {
    "duration": 0,
    "start_time": "2025-02-16T13:10:26.140Z"
   },
   {
    "duration": 0,
    "start_time": "2025-02-16T13:10:26.142Z"
   },
   {
    "duration": 0,
    "start_time": "2025-02-16T13:10:26.143Z"
   },
   {
    "duration": 1,
    "start_time": "2025-02-16T13:10:26.143Z"
   },
   {
    "duration": 0,
    "start_time": "2025-02-16T13:10:26.145Z"
   },
   {
    "duration": 0,
    "start_time": "2025-02-16T13:10:26.145Z"
   },
   {
    "duration": 0,
    "start_time": "2025-02-16T13:10:26.147Z"
   },
   {
    "duration": 7,
    "start_time": "2025-02-16T14:38:36.801Z"
   },
   {
    "duration": 12,
    "start_time": "2025-02-16T14:39:04.400Z"
   },
   {
    "duration": 384,
    "start_time": "2025-02-16T14:39:48.797Z"
   },
   {
    "duration": 51,
    "start_time": "2025-02-16T14:39:50.813Z"
   },
   {
    "duration": 3,
    "start_time": "2025-02-16T14:39:53.662Z"
   },
   {
    "duration": 47,
    "start_time": "2025-02-16T14:40:03.648Z"
   },
   {
    "duration": 39,
    "start_time": "2025-02-16T14:40:17.277Z"
   },
   {
    "duration": 45,
    "start_time": "2025-02-16T14:42:27.369Z"
   },
   {
    "duration": 449,
    "start_time": "2025-02-16T14:42:40.125Z"
   },
   {
    "duration": 49,
    "start_time": "2025-02-16T14:42:40.576Z"
   },
   {
    "duration": 22,
    "start_time": "2025-02-16T14:42:40.627Z"
   },
   {
    "duration": 27,
    "start_time": "2025-02-16T14:42:40.650Z"
   },
   {
    "duration": 13,
    "start_time": "2025-02-16T14:42:40.680Z"
   },
   {
    "duration": 28,
    "start_time": "2025-02-16T14:42:40.695Z"
   },
   {
    "duration": 31,
    "start_time": "2025-02-16T14:42:40.725Z"
   },
   {
    "duration": 32,
    "start_time": "2025-02-16T14:42:40.757Z"
   },
   {
    "duration": 12,
    "start_time": "2025-02-16T14:42:40.791Z"
   },
   {
    "duration": 13,
    "start_time": "2025-02-16T14:42:40.804Z"
   },
   {
    "duration": 42,
    "start_time": "2025-02-16T14:42:40.819Z"
   },
   {
    "duration": 7,
    "start_time": "2025-02-16T14:42:40.863Z"
   },
   {
    "duration": 6,
    "start_time": "2025-02-16T14:42:40.872Z"
   },
   {
    "duration": 31,
    "start_time": "2025-02-16T14:42:40.880Z"
   },
   {
    "duration": 16,
    "start_time": "2025-02-16T14:42:40.913Z"
   },
   {
    "duration": 5,
    "start_time": "2025-02-16T14:42:40.931Z"
   },
   {
    "duration": 24,
    "start_time": "2025-02-16T14:42:40.938Z"
   },
   {
    "duration": 17,
    "start_time": "2025-02-16T14:42:40.964Z"
   },
   {
    "duration": 34,
    "start_time": "2025-02-16T14:42:40.983Z"
   },
   {
    "duration": 101,
    "start_time": "2025-02-16T14:42:41.018Z"
   },
   {
    "duration": 8,
    "start_time": "2025-02-16T14:42:41.121Z"
   },
   {
    "duration": 2,
    "start_time": "2025-02-16T14:42:41.131Z"
   },
   {
    "duration": 34,
    "start_time": "2025-02-16T14:42:41.135Z"
   },
   {
    "duration": 39,
    "start_time": "2025-02-16T14:42:41.170Z"
   },
   {
    "duration": 38,
    "start_time": "2025-02-16T14:42:41.211Z"
   },
   {
    "duration": 10,
    "start_time": "2025-02-16T14:42:41.251Z"
   }
  ],
  "colab": {
   "provenance": []
  },
  "kernelspec": {
   "display_name": "Python 3 (ipykernel)",
   "language": "python",
   "name": "python3"
  },
  "language_info": {
   "codemirror_mode": {
    "name": "ipython",
    "version": 3
   },
   "file_extension": ".py",
   "mimetype": "text/x-python",
   "name": "python",
   "nbconvert_exporter": "python",
   "pygments_lexer": "ipython3",
   "version": "3.9.7"
  },
  "toc": {
   "base_numbering": "1",
   "nav_menu": {},
   "number_sections": false,
   "sideBar": true,
   "skip_h1_title": false,
   "title_cell": "Table of Contents",
   "title_sidebar": "Contents",
   "toc_cell": false,
   "toc_position": {},
   "toc_section_display": true,
   "toc_window_display": true
  }
 },
 "nbformat": 4,
 "nbformat_minor": 5
}
